{
 "cells": [
  {
   "cell_type": "markdown",
   "id": "03c1db46-9ec6-4425-9ee1-97d0df54a34a",
   "metadata": {},
   "source": [
    "# Imports"
   ]
  },
  {
   "cell_type": "code",
   "execution_count": 1,
   "id": "de09e411",
   "metadata": {},
   "outputs": [
    {
     "name": "stderr",
     "output_type": "stream",
     "text": [
      "2024-05-01 10:49:23.863132: I external/local_tsl/tsl/cuda/cudart_stub.cc:31] Could not find cuda drivers on your machine, GPU will not be used.\n",
      "2024-05-01 10:49:24.057285: E external/local_xla/xla/stream_executor/cuda/cuda_dnn.cc:9261] Unable to register cuDNN factory: Attempting to register factory for plugin cuDNN when one has already been registered\n",
      "2024-05-01 10:49:24.057355: E external/local_xla/xla/stream_executor/cuda/cuda_fft.cc:607] Unable to register cuFFT factory: Attempting to register factory for plugin cuFFT when one has already been registered\n",
      "2024-05-01 10:49:24.088748: E external/local_xla/xla/stream_executor/cuda/cuda_blas.cc:1515] Unable to register cuBLAS factory: Attempting to register factory for plugin cuBLAS when one has already been registered\n",
      "2024-05-01 10:49:24.155090: I tensorflow/core/platform/cpu_feature_guard.cc:182] This TensorFlow binary is optimized to use available CPU instructions in performance-critical operations.\n",
      "To enable the following instructions: AVX2 FMA, in other operations, rebuild TensorFlow with the appropriate compiler flags.\n",
      "2024-05-01 10:49:25.039702: W tensorflow/compiler/tf2tensorrt/utils/py_utils.cc:38] TF-TRT Warning: Could not find TensorRT\n"
     ]
    }
   ],
   "source": [
    "import torch\n",
    "import pandas as pd\n",
    "import datasets\n",
    "import evaluate\n",
    "import numpy as np\n",
    "from datasets import load_dataset\n",
    "import ipywidgets as widgets\n",
    "from transformers import TrainingArguments, Trainer, DataCollatorWithPadding\n",
    "from transformers import AutoModelForSequenceClassification, AutoTokenizer\n",
    "\n",
    "from pysentimiento.preprocessing import preprocess_tweet\n",
    "from sklearn.metrics import classification_report\n",
    "\n",
    "from tqdm.notebook import tqdm\n",
    "from sklearn.metrics import confusion_matrix\n",
    "\n",
    "import unicodedata"
   ]
  },
  {
   "cell_type": "code",
   "execution_count": 2,
   "id": "9aedfb67-0d1e-4b11-ad16-22e17ef24b3c",
   "metadata": {},
   "outputs": [],
   "source": [
    "#pip install torch==2.0.0\n",
    "#pip install pysentimiento==0.7.2\n",
    "#pip install evaluate==0.4.0\n",
    "#pip install datasets==2.14.5\n",
    "#!pip install unidecode"
   ]
  },
  {
   "cell_type": "code",
   "execution_count": 3,
   "id": "bbffc10f-3389-44e6-b810-260a1d5415f7",
   "metadata": {},
   "outputs": [],
   "source": [
    "#!pip install pysentimiento transformers datasets accelerate evaluate"
   ]
  },
  {
   "cell_type": "code",
   "execution_count": 87,
   "id": "345b5c2d-eaca-4be2-8336-5e05ae39e505",
   "metadata": {},
   "outputs": [],
   "source": [
    "pd.set_option(\"max_colwidth\", 300)"
   ]
  },
  {
   "cell_type": "markdown",
   "id": "210055eb-1903-40c7-ab6b-6fb963f0c9e1",
   "metadata": {},
   "source": [
    "> Three versions of RoBERTuito were trained: a cased version which preserves the case found in the original tweets, an uncased version, and a deacc version, which lower-cases and removes accents on tweets."
   ]
  },
  {
   "cell_type": "code",
   "execution_count": 5,
   "id": "a27bea32-15d6-4617-9d4b-1c2bb0587a96",
   "metadata": {},
   "outputs": [],
   "source": [
    "max_length = 128\n",
    "model_name = \"pysentimiento/robertuito-base-deacc\""
   ]
  },
  {
   "cell_type": "markdown",
   "id": "6bdab652-daae-4e0c-9bf8-c8c3bd670349",
   "metadata": {},
   "source": [
    "# Helper Functions"
   ]
  },
  {
   "cell_type": "code",
   "execution_count": 7,
   "id": "3fbde508-39f0-48cc-85e2-34dc8fdb7de3",
   "metadata": {},
   "outputs": [],
   "source": [
    "def remove_accents(text):\n",
    "    return ''.join((c for c in unicodedata.normalize('NFD', text) if unicodedata.category(c) != 'Mn'))"
   ]
  },
  {
   "cell_type": "code",
   "execution_count": 8,
   "id": "5ba02255",
   "metadata": {},
   "outputs": [],
   "source": [
    "# label to name\n",
    "def label2name(x):\n",
    "    if x == 0:\n",
    "        return \"Negative\"\n",
    "    if x == 1:\n",
    "        return \"Neutral\"\n",
    "    if x == 2:\n",
    "        return \"Positive\""
   ]
  },
  {
   "cell_type": "markdown",
   "id": "fd77046e-a00c-48c6-a3c6-92bb41223ab0",
   "metadata": {},
   "source": [
    "## Load Dataset"
   ]
  },
  {
   "cell_type": "code",
   "execution_count": 9,
   "id": "3335a291-5fba-4101-b92c-cd4e720081f9",
   "metadata": {},
   "outputs": [],
   "source": [
    "# ds = load_dataset(\"pyupeu/social-media-peruvian-sentiment\")\n",
    "# ds\n",
    "data_files = {\"train\": \"data/train.csv\", \"validation\": \"data/val.csv\", \"test\": \"data/test.csv\"}\n",
    "ds = load_dataset(\"csv\", data_files=data_files)"
   ]
  },
  {
   "cell_type": "code",
   "execution_count": null,
   "id": "dfc3234d-d0f8-4b68-b0e3-d4b57892238d",
   "metadata": {},
   "outputs": [],
   "source": []
  },
  {
   "cell_type": "markdown",
   "id": "26ebcbbe-2d4c-4c5a-9afb-08b2dfea935a",
   "metadata": {},
   "source": [
    "## Performance Metrics"
   ]
  },
  {
   "cell_type": "code",
   "execution_count": 10,
   "id": "6d3164a0-faf4-4a4d-8a78-17b40b00c3f1",
   "metadata": {
    "tags": []
   },
   "outputs": [],
   "source": [
    "f1_metric = evaluate.load(\"f1\")\n",
    "recall_metric = evaluate.load(\"recall\")\n",
    "\n",
    "def compute_metrics (eval_pred):\n",
    "    logits, labels = eval_pred\n",
    "    preds = np.argmax(logits, axis = -1)\n",
    "    \n",
    "    results = {}\n",
    "    results.update(f1_metric.compute(predictions=preds, references = labels, average=\"macro\"))\n",
    "    results.update(recall_metric.compute(predictions=preds, references = labels, average=\"macro\"))\n",
    "    return results"
   ]
  },
  {
   "cell_type": "code",
   "execution_count": 11,
   "id": "0c7abe81-d2ab-49c3-92bf-6c6e36d5d852",
   "metadata": {},
   "outputs": [
    {
     "data": {
      "text/plain": [
       "{'text': Value(dtype='string', id=None),\n",
       " 'label': Value(dtype='int64', id=None),\n",
       " 'label_name': Value(dtype='string', id=None),\n",
       " 'text_original': Value(dtype='string', id=None),\n",
       " 'tokenized_text': Value(dtype='string', id=None),\n",
       " 'sent_token_length': Value(dtype='int64', id=None),\n",
       " 'sent_bert_token_length': Value(dtype='int64', id=None),\n",
       " 'char_count': Value(dtype='int64', id=None),\n",
       " 'Character Count': Value(dtype='int64', id=None)}"
      ]
     },
     "execution_count": 11,
     "metadata": {},
     "output_type": "execute_result"
    }
   ],
   "source": [
    "ds[\"train\"].features"
   ]
  },
  {
   "cell_type": "code",
   "execution_count": 12,
   "id": "9a33842b-42eb-4966-8b48-f3dd7e1aeb33",
   "metadata": {},
   "outputs": [
    {
     "data": {
      "text/plain": [
       "[1, 0, 2, 0, 1, 1, 1, 1, 2, 1]"
      ]
     },
     "execution_count": 12,
     "metadata": {},
     "output_type": "execute_result"
    }
   ],
   "source": [
    "ds[\"test\"][\"label\"][:10]"
   ]
  },
  {
   "cell_type": "code",
   "execution_count": 13,
   "id": "68d24890",
   "metadata": {},
   "outputs": [
    {
     "data": {
      "text/html": [
       "<div>\n",
       "<style scoped>\n",
       "    .dataframe tbody tr th:only-of-type {\n",
       "        vertical-align: middle;\n",
       "    }\n",
       "\n",
       "    .dataframe tbody tr th {\n",
       "        vertical-align: top;\n",
       "    }\n",
       "\n",
       "    .dataframe thead th {\n",
       "        text-align: right;\n",
       "    }\n",
       "</style>\n",
       "<table border=\"1\" class=\"dataframe\">\n",
       "  <thead>\n",
       "    <tr style=\"text-align: right;\">\n",
       "      <th></th>\n",
       "      <th>text</th>\n",
       "      <th>label</th>\n",
       "      <th>label_name</th>\n",
       "      <th>text_original</th>\n",
       "      <th>tokenized_text</th>\n",
       "      <th>sent_token_length</th>\n",
       "      <th>sent_bert_token_length</th>\n",
       "      <th>char_count</th>\n",
       "      <th>Character Count</th>\n",
       "    </tr>\n",
       "  </thead>\n",
       "  <tbody>\n",
       "    <tr>\n",
       "      <th>0</th>\n",
       "      <td>renzo crispin javier güere baluarte se pasaron de burros 🤣</td>\n",
       "      <td>0</td>\n",
       "      <td>Negative</td>\n",
       "      <td>Renzo Crispin Javier Güere Baluarte se pasaron de burros 🤣</td>\n",
       "      <td>renzo crispin javier güere baluarte se pasaron de burros 🤣</td>\n",
       "      <td>10</td>\n",
       "      <td>15</td>\n",
       "      <td>58</td>\n",
       "      <td>58</td>\n",
       "    </tr>\n",
       "    <tr>\n",
       "      <th>1</th>\n",
       "      <td>chino risas pa que llevas a tus maleteros 🤡🤡🤡</td>\n",
       "      <td>0</td>\n",
       "      <td>Negative</td>\n",
       "      <td>chino risas pa que llevas a tus maleteros 🤡🤡🤡</td>\n",
       "      <td>chino risas pa que llevas a tus maleteros 🤡🤡🤡</td>\n",
       "      <td>9</td>\n",
       "      <td>10</td>\n",
       "      <td>45</td>\n",
       "      <td>45</td>\n",
       "    </tr>\n",
       "    <tr>\n",
       "      <th>2</th>\n",
       "      <td>estudia p chato 😵‍💫🙈</td>\n",
       "      <td>0</td>\n",
       "      <td>Negative</td>\n",
       "      <td>Estudia p chato 😵‍💫🙈</td>\n",
       "      <td>estudia p chato 😵‍💫🙈</td>\n",
       "      <td>4</td>\n",
       "      <td>4</td>\n",
       "      <td>20</td>\n",
       "      <td>20</td>\n",
       "    </tr>\n",
       "    <tr>\n",
       "      <th>3</th>\n",
       "      <td>no seas pendejo, jaja tatuaje borra entonces... 😂</td>\n",
       "      <td>0</td>\n",
       "      <td>Negative</td>\n",
       "      <td>No seas pendejo, jajajajaja tatuaje borra entonces... 😂</td>\n",
       "      <td>no seas pendejo  jaja tatuaje borra entonces    😂</td>\n",
       "      <td>8</td>\n",
       "      <td>9</td>\n",
       "      <td>49</td>\n",
       "      <td>49</td>\n",
       "    </tr>\n",
       "    <tr>\n",
       "      <th>4</th>\n",
       "      <td>todas las autoridades y las actuales son culpables que kuelap se encuentre en esta situación. son una tira de incapaces 😡</td>\n",
       "      <td>0</td>\n",
       "      <td>Negative</td>\n",
       "      <td>Todas las autoridades y las actuales son culpables que Kuelap se encuentre en esta situación. Son una tira de incapaces 😡</td>\n",
       "      <td>todas las autoridades y las actuales son culpables que kuelap se encuentre en esta situación  son una tira de incapaces 😡</td>\n",
       "      <td>21</td>\n",
       "      <td>23</td>\n",
       "      <td>121</td>\n",
       "      <td>121</td>\n",
       "    </tr>\n",
       "  </tbody>\n",
       "</table>\n",
       "</div>"
      ],
      "text/plain": [
       "                                                                                                                        text  \\\n",
       "0                                                                 renzo crispin javier güere baluarte se pasaron de burros 🤣   \n",
       "1                                                                              chino risas pa que llevas a tus maleteros 🤡🤡🤡   \n",
       "2                                                                                                       estudia p chato 😵‍💫🙈   \n",
       "3                                                                          no seas pendejo, jaja tatuaje borra entonces... 😂   \n",
       "4  todas las autoridades y las actuales son culpables que kuelap se encuentre en esta situación. son una tira de incapaces 😡   \n",
       "\n",
       "   label label_name  \\\n",
       "0      0   Negative   \n",
       "1      0   Negative   \n",
       "2      0   Negative   \n",
       "3      0   Negative   \n",
       "4      0   Negative   \n",
       "\n",
       "                                                                                                               text_original  \\\n",
       "0                                                                 Renzo Crispin Javier Güere Baluarte se pasaron de burros 🤣   \n",
       "1                                                                              chino risas pa que llevas a tus maleteros 🤡🤡🤡   \n",
       "2                                                                                                       Estudia p chato 😵‍💫🙈   \n",
       "3                                                                    No seas pendejo, jajajajaja tatuaje borra entonces... 😂   \n",
       "4  Todas las autoridades y las actuales son culpables que Kuelap se encuentre en esta situación. Son una tira de incapaces 😡   \n",
       "\n",
       "                                                                                                              tokenized_text  \\\n",
       "0                                                                 renzo crispin javier güere baluarte se pasaron de burros 🤣   \n",
       "1                                                                              chino risas pa que llevas a tus maleteros 🤡🤡🤡   \n",
       "2                                                                                                       estudia p chato 😵‍💫🙈   \n",
       "3                                                                          no seas pendejo  jaja tatuaje borra entonces    😂   \n",
       "4  todas las autoridades y las actuales son culpables que kuelap se encuentre en esta situación  son una tira de incapaces 😡   \n",
       "\n",
       "   sent_token_length  sent_bert_token_length  char_count  Character Count  \n",
       "0                 10                      15          58               58  \n",
       "1                  9                      10          45               45  \n",
       "2                  4                       4          20               20  \n",
       "3                  8                       9          49               49  \n",
       "4                 21                      23         121              121  "
      ]
     },
     "execution_count": 13,
     "metadata": {},
     "output_type": "execute_result"
    }
   ],
   "source": [
    "df = ds['train'].to_pandas()\n",
    "df.head()"
   ]
  },
  {
   "cell_type": "markdown",
   "id": "6fe2a38b-3efc-45f0-be8e-fddee1915bdb",
   "metadata": {},
   "source": [
    "## Model and Tokenizer"
   ]
  },
  {
   "cell_type": "code",
   "execution_count": 14,
   "id": "8299b318-0204-49cb-bf9a-14834e7796cb",
   "metadata": {
    "tags": []
   },
   "outputs": [
    {
     "name": "stderr",
     "output_type": "stream",
     "text": [
      "/home/darkstar/anaconda3/envs/robertuito-env/lib/python3.10/site-packages/torch/_utils.py:776: UserWarning: TypedStorage is deprecated. It will be removed in the future and UntypedStorage will be the only storage class. This should only matter to you if you are using storages directly.  To access UntypedStorage directly, use tensor.untyped_storage() instead of tensor.storage()\n",
      "  return self.fget.__get__(instance, owner)()\n"
     ]
    }
   ],
   "source": [
    "model = AutoModelForSequenceClassification.from_pretrained(\n",
    "    model_name,\n",
    "    num_labels=3\n",
    ")\n",
    "tokenizer = AutoTokenizer.from_pretrained(model_name)\n",
    "tokenizer.model_max_length = max_length"
   ]
  },
  {
   "cell_type": "markdown",
   "id": "269a84b6-2a2a-410c-bb66-d35ce7ecd2d5",
   "metadata": {},
   "source": [
    "## Pre processing"
   ]
  },
  {
   "cell_type": "code",
   "execution_count": 15,
   "id": "7c0615c2",
   "metadata": {},
   "outputs": [
    {
     "data": {
      "text/html": [
       "<div>\n",
       "<style scoped>\n",
       "    .dataframe tbody tr th:only-of-type {\n",
       "        vertical-align: middle;\n",
       "    }\n",
       "\n",
       "    .dataframe tbody tr th {\n",
       "        vertical-align: top;\n",
       "    }\n",
       "\n",
       "    .dataframe thead th {\n",
       "        text-align: right;\n",
       "    }\n",
       "</style>\n",
       "<table border=\"1\" class=\"dataframe\">\n",
       "  <thead>\n",
       "    <tr style=\"text-align: right;\">\n",
       "      <th></th>\n",
       "      <th>text</th>\n",
       "      <th>label</th>\n",
       "      <th>label_name</th>\n",
       "      <th>text_original</th>\n",
       "      <th>tokenized_text</th>\n",
       "      <th>sent_token_length</th>\n",
       "      <th>sent_bert_token_length</th>\n",
       "      <th>char_count</th>\n",
       "      <th>Character Count</th>\n",
       "    </tr>\n",
       "  </thead>\n",
       "  <tbody>\n",
       "    <tr>\n",
       "      <th>970</th>\n",
       "      <td>te perdono la japeruana todos cometemos errores asi que la gente que te esta criticando no hagas caso aparte no es bueno vivir amargandose la vida lo pasado pisado.😁</td>\n",
       "      <td>1</td>\n",
       "      <td>Neutral</td>\n",
       "      <td>Te perdono La Japeruana todos cometemos errores asi que la gente que te esta criticando no hagas caso aparte no es bueno vivir amargandose la vida lo pasado pisado.😁</td>\n",
       "      <td>te perdono la japeruana todos cometemos errores asi que la gente que te esta criticando no hagas caso aparte no es bueno vivir amargandose la vida lo pasado pisado 😁</td>\n",
       "      <td>29</td>\n",
       "      <td>35</td>\n",
       "      <td>165</td>\n",
       "      <td>165</td>\n",
       "    </tr>\n",
       "    <tr>\n",
       "      <th>3391</th>\n",
       "      <td>con un aguja  los destruyo!!😌🤣</td>\n",
       "      <td>0</td>\n",
       "      <td>Negative</td>\n",
       "      <td>Con un aguja  los destruyo!!😌🤣</td>\n",
       "      <td>con un aguja  los destruyo  😌🤣</td>\n",
       "      <td>5</td>\n",
       "      <td>9</td>\n",
       "      <td>30</td>\n",
       "      <td>30</td>\n",
       "    </tr>\n",
       "    <tr>\n",
       "      <th>7056</th>\n",
       "      <td>tabata eguiluz ahora toca su pisquitoo😊 falta el anticucho que tu papaa lo prepareee 😀</td>\n",
       "      <td>1</td>\n",
       "      <td>Neutral</td>\n",
       "      <td>Tábata Eguiluz ahora toca su pisquitoo😊 Falta el anticucho que tu papaa lo prepareee 😀</td>\n",
       "      <td>tábata eguiluz ahora toca su pisquitoo😊 falta el anticucho que tu papaa lo prepareee 😀</td>\n",
       "      <td>15</td>\n",
       "      <td>25</td>\n",
       "      <td>86</td>\n",
       "      <td>86</td>\n",
       "    </tr>\n",
       "    <tr>\n",
       "      <th>232</th>\n",
       "      <td>jaja asuuu un paro cumbiambero!!! 💃🤣</td>\n",
       "      <td>0</td>\n",
       "      <td>Negative</td>\n",
       "      <td>Jajaja asuuu un paro cumbiambero!!! 💃🤣</td>\n",
       "      <td>jaja asuuu un paro cumbiambero    💃🤣</td>\n",
       "      <td>6</td>\n",
       "      <td>10</td>\n",
       "      <td>36</td>\n",
       "      <td>36</td>\n",
       "    </tr>\n",
       "    <tr>\n",
       "      <th>4310</th>\n",
       "      <td>ya no deberia ser la gordita sexi ahora deberia ser la gordita traca jaja siempre se le pegan los platinos 🤣🤣🤣</td>\n",
       "      <td>0</td>\n",
       "      <td>Negative</td>\n",
       "      <td>Ya no debería ser la gordita sexi ahora debería ser la gordita traca jajaja siempre se le pegan los platinos 🤣🤣🤣</td>\n",
       "      <td>ya no debería ser la gordita sexi ahora debería ser la gordita traca jaja siempre se le pegan los platinos 🤣🤣🤣</td>\n",
       "      <td>21</td>\n",
       "      <td>24</td>\n",
       "      <td>110</td>\n",
       "      <td>110</td>\n",
       "    </tr>\n",
       "    <tr>\n",
       "      <th>182</th>\n",
       "      <td>x lo menos no soy la unica q no ve los comentarios de ninguna publicacion 😪 ... ya iba a tirar mi cel</td>\n",
       "      <td>0</td>\n",
       "      <td>Negative</td>\n",
       "      <td>X lo menos no soy la unica q no ve los comentarios de ninguna publicación 😪 ... Ya iba a tirar mi cel</td>\n",
       "      <td>x lo menos no soy la unica q no ve los comentarios de ninguna publicación 😪     ya iba a tirar mi cel</td>\n",
       "      <td>23</td>\n",
       "      <td>23</td>\n",
       "      <td>101</td>\n",
       "      <td>101</td>\n",
       "    </tr>\n",
       "    <tr>\n",
       "      <th>1630</th>\n",
       "      <td>este pana si sabe de comida un lomo saltado👌😎😎</td>\n",
       "      <td>2</td>\n",
       "      <td>Positive</td>\n",
       "      <td>Este pana si sabe de comida un lomo saltado👌😎😎</td>\n",
       "      <td>este pana si sabe de comida un lomo saltado👌😎😎</td>\n",
       "      <td>9</td>\n",
       "      <td>10</td>\n",
       "      <td>46</td>\n",
       "      <td>46</td>\n",
       "    </tr>\n",
       "    <tr>\n",
       "      <th>3695</th>\n",
       "      <td>amor tu sueno puede hacerse realidad  gean franco pari pinedo   gracias phillip chu joy</td>\n",
       "      <td>2</td>\n",
       "      <td>Positive</td>\n",
       "      <td>Amor tú sueño puede hacerse realidad ❤️ Gean Franco Pari Pinedo   gracias Phillip Chu Joy</td>\n",
       "      <td>amor tú sueño puede hacerse realidad ️ gean franco pari pinedo   gracias phillip chu joy</td>\n",
       "      <td>15</td>\n",
       "      <td>21</td>\n",
       "      <td>88</td>\n",
       "      <td>88</td>\n",
       "    </tr>\n",
       "    <tr>\n",
       "      <th>4103</th>\n",
       "      <td>valiente??, jua,jua. chimpun callao de kouri y chirinos, con ayuda y complicidad del 2do. gobierno de garcia, convirtieron al callao en la sinaloa peruana...y asi hablan de \"moral\".  🤦‍</td>\n",
       "      <td>0</td>\n",
       "      <td>Negative</td>\n",
       "      <td>Valiente??, jua,jua. Chimpún Callao de Kouri y Chirinos, con ayuda y complicidad del 2do. gobierno de García, convirtieron al Callao en la SINALOA Peruana...Y así hablan de \"moral\".  🤦‍♂️</td>\n",
       "      <td>valiente    jua jua  chimpún callao de kouri y chirinos  con ayuda y complicidad del 2do  gobierno de garcía  convirtieron al callao en la sinaloa peruana   y así hablan de  moral    🤦‍️</td>\n",
       "      <td>29</td>\n",
       "      <td>46</td>\n",
       "      <td>186</td>\n",
       "      <td>186</td>\n",
       "    </tr>\n",
       "    <tr>\n",
       "      <th>4576</th>\n",
       "      <td>jaja choborra escuche?? 😮</td>\n",
       "      <td>0</td>\n",
       "      <td>Negative</td>\n",
       "      <td>Jaja choborra escuche?? 😮</td>\n",
       "      <td>jaja choborra escuche   😮</td>\n",
       "      <td>4</td>\n",
       "      <td>7</td>\n",
       "      <td>25</td>\n",
       "      <td>25</td>\n",
       "    </tr>\n",
       "  </tbody>\n",
       "</table>\n",
       "</div>"
      ],
      "text/plain": [
       "                                                                                                                                                                                           text  \\\n",
       "970                       te perdono la japeruana todos cometemos errores asi que la gente que te esta criticando no hagas caso aparte no es bueno vivir amargandose la vida lo pasado pisado.😁   \n",
       "3391                                                                                                                                                             con un aguja  los destruyo!!😌🤣   \n",
       "7056                                                                                                     tabata eguiluz ahora toca su pisquitoo😊 falta el anticucho que tu papaa lo prepareee 😀   \n",
       "232                                                                                                                                                        jaja asuuu un paro cumbiambero!!! 💃🤣   \n",
       "4310                                                                             ya no deberia ser la gordita sexi ahora deberia ser la gordita traca jaja siempre se le pegan los platinos 🤣🤣🤣   \n",
       "182                                                                                       x lo menos no soy la unica q no ve los comentarios de ninguna publicacion 😪 ... ya iba a tirar mi cel   \n",
       "1630                                                                                                                                             este pana si sabe de comida un lomo saltado👌😎😎   \n",
       "3695                                                                                                    amor tu sueno puede hacerse realidad  gean franco pari pinedo   gracias phillip chu joy   \n",
       "4103  valiente??, jua,jua. chimpun callao de kouri y chirinos, con ayuda y complicidad del 2do. gobierno de garcia, convirtieron al callao en la sinaloa peruana...y asi hablan de \"moral\".  🤦‍   \n",
       "4576                                                                                                                                                                  jaja choborra escuche?? 😮   \n",
       "\n",
       "      label label_name  \\\n",
       "970       1    Neutral   \n",
       "3391      0   Negative   \n",
       "7056      1    Neutral   \n",
       "232       0   Negative   \n",
       "4310      0   Negative   \n",
       "182       0   Negative   \n",
       "1630      2   Positive   \n",
       "3695      2   Positive   \n",
       "4103      0   Negative   \n",
       "4576      0   Negative   \n",
       "\n",
       "                                                                                                                                                                                    text_original  \\\n",
       "970                         Te perdono La Japeruana todos cometemos errores asi que la gente que te esta criticando no hagas caso aparte no es bueno vivir amargandose la vida lo pasado pisado.😁   \n",
       "3391                                                                                                                                                               Con un aguja  los destruyo!!😌🤣   \n",
       "7056                                                                                                       Tábata Eguiluz ahora toca su pisquitoo😊 Falta el anticucho que tu papaa lo prepareee 😀   \n",
       "232                                                                                                                                                        Jajaja asuuu un paro cumbiambero!!! 💃🤣   \n",
       "4310                                                                             Ya no debería ser la gordita sexi ahora debería ser la gordita traca jajaja siempre se le pegan los platinos 🤣🤣🤣   \n",
       "182                                                                                         X lo menos no soy la unica q no ve los comentarios de ninguna publicación 😪 ... Ya iba a tirar mi cel   \n",
       "1630                                                                                                                                               Este pana si sabe de comida un lomo saltado👌😎😎   \n",
       "3695                                                                                                    Amor tú sueño puede hacerse realidad ❤️ Gean Franco Pari Pinedo   gracias Phillip Chu Joy   \n",
       "4103  Valiente??, jua,jua. Chimpún Callao de Kouri y Chirinos, con ayuda y complicidad del 2do. gobierno de García, convirtieron al Callao en la SINALOA Peruana...Y así hablan de \"moral\".  🤦‍♂️   \n",
       "4576                                                                                                                                                                    Jaja choborra escuche?? 😮   \n",
       "\n",
       "                                                                                                                                                                                  tokenized_text  \\\n",
       "970                        te perdono la japeruana todos cometemos errores asi que la gente que te esta criticando no hagas caso aparte no es bueno vivir amargandose la vida lo pasado pisado 😁   \n",
       "3391                                                                                                                                                              con un aguja  los destruyo  😌🤣   \n",
       "7056                                                                                                      tábata eguiluz ahora toca su pisquitoo😊 falta el anticucho que tu papaa lo prepareee 😀   \n",
       "232                                                                                                                                                         jaja asuuu un paro cumbiambero    💃🤣   \n",
       "4310                                                                              ya no debería ser la gordita sexi ahora debería ser la gordita traca jaja siempre se le pegan los platinos 🤣🤣🤣   \n",
       "182                                                                                        x lo menos no soy la unica q no ve los comentarios de ninguna publicación 😪     ya iba a tirar mi cel   \n",
       "1630                                                                                                                                              este pana si sabe de comida un lomo saltado👌😎😎   \n",
       "3695                                                                                                    amor tú sueño puede hacerse realidad ️ gean franco pari pinedo   gracias phillip chu joy   \n",
       "4103  valiente    jua jua  chimpún callao de kouri y chirinos  con ayuda y complicidad del 2do  gobierno de garcía  convirtieron al callao en la sinaloa peruana   y así hablan de  moral    🤦‍️   \n",
       "4576                                                                                                                                                                   jaja choborra escuche   😮   \n",
       "\n",
       "      sent_token_length  sent_bert_token_length  char_count  Character Count  \n",
       "970                  29                      35         165              165  \n",
       "3391                  5                       9          30               30  \n",
       "7056                 15                      25          86               86  \n",
       "232                   6                      10          36               36  \n",
       "4310                 21                      24         110              110  \n",
       "182                  23                      23         101              101  \n",
       "1630                  9                      10          46               46  \n",
       "3695                 15                      21          88               88  \n",
       "4103                 29                      46         186              186  \n",
       "4576                  4                       7          25               25  "
      ]
     },
     "execution_count": 15,
     "metadata": {},
     "output_type": "execute_result"
    }
   ],
   "source": [
    "# encode label and mapping label name\n",
    "#df[\"label\"] = df[\"label\"].apply(lambda x: label_encode(x))\n",
    "df[\"label_name\"] = df[\"label\"].apply(lambda x: label2name(x))\n",
    "\n",
    "# remove accents\n",
    "df[\"text\"] = df[\"text\"].apply(lambda x: remove_accents(x))\n",
    "df.sample(10)"
   ]
  },
  {
   "cell_type": "code",
   "execution_count": 16,
   "id": "8ed569d2-67ca-405d-aa88-3e6de71a2356",
   "metadata": {
    "tags": []
   },
   "outputs": [],
   "source": [
    "preprocessed_ds = ds.map(lambda ex: {\"text\": preprocess_tweet(ex[\"text\"], lang=\"es\")})"
   ]
  },
  {
   "cell_type": "code",
   "execution_count": 17,
   "id": "99a78d85-4029-4621-b692-f63f396a2f6f",
   "metadata": {
    "tags": []
   },
   "outputs": [
    {
     "data": {
      "text/plain": [
       "DatasetDict({\n",
       "    train: Dataset({\n",
       "        features: ['text', 'label', 'label_name', 'text_original', 'tokenized_text', 'sent_token_length', 'sent_bert_token_length', 'char_count', 'Character Count', 'input_ids', 'token_type_ids', 'attention_mask'],\n",
       "        num_rows: 7574\n",
       "    })\n",
       "    validation: Dataset({\n",
       "        features: ['text', 'label', 'label_name', 'text_original', 'tokenized_text', 'sent_token_length', 'sent_bert_token_length', 'char_count', 'Character Count', 'input_ids', 'token_type_ids', 'attention_mask'],\n",
       "        num_rows: 2367\n",
       "    })\n",
       "    test: Dataset({\n",
       "        features: ['text', 'label', 'label_name', 'text_original', 'tokenized_text', 'sent_token_length', 'sent_bert_token_length', 'char_count', 'Character Count', 'input_ids', 'token_type_ids', 'attention_mask'],\n",
       "        num_rows: 1894\n",
       "    })\n",
       "})"
      ]
     },
     "execution_count": 17,
     "metadata": {},
     "output_type": "execute_result"
    }
   ],
   "source": [
    "tokenized_ds = preprocessed_ds.map(\n",
    "    lambda batch: tokenizer(\n",
    "        batch[\"text\"], padding=True, truncation=True\n",
    "        ),\n",
    "    batched=True, batch_size=32\n",
    ")\n",
    "tokenized_ds"
   ]
  },
  {
   "cell_type": "code",
   "execution_count": null,
   "id": "1dd95bf5",
   "metadata": {},
   "outputs": [],
   "source": []
  },
  {
   "cell_type": "code",
   "execution_count": 18,
   "id": "d3634bf4",
   "metadata": {},
   "outputs": [
    {
     "data": {
      "text/plain": [
       "[0, 3446, 446, 1, 1, 1, 1, 1, 1, 1, 1, 1, 1]"
      ]
     },
     "execution_count": 18,
     "metadata": {},
     "output_type": "execute_result"
    }
   ],
   "source": [
    "tokenized_ds['train']['input_ids'][0][::10]"
   ]
  },
  {
   "cell_type": "code",
   "execution_count": 19,
   "id": "7c23fbba",
   "metadata": {},
   "outputs": [
    {
     "data": {
      "text/plain": [
       "[1, 1, 1, 0, 0, 0, 0, 0, 0, 0, 0, 0, 0]"
      ]
     },
     "execution_count": 19,
     "metadata": {},
     "output_type": "execute_result"
    }
   ],
   "source": [
    "tokenized_ds['train']['attention_mask'][0][::10]"
   ]
  },
  {
   "cell_type": "code",
   "execution_count": 20,
   "id": "f6d33cad",
   "metadata": {},
   "outputs": [
    {
     "data": {
      "text/plain": [
       "'mira este payaso.  fecical  fujimorista    emoji caca con ojos emoji  emoji caca con ojos emoji  emoji caca con ojos emoji este es lo que eres.'"
      ]
     },
     "execution_count": 20,
     "metadata": {},
     "output_type": "execute_result"
    }
   ],
   "source": [
    "tokenized_ds['train']['text'][10]"
   ]
  },
  {
   "cell_type": "code",
   "execution_count": 21,
   "id": "ccb30e62-df89-4712-9256-68108095f3d4",
   "metadata": {},
   "outputs": [
    {
     "data": {
      "text/plain": [
       "[0, 0, 0, 0, 0, 0, 0, 0, 0, 0, 0, 0, 0, 0, 0, 0, 0, 0, 0, 0]"
      ]
     },
     "execution_count": 21,
     "metadata": {},
     "output_type": "execute_result"
    }
   ],
   "source": [
    "tokenized_ds['train']['token_type_ids'][0][:20]"
   ]
  },
  {
   "cell_type": "markdown",
   "id": "a0eb1144-849b-4df3-92ab-0d499193b0b1",
   "metadata": {},
   "source": [
    "## Load slangs dataset"
   ]
  },
  {
   "cell_type": "markdown",
   "id": "89fb5d11-e219-4f5f-a1b5-0e7165fd81f4",
   "metadata": {},
   "source": [
    "We are going to add new tokens from our Peruvian Slang dataset that are unknown to the model (around 1800 words), and then we will resize the model embeddings."
   ]
  },
  {
   "cell_type": "code",
   "execution_count": 23,
   "id": "48d9d960-7a80-458d-aaf3-cd573db49861",
   "metadata": {},
   "outputs": [],
   "source": [
    "df_slangs = pd.read_csv(r'../text-extraction/peruvian-slang.v1.csv')"
   ]
  },
  {
   "cell_type": "code",
   "execution_count": 24,
   "id": "b4ab57ad-255a-4b1b-be40-98787e30aba4",
   "metadata": {},
   "outputs": [],
   "source": [
    "#keep slangs with only one word and less than 3 characters\n",
    "def exclude_slangs(text):\n",
    "    # print(text)\n",
    "    words = text.split()\n",
    "    if len(words) == 1:\n",
    "        if len(text)>3:\n",
    "            return False\n",
    "        else:\n",
    "            return True\n",
    "    else:\n",
    "        return True"
   ]
  },
  {
   "cell_type": "code",
   "execution_count": 25,
   "id": "a45c84f6-058d-473d-80b8-e812e43b8e01",
   "metadata": {},
   "outputs": [],
   "source": [
    "df_slangs = df_slangs[df_slangs.tipo.isin([\"Jerga\"])]\n",
    "df_slangs['Jerga'] = df_slangs['Jerga'].apply(lambda x: x.lower())\n",
    "df_slangs['exclude_slang'] = df_slangs['Jerga'].apply(lambda x: exclude_slangs(x))\n",
    "df_slangs = df_slangs[df_slangs.exclude_slang.isin([False])]"
   ]
  },
  {
   "cell_type": "code",
   "execution_count": 26,
   "id": "121116ee-8da5-4142-807e-d0909c5e3b91",
   "metadata": {},
   "outputs": [],
   "source": [
    "slangs = df_slangs['Jerga'].values.tolist()"
   ]
  },
  {
   "cell_type": "code",
   "execution_count": 27,
   "id": "79d6f8a8-65ca-4350-8a7e-bb6ad3139fff",
   "metadata": {},
   "outputs": [
    {
     "data": {
      "text/plain": [
       "1893"
      ]
     },
     "execution_count": 27,
     "metadata": {},
     "output_type": "execute_result"
    }
   ],
   "source": [
    "len(slangs)"
   ]
  },
  {
   "cell_type": "code",
   "execution_count": 28,
   "id": "46cbbea3-e196-474f-9e76-d87a9a586292",
   "metadata": {},
   "outputs": [
    {
     "data": {
      "text/html": [
       "<div>\n",
       "<style scoped>\n",
       "    .dataframe tbody tr th:only-of-type {\n",
       "        vertical-align: middle;\n",
       "    }\n",
       "\n",
       "    .dataframe tbody tr th {\n",
       "        vertical-align: top;\n",
       "    }\n",
       "\n",
       "    .dataframe thead th {\n",
       "        text-align: right;\n",
       "    }\n",
       "</style>\n",
       "<table border=\"1\" class=\"dataframe\">\n",
       "  <thead>\n",
       "    <tr style=\"text-align: right;\">\n",
       "      <th></th>\n",
       "      <th>nro</th>\n",
       "      <th>Jerga</th>\n",
       "      <th>tipo</th>\n",
       "      <th>descripción corta</th>\n",
       "      <th>Descripción</th>\n",
       "      <th>fuente</th>\n",
       "      <th>exclude_slang</th>\n",
       "    </tr>\n",
       "  </thead>\n",
       "  <tbody>\n",
       "    <tr>\n",
       "      <th>123</th>\n",
       "      <td>124</td>\n",
       "      <td>batacazo</td>\n",
       "      <td>Jerga</td>\n",
       "      <td>triunfo</td>\n",
       "      <td>triunfo</td>\n",
       "      <td>https://jergozo.com/diccionario-peruano</td>\n",
       "      <td>False</td>\n",
       "    </tr>\n",
       "    <tr>\n",
       "      <th>1418</th>\n",
       "      <td>1419</td>\n",
       "      <td>pieza</td>\n",
       "      <td>Jerga</td>\n",
       "      <td>pene</td>\n",
       "      <td>Dícese de cierta parte de la anatomía masculina cuya característica principal, además de la de tener más de mil nombres, es la de ser sumamente liviana pues se levanta con un simple pensamiento y basta una simple paja para bajarla. O sea, estamos hablando del órgano sexual masculino, penca, pela...</td>\n",
       "      <td>https://jergozo.com/diccionario-peruano</td>\n",
       "      <td>False</td>\n",
       "    </tr>\n",
       "    <tr>\n",
       "      <th>1808</th>\n",
       "      <td>1809</td>\n",
       "      <td>traca</td>\n",
       "      <td>Jerga</td>\n",
       "      <td>homosexual</td>\n",
       "      <td>Homosexual muy femenino</td>\n",
       "      <td>https://jergozo.com/diccionario-peruano</td>\n",
       "      <td>False</td>\n",
       "    </tr>\n",
       "    <tr>\n",
       "      <th>491</th>\n",
       "      <td>492</td>\n",
       "      <td>cocacola</td>\n",
       "      <td>Jerga</td>\n",
       "      <td>loco</td>\n",
       "      <td>Loco</td>\n",
       "      <td>https://jergozo.com/diccionario-peruano</td>\n",
       "      <td>False</td>\n",
       "    </tr>\n",
       "    <tr>\n",
       "      <th>960</th>\n",
       "      <td>961</td>\n",
       "      <td>inti</td>\n",
       "      <td>Jerga</td>\n",
       "      <td>sol</td>\n",
       "      <td>Dios inca del sol. Antigua unidad monetaria.</td>\n",
       "      <td>https://jergozo.com/diccionario-peruano</td>\n",
       "      <td>False</td>\n",
       "    </tr>\n",
       "    <tr>\n",
       "      <th>1999</th>\n",
       "      <td>2000</td>\n",
       "      <td>solano</td>\n",
       "      <td>Jerga</td>\n",
       "      <td>solitario</td>\n",
       "      <td>Solo,a. Solitario,a. Se hizo popular por el apellido del jugador de fútbol Solano./ Estoy solano y sin compromiso.</td>\n",
       "      <td>https://www.wikilengua.org/index.php/Jerga_juvenil/Per%C3%BA</td>\n",
       "      <td>False</td>\n",
       "    </tr>\n",
       "    <tr>\n",
       "      <th>2034</th>\n",
       "      <td>2035</td>\n",
       "      <td>pisco</td>\n",
       "      <td>Jerga</td>\n",
       "      <td>bebida alcoholica</td>\n",
       "      <td>Es un brandy peruano a base de uvas.</td>\n",
       "      <td>https://psicologiaymente.com/reflexiones/palabras-expresiones-peruanas</td>\n",
       "      <td>False</td>\n",
       "    </tr>\n",
       "    <tr>\n",
       "      <th>272</th>\n",
       "      <td>273</td>\n",
       "      <td>caracol</td>\n",
       "      <td>Jerga</td>\n",
       "      <td>tonto</td>\n",
       "      <td>Tonto y sinvergüenza.</td>\n",
       "      <td>https://jergozo.com/diccionario-peruano</td>\n",
       "      <td>False</td>\n",
       "    </tr>\n",
       "    <tr>\n",
       "      <th>1823</th>\n",
       "      <td>1824</td>\n",
       "      <td>trola</td>\n",
       "      <td>Jerga</td>\n",
       "      <td>pene</td>\n",
       "      <td>pene</td>\n",
       "      <td>https://jergozo.com/diccionario-peruano</td>\n",
       "      <td>False</td>\n",
       "    </tr>\n",
       "    <tr>\n",
       "      <th>367</th>\n",
       "      <td>368</td>\n",
       "      <td>chavón</td>\n",
       "      <td>Jerga</td>\n",
       "      <td>homosexual</td>\n",
       "      <td>Gracias a la visita del grupo argentino \"Los Sultanes\" y a la mala interpretación de muchos peruanos, significa persona de tendencias homosexuales. Aunque ya no se usa mucho actualmente.</td>\n",
       "      <td>https://jergozo.com/diccionario-peruano</td>\n",
       "      <td>False</td>\n",
       "    </tr>\n",
       "  </tbody>\n",
       "</table>\n",
       "</div>"
      ],
      "text/plain": [
       "       nro     Jerga   tipo  descripción corta  \\\n",
       "123    124  batacazo  Jerga            triunfo   \n",
       "1418  1419     pieza  Jerga               pene   \n",
       "1808  1809     traca  Jerga         homosexual   \n",
       "491    492  cocacola  Jerga               loco   \n",
       "960    961      inti  Jerga                sol   \n",
       "1999  2000    solano  Jerga          solitario   \n",
       "2034  2035     pisco  Jerga  bebida alcoholica   \n",
       "272    273   caracol  Jerga              tonto   \n",
       "1823  1824     trola  Jerga               pene   \n",
       "367    368    chavón  Jerga         homosexual   \n",
       "\n",
       "                                                                                                                                                                                                                                                                                                      Descripción  \\\n",
       "123                                                                                                                                                                                                                                                                                                       triunfo   \n",
       "1418  Dícese de cierta parte de la anatomía masculina cuya característica principal, además de la de tener más de mil nombres, es la de ser sumamente liviana pues se levanta con un simple pensamiento y basta una simple paja para bajarla. O sea, estamos hablando del órgano sexual masculino, penca, pela...   \n",
       "1808                                                                                                                                                                                                                                                                                      Homosexual muy femenino   \n",
       "491                                                                                                                                                                                                                                                                                                          Loco   \n",
       "960                                                                                                                                                                                                                                                                  Dios inca del sol. Antigua unidad monetaria.   \n",
       "1999                                                                                                                                                                                           Solo,a. Solitario,a. Se hizo popular por el apellido del jugador de fútbol Solano./ Estoy solano y sin compromiso.   \n",
       "2034                                                                                                                                                                                                                                                                         Es un brandy peruano a base de uvas.   \n",
       "272                                                                                                                                                                                                                                                                                         Tonto y sinvergüenza.   \n",
       "1823                                                                                                                                                                                                                                                                                                         pene   \n",
       "367                                                                                                                    Gracias a la visita del grupo argentino \"Los Sultanes\" y a la mala interpretación de muchos peruanos, significa persona de tendencias homosexuales. Aunque ya no se usa mucho actualmente.   \n",
       "\n",
       "                                                                      fuente  \\\n",
       "123                                  https://jergozo.com/diccionario-peruano   \n",
       "1418                                 https://jergozo.com/diccionario-peruano   \n",
       "1808                                 https://jergozo.com/diccionario-peruano   \n",
       "491                                  https://jergozo.com/diccionario-peruano   \n",
       "960                                  https://jergozo.com/diccionario-peruano   \n",
       "1999            https://www.wikilengua.org/index.php/Jerga_juvenil/Per%C3%BA   \n",
       "2034  https://psicologiaymente.com/reflexiones/palabras-expresiones-peruanas   \n",
       "272                                  https://jergozo.com/diccionario-peruano   \n",
       "1823                                 https://jergozo.com/diccionario-peruano   \n",
       "367                                  https://jergozo.com/diccionario-peruano   \n",
       "\n",
       "      exclude_slang  \n",
       "123           False  \n",
       "1418          False  \n",
       "1808          False  \n",
       "491           False  \n",
       "960           False  \n",
       "1999          False  \n",
       "2034          False  \n",
       "272           False  \n",
       "1823          False  \n",
       "367           False  "
      ]
     },
     "execution_count": 28,
     "metadata": {},
     "output_type": "execute_result"
    }
   ],
   "source": [
    "df_slangs.sample(10)"
   ]
  },
  {
   "cell_type": "code",
   "execution_count": 29,
   "id": "ad38cceb-5c98-4424-8600-210e4612022d",
   "metadata": {},
   "outputs": [
    {
     "data": {
      "text/plain": [
       "'<unk>'"
      ]
     },
     "execution_count": 29,
     "metadata": {},
     "output_type": "execute_result"
    }
   ],
   "source": [
    "tokenizer.unk_token"
   ]
  },
  {
   "cell_type": "code",
   "execution_count": 30,
   "id": "469074ed-9e65-4a9e-913c-6151f5c5d8b3",
   "metadata": {},
   "outputs": [
    {
     "data": {
      "text/plain": [
       "RobertaForSequenceClassification(\n",
       "  (roberta): RobertaModel(\n",
       "    (embeddings): RobertaEmbeddings(\n",
       "      (word_embeddings): Embedding(30000, 768, padding_idx=1)\n",
       "      (position_embeddings): Embedding(130, 768, padding_idx=1)\n",
       "      (token_type_embeddings): Embedding(1, 768)\n",
       "      (LayerNorm): LayerNorm((768,), eps=1e-12, elementwise_affine=True)\n",
       "      (dropout): Dropout(p=0.1, inplace=False)\n",
       "    )\n",
       "    (encoder): RobertaEncoder(\n",
       "      (layer): ModuleList(\n",
       "        (0-11): 12 x RobertaLayer(\n",
       "          (attention): RobertaAttention(\n",
       "            (self): RobertaSelfAttention(\n",
       "              (query): Linear(in_features=768, out_features=768, bias=True)\n",
       "              (key): Linear(in_features=768, out_features=768, bias=True)\n",
       "              (value): Linear(in_features=768, out_features=768, bias=True)\n",
       "              (dropout): Dropout(p=0.1, inplace=False)\n",
       "            )\n",
       "            (output): RobertaSelfOutput(\n",
       "              (dense): Linear(in_features=768, out_features=768, bias=True)\n",
       "              (LayerNorm): LayerNorm((768,), eps=1e-12, elementwise_affine=True)\n",
       "              (dropout): Dropout(p=0.1, inplace=False)\n",
       "            )\n",
       "          )\n",
       "          (intermediate): RobertaIntermediate(\n",
       "            (dense): Linear(in_features=768, out_features=3072, bias=True)\n",
       "            (intermediate_act_fn): GELUActivation()\n",
       "          )\n",
       "          (output): RobertaOutput(\n",
       "            (dense): Linear(in_features=3072, out_features=768, bias=True)\n",
       "            (LayerNorm): LayerNorm((768,), eps=1e-12, elementwise_affine=True)\n",
       "            (dropout): Dropout(p=0.1, inplace=False)\n",
       "          )\n",
       "        )\n",
       "      )\n",
       "    )\n",
       "  )\n",
       "  (classifier): RobertaClassificationHead(\n",
       "    (dense): Linear(in_features=768, out_features=768, bias=True)\n",
       "    (dropout): Dropout(p=0.1, inplace=False)\n",
       "    (out_proj): Linear(in_features=768, out_features=3, bias=True)\n",
       "  )\n",
       ")"
      ]
     },
     "execution_count": 30,
     "metadata": {},
     "output_type": "execute_result"
    }
   ],
   "source": [
    "#import torch\n",
    "device = \"cuda\" if torch.cuda.is_available() else \"cpu\"\n",
    "model.cuda()"
   ]
  },
  {
   "cell_type": "code",
   "execution_count": 31,
   "id": "ee97c2b0-3e7c-45e9-b6ca-da55d4671d41",
   "metadata": {},
   "outputs": [
    {
     "data": {
      "text/plain": [
       "Dataset({\n",
       "    features: ['text', 'label', 'label_name', 'text_original', 'tokenized_text', 'sent_token_length', 'sent_bert_token_length', 'char_count', 'Character Count', 'input_ids', 'token_type_ids', 'attention_mask'],\n",
       "    num_rows: 7574\n",
       "})"
      ]
     },
     "execution_count": 31,
     "metadata": {},
     "output_type": "execute_result"
    }
   ],
   "source": [
    "tokenized_ds['train']"
   ]
  },
  {
   "cell_type": "code",
   "execution_count": 32,
   "id": "e32938cf-99f5-4829-8a2b-e5610f428a2d",
   "metadata": {},
   "outputs": [
    {
     "data": {
      "text/plain": [
       "128"
      ]
     },
     "execution_count": 32,
     "metadata": {},
     "output_type": "execute_result"
    }
   ],
   "source": [
    "len(tokenized_ds['train']['input_ids'][0])"
   ]
  },
  {
   "cell_type": "code",
   "execution_count": 33,
   "id": "a5d69388-ca60-4372-b09f-5c48e3cdffda",
   "metadata": {},
   "outputs": [
    {
     "data": {
      "text/plain": [
       "128"
      ]
     },
     "execution_count": 33,
     "metadata": {},
     "output_type": "execute_result"
    }
   ],
   "source": [
    "len(tokenized_ds['train']['input_ids'][2222])"
   ]
  },
  {
   "cell_type": "code",
   "execution_count": 34,
   "id": "2db32bc4-26e7-48e7-bf9c-32fad7137dec",
   "metadata": {},
   "outputs": [
    {
     "data": {
      "text/plain": [
       "128"
      ]
     },
     "execution_count": 34,
     "metadata": {},
     "output_type": "execute_result"
    }
   ],
   "source": [
    "len(tokenized_ds['train']['input_ids'][2222])"
   ]
  },
  {
   "cell_type": "code",
   "execution_count": 35,
   "id": "231b3f86-00fc-4bcc-9bba-528a9048777b",
   "metadata": {},
   "outputs": [
    {
     "data": {
      "text/plain": [
       "30000"
      ]
     },
     "execution_count": 35,
     "metadata": {},
     "output_type": "execute_result"
    }
   ],
   "source": [
    "len(tokenizer)"
   ]
  },
  {
   "cell_type": "code",
   "execution_count": 36,
   "id": "7ab5876e-e726-4664-aa8a-f031b1bb91e9",
   "metadata": {},
   "outputs": [
    {
     "data": {
      "text/plain": [
       "'Lima esta vez lo va a sacar, todos a marchas,estos terrucos no nos van a ganar,Vamos Peru de una vez 🇵🇪❤️💪🏻💪🏻💪🏻💪🏻💪🏻'"
      ]
     },
     "execution_count": 36,
     "metadata": {},
     "output_type": "execute_result"
    }
   ],
   "source": [
    "tokenized_ds['train']['text_original'][2134]"
   ]
  },
  {
   "cell_type": "code",
   "execution_count": 37,
   "id": "ca04d8ca-42a6-4abf-8123-a323f9c00392",
   "metadata": {},
   "outputs": [
    {
     "data": {
      "text/plain": [
       "1886"
      ]
     },
     "execution_count": 37,
     "metadata": {},
     "output_type": "execute_result"
    }
   ],
   "source": [
    "tokenizer.add_tokens(slangs)"
   ]
  },
  {
   "cell_type": "code",
   "execution_count": 38,
   "id": "f956dfe5-1276-4669-ab36-61e120e0af7c",
   "metadata": {},
   "outputs": [],
   "source": [
    "old_tokenizer = AutoTokenizer.from_pretrained(model_name)"
   ]
  },
  {
   "cell_type": "code",
   "execution_count": 39,
   "id": "1733c02d-0898-470c-a950-8b1eb01d9a6c",
   "metadata": {},
   "outputs": [
    {
     "data": {
      "text/plain": [
       "['▁gorda',\n",
       " '▁sex',\n",
       " 'y,',\n",
       " '▁mi',\n",
       " '▁quer',\n",
       " 'id',\n",
       " 'isimo',\n",
       " '▁hue',\n",
       " 'vera',\n",
       " '▁eh',\n",
       " '▁chan',\n",
       " 'cho',\n",
       " '▁chich',\n",
       " 'ero',\n",
       " '▁,',\n",
       " '▁que',\n",
       " '▁hay',\n",
       " '▁de',\n",
       " '▁tus',\n",
       " '▁comentario',\n",
       " '?']"
      ]
     },
     "execution_count": 39,
     "metadata": {},
     "output_type": "execute_result"
    }
   ],
   "source": [
    "text = \"gorda sexy, mi queridisimo huevera eh chancho chichero 🤣😂🤣😂, que hay de tus comentario?\"\n",
    "old_tokenizer.tokenize(text)"
   ]
  },
  {
   "cell_type": "code",
   "execution_count": 40,
   "id": "d5e85caf-fea4-4516-9d63-7a00e1f7ccff",
   "metadata": {},
   "outputs": [
    {
     "data": {
      "text/plain": [
       "['▁gorda',\n",
       " '▁sex',\n",
       " 'y,',\n",
       " '▁mi',\n",
       " '▁quer',\n",
       " 'id',\n",
       " 'isimo',\n",
       " '▁',\n",
       " 'huevera',\n",
       " '▁eh',\n",
       " '▁',\n",
       " 'chancho',\n",
       " '▁',\n",
       " 'chichero',\n",
       " '▁,',\n",
       " '▁que',\n",
       " '▁hay',\n",
       " '▁de',\n",
       " '▁tus',\n",
       " '▁comentario',\n",
       " '?']"
      ]
     },
     "execution_count": 40,
     "metadata": {},
     "output_type": "execute_result"
    }
   ],
   "source": [
    "tokenizer.tokenize(text)"
   ]
  },
  {
   "cell_type": "markdown",
   "id": "acae0c55-9ce0-44cf-b3c9-770878646ea5",
   "metadata": {},
   "source": [
    "## Training"
   ]
  },
  {
   "cell_type": "code",
   "execution_count": 41,
   "id": "9c82b73c-3a98-4642-ba4d-b010875b28d3",
   "metadata": {},
   "outputs": [
    {
     "data": {
      "text/plain": [
       "Embedding(31847, 768)"
      ]
     },
     "execution_count": 41,
     "metadata": {},
     "output_type": "execute_result"
    }
   ],
   "source": [
    "model.resize_token_embeddings(len(tokenizer))#https://huggingface.co/docs/transformers/main_classes/tokenizer"
   ]
  },
  {
   "cell_type": "code",
   "execution_count": 42,
   "id": "5d56e2f2-159e-4ffe-86fc-3659ed308b89",
   "metadata": {},
   "outputs": [],
   "source": [
    "training_args = TrainingArguments(\n",
    "    output_dir=\"robertuito_deacc/checkpoints\",\n",
    "    per_device_train_batch_size=32,\n",
    "    per_device_eval_batch_size=16,\n",
    "    gradient_accumulation_steps=1,\n",
    "    weight_decay=0.01,\n",
    "    warmup_ratio=0.1,\n",
    "    learning_rate=5e-5,\n",
    "    do_eval=True,\n",
    "    evaluation_strategy=\"epoch\",\n",
    "    save_strategy=\"epoch\",\n",
    "    num_train_epochs=5,\n",
    "    load_best_model_at_end=True,\n",
    "    # save_total_limit=2,\n",
    "    group_by_length=True,\n",
    "    seed=1\n",
    ")"
   ]
  },
  {
   "cell_type": "code",
   "execution_count": 43,
   "id": "6055a36a-af98-4a4d-8a87-f8a6257a7c8e",
   "metadata": {},
   "outputs": [
    {
     "name": "stderr",
     "output_type": "stream",
     "text": [
      "/home/darkstar/anaconda3/envs/robertuito-env/lib/python3.10/site-packages/accelerate/accelerator.py:432: FutureWarning: Passing the following arguments to `Accelerator` is deprecated and will be removed in version 1.0 of Accelerate: dict_keys(['dispatch_batches', 'split_batches', 'even_batches', 'use_seedable_sampler']). Please pass an `accelerate.DataLoaderConfiguration` instead: \n",
      "dataloader_config = DataLoaderConfiguration(dispatch_batches=None, split_batches=False, even_batches=True, use_seedable_sampler=True)\n",
      "  warnings.warn(\n"
     ]
    }
   ],
   "source": [
    "trainer = Trainer(\n",
    "    model=model,\n",
    "    args=training_args,\n",
    "    train_dataset=tokenized_ds[\"train\"],\n",
    "    eval_dataset=tokenized_ds[\"validation\"],\n",
    "    compute_metrics=compute_metrics,\n",
    "    data_collator=DataCollatorWithPadding(tokenizer=tokenizer),\n",
    ")"
   ]
  },
  {
   "cell_type": "code",
   "execution_count": 44,
   "id": "6be1933a-b930-410d-91ff-646bdcb9a80f",
   "metadata": {
    "tags": []
   },
   "outputs": [
    {
     "name": "stdout",
     "output_type": "stream",
     "text": [
      "{'eval_loss': 0.5212408304214478, 'eval_f1': 0.7415161585330621, 'eval_recall': 0.737493471196062, 'eval_runtime': 9.6806, 'eval_samples_per_second': 244.509, 'eval_steps_per_second': 15.288, 'epoch': 1.0}\n",
      "{'eval_loss': 0.5362317562103271, 'eval_f1': 0.7385086758121613, 'eval_recall': 0.7363271819954322, 'eval_runtime': 9.7598, 'eval_samples_per_second': 242.524, 'eval_steps_per_second': 15.164, 'epoch': 2.0}\n",
      "{'loss': 0.5069, 'grad_norm': 4.9960784912109375, 'learning_rate': 3.212945590994372e-05, 'epoch': 2.11}\n",
      "{'eval_loss': 0.7649835348129272, 'eval_f1': 0.7299225697567627, 'eval_recall': 0.7279058798266669, 'eval_runtime': 10.4936, 'eval_samples_per_second': 225.565, 'eval_steps_per_second': 14.104, 'epoch': 3.0}\n",
      "{'eval_loss': 1.014390468597412, 'eval_f1': 0.7355419103993105, 'eval_recall': 0.7334783308556098, 'eval_runtime': 11.0719, 'eval_samples_per_second': 213.785, 'eval_steps_per_second': 13.367, 'epoch': 4.0}\n",
      "{'loss': 0.1111, 'grad_norm': 13.731093406677246, 'learning_rate': 8.677298311444654e-06, 'epoch': 4.22}\n",
      "{'eval_loss': 1.1292332410812378, 'eval_f1': 0.7328202066455344, 'eval_recall': 0.7316281324612337, 'eval_runtime': 11.0247, 'eval_samples_per_second': 214.7, 'eval_steps_per_second': 13.424, 'epoch': 5.0}\n",
      "{'train_runtime': 591.4723, 'train_samples_per_second': 64.027, 'train_steps_per_second': 2.003, 'train_loss': 0.2656955489629432, 'epoch': 5.0}\n"
     ]
    },
    {
     "data": {
      "text/plain": [
       "TrainOutput(global_step=1185, training_loss=0.2656955489629432, metrics={'train_runtime': 591.4723, 'train_samples_per_second': 64.027, 'train_steps_per_second': 2.003, 'train_loss': 0.2656955489629432, 'epoch': 5.0})"
      ]
     },
     "execution_count": 44,
     "metadata": {},
     "output_type": "execute_result"
    }
   ],
   "source": [
    "trainer.train()"
   ]
  },
  {
   "cell_type": "code",
   "execution_count": 45,
   "id": "8925631b-f4c3-4cd5-9660-3fb18a4fc23a",
   "metadata": {},
   "outputs": [],
   "source": [
    "# Save trained model\n",
    "trainer.model.save_pretrained(\"robertuito_deacc/model\")"
   ]
  },
  {
   "cell_type": "code",
   "execution_count": 46,
   "id": "71acb97b-ebbd-45cb-a22e-c6bdcd193ee6",
   "metadata": {},
   "outputs": [
    {
     "data": {
      "application/vnd.jupyter.widget-view+json": {
       "model_id": "25b37bf572ce48c68319ba937a9abf7d",
       "version_major": 2,
       "version_minor": 0
      },
      "text/plain": [
       "VBox(children=(HTML(value='<center> <img\\nsrc=https://huggingface.co/front/assets/huggingface_logo-noborder.sv…"
      ]
     },
     "metadata": {},
     "output_type": "display_data"
    }
   ],
   "source": [
    "from huggingface_hub import notebook_login\n",
    "\n",
    "notebook_login()"
   ]
  },
  {
   "cell_type": "code",
   "execution_count": 47,
   "id": "c625a14c-e186-4a8b-8a24-3e666d1c4bf2",
   "metadata": {},
   "outputs": [],
   "source": [
    "# model.push_to_hub(\"pyupeu/robertuito-peruvian-sentiment\")\n",
    "# tokenizer.push_to_hub(\"pyupeu/robertuito-peruvian-sentiment\")"
   ]
  },
  {
   "cell_type": "markdown",
   "id": "9096a661-da6e-4085-8fe3-7e89bdaaffff",
   "metadata": {},
   "source": [
    "## Test on validation set"
   ]
  },
  {
   "cell_type": "code",
   "execution_count": 48,
   "id": "f2c407d3-9fa8-402c-85eb-7061a55c9984",
   "metadata": {
    "tags": []
   },
   "outputs": [],
   "source": [
    "#https://machinelearningmastery.com/gentle-introduction-to-the-bias-variance-trade-off-in-machine-learning/"
   ]
  },
  {
   "cell_type": "code",
   "execution_count": 49,
   "id": "6774e612-ae71-4898-89f8-9f837da5ab60",
   "metadata": {},
   "outputs": [],
   "source": [
    "# model.load_state_dict(torch.load(f'./robertuito_deacc/model', map_location=torch.device('cpu')))"
   ]
  },
  {
   "cell_type": "code",
   "execution_count": 50,
   "id": "34fec069",
   "metadata": {},
   "outputs": [
    {
     "name": "stdout",
     "output_type": "stream",
     "text": [
      "{'eval_loss': 0.5257450342178345, 'eval_f1': 0.7414882318532504, 'eval_recall': 0.738998907949224, 'eval_runtime': 8.7737, 'eval_samples_per_second': 215.873, 'eval_steps_per_second': 13.563, 'epoch': 5.0}\n"
     ]
    }
   ],
   "source": [
    "evaluation_results = trainer.evaluate(tokenized_ds[\"test\"])"
   ]
  },
  {
   "cell_type": "code",
   "execution_count": 51,
   "id": "7d9b0847-d809-4eeb-8b46-1a355b031930",
   "metadata": {},
   "outputs": [
    {
     "data": {
      "text/plain": [
       "PredictionOutput(predictions=array([[-0.4168789 ,  0.44544038, -0.25621465],\n",
       "       [ 2.2972934 , -1.3731513 , -1.1572438 ],\n",
       "       [-0.5661488 ,  0.52339256, -0.7788958 ],\n",
       "       ...,\n",
       "       [-0.92159164, -0.7467156 ,  1.4360622 ],\n",
       "       [ 3.2287216 , -1.8331386 , -1.2141429 ],\n",
       "       [-2.1027772 ,  0.7830549 ,  0.85252005]], dtype=float32), label_ids=array([1, 0, 2, ..., 2, 0, 1]), metrics={'test_loss': 0.5257450342178345, 'test_f1': 0.7414882318532504, 'test_recall': 0.738998907949224, 'test_runtime': 8.7599, 'test_samples_per_second': 216.212, 'test_steps_per_second': 13.585})"
      ]
     },
     "execution_count": 51,
     "metadata": {},
     "output_type": "execute_result"
    }
   ],
   "source": [
    "predictions = trainer.predict(tokenized_ds[\"test\"])\n",
    "predictions"
   ]
  },
  {
   "cell_type": "code",
   "execution_count": 52,
   "id": "c42a8ab3-93da-4162-967b-792ace795c70",
   "metadata": {},
   "outputs": [
    {
     "data": {
      "text/plain": [
       "1894"
      ]
     },
     "execution_count": 52,
     "metadata": {},
     "output_type": "execute_result"
    }
   ],
   "source": [
    "len(predictions[0])"
   ]
  },
  {
   "cell_type": "code",
   "execution_count": 53,
   "id": "1775df1a-f613-4c97-afab-87b3870abd21",
   "metadata": {},
   "outputs": [],
   "source": [
    "true_labels = tokenized_ds[\"test\"]['label']"
   ]
  },
  {
   "cell_type": "code",
   "execution_count": 54,
   "id": "26982e5f-dc6f-4bd5-a799-cad8e1e4728c",
   "metadata": {},
   "outputs": [
    {
     "data": {
      "text/plain": [
       "1894"
      ]
     },
     "execution_count": 54,
     "metadata": {},
     "output_type": "execute_result"
    }
   ],
   "source": [
    "len(true_labels)"
   ]
  },
  {
   "cell_type": "code",
   "execution_count": 55,
   "id": "a7087657-3e18-4ece-aa42-d96bea860046",
   "metadata": {},
   "outputs": [
    {
     "name": "stdout",
     "output_type": "stream",
     "text": [
      "              precision    recall  f1-score   support\n",
      "\n",
      "           0    0.85084   0.88332   0.86677       917\n",
      "           1    0.55496   0.54474   0.54980       380\n",
      "           2    0.82777   0.78894   0.80789       597\n",
      "\n",
      "    accuracy                        0.78564      1894\n",
      "   macro avg    0.74452   0.73900   0.74149      1894\n",
      "weighted avg    0.78420   0.78564   0.78462      1894\n",
      "\n"
     ]
    }
   ],
   "source": [
    "predicted_labels = [np.argmax(pred) for pred in predictions[0]]\n",
    "classification_rep = classification_report(true_labels, predicted_labels, digits=5)\n",
    "\n",
    "print(classification_rep)"
   ]
  },
  {
   "cell_type": "markdown",
   "id": "f08e7140-4928-4ee0-aa12-d0736711a0f9",
   "metadata": {},
   "source": [
    "# Error Analisys"
   ]
  },
  {
   "cell_type": "code",
   "execution_count": 56,
   "id": "46bbd55b",
   "metadata": {},
   "outputs": [],
   "source": [
    "#https://medium.com/@dtuk81/confusion-matrix-visualization-fc31e3f30fea\n",
    "val_df = ds['validation'].to_pandas()"
   ]
  },
  {
   "cell_type": "code",
   "execution_count": 57,
   "id": "737a62b3",
   "metadata": {},
   "outputs": [
    {
     "data": {
      "application/vnd.jupyter.widget-view+json": {
       "model_id": "961c2bf4ab3540e9b4b03ca83e07564a",
       "version_major": 2,
       "version_minor": 0
      },
      "text/plain": [
       "  0%|          | 0/2367 [00:00<?, ?it/s]"
      ]
     },
     "metadata": {},
     "output_type": "display_data"
    }
   ],
   "source": [
    "# We do this to view predictions in the pandas dataframe and easily filter them and perform error analysis.\n",
    "pred_final = []\n",
    "\n",
    "for i, row in tqdm(val_df.iterrows(), total=val_df.shape[0]):\n",
    "    predictions = []\n",
    "\n",
    "    text = row[\"text\"]\n",
    "    encoded_data_test_single = tokenizer.batch_encode_plus([text], \n",
    "    # add_special_tokens=config.add_special_tokens, \n",
    "    # return_attention_mask=config.return_attention_mask, \n",
    "    # pad_to_max_length=config.pad_to_max_length, \n",
    "    max_length=128,\n",
    "    # return_tensors=config.return_tensors\n",
    "    return_tensors=\"pt\"\n",
    "    )\n",
    "    input_ids_test = encoded_data_test_single['input_ids']\n",
    "    attention_masks_test = encoded_data_test_single['attention_mask']\n",
    "\n",
    "    \n",
    "    inputs = {'input_ids':      input_ids_test.to(device),\n",
    "              'attention_mask':attention_masks_test.to(device),\n",
    "             }\n",
    "\n",
    "    with torch.no_grad():        \n",
    "        outputs = model(**inputs)\n",
    "    \n",
    "    logits = outputs[0]\n",
    "    logits = logits.detach().cpu().numpy()\n",
    "    predictions.append(logits)\n",
    "    predictions = np.concatenate(predictions, axis=0)\n",
    "    pred_final.append(np.argmax(predictions, axis=1).flatten()[0])"
   ]
  },
  {
   "cell_type": "code",
   "execution_count": 58,
   "id": "e2d5ea48-4899-4cb3-9027-0ea1cf46c0e0",
   "metadata": {},
   "outputs": [],
   "source": [
    "# add pred into val_df\n",
    "val_df[\"pred\"] = pred_final"
   ]
  },
  {
   "cell_type": "code",
   "execution_count": 59,
   "id": "aebc0161-59a5-4fc6-a34a-45f47f0416c5",
   "metadata": {},
   "outputs": [],
   "source": [
    "#  Add control column for easier wrong and right predictions\n",
    "control = val_df.pred.values == val_df.label.values\n",
    "val_df[\"control\"] = control"
   ]
  },
  {
   "cell_type": "code",
   "execution_count": 60,
   "id": "76106d47-0012-41ec-9656-9d3227934bab",
   "metadata": {},
   "outputs": [],
   "source": [
    "# filtering false predictions\n",
    "#val_df = val_df[val_df.control == False]"
   ]
  },
  {
   "cell_type": "code",
   "execution_count": 61,
   "id": "ecdd05ba-780e-417f-a155-812850af1b93",
   "metadata": {},
   "outputs": [],
   "source": [
    "# label to intent mapping\n",
    "name2label = {\"Negative\":0,\n",
    "              \"Neutral\":1,\n",
    "             \"Positive\":2\n",
    "             }\n",
    "label2name = {v: k for k, v in name2label.items()}\n",
    "\n",
    "val_df[\"pred_name\"] = val_df.pred.apply(lambda x: label2name.get(x)) "
   ]
  },
  {
   "cell_type": "code",
   "execution_count": 62,
   "id": "0e076559-81d8-4997-979e-330b1e15f200",
   "metadata": {},
   "outputs": [],
   "source": [
    "\n",
    "# We create a confusion matrix to better observe the classes that the model confuses.\n",
    "pred_name_values = val_df.pred_name.values\n",
    "label_values = val_df.label_name.values\n",
    "confmat = confusion_matrix(label_values, pred_name_values, labels=list(name2label.keys()))"
   ]
  },
  {
   "cell_type": "code",
   "execution_count": 63,
   "id": "86229af8-4484-4551-bfca-7280b8eab020",
   "metadata": {},
   "outputs": [
    {
     "data": {
      "text/plain": [
       "array([[787, 304,  55],\n",
       "       [ 71, 317,  87],\n",
       "       [ 59, 180, 507]])"
      ]
     },
     "execution_count": 63,
     "metadata": {},
     "output_type": "execute_result"
    }
   ],
   "source": [
    "confmat"
   ]
  },
  {
   "cell_type": "code",
   "execution_count": 64,
   "id": "a282fc0e-f045-430b-9126-194627f8c043",
   "metadata": {},
   "outputs": [
    {
     "data": {
      "text/html": [
       "<div>\n",
       "<style scoped>\n",
       "    .dataframe tbody tr th:only-of-type {\n",
       "        vertical-align: middle;\n",
       "    }\n",
       "\n",
       "    .dataframe tbody tr th {\n",
       "        vertical-align: top;\n",
       "    }\n",
       "\n",
       "    .dataframe thead th {\n",
       "        text-align: right;\n",
       "    }\n",
       "</style>\n",
       "<table border=\"1\" class=\"dataframe\">\n",
       "  <thead>\n",
       "    <tr style=\"text-align: right;\">\n",
       "      <th>col_0</th>\n",
       "      <th>Negative</th>\n",
       "      <th>Neutral</th>\n",
       "      <th>Positive</th>\n",
       "    </tr>\n",
       "    <tr>\n",
       "      <th>row_0</th>\n",
       "      <th></th>\n",
       "      <th></th>\n",
       "      <th></th>\n",
       "    </tr>\n",
       "  </thead>\n",
       "  <tbody>\n",
       "    <tr>\n",
       "      <th>Negative</th>\n",
       "      <td>787</td>\n",
       "      <td>304</td>\n",
       "      <td>55</td>\n",
       "    </tr>\n",
       "    <tr>\n",
       "      <th>Neutral</th>\n",
       "      <td>71</td>\n",
       "      <td>317</td>\n",
       "      <td>87</td>\n",
       "    </tr>\n",
       "    <tr>\n",
       "      <th>Positive</th>\n",
       "      <td>59</td>\n",
       "      <td>180</td>\n",
       "      <td>507</td>\n",
       "    </tr>\n",
       "  </tbody>\n",
       "</table>\n",
       "</div>"
      ],
      "text/plain": [
       "col_0     Negative  Neutral  Positive\n",
       "row_0                                \n",
       "Negative       787      304        55\n",
       "Neutral         71      317        87\n",
       "Positive        59      180       507"
      ]
     },
     "execution_count": 64,
     "metadata": {},
     "output_type": "execute_result"
    }
   ],
   "source": [
    "df_confusion_val = pd.crosstab(label_values, pred_name_values)\n",
    "df_confusion_val"
   ]
  },
  {
   "cell_type": "code",
   "execution_count": 65,
   "id": "8e6e4c35-1a05-44f2-8b40-a7a6dee7ae49",
   "metadata": {},
   "outputs": [],
   "source": [
    "# save confusion matrix df\n",
    "df_confusion_val.to_csv(\"val_df_confusion.csv\")"
   ]
  },
  {
   "cell_type": "code",
   "execution_count": 66,
   "id": "313895af-eb99-43a0-bb0e-d6bc5d210c42",
   "metadata": {},
   "outputs": [
    {
     "data": {
      "image/png": "[encoded data removed]",
      "text/plain": [
       "<Figure size 500x400 with 2 Axes>"
      ]
     },
     "metadata": {},
     "output_type": "display_data"
    }
   ],
   "source": [
    "from sklearn.svm import SVC\n",
    "from sklearn.metrics import confusion_matrix\n",
    "import seaborn as sns\n",
    "import matplotlib.pyplot as plt\n",
    "cm = confusion_matrix(label_values, pred_name_values)\n",
    "cm_df = pd.DataFrame(cm,\n",
    "                     index = ['Negative','Neutral','Positive'], \n",
    "                     columns = ['Negative','Neutral','Positive'])\n",
    "plt.figure(figsize=(5,4))\n",
    "sns.heatmap(cm_df, annot=True,fmt=\".0f\")\n",
    "plt.title('Confusion Matrix')\n",
    "plt.ylabel('Actual Values')\n",
    "plt.xlabel('Predicted Values')\n",
    "plt.show()"
   ]
  },
  {
   "cell_type": "code",
   "execution_count": 67,
   "id": "10bdec52-f933-408e-981d-1d36870cc039",
   "metadata": {},
   "outputs": [],
   "source": [
    "val_df.to_csv('train_validation.csv', columns=['text', 'label', 'char_count', 'pred', 'control', 'pred_name'])"
   ]
  },
  {
   "cell_type": "markdown",
   "id": "c79614ce-e047-449c-b3a8-83ed2becfc20",
   "metadata": {},
   "source": [
    "## Inference"
   ]
  },
  {
   "cell_type": "code",
   "execution_count": 68,
   "id": "04ce937d-9bfc-43c1-88a9-d99a4c7f56ae",
   "metadata": {},
   "outputs": [
    {
     "data": {
      "text/plain": [
       "['christian a. palomino christofher k. chqu carlos novoa chavez fiorella vilchez katherine ardiles podríamos hacer estooo ?  emoji cara llorando fuerte emoji  emoji cara llorando fuerte emoji  emoji cara llorando fuerte emoji  salgamos parfavar...!',\n",
       " 'la chuecona no pasa nada es gorda no tiene forma mil veces xoana un amor  emoji cara saboreando comida emoji',\n",
       " 'para pulirla necesita una lija de fierro la más gruesa, o talves se canso de pulir 🤦 emoji tono de piel claro emoji \\u200d🤦 emoji tono de piel claro emoji \\u200d🤦 emoji tono de piel claro emoji \\u200d emoji cara revolviéndose de la risa emoji  emoji cara revolviéndose de la risa emoji  emoji cara revolviéndose de la risa emoji  emoji pulgar hacia arriba emoji  emoji pulgar hacia arriba emoji  emoji pulgar hacia arriba emoji',\n",
       " 'emoji cara vomitando emoji  emoji cara vomitando emoji  emoji cara vomitando emoji  guacala ese maletero',\n",
       " 'xabier cañola miñan que hago yo ahí?  emoji cara llorando de risa emoji  emoji cara llorando de risa emoji  emoji cara llorando de risa emoji',\n",
       " 'recontra flaca. obvio métele al panetón pero también un par de papás al caldo   emoji cara llorando de risa emoji  emoji cara llorando de risa emoji  emoji cara llorando de risa emoji',\n",
       " 'victor quiroz el cuto quiroz ,tu tbm tienes tu cachito pura vida  emoji cara llorando de risa emoji  emoji cara llorando de risa emoji  emoji cara llorando de risa emoji',\n",
       " 'daniel daniela micaela vao!  emoji cara guiñando el ojo emoji',\n",
       " 'wao eres un capo! como le haces para meter tanta comida jaja  emoji cara sonriendo con ojos sonrientes emoji  emoji cara sonriendo con ojos grandes emoji  emoji cara sonriendo con ojos grandes emoji  emoji cara sonriendo con sudor frío emoji  muy buen vídeo !! resalta lo mejor de la selva',\n",
       " 'que rico, en argentina es un plato de cuando yo era chica y cuando yo alimentaba a mi familia. con el tiempo se ha perdido un poco pero para mi es un clásico. solo algunas variantes el pollo en 8 presas, morron colorado en lugar del ají amarillo que acá no tenemos y vinito blanco en lugar de cerveza. sin culantro con perejil y si hay y se puede con azafrán. gracias amigo salute, gran abrazo desde argentina  emoji bandera argentina emoji']"
      ]
     },
     "execution_count": 68,
     "metadata": {},
     "output_type": "execute_result"
    }
   ],
   "source": [
    "tokenized_ds['test']['text'][:10]"
   ]
  },
  {
   "cell_type": "code",
   "execution_count": 69,
   "id": "1b6b284f-e6f6-4232-a1f0-15bda7fc19b3",
   "metadata": {},
   "outputs": [],
   "source": [
    "test_df = ds['test'].to_pandas()"
   ]
  },
  {
   "cell_type": "markdown",
   "id": "605a2977-2c26-400e-8cf3-5bb8f7d8acab",
   "metadata": {},
   "source": [
    "## Evaluate the Model Qualitatively (Human Evaluation)"
   ]
  },
  {
   "cell_type": "markdown",
   "id": "0f845c19-224f-49d8-8438-b13c2a4e5ffb",
   "metadata": {},
   "source": [
    "## Evaluate the Model Quantitatively (with F1 Metric)"
   ]
  },
  {
   "cell_type": "code",
   "execution_count": 70,
   "id": "c839bdd5",
   "metadata": {},
   "outputs": [],
   "source": [
    "texts = test_df[0:20]['text']\n",
    "human_baseline_labels = test_df[0:20]['label']"
   ]
  },
  {
   "cell_type": "code",
   "execution_count": 71,
   "id": "0ebbb4a1",
   "metadata": {},
   "outputs": [
    {
     "data": {
      "text/plain": [
       "0                                                                                                                                                             christian a. palomino christofher k. chqu carlos novoa chavez fiorella vilchez katherine ardiles podríamos hacer estooo ? 😭😭😭 salgamos parfavar...!\n",
       "1                                                                                                                                                                                                                                      la chuecona no pasa nada es gorda no tiene forma mil veces xoana un amor 😋\n",
       "2                                                                                                                                                                                                           para pulirla necesita una lija de fierro la más gruesa, o talves se canso de pulir 🤦🏻‍️🤦🏻‍️🤦🏻‍️🤣🤣🤣👍👍👍\n",
       "3                                                                                                                                                                                                                                                                                        🤮🤮🤮 guacala ese maletero\n",
       "4                                                                                                                                                                                                                                                                        xabier cañola miñan que hago yo ahí? 😂😂😂\n",
       "5                                                                                                                                                                                                                              recontra flaca. obvio métele al panetón pero también un par de papás al caldo  😂😂😂\n",
       "6                                                                                                                                                                                                                                            victor quiroz el cuto quiroz ,tu tbm tienes tu cachito pura vida 😂😂😂\n",
       "7                                                                                                                                                                                                                                                                                   daniel daniela micaela vao! 😉\n",
       "8                                                                                                                                                                                                wao eres un capo! como le haces para meter tanta comida jaja 😄😃😃😅 muy buen vídeo !! resalta lo mejor de la selva\n",
       "9     que rico, en argentina es un plato de cuando yo era chica y cuando yo alimentaba a mi familia. con el tiempo se ha perdido un poco pero para mi es un clásico. solo algunas variantes el pollo en 8 presas, morron colorado en lugar del ají amarillo que acá no tenemos y vinito blanco en lugar de cer...\n",
       "10                                                                                                                                                                                                                                                                               zzzp pa tarao nadi gana bario 🤣🤣\n",
       "11                                                                                                                                                                                            con machete en mano un pretendiente a la presidencia. así de mal estamos. encima le hacen arengas. 🤦🏻‍️🤦🏻‍️🤦🏻‍️🤦🏻‍️\n",
       "12    por protestar en contra de repsol ,empresa que contaminó nuestro litoral peruano , matando flora y fauna, dejando sin trabajo a muchos pescadores...es ser de izquierda?  entonces soy de izquierda y a mucha honra!!  debes de ser un ser despreciable, miserable y lleno de odio y frustrado para segu...\n",
       "13                                                                             sé que dentro de esa casa han demostrado lo que verdaderamente son como persona. y nicolás ha demostrado ser un gran ser humano y un buen hombre por eso lo queremos 💞 aunque en su país no. pero yo que soy de nicaragua lo amo ️\n",
       "14                                                                                                                                                                                                                                                                                               cava sintió frío\n",
       "15                                                                                                                                                                                                                                                                  ese sonido de guitarra ayacuchana, hermoso 😊🖤\n",
       "16                                                                                                                                                                                                        marilin yashira como cuando mi amiga me dice q le viene la regla y al día siguiente a mi también 😑 jaja\n",
       "17                                                                                                                                                                                                                                                                ladrón que roba a ladrón, hermano, ya sabes qué\n",
       "18                                                                                                                                                                                                                                          con nancy isa  y karina solis carbajal para recordar viejos tiempos 😘\n",
       "19                                                              aqui todo explicadito sobre la gran labor de hashtag interartis estoy mas que contento y seguro con ellos, gracias emilio montero, cecilia tosso y todo los grandes profesionales que estan detras de la preocupacion de nuestro trabajo 🎥 📽️ 🎭💚🌟\n",
       "Name: text, dtype: object"
      ]
     },
     "execution_count": 71,
     "metadata": {},
     "output_type": "execute_result"
    }
   ],
   "source": [
    "texts"
   ]
  },
  {
   "cell_type": "code",
   "execution_count": 72,
   "id": "fb03153f",
   "metadata": {},
   "outputs": [
    {
     "data": {
      "text/plain": [
       "0     1\n",
       "1     0\n",
       "2     2\n",
       "3     0\n",
       "4     1\n",
       "5     1\n",
       "6     1\n",
       "7     1\n",
       "8     2\n",
       "9     1\n",
       "10    0\n",
       "11    0\n",
       "12    0\n",
       "13    2\n",
       "14    0\n",
       "15    2\n",
       "16    0\n",
       "17    1\n",
       "18    2\n",
       "19    2\n",
       "Name: label, dtype: int64"
      ]
     },
     "execution_count": 72,
     "metadata": {},
     "output_type": "execute_result"
    }
   ],
   "source": [
    "human_baseline_labels"
   ]
  },
  {
   "cell_type": "code",
   "execution_count": 73,
   "id": "b059373f-0e08-4361-852c-70604bf9753b",
   "metadata": {},
   "outputs": [],
   "source": [
    "def get_prediction(text):\n",
    "    input_ids = tokenizer(text, return_tensors=\"pt\", max_length=128).input_ids.to('cuda')\n",
    "    logits = model(input_ids).logits\n",
    "    probabilities = logits.softmax(dim=-1).tolist()[0]\n",
    "    return np.argmax(probabilities).flatten()[0]"
   ]
  },
  {
   "cell_type": "code",
   "execution_count": 74,
   "id": "ab8436a9",
   "metadata": {},
   "outputs": [],
   "source": [
    "#original_model_summaries = []\n",
    "model_classifications = []\n",
    "for _, text in enumerate(texts):\n",
    "    model_classifications.append(get_prediction(text))"
   ]
  },
  {
   "cell_type": "code",
   "execution_count": 75,
   "id": "8a1a671b",
   "metadata": {},
   "outputs": [
    {
     "data": {
      "text/plain": [
       "[1, 0, 1, 1, 1, 1, 2, 2, 2, 2, 1, 0, 0, 2, 1, 2, 1, 1, 1, 2]"
      ]
     },
     "execution_count": 75,
     "metadata": {},
     "output_type": "execute_result"
    }
   ],
   "source": [
    "model_classifications"
   ]
  },
  {
   "cell_type": "markdown",
   "id": "74b8d163-87c1-4bde-b34d-77bd814d30c5",
   "metadata": {},
   "source": [
    "## Step by step predictions on dataframe"
   ]
  },
  {
   "cell_type": "code",
   "execution_count": 76,
   "id": "d7bca6e6-8d63-479f-ba6f-c2ad91651097",
   "metadata": {},
   "outputs": [
    {
     "data": {
      "application/vnd.jupyter.widget-view+json": {
       "model_id": "de3a1a6993af44c595b8c0fad7104569",
       "version_major": 2,
       "version_minor": 0
      },
      "text/plain": [
       "  0%|          | 0/1894 [00:00<?, ?it/s]"
      ]
     },
     "metadata": {},
     "output_type": "display_data"
    }
   ],
   "source": [
    "# We do this to view predictions in the pandas dataframe and easily filter them and perform error analysis.\n",
    "pred_test_final = []\n",
    "\n",
    "for i, row in tqdm(test_df.iterrows(), total=test_df.shape[0]):\n",
    "    predictions = []\n",
    "\n",
    "    text = row[\"text\"]\n",
    "    encoded_data_test_single = tokenizer.batch_encode_plus([text], \n",
    "    # add_special_tokens=config.add_special_tokens, \n",
    "    # return_attention_mask=config.return_attention_mask, \n",
    "    # pad_to_max_length=config.pad_to_max_length, \n",
    "    max_length=128,\n",
    "    # return_tensors=config.return_tensors\n",
    "    return_tensors=\"pt\"\n",
    "    )\n",
    "    input_ids_test = encoded_data_test_single['input_ids']\n",
    "    attention_masks_test = encoded_data_test_single['attention_mask']\n",
    "\n",
    "    \n",
    "    inputs = {'input_ids':      input_ids_test.to(device),\n",
    "              'attention_mask':attention_masks_test.to(device),\n",
    "             }\n",
    "\n",
    "    with torch.no_grad():        \n",
    "        outputs = model(**inputs)\n",
    "    \n",
    "    logits = outputs[0]\n",
    "    logits = logits.detach().cpu().numpy()\n",
    "    predictions.append(logits)\n",
    "    predictions = np.concatenate(predictions, axis=0)\n",
    "    pred_test_final.append(np.argmax(predictions, axis=1).flatten()[0])"
   ]
  },
  {
   "cell_type": "code",
   "execution_count": 77,
   "id": "de58df71-e97b-42e0-afc0-409674e51192",
   "metadata": {},
   "outputs": [
    {
     "data": {
      "text/plain": [
       "1894"
      ]
     },
     "execution_count": 77,
     "metadata": {},
     "output_type": "execute_result"
    }
   ],
   "source": [
    "len(pred_test_final)"
   ]
  },
  {
   "cell_type": "code",
   "execution_count": 78,
   "id": "bd2006db-9289-4c59-87c7-0ee43eee7b8a",
   "metadata": {},
   "outputs": [],
   "source": [
    "# add pred into val_df\n",
    "test_df[\"pred\"] = pred_test_final"
   ]
  },
  {
   "cell_type": "code",
   "execution_count": 79,
   "id": "73271066-d333-43f8-a93c-7ccf08e0cf5a",
   "metadata": {},
   "outputs": [],
   "source": [
    "# label to intent mapping\n",
    "name2label = {\"Negative\":0,\n",
    "              \"Neutral\":1,\n",
    "             \"Positive\":2\n",
    "             }\n",
    "label2name = {v: k for k, v in name2label.items()}\n",
    "\n",
    "test_df[\"pred_name\"] = test_df.pred.apply(lambda x: label2name.get(x)) "
   ]
  },
  {
   "cell_type": "code",
   "execution_count": 80,
   "id": "3915dde3-c3e7-4bc7-9726-bc6ecce61968",
   "metadata": {},
   "outputs": [
    {
     "data": {
      "text/html": [
       "<div>\n",
       "<style scoped>\n",
       "    .dataframe tbody tr th:only-of-type {\n",
       "        vertical-align: middle;\n",
       "    }\n",
       "\n",
       "    .dataframe tbody tr th {\n",
       "        vertical-align: top;\n",
       "    }\n",
       "\n",
       "    .dataframe thead th {\n",
       "        text-align: right;\n",
       "    }\n",
       "</style>\n",
       "<table border=\"1\" class=\"dataframe\">\n",
       "  <thead>\n",
       "    <tr style=\"text-align: right;\">\n",
       "      <th></th>\n",
       "      <th>text</th>\n",
       "      <th>label</th>\n",
       "      <th>label_name</th>\n",
       "      <th>text_original</th>\n",
       "      <th>tokenized_text</th>\n",
       "      <th>sent_token_length</th>\n",
       "      <th>sent_bert_token_length</th>\n",
       "      <th>char_count</th>\n",
       "      <th>Character Count</th>\n",
       "      <th>pred</th>\n",
       "      <th>pred_name</th>\n",
       "    </tr>\n",
       "  </thead>\n",
       "  <tbody>\n",
       "    <tr>\n",
       "      <th>302</th>\n",
       "      <td>q ya vuelta tienes en tu cabezita 🤪</td>\n",
       "      <td>0</td>\n",
       "      <td>Negative</td>\n",
       "      <td>Q ya vuelta tienes en tu cabezita 🤪</td>\n",
       "      <td>q ya vuelta tienes en tu cabezita 🤪</td>\n",
       "      <td>8</td>\n",
       "      <td>9</td>\n",
       "      <td>35</td>\n",
       "      <td>35</td>\n",
       "      <td>0</td>\n",
       "      <td>Negative</td>\n",
       "    </tr>\n",
       "    <tr>\n",
       "      <th>137</th>\n",
       "      <td>provecho chinito que rico comes ya me dió hambre ahorita me voy a hacer unos ricos tallarines ️</td>\n",
       "      <td>2</td>\n",
       "      <td>Positive</td>\n",
       "      <td>Provecho chinito que rico comes ya me dió hambre ahorita me voy a hacer unos ricos tallarines ❤️</td>\n",
       "      <td>provecho chinito que rico comes ya me dió hambre ahorita me voy a hacer unos ricos tallarines ️</td>\n",
       "      <td>18</td>\n",
       "      <td>21</td>\n",
       "      <td>95</td>\n",
       "      <td>95</td>\n",
       "      <td>2</td>\n",
       "      <td>Positive</td>\n",
       "    </tr>\n",
       "    <tr>\n",
       "      <th>1565</th>\n",
       "      <td>yo soy alla  pero no conosco dode bende la papa rellen tan crocante hoye amigo te folto conoser muchos platillos  desde bolivia muchos cariños para mi tierra querida huanuco la perri choli😀😀😀</td>\n",
       "      <td>2</td>\n",
       "      <td>Positive</td>\n",
       "      <td>Yo soy alla  pero no conosco dode bende la papa rellen tan crocante hoye amigo te folto conoser muchos platillos  desde bolivia muchos cariños para mi tierra querida huanuco la perri choli😀😀😀😀</td>\n",
       "      <td>yo soy alla  pero no conosco dode bende la papa rellen tan crocante hoye amigo te folto conoser muchos platillos  desde bolivia muchos cariños para mi tierra querida huanuco la perri choli😀😀😀</td>\n",
       "      <td>32</td>\n",
       "      <td>46</td>\n",
       "      <td>191</td>\n",
       "      <td>191</td>\n",
       "      <td>2</td>\n",
       "      <td>Positive</td>\n",
       "    </tr>\n",
       "    <tr>\n",
       "      <th>403</th>\n",
       "      <td>siempre poner jugadores de nombre que no hacen ni desacen ⭐️necesitamos un dt. como nunes de brazil  el si arriesga con jovenes promesas ⚽️🏆⭐️</td>\n",
       "      <td>0</td>\n",
       "      <td>Negative</td>\n",
       "      <td>Siempre poner jugadores de Nombre que no hacen ni desacen ⭐️Necesitamos un DT. Como NUNES de BRAZIL  el si arriesga con Jovenes Promesas ⚽️🏆⭐️</td>\n",
       "      <td>siempre poner jugadores de nombre que no hacen ni desacen ⭐️necesitamos un dt  como nunes de brazil  el si arriesga con jovenes promesas ⚽️🏆⭐️</td>\n",
       "      <td>24</td>\n",
       "      <td>29</td>\n",
       "      <td>142</td>\n",
       "      <td>142</td>\n",
       "      <td>1</td>\n",
       "      <td>Neutral</td>\n",
       "    </tr>\n",
       "    <tr>\n",
       "      <th>120</th>\n",
       "      <td>gordito tu trabajo es hueveo no tiene riesgo 😂😂😂</td>\n",
       "      <td>0</td>\n",
       "      <td>Negative</td>\n",
       "      <td>Gordito tu trabajo es hueveo No tiene riesgo 😂😂😂</td>\n",
       "      <td>gordito tu trabajo es hueveo no tiene riesgo 😂😂😂</td>\n",
       "      <td>9</td>\n",
       "      <td>11</td>\n",
       "      <td>48</td>\n",
       "      <td>48</td>\n",
       "      <td>2</td>\n",
       "      <td>Positive</td>\n",
       "    </tr>\n",
       "    <tr>\n",
       "      <th>702</th>\n",
       "      <td>ya comimos ayer arroz, huevo, platanitod y su arto rocoto con huacatay buenazooo. solo que no tomé foto 😔</td>\n",
       "      <td>2</td>\n",
       "      <td>Positive</td>\n",
       "      <td>Ya comimos ayer arroz, huevo, platanitod y su arto rocoto con huacatay Buenazooooooooo. Solo que no tomé foto 😔</td>\n",
       "      <td>ya comimos ayer arroz  huevo  platanitod y su arto rocoto con huacatay buenazooo  solo que no tomé foto 😔</td>\n",
       "      <td>19</td>\n",
       "      <td>31</td>\n",
       "      <td>105</td>\n",
       "      <td>105</td>\n",
       "      <td>1</td>\n",
       "      <td>Neutral</td>\n",
       "    </tr>\n",
       "    <tr>\n",
       "      <th>192</th>\n",
       "      <td>nicola me llega ala huaraca 😅😅😅</td>\n",
       "      <td>0</td>\n",
       "      <td>Negative</td>\n",
       "      <td>Nicola me llega ala huaraca 😅😅😅😅😅😅😅</td>\n",
       "      <td>nicola me llega ala huaraca 😅😅😅</td>\n",
       "      <td>6</td>\n",
       "      <td>9</td>\n",
       "      <td>31</td>\n",
       "      <td>31</td>\n",
       "      <td>0</td>\n",
       "      <td>Negative</td>\n",
       "    </tr>\n",
       "    <tr>\n",
       "      <th>589</th>\n",
       "      <td>hahaha no sé xk me hizo recordar la palabra mongol 🤔😅 ahora si vamos felix</td>\n",
       "      <td>1</td>\n",
       "      <td>Neutral</td>\n",
       "      <td>Hahaha no sé xk me hizo recordar la palabra mongol 🤔😅 ahora si vamos Felix</td>\n",
       "      <td>hahaha no sé xk me hizo recordar la palabra mongol 🤔😅 ahora si vamos felix</td>\n",
       "      <td>15</td>\n",
       "      <td>16</td>\n",
       "      <td>74</td>\n",
       "      <td>74</td>\n",
       "      <td>1</td>\n",
       "      <td>Neutral</td>\n",
       "    </tr>\n",
       "    <tr>\n",
       "      <th>1135</th>\n",
       "      <td>buen video causita me hiciste la tarde 🤣🤣... me senti identificado xd :v</td>\n",
       "      <td>2</td>\n",
       "      <td>Positive</td>\n",
       "      <td>Buen video causita me hiciste la tarde 🤣🤣... me senti identificado xD :v</td>\n",
       "      <td>buen video causita me hiciste la tarde 🤣🤣    me senti identificado xd  v</td>\n",
       "      <td>13</td>\n",
       "      <td>14</td>\n",
       "      <td>72</td>\n",
       "      <td>72</td>\n",
       "      <td>2</td>\n",
       "      <td>Positive</td>\n",
       "    </tr>\n",
       "    <tr>\n",
       "      <th>1457</th>\n",
       "      <td>woww super cool, que chevere del perú para el mundo directito al travel and living channel 😁, felicitaciones por el primer lugar 🎉!! disfruto mucho mirando los videos de tu programa y lo super fresco de la conduccion</td>\n",
       "      <td>2</td>\n",
       "      <td>Positive</td>\n",
       "      <td>Woww super cool, que chevere del Perú para el mundo directito al travel and living channel 😁, felicitaciones por el primer lugar 🎉!! Disfruto mucho mirando los videos de tu programa y lo super fresco de la conduccion</td>\n",
       "      <td>woww super cool  que chevere del perú para el mundo directito al travel and living channel 😁  felicitaciones por el primer lugar 🎉   disfruto mucho mirando los videos de tu programa y lo super fresco de la conduccion</td>\n",
       "      <td>38</td>\n",
       "      <td>43</td>\n",
       "      <td>216</td>\n",
       "      <td>216</td>\n",
       "      <td>2</td>\n",
       "      <td>Positive</td>\n",
       "    </tr>\n",
       "    <tr>\n",
       "      <th>1149</th>\n",
       "      <td>👏👏 bravo la habitación de henry spencer te dije mi hermano si procedes a indecopi te aseguro que esa denuncia está ganada e incluso te pueden dar una indemnización por daños y perjuicios ya que estabas haciendo una entrevista que se tuvo que cancelar por la accionar totalmente arbitraria e injus...</td>\n",
       "      <td>2</td>\n",
       "      <td>Positive</td>\n",
       "      <td>👏👏 Bravo La Habitación de Henry Spencer Te dije mi hermano si procedes a Indecopi te aseguro que esa denuncia está ganada e incluso te pueden dar una indemnización por daños y perjuicios ya que estabas haciendo una entrevista que se tuvo que cancelar por la accionar totalmente arbitraria e injus...</td>\n",
       "      <td>👏👏 bravo la habitación de henry spencer te dije mi hermano si procedes a indecopi te aseguro que esa denuncia está ganada e incluso te pueden dar una indemnización por daños y perjuicios ya que estabas haciendo una entrevista que se tuvo que cancelar por la accionar totalmente arbitraria e injus...</td>\n",
       "      <td>99</td>\n",
       "      <td>118</td>\n",
       "      <td>553</td>\n",
       "      <td>553</td>\n",
       "      <td>0</td>\n",
       "      <td>Negative</td>\n",
       "    </tr>\n",
       "    <tr>\n",
       "      <th>1144</th>\n",
       "      <td>rodolfo vega roque!! ya sabes me guardas como tiene que ser 😡 nada de sahiriña,  narizona 😣</td>\n",
       "      <td>0</td>\n",
       "      <td>Negative</td>\n",
       "      <td>Rodolfo Vega Roque!! Ya sabes me guardas como tiene que ser 😡 nada de sahiriña,  narizona 😣</td>\n",
       "      <td>rodolfo vega roque   ya sabes me guardas como tiene que ser 😡 nada de sahiriña   narizona 😣</td>\n",
       "      <td>17</td>\n",
       "      <td>24</td>\n",
       "      <td>91</td>\n",
       "      <td>91</td>\n",
       "      <td>1</td>\n",
       "      <td>Neutral</td>\n",
       "    </tr>\n",
       "    <tr>\n",
       "      <th>804</th>\n",
       "      <td>waldir un tipo que del club muy respetable , pero como persona no era un ejemplo. tienes a barcos que le regaló un depa a su niñera tío no compares pue. waldir le regalaba mucho polvo a tula 😂😂😂</td>\n",
       "      <td>0</td>\n",
       "      <td>Negative</td>\n",
       "      <td>Waldir un tipo que del club muy respetable , pero como persona no era un ejemplo. Tienes a barcos que le regaló un depa a su niñera tío no compares pue. Waldir le regalaba mucho polvo a Tula 😂😂😂</td>\n",
       "      <td>waldir un tipo que del club muy respetable   pero como persona no era un ejemplo  tienes a barcos que le regaló un depa a su niñera tío no compares pue  waldir le regalaba mucho polvo a tula 😂😂😂</td>\n",
       "      <td>39</td>\n",
       "      <td>49</td>\n",
       "      <td>194</td>\n",
       "      <td>194</td>\n",
       "      <td>2</td>\n",
       "      <td>Positive</td>\n",
       "    </tr>\n",
       "    <tr>\n",
       "      <th>1038</th>\n",
       "      <td>nooo!! que te hiciste 👴🏻👴🏻 quítate ese mostacho 👎🏻 bueno aunque como eres modelo seguro es para algún comercial o algo así 😘😘 y si!,en piura se come buenazo recuerdo al rest \"el nuevo ajicito\" 10 puntos 👍🤗</td>\n",
       "      <td>2</td>\n",
       "      <td>Positive</td>\n",
       "      <td>Nooo!! Que te hiciste 👴🏻👴🏻 quítate ese mostacho 👎🏻 bueno aunque como eres modelo seguro es para algún comercial o algo así 😘😘 y si!,en Piura se come buenazo recuerdo al rest “el nuevo ajicito” 10 puntos 👍🤗</td>\n",
       "      <td>nooo   que te hiciste 👴🏻👴🏻 quítate ese mostacho 👎🏻 bueno aunque como eres modelo seguro es para algún comercial o algo así 😘😘 y si  en piura se come buenazo recuerdo al rest  el nuevo ajicito  10 puntos 👍🤗</td>\n",
       "      <td>38</td>\n",
       "      <td>49</td>\n",
       "      <td>205</td>\n",
       "      <td>205</td>\n",
       "      <td>2</td>\n",
       "      <td>Positive</td>\n",
       "    </tr>\n",
       "    <tr>\n",
       "      <th>807</th>\n",
       "      <td>así te compro 5 helados y te invito una chela 😂</td>\n",
       "      <td>1</td>\n",
       "      <td>Neutral</td>\n",
       "      <td>Así te compro 5 helados y te invito una chela 😂</td>\n",
       "      <td>así te compro 5 helados y te invito una chela 😂</td>\n",
       "      <td>11</td>\n",
       "      <td>13</td>\n",
       "      <td>47</td>\n",
       "      <td>47</td>\n",
       "      <td>1</td>\n",
       "      <td>Neutral</td>\n",
       "    </tr>\n",
       "    <tr>\n",
       "      <th>1470</th>\n",
       "      <td>termina con tu flaco y estate con migo, yo si tengo cerebro, gaaa 🇵🇪 aparte soy peruano medio coreano :3</td>\n",
       "      <td>0</td>\n",
       "      <td>Negative</td>\n",
       "      <td>Termina con tu flaco y estate con migo, yo si tengo cerebro, GAAAAAA 🇵🇪 aparte soy peruano medio coreano :3</td>\n",
       "      <td>termina con tu flaco y estate con migo  yo si tengo cerebro  gaaa 🇵🇪 aparte soy peruano medio coreano  3</td>\n",
       "      <td>20</td>\n",
       "      <td>24</td>\n",
       "      <td>104</td>\n",
       "      <td>104</td>\n",
       "      <td>1</td>\n",
       "      <td>Neutral</td>\n",
       "    </tr>\n",
       "    <tr>\n",
       "      <th>536</th>\n",
       "      <td>creo que beto tiene un zambo caneado y quiere ya llevárselo a su casa🤔</td>\n",
       "      <td>0</td>\n",
       "      <td>Negative</td>\n",
       "      <td>Creo que beto tiene un zambo caneado y quiere ya llevárselo a su casa🤔</td>\n",
       "      <td>creo que beto tiene un zambo caneado y quiere ya llevárselo a su casa🤔</td>\n",
       "      <td>14</td>\n",
       "      <td>19</td>\n",
       "      <td>70</td>\n",
       "      <td>70</td>\n",
       "      <td>1</td>\n",
       "      <td>Neutral</td>\n",
       "    </tr>\n",
       "    <tr>\n",
       "      <th>389</th>\n",
       "      <td>ed: siono causa! 🦌piero🐐: si causaaa!</td>\n",
       "      <td>1</td>\n",
       "      <td>Neutral</td>\n",
       "      <td>Ed: siono causa! 🦌Piero🐐: si causaaa!</td>\n",
       "      <td>ed  siono causa  🦌piero🐐  si causaaa</td>\n",
       "      <td>6</td>\n",
       "      <td>13</td>\n",
       "      <td>37</td>\n",
       "      <td>37</td>\n",
       "      <td>1</td>\n",
       "      <td>Neutral</td>\n",
       "    </tr>\n",
       "    <tr>\n",
       "      <th>1383</th>\n",
       "      <td>tu que sabes pituca millonaria a ti no te falta nada xk tus generaciones pitucas lo tinen todo dios sabra que corruccion habran echo para que tengas buena economia mientras el pueblo es pobre cuando llueve todo se moja todas a enriquesernos con nuestros minerales u otros que el perú posee no sol...</td>\n",
       "      <td>0</td>\n",
       "      <td>Negative</td>\n",
       "      <td>Tu que sabes pituca millonaria a ti no te falta nada xk tus generaciones pitucas lo tinen todo dios sabra que corruccion habran echo para que tengas buena economia mientras el pueblo es pobre cuando llueve todo se moja todas a enriquesernos con nuestros minerales u otros que el perú posee no sol...</td>\n",
       "      <td>tu que sabes pituca millonaria a ti no te falta nada xk tus generaciones pitucas lo tinen todo dios sabra que corruccion habran echo para que tengas buena economia mientras el pueblo es pobre cuando llueve todo se moja todas a enriquesernos con nuestros minerales u otros que el perú posee no sol...</td>\n",
       "      <td>62</td>\n",
       "      <td>77</td>\n",
       "      <td>336</td>\n",
       "      <td>336</td>\n",
       "      <td>0</td>\n",
       "      <td>Negative</td>\n",
       "    </tr>\n",
       "    <tr>\n",
       "      <th>186</th>\n",
       "      <td>te falto ir a la romana en la av balta ahí venden desayunos buenazos ... chicharrón, el frito chiclayano, el espesado del lunes , cau cau de desayuno y las humitas ... también la papa a la huancayna del mercado central 😍</td>\n",
       "      <td>2</td>\n",
       "      <td>Positive</td>\n",
       "      <td>Te falto ir a la Romana en la av Balta ahí venden desayunos buenazos ... chicharrón, el frito chiclayano, el espesado del lunes , Cau cau de desayuno y las humitas ... también la papa a la huancayna del mercado Central 😍</td>\n",
       "      <td>te falto ir a la romana en la av balta ahí venden desayunos buenazos     chicharrón  el frito chiclayano  el espesado del lunes   cau cau de desayuno y las humitas     también la papa a la huancayna del mercado central 😍</td>\n",
       "      <td>42</td>\n",
       "      <td>58</td>\n",
       "      <td>220</td>\n",
       "      <td>220</td>\n",
       "      <td>1</td>\n",
       "      <td>Neutral</td>\n",
       "    </tr>\n",
       "  </tbody>\n",
       "</table>\n",
       "</div>"
      ],
      "text/plain": [
       "                                                                                                                                                                                                                                                                                                             text  \\\n",
       "302                                                                                                                                                                                                                                                                           q ya vuelta tienes en tu cabezita 🤪   \n",
       "137                                                                                                                                                                                                               provecho chinito que rico comes ya me dió hambre ahorita me voy a hacer unos ricos tallarines ️   \n",
       "1565                                                                                                              yo soy alla  pero no conosco dode bende la papa rellen tan crocante hoye amigo te folto conoser muchos platillos  desde bolivia muchos cariños para mi tierra querida huanuco la perri choli😀😀😀   \n",
       "403                                                                                                                                                                siempre poner jugadores de nombre que no hacen ni desacen ⭐️necesitamos un dt. como nunes de brazil  el si arriesga con jovenes promesas ⚽️🏆⭐️   \n",
       "120                                                                                                                                                                                                                                                              gordito tu trabajo es hueveo no tiene riesgo 😂😂😂   \n",
       "702                                                                                                                                                                                                     ya comimos ayer arroz, huevo, platanitod y su arto rocoto con huacatay buenazooo. solo que no tomé foto 😔   \n",
       "192                                                                                                                                                                                                                                                                               nicola me llega ala huaraca 😅😅😅   \n",
       "589                                                                                                                                                                                                                                    hahaha no sé xk me hizo recordar la palabra mongol 🤔😅 ahora si vamos felix   \n",
       "1135                                                                                                                                                                                                                                     buen video causita me hiciste la tarde 🤣🤣... me senti identificado xd :v   \n",
       "1457                                                                                     woww super cool, que chevere del perú para el mundo directito al travel and living channel 😁, felicitaciones por el primer lugar 🎉!! disfruto mucho mirando los videos de tu programa y lo super fresco de la conduccion   \n",
       "1149  👏👏 bravo la habitación de henry spencer te dije mi hermano si procedes a indecopi te aseguro que esa denuncia está ganada e incluso te pueden dar una indemnización por daños y perjuicios ya que estabas haciendo una entrevista que se tuvo que cancelar por la accionar totalmente arbitraria e injus...   \n",
       "1144                                                                                                                                                                                                                  rodolfo vega roque!! ya sabes me guardas como tiene que ser 😡 nada de sahiriña,  narizona 😣   \n",
       "804                                                                                                            waldir un tipo que del club muy respetable , pero como persona no era un ejemplo. tienes a barcos que le regaló un depa a su niñera tío no compares pue. waldir le regalaba mucho polvo a tula 😂😂😂   \n",
       "1038                                                                                                nooo!! que te hiciste 👴🏻👴🏻 quítate ese mostacho 👎🏻 bueno aunque como eres modelo seguro es para algún comercial o algo así 😘😘 y si!,en piura se come buenazo recuerdo al rest \"el nuevo ajicito\" 10 puntos 👍🤗   \n",
       "807                                                                                                                                                                                                                                                               así te compro 5 helados y te invito una chela 😂   \n",
       "1470                                                                                                                                                                                                     termina con tu flaco y estate con migo, yo si tengo cerebro, gaaa 🇵🇪 aparte soy peruano medio coreano :3   \n",
       "536                                                                                                                                                                                                                                        creo que beto tiene un zambo caneado y quiere ya llevárselo a su casa🤔   \n",
       "389                                                                                                                                                                                                                                                                         ed: siono causa! 🦌piero🐐: si causaaa!   \n",
       "1383  tu que sabes pituca millonaria a ti no te falta nada xk tus generaciones pitucas lo tinen todo dios sabra que corruccion habran echo para que tengas buena economia mientras el pueblo es pobre cuando llueve todo se moja todas a enriquesernos con nuestros minerales u otros que el perú posee no sol...   \n",
       "186                                                                                  te falto ir a la romana en la av balta ahí venden desayunos buenazos ... chicharrón, el frito chiclayano, el espesado del lunes , cau cau de desayuno y las humitas ... también la papa a la huancayna del mercado central 😍   \n",
       "\n",
       "      label label_name  \\\n",
       "302       0   Negative   \n",
       "137       2   Positive   \n",
       "1565      2   Positive   \n",
       "403       0   Negative   \n",
       "120       0   Negative   \n",
       "702       2   Positive   \n",
       "192       0   Negative   \n",
       "589       1    Neutral   \n",
       "1135      2   Positive   \n",
       "1457      2   Positive   \n",
       "1149      2   Positive   \n",
       "1144      0   Negative   \n",
       "804       0   Negative   \n",
       "1038      2   Positive   \n",
       "807       1    Neutral   \n",
       "1470      0   Negative   \n",
       "536       0   Negative   \n",
       "389       1    Neutral   \n",
       "1383      0   Negative   \n",
       "186       2   Positive   \n",
       "\n",
       "                                                                                                                                                                                                                                                                                                    text_original  \\\n",
       "302                                                                                                                                                                                                                                                                           Q ya vuelta tienes en tu cabezita 🤪   \n",
       "137                                                                                                                                                                                                              Provecho chinito que rico comes ya me dió hambre ahorita me voy a hacer unos ricos tallarines ❤️   \n",
       "1565                                                                                                             Yo soy alla  pero no conosco dode bende la papa rellen tan crocante hoye amigo te folto conoser muchos platillos  desde bolivia muchos cariños para mi tierra querida huanuco la perri choli😀😀😀😀   \n",
       "403                                                                                                                                                                Siempre poner jugadores de Nombre que no hacen ni desacen ⭐️Necesitamos un DT. Como NUNES de BRAZIL  el si arriesga con Jovenes Promesas ⚽️🏆⭐️   \n",
       "120                                                                                                                                                                                                                                                              Gordito tu trabajo es hueveo No tiene riesgo 😂😂😂   \n",
       "702                                                                                                                                                                                               Ya comimos ayer arroz, huevo, platanitod y su arto rocoto con huacatay Buenazooooooooo. Solo que no tomé foto 😔   \n",
       "192                                                                                                                                                                                                                                                                           Nicola me llega ala huaraca 😅😅😅😅😅😅😅   \n",
       "589                                                                                                                                                                                                                                    Hahaha no sé xk me hizo recordar la palabra mongol 🤔😅 ahora si vamos Felix   \n",
       "1135                                                                                                                                                                                                                                     Buen video causita me hiciste la tarde 🤣🤣... me senti identificado xD :v   \n",
       "1457                                                                                     Woww super cool, que chevere del Perú para el mundo directito al travel and living channel 😁, felicitaciones por el primer lugar 🎉!! Disfruto mucho mirando los videos de tu programa y lo super fresco de la conduccion   \n",
       "1149  👏👏 Bravo La Habitación de Henry Spencer Te dije mi hermano si procedes a Indecopi te aseguro que esa denuncia está ganada e incluso te pueden dar una indemnización por daños y perjuicios ya que estabas haciendo una entrevista que se tuvo que cancelar por la accionar totalmente arbitraria e injus...   \n",
       "1144                                                                                                                                                                                                                  Rodolfo Vega Roque!! Ya sabes me guardas como tiene que ser 😡 nada de sahiriña,  narizona 😣   \n",
       "804                                                                                                            Waldir un tipo que del club muy respetable , pero como persona no era un ejemplo. Tienes a barcos que le regaló un depa a su niñera tío no compares pue. Waldir le regalaba mucho polvo a Tula 😂😂😂   \n",
       "1038                                                                                                Nooo!! Que te hiciste 👴🏻👴🏻 quítate ese mostacho 👎🏻 bueno aunque como eres modelo seguro es para algún comercial o algo así 😘😘 y si!,en Piura se come buenazo recuerdo al rest “el nuevo ajicito” 10 puntos 👍🤗   \n",
       "807                                                                                                                                                                                                                                                               Así te compro 5 helados y te invito una chela 😂   \n",
       "1470                                                                                                                                                                                                  Termina con tu flaco y estate con migo, yo si tengo cerebro, GAAAAAA 🇵🇪 aparte soy peruano medio coreano :3   \n",
       "536                                                                                                                                                                                                                                        Creo que beto tiene un zambo caneado y quiere ya llevárselo a su casa🤔   \n",
       "389                                                                                                                                                                                                                                                                         Ed: siono causa! 🦌Piero🐐: si causaaa!   \n",
       "1383  Tu que sabes pituca millonaria a ti no te falta nada xk tus generaciones pitucas lo tinen todo dios sabra que corruccion habran echo para que tengas buena economia mientras el pueblo es pobre cuando llueve todo se moja todas a enriquesernos con nuestros minerales u otros que el perú posee no sol...   \n",
       "186                                                                                  Te falto ir a la Romana en la av Balta ahí venden desayunos buenazos ... chicharrón, el frito chiclayano, el espesado del lunes , Cau cau de desayuno y las humitas ... también la papa a la huancayna del mercado Central 😍   \n",
       "\n",
       "                                                                                                                                                                                                                                                                                                   tokenized_text  \\\n",
       "302                                                                                                                                                                                                                                                                           q ya vuelta tienes en tu cabezita 🤪   \n",
       "137                                                                                                                                                                                                               provecho chinito que rico comes ya me dió hambre ahorita me voy a hacer unos ricos tallarines ️   \n",
       "1565                                                                                                              yo soy alla  pero no conosco dode bende la papa rellen tan crocante hoye amigo te folto conoser muchos platillos  desde bolivia muchos cariños para mi tierra querida huanuco la perri choli😀😀😀   \n",
       "403                                                                                                                                                                siempre poner jugadores de nombre que no hacen ni desacen ⭐️necesitamos un dt  como nunes de brazil  el si arriesga con jovenes promesas ⚽️🏆⭐️   \n",
       "120                                                                                                                                                                                                                                                              gordito tu trabajo es hueveo no tiene riesgo 😂😂😂   \n",
       "702                                                                                                                                                                                                     ya comimos ayer arroz  huevo  platanitod y su arto rocoto con huacatay buenazooo  solo que no tomé foto 😔   \n",
       "192                                                                                                                                                                                                                                                                               nicola me llega ala huaraca 😅😅😅   \n",
       "589                                                                                                                                                                                                                                    hahaha no sé xk me hizo recordar la palabra mongol 🤔😅 ahora si vamos felix   \n",
       "1135                                                                                                                                                                                                                                     buen video causita me hiciste la tarde 🤣🤣    me senti identificado xd  v   \n",
       "1457                                                                                     woww super cool  que chevere del perú para el mundo directito al travel and living channel 😁  felicitaciones por el primer lugar 🎉   disfruto mucho mirando los videos de tu programa y lo super fresco de la conduccion   \n",
       "1149  👏👏 bravo la habitación de henry spencer te dije mi hermano si procedes a indecopi te aseguro que esa denuncia está ganada e incluso te pueden dar una indemnización por daños y perjuicios ya que estabas haciendo una entrevista que se tuvo que cancelar por la accionar totalmente arbitraria e injus...   \n",
       "1144                                                                                                                                                                                                                  rodolfo vega roque   ya sabes me guardas como tiene que ser 😡 nada de sahiriña   narizona 😣   \n",
       "804                                                                                                            waldir un tipo que del club muy respetable   pero como persona no era un ejemplo  tienes a barcos que le regaló un depa a su niñera tío no compares pue  waldir le regalaba mucho polvo a tula 😂😂😂   \n",
       "1038                                                                                                nooo   que te hiciste 👴🏻👴🏻 quítate ese mostacho 👎🏻 bueno aunque como eres modelo seguro es para algún comercial o algo así 😘😘 y si  en piura se come buenazo recuerdo al rest  el nuevo ajicito  10 puntos 👍🤗   \n",
       "807                                                                                                                                                                                                                                                               así te compro 5 helados y te invito una chela 😂   \n",
       "1470                                                                                                                                                                                                     termina con tu flaco y estate con migo  yo si tengo cerebro  gaaa 🇵🇪 aparte soy peruano medio coreano  3   \n",
       "536                                                                                                                                                                                                                                        creo que beto tiene un zambo caneado y quiere ya llevárselo a su casa🤔   \n",
       "389                                                                                                                                                                                                                                                                         ed  siono causa  🦌piero🐐  si causaaa    \n",
       "1383  tu que sabes pituca millonaria a ti no te falta nada xk tus generaciones pitucas lo tinen todo dios sabra que corruccion habran echo para que tengas buena economia mientras el pueblo es pobre cuando llueve todo se moja todas a enriquesernos con nuestros minerales u otros que el perú posee no sol...   \n",
       "186                                                                                  te falto ir a la romana en la av balta ahí venden desayunos buenazos     chicharrón  el frito chiclayano  el espesado del lunes   cau cau de desayuno y las humitas     también la papa a la huancayna del mercado central 😍   \n",
       "\n",
       "      sent_token_length  sent_bert_token_length  char_count  Character Count  \\\n",
       "302                   8                       9          35               35   \n",
       "137                  18                      21          95               95   \n",
       "1565                 32                      46         191              191   \n",
       "403                  24                      29         142              142   \n",
       "120                   9                      11          48               48   \n",
       "702                  19                      31         105              105   \n",
       "192                   6                       9          31               31   \n",
       "589                  15                      16          74               74   \n",
       "1135                 13                      14          72               72   \n",
       "1457                 38                      43         216              216   \n",
       "1149                 99                     118         553              553   \n",
       "1144                 17                      24          91               91   \n",
       "804                  39                      49         194              194   \n",
       "1038                 38                      49         205              205   \n",
       "807                  11                      13          47               47   \n",
       "1470                 20                      24         104              104   \n",
       "536                  14                      19          70               70   \n",
       "389                   6                      13          37               37   \n",
       "1383                 62                      77         336              336   \n",
       "186                  42                      58         220              220   \n",
       "\n",
       "      pred pred_name  \n",
       "302      0  Negative  \n",
       "137      2  Positive  \n",
       "1565     2  Positive  \n",
       "403      1   Neutral  \n",
       "120      2  Positive  \n",
       "702      1   Neutral  \n",
       "192      0  Negative  \n",
       "589      1   Neutral  \n",
       "1135     2  Positive  \n",
       "1457     2  Positive  \n",
       "1149     0  Negative  \n",
       "1144     1   Neutral  \n",
       "804      2  Positive  \n",
       "1038     2  Positive  \n",
       "807      1   Neutral  \n",
       "1470     1   Neutral  \n",
       "536      1   Neutral  \n",
       "389      1   Neutral  \n",
       "1383     0  Negative  \n",
       "186      1   Neutral  "
      ]
     },
     "execution_count": 80,
     "metadata": {},
     "output_type": "execute_result"
    }
   ],
   "source": [
    "test_df.sample(20)"
   ]
  },
  {
   "cell_type": "code",
   "execution_count": 81,
   "id": "d1d80690-9f0f-4f27-8924-c9cf33543000",
   "metadata": {},
   "outputs": [
    {
     "data": {
      "image/png": "[encoded data removed]",
      "text/plain": [
       "<Figure size 800x700 with 2 Axes>"
      ]
     },
     "metadata": {},
     "output_type": "display_data"
    },
    {
     "data": {
      "text/plain": [
       "<Figure size 640x480 with 0 Axes>"
      ]
     },
     "metadata": {},
     "output_type": "display_data"
    }
   ],
   "source": [
    "from sklearn.svm import SVC\n",
    "from sklearn.metrics import confusion_matrix\n",
    "import seaborn as sns\n",
    "import matplotlib.pyplot as plt\n",
    "\n",
    "pred_name_values = test_df.pred_name.values\n",
    "label_values = test_df.label_name.values\n",
    "cm = confusion_matrix(label_values, pred_name_values)\n",
    "cm_df = pd.DataFrame(cm,\n",
    "                     index = ['Negative','Neutral','Positive'], \n",
    "                     columns = ['Negative','Neutral','Positive'])\n",
    "plt.figure(figsize=(8,7))\n",
    "sns.heatmap(cm_df, annot=True,fmt=\".0f\")\n",
    "plt.title('Confusion Matrix')\n",
    "plt.ylabel('Actual Values')\n",
    "plt.xlabel('Predicted Values')\n",
    "plt.show()\n",
    "\n",
    "plt.savefig('cm_test_predictions.png')"
   ]
  },
  {
   "cell_type": "code",
   "execution_count": 82,
   "id": "8496167a-614e-48cc-80f0-d6831caba303",
   "metadata": {},
   "outputs": [
    {
     "data": {
      "text/html": [
       "<div>\n",
       "<style scoped>\n",
       "    .dataframe tbody tr th:only-of-type {\n",
       "        vertical-align: middle;\n",
       "    }\n",
       "\n",
       "    .dataframe tbody tr th {\n",
       "        vertical-align: top;\n",
       "    }\n",
       "\n",
       "    .dataframe thead th {\n",
       "        text-align: right;\n",
       "    }\n",
       "</style>\n",
       "<table border=\"1\" class=\"dataframe\">\n",
       "  <thead>\n",
       "    <tr style=\"text-align: right;\">\n",
       "      <th></th>\n",
       "      <th>text</th>\n",
       "      <th>label</th>\n",
       "      <th>label_name</th>\n",
       "      <th>text_original</th>\n",
       "      <th>tokenized_text</th>\n",
       "      <th>sent_token_length</th>\n",
       "      <th>sent_bert_token_length</th>\n",
       "      <th>char_count</th>\n",
       "      <th>Character Count</th>\n",
       "      <th>pred</th>\n",
       "      <th>pred_name</th>\n",
       "    </tr>\n",
       "  </thead>\n",
       "  <tbody>\n",
       "    <tr>\n",
       "      <th>94</th>\n",
       "      <td>kelly jaja la trica la bica!!! 😂😂😂 quiero volver... (mentira no quiero) 😅 cuando consigues trabajo 😂😂😂</td>\n",
       "      <td>2</td>\n",
       "      <td>Positive</td>\n",
       "      <td>Kelly jajajajajaja la trica la bica!!! 😂😂😂 quiero volver... (mentira no quiero) 😅 cuando consigues trabajo 😂😂😂</td>\n",
       "      <td>kelly jaja la trica la bica    😂😂😂 quiero volver     mentira no quiero  😅 cuando consigues trabajo 😂😂😂</td>\n",
       "      <td>17</td>\n",
       "      <td>26</td>\n",
       "      <td>102</td>\n",
       "      <td>102</td>\n",
       "      <td>1</td>\n",
       "      <td>Neutral</td>\n",
       "    </tr>\n",
       "    <tr>\n",
       "      <th>504</th>\n",
       "      <td>bien merecido manolo , que sigan los viajes 😁😁  ojala y algún día también manden a los televidentes a uno de esos tantos viajesitos 😂😂😂</td>\n",
       "      <td>2</td>\n",
       "      <td>Positive</td>\n",
       "      <td>Bien merecido Manolo , que sigan los viajes 😁😁  ojala y algún día también manden a los televidentes a uno de esos tantos viajesitos 😂😂😂</td>\n",
       "      <td>bien merecido manolo   que sigan los viajes 😁😁  ojala y algún día también manden a los televidentes a uno de esos tantos viajesitos 😂😂😂</td>\n",
       "      <td>25</td>\n",
       "      <td>29</td>\n",
       "      <td>135</td>\n",
       "      <td>135</td>\n",
       "      <td>2</td>\n",
       "      <td>Positive</td>\n",
       "    </tr>\n",
       "    <tr>\n",
       "      <th>1370</th>\n",
       "      <td>le está quitando el puesto a maduro 😂</td>\n",
       "      <td>0</td>\n",
       "      <td>Negative</td>\n",
       "      <td>Le está quitando el puesto a Maduro 😂</td>\n",
       "      <td>le está quitando el puesto a maduro 😂</td>\n",
       "      <td>8</td>\n",
       "      <td>8</td>\n",
       "      <td>37</td>\n",
       "      <td>37</td>\n",
       "      <td>0</td>\n",
       "      <td>Negative</td>\n",
       "    </tr>\n",
       "    <tr>\n",
       "      <th>1865</th>\n",
       "      <td>en las pichangas se miente mucho</td>\n",
       "      <td>0</td>\n",
       "      <td>Negative</td>\n",
       "      <td>En las pichangas se miente mucho</td>\n",
       "      <td>en las pichangas se miente mucho</td>\n",
       "      <td>6</td>\n",
       "      <td>8</td>\n",
       "      <td>32</td>\n",
       "      <td>32</td>\n",
       "      <td>0</td>\n",
       "      <td>Negative</td>\n",
       "    </tr>\n",
       "    <tr>\n",
       "      <th>756</th>\n",
       "      <td>ubieses regalado a todos esos cañonazos. 😅</td>\n",
       "      <td>0</td>\n",
       "      <td>Negative</td>\n",
       "      <td>Ubieses regalado a todos esos cañonazos. 😅</td>\n",
       "      <td>ubieses regalado a todos esos cañonazos  😅</td>\n",
       "      <td>7</td>\n",
       "      <td>11</td>\n",
       "      <td>42</td>\n",
       "      <td>42</td>\n",
       "      <td>0</td>\n",
       "      <td>Negative</td>\n",
       "    </tr>\n",
       "    <tr>\n",
       "      <th>1175</th>\n",
       "      <td>roshita julissa lo que les decía de la canción  🙈</td>\n",
       "      <td>1</td>\n",
       "      <td>Neutral</td>\n",
       "      <td>Roshita Julissa lo que les decía de la canción  🙈</td>\n",
       "      <td>roshita julissa lo que les decía de la canción  🙈</td>\n",
       "      <td>10</td>\n",
       "      <td>14</td>\n",
       "      <td>49</td>\n",
       "      <td>49</td>\n",
       "      <td>1</td>\n",
       "      <td>Neutral</td>\n",
       "    </tr>\n",
       "    <tr>\n",
       "      <th>605</th>\n",
       "      <td>no necesitaba sacar la chaveta, se lo juro</td>\n",
       "      <td>1</td>\n",
       "      <td>Neutral</td>\n",
       "      <td>No necesitaba sacar la chaveta, se lo juro</td>\n",
       "      <td>no necesitaba sacar la chaveta  se lo juro</td>\n",
       "      <td>8</td>\n",
       "      <td>10</td>\n",
       "      <td>42</td>\n",
       "      <td>42</td>\n",
       "      <td>1</td>\n",
       "      <td>Neutral</td>\n",
       "    </tr>\n",
       "    <tr>\n",
       "      <th>1390</th>\n",
       "      <td>grabame la cuca jaja esa cochina marginal tan fiera no nos representa dejenlos pegos para que aprendan claro me respetan alos paisanos que trabajan para bien y su familia siempre lo edicho si eres una plaga que no trabajas en venezuela que vas acer para otro país a ponernos en mal alos que si sa...</td>\n",
       "      <td>0</td>\n",
       "      <td>Negative</td>\n",
       "      <td>Grabame la Cuca jaja esa cochina marginal tan fiera no nos representa dejenlos pegos para que aprendan claro me respetan alos paisanos que trabajan para bien y su familia siempre lo edicho si eres una plaga que no trabajas en Venezuela que vas Acer para otro país a ponernos en mal alos que si sa...</td>\n",
       "      <td>grabame la cuca jaja esa cochina marginal tan fiera no nos representa dejenlos pegos para que aprendan claro me respetan alos paisanos que trabajan para bien y su familia siempre lo edicho si eres una plaga que no trabajas en venezuela que vas acer para otro país a ponernos en mal alos que si sa...</td>\n",
       "      <td>74</td>\n",
       "      <td>82</td>\n",
       "      <td>398</td>\n",
       "      <td>398</td>\n",
       "      <td>0</td>\n",
       "      <td>Negative</td>\n",
       "    </tr>\n",
       "    <tr>\n",
       "      <th>19</th>\n",
       "      <td>aqui todo explicadito sobre la gran labor de hashtag interartis estoy mas que contento y seguro con ellos, gracias emilio montero, cecilia tosso y todo los grandes profesionales que estan detras de la preocupacion de nuestro trabajo 🎥 📽️ 🎭💚🌟</td>\n",
       "      <td>2</td>\n",
       "      <td>Positive</td>\n",
       "      <td>Aqui todo explicadito sobre la gran labor de #interartis estoy mas que contento y seguro con ellos, gracias Emilio Montero, Cecilia Tosso y todo los grandes profesionales que estan detras de la preocupacion de nuestro trabajo 🎥 📽️ 🎭💚🌟</td>\n",
       "      <td>aqui todo explicadito sobre la gran labor de hashtag interartis estoy mas que contento y seguro con ellos  gracias emilio montero  cecilia tosso y todo los grandes profesionales que estan detras de la preocupacion de nuestro trabajo 🎥 📽️ 🎭💚🌟</td>\n",
       "      <td>40</td>\n",
       "      <td>48</td>\n",
       "      <td>241</td>\n",
       "      <td>241</td>\n",
       "      <td>2</td>\n",
       "      <td>Positive</td>\n",
       "    </tr>\n",
       "    <tr>\n",
       "      <th>351</th>\n",
       "      <td>chino risas pa que llevas a tus maleteros 🤪😛😛</td>\n",
       "      <td>0</td>\n",
       "      <td>Negative</td>\n",
       "      <td>chino risas pa que llevas a tus maleteros 🤪😛😛</td>\n",
       "      <td>chino risas pa que llevas a tus maleteros 🤪😛😛</td>\n",
       "      <td>9</td>\n",
       "      <td>10</td>\n",
       "      <td>45</td>\n",
       "      <td>45</td>\n",
       "      <td>2</td>\n",
       "      <td>Positive</td>\n",
       "    </tr>\n",
       "  </tbody>\n",
       "</table>\n",
       "</div>"
      ],
      "text/plain": [
       "                                                                                                                                                                                                                                                                                                             text  \\\n",
       "94                                                                                                                                                                                                         kelly jaja la trica la bica!!! 😂😂😂 quiero volver... (mentira no quiero) 😅 cuando consigues trabajo 😂😂😂   \n",
       "504                                                                                                                                                                       bien merecido manolo , que sigan los viajes 😁😁  ojala y algún día también manden a los televidentes a uno de esos tantos viajesitos 😂😂😂   \n",
       "1370                                                                                                                                                                                                                                                                        le está quitando el puesto a maduro 😂   \n",
       "1865                                                                                                                                                                                                                                                                             en las pichangas se miente mucho   \n",
       "756                                                                                                                                                                                                                                                                    ubieses regalado a todos esos cañonazos. 😅   \n",
       "1175                                                                                                                                                                                                                                                            roshita julissa lo que les decía de la canción  🙈   \n",
       "605                                                                                                                                                                                                                                                                    no necesitaba sacar la chaveta, se lo juro   \n",
       "1390  grabame la cuca jaja esa cochina marginal tan fiera no nos representa dejenlos pegos para que aprendan claro me respetan alos paisanos que trabajan para bien y su familia siempre lo edicho si eres una plaga que no trabajas en venezuela que vas acer para otro país a ponernos en mal alos que si sa...   \n",
       "19                                                              aqui todo explicadito sobre la gran labor de hashtag interartis estoy mas que contento y seguro con ellos, gracias emilio montero, cecilia tosso y todo los grandes profesionales que estan detras de la preocupacion de nuestro trabajo 🎥 📽️ 🎭💚🌟   \n",
       "351                                                                                                                                                                                                                                                                 chino risas pa que llevas a tus maleteros 🤪😛😛   \n",
       "\n",
       "      label label_name  \\\n",
       "94        2   Positive   \n",
       "504       2   Positive   \n",
       "1370      0   Negative   \n",
       "1865      0   Negative   \n",
       "756       0   Negative   \n",
       "1175      1    Neutral   \n",
       "605       1    Neutral   \n",
       "1390      0   Negative   \n",
       "19        2   Positive   \n",
       "351       0   Negative   \n",
       "\n",
       "                                                                                                                                                                                                                                                                                                    text_original  \\\n",
       "94                                                                                                                                                                                                 Kelly jajajajajaja la trica la bica!!! 😂😂😂 quiero volver... (mentira no quiero) 😅 cuando consigues trabajo 😂😂😂   \n",
       "504                                                                                                                                                                       Bien merecido Manolo , que sigan los viajes 😁😁  ojala y algún día también manden a los televidentes a uno de esos tantos viajesitos 😂😂😂   \n",
       "1370                                                                                                                                                                                                                                                                        Le está quitando el puesto a Maduro 😂   \n",
       "1865                                                                                                                                                                                                                                                                             En las pichangas se miente mucho   \n",
       "756                                                                                                                                                                                                                                                                    Ubieses regalado a todos esos cañonazos. 😅   \n",
       "1175                                                                                                                                                                                                                                                            Roshita Julissa lo que les decía de la canción  🙈   \n",
       "605                                                                                                                                                                                                                                                                    No necesitaba sacar la chaveta, se lo juro   \n",
       "1390  Grabame la Cuca jaja esa cochina marginal tan fiera no nos representa dejenlos pegos para que aprendan claro me respetan alos paisanos que trabajan para bien y su familia siempre lo edicho si eres una plaga que no trabajas en Venezuela que vas Acer para otro país a ponernos en mal alos que si sa...   \n",
       "19                                                                     Aqui todo explicadito sobre la gran labor de #interartis estoy mas que contento y seguro con ellos, gracias Emilio Montero, Cecilia Tosso y todo los grandes profesionales que estan detras de la preocupacion de nuestro trabajo 🎥 📽️ 🎭💚🌟   \n",
       "351                                                                                                                                                                                                                                                                 chino risas pa que llevas a tus maleteros 🤪😛😛   \n",
       "\n",
       "                                                                                                                                                                                                                                                                                                   tokenized_text  \\\n",
       "94                                                                                                                                                                                                         kelly jaja la trica la bica    😂😂😂 quiero volver     mentira no quiero  😅 cuando consigues trabajo 😂😂😂   \n",
       "504                                                                                                                                                                       bien merecido manolo   que sigan los viajes 😁😁  ojala y algún día también manden a los televidentes a uno de esos tantos viajesitos 😂😂😂   \n",
       "1370                                                                                                                                                                                                                                                                        le está quitando el puesto a maduro 😂   \n",
       "1865                                                                                                                                                                                                                                                                             en las pichangas se miente mucho   \n",
       "756                                                                                                                                                                                                                                                                    ubieses regalado a todos esos cañonazos  😅   \n",
       "1175                                                                                                                                                                                                                                                            roshita julissa lo que les decía de la canción  🙈   \n",
       "605                                                                                                                                                                                                                                                                    no necesitaba sacar la chaveta  se lo juro   \n",
       "1390  grabame la cuca jaja esa cochina marginal tan fiera no nos representa dejenlos pegos para que aprendan claro me respetan alos paisanos que trabajan para bien y su familia siempre lo edicho si eres una plaga que no trabajas en venezuela que vas acer para otro país a ponernos en mal alos que si sa...   \n",
       "19                                                              aqui todo explicadito sobre la gran labor de hashtag interartis estoy mas que contento y seguro con ellos  gracias emilio montero  cecilia tosso y todo los grandes profesionales que estan detras de la preocupacion de nuestro trabajo 🎥 📽️ 🎭💚🌟   \n",
       "351                                                                                                                                                                                                                                                                 chino risas pa que llevas a tus maleteros 🤪😛😛   \n",
       "\n",
       "      sent_token_length  sent_bert_token_length  char_count  Character Count  \\\n",
       "94                   17                      26         102              102   \n",
       "504                  25                      29         135              135   \n",
       "1370                  8                       8          37               37   \n",
       "1865                  6                       8          32               32   \n",
       "756                   7                      11          42               42   \n",
       "1175                 10                      14          49               49   \n",
       "605                   8                      10          42               42   \n",
       "1390                 74                      82         398              398   \n",
       "19                   40                      48         241              241   \n",
       "351                   9                      10          45               45   \n",
       "\n",
       "      pred pred_name  \n",
       "94       1   Neutral  \n",
       "504      2  Positive  \n",
       "1370     0  Negative  \n",
       "1865     0  Negative  \n",
       "756      0  Negative  \n",
       "1175     1   Neutral  \n",
       "605      1   Neutral  \n",
       "1390     0  Negative  \n",
       "19       2  Positive  \n",
       "351      2  Positive  "
      ]
     },
     "execution_count": 82,
     "metadata": {},
     "output_type": "execute_result"
    }
   ],
   "source": [
    "test_df.sample(10)"
   ]
  },
  {
   "cell_type": "code",
   "execution_count": 83,
   "id": "7a7ea14e-257c-4b37-8688-4444c7388a2d",
   "metadata": {},
   "outputs": [],
   "source": [
    "test_df.to_csv('test_inference.csv', columns=['text', 'label','label_name', 'char_count', 'pred', 'pred_name'])"
   ]
  },
  {
   "cell_type": "code",
   "execution_count": 84,
   "id": "b1d2ccd3-00d9-4657-9fbd-4c72cf38ace8",
   "metadata": {},
   "outputs": [
    {
     "data": {
      "image/png": "[encoded data removed]",
      "text/plain": [
       "<Figure size 800x700 with 2 Axes>"
      ]
     },
     "metadata": {},
     "output_type": "display_data"
    }
   ],
   "source": [
    "cm = confusion_matrix(label_values, pred_name_values)\n",
    "cm_df = pd.DataFrame(cm/np.sum(cm),\n",
    "                     index = ['Negative','Neutral','Positive'], \n",
    "                     columns = ['Negative','Neutral','Positive'])\n",
    "plt.figure(figsize=(8,7))\n",
    "sns.heatmap(cm_df, annot=True, fmt=\".2%\")\n",
    "plt.title('Confusion Matrix')\n",
    "plt.ylabel('Actual Values')\n",
    "plt.xlabel('Predicted Values')\n",
    "plt.savefig('cm_test_predictions_percentage.png')\n",
    "plt.show()"
   ]
  },
  {
   "cell_type": "code",
   "execution_count": null,
   "id": "bb35acbf-990d-4168-a408-cd1fc8616870",
   "metadata": {},
   "outputs": [],
   "source": []
  }
 ],
 "metadata": {
  "kernelspec": {
   "display_name": "Python 3 (ipykernel)",
   "language": "python",
   "name": "python3"
  },
  "language_info": {
   "codemirror_mode": {
    "name": "ipython",
    "version": 3
   },
   "file_extension": ".py",
   "mimetype": "text/x-python",
   "name": "python",
   "nbconvert_exporter": "python",
   "pygments_lexer": "ipython3",
   "version": "3.10.13"
  }
 },
 "nbformat": 4,
 "nbformat_minor": 5
}
