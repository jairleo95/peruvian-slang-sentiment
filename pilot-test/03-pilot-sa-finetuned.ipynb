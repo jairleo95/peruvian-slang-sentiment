{
 "cells": [
  {
   "cell_type": "code",
   "execution_count": 1,
   "id": "955514ed-28d2-422e-8eca-56055de9bc39",
   "metadata": {},
   "outputs": [],
   "source": [
    "#EDA"
   ]
  },
  {
   "cell_type": "code",
   "execution_count": 2,
   "id": "de09e411",
   "metadata": {},
   "outputs": [],
   "source": [
    "import torch"
   ]
  },
  {
   "cell_type": "code",
   "execution_count": 3,
   "id": "5af36065",
   "metadata": {},
   "outputs": [],
   "source": [
    "#pip install torch==2.0.0\n",
    "#pip install pysentimiento==0.7.2\n",
    "#pip install evaluate==0.4.0\n",
    "#pip install datasets==2.14.5"
   ]
  },
  {
   "cell_type": "code",
   "execution_count": 4,
   "id": "bbffc10f-3389-44e6-b810-260a1d5415f7",
   "metadata": {},
   "outputs": [],
   "source": [
    "#!pip install pysentimiento transformers datasets accelerate evaluate"
   ]
  },
  {
   "cell_type": "code",
   "execution_count": null,
   "id": "c16f70f6-f93b-4be5-ac8a-33923bdf44af",
   "metadata": {},
   "outputs": [],
   "source": []
  },
  {
   "cell_type": "code",
   "execution_count": 5,
   "id": "1dcd6c81-eb73-4aa3-aa8c-ac9a46646d8b",
   "metadata": {
    "tags": []
   },
   "outputs": [
    {
     "name": "stderr",
     "output_type": "stream",
     "text": [
      "2024-03-26 21:40:11.366528: I external/local_tsl/tsl/cuda/cudart_stub.cc:31] Could not find cuda drivers on your machine, GPU will not be used.\n",
      "2024-03-26 21:40:11.556161: E external/local_xla/xla/stream_executor/cuda/cuda_dnn.cc:9261] Unable to register cuDNN factory: Attempting to register factory for plugin cuDNN when one has already been registered\n",
      "2024-03-26 21:40:11.556230: E external/local_xla/xla/stream_executor/cuda/cuda_fft.cc:607] Unable to register cuFFT factory: Attempting to register factory for plugin cuFFT when one has already been registered\n",
      "2024-03-26 21:40:11.587127: E external/local_xla/xla/stream_executor/cuda/cuda_blas.cc:1515] Unable to register cuBLAS factory: Attempting to register factory for plugin cuBLAS when one has already been registered\n",
      "2024-03-26 21:40:11.652717: I tensorflow/core/platform/cpu_feature_guard.cc:182] This TensorFlow binary is optimized to use available CPU instructions in performance-critical operations.\n",
      "To enable the following instructions: AVX2 FMA, in other operations, rebuild TensorFlow with the appropriate compiler flags.\n",
      "2024-03-26 21:40:12.479846: W tensorflow/compiler/tf2tensorrt/utils/py_utils.cc:38] TF-TRT Warning: Could not find TensorRT\n"
     ]
    }
   ],
   "source": [
    "import datasets\n",
    "import evaluate"
   ]
  },
  {
   "cell_type": "code",
   "execution_count": 6,
   "id": "ce0ec026-0099-414e-a6bf-a76776f39c3e",
   "metadata": {},
   "outputs": [],
   "source": [
    "import numpy as np\n",
    "from datasets import load_dataset"
   ]
  },
  {
   "cell_type": "code",
   "execution_count": 7,
   "id": "c9fbf152-07de-4cba-84b4-d3d871cb6eb3",
   "metadata": {
    "tags": []
   },
   "outputs": [],
   "source": [
    "import ipywidgets as widgets"
   ]
  },
  {
   "cell_type": "code",
   "execution_count": 8,
   "id": "a001ba7d",
   "metadata": {},
   "outputs": [],
   "source": [
    "#Helper Functions"
   ]
  },
  {
   "cell_type": "code",
   "execution_count": 9,
   "id": "5ba02255",
   "metadata": {},
   "outputs": [],
   "source": [
    "# label to name\n",
    "def label2name(x):\n",
    "    if x == 0:\n",
    "        return \"Negative\"\n",
    "    if x == 1:\n",
    "        return \"Neutral\"\n",
    "    if x == 2:\n",
    "        return \"Positive\""
   ]
  },
  {
   "cell_type": "code",
   "execution_count": 10,
   "id": "6d3164a0-faf4-4a4d-8a78-17b40b00c3f1",
   "metadata": {
    "tags": []
   },
   "outputs": [],
   "source": [
    "\n",
    "f1_metric = evaluate.load(\"f1\")\n",
    "recall_metric = evaluate.load(\"recall\")\n",
    "\n",
    "def compute_metrics (eval_pred):\n",
    "    logits, labels = eval_pred\n",
    "    preds = np.argmax(logits, axis = -1)\n",
    "    \n",
    "    results = {}\n",
    "    results.update(f1_metric.compute(predictions=preds, references = labels, average=\"macro\"))\n",
    "    results.update(recall_metric.compute(predictions=preds, references = labels, average=\"macro\"))\n",
    "    return results"
   ]
  },
  {
   "cell_type": "code",
   "execution_count": 11,
   "id": "0bd8b7bc-ed54-4e65-ba9a-d2835b1abca8",
   "metadata": {
    "tags": []
   },
   "outputs": [],
   "source": [
    "#Read Data\n"
   ]
  },
  {
   "cell_type": "code",
   "execution_count": 12,
   "id": "90c97202-c5c6-484f-850a-46a9ee552251",
   "metadata": {
    "tags": []
   },
   "outputs": [],
   "source": [
    "data_files = {\"train\": \"data/train.csv\", \"validation\": \"data/val.csv\", \"test\": \"data/test.csv\"}\n",
    "ds = load_dataset(\"csv\", data_files=data_files)"
   ]
  },
  {
   "cell_type": "code",
   "execution_count": 13,
   "id": "8087bffe-c868-4323-90f0-4c6951f4fb5c",
   "metadata": {
    "scrolled": true,
    "tags": []
   },
   "outputs": [
    {
     "data": {
      "text/plain": [
       "DatasetDict({\n",
       "    train: Dataset({\n",
       "        features: ['text', 'label', 'label_name', 'text_original', 'tokenized_text', 'sent_token_length', 'sent_bert_token_length', 'char_count', 'Character Count'],\n",
       "        num_rows: 7594\n",
       "    })\n",
       "    validation: Dataset({\n",
       "        features: ['text', 'label', 'label_name', 'text_original', 'tokenized_text', 'sent_token_length', 'sent_bert_token_length', 'char_count', 'Character Count'],\n",
       "        num_rows: 2374\n",
       "    })\n",
       "    test: Dataset({\n",
       "        features: ['text', 'label', 'label_name', 'text_original', 'tokenized_text', 'sent_token_length', 'sent_bert_token_length', 'char_count', 'Character Count'],\n",
       "        num_rows: 1899\n",
       "    })\n",
       "})"
      ]
     },
     "execution_count": 13,
     "metadata": {},
     "output_type": "execute_result"
    }
   ],
   "source": [
    "ds"
   ]
  },
  {
   "cell_type": "code",
   "execution_count": 14,
   "id": "a3ca4ba6",
   "metadata": {},
   "outputs": [],
   "source": [
    "#push to hugging face"
   ]
  },
  {
   "cell_type": "code",
   "execution_count": 15,
   "id": "65695826-cdf5-4338-a815-15b7de7f4abb",
   "metadata": {},
   "outputs": [],
   "source": [
    "#https://huggingface.co/settings/tokens"
   ]
  },
  {
   "cell_type": "code",
   "execution_count": 16,
   "id": "051a1e13-5030-4627-8a36-2326307dcf6b",
   "metadata": {},
   "outputs": [],
   "source": [
    "# from huggingface_hub import notebook_login\n",
    "# notebook_login()\n",
    "# ds.push_to_hub(\"jairleo95/social-media-peruvian-sentiment\")"
   ]
  },
  {
   "cell_type": "code",
   "execution_count": null,
   "id": "c8e28595-3977-44f3-a9f0-9f62c1f3c802",
   "metadata": {},
   "outputs": [],
   "source": []
  },
  {
   "cell_type": "code",
   "execution_count": 17,
   "id": "0c7abe81-d2ab-49c3-92bf-6c6e36d5d852",
   "metadata": {},
   "outputs": [
    {
     "data": {
      "text/plain": [
       "{'text': Value(dtype='string', id=None),\n",
       " 'label': Value(dtype='int64', id=None),\n",
       " 'label_name': Value(dtype='string', id=None),\n",
       " 'text_original': Value(dtype='string', id=None),\n",
       " 'tokenized_text': Value(dtype='string', id=None),\n",
       " 'sent_token_length': Value(dtype='int64', id=None),\n",
       " 'sent_bert_token_length': Value(dtype='int64', id=None),\n",
       " 'char_count': Value(dtype='int64', id=None),\n",
       " 'Character Count': Value(dtype='int64', id=None)}"
      ]
     },
     "execution_count": 17,
     "metadata": {},
     "output_type": "execute_result"
    }
   ],
   "source": [
    "ds[\"train\"].features"
   ]
  },
  {
   "cell_type": "code",
   "execution_count": 18,
   "id": "9a33842b-42eb-4966-8b48-f3dd7e1aeb33",
   "metadata": {},
   "outputs": [
    {
     "data": {
      "text/plain": [
       "[1, 0, 0, 0, 0, 2, 1, 0, 2, 2]"
      ]
     },
     "execution_count": 18,
     "metadata": {},
     "output_type": "execute_result"
    }
   ],
   "source": [
    "ds[\"test\"][\"label\"][:10]"
   ]
  },
  {
   "cell_type": "code",
   "execution_count": 19,
   "id": "68d24890",
   "metadata": {},
   "outputs": [
    {
     "data": {
      "text/html": [
       "<div>\n",
       "<style scoped>\n",
       "    .dataframe tbody tr th:only-of-type {\n",
       "        vertical-align: middle;\n",
       "    }\n",
       "\n",
       "    .dataframe tbody tr th {\n",
       "        vertical-align: top;\n",
       "    }\n",
       "\n",
       "    .dataframe thead th {\n",
       "        text-align: right;\n",
       "    }\n",
       "</style>\n",
       "<table border=\"1\" class=\"dataframe\">\n",
       "  <thead>\n",
       "    <tr style=\"text-align: right;\">\n",
       "      <th></th>\n",
       "      <th>text</th>\n",
       "      <th>label</th>\n",
       "      <th>label_name</th>\n",
       "      <th>text_original</th>\n",
       "      <th>tokenized_text</th>\n",
       "      <th>sent_token_length</th>\n",
       "      <th>sent_bert_token_length</th>\n",
       "      <th>char_count</th>\n",
       "      <th>Character Count</th>\n",
       "    </tr>\n",
       "  </thead>\n",
       "  <tbody>\n",
       "    <tr>\n",
       "      <th>0</th>\n",
       "      <td>no yuli con eso se va con pendeivis 😞</td>\n",
       "      <td>1</td>\n",
       "      <td>Neutral</td>\n",
       "      <td>No Yuli con eso se va con pendeivis 😞</td>\n",
       "      <td>no yuli con eso se va con pendeivis 😞</td>\n",
       "      <td>9</td>\n",
       "      <td>12</td>\n",
       "      <td>37</td>\n",
       "      <td>37</td>\n",
       "    </tr>\n",
       "    <tr>\n",
       "      <th>1</th>\n",
       "      <td>este es más bruto... cosas que necesita el  pe...</td>\n",
       "      <td>0</td>\n",
       "      <td>Negative</td>\n",
       "      <td>Este es más bruto... Cosas que necesita el  Pe...</td>\n",
       "      <td>este es más bruto    cosas que necesita el  pe...</td>\n",
       "      <td>27</td>\n",
       "      <td>35</td>\n",
       "      <td>144</td>\n",
       "      <td>144</td>\n",
       "    </tr>\n",
       "    <tr>\n",
       "      <th>2</th>\n",
       "      <td>bakan tu video pero el chambar es riko pero pa...</td>\n",
       "      <td>2</td>\n",
       "      <td>Positive</td>\n",
       "      <td>Bakan tu video pero el chambar es riko pero pa...</td>\n",
       "      <td>bakan tu video pero el chambar es riko pero pa...</td>\n",
       "      <td>53</td>\n",
       "      <td>67</td>\n",
       "      <td>267</td>\n",
       "      <td>267</td>\n",
       "    </tr>\n",
       "    <tr>\n",
       "      <th>3</th>\n",
       "      <td>no sabes que hacer para llamar la atención par...</td>\n",
       "      <td>0</td>\n",
       "      <td>Negative</td>\n",
       "      <td>no sabes que hacer para llamar la atención par...</td>\n",
       "      <td>no sabes que hacer para llamar la atención par...</td>\n",
       "      <td>18</td>\n",
       "      <td>20</td>\n",
       "      <td>93</td>\n",
       "      <td>93</td>\n",
       "    </tr>\n",
       "    <tr>\n",
       "      <th>4</th>\n",
       "      <td>pe chino dame chamba mano, almenos pa limpiart...</td>\n",
       "      <td>1</td>\n",
       "      <td>Neutral</td>\n",
       "      <td>Pe CHINO DAME CHAMBA MANO, ALMENOS PA LIMPIART...</td>\n",
       "      <td>pe chino dame chamba mano  almenos pa limpiart...</td>\n",
       "      <td>11</td>\n",
       "      <td>14</td>\n",
       "      <td>61</td>\n",
       "      <td>61</td>\n",
       "    </tr>\n",
       "  </tbody>\n",
       "</table>\n",
       "</div>"
      ],
      "text/plain": [
       "                                                text  label label_name  \\\n",
       "0              no yuli con eso se va con pendeivis 😞      1    Neutral   \n",
       "1  este es más bruto... cosas que necesita el  pe...      0   Negative   \n",
       "2  bakan tu video pero el chambar es riko pero pa...      2   Positive   \n",
       "3  no sabes que hacer para llamar la atención par...      0   Negative   \n",
       "4  pe chino dame chamba mano, almenos pa limpiart...      1    Neutral   \n",
       "\n",
       "                                       text_original  \\\n",
       "0              No Yuli con eso se va con pendeivis 😞   \n",
       "1  Este es más bruto... Cosas que necesita el  Pe...   \n",
       "2  Bakan tu video pero el chambar es riko pero pa...   \n",
       "3  no sabes que hacer para llamar la atención par...   \n",
       "4  Pe CHINO DAME CHAMBA MANO, ALMENOS PA LIMPIART...   \n",
       "\n",
       "                                      tokenized_text  sent_token_length  \\\n",
       "0              no yuli con eso se va con pendeivis 😞                  9   \n",
       "1  este es más bruto    cosas que necesita el  pe...                 27   \n",
       "2  bakan tu video pero el chambar es riko pero pa...                 53   \n",
       "3  no sabes que hacer para llamar la atención par...                 18   \n",
       "4  pe chino dame chamba mano  almenos pa limpiart...                 11   \n",
       "\n",
       "   sent_bert_token_length  char_count  Character Count  \n",
       "0                      12          37               37  \n",
       "1                      35         144              144  \n",
       "2                      67         267              267  \n",
       "3                      20          93               93  \n",
       "4                      14          61               61  "
      ]
     },
     "execution_count": 19,
     "metadata": {},
     "output_type": "execute_result"
    }
   ],
   "source": [
    "df = ds['train'].to_pandas()\n",
    "df.head()"
   ]
  },
  {
   "cell_type": "code",
   "execution_count": 20,
   "id": "7c0615c2",
   "metadata": {},
   "outputs": [],
   "source": [
    "# encode label and mapping label name\n",
    "#df[\"label\"] = df[\"label\"].apply(lambda x: label_encode(x))\n",
    "df[\"label_name\"] = df[\"label\"].apply(lambda x: label2name(x))"
   ]
  },
  {
   "cell_type": "code",
   "execution_count": 21,
   "id": "4c00ccd4",
   "metadata": {},
   "outputs": [],
   "source": [
    "# clean text, lowercase and remove punk\n",
    "#df[\"text\"] = df[\"text\"].apply(lambda x: remove_punct(clean(remove_emoji(x).lower())[0][0]))"
   ]
  },
  {
   "cell_type": "code",
   "execution_count": 22,
   "id": "05636464",
   "metadata": {},
   "outputs": [
    {
     "data": {
      "text/html": [
       "<div>\n",
       "<style scoped>\n",
       "    .dataframe tbody tr th:only-of-type {\n",
       "        vertical-align: middle;\n",
       "    }\n",
       "\n",
       "    .dataframe tbody tr th {\n",
       "        vertical-align: top;\n",
       "    }\n",
       "\n",
       "    .dataframe thead th {\n",
       "        text-align: right;\n",
       "    }\n",
       "</style>\n",
       "<table border=\"1\" class=\"dataframe\">\n",
       "  <thead>\n",
       "    <tr style=\"text-align: right;\">\n",
       "      <th></th>\n",
       "      <th>text</th>\n",
       "      <th>label</th>\n",
       "      <th>label_name</th>\n",
       "      <th>text_original</th>\n",
       "      <th>tokenized_text</th>\n",
       "      <th>sent_token_length</th>\n",
       "      <th>sent_bert_token_length</th>\n",
       "      <th>char_count</th>\n",
       "      <th>Character Count</th>\n",
       "    </tr>\n",
       "  </thead>\n",
       "  <tbody>\n",
       "    <tr>\n",
       "      <th>1235</th>\n",
       "      <td>eso si es verdad jaja les falta cultura educac...</td>\n",
       "      <td>0</td>\n",
       "      <td>Negative</td>\n",
       "      <td>Eso si es verdad jajaja les falta cultura educ...</td>\n",
       "      <td>eso si es verdad jaja les falta cultura educac...</td>\n",
       "      <td>18</td>\n",
       "      <td>18</td>\n",
       "      <td>88</td>\n",
       "      <td>88</td>\n",
       "    </tr>\n",
       "    <tr>\n",
       "      <th>5135</th>\n",
       "      <td>chino risas pa que llevas a tus maleteros 🤪😛😛</td>\n",
       "      <td>0</td>\n",
       "      <td>Negative</td>\n",
       "      <td>chino risas pa que llevas a tus maleteros 🤪😛😛</td>\n",
       "      <td>chino risas pa que llevas a tus maleteros 🤪😛😛</td>\n",
       "      <td>9</td>\n",
       "      <td>10</td>\n",
       "      <td>45</td>\n",
       "      <td>45</td>\n",
       "    </tr>\n",
       "    <tr>\n",
       "      <th>1815</th>\n",
       "      <td>asu para ella que no cuenta con dinero para un...</td>\n",
       "      <td>0</td>\n",
       "      <td>Negative</td>\n",
       "      <td>Asu para ella que no cuenta con dinero para un...</td>\n",
       "      <td>asu para ella que no cuenta con dinero para un...</td>\n",
       "      <td>115</td>\n",
       "      <td>132</td>\n",
       "      <td>577</td>\n",
       "      <td>577</td>\n",
       "    </tr>\n",
       "    <tr>\n",
       "      <th>6080</th>\n",
       "      <td>bruno goicochea fiorella pezo stefani padilla ...</td>\n",
       "      <td>1</td>\n",
       "      <td>Neutral</td>\n",
       "      <td>Bruno Goicochea Fiorella Pezo Stefani Padilla ...</td>\n",
       "      <td>bruno goicochea fiorella pezo stefani padilla ...</td>\n",
       "      <td>19</td>\n",
       "      <td>29</td>\n",
       "      <td>112</td>\n",
       "      <td>112</td>\n",
       "    </tr>\n",
       "    <tr>\n",
       "      <th>6015</th>\n",
       "      <td>que delicioso el caldito de pescado también qu...</td>\n",
       "      <td>2</td>\n",
       "      <td>Positive</td>\n",
       "      <td>Que delicioso el caldito de pescado también qu...</td>\n",
       "      <td>que delicioso el caldito de pescado también qu...</td>\n",
       "      <td>74</td>\n",
       "      <td>109</td>\n",
       "      <td>452</td>\n",
       "      <td>452</td>\n",
       "    </tr>\n",
       "    <tr>\n",
       "      <th>665</th>\n",
       "      <td>no debe ir más en la selección es un jugador q...</td>\n",
       "      <td>0</td>\n",
       "      <td>Negative</td>\n",
       "      <td>No debe ir más en la selección es un jugador q...</td>\n",
       "      <td>no debe ir más en la selección es un jugador q...</td>\n",
       "      <td>34</td>\n",
       "      <td>40</td>\n",
       "      <td>165</td>\n",
       "      <td>165</td>\n",
       "    </tr>\n",
       "    <tr>\n",
       "      <th>5921</th>\n",
       "      <td>maledeeeto como provocas😭😭😭 ahhh quiero mi cho...</td>\n",
       "      <td>2</td>\n",
       "      <td>Positive</td>\n",
       "      <td>Maledeeeeto como provocas😭😭😭 ahhh quiero mi ch...</td>\n",
       "      <td>maledeeeto como provocas😭😭😭 ahhh quiero mi cho...</td>\n",
       "      <td>16</td>\n",
       "      <td>27</td>\n",
       "      <td>94</td>\n",
       "      <td>94</td>\n",
       "    </tr>\n",
       "    <tr>\n",
       "      <th>2997</th>\n",
       "      <td>miedo de llegar a la jato sin medicinas</td>\n",
       "      <td>0</td>\n",
       "      <td>Negative</td>\n",
       "      <td>miedo de llegar a la jato sin medicinas</td>\n",
       "      <td>miedo de llegar a la jato sin medicinas</td>\n",
       "      <td>8</td>\n",
       "      <td>9</td>\n",
       "      <td>39</td>\n",
       "      <td>39</td>\n",
       "    </tr>\n",
       "    <tr>\n",
       "      <th>3764</th>\n",
       "      <td>cada que abren su carpeta se fuga del país 😂</td>\n",
       "      <td>1</td>\n",
       "      <td>Neutral</td>\n",
       "      <td>Cada que abren su carpeta se fuga del país 😂</td>\n",
       "      <td>cada que abren su carpeta se fuga del país 😂</td>\n",
       "      <td>10</td>\n",
       "      <td>10</td>\n",
       "      <td>44</td>\n",
       "      <td>44</td>\n",
       "    </tr>\n",
       "    <tr>\n",
       "      <th>648</th>\n",
       "      <td>clau dia karen ascoy ayer nosotras con las gan...</td>\n",
       "      <td>1</td>\n",
       "      <td>Neutral</td>\n",
       "      <td>Clau Dia Karen Ascoy ayer nosotras con las gan...</td>\n",
       "      <td>clau dia karen ascoy ayer nosotras con las gan...</td>\n",
       "      <td>19</td>\n",
       "      <td>23</td>\n",
       "      <td>102</td>\n",
       "      <td>102</td>\n",
       "    </tr>\n",
       "  </tbody>\n",
       "</table>\n",
       "</div>"
      ],
      "text/plain": [
       "                                                   text  label label_name  \\\n",
       "1235  eso si es verdad jaja les falta cultura educac...      0   Negative   \n",
       "5135      chino risas pa que llevas a tus maleteros 🤪😛😛      0   Negative   \n",
       "1815  asu para ella que no cuenta con dinero para un...      0   Negative   \n",
       "6080  bruno goicochea fiorella pezo stefani padilla ...      1    Neutral   \n",
       "6015  que delicioso el caldito de pescado también qu...      2   Positive   \n",
       "665   no debe ir más en la selección es un jugador q...      0   Negative   \n",
       "5921  maledeeeto como provocas😭😭😭 ahhh quiero mi cho...      2   Positive   \n",
       "2997            miedo de llegar a la jato sin medicinas      0   Negative   \n",
       "3764       cada que abren su carpeta se fuga del país 😂      1    Neutral   \n",
       "648   clau dia karen ascoy ayer nosotras con las gan...      1    Neutral   \n",
       "\n",
       "                                          text_original  \\\n",
       "1235  Eso si es verdad jajaja les falta cultura educ...   \n",
       "5135      chino risas pa que llevas a tus maleteros 🤪😛😛   \n",
       "1815  Asu para ella que no cuenta con dinero para un...   \n",
       "6080  Bruno Goicochea Fiorella Pezo Stefani Padilla ...   \n",
       "6015  Que delicioso el caldito de pescado también qu...   \n",
       "665   No debe ir más en la selección es un jugador q...   \n",
       "5921  Maledeeeeto como provocas😭😭😭 ahhh quiero mi ch...   \n",
       "2997            miedo de llegar a la jato sin medicinas   \n",
       "3764       Cada que abren su carpeta se fuga del país 😂   \n",
       "648   Clau Dia Karen Ascoy ayer nosotras con las gan...   \n",
       "\n",
       "                                         tokenized_text  sent_token_length  \\\n",
       "1235  eso si es verdad jaja les falta cultura educac...                 18   \n",
       "5135      chino risas pa que llevas a tus maleteros 🤪😛😛                  9   \n",
       "1815  asu para ella que no cuenta con dinero para un...                115   \n",
       "6080  bruno goicochea fiorella pezo stefani padilla ...                 19   \n",
       "6015  que delicioso el caldito de pescado también qu...                 74   \n",
       "665   no debe ir más en la selección es un jugador q...                 34   \n",
       "5921  maledeeeto como provocas😭😭😭 ahhh quiero mi cho...                 16   \n",
       "2997            miedo de llegar a la jato sin medicinas                  8   \n",
       "3764       cada que abren su carpeta se fuga del país 😂                 10   \n",
       "648   clau dia karen ascoy ayer nosotras con las gan...                 19   \n",
       "\n",
       "      sent_bert_token_length  char_count  Character Count  \n",
       "1235                      18          88               88  \n",
       "5135                      10          45               45  \n",
       "1815                     132         577              577  \n",
       "6080                      29         112              112  \n",
       "6015                     109         452              452  \n",
       "665                       40         165              165  \n",
       "5921                      27          94               94  \n",
       "2997                       9          39               39  \n",
       "3764                      10          44               44  \n",
       "648                       23         102              102  "
      ]
     },
     "execution_count": 22,
     "metadata": {},
     "output_type": "execute_result"
    }
   ],
   "source": [
    "df.sample(10)"
   ]
  },
  {
   "cell_type": "code",
   "execution_count": 23,
   "id": "8299b318-0204-49cb-bf9a-14834e7796cb",
   "metadata": {
    "tags": []
   },
   "outputs": [
    {
     "name": "stderr",
     "output_type": "stream",
     "text": [
      "Special tokens have been added in the vocabulary, make sure the associated word embeddings are fine-tuned or trained.\n"
     ]
    }
   ],
   "source": [
    "from transformers import AutoModelForSequenceClassification, AutoTokenizer\n",
    "\n",
    "model_name = \"pysentimiento/robertuito-sentiment-analysis\"\n",
    "\n",
    "model = AutoModelForSequenceClassification.from_pretrained(\n",
    "    model_name,\n",
    "    num_labels=3\n",
    ")\n",
    "tokenizer = AutoTokenizer.from_pretrained(model_name)\n",
    "tokenizer.model_max_length = 128"
   ]
  },
  {
   "cell_type": "code",
   "execution_count": 24,
   "id": "da7b8124",
   "metadata": {},
   "outputs": [],
   "source": [
    "# columns = ['input_ids', 'attention_mask', 'label']\n",
    "# ds.set_format(type='torch', columns=columns)\n",
    "# ds"
   ]
  },
  {
   "cell_type": "code",
   "execution_count": null,
   "id": "ae25e978",
   "metadata": {},
   "outputs": [],
   "source": []
  },
  {
   "cell_type": "code",
   "execution_count": 25,
   "id": "8ed569d2-67ca-405d-aa88-3e6de71a2356",
   "metadata": {
    "tags": []
   },
   "outputs": [],
   "source": [
    "from pysentimiento.preprocessing import preprocess_tweet\n",
    "preprocessed_ds = ds.map(lambda ex: {\"text\": preprocess_tweet(ex[\"text\"], lang=\"es\")})"
   ]
  },
  {
   "cell_type": "code",
   "execution_count": 26,
   "id": "99a78d85-4029-4621-b692-f63f396a2f6f",
   "metadata": {
    "tags": []
   },
   "outputs": [
    {
     "data": {
      "application/vnd.jupyter.widget-view+json": {
       "model_id": "05fa7d187bb2467fa405752f95f8518c",
       "version_major": 2,
       "version_minor": 0
      },
      "text/plain": [
       "Map:   0%|          | 0/1899 [00:00<?, ? examples/s]"
      ]
     },
     "metadata": {},
     "output_type": "display_data"
    }
   ],
   "source": [
    "tokenized_ds = preprocessed_ds.map(\n",
    "    lambda batch: tokenizer(\n",
    "        batch[\"text\"], padding=True, truncation=True\n",
    "        ),\n",
    "    batched=True, batch_size=32\n",
    ")"
   ]
  },
  {
   "cell_type": "code",
   "execution_count": 27,
   "id": "1dd95bf5",
   "metadata": {},
   "outputs": [
    {
     "data": {
      "text/plain": [
       "DatasetDict({\n",
       "    train: Dataset({\n",
       "        features: ['text', 'label', 'label_name', 'text_original', 'tokenized_text', 'sent_token_length', 'sent_bert_token_length', 'char_count', 'Character Count', 'input_ids', 'token_type_ids', 'attention_mask'],\n",
       "        num_rows: 7594\n",
       "    })\n",
       "    validation: Dataset({\n",
       "        features: ['text', 'label', 'label_name', 'text_original', 'tokenized_text', 'sent_token_length', 'sent_bert_token_length', 'char_count', 'Character Count', 'input_ids', 'token_type_ids', 'attention_mask'],\n",
       "        num_rows: 2374\n",
       "    })\n",
       "    test: Dataset({\n",
       "        features: ['text', 'label', 'label_name', 'text_original', 'tokenized_text', 'sent_token_length', 'sent_bert_token_length', 'char_count', 'Character Count', 'input_ids', 'token_type_ids', 'attention_mask'],\n",
       "        num_rows: 1899\n",
       "    })\n",
       "})"
      ]
     },
     "execution_count": 27,
     "metadata": {},
     "output_type": "execute_result"
    }
   ],
   "source": [
    "tokenized_ds"
   ]
  },
  {
   "cell_type": "code",
   "execution_count": 28,
   "id": "d3634bf4",
   "metadata": {},
   "outputs": [
    {
     "data": {
      "text/plain": [
       "[0, 49, 1, 1, 1, 1, 1, 1, 1, 1, 1, 1, 1]"
      ]
     },
     "execution_count": 28,
     "metadata": {},
     "output_type": "execute_result"
    }
   ],
   "source": [
    "tokenized_ds['train']['input_ids'][0][::10]"
   ]
  },
  {
   "cell_type": "code",
   "execution_count": 29,
   "id": "7c23fbba",
   "metadata": {},
   "outputs": [
    {
     "data": {
      "text/plain": [
       "[1, 1, 0, 0, 0, 0, 0, 0, 0, 0, 0, 0, 0]"
      ]
     },
     "execution_count": 29,
     "metadata": {},
     "output_type": "execute_result"
    }
   ],
   "source": [
    "tokenized_ds['train']['attention_mask'][0][::10]"
   ]
  },
  {
   "cell_type": "code",
   "execution_count": 30,
   "id": "f6d33cad",
   "metadata": {},
   "outputs": [
    {
     "data": {
      "text/plain": [
       "'tu hermano gemelo manolo... sobrado la haces como su doble..   emoji cara con mano sobre la boca emoji  emoji cara con mano sobre la boca emoji'"
      ]
     },
     "execution_count": 30,
     "metadata": {},
     "output_type": "execute_result"
    }
   ],
   "source": [
    "tokenized_ds['train']['text'][10]"
   ]
  },
  {
   "cell_type": "code",
   "execution_count": 31,
   "id": "c88c53d1-0c5b-4b97-910a-75f6991d2d6f",
   "metadata": {
    "tags": []
   },
   "outputs": [],
   "source": [
    "#!pip install ipdb"
   ]
  },
  {
   "cell_type": "code",
   "execution_count": 32,
   "id": "469074ed-9e65-4a9e-913c-6151f5c5d8b3",
   "metadata": {},
   "outputs": [
    {
     "data": {
      "text/plain": [
       "RobertaForSequenceClassification(\n",
       "  (roberta): RobertaModel(\n",
       "    (embeddings): RobertaEmbeddings(\n",
       "      (word_embeddings): Embedding(30002, 768, padding_idx=1)\n",
       "      (position_embeddings): Embedding(130, 768, padding_idx=1)\n",
       "      (token_type_embeddings): Embedding(1, 768)\n",
       "      (LayerNorm): LayerNorm((768,), eps=1e-12, elementwise_affine=True)\n",
       "      (dropout): Dropout(p=0.1, inplace=False)\n",
       "    )\n",
       "    (encoder): RobertaEncoder(\n",
       "      (layer): ModuleList(\n",
       "        (0-11): 12 x RobertaLayer(\n",
       "          (attention): RobertaAttention(\n",
       "            (self): RobertaSelfAttention(\n",
       "              (query): Linear(in_features=768, out_features=768, bias=True)\n",
       "              (key): Linear(in_features=768, out_features=768, bias=True)\n",
       "              (value): Linear(in_features=768, out_features=768, bias=True)\n",
       "              (dropout): Dropout(p=0.1, inplace=False)\n",
       "            )\n",
       "            (output): RobertaSelfOutput(\n",
       "              (dense): Linear(in_features=768, out_features=768, bias=True)\n",
       "              (LayerNorm): LayerNorm((768,), eps=1e-12, elementwise_affine=True)\n",
       "              (dropout): Dropout(p=0.1, inplace=False)\n",
       "            )\n",
       "          )\n",
       "          (intermediate): RobertaIntermediate(\n",
       "            (dense): Linear(in_features=768, out_features=3072, bias=True)\n",
       "            (intermediate_act_fn): GELUActivation()\n",
       "          )\n",
       "          (output): RobertaOutput(\n",
       "            (dense): Linear(in_features=3072, out_features=768, bias=True)\n",
       "            (LayerNorm): LayerNorm((768,), eps=1e-12, elementwise_affine=True)\n",
       "            (dropout): Dropout(p=0.1, inplace=False)\n",
       "          )\n",
       "        )\n",
       "      )\n",
       "    )\n",
       "  )\n",
       "  (classifier): RobertaClassificationHead(\n",
       "    (dense): Linear(in_features=768, out_features=768, bias=True)\n",
       "    (dropout): Dropout(p=0.1, inplace=False)\n",
       "    (out_proj): Linear(in_features=768, out_features=3, bias=True)\n",
       "  )\n",
       ")"
      ]
     },
     "execution_count": 32,
     "metadata": {},
     "output_type": "execute_result"
    }
   ],
   "source": [
    "#import torch\n",
    "device = \"cuda\" if torch.cuda.is_available() else \"cpu\"\n",
    "model.cuda()"
   ]
  },
  {
   "cell_type": "code",
   "execution_count": 33,
   "id": "5d56e2f2-159e-4ffe-86fc-3659ed308b89",
   "metadata": {},
   "outputs": [
    {
     "name": "stderr",
     "output_type": "stream",
     "text": [
      "/home/darkstar/anaconda3/envs/robertuito-env/lib/python3.10/site-packages/accelerate/accelerator.py:432: FutureWarning: Passing the following arguments to `Accelerator` is deprecated and will be removed in version 1.0 of Accelerate: dict_keys(['dispatch_batches', 'split_batches', 'even_batches', 'use_seedable_sampler']). Please pass an `accelerate.DataLoaderConfiguration` instead: \n",
      "dataloader_config = DataLoaderConfiguration(dispatch_batches=None, split_batches=False, even_batches=True, use_seedable_sampler=True)\n",
      "  warnings.warn(\n"
     ]
    }
   ],
   "source": [
    "from transformers import TrainingArguments, Trainer, DataCollatorWithPadding\n",
    "\n",
    "training_args = TrainingArguments(\n",
    "    per_device_train_batch_size=32,\n",
    "    output_dir=\"trainer_robertuito_sa\",\n",
    "    warmup_ratio=0.1,\n",
    "    learning_rate=5e-5,\n",
    "    do_eval=True,\n",
    "    evaluation_strategy=\"epoch\",\n",
    "    num_train_epochs=5,\n",
    ")\n",
    "\n",
    "trainer = Trainer(\n",
    "    model=model,\n",
    "    args=training_args,\n",
    "    train_dataset=tokenized_ds[\"train\"],\n",
    "    eval_dataset=tokenized_ds[\"validation\"],\n",
    "    compute_metrics=compute_metrics,\n",
    "    data_collator=DataCollatorWithPadding(tokenizer=tokenizer),\n",
    ")"
   ]
  },
  {
   "cell_type": "code",
   "execution_count": 34,
   "id": "6be1933a-b930-410d-91ff-646bdcb9a80f",
   "metadata": {
    "tags": []
   },
   "outputs": [
    {
     "name": "stdout",
     "output_type": "stream",
     "text": [
      "{'eval_loss': 0.611771285533905, 'eval_f1': 0.725496288732459, 'eval_recall': 0.7243278871953841, 'eval_runtime': 11.0662, 'eval_samples_per_second': 214.528, 'eval_steps_per_second': 26.839, 'epoch': 1.0}\n",
      "{'eval_loss': 0.6473233103752136, 'eval_f1': 0.7340101227177801, 'eval_recall': 0.7356862710731219, 'eval_runtime': 11.1704, 'eval_samples_per_second': 212.525, 'eval_steps_per_second': 26.588, 'epoch': 2.0}\n",
      "{'loss': 0.5379, 'grad_norm': 5.051478385925293, 'learning_rate': 3.221288515406163e-05, 'epoch': 2.1}\n",
      "{'eval_loss': 0.8852047324180603, 'eval_f1': 0.7235017544061685, 'eval_recall': 0.72673855483754, 'eval_runtime': 11.0195, 'eval_samples_per_second': 215.437, 'eval_steps_per_second': 26.952, 'epoch': 3.0}\n",
      "{'eval_loss': 1.1249061822891235, 'eval_f1': 0.7306746429353659, 'eval_recall': 0.7304955401795366, 'eval_runtime': 11.0748, 'eval_samples_per_second': 214.361, 'eval_steps_per_second': 26.818, 'epoch': 4.0}\n",
      "{'loss': 0.1432, 'grad_norm': 1.3750090599060059, 'learning_rate': 8.870214752567695e-06, 'epoch': 4.2}\n",
      "{'eval_loss': 1.311457872390747, 'eval_f1': 0.7347044771906583, 'eval_recall': 0.7360930648898559, 'eval_runtime': 11.0641, 'eval_samples_per_second': 214.567, 'eval_steps_per_second': 26.843, 'epoch': 5.0}\n",
      "{'train_runtime': 577.656, 'train_samples_per_second': 65.731, 'train_steps_per_second': 2.06, 'train_loss': 0.29305695926441866, 'epoch': 5.0}\n"
     ]
    },
    {
     "data": {
      "text/plain": [
       "TrainOutput(global_step=1190, training_loss=0.29305695926441866, metrics={'train_runtime': 577.656, 'train_samples_per_second': 65.731, 'train_steps_per_second': 2.06, 'train_loss': 0.29305695926441866, 'epoch': 5.0})"
      ]
     },
     "execution_count": 34,
     "metadata": {},
     "output_type": "execute_result"
    }
   ],
   "source": [
    "trainer.train()"
   ]
  },
  {
   "cell_type": "code",
   "execution_count": 35,
   "id": "f2c407d3-9fa8-402c-85eb-7061a55c9984",
   "metadata": {
    "tags": []
   },
   "outputs": [],
   "source": [
    "#Test on validation set"
   ]
  },
  {
   "cell_type": "code",
   "execution_count": 131,
   "id": "34fec069",
   "metadata": {},
   "outputs": [
    {
     "name": "stdout",
     "output_type": "stream",
     "text": [
      "{'eval_loss': 1.3385035991668701, 'eval_f1': 0.7032715440575292, 'eval_recall': 0.7043530515723176, 'eval_runtime': 8.35, 'eval_samples_per_second': 227.425, 'eval_steps_per_second': 28.503, 'epoch': 5.0}\n"
     ]
    },
    {
     "data": {
      "text/plain": [
       "{'eval_loss': 1.3385035991668701,\n",
       " 'eval_f1': 0.7032715440575292,\n",
       " 'eval_recall': 0.7043530515723176,\n",
       " 'eval_runtime': 8.35,\n",
       " 'eval_samples_per_second': 227.425,\n",
       " 'eval_steps_per_second': 28.503,\n",
       " 'epoch': 5.0}"
      ]
     },
     "execution_count": 131,
     "metadata": {},
     "output_type": "execute_result"
    }
   ],
   "source": [
    "trainer.evaluate(tokenized_ds[\"test\"])"
   ]
  },
  {
   "cell_type": "code",
   "execution_count": 55,
   "id": "57814e98",
   "metadata": {},
   "outputs": [],
   "source": [
    "#model.load_state_dict(torch.load(f'./_BERT_epoch_3.model', map_location=torch.device('cpu')))"
   ]
  },
  {
   "cell_type": "code",
   "execution_count": 58,
   "id": "ba553cea-593c-41e2-afff-d61ccd710e61",
   "metadata": {},
   "outputs": [],
   "source": [
    "from sklearn.metrics import classification_report"
   ]
  },
  {
   "cell_type": "code",
   "execution_count": 109,
   "id": "d3bbf5b3-ed95-48d7-a545-427fd0c9c5de",
   "metadata": {},
   "outputs": [
    {
     "data": {
      "text/plain": [
       "1899"
      ]
     },
     "execution_count": 109,
     "metadata": {},
     "output_type": "execute_result"
    }
   ],
   "source": [
    "len(predictions[0])"
   ]
  },
  {
   "cell_type": "code",
   "execution_count": 110,
   "id": "10c6ec35-512a-4fd7-b855-0aee93ee808c",
   "metadata": {},
   "outputs": [
    {
     "data": {
      "text/plain": [
       "1899"
      ]
     },
     "execution_count": 110,
     "metadata": {},
     "output_type": "execute_result"
    }
   ],
   "source": [
    "len(y_test)"
   ]
  },
  {
   "cell_type": "code",
   "execution_count": null,
   "id": "e3cf85f9-535e-45ab-bce6-789177ff8133",
   "metadata": {},
   "outputs": [],
   "source": []
  },
  {
   "cell_type": "code",
   "execution_count": 132,
   "id": "dae91604-03cd-46fc-922d-fbcbb2717572",
   "metadata": {},
   "outputs": [
    {
     "name": "stdout",
     "output_type": "stream",
     "text": [
      "{'eval_loss': 1.3385035991668701, 'eval_f1': 0.7032715440575292, 'eval_recall': 0.7043530515723176, 'eval_runtime': 8.3363, 'eval_samples_per_second': 227.8, 'eval_steps_per_second': 28.55, 'epoch': 5.0}\n"
     ]
    }
   ],
   "source": [
    "# Suponiendo que 'trainer' es tu modelo entrenado y 'tokenized_ds[\"test\"]' son tus datos de prueba\n",
    "# 1. Evaluación del modelo\n",
    "evaluation_results = trainer.evaluate(tokenized_ds[\"test\"])"
   ]
  },
  {
   "cell_type": "code",
   "execution_count": 133,
   "id": "3871b395-9e76-46ce-8dee-688b013a35e3",
   "metadata": {},
   "outputs": [
    {
     "data": {
      "text/plain": [
       "{'eval_loss': 1.3385035991668701,\n",
       " 'eval_f1': 0.7032715440575292,\n",
       " 'eval_recall': 0.7043530515723176,\n",
       " 'eval_runtime': 8.3363,\n",
       " 'eval_samples_per_second': 227.8,\n",
       " 'eval_steps_per_second': 28.55,\n",
       " 'epoch': 5.0}"
      ]
     },
     "execution_count": 133,
     "metadata": {},
     "output_type": "execute_result"
    }
   ],
   "source": [
    "evaluation_results"
   ]
  },
  {
   "cell_type": "code",
   "execution_count": 134,
   "id": "76da8fa9-c558-44d6-8a8a-ca8c1f8007b6",
   "metadata": {},
   "outputs": [
    {
     "data": {
      "text/plain": [
       "PredictionOutput(predictions=array([[ 3.708925  , -0.76087314, -3.5224314 ],\n",
       "       [-1.9802161 , -2.4714363 ,  5.2589083 ],\n",
       "       [ 3.8187468 , -2.7554576 , -2.0672948 ],\n",
       "       ...,\n",
       "       [-2.690118  , -2.711032  ,  6.2128444 ],\n",
       "       [-3.1502383 , -1.9135399 ,  5.9515576 ],\n",
       "       [ 5.418639  , -2.2876883 , -3.7060378 ]], dtype=float32), label_ids=array([1, 0, 0, ..., 2, 1, 0]), metrics={'test_loss': 1.3385035991668701, 'test_f1': 0.7032715440575292, 'test_recall': 0.7043530515723176, 'test_runtime': 8.3856, 'test_samples_per_second': 226.46, 'test_steps_per_second': 28.382})"
      ]
     },
     "execution_count": 134,
     "metadata": {},
     "output_type": "execute_result"
    }
   ],
   "source": [
    "# 2. Hacer predicciones en los datos de prueba\n",
    "predictions = trainer.predict(tokenized_ds[\"test\"])\n",
    "predictions"
   ]
  },
  {
   "cell_type": "code",
   "execution_count": 135,
   "id": "92ac8f30-4cd7-4b08-aded-5639ea09a2a5",
   "metadata": {},
   "outputs": [
    {
     "data": {
      "text/plain": [
       "1899"
      ]
     },
     "execution_count": 135,
     "metadata": {},
     "output_type": "execute_result"
    }
   ],
   "source": [
    "len(predictions[0])"
   ]
  },
  {
   "cell_type": "code",
   "execution_count": 136,
   "id": "06d1b3a8-d75d-477b-a862-5b36937b2c2a",
   "metadata": {},
   "outputs": [],
   "source": [
    "predicted_labels = [np.argmax(pred) for pred in predictions[0]]\n"
   ]
  },
  {
   "cell_type": "code",
   "execution_count": 137,
   "id": "da466639-9032-4e3b-8387-ece701d9a4be",
   "metadata": {},
   "outputs": [
    {
     "data": {
      "text/plain": [
       "[0, 2, 0, 0, 1, 2, 0, 0, 2, 1]"
      ]
     },
     "execution_count": 137,
     "metadata": {},
     "output_type": "execute_result"
    }
   ],
   "source": [
    "predicted_labels[:10]"
   ]
  },
  {
   "cell_type": "code",
   "execution_count": 140,
   "id": "4ea63e72-9ba7-4d94-9927-16a2f70bf22c",
   "metadata": {},
   "outputs": [
    {
     "name": "stdout",
     "output_type": "stream",
     "text": [
      "              precision    recall  f1-score   support\n",
      "\n",
      "           0       0.79      0.82      0.81       811\n",
      "           1       0.59      0.53      0.56       552\n",
      "           2       0.73      0.75      0.74       536\n",
      "\n",
      "    accuracy                           0.72      1899\n",
      "   macro avg       0.70      0.70      0.70      1899\n",
      "weighted avg       0.72      0.72      0.72      1899\n",
      "\n"
     ]
    }
   ],
   "source": [
    "# 4. Calcular el informe de clasificación\n",
    "classification_rep = classification_report(true_labels, predicted_labels)\n",
    "\n",
    "# Imprimir el informe de clasificación\n",
    "print(classification_rep)"
   ]
  },
  {
   "cell_type": "code",
   "execution_count": null,
   "id": "8da07224-481b-4f0d-b9d2-9f47f35d99be",
   "metadata": {},
   "outputs": [],
   "source": []
  },
  {
   "cell_type": "code",
   "execution_count": 38,
   "id": "ed4ae6f3",
   "metadata": {},
   "outputs": [],
   "source": [
    "#Error Analisys"
   ]
  },
  {
   "cell_type": "code",
   "execution_count": 39,
   "id": "c7b0f024-3661-4dcd-8dc5-8077e9db12a2",
   "metadata": {},
   "outputs": [],
   "source": [
    "import pandas as pd"
   ]
  },
  {
   "cell_type": "code",
   "execution_count": 40,
   "id": "46bbd55b",
   "metadata": {},
   "outputs": [],
   "source": [
    "val_df = ds['validation'].to_pandas()\n",
    "#val_df"
   ]
  },
  {
   "cell_type": "code",
   "execution_count": 41,
   "id": "f9f23107",
   "metadata": {},
   "outputs": [],
   "source": [
    "from tqdm.notebook import tqdm"
   ]
  },
  {
   "cell_type": "code",
   "execution_count": 42,
   "id": "737a62b3",
   "metadata": {},
   "outputs": [
    {
     "data": {
      "application/vnd.jupyter.widget-view+json": {
       "model_id": "b17ba429322f4d8c89b6e1e8738ea33a",
       "version_major": 2,
       "version_minor": 0
      },
      "text/plain": [
       "  0%|          | 0/2374 [00:00<?, ?it/s]"
      ]
     },
     "metadata": {},
     "output_type": "display_data"
    }
   ],
   "source": [
    "# step by step predictions on dataframe\n",
    "# We do this to view predictions in the pandas dataframe and easily filter them and perform error analysis.\n",
    "pred_final = []\n",
    "\n",
    "for i, row in tqdm(val_df.iterrows(), total=val_df.shape[0]):\n",
    "    predictions = []\n",
    "\n",
    "    text = row[\"text\"]\n",
    "    encoded_data_test_single = tokenizer.batch_encode_plus([text], \n",
    "    # add_special_tokens=config.add_special_tokens, \n",
    "    # return_attention_mask=config.return_attention_mask, \n",
    "    # pad_to_max_length=config.pad_to_max_length, \n",
    "    max_length=128,\n",
    "    # return_tensors=config.return_tensors\n",
    "    return_tensors=\"pt\"\n",
    "    )\n",
    "    input_ids_test = encoded_data_test_single['input_ids']\n",
    "    attention_masks_test = encoded_data_test_single['attention_mask']\n",
    "\n",
    "    \n",
    "    inputs = {'input_ids':      input_ids_test.to(device),\n",
    "              'attention_mask':attention_masks_test.to(device),\n",
    "             }\n",
    "\n",
    "    with torch.no_grad():        \n",
    "        outputs = model(**inputs)\n",
    "    \n",
    "    logits = outputs[0]\n",
    "    logits = logits.detach().cpu().numpy()\n",
    "    predictions.append(logits)\n",
    "    predictions = np.concatenate(predictions, axis=0)\n",
    "    pred_final.append(np.argmax(predictions, axis=1).flatten()[0])"
   ]
  },
  {
   "cell_type": "code",
   "execution_count": 43,
   "id": "e2d5ea48-4899-4cb3-9027-0ea1cf46c0e0",
   "metadata": {},
   "outputs": [],
   "source": [
    "# add pred into val_df\n",
    "val_df[\"pred\"] = pred_final"
   ]
  },
  {
   "cell_type": "code",
   "execution_count": 44,
   "id": "aebc0161-59a5-4fc6-a34a-45f47f0416c5",
   "metadata": {},
   "outputs": [],
   "source": [
    "#  Add control column for easier wrong and right predictions\n",
    "control = val_df.pred.values == val_df.label.values\n",
    "val_df[\"control\"] = control"
   ]
  },
  {
   "cell_type": "code",
   "execution_count": 45,
   "id": "76106d47-0012-41ec-9656-9d3227934bab",
   "metadata": {},
   "outputs": [],
   "source": [
    "# filtering false predictions\n",
    "val_df = val_df[val_df.control == False]"
   ]
  },
  {
   "cell_type": "code",
   "execution_count": 46,
   "id": "ecdd05ba-780e-417f-a155-812850af1b93",
   "metadata": {},
   "outputs": [],
   "source": [
    "# label to intent mapping\n",
    "name2label = {\"Negative\":0,\n",
    "              \"Neutral\":1,\n",
    "             \"Positive\":2\n",
    "             }\n",
    "label2name = {v: k for k, v in name2label.items()}\n",
    "\n",
    "val_df[\"pred_name\"] = val_df.pred.apply(lambda x: label2name.get(x)) "
   ]
  },
  {
   "cell_type": "code",
   "execution_count": 47,
   "id": "0e076559-81d8-4997-979e-330b1e15f200",
   "metadata": {},
   "outputs": [],
   "source": [
    "from sklearn.metrics import confusion_matrix\n",
    "\n",
    "# We create a confusion matrix to better observe the classes that the model confuses.\n",
    "pred_name_values = val_df.pred_name.values\n",
    "label_values = val_df.label_name.values\n",
    "confmat = confusion_matrix(label_values, pred_name_values, labels=list(name2label.keys()))"
   ]
  },
  {
   "cell_type": "code",
   "execution_count": 48,
   "id": "86229af8-4484-4551-bfca-7280b8eab020",
   "metadata": {},
   "outputs": [
    {
     "data": {
      "text/plain": [
       "array([[  0, 205,  39],\n",
       "       [131,   0, 139],\n",
       "       [ 56, 153,   0]])"
      ]
     },
     "execution_count": 48,
     "metadata": {},
     "output_type": "execute_result"
    }
   ],
   "source": [
    "confmat"
   ]
  },
  {
   "cell_type": "code",
   "execution_count": 49,
   "id": "a282fc0e-f045-430b-9126-194627f8c043",
   "metadata": {},
   "outputs": [
    {
     "data": {
      "text/html": [
       "<div>\n",
       "<style scoped>\n",
       "    .dataframe tbody tr th:only-of-type {\n",
       "        vertical-align: middle;\n",
       "    }\n",
       "\n",
       "    .dataframe tbody tr th {\n",
       "        vertical-align: top;\n",
       "    }\n",
       "\n",
       "    .dataframe thead th {\n",
       "        text-align: right;\n",
       "    }\n",
       "</style>\n",
       "<table border=\"1\" class=\"dataframe\">\n",
       "  <thead>\n",
       "    <tr style=\"text-align: right;\">\n",
       "      <th>col_0</th>\n",
       "      <th>Negative</th>\n",
       "      <th>Neutral</th>\n",
       "      <th>Positive</th>\n",
       "    </tr>\n",
       "    <tr>\n",
       "      <th>row_0</th>\n",
       "      <th></th>\n",
       "      <th></th>\n",
       "      <th></th>\n",
       "    </tr>\n",
       "  </thead>\n",
       "  <tbody>\n",
       "    <tr>\n",
       "      <th>Negative</th>\n",
       "      <td>0</td>\n",
       "      <td>205</td>\n",
       "      <td>39</td>\n",
       "    </tr>\n",
       "    <tr>\n",
       "      <th>Neutral</th>\n",
       "      <td>131</td>\n",
       "      <td>0</td>\n",
       "      <td>139</td>\n",
       "    </tr>\n",
       "    <tr>\n",
       "      <th>Positive</th>\n",
       "      <td>56</td>\n",
       "      <td>153</td>\n",
       "      <td>0</td>\n",
       "    </tr>\n",
       "  </tbody>\n",
       "</table>\n",
       "</div>"
      ],
      "text/plain": [
       "col_0     Negative  Neutral  Positive\n",
       "row_0                                \n",
       "Negative         0      205        39\n",
       "Neutral        131        0       139\n",
       "Positive        56      153         0"
      ]
     },
     "execution_count": 49,
     "metadata": {},
     "output_type": "execute_result"
    }
   ],
   "source": [
    "df_confusion_val = pd.crosstab(label_values, pred_name_values)\n",
    "df_confusion_val"
   ]
  },
  {
   "cell_type": "code",
   "execution_count": 50,
   "id": "8e6e4c35-1a05-44f2-8b40-a7a6dee7ae49",
   "metadata": {},
   "outputs": [],
   "source": [
    "# save confissuan matrix df\n",
    "df_confusion_val.to_csv(\"val_df_confusion.csv\")"
   ]
  },
  {
   "cell_type": "code",
   "execution_count": null,
   "id": "dab28ef2-630e-45b3-9552-ee2e42e66160",
   "metadata": {},
   "outputs": [],
   "source": []
  },
  {
   "cell_type": "markdown",
   "id": "c79614ce-e047-449c-b3a8-83ed2becfc20",
   "metadata": {},
   "source": [
    "## Inference"
   ]
  },
  {
   "cell_type": "code",
   "execution_count": 51,
   "id": "04ce937d-9bfc-43c1-88a9-d99a4c7f56ae",
   "metadata": {},
   "outputs": [
    {
     "data": {
      "text/plain": [
       "['no yuli con eso se va con pendeivis  emoji cara decepcionada emoji',\n",
       " 'estaba aguja',\n",
       " 'y del agua su duro  emoji cara sonriendo con ojos sonrientes emoji  emoji cara sonriendo con ojos sonrientes emoji',\n",
       " 'christian cacho vergara ahí está tu chuleton  emoji cara babeando emoji',\n",
       " 'malditas lacras deben chaparlos y meterlos bien presos... vienen de otro país a hacer esto, no pues ya basta!!!  emoji cara cabreada emoji  emoji cara cabreada emoji  emoji cara cabreada emoji',\n",
       " '@usuario juan antonio castillo solari primo pronto con tu libro  emoji cara radiante con ojos sonrientes emoji  emoji cara feliz con ojos sonrientes emoji',\n",
       " 'delicioso, muchas gracias por los aportes. vivo en la sierra, exactamente en apurimac y en mi trabajo de empoderar a las mujeres, tambien he inventado o reinventado recetas con quinua, como carapulcra, ensaladas, postres y otros. debemos de valorar nuestros productos  emoji cara feliz con ojos sonrientes emoji  emoji cara feliz con ojos sonrientes emoji',\n",
       " 'he visto que gente  publica o comparte memes o frases alegando que debemos estar relajados, que esto solo afectaría a los millonarios o a las grandes empresas, y tú o yo que somos ciudadanos que nos esforzamos a diario por lo que queremos lograr u obtener, estemos tranquilos porque esto no es con nosotros. he visto frases diciendo tú que compras en cuotas, tú qué vas en micro, ¿que te preocupa? ¡esto no es contigo! según esas frases no podemos estar en contra de la izquierda nosotros. también he visto gente renegando por el voto de todos los que marcaron él lápiz  emoji lápiz emoji  y reclaman una nulidad de votos (qué en mi opinión sería lo mejor) pero, seamos realistas, eso no se asemeja en nada a la realidad. para finalizar castillo tiene 18 procesos penales abiertos, keiko tiene 12 procesos penales abiertos, ninguno de los 2 debería estar debatiéndose la disputa de quien es el próximo dictador o gobernante del país. pero tristemente ya están ahí, en mi opinión solo queda por elegir a alguien que dice que gobernará el país y se irá, y no a alguien que llama hermano a evo morales (dictador), que aplaude a chávez o maduro (dictadores), que canta a viva voz el himno del movadef (movimiento de sendero luminoso).',\n",
       " 'ya lo veo.. magaly la firme tiene mas chamba este año  emoji cara sonriendo con los ojos cerrados emoji jaja',\n",
       " 'es cierto!!! era una tortura no poder acercarse a la mesa!!!  mi mamá se rajaba en cada cumple (y lo sigue haciendo), con los triples mas ricos del universo, los petipanes con pollo, los de aceitunita con huevo duro, butiffarritas, etc. y ni que decir de los dulcesitos hechos con la receta de la bisabuela: bolitas de maná, alfajores con manjarblanco (de olla porsupuesto), merenguitos, bolitas de nueces, trufitas, etc. y la torta de chocolate con harto fudge decorada con lentejitas, mas deli!!! gracias ma! ana  emoji cara lanzando un beso emoji',\n",
       " 'tan fregado está que sacas a carlos cacho a hablar?  emoji cara llorando de risa emoji  emoji cara llorando de risa emoji  emoji cara llorando de risa emoji',\n",
       " 'jaja yara elvira landa montenegro esta chica me parece conocida jaja  emoji cara llorando de risa emoji  emoji cara llorando de risa emoji  emoji cara llorando de risa emoji',\n",
       " 'yo hago la misma si veo que nadie recoge yo tampoco es cosa de tiempo para que mi esposo me reclamé y ahí le digo de vuelta... bueno si estás viendo que está la embarra por que no recoges  emoji persona encogida de hombros emoji',\n",
       " 'emoji cara de payaso emoji  emoji cara de payaso emoji  emoji cara de payaso emoji payaso y loco qué estaremos pagando hablá de corrupción y su familia es corrupta, esté loquito qué sé cree revolucionario fue castrado políticamente por don isaac su api otro acomplejado  emoji cara de payaso emoji  emoji cara de payaso emoji',\n",
       " 'que bueno chinito que se den un tiempo para ustedes sigan así cuidándote habla causita  emoji cara feliz con ojos sonrientes emoji  emoji cara feliz con ojos sonrientes emoji  emoji cara feliz con ojos sonrientes emoji  emoji cara de alivio emoji  emoji cara feliz con ojos sonrientes emoji',\n",
       " 'los comuneros acudían a mirar tanta maravilla',\n",
       " 'ya le vimos el intestino y es color chaufa  emoji cara revolviéndose de la risa emoji  emoji cara revolviéndose de la risa emoji  emoji cara revolviéndose de la risa emoji  si o no tojo sies jhonnathan silva espino gustavo chumbes condor  jaja terribles son',\n",
       " 'bendiciones flaca bella emoji cara con mascarilla médica emoji  emoji bandera perú emoji  emoji bandera estados unidos emoji',\n",
       " 'que imbécil es ese gordo haciendo esa babosada ya llega tu hora que mueras cómo murió el cómico liendra emoji cara cabreada emoji',\n",
       " 'ernesto giraldo bien ahí mi cachorro , mejorando la raza  emoji gato haciendo una mueca emoji',\n",
       " 'uy mi amor como que en vez de echarte talco, te echaron levadura  emoji mono con los ojos tapados emoji  emoji mono con la boca tapada emoji  emoji mono con los ojos tapados emoji  emoji mono con la boca tapada emoji  emoji mono con los ojos tapados emoji  emoji mono con la boca tapada emoji  ... no me juzguen lo amo  emoji cara sonriendo con sudor frío emoji',\n",
       " 'el demonio gobierna en estos tiempos... emoji cara cabreada emoji  emoji cara cabreada emoji  emoji cara cabreada emoji si tu eres inocente\" pronto dios ayudara!! el es bueno y no falla!!!',\n",
       " '¿con qué autoridad moral beto denuncia a los jóvenes? este comunicador social de quinta ahora se siente afectado,si toda una vida despotrica, descalifica y cuando se le antoje echa barro, chapa y descalifica  ¿con qué moral? simplemente le dieron de su propia medicina y los jóvenes reaccionan y se rebelan. y ¿saben cual es lo más lamentable? lo peor de todo es que lo poco que le siguen, no le siguen por su contenido  interesante como lo pueden hacer otros periodistas serios, sólo le siguen personas que les gusta la mofa, la pendejada y el morbo. pero que vas a saber tu beto si no estas preparado para esta conversación... emoji cara sonriendo con superioridad emoji',\n",
       " 'es pia chiquita hermosa  emoji cara sonriendo con ojos de corazón emoji',\n",
       " 'cecilia carlos carlos blanca liz valeria jessica  hermosos recuerdos',\n",
       " 'torrejitas de fideos ,una vez me quedo mucho fideo del día anterior y solo tenia camote y pechuga de pollo ,pues sancoche el camote deahilache el.pollo y los fideos en un tazón grande lo mezcle todo con huevos y a freír, fueron la sensación de lo crocantes que quedaron y el sabor del camote  emoji pulgar hacia arriba emoji',\n",
       " 'te extrañamos eres un guerrero de la democracia, un periodista con los huevos bien puestos emoji bíceps flexionado emoji , apoyo que te hayas ido, una pena que perseguido con insultos de parte de quienes \"con trampa ganaron y entraron al poder\". gracias por cumplir con tu profesión y ser tan valiente en tus notas y opiniones  emoji cara desanimada emoji . un abrazo desde piura perú y espero verte muy pronto por algún medio desde dónde te encuentres.  emoji bandera perú emoji  emoji bandera perú emoji  emoji bandera perú emoji  emoji bandera perú emoji que viva beto ortiz, que viva el perú.  emoji bandera perú emoji . solo los valientes son amados u odiados.  emoji manos aplaudiendo tono de piel claro emoji  los mediocres no inspiran ningún sentimiento que no sea lástima...y tú no estás en este penoso grupo.  emoji bandera perú emoji  emoji bandera perú emoji  emoji bandera perú emoji  emoji bandera perú emoji  emoji bandera perú emoji  emoji bandera perú emoji  emoji bandera perú emoji',\n",
       " 'por ahí esta el arrastrado de combina emoji cara con calor emoji',\n",
       " 'buena mami... la.mujer siempre tiene pretendientes a full ... desaprovechar jamas  emoji cara feliz con ojos sonrientes emoji',\n",
       " 'bray saavedra andre steffano jaja yara causa... emoji cara llorando de risa emoji  emoji cara revolviéndose de la risa emoji',\n",
       " 'redin roy chagua machacuay  hermano emoji cara llorando de risa emoji',\n",
       " 'chino porque contratas tanto mongol solo quedate con cholo juan  emoji cara revolviéndose de la risa emoji  emoji cara revolviéndose de la risa emoji',\n",
       " 'te puede gustar o no. emoji mano saludando emoji  puedes confiar o no. emoji mano saludando emoji  pero va  y pasa por tu conciencia, la razón y lógica, .. emoji cara con monóculo emoji  cuando era jovencito. sufrí frialdad y el temor de los mismos policías..cuando te los acercabas por cualquier pregunta.!!!(razón no les faltaba). emoji cara haciendo una mueca emoji  \"y meditaba y me decit a mi mismo\".. esos senderistas terrorista ,, en vez de imponer sus ideas con el terror, grogas y secuestros..¿por qué no forman su partido ..y si la gente los eligen..bien .. ¿¡\"\"por que tanta muerte\"\"!.? emoji corazón negro emoji  emoji calavera emoji  \"capturado abimael y etc.\" .gano la izquierda con  castillo  ví  que se concretó las idea de corrupción de izquierda que antes eran sospechas ahora son realidad. ahora si son,  y se consideran marxistas leninistas..etc  emoji mano saludando emoji  emoji mano saludando emoji  emoji mano saludando emoji   ¿por qué no se van allá a vivir , si consideran que es superior? .o donan su sueldos propiedades, etc y se unen a la causa del verdadeo comunismo?. \"el comunismo es una novela social insana que  que alienta el comun denominador cono robots y que solo piensa el papá gobierno y sin libertad del individuo..envoltorio de un socialismo enfermo, corupto , y no un sistema económico. solo vean  el ejemplo de rusia china  ( taiwán y cuba).. .. capitalistas económicamente. y argentina aquí cerquita.!!!',\n",
       " 'alberto volvió a hacer sonar los tacones y salió',\n",
       " 'con todas las letras...votaré por una prensa mejor y una tv que deje de emitir basura que degenera la mente de la población con la excusa de que si no le gusta que cambie de canal emoji caca con ojos emoji  emoji caca con ojos emoji  emoji caca con ojos emoji  y pensar que iva votar nulo',\n",
       " 'mala defensa de la chica yenifer. ya hubiera cambiado de boga... emoji cara haciendo una mueca emoji  emoji cara haciendo una mueca emoji  emoji cara haciendo una mueca emoji',\n",
       " 'yo con 13 años m ganaba la vida el pan en la calle honradamente sin robar y esta srta. 26 años ya uña joven madura sabia lo que estaba haciendo...gente como ella y como su cuñado nunca más ,se olvidaron de la gente del pueblo x quien entan alli..., emoji cara cabreada emoji  emoji cara enfadada emoji  emoji cara enfadada emoji',\n",
       " 'laureano maximo chacaliaza hernandez toma nota para nuestro proximo viaje  emoji cara sonriendo con ojos sonrientes emoji  emoji cara sonriendo con ojos sonrientes emoji  emoji cara sonriendo con ojos de corazón emoji  emoji cara sonriendo con ojos de corazón emoji',\n",
       " 'fidel un ejemplo jaja emoji cara llorando de risa emoji  emoji cara llorando de risa emoji  emoji cara llorando de risa emoji  por dios que esta hablando este huevón encima bien conchudo rojito de mierda',\n",
       " 'sartén para chifa  emoji cara llorando de risa emoji  emoji cara llorando de risa emoji  emoji cara llorando de risa emoji',\n",
       " 'mi ma quiere conocerte salúdame ariel flores la colorina un  emoji cara lanzando un beso emoji',\n",
       " 'jaja que amargada la tía fácil esa tienda no venden nada es para salir corriendo , creo que por eso para vacío , ojalá lo vea el dueño y se de cuenta por que no vende y está pagando a la empleada por las puras emoji cara llorando de risa emoji  emoji cara llorando de risa emoji  emoji cara llorando de risa emoji',\n",
       " 'naysha gelimich jaja... moriremos juntas jaja  emoji cara revolviéndose de la risa emoji  emoji cara revolviéndose de la risa emoji  emoji cara revolviéndose de la risa emoji  te quiero chiquita  emoji dos corazones emoji 👯\\u200d',\n",
       " 'yo voy a cuidar tu castidad como oro en polvo',\n",
       " 'yo pensaba que le puso la curita más abajo por qué se le quedó la aguja de la vacuna en su brazo y pasar piola  emoji cara sonriendo con sudor frío emoji',\n",
       " 'el perro oteaba inútilmente incitado por valencio',\n",
       " 'pero lo más raro del caso es que la perra se curó',\n",
       " 'eres un chucho beto me haces el día aveces  emoji cara llorando de risa emoji  emoji cara llorando de risa emoji  emoji cara llorando de risa emoji  buen cátedra para esa huequis de burrada',\n",
       " 'lo malogra: chihuan cuba las uribes lesly leyva maguilaura también por los restos  emoji apretón de manos emoji  emoji manos aplaudiendo emoji  emoji manos aplaudiendo emoji  emoji manos aplaudiendo emoji',\n",
       " '9 de junio estreno de la película transformers el despertar de las bestias  emoji cara sonriendo con gafas de sol emoji',\n",
       " 'era el que cuida los  emoji coche emoji  fuera de la u no lo discriminen, de avance mi soli  emoji alienígena emoji',\n",
       " 'estas viniendo a tu segunda casa zorritos... ah las 3 puntas donde tu amigo leo el español... si es q no me equivoco',\n",
       " 'excelente, algún día tengo que visitar y me llevo este vídeo para no perderme el recorrido de las bodegas y los mejores asados. me encanta tu programa emoji cara sonriendo con ojos de corazón emoji',\n",
       " 'no, hijito, porque las moscas las creó el diablo',\n",
       " 'templado hasta el cien',\n",
       " 'andaa gallinas  lloronas ,por todo se quejan, eso trajo el palomilla ferrari emoji gallina emoji  emoji gallina emoji  emoji gallina emoji  emoji cara radiante con ojos sonrientes emoji',\n",
       " 'randal cele milla  no seas palta pss  emoji cara llorando de risa emoji',\n",
       " 'jorge enrique ampudia monje  que te reten a bailara asi nicaa  emoji cara revolviéndose de la risa emoji',\n",
       " 'si creen que castillo gobernará sólo 5 años, están recontra, super, hiper, archi equivocados. no saldrá ni muerto!!!..será un régimen a nivel de corea del norte...matarán a todo aquel que se resista a chuparle las pezuñas  emoji cara gritando de miedo emoji  emoji cara gritando de miedo emoji  emoji cara gritando de miedo emoji',\n",
       " 'que chevere que expliquen con paciencia todo  emoji cara sonriendo con ojos de corazón emoji  emoji cara sonriendo con estrellas emoji  emoji cara radiante con ojos sonrientes emoji',\n",
       " 'pequeña grande... merecía sin duda ganar..su esfuerzo y talento se vio reflejado en el escenario al demostrar la capacidad de cantar en dos timbres de voz la canción de pimpinela y la última o casi la última en quechua emoji señal de aprobación con la mano emoji',\n",
       " 'pero que querías erick que pongan alfombra roja por tan mala leche y buscar desestabilizar al grupo por el simple hecho de vender tu noticia ya pe mano un poco más de seriedad y respeto que denigras tu profesión buscando la desgracia de otros  emoji cara enfadada emoji',\n",
       " 'pura vibra esa entrevista imposible quedarse pegado con ese talento del chibolo perucho  emoji mano haciendo el gesto de llamar tono de piel medio emoji  emoji bíceps flexionado tono de piel medio emoji',\n",
       " 'causa no se pero cuando escuche tu vos dije . este es lalo la locura  de 1000 oficios  emoji cara llorando de risa emoji  emoji cara llorando de risa emoji .   y como  que el cacharro y tu físico  acompaña . saludos  psdt. es la primera vez que veo un video tuyo . genio',\n",
       " 'me encanta el pan con paltaaa  emoji cara guiñando el ojo emoji   emoji cara sonriendo con ojos de corazón emoji   jaja jaja  emoji cara llorando de risa emoji   emoji cara feliz con ojos sonrientes emoji',\n",
       " 'jaja mikela da risa su cara cuando intenta comerse los chocolates y al chuparse el dedo de crema. quien no lo hizo de chico? bendiciones  emoji cara con manos abrazando emoji',\n",
       " 'tenía miedo que la vieja me largara dijo queta',\n",
       " 'tengo que ir a lima si o si  emoji cara sonriendo con ojos de corazón emoji  emoji cara sonriendo con ojos de corazón emoji  emoji cara sonriendo con ojos de corazón emoji   estoy en modo cumple una idea buenísima jenny gracias por el dato lo hare',\n",
       " 'en ese campo jugaban los alumnos del colegio',\n",
       " 'buena... me llega al pincho que tengas todo  emoji cara revolviéndose de la risa emoji  emoji cara revolviéndose de la risa emoji  emoji cara revolviéndose de la risa emoji   vibras  la habitación de henry spencer',\n",
       " 'maritzabell dayana huaman diaz carlos oswaldo huaman palomino ramon herrera pablo necesitamos la pelota para matthew (mi hijo) que le encanta ver jugar a la selección peruana  emoji cara radiante con ojos sonrientes emoji',\n",
       " 'raisa valencia b naisa pa cuando quieras pelealte con chamo  emoji cara saboreando comida emoji',\n",
       " 'milagros suyon montalvan  quien será? emoji cara besando emoji  emoji cara sonriendo con los ojos cerrados emoji',\n",
       " 'cesar cruz mercedes alex ruiz ramirez josept lalupu  mi causa alex con el cachaco una dupla bailando  emoji cara llorando de risa emoji  emoji cara llorando de risa emoji  emoji cara llorando de risa emoji',\n",
       " 'denle a todos esas personas dióxido de cloro y verán como se salvan  emoji pulgar hacia arriba emoji',\n",
       " 'muerte  emoji calavera emoji  oh que horror como si fuera un criminal igual que los terrucos; acaso no usan ese término para acabarlos en política',\n",
       " 'la pía me cae chinche desde que apareciste con tu traje de astronauta en karina y timoteo.  emoji cara radiante con ojos sonrientes emoji',\n",
       " 'maicol orosco el de color negro mate, una chulada ñaños  emoji señal de aprobación con la mano emoji  emoji cara con lengua de dinero emoji',\n",
       " 'te voy a hablar con palabra vulgar xq eso te mereces  hashtag betoortiz y luego joden porque el recismo en el perú, ya porque te crees limeño y xq viajas por el mundo tienes mucho más poder que otros o te crees más importante de las personas que viven en la sierra? pues ubicate  maricon de mierda, ahora ya nos damos cuenta de que estas echo  emoji dedo corazón hacia arriba emoji  y si no te identificas con la serranía pues lárgate del perú, y mucho mejor deja de lado los alimentos serranos , porque gracias a la agricultura serrania nosotros los peruanos tragamos .. ok.',\n",
       " 'ésto ya se convirtió en un callejón emoji cara vomitando emoji  emoji cara vomitando emoji  emoji cara vomitando emoji  es obvio, el es el padre de la patria en éstos momentos y si no tiene llegada con ninguno de esos 2 mamarrachos de candidatos... tiene qué buscar personas qué intercedan ...en qué se dejen de enfrentamientos. la demócrata  emoji cara con mano sobre la boca emoji  está nuevamente retrasando al país y generando inestabilidad, con su pataleta el dólar seguirá arriba, en el aspecto de la salud también (pandemia)... cómo es posible qué haya gente de su partido en las afueras del presidente del jne o la onpe ???... qué quiere ???... qué lo maten ??? emoji cara con símbolos en la boca emoji . ésto se puede convertir en la desgracia del capitolio del capitolio en los e.u.. y obviamente tiene qué hablar con su flamante aval, mario vargas llosa...para qué interceda. y de otra parte hablar con alguien cercano a pedro picapiedra, para qué dejé de dar balconazos..debe mandar a todos a sus casas y esperar los resultados. eso es un caldo de cultivo para un enfrentamiento, ambos partidos están frente a frente en paseo colón. está perfecto, el cómo padre de la patria tiene qué ver la manera de poner paños fríos. no sé, qué tanto se horrorizan los escasos  emoji cerebro emoji ...con tremenda campaña millonaria de odio y de terruqueo, era para qué esa tipa gane con 60% al menos... pero el antivoto qué tiene es altísimo. ella misma se hizo autogol y ahora está dando manotazos de ahogado. finalmente ya todo está consumado, no hay pruebas refutables y ella lo sabe... sólo quiere dilatar y jorobar la democracia. es su ego y sus ancias de venganza, lo tiene en el adn. a sus 45 años no cambió, empeoró y quiere arrastrar al país... hasta querrá qué haya muertos cómo en el capitolio al mismo estilo de trump. y fácil está invirtiendo más de 1 millón de soles, quién paga todo eso ???  emoji cara con símbolos en la boca emoji  emoji cara con símbolos en la boca emoji  emoji cara con símbolos en la boca emoji  emoji cara vomitando emoji',\n",
       " 'con una cachetada lo soño   emoji cara pensativa emoji  emoji cara pensativa emoji  emoji cara pensativa emoji',\n",
       " 'la beto está celosa, ya que el tío no le da bola..  al mismo estilo de la urraca... emoji cara revolviéndose de la risa emoji',\n",
       " 'una consulta eso es en lima?? xq soy de quito ecuador y he probado los anticuchos en la frontera ( aguas verdes) y me parecen demasiado ricos  emoji pulgar hacia arriba emoji  emoji manos aplaudiendo emoji  emoji manos aplaudiendo emoji  saludos',\n",
       " 'eres un ser humano muy malo si no podias apoyar lo mas logico era decir no y punto  emoji cara llorando emoji  emoji cara llorando fuerte emoji  emoji cara desanimada emoji  emoji cara enfadada emoji  emoji cara cabreada emoji  emoji cara cabreada emoji  emoji cara cabreada emoji',\n",
       " 'que pendejo csmr  emoji cara revolviéndose de la risa emoji  emoji cara revolviéndose de la risa emoji  emoji cara revolviéndose de la risa emoji  emoji cara sonriendo con sudor frío emoji',\n",
       " 'ya p causa  y mi tumbes  emoji mano haciendo el gesto de llamar emoji  emoji mano haciendo el gesto de llamar emoji',\n",
       " 'mariale tomas gaseosa y no subes ni un kilooo  emoji cara desesperada emoji  emoji cara desesperada emoji  emoji cara desesperada emoji',\n",
       " 'steff hildebranth pacheco iremos al mostrito  emoji cara revolviéndose de la risa emoji',\n",
       " 'christian a. palomino christofher k. chqu carlos novoa chavez fiorella vilchez katherine ardiles podríamos hacer estooo ?  emoji cara llorando fuerte emoji  emoji cara llorando fuerte emoji  emoji cara llorando fuerte emoji  salgamos parfavar...!',\n",
       " 'que se puede esperar de un dizque influencers mediocre vividor y tranza la culpa es de la gente por darle popularidad a  emoji caca con ojos emoji  que no la necesitan esto es solo el reflejo de la decadencia que metemos como sociedad ve que prestarle atención al influencer más  emoji cara de ratón emoji  del país y no me refiero al paponas',\n",
       " 'oscar que sabes de la u  jales posibles refuerzos',\n",
       " 'https://url?mibextid=zbwkwl trome publicas huevadas  emoji cara de payaso emoji  en vez de algo bueno chupa  emoji calcetines emoji  y ayayero del canal 4',\n",
       " 'junior sonco valencia... hahahahaha  cuando te enojas y duermes de espalda  emoji cara sonriendo con sudor frío emoji  emoji cara llorando de risa emoji ... yo y mi plumon dispuestos a pintarte titanic  emoji cara llorando de risa emoji  emoji cara llorando de risa emoji  emoji cara llorando de risa emoji . hashtag cosasquenoshacenreir',\n",
       " 'si no le sumas a alianza mermeleraso, paga tu entrada chistoso. hay medios qué si le suman a alianza, osea hablas tonterías, mientes a la gente y todavía quieres que alianza te acredite?  emoji cara revolviéndose de la risa emoji  qué te acredite la u ya que eres hincha y no del muni qué pones como excusa por tu cobardía. anda nomas payaso',\n",
       " 'es que hay mucho choro  emoji cara con ojos cerrados y lengua fuera emoji  emoji cara revolviéndose de la risa emoji  emoji cara revolviéndose de la risa emoji  emoji cara revolviéndose de la risa emoji',\n",
       " 'quiero un chori porfa y mi flan con dulce de leche , como se extraña  emoji cara saboreando comida emoji',\n",
       " 'pero que pueden esperar de alguien tan ordinario  emoji cara con ojos en blanco emoji  empezando por las letras de sus \"canciones\" jaja no es algo que deba sorprender',\n",
       " 'me muerooo de antojos...còmo quisiera estar en mi rico paìs..para deleitar todos esos platillos.. emoji cara babeando emoji  emoji cara babeando emoji  me encuentro por europa y nada còmo perù q se come bièn u fresco..',\n",
       " 'ta bien pia calla ocicos que es un estrés ver tanta gente que hbla hasta por las huevas . emoji cara revolviéndose de la risa emoji  emoji cara revolviéndose de la risa emoji  emoji cara revolviéndose de la risa emoji hablan opinan como si les pagarán  emoji cara con ojos en blanco emoji pia te icistes una  emoji cara revolviéndose de la risa emoji  emoji cara revolviéndose de la risa emoji  emoji cara revolviéndose de la risa emoji',\n",
       " 'emoji cara revolviéndose de la risa emoji  emoji cara revolviéndose de la risa emoji  emoji cara revolviéndose de la risa emoji  la chuecona piensa que aún es cotizada por los jeropas,lo que no sabe es que ya pasó de moda...existen muchas mujeres hermosas con mejores contenidos y sin chipis..paltean',\n",
       " 'a toda esa jauría de  emoji rata emoji  emoji rata emoji  emoji rata emoji  deberían llevárselos, o mínimo hacer una batida encontraran varias fichas allí',\n",
       " 'pfff... por gente sin criterio es que estos  cantantes optan por lo más fácil, regueton, en donde esta nueva generación no le importa el contenido de la letra y menos lo difícil que puede ser canta autor, con solo componer tres letras y que repita mil veces el coro... ufff es la mejor. encima es toda una bataclana emoji cara revolviéndose de la risa emoji  emoji cara revolviéndose de la risa emoji',\n",
       " 'tienen q reconocer q los chamos apenas llegaron empezaron a hacer una carnicería decapitaciones, ...y donde hay chamos, gralmente hay full bulla y harta marihuana emoji cara llorando de risa emoji  emoji cara revolviéndose de la risa emoji , y entiendan q si te vas a otro país intégrate, ellos quieren imponer sus costumbres, aparte q se creen la última chupada del mango emoji cara llorando de risa emoji',\n",
       " 'mesi duro 20 años en españa  emoji bandera españa emoji  y no pierde su dialecto, hay que ver qué venezolanos son tan desubicados en muchas cosas .',\n",
       " 'que feo look leslie a la firme  emoji pulgar hacia abajo emoji  emoji pulgar hacia abajo emoji  emoji pulgar hacia abajo emoji',\n",
       " 'par de chivatos... emoji cara llorando de risa emoji  emoji cara llorando de risa emoji  emoji cara llorando de risa emoji',\n",
       " 'jeanpaul jason michael ahora p mongoles, ahora llevamos cancha en la mochila y botamos lo que chucha querramos emoji cara sonriendo con sudor frío emoji  ya no sufriremos por botar cancha emoji cara sonriendo con sudor frío emoji  emoji cara llorando de risa emoji  emoji cara con ojos cerrados y lengua fuera emoji  emoji cara con ojos cerrados y lengua fuera emoji',\n",
       " 'yamiko full hd gil  emoji cara sin expresión emoji',\n",
       " 'se merece chupar y festejar cómo a el le de la gana.. la vida es corta y a disfrutar cuevita.. que para jugar también sos crack..  emoji manos aplaudiendo emoji  emoji manos aplaudiendo emoji  emoji manos aplaudiendo emoji',\n",
       " 'pero de que sirve leer el plan de gobierno, cuando no lo van a cumplir  emoji cara revolviéndose de la risa emoji   lo único que hacen cuando llegam al poder es blindarse y llenarse los bolsillos en nuestras caras peladas, callando medios con dinero para que no comenten sus jugadas',\n",
       " 'te admiraba luis luisito , pero justo me acabas de desepcionar , creo están cortados con la misma tijera  emoji cara con ojos en blanco emoji  emoji cara con ceja alzada emoji  emoji cara cabreada emoji',\n",
       " 'el comportamiento de esta terrocomunista zaira arias ,es solo una \"bombita emoji bomba emoji \" de lo que sería el gobierno de pedro castillo: prepotentes, agresivos e imponiendo sus ideas. ¡el chavismo en su máxima expresión! emoji cara vomitando emoji al ver esta actitud pinta en cuerpo entero a la gentuza que tiene el prof. castillista en el congreso y en su equipo presidencial🤦\\u200d emoji cara vomitando emoji  emoji pulgar hacia abajo emoji no olviden hashtag castillo y hashtag vladimircerron han metido al congreso 4 terroristas...a esta comunista electa por el pl  emoji lápiz emoji , se le salió la terruquita que lleva dentro\" emoji cara con mano sobre la boca emoji 🤦\\u200d🤦\\u200d emoji cara con mano sobre la boca emoji  pd.  emoji cara pensativa emoji  emoji cara pensativa emoji  emoji cara pensativa emoji mmm ,yo creo que ya no los debemos terruquear ,ellos mismos lo están demostrando . emoji cara vomitando emoji',\n",
       " 'puros payasos  emoji cara de payaso emoji  esos hpt ptm rateros como cancha en la política  emoji cara cabreada emoji   emoji cara de desaprobación emoji   emoji cara revolviéndose de la risa emoji',\n",
       " 'jamás un marciano, volverá en sí, es de otro planeta. emoji cara vomitando emoji  emoji cara vomitando emoji  emoji cara revolviéndose de la risa emoji  emoji cara revolviéndose de la risa emoji  emoji cara revolviéndose de la risa emoji',\n",
       " 'el desahogo de la final de la copa américa, arriba perú carajo  emoji bandera perú emoji',\n",
       " 'amo el olluquito en todas sus formas  emoji cara sonriendo con ojos de corazón emoji  emoji cara saboreando comida emoji',\n",
       " 'emoji jarras de cerveza brindando emoji  emoji jarras de cerveza brindando emoji  emoji jarras de cerveza brindando emoji  está huascaaa',\n",
       " 'capooo !!! premio por chupar tanto ron , maestro conocedor  emoji cara guiñando el ojo emoji !!!',\n",
       " 'claro claro llegó su momento !! hora de demostrar que la plaga fue el tipejo y no ella  emoji planta joven emoji',\n",
       " 'jaja este payaso se olvida que los viejos tenemos memoria. ahora es un vil fujimorista  emoji cara vomitando emoji  emoji cara vomitando emoji  emoji cara vomitando emoji',\n",
       " 'ganamooos  , ganamos , gloria peru en los yunaites era hoy peru era hoy csm  emoji cara revolviéndose de la risa emoji  emoji cara revolviéndose de la risa emoji  emoji cara revolviéndose de la risa emoji',\n",
       " '17 porfa estoy misio  emoji cara sonriendo con sudor frío emoji',\n",
       " 'lorems sanz esta \"ona\" habla igual que tú manyas emoji cara sonriendo con sudor frío emoji',\n",
       " \"awww  emoji cara sonriendo con ojos de corazón emoji .. luciano a ésta horaaa??? maaalvado...!!! me provocó el toyito aliñado con cebiche en la playa y ese arroz con conchas y el juguito del cebiche maaa' bueno!!! excelente elección... el brujo!!¡ también están en piura... amo mi norte!!! hashtag viajayprueba\",\n",
       " 'ese damián es un vacilón  emoji cien puntos emoji',\n",
       " 'thamara  yo merengues  emoji cara llorando de risa emoji  emoji cara llorando de risa emoji  emoji cara llorando de risa emoji  emoji cara sonriendo con aureola emoji  emoji cara sonriendo con aureola emoji  emoji cara sonriendo con aureola emoji',\n",
       " 'keiko le robaba hasta la felicidad y tranquilidad al gringo de los yunaites... emoji cara llorando de risa emoji  emoji cara llorando de risa emoji  emoji cara llorando de risa emoji',\n",
       " 'siii ese día te vi regia!!! estas flaca!! en las cámaras se te ve más llenita de amor  emoji cara revolviéndose de la risa emoji',\n",
       " 'pidió una jarra de chicha y la bebieron parados',\n",
       " 'qué tal concha, carajo',\n",
       " \"claro , no puede haber ningún vídeo con otras ideologias , porque los keikos al toque se quieren mechar  emoji cara radiante con ojos sonrientes emoji  emoji cara radiante con ojos sonrientes emoji  emoji cara radiante con ojos sonrientes emoji esta sambita piconaza , apechuguen na' más ...  emoji cara guiñando el ojo emoji  emoji cara guiñando el ojo emoji  emoji cara guiñando el ojo emoji\",\n",
       " 'igual o más tapa rosca q beto emoji cara revolviéndose de la risa emoji  emoji cara llorando de risa emoji',\n",
       " 'feliz cumpleaños mari. hermoso bebé. dios te bendiga a ti . a tu hermano tomas y tus papás . besos emoji cara lanzando un beso emoji  emoji cara lanzando un beso emoji  emoji cara lanzando un beso emoji',\n",
       " 'auuu!  emoji cara llorando de risa emoji  emoji cara llorando de risa emoji  emoji cara llorando de risa emoji  me encanta, pero no puedes despedirte sin hacer cuna de lobos, ya te imagino con tu parche mujaja!',\n",
       " 'tienes que pagarlas todas que creías y espera que ahorita se vuelve vengadora y se enamore de un futbolista casado  emoji cara sonriendo con sudor frío emoji  emoji cara revolviéndose de la risa emoji  emoji cara revolviéndose de la risa emoji  emoji cara revolviéndose de la risa emoji',\n",
       " 'ese rincon me llega al nepe...q habla ese wonazo si no vive en el peru...al le pagan x hablar estupideses...muerte a corruptos hayq limpiar el pais igual q la prensa corrupta y vendida emoji cara de náuseas emoji  emoji cara vomitando emoji  emoji cara vomitando emoji',\n",
       " 'emoji cara sonriendo emoji  emoji cara sonriendo emoji  emoji cara sonriendo emoji  ya empezamos otra vez con los titokeritos lame botas vendidos tratando de convencer de alguna u otra manera a los pulpines sin oficio . ojalá esos chibolos  hayan aprendido del pasado cuando les hicieron creer que eran los héroes del  bicentenario generación equivocada. emoji cara sonriendo emoji',\n",
       " 'gustavo salas, cesar salinas,  emoji cara de grogui emoji ... lechón de chupaca!!!  emoji manos en oración tono de piel medio emoji  emoji manos en oración tono de piel medio emoji  emoji manos en oración tono de piel medio emoji ... cuando pase esto!!!',\n",
       " 'y se macho y a su barco le llamo libertad  emoji estatua de la libertad emoji  jaja jaja',\n",
       " 'si tú cuchita te apoya lo demás valen arta  emoji cara sonriendo con superioridad emoji',\n",
       " 'jaja jaja  emoji cara llorando de risa emoji   emoji cara revolviéndose de la risa emoji  este.payaso  habla pichuladas  ...q chicha le dices  a castillo  ...anda  al congreso  y diles a los fujiapristas  q ellos  están apoyando  al caos y al terrorismo',\n",
       " 'marco qs  mi neto jose jrr  emoji cara llorando de risa emoji  emoji cara llorando de risa emoji  emoji cara llorando de risa emoji',\n",
       " 'mi favorito es miguel ...es el mejor de todos. el jurado lo confirma con los puntajes que viene teniendo invicto dese el inicio.  emoji bíceps flexionado tono de piel claro medio emoji',\n",
       " 'que tal bailarin el ingeniero  emoji cara sonriendo con sudor frío emoji',\n",
       " 'ese platillo se come sin cuchillo sin tenedor  emoji mano levantada tono de piel claro emoji  emoji cara guiñando el ojo emoji  emoji dorso de la mano tono de piel claro emoji',\n",
       " 'tu ex mira el comercial con el otro en su cama  emoji cara llorando fuerte emoji',\n",
       " 'bueno, entonces voy a hablar con él ahorita mismo',\n",
       " 'jazmin lopez tu que tienes las fototex   diego hv guardas las caletas emoji cara llorando de risa emoji   alexander quispe caballero kcha niñas emoji cara llorando de risa emoji',\n",
       " 'osea que éste turronero, puede difamar a una persona y lo acepta, acepta que se equivocó... pero dice que se rectificará cuándo lo crea conveniente ...ja !!! ahora difamar, mentir es libertad de prensa ??? uuyy que miedo castillo  emoji cara cansada emoji  por favor, la terrorífica es la señora  emoji caca con ojos emoji  que quiere y puede tranquilamente con el apoyo del ejército quedarse en el poder varias décadas. por dignidad y por justicia no a keiko... tampoco castillo hashtag keikonuncamas  emoji bíceps flexionado emoji',\n",
       " 'siii liz gwynn gomez es mi distrito hashtag miqueridomalacity tamales chicharrones playita en el sur emoji cara sonriendo con ojos de corazón emoji  emoji cara sonriendo con corazones emoji',\n",
       " 'jaaa que paso.que paso  te agarro el huaico  emoji cara sonriendo con ojos grandes emoji  emoji cara sonriendo con ojos grandes emoji  emoji cara sonriendo con ojos grandes emoji  emoji cara durmiendo emoji  emoji cara sonriendo con gafas de sol emoji  emoji cara sonriendo con gafas de sol emoji',\n",
       " 'pero mira ese cuerpo de la chuecona,otra cosa dice esta hasta el emoji perro emoji',\n",
       " 'ya no seas patera!!! sigue con tu selfie !!! emoji cara llorando de risa emoji  emoji cara revolviéndose de la risa emoji  emoji cara llorando de risa emoji  emoji bandera perú emoji',\n",
       " 'el gordo se lo kiere comer al chato  emoji cara sonriendo con sudor frío emoji  al chuy',\n",
       " 'me llega cuando escucho a alguien decir cujco , no se da cuenta lo atorrante que se le ve emoji signo de interrogación emoji',\n",
       " 'que parte de la selva es? emoji sol con cara emoji  emoji sol con cara emoji  emoji sol con cara emoji  emoji gota emoji  emoji gota emoji  emoji flor de hibisco emoji  emoji palmera emoji  emoji hojas revoloteando al viento emoji  emoji espiga de arroz emoji  emoji tulipán emoji  emoji bebida tropical emoji  emoji abeja emoji  emoji mariquita emoji ;pura vegetacion,soy de chanchamayo y es lo maximooo...',\n",
       " 'dile a tu chica que se la tome ahorita mismo',\n",
       " 'quien más est a feliz con este ampay  emoji cara con mano sobre la boca emoji  emoji cara revolviéndose de la risa emoji',\n",
       " 'si ya sabe que cristobal es inalcanzable, porqué sigue con los maldini!!!  yuli arrastrada.  mejor que se largue a trabajar a otro lado  emoji cara enfadada emoji  boten a yuli cae chinche',\n",
       " 'no puedo dejar de cantar al cocinarlo  jaja  emoji cara sonriendo con ojos sonrientes emoji  emoji cara sonriendo con ojos sonrientes emoji',\n",
       " 'yo la chicha de jora  lo utilizo para el seco y sale divino y también le agrego un poquito de pisco  emoji cara llorando de risa emoji   emoji cara llorando de risa emoji   emoji cara llorando de risa emoji',\n",
       " 'rectificacion luciano es \"patasca\" no patarashca, emoji cara guiñando el ojo emoji',\n",
       " 'hasta cuando carajo se permitirá a esa tira delincuentes extranjeros dañar a nuestros gente  emoji cara cabreada emoji   q impotencia después se   hacen los  inocentes',\n",
       " '!!!... \"\"\"ta   que,   la   actual \"\"presidenta del congreso\"\" creo   de   apellido   \"\"\"alva\"\"\", hija   o   endenada   del otrora   ilustre.   y finado \"\"\"javier alva orlandini\"\"\"* volviendo con la actual presidenta   del   congreso,   ta  que   ha   obtenido  ,  dos   \"cartones\",   o   \"\"titulos\"\"   profesionales   al   hilo,   o   sea   de  pura   carretilla   y   de   \"\"fresa   y limón\"\",   y   qué   importa   ¿¿¿   si   chocamos   con   chocano,   no  ???,   iwalito   es,   ya  que   hay  cantidad de bancos   y   harto   carrete   y   \"\"money\"\",   pa   disparar y reventar , ja jaja!!!  !!!... lamentablemente,   solo puras   **porkerías**,   pero   es   nuestro   perú,   y   es lo   que   hay,   que   se   le   puede   hacer,   algo   weno,   habrá,   que   buscarles   y   sobretodo ,   \"\"encontrarles\"\",   mientras nos   espera   una   dura   y   ardua   labor   en   ciernes  !!!   emoji luna nueva con cara emoji  emoji luna nueva con cara emoji  emoji luna nueva con cara emoji   !!!¿¿... jaja   y   más   ja jaja,   y   eso   solo   sucede   en   el   perú   de   los   \"\" peruvianos \"\",   del   **piensa   mál   y acertarás**   ??!!!   emoji cara sacando la lengua y guiñando un ojo emoji  emoji cara sacando la lengua y guiñando un ojo emoji  emoji cara sacando la lengua y guiñando un ojo emoji  emoji ciclón emoji  emoji ciclón emoji  emoji cara sacando la lengua y guiñando un ojo emoji  emoji cara sacando la lengua y guiñando un ojo emoji  emoji cara sacando la lengua y guiñando un ojo emoji   ¿¿¿... a   otro   \"perro\"   con   ese   hueso   y   además,   ya   para   que   \"chch\"   es,   así,   si   que   sigamos   con   nuestro   \"\"  profeta   \"\"   y   profesor   \"\"\"pedro   castillo,\"\"\"   hasta   el   2026   y   más   allá ,   y   vayanse   y   otra   vez   hasta   la   **oea**,   a   llorar  y   dar lastima   mundial,   con   su novela   cumbre ,   :   \"\"\" los   ricos   también lloran\"\"\" ,   si  eso , es   lo   que quieren,   las   puertas 100pre  les   estarán   abiertas   y.  de par   en   par ,.   y   vayanse   ya de   una   wena   vez,   y   si no tienen para el pasaje,   les mandamos   a   un   servicio   de   *taxi   remisse*   a   la   rcchsm,   y   no   jutan   más !!!   emoji cara cabreada emoji  emoji cara cabreada emoji  emoji cara cabreada emoji   !!!¿¿¿... y,   aun   así   y   sí ya   estan   \"\"misios\"\"   ,   y   pretenden   regresar   a   la   municipalidad   de   lima,   y **todavía   a  recursearse**  \"\"económicamente\"\",   cómo 100pre,   ustedes   no   dan puntadas   sin   hilo,   cómo   ven   que   se   avecinan   las   próximas   elecciones   y   autoridades   municipales,   qué   tal   \"\"jijunas\"\" ,   y quieren   mas   \"\"recursos financieros\"\",   que   tales conchanes,  ya   no   ya,  y nadita   con   la   suya  ??!!!   emoji cara sacando la lengua emoji  emoji cara sacando la lengua emoji  emoji cara sacando la lengua emoji   !!!... en   su   \"\"cara pelada\"\",   un   simple   agricultor,   los   mandó   al  caraio,   y   que se vayan   a   soplar   burros !!!  !!!... jaja,   así   debe   hacer   el   gobierno.   del   profesor.   pedro.  castillo   que   con   todos   esos   \"\"seudos   golpistas\"\"   pretenden   retornar,   una vez   más   al   poder   y ,   al   final   **quien***   los   extrañaría   ???,   ¿¿¿.  quien   los   echaria   de menos,  ???,   !!!¿¿¿...   \"\"deberían   estar agradecidos\"\"   con   el pueblo   peruano ,  ya   que los   han   estado   *manteniendo* ,   por.  más   de un   \"\"año\"\",   con   esa   vieja \"cantaleta\"   de   la   \"\"presunta   vacancia\"\" y   así   se   la   han   estado  wwando,   pasando ,  con puro   \"\"wweos\"\",   a   costa  del   \"\"erario nacional\"\" ,   que  es   de   todos   los   peruanos *legítimos   y   no   legítimos*, aunque   sea   \"\"recogidos\"\"   en   épocas   de  pandemia  mundial !!!  !!!¿¿...su   \"\"awelita\"\",   que  ya está   descansando   en paz   ??? ¿¿ silencio,   habló   alguien ???',\n",
       " 'lo prepara buenazo mi broder  mero loco . es una exquicites  emoji señal de aprobación con la mano emoji',\n",
       " 'y pensó: te va a ofrecer plata para que te vayas',\n",
       " 'rodolfo vega roque!! ya sabes me guardas como tiene que ser  emoji cara cabreada emoji  nada de sahiriña,  narizona  emoji cara desesperada emoji',\n",
       " 'no me hubiera gustado estar todo el tiempo parado',\n",
       " 'video feeling hermano. rodolfo, luciano gracias por todo excelente trabajo.  emoji bíceps flexionado emoji  emoji bíceps flexionado emoji  emoji bíceps flexionado emoji',\n",
       " 'y el pollo sigue subiendo, el huevo y etc emoji cara con ojos en blanco emoji',\n",
       " 'pero no cambiastes de vos amigo..a la firme tienes un voz de mujer.  emoji cara sacando la lengua y guiñando un ojo emoji  emoji cara de loco emoji  emoji cara con ojos cerrados y lengua fuera emoji  emoji cara con ojos cerrados y lengua fuera emoji  emoji cara con ojos cerrados y lengua fuera emoji',\n",
       " 'maisa campos díaz carolina choyingrid calderón pozoflavia camila florian conder   emoji mono con la boca tapada emoji   emoji ojos emoji  la verdad q esta  veces será diferente jaja ya no más  emoji mono con los ojos tapados emoji  choy la más drástica (mmm bueno amiga son tus gustos jaja) a veces la emoción te ciega  emoji cara llorando de risa emoji  emoji cara llorando de risa emoji  emoji cara llorando de risa emoji',\n",
       " 'tanta indignación ver cómo hay personas que le ponen me divierte a un tema tan triste y delicado que terminó con la vida de la señora maría elena notamos. el sendero y el mrta enlutó a muchísimas familias no le demos la oportunidad que lo vuelva a hacer. es un lobo disfrazado de corderito. hashtag terrorismonuncamas hashtag castillocamarada hashtag noalcomunismo  emoji puño en alto emoji',\n",
       " 'jaja leonel la juergasa  en nasca, ica, paracas   emoji cara llorando de risa emoji  emoji cara llorando de risa emoji',\n",
       " 'primera vez veo un gringo mas peruano que el tacacho.  emoji cara sonriendo con los ojos cerrados emoji  emoji cara sonriendo con los ojos cerrados emoji  emoji cara sonriendo con los ojos cerrados emoji  buen reportaje colorado.',\n",
       " 'parece que estos niños recién en la cuarentena están probando alimentos , porque veo que lucas ni conoces las comidas , que aprenda a comer de todo y ya van a ver que va a ser fuerte , después de todo me gustan sus recetas son bien caseras  emoji pulgar hacia arriba emoji  emoji pulgar hacia arriba emoji  emoji pulgar hacia arriba emoji',\n",
       " 'czar así le gritan a la cachorra jonathan jaja ...ahora es pisadaaazo  emoji cara llorando de risa emoji  emoji cara llorando de risa emoji  emoji cara llorando de risa emoji',\n",
       " 'bien palomilla ese luciano  emoji pulgar hacia arriba emoji  emoji bíceps flexionado emoji',\n",
       " 'parece que la shakira se puso doble to@usuario@usuario higiénic@usuario... ya vuelta...  emoji cara sonriendo con gafas de sol emoji  emoji cara sonriendo con gafas de sol emoji  emoji cara sonriendo con gafas de sol emoji',\n",
       " 'carolina tu aquisito nomas  emoji cara de desaprobación emoji  emoji cara con ansiedad y sudor emoji',\n",
       " 'todo se fijan pero si hubiera ganado la corrupta de keiko y si una de sus hijas cumpliera años y le celebrará ahí si esta bien no! que acaso esa niña no tiene derecho a alguna vez en su vida celebrar a lo grande. tira de envidiosos  emoji cara enfadada emoji',\n",
       " 'chicha de maní  emoji cacahuetes emoji  la más rica, pero la más difícil de preparar  emoji cara sin expresión emoji',\n",
       " 'que rico!! arroz con pollo que se respeta va con su huancaína  emoji cara guiñando el ojo emoji  emoji cara guiñando el ojo emoji  emoji pulgar hacia arriba emoji  emoji pulgar hacia arriba emoji',\n",
       " 'chino vótalo q duerma en la calle en la vereda con su cartón el piso x cochino  emoji cerdo emoji  emoji cerdo emoji',\n",
       " 'cueva  es caserito en mi barrunto...por eso anda gordo y en otra cosa emoji cara pensativa emoji    dicen q en el cuarto piso de la cevicheria ocurren cosas extrañas    emoji jarra de cerveza emoji    emoji mujer bailando emoji  emoji hombre bailando emoji',\n",
       " 'ya se sabe que aníbal torrez es un enfermo mental de comunismo en cuya cuna bastarda se cobijan hasta gente \"estudiada\" que creen en los privilegios ante la ley. donde ellos son los iluminados con privilegios aún para delinquir calumniando como lo hace este viejo enfermo mental y psicopata, y los demás solo plebeyos que deben soportar a estos cerdos antisociales y crimínales a quienes les vale un pedo las reglas legales y por eso no las respetan pero exigen de los demás se apliquen con mano de hierro  aníbal torrez váyase a la mismísima mierda  emoji cara revolviéndose de la risa emoji  emoji cara revolviéndose de la risa emoji  como ciudadano me tiro un pedo en su sionismo',\n",
       " 'emoji cara sonriendo con sudor frío emoji  emoji cara sonriendo con sudor frío emoji  emoji cara sonriendo con sudor frío emoji no chequeen.. chocolate buenazo..!!  emoji cara saboreando comida emoji  emoji cara saboreando comida emoji  emoji cara sonriendo con ojos de corazón emoji',\n",
       " 'muy rico!!! lo hago todos los jueves!!! a mi esposo no le gusta la quinua y con esta receta lo sorprendí  emoji cara feliz con ojos sonrientes emoji  emoji cara feliz con ojos sonrientes emoji  emoji cara feliz con ojos sonrientes emoji ...',\n",
       " 'el cholo mena misio!  emoji cara revolviéndose de la risa emoji',\n",
       " 'gano más que mi viejo, alucina dijo pedro, y se rio',\n",
       " 'verdaderos talentos las niñas guitarristas',\n",
       " 'esa voz de resaca care palo este csm  emoji cara revolviéndose de la risa emoji  emoji cara revolviéndose de la risa emoji',\n",
       " 'lindo mi cusco  me quedaría en todos desde el primero y terminaría obviamente en el último con mi pisco sour  emoji corazón brillante emoji  emoji cañón de confeti emoji  emoji cara saboreando comida emoji  emoji copas brindando emoji',\n",
       " 'daniel esteban muñoz lazo ñaño ! ahí está todo sobre tarapoto  !!!  emoji cara con manos abrazando emoji  emoji cara con manos abrazando emoji  emoji cara con manos abrazando emoji  para que visites tarapoto ñaño !! emoji cara feliz con ojos sonrientes emoji  te espero!!! emoji cara feliz con ojos sonrientes emoji',\n",
       " 'una combinacion de quechua y aymara con tonito gringo  emoji cara sonriendo con ojos sonrientes emoji',\n",
       " 'cuando se refirió a la universidaf de los acuña, cómo acuña pobre, dije no, demasiado pituca para saber la realidad del perú  emoji bandera perú emoji . ojo es mi opinión.',\n",
       " 'si este temita te causa tanta repulsión, cómo es posible que con los entripadazos de alan hayas estado tan cómodo y mudito. pero como la tonta esa de su hija es tu yunta, tu pinky, ahí te callas en mil idiomas. da risa verte tan enojadito con vizcarra y con la rataza de alan eras su geisha.  emoji cara de náuseas emoji  emoji cara de náuseas emoji  emoji cara vomitando emoji  emoji cara vomitando emoji  emoji cara vomitando emoji',\n",
       " 'ticlio q frío...cuidado con el soroche emoji cara vomitando emoji oroya ciudad de minería ..frío total..buen viaje..para todos...bendiciones emoji manos en oración emoji  emoji manos en oración emoji extraño para por ahí para llegar  mi queriada chamchamayo -oxapampa..departamento de junin-ceja de selva  emoji personas abrazándose emoji y muchos éxitos.',\n",
       " 'emoji cara sonriendo con los ojos cerrados emoji  emoji cara sonriendo con los ojos cerrados emoji  emoji cara sonriendo con los ojos cerrados emoji  el pollo, el pan, el combustible no bajan de precio y para mala suerte no hay empleos, la gente se muere de hambre dice uno de los seudo periodista, lo invito a darse una vuelta por los centros comerciales abarrotados, gente consumiendo y divirtiéndose. y claro que hay racistas entre ellos están los petocos, los golpistas, los kongresistas, etc., en que dimensión vive ese reportero que no se da cuenta de la realidad  emoji cara cabreada emoji',\n",
       " 'la bronca voz de los mastines golpeaban la sombra',\n",
       " 'agg ta borracho safo  emoji cara sonriendo ligeramente emoji',\n",
       " 'isabella collection: somos una tienda virtual que te ofrece una gran variedad en hermosos peluches emoji osito de peluche emoji  muñecas de trapo emoji aguja de coser emoji , almohadas personalizadas emoji ovillo emoji , diademas emoji lazo emoji , etc... emoji regalo emoji    emoji botón de marca de verificación emoji  somos fabricantes: más de 5 años trabajando exclusivamente para ustedes.  aquí encontrarás el regalo perfecto para poder sorprender a esa personita que tanto quieres! emoji cara sonriendo con ojos de corazón emoji    emoji estrella blanca mediana emoji  diseños exclusivos.  emoji estrella blanca mediana emoji  diversos tamaños.  emoji estrella blanca mediana emoji  excelente calidad.   emoji botón de marca de verificación emoji ¡solicita nuestro catálogo exclusivo de nuestros trabajos personalizados!  emoji dorso de mano con índice a la derecha tono de piel claro emoji atención personalizada en whatsapp: https://wa.link/whhjmt   emoji regalo emoji entrega en surquillo - perú emoji bandera perú emoji   o previa coordinación de lugar de entrega emoji camión de reparto emoji    pagos contraentrega emoji manos levantadas celebrando tono de piel claro medio emoji    ¡envíos nacionales e internacionales!',\n",
       " 'ese lugar es famoso y ese que vende desayuno parado, tiene muchos años alli, quinua con quaker, buenazo, mi familia vive a la vuelta en raymondi. saludos manolo un abrazo de un fiel seguidor. provecho con la cuchicanca  emoji cara de cerdo emoji  emoji cara de cerdo emoji',\n",
       " 'el pisco me hacía arder la garganta y lagrimear',\n",
       " 'dejándonos de huevadas ... por más que la seudoperiodista quiso chantarle la culpa al señor ... el le dió una de las mejores respuesta y la cago como debe ser  emoji manos aplaudiendo emoji  emoji manos aplaudiendo emoji  emoji manos aplaudiendo emoji',\n",
       " 'ese ceviche 3 cosas + su tortita de choclo  emoji cara saboreando comida emoji  emoji cara saboreando comida emoji  emoji cara de cerdo emoji  emoji cara de cerdo emoji , de la tía chichi en chiclayo',\n",
       " 'alucina, cinco años',\n",
       " 'le da bronca xq miguelito el influenzerse la remanga a la robotina, tremendo cornudo.  emoji persona encogida de hombros emoji  emoji persona encogida de hombros emoji  emoji persona encogida de hombros emoji  emoji cara revolviéndose de la risa emoji  emoji cara revolviéndose de la risa emoji  emoji cara revolviéndose de la risa emoji',\n",
       " 'después podrás organizar una jarana, si quieres',\n",
       " 'eres pituco? no soy requeteperuano  emoji cara sonriendo con los ojos cerrados emoji',\n",
       " 'turry públicas huevadas cosas k no tienen sentido  emoji cara sonriendo emoji',\n",
       " 'ya ps, pero no sigas diciendo celar,  emoji cara revolviéndose de la risa emoji  emoji cara revolviéndose de la risa emoji  emoji cara revolviéndose de la risa emoji éso ya está patentado con tu nombre y apellido, saludos causita emoji pulgar hacia arriba emoji',\n",
       " 'leonardo abraham zevallos díaz  ese restaurant es bien taipá y delicioso  emoji cara sonriendo con ojos de corazón emoji  emoji jarras de cerveza brindando emoji  emoji cuchillo y tenedor con un plato emoji  emoji pez emoji   te acuerdas? el ingenio',\n",
       " 'esos jueces son del diablo la justicia divina es de  dios  emoji manos en oración emoji esperen nomas a ellos les  va caer el triple de lo que hacen a los más ratas antiguas no les dicen nada a los que robaron millones los adoran esto es el colmo',\n",
       " 'debe retirarse de la tv ya perdió credibilidad yo no lo creo nada  emoji pulgar hacia abajo emoji  emoji pulgar hacia abajo emoji  emoji pulgar hacia abajo emoji',\n",
       " 'yo quisiera estar asi a mis 27 y nada , muy bella  emoji cara de alivio emoji',\n",
       " 'supongo que te comprarás tu mototaxi para salir adelante y progresar ,no? ah no ser de que seas un terrible aguantado como para pensar que las mujeres se suben a ese mototaxi por uno  emoji cara revolviéndose de la risa emoji',\n",
       " 'el asno esta borracho de poder y se siente intocable! ya vas a caer guanaco senderista. emoji cara con símbolos en la boca emoji  emoji cara con símbolos en la boca emoji  emoji cara con símbolos en la boca emoji',\n",
       " 'que lindaaa ... donde puedo encontrar esos huevitos porfa  emoji manos en oración emoji  emoji manos en oración emoji  emoji manos en oración emoji',\n",
       " 'bella hermosa saludos de pisco',\n",
       " 'jaja  emoji cara llorando de risa emoji  me recordó a mi mamá,  que no solo, me mostraba o amezaba con la correa , cordón o con el san martín hasta con un palo, sino que me daba de alma,  emoji cara con mano sobre la boca emoji  emoji cara llorando de risa emoji  esos eran los verdaderos castigos de aquellos tiempos,  los padres eran bien salvajes para castigar a sus hijos, hoy en día un jalón de cabello o un palmazo, los niño te dice voy a ir a la comisarías a denunciarte, \\U0001fae2 emoji cara llorando de risa emoji  emoji cara llorando de risa emoji',\n",
       " 'lo que pasa es que no quieres vernos tricampeones  emoji cara sonriendo con sudor frío emoji  emoji cara revolviéndose de la risa emoji  emoji cara revolviéndose de la risa emoji',\n",
       " 'raúl era moreno, decía lisuras y escupía a cada rato',\n",
       " 'absha! pendientes!!!  emoji cara feliz con ojos sonrientes emoji  ahí falta el caldo verde!',\n",
       " 'ese tío la cagada mano  emoji cara llorando de risa emoji  emoji cara llorando de risa emoji  emoji cara llorando de risa emoji',\n",
       " 'eso es caldo de gallina?? yo solo veo agua y fideos  a leguas se nota que esta en nada ese caldo emoji cara vomitando emoji , dicen que antes de probar todo entra por la vista, y si tiene buena pinta es casi seguro que este buenazo, felizmente tengo a la mejor cocinera de caldo de gallina, mi madre  ojalá se pueda abrir un negocio y aprovechar su sazón!. se quedarían fascinados! emoji cara sonriendo con estrellas emoji',\n",
       " 'hashtag urgente  emoji  mohme denuncia que clara elvira ospina fue despedida por no apoyar a keiko   emoji círculo_azul_grande|el director del diario la república reveló que la periodista se reunió con la candidata y ella le informó que américa tv y canal n serían neutrales durante el proceso electoral.  el periodista y director del diario la república, gustavo mohme seminario, denunció a través de la editorial para el periódico que dirige que clara elvira ospina fue despedida de su puesto en américa tv y canal n por no adoptar una postura favorable a la candidatura de keiko fujimori.  en dicho pronunciamiento, mohme señala que luego de que ospina le señalara a la lideresa de fuerza popular que no iban a tomar partido para el balotaje, la comunicadora informó sobre su decisión en una reunión para el consejo editorial donde también estuvo presente el presidente del directorio de el comercio y américa tv.  pese a los reclamos por vía escrita que asegura haber hecho mohme seminario, la decisión del directorio de echar a un lado a clara elvira ospina estaba hecha. de acuerdo con el director periodístico de la república, este lunes 3 de mayo último se convocaron a tres directorios para buscar los posibles reemplazos de ospina.   así lo detalla el columnista: \"así, en tres días se han convocado dos directorios, seguidos de cartas en las que se proponía a jaime de althaus y luego a cecilia valenzuela sin más contenido que sus nombres y sin permitirnos evaluar adecuadamente sus propuestas\".  según gustavo mohme seminario, este martes 11 de abril el consejo editorial al cual renunció convocó a un directorio para poder definir la designación final de la futura o futuro director periodístico de canal n y américa tv.  al momento de publicada esta noticia, ni jaime de althaus ni cecilia valenzuela han decidido pronunciarse ante este hecho bastante criticado en las redes sociales. keiko fujimori tampoco ha emitido alguna declaración al respecto y la noticia no parece haber llegado a oídos del grupo el comercio.',\n",
       " 'luz  jaja viejos tiempos  emoji cara revolviéndose de la risa emoji  emoji cara de sueño emoji',\n",
       " 'priscila alvarado rivera aunque yo no estaba tú igual te venias a dormir a micasa   emoji cara llorando de risa emoji  emoji cara llorando de risa emoji',\n",
       " 'realmente es una vergüenza que este fue presidente y tiene la cara de jebe de presentarse para el congreso qué poca vergüenza  emoji cara cabreada emoji !!!',\n",
       " 'vamos perú si se puede. carajo  emoji bandera perú emoji',\n",
       " 'una de las mejores comida del peru y la encuentras en hashtag carhuaz su cuy picante, sopa de llunca con gallina, tradicional cevichocho,  mazamorra de calabaza, su chicha de jora y sus helados artesanales de la csmmm  emoji cara sonriendo con gafas de sol emoji  emoji manos aplaudiendo emoji  emoji pulgar hacia arriba emoji',\n",
       " 'saludos desde españa soy dani. que salude marciano a españa  emoji bandera españa emoji',\n",
       " 'viejo ridículo, como se nota que el partido perú libre  emoji lápiz emoji  emoji lápiz emoji  emoji lápiz emoji  le quita el sueño  emoji cara con mano sobre la boca emoji  emoji cara revolviéndose de la risa emoji',\n",
       " 'no seas tímido, carajo',\n",
       " 'videaso, que tales monstruos!!! todos a las @usuario carajo!!!  emoji manos levantadas celebrando emoji  respect total',\n",
       " \"vanessa molina do'santos para que aprendas con este churro  emoji cara sonriendo con ojos de corazón emoji\",\n",
       " 'hola chupetín chupamelaaa',\n",
       " 'después del polvito, si no mueres, quedas loco',\n",
       " 'felices fiestas patrias,  con u  rico pisco emoji pulgar hacia arriba tono de piel claro emoji  emoji bandera perú emoji  emoji bandera perú emoji  emoji globo emoji  emoji bola de confeti emoji  emoji bandera perú emoji',\n",
       " 'la parte que más me gustó fue \" el platudo\"   emoji cara llorando de risa emoji  emoji cara llorando de risa emoji  quiero ir con lucero jimena emoji flor de cerezo emoji',\n",
       " '¡sáquenlo del poder! cometieron un error al votar por él, es un inepto y todos los que lo rodean están saqueando el país y nada de preocuparse por el pueblo, sólo se la pasan quejándose y diciendo que la culpa es de otros menos de ellos y se burlan de las marchas y de la escasez... ya que los congresistas y las denuncias no les hacen nada, pues le harán caso al pueblo, a esa sangre de la que tanto hablan para beneficio propio, no debe haber tanta violencia en las marchas, ojalá se organicen mejor y separen a esos que ensucian la marcha. vamos perú  emoji bíceps flexionado tono de piel claro emoji   emoji bandera perú emoji',\n",
       " 'antonio canales estamos viejos.  emoji cara revolviéndose de la risa emoji  emoji cara revolviéndose de la risa emoji  emoji cara revolviéndose de la risa emoji',\n",
       " 'jjj jjj  la chilindrina totalmente lisa!  emoji cara revolviéndose de la risa emoji  emoji cara revolviéndose de la risa emoji  emoji cara revolviéndose de la risa emoji',\n",
       " 'y ahora que dirán las invidiosas y las mariposas que la criticaban1, hola cacho, hola peluchín, hola urraca y demás ja ja  emoji cara sonriendo con ojos grandes emoji  emoji cara llorando de risa emoji  los veps en la croacas',\n",
       " 'dame pero caleta',\n",
       " 'este video gissela castro? volveremos si o si  emoji corazón azul emoji',\n",
       " 'mi mamá también me crió a punta de lisuras .pero no porque era desobediente sino que a ella se le obedecía en primera ojo no había segunda ,era la correa o el san martín como dice daniela .ahora yo también habló, pero cuando es necesario .aveses se siente bien  y te da un poco de carácter jiji emoji cara radiante con ojos sonrientes emoji',\n",
       " 'plop!! esto es la voz emoji micrófono emoji  de perú libre emoji cara con ceja alzada emoji  emoji cara cabreada emoji  a eso fue está señora??',\n",
       " 'y pq no hablas de lo hicieron los naranjas destruyendo negocios ,,,esa ineptitud de la policía ,,, emoji cara cabreada emoji  para detenerlos ,,y esa hija q sabiendo lo q sucedería lleva a su padre a marchar  emoji cara cabreada emoji  emoji cara cabreada emoji  emoji cara cabreada emoji',\n",
       " 'buen video causita me hiciste la tarde  emoji cara revolviéndose de la risa emoji  emoji cara revolviéndose de la risa emoji ... me senti identificado xd :v',\n",
       " 'erick peraltilla guti eres pero terrible!  emoji cara llorando de risa emoji',\n",
       " 'bravo  emoji manos aplaudiendo tono de piel claro emoji  emoji manos aplaudiendo tono de piel claro emoji  luis carlos  sigue exponiendo a estos vagos que solo sirven para joder algo que no hace dañó a nadie pero cuándo pasan robos y cosas malas etc no están, nadie responde.  basta ya de está estupidez de los serenazgo la municipalidad.  todos tenemos derecho a la libertad de expresión.',\n",
       " '¿quién tiene plata pa\\x92 un trago?']"
      ]
     },
     "execution_count": 51,
     "metadata": {},
     "output_type": "execute_result"
    }
   ],
   "source": [
    "tokenized_ds['train']['text'][::30]"
   ]
  },
  {
   "cell_type": "code",
   "execution_count": 52,
   "id": "6c8f59ba-bb88-4992-ac2b-fbe58afe4158",
   "metadata": {},
   "outputs": [
    {
     "ename": "NameError",
     "evalue": "name 'config' is not defined",
     "output_type": "error",
     "traceback": [
      "\u001b[0;31m---------------------------------------------------------------------------\u001b[0m",
      "\u001b[0;31mNameError\u001b[0m                                 Traceback (most recent call last)",
      "Cell \u001b[0;32mIn[52], line 3\u001b[0m\n\u001b[1;32m      1\u001b[0m encoded_data_test \u001b[38;5;241m=\u001b[39m tokenizer\u001b[38;5;241m.\u001b[39mbatch_encode_plus(\n\u001b[1;32m      2\u001b[0m     val_df\u001b[38;5;241m.\u001b[39mtext\u001b[38;5;241m.\u001b[39mvalues, \n\u001b[0;32m----> 3\u001b[0m     add_special_tokens\u001b[38;5;241m=\u001b[39m\u001b[43mconfig\u001b[49m\u001b[38;5;241m.\u001b[39madd_special_tokens, \n\u001b[1;32m      4\u001b[0m     return_attention_mask\u001b[38;5;241m=\u001b[39mconfig\u001b[38;5;241m.\u001b[39mreturn_attention_mask, \n\u001b[1;32m      5\u001b[0m     pad_to_max_length\u001b[38;5;241m=\u001b[39mconfig\u001b[38;5;241m.\u001b[39mpad_to_max_length,\n\u001b[1;32m      6\u001b[0m     max_length\u001b[38;5;241m=\u001b[39m\u001b[38;5;241m128\u001b[39m, \n\u001b[1;32m      7\u001b[0m     return_tensors\u001b[38;5;241m=\u001b[39mconfig\u001b[38;5;241m.\u001b[39mreturn_tensors\n\u001b[1;32m      8\u001b[0m )\n",
      "\u001b[0;31mNameError\u001b[0m: name 'config' is not defined"
     ]
    }
   ],
   "source": [
    "encoded_data_test = tokenizer.batch_encode_plus(\n",
    "    val_df.text.values, \n",
    "    add_special_tokens=config.add_special_tokens, \n",
    "    return_attention_mask=config.return_attention_mask, \n",
    "    pad_to_max_length=config.pad_to_max_length,\n",
    "    max_length=128, \n",
    "    return_tensors=config.return_tensors\n",
    ")"
   ]
  },
  {
   "cell_type": "code",
   "execution_count": null,
   "id": "1b6b284f-e6f6-4232-a1f0-15bda7fc19b3",
   "metadata": {},
   "outputs": [],
   "source": []
  },
  {
   "cell_type": "code",
   "execution_count": null,
   "id": "926977d0",
   "metadata": {},
   "outputs": [],
   "source": [
    "#Evaluate the Model Qualitatively (Human Evaluation)"
   ]
  },
  {
   "cell_type": "code",
   "execution_count": null,
   "id": "7faa99dc",
   "metadata": {},
   "outputs": [],
   "source": [
    "#Evaluate the Model Quantitatively (with F1 Metric)"
   ]
  },
  {
   "cell_type": "code",
   "execution_count": null,
   "id": "2be445d3",
   "metadata": {},
   "outputs": [],
   "source": []
  },
  {
   "cell_type": "code",
   "execution_count": null,
   "id": "c839bdd5",
   "metadata": {},
   "outputs": [],
   "source": [
    "texts = val_df[0:20]['text']\n",
    "human_baseline_labels = val_df[0:20]['label']"
   ]
  },
  {
   "cell_type": "code",
   "execution_count": null,
   "id": "0ebbb4a1",
   "metadata": {},
   "outputs": [],
   "source": [
    "texts"
   ]
  },
  {
   "cell_type": "code",
   "execution_count": null,
   "id": "fb03153f",
   "metadata": {},
   "outputs": [],
   "source": [
    "human_baseline_labels"
   ]
  },
  {
   "cell_type": "code",
   "execution_count": null,
   "id": "a070557c",
   "metadata": {},
   "outputs": [],
   "source": [
    "#original_model_summaries = []\n",
    "model_classifications = []"
   ]
  },
  {
   "cell_type": "code",
   "execution_count": null,
   "id": "ab8436a9",
   "metadata": {},
   "outputs": [],
   "source": [
    "for _, text in enumerate(texts):\n",
    "    input_ids = tokenizer(text, return_tensors=\"pt\", max_length=128).input_ids.to('cuda')\n",
    "    logits = model(input_ids).logits\n",
    "    probabilities = logits.softmax(dim=-1).tolist()[0]\n",
    "    model_classifications.append(np.argmax(probabilities).flatten()[0])"
   ]
  },
  {
   "cell_type": "code",
   "execution_count": null,
   "id": "8a1a671b",
   "metadata": {},
   "outputs": [],
   "source": [
    "model_classifications"
   ]
  }
 ],
 "metadata": {
  "kernelspec": {
   "display_name": "Python 3 (ipykernel)",
   "language": "python",
   "name": "python3"
  },
  "language_info": {
   "codemirror_mode": {
    "name": "ipython",
    "version": 3
   },
   "file_extension": ".py",
   "mimetype": "text/x-python",
   "name": "python",
   "nbconvert_exporter": "python",
   "pygments_lexer": "ipython3",
   "version": "3.10.13"
  }
 },
 "nbformat": 4,
 "nbformat_minor": 5
}
