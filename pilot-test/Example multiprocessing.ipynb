{
 "cells": [
  {
   "cell_type": "code",
   "execution_count": 1,
   "id": "9b406faf-ec55-4736-aa90-78f5b24e6fa3",
   "metadata": {},
   "outputs": [],
   "source": [
    "import multiprocessing\n",
    "import time"
   ]
  },
  {
   "cell_type": "code",
   "execution_count": 2,
   "id": "78dea7f2-2d92-4b7f-82d7-dbd0f1e8a6a9",
   "metadata": {},
   "outputs": [],
   "source": [
    "def worker():\n",
    "    name = multiprocessing.current_process().name\n",
    "    print(name, 'Starting')\n",
    "    time.sleep(20)\n",
    "    print(name, 'Exiting')"
   ]
  },
  {
   "cell_type": "code",
   "execution_count": 3,
   "id": "96c85f8b-8c05-4c4a-b662-0503ece99aeb",
   "metadata": {},
   "outputs": [],
   "source": [
    "worker_1 = multiprocessing.Process(\n",
    "    name='worker 1',\n",
    "    target=worker,\n",
    ")\n",
    "worker_2 = multiprocessing.Process(  # default name\n",
    "        target=worker,\n",
    ")"
   ]
  },
  {
   "cell_type": "code",
   "execution_count": 4,
   "id": "b2820f7e-78d0-4ed2-92a5-ae0aa657ff0d",
   "metadata": {},
   "outputs": [
    {
     "name": "stdout",
     "output_type": "stream",
     "text": [
      "Process-2 Starting\n",
      "worker 1 Starting\n",
      "Process-2worker 1  ExitingExiting\n",
      "\n"
     ]
    }
   ],
   "source": [
    "worker_1.start()\n",
    "worker_2.start()"
   ]
  },
  {
   "cell_type": "code",
   "execution_count": null,
   "id": "5680897a-2a88-49d8-b0ca-e4b4b8b87d37",
   "metadata": {},
   "outputs": [],
   "source": []
  },
  {
   "cell_type": "code",
   "execution_count": null,
   "id": "0aaf83df-4145-419c-b232-d3fb2f970fd4",
   "metadata": {},
   "outputs": [],
   "source": []
  }
 ],
 "metadata": {
  "kernelspec": {
   "display_name": "Python 3 (ipykernel)",
   "language": "python",
   "name": "python3"
  },
  "language_info": {
   "codemirror_mode": {
    "name": "ipython",
    "version": 3
   },
   "file_extension": ".py",
   "mimetype": "text/x-python",
   "name": "python",
   "nbconvert_exporter": "python",
   "pygments_lexer": "ipython3",
   "version": "3.10.13"
  }
 },
 "nbformat": 4,
 "nbformat_minor": 5
}
