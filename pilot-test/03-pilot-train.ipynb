{
 "cells": [
  {
   "cell_type": "code",
   "execution_count": 1,
   "id": "de09e411",
   "metadata": {},
   "outputs": [
    {
     "name": "stderr",
     "output_type": "stream",
     "text": [
      "2024-04-03 23:04:10.647265: I external/local_tsl/tsl/cuda/cudart_stub.cc:31] Could not find cuda drivers on your machine, GPU will not be used.\n",
      "2024-04-03 23:04:10.846471: E external/local_xla/xla/stream_executor/cuda/cuda_dnn.cc:9261] Unable to register cuDNN factory: Attempting to register factory for plugin cuDNN when one has already been registered\n",
      "2024-04-03 23:04:10.846545: E external/local_xla/xla/stream_executor/cuda/cuda_fft.cc:607] Unable to register cuFFT factory: Attempting to register factory for plugin cuFFT when one has already been registered\n",
      "2024-04-03 23:04:10.880724: E external/local_xla/xla/stream_executor/cuda/cuda_blas.cc:1515] Unable to register cuBLAS factory: Attempting to register factory for plugin cuBLAS when one has already been registered\n",
      "2024-04-03 23:04:10.949484: I tensorflow/core/platform/cpu_feature_guard.cc:182] This TensorFlow binary is optimized to use available CPU instructions in performance-critical operations.\n",
      "To enable the following instructions: AVX2 FMA, in other operations, rebuild TensorFlow with the appropriate compiler flags.\n",
      "2024-04-03 23:04:11.800861: W tensorflow/compiler/tf2tensorrt/utils/py_utils.cc:38] TF-TRT Warning: Could not find TensorRT\n"
     ]
    }
   ],
   "source": [
    "import torch\n",
    "import pandas as pd\n",
    "import datasets\n",
    "import evaluate\n",
    "import numpy as np\n",
    "from datasets import load_dataset\n",
    "import ipywidgets as widgets\n",
    "from transformers import TrainingArguments, Trainer, DataCollatorWithPadding\n",
    "from transformers import AutoModelForSequenceClassification, AutoTokenizer\n",
    "\n",
    "from pysentimiento.preprocessing import preprocess_tweet\n",
    "from sklearn.metrics import classification_report\n",
    "\n",
    "from tqdm.notebook import tqdm\n",
    "from sklearn.metrics import confusion_matrix\n"
   ]
  },
  {
   "cell_type": "code",
   "execution_count": 2,
   "id": "5af36065",
   "metadata": {},
   "outputs": [],
   "source": [
    "#pip install torch==2.0.0\n",
    "#pip install pysentimiento==0.7.2\n",
    "#pip install evaluate==0.4.0\n",
    "#pip install datasets==2.14.5"
   ]
  },
  {
   "cell_type": "code",
   "execution_count": 3,
   "id": "bbffc10f-3389-44e6-b810-260a1d5415f7",
   "metadata": {},
   "outputs": [],
   "source": [
    "#!pip install pysentimiento transformers datasets accelerate evaluate"
   ]
  },
  {
   "cell_type": "code",
   "execution_count": 4,
   "id": "9604c3af-87e2-4977-9983-534dd7248e59",
   "metadata": {},
   "outputs": [],
   "source": [
    "#https://huggingface.co/docs/evaluate/base_evaluator"
   ]
  },
  {
   "cell_type": "code",
   "execution_count": 5,
   "id": "50344bf0-03df-4017-b9ae-c37285b8825b",
   "metadata": {},
   "outputs": [],
   "source": [
    "#Three versions of RoBERTuito were\n",
    "#trained: a cased version which preserves the case found\n",
    "#in the original tweets, an uncased version, and a deacc\n",
    "#version, which lower-cases and removes accents on\n",
    "#tweets."
   ]
  },
  {
   "cell_type": "code",
   "execution_count": 6,
   "id": "a001ba7d",
   "metadata": {},
   "outputs": [],
   "source": [
    "#Helper Functions"
   ]
  },
  {
   "cell_type": "code",
   "execution_count": 7,
   "id": "5ba02255",
   "metadata": {},
   "outputs": [],
   "source": [
    "# label to name\n",
    "def label2name(x):\n",
    "    if x == 0:\n",
    "        return \"Negative\"\n",
    "    if x == 1:\n",
    "        return \"Neutral\"\n",
    "    if x == 2:\n",
    "        return \"Positive\""
   ]
  },
  {
   "cell_type": "code",
   "execution_count": 8,
   "id": "6d3164a0-faf4-4a4d-8a78-17b40b00c3f1",
   "metadata": {
    "tags": []
   },
   "outputs": [],
   "source": [
    "\n",
    "f1_metric = evaluate.load(\"f1\")\n",
    "recall_metric = evaluate.load(\"recall\")\n",
    "\n",
    "def compute_metrics (eval_pred):\n",
    "    logits, labels = eval_pred\n",
    "    preds = np.argmax(logits, axis = -1)\n",
    "    \n",
    "    results = {}\n",
    "    results.update(f1_metric.compute(predictions=preds, references = labels, average=\"macro\"))\n",
    "    results.update(recall_metric.compute(predictions=preds, references = labels, average=\"macro\"))\n",
    "    return results"
   ]
  },
  {
   "cell_type": "code",
   "execution_count": 9,
   "id": "0bd8b7bc-ed54-4e65-ba9a-d2835b1abca8",
   "metadata": {
    "tags": []
   },
   "outputs": [],
   "source": [
    "#Read Data"
   ]
  },
  {
   "cell_type": "code",
   "execution_count": 10,
   "id": "90c97202-c5c6-484f-850a-46a9ee552251",
   "metadata": {
    "tags": []
   },
   "outputs": [],
   "source": [
    "data_files = {\"train\": \"data/train.csv\", \"validation\": \"data/val.csv\", \"test\": \"data/test.csv\"}\n",
    "ds = load_dataset(\"csv\", data_files=data_files)"
   ]
  },
  {
   "cell_type": "code",
   "execution_count": 11,
   "id": "8087bffe-c868-4323-90f0-4c6951f4fb5c",
   "metadata": {
    "scrolled": true,
    "tags": []
   },
   "outputs": [
    {
     "data": {
      "text/plain": [
       "DatasetDict({\n",
       "    train: Dataset({\n",
       "        features: ['text', 'label', 'label_name', 'text_original', 'tokenized_text', 'sent_token_length', 'sent_bert_token_length', 'char_count', 'Character Count'],\n",
       "        num_rows: 7594\n",
       "    })\n",
       "    validation: Dataset({\n",
       "        features: ['text', 'label', 'label_name', 'text_original', 'tokenized_text', 'sent_token_length', 'sent_bert_token_length', 'char_count', 'Character Count'],\n",
       "        num_rows: 2374\n",
       "    })\n",
       "    test: Dataset({\n",
       "        features: ['text', 'label', 'label_name', 'text_original', 'tokenized_text', 'sent_token_length', 'sent_bert_token_length', 'char_count', 'Character Count'],\n",
       "        num_rows: 1899\n",
       "    })\n",
       "})"
      ]
     },
     "execution_count": 11,
     "metadata": {},
     "output_type": "execute_result"
    }
   ],
   "source": [
    "ds"
   ]
  },
  {
   "cell_type": "code",
   "execution_count": 12,
   "id": "a3ca4ba6",
   "metadata": {},
   "outputs": [],
   "source": [
    "#push to hugging face"
   ]
  },
  {
   "cell_type": "code",
   "execution_count": 13,
   "id": "65695826-cdf5-4338-a815-15b7de7f4abb",
   "metadata": {},
   "outputs": [],
   "source": [
    "#https://huggingface.co/settings/tokens"
   ]
  },
  {
   "cell_type": "code",
   "execution_count": 14,
   "id": "051a1e13-5030-4627-8a36-2326307dcf6b",
   "metadata": {},
   "outputs": [],
   "source": [
    "# from huggingface_hub import notebook_login\n",
    "# notebook_login()"
   ]
  },
  {
   "cell_type": "code",
   "execution_count": 15,
   "id": "54b258b3-1cfc-4e6b-b7fa-fe02996400c4",
   "metadata": {},
   "outputs": [],
   "source": [
    "#ds.push_to_hub(\"jairleo95/social-media-peruvian-sentiment\")"
   ]
  },
  {
   "cell_type": "code",
   "execution_count": null,
   "id": "c8e28595-3977-44f3-a9f0-9f62c1f3c802",
   "metadata": {},
   "outputs": [],
   "source": []
  },
  {
   "cell_type": "code",
   "execution_count": 16,
   "id": "0c7abe81-d2ab-49c3-92bf-6c6e36d5d852",
   "metadata": {},
   "outputs": [
    {
     "data": {
      "text/plain": [
       "{'text': Value(dtype='string', id=None),\n",
       " 'label': Value(dtype='int64', id=None),\n",
       " 'label_name': Value(dtype='string', id=None),\n",
       " 'text_original': Value(dtype='string', id=None),\n",
       " 'tokenized_text': Value(dtype='string', id=None),\n",
       " 'sent_token_length': Value(dtype='int64', id=None),\n",
       " 'sent_bert_token_length': Value(dtype='int64', id=None),\n",
       " 'char_count': Value(dtype='int64', id=None),\n",
       " 'Character Count': Value(dtype='int64', id=None)}"
      ]
     },
     "execution_count": 16,
     "metadata": {},
     "output_type": "execute_result"
    }
   ],
   "source": [
    "ds[\"train\"].features"
   ]
  },
  {
   "cell_type": "code",
   "execution_count": 17,
   "id": "9a33842b-42eb-4966-8b48-f3dd7e1aeb33",
   "metadata": {},
   "outputs": [
    {
     "data": {
      "text/plain": [
       "[1, 0, 0, 0, 0, 2, 1, 0, 2, 2]"
      ]
     },
     "execution_count": 17,
     "metadata": {},
     "output_type": "execute_result"
    }
   ],
   "source": [
    "ds[\"test\"][\"label\"][:10]"
   ]
  },
  {
   "cell_type": "code",
   "execution_count": 18,
   "id": "68d24890",
   "metadata": {},
   "outputs": [
    {
     "data": {
      "text/html": [
       "<div>\n",
       "<style scoped>\n",
       "    .dataframe tbody tr th:only-of-type {\n",
       "        vertical-align: middle;\n",
       "    }\n",
       "\n",
       "    .dataframe tbody tr th {\n",
       "        vertical-align: top;\n",
       "    }\n",
       "\n",
       "    .dataframe thead th {\n",
       "        text-align: right;\n",
       "    }\n",
       "</style>\n",
       "<table border=\"1\" class=\"dataframe\">\n",
       "  <thead>\n",
       "    <tr style=\"text-align: right;\">\n",
       "      <th></th>\n",
       "      <th>text</th>\n",
       "      <th>label</th>\n",
       "      <th>label_name</th>\n",
       "      <th>text_original</th>\n",
       "      <th>tokenized_text</th>\n",
       "      <th>sent_token_length</th>\n",
       "      <th>sent_bert_token_length</th>\n",
       "      <th>char_count</th>\n",
       "      <th>Character Count</th>\n",
       "    </tr>\n",
       "  </thead>\n",
       "  <tbody>\n",
       "    <tr>\n",
       "      <th>0</th>\n",
       "      <td>no yuli con eso se va con pendeivis 😞</td>\n",
       "      <td>1</td>\n",
       "      <td>Neutral</td>\n",
       "      <td>No Yuli con eso se va con pendeivis 😞</td>\n",
       "      <td>no yuli con eso se va con pendeivis 😞</td>\n",
       "      <td>9</td>\n",
       "      <td>12</td>\n",
       "      <td>37</td>\n",
       "      <td>37</td>\n",
       "    </tr>\n",
       "    <tr>\n",
       "      <th>1</th>\n",
       "      <td>este es más bruto... cosas que necesita el  pe...</td>\n",
       "      <td>0</td>\n",
       "      <td>Negative</td>\n",
       "      <td>Este es más bruto... Cosas que necesita el  Pe...</td>\n",
       "      <td>este es más bruto    cosas que necesita el  pe...</td>\n",
       "      <td>27</td>\n",
       "      <td>35</td>\n",
       "      <td>144</td>\n",
       "      <td>144</td>\n",
       "    </tr>\n",
       "    <tr>\n",
       "      <th>2</th>\n",
       "      <td>bakan tu video pero el chambar es riko pero pa...</td>\n",
       "      <td>2</td>\n",
       "      <td>Positive</td>\n",
       "      <td>Bakan tu video pero el chambar es riko pero pa...</td>\n",
       "      <td>bakan tu video pero el chambar es riko pero pa...</td>\n",
       "      <td>53</td>\n",
       "      <td>67</td>\n",
       "      <td>267</td>\n",
       "      <td>267</td>\n",
       "    </tr>\n",
       "    <tr>\n",
       "      <th>3</th>\n",
       "      <td>no sabes que hacer para llamar la atención par...</td>\n",
       "      <td>0</td>\n",
       "      <td>Negative</td>\n",
       "      <td>no sabes que hacer para llamar la atención par...</td>\n",
       "      <td>no sabes que hacer para llamar la atención par...</td>\n",
       "      <td>18</td>\n",
       "      <td>20</td>\n",
       "      <td>93</td>\n",
       "      <td>93</td>\n",
       "    </tr>\n",
       "    <tr>\n",
       "      <th>4</th>\n",
       "      <td>pe chino dame chamba mano, almenos pa limpiart...</td>\n",
       "      <td>1</td>\n",
       "      <td>Neutral</td>\n",
       "      <td>Pe CHINO DAME CHAMBA MANO, ALMENOS PA LIMPIART...</td>\n",
       "      <td>pe chino dame chamba mano  almenos pa limpiart...</td>\n",
       "      <td>11</td>\n",
       "      <td>14</td>\n",
       "      <td>61</td>\n",
       "      <td>61</td>\n",
       "    </tr>\n",
       "  </tbody>\n",
       "</table>\n",
       "</div>"
      ],
      "text/plain": [
       "                                                text  label label_name  \\\n",
       "0              no yuli con eso se va con pendeivis 😞      1    Neutral   \n",
       "1  este es más bruto... cosas que necesita el  pe...      0   Negative   \n",
       "2  bakan tu video pero el chambar es riko pero pa...      2   Positive   \n",
       "3  no sabes que hacer para llamar la atención par...      0   Negative   \n",
       "4  pe chino dame chamba mano, almenos pa limpiart...      1    Neutral   \n",
       "\n",
       "                                       text_original  \\\n",
       "0              No Yuli con eso se va con pendeivis 😞   \n",
       "1  Este es más bruto... Cosas que necesita el  Pe...   \n",
       "2  Bakan tu video pero el chambar es riko pero pa...   \n",
       "3  no sabes que hacer para llamar la atención par...   \n",
       "4  Pe CHINO DAME CHAMBA MANO, ALMENOS PA LIMPIART...   \n",
       "\n",
       "                                      tokenized_text  sent_token_length  \\\n",
       "0              no yuli con eso se va con pendeivis 😞                  9   \n",
       "1  este es más bruto    cosas que necesita el  pe...                 27   \n",
       "2  bakan tu video pero el chambar es riko pero pa...                 53   \n",
       "3  no sabes que hacer para llamar la atención par...                 18   \n",
       "4  pe chino dame chamba mano  almenos pa limpiart...                 11   \n",
       "\n",
       "   sent_bert_token_length  char_count  Character Count  \n",
       "0                      12          37               37  \n",
       "1                      35         144              144  \n",
       "2                      67         267              267  \n",
       "3                      20          93               93  \n",
       "4                      14          61               61  "
      ]
     },
     "execution_count": 18,
     "metadata": {},
     "output_type": "execute_result"
    }
   ],
   "source": [
    "df = ds['train'].to_pandas()\n",
    "df.head()"
   ]
  },
  {
   "cell_type": "code",
   "execution_count": 19,
   "id": "7c0615c2",
   "metadata": {},
   "outputs": [],
   "source": [
    "# encode label and mapping label name\n",
    "#df[\"label\"] = df[\"label\"].apply(lambda x: label_encode(x))\n",
    "df[\"label_name\"] = df[\"label\"].apply(lambda x: label2name(x))"
   ]
  },
  {
   "cell_type": "code",
   "execution_count": 20,
   "id": "4c00ccd4",
   "metadata": {},
   "outputs": [],
   "source": [
    "# clean text, lowercase and remove punk\n",
    "#df[\"text\"] = df[\"text\"].apply(lambda x: remove_punct(clean(remove_emoji(x).lower())[0][0]))"
   ]
  },
  {
   "cell_type": "code",
   "execution_count": 21,
   "id": "05636464",
   "metadata": {},
   "outputs": [
    {
     "data": {
      "text/html": [
       "<div>\n",
       "<style scoped>\n",
       "    .dataframe tbody tr th:only-of-type {\n",
       "        vertical-align: middle;\n",
       "    }\n",
       "\n",
       "    .dataframe tbody tr th {\n",
       "        vertical-align: top;\n",
       "    }\n",
       "\n",
       "    .dataframe thead th {\n",
       "        text-align: right;\n",
       "    }\n",
       "</style>\n",
       "<table border=\"1\" class=\"dataframe\">\n",
       "  <thead>\n",
       "    <tr style=\"text-align: right;\">\n",
       "      <th></th>\n",
       "      <th>text</th>\n",
       "      <th>label</th>\n",
       "      <th>label_name</th>\n",
       "      <th>text_original</th>\n",
       "      <th>tokenized_text</th>\n",
       "      <th>sent_token_length</th>\n",
       "      <th>sent_bert_token_length</th>\n",
       "      <th>char_count</th>\n",
       "      <th>Character Count</th>\n",
       "    </tr>\n",
       "  </thead>\n",
       "  <tbody>\n",
       "    <tr>\n",
       "      <th>2000</th>\n",
       "      <td>esa chicha la tome en abancay, es a base de qu...</td>\n",
       "      <td>2</td>\n",
       "      <td>Positive</td>\n",
       "      <td>Esa chicha la tome en Abancay, es a base de qu...</td>\n",
       "      <td>esa chicha la tome en abancay  es a base de qu...</td>\n",
       "      <td>27</td>\n",
       "      <td>39</td>\n",
       "      <td>148</td>\n",
       "      <td>148</td>\n",
       "    </tr>\n",
       "    <tr>\n",
       "      <th>1560</th>\n",
       "      <td>excelente, algún día tengo que visitar y me ll...</td>\n",
       "      <td>2</td>\n",
       "      <td>Positive</td>\n",
       "      <td>Excelente, algún día tengo que visitar y me ll...</td>\n",
       "      <td>excelente  algún día tengo que visitar y me ll...</td>\n",
       "      <td>27</td>\n",
       "      <td>29</td>\n",
       "      <td>151</td>\n",
       "      <td>151</td>\n",
       "    </tr>\n",
       "    <tr>\n",
       "      <th>6112</th>\n",
       "      <td>edelciro galvez🤣🤣 mi amigo chino el rencoroso ...</td>\n",
       "      <td>1</td>\n",
       "      <td>Neutral</td>\n",
       "      <td>Edelciro Galvez🤣🤣 Mi amigo chino el rencoroso ...</td>\n",
       "      <td>edelciro galvez🤣🤣 mi amigo chino el rencoroso ...</td>\n",
       "      <td>12</td>\n",
       "      <td>18</td>\n",
       "      <td>73</td>\n",
       "      <td>73</td>\n",
       "    </tr>\n",
       "    <tr>\n",
       "      <th>4037</th>\n",
       "      <td>aveces se nos para la mano un poquito 😉 se lo ...</td>\n",
       "      <td>0</td>\n",
       "      <td>Negative</td>\n",
       "      <td>Aveces se nos para la mano un poquito 😉 se lo ...</td>\n",
       "      <td>aveces se nos para la mano un poquito 😉 se lo ...</td>\n",
       "      <td>14</td>\n",
       "      <td>14</td>\n",
       "      <td>66</td>\n",
       "      <td>66</td>\n",
       "    </tr>\n",
       "    <tr>\n",
       "      <th>6437</th>\n",
       "      <td>aqui donde radico hce 17 años tdavia no me aco...</td>\n",
       "      <td>1</td>\n",
       "      <td>Neutral</td>\n",
       "      <td>Aqui donde radico hce 17 años tdavia no me aco...</td>\n",
       "      <td>aqui donde radico hce 17 años tdavia no me aco...</td>\n",
       "      <td>30</td>\n",
       "      <td>37</td>\n",
       "      <td>146</td>\n",
       "      <td>146</td>\n",
       "    </tr>\n",
       "    <tr>\n",
       "      <th>2068</th>\n",
       "      <td>tsmpoco creo q ayga gente,aparte detu familia ...</td>\n",
       "      <td>0</td>\n",
       "      <td>Negative</td>\n",
       "      <td>Tsmpoco creo q ayga gente,aparte detu familia ...</td>\n",
       "      <td>tsmpoco creo q ayga gente aparte detu familia ...</td>\n",
       "      <td>14</td>\n",
       "      <td>22</td>\n",
       "      <td>76</td>\n",
       "      <td>76</td>\n",
       "    </tr>\n",
       "    <tr>\n",
       "      <th>7271</th>\n",
       "      <td>a   esos  que  les  encanta  el  tramboyo  .la...</td>\n",
       "      <td>2</td>\n",
       "      <td>Positive</td>\n",
       "      <td>A   esos  que  les  encanta  el  tramboyo  .la...</td>\n",
       "      <td>a   esos  que  les  encanta  el  tramboyo   la...</td>\n",
       "      <td>18</td>\n",
       "      <td>43</td>\n",
       "      <td>104</td>\n",
       "      <td>104</td>\n",
       "    </tr>\n",
       "    <tr>\n",
       "      <th>3999</th>\n",
       "      <td>con ese cuerpazo andaría calata,  sigue con fu...</td>\n",
       "      <td>0</td>\n",
       "      <td>Negative</td>\n",
       "      <td>Con ese cuerpazo andaría calata,  sigue con fu...</td>\n",
       "      <td>con ese cuerpazo andaría calata   sigue con fu...</td>\n",
       "      <td>20</td>\n",
       "      <td>26</td>\n",
       "      <td>107</td>\n",
       "      <td>107</td>\n",
       "    </tr>\n",
       "    <tr>\n",
       "      <th>1043</th>\n",
       "      <td>cada parada en méxico sus respectivos tacos , ...</td>\n",
       "      <td>1</td>\n",
       "      <td>Neutral</td>\n",
       "      <td>Cada parada en México sus respectivos tacos , ...</td>\n",
       "      <td>cada parada en méxico sus respectivos tacos   ...</td>\n",
       "      <td>26</td>\n",
       "      <td>34</td>\n",
       "      <td>162</td>\n",
       "      <td>162</td>\n",
       "    </tr>\n",
       "    <tr>\n",
       "      <th>6225</th>\n",
       "      <td>que tiene de malo , lo importante es que se ba...</td>\n",
       "      <td>1</td>\n",
       "      <td>Neutral</td>\n",
       "      <td>Que tiene de malo , lo importante es que se ba...</td>\n",
       "      <td>que tiene de malo   lo importante es que se ba...</td>\n",
       "      <td>22</td>\n",
       "      <td>27</td>\n",
       "      <td>97</td>\n",
       "      <td>97</td>\n",
       "    </tr>\n",
       "  </tbody>\n",
       "</table>\n",
       "</div>"
      ],
      "text/plain": [
       "                                                   text  label label_name  \\\n",
       "2000  esa chicha la tome en abancay, es a base de qu...      2   Positive   \n",
       "1560  excelente, algún día tengo que visitar y me ll...      2   Positive   \n",
       "6112  edelciro galvez🤣🤣 mi amigo chino el rencoroso ...      1    Neutral   \n",
       "4037  aveces se nos para la mano un poquito 😉 se lo ...      0   Negative   \n",
       "6437  aqui donde radico hce 17 años tdavia no me aco...      1    Neutral   \n",
       "2068  tsmpoco creo q ayga gente,aparte detu familia ...      0   Negative   \n",
       "7271  a   esos  que  les  encanta  el  tramboyo  .la...      2   Positive   \n",
       "3999  con ese cuerpazo andaría calata,  sigue con fu...      0   Negative   \n",
       "1043  cada parada en méxico sus respectivos tacos , ...      1    Neutral   \n",
       "6225  que tiene de malo , lo importante es que se ba...      1    Neutral   \n",
       "\n",
       "                                          text_original  \\\n",
       "2000  Esa chicha la tome en Abancay, es a base de qu...   \n",
       "1560  Excelente, algún día tengo que visitar y me ll...   \n",
       "6112  Edelciro Galvez🤣🤣 Mi amigo chino el rencoroso ...   \n",
       "4037  Aveces se nos para la mano un poquito 😉 se lo ...   \n",
       "6437  Aqui donde radico hce 17 años tdavia no me aco...   \n",
       "2068  Tsmpoco creo q ayga gente,aparte detu familia ...   \n",
       "7271  A   esos  que  les  encanta  el  tramboyo  .la...   \n",
       "3999  Con ese cuerpazo andaría calata,  sigue con fu...   \n",
       "1043  Cada parada en México sus respectivos tacos , ...   \n",
       "6225  Que tiene de malo , lo importante es que se ba...   \n",
       "\n",
       "                                         tokenized_text  sent_token_length  \\\n",
       "2000  esa chicha la tome en abancay  es a base de qu...                 27   \n",
       "1560  excelente  algún día tengo que visitar y me ll...                 27   \n",
       "6112  edelciro galvez🤣🤣 mi amigo chino el rencoroso ...                 12   \n",
       "4037  aveces se nos para la mano un poquito 😉 se lo ...                 14   \n",
       "6437  aqui donde radico hce 17 años tdavia no me aco...                 30   \n",
       "2068  tsmpoco creo q ayga gente aparte detu familia ...                 14   \n",
       "7271  a   esos  que  les  encanta  el  tramboyo   la...                 18   \n",
       "3999  con ese cuerpazo andaría calata   sigue con fu...                 20   \n",
       "1043  cada parada en méxico sus respectivos tacos   ...                 26   \n",
       "6225  que tiene de malo   lo importante es que se ba...                 22   \n",
       "\n",
       "      sent_bert_token_length  char_count  Character Count  \n",
       "2000                      39         148              148  \n",
       "1560                      29         151              151  \n",
       "6112                      18          73               73  \n",
       "4037                      14          66               66  \n",
       "6437                      37         146              146  \n",
       "2068                      22          76               76  \n",
       "7271                      43         104              104  \n",
       "3999                      26         107              107  \n",
       "1043                      34         162              162  \n",
       "6225                      27          97               97  "
      ]
     },
     "execution_count": 21,
     "metadata": {},
     "output_type": "execute_result"
    }
   ],
   "source": [
    "df.sample(10)"
   ]
  },
  {
   "cell_type": "code",
   "execution_count": 22,
   "id": "8299b318-0204-49cb-bf9a-14834e7796cb",
   "metadata": {
    "tags": []
   },
   "outputs": [
    {
     "name": "stderr",
     "output_type": "stream",
     "text": [
      "/home/darkstar/anaconda3/envs/robertuito-env/lib/python3.10/site-packages/torch/_utils.py:776: UserWarning: TypedStorage is deprecated. It will be removed in the future and UntypedStorage will be the only storage class. This should only matter to you if you are using storages directly.  To access UntypedStorage directly, use tensor.untyped_storage() instead of tensor.storage()\n",
      "  return self.fget.__get__(instance, owner)()\n"
     ]
    }
   ],
   "source": [
    "model_name = \"pysentimiento/robertuito-base-deacc\"\n",
    "\n",
    "model = AutoModelForSequenceClassification.from_pretrained(\n",
    "    model_name,\n",
    "    num_labels=3\n",
    ")\n",
    "tokenizer = AutoTokenizer.from_pretrained(model_name)\n",
    "tokenizer.model_max_length = 128"
   ]
  },
  {
   "cell_type": "code",
   "execution_count": 23,
   "id": "da7b8124",
   "metadata": {},
   "outputs": [],
   "source": [
    "# columns = ['input_ids', 'attention_mask', 'label']\n",
    "# ds.set_format(type='torch', columns=columns)\n",
    "# ds"
   ]
  },
  {
   "cell_type": "code",
   "execution_count": null,
   "id": "ae25e978",
   "metadata": {},
   "outputs": [],
   "source": []
  },
  {
   "cell_type": "code",
   "execution_count": 24,
   "id": "8ed569d2-67ca-405d-aa88-3e6de71a2356",
   "metadata": {
    "tags": []
   },
   "outputs": [],
   "source": [
    "preprocessed_ds = ds.map(lambda ex: {\"text\": preprocess_tweet(ex[\"text\"], lang=\"es\")})"
   ]
  },
  {
   "cell_type": "code",
   "execution_count": 25,
   "id": "99a78d85-4029-4621-b692-f63f396a2f6f",
   "metadata": {
    "tags": []
   },
   "outputs": [
    {
     "data": {
      "application/vnd.jupyter.widget-view+json": {
       "model_id": "cf04a95381c4453ca1b206b2b80616f7",
       "version_major": 2,
       "version_minor": 0
      },
      "text/plain": [
       "Map:   0%|          | 0/1899 [00:00<?, ? examples/s]"
      ]
     },
     "metadata": {},
     "output_type": "display_data"
    }
   ],
   "source": [
    "tokenized_ds = preprocessed_ds.map(\n",
    "    lambda batch: tokenizer(\n",
    "        batch[\"text\"], padding=True, truncation=True\n",
    "        ),\n",
    "    batched=True, batch_size=32\n",
    ")"
   ]
  },
  {
   "cell_type": "code",
   "execution_count": 26,
   "id": "1dd95bf5",
   "metadata": {},
   "outputs": [
    {
     "data": {
      "text/plain": [
       "DatasetDict({\n",
       "    train: Dataset({\n",
       "        features: ['text', 'label', 'label_name', 'text_original', 'tokenized_text', 'sent_token_length', 'sent_bert_token_length', 'char_count', 'Character Count', 'input_ids', 'token_type_ids', 'attention_mask'],\n",
       "        num_rows: 7594\n",
       "    })\n",
       "    validation: Dataset({\n",
       "        features: ['text', 'label', 'label_name', 'text_original', 'tokenized_text', 'sent_token_length', 'sent_bert_token_length', 'char_count', 'Character Count', 'input_ids', 'token_type_ids', 'attention_mask'],\n",
       "        num_rows: 2374\n",
       "    })\n",
       "    test: Dataset({\n",
       "        features: ['text', 'label', 'label_name', 'text_original', 'tokenized_text', 'sent_token_length', 'sent_bert_token_length', 'char_count', 'Character Count', 'input_ids', 'token_type_ids', 'attention_mask'],\n",
       "        num_rows: 1899\n",
       "    })\n",
       "})"
      ]
     },
     "execution_count": 26,
     "metadata": {},
     "output_type": "execute_result"
    }
   ],
   "source": [
    "tokenized_ds"
   ]
  },
  {
   "cell_type": "code",
   "execution_count": 27,
   "id": "d3634bf4",
   "metadata": {},
   "outputs": [
    {
     "data": {
      "text/plain": [
       "[0, 614, 1, 1, 1, 1, 1, 1, 1, 1, 1, 1, 1]"
      ]
     },
     "execution_count": 27,
     "metadata": {},
     "output_type": "execute_result"
    }
   ],
   "source": [
    "tokenized_ds['train']['input_ids'][0][::10]"
   ]
  },
  {
   "cell_type": "code",
   "execution_count": 28,
   "id": "7c23fbba",
   "metadata": {},
   "outputs": [
    {
     "data": {
      "text/plain": [
       "[1, 1, 0, 0, 0, 0, 0, 0, 0, 0, 0, 0, 0]"
      ]
     },
     "execution_count": 28,
     "metadata": {},
     "output_type": "execute_result"
    }
   ],
   "source": [
    "tokenized_ds['train']['attention_mask'][0][::10]"
   ]
  },
  {
   "cell_type": "code",
   "execution_count": 29,
   "id": "f6d33cad",
   "metadata": {},
   "outputs": [
    {
     "data": {
      "text/plain": [
       "'tu hermano gemelo manolo... sobrado la haces como su doble..   emoji cara con mano sobre la boca emoji  emoji cara con mano sobre la boca emoji'"
      ]
     },
     "execution_count": 29,
     "metadata": {},
     "output_type": "execute_result"
    }
   ],
   "source": [
    "tokenized_ds['train']['text'][10]"
   ]
  },
  {
   "cell_type": "code",
   "execution_count": 30,
   "id": "ccb30e62-df89-4712-9256-68108095f3d4",
   "metadata": {},
   "outputs": [
    {
     "data": {
      "text/plain": [
       "[0, 0, 0, 0, 0, 0, 0, 0, 0, 0, 0, 0, 0, 0, 0, 0, 0, 0, 0, 0]"
      ]
     },
     "execution_count": 30,
     "metadata": {},
     "output_type": "execute_result"
    }
   ],
   "source": [
    "tokenized_ds['train']['token_type_ids'][0][:20]"
   ]
  },
  {
   "cell_type": "code",
   "execution_count": 31,
   "id": "09fbae2f-7a95-476c-b948-f8017ac4aca6",
   "metadata": {},
   "outputs": [
    {
     "data": {
      "text/plain": [
       "['▁tu',\n",
       " '▁hermano',\n",
       " '▁gem',\n",
       " 'elo',\n",
       " '▁manolo',\n",
       " '...',\n",
       " '▁sob',\n",
       " 'rado',\n",
       " '▁la',\n",
       " '▁haces',\n",
       " '▁como',\n",
       " '▁su',\n",
       " '▁doble',\n",
       " '..',\n",
       " '▁',\n",
       " '▁',\n",
       " '▁emoji',\n",
       " '▁cara',\n",
       " '▁con',\n",
       " '▁mano',\n",
       " '▁sobre',\n",
       " '▁la',\n",
       " '▁boca',\n",
       " '▁emoji',\n",
       " '▁',\n",
       " '▁emoji',\n",
       " '▁cara',\n",
       " '▁con',\n",
       " '▁mano',\n",
       " '▁sobre',\n",
       " '▁la',\n",
       " '▁boca',\n",
       " '▁emoji']"
      ]
     },
     "execution_count": 31,
     "metadata": {},
     "output_type": "execute_result"
    }
   ],
   "source": [
    "tokenizer.tokenize('tu hermano gemelo manolo... sobrado la haces como su doble..   emoji cara con mano sobre la boca emoji  emoji cara con mano sobre la boca emoji')"
   ]
  },
  {
   "cell_type": "code",
   "execution_count": 32,
   "id": "0871323a-d13e-456d-8d50-ffcd6bbba3a8",
   "metadata": {},
   "outputs": [
    {
     "data": {
      "text/plain": [
       "['▁no',\n",
       " '▁pit',\n",
       " 'uca',\n",
       " '▁causa',\n",
       " '▁emoji',\n",
       " '▁cara',\n",
       " '▁revolviendose',\n",
       " '▁de',\n",
       " '▁la',\n",
       " '▁risa',\n",
       " '▁emoji']"
      ]
     },
     "execution_count": 32,
     "metadata": {},
     "output_type": "execute_result"
    }
   ],
   "source": [
    "text = \"No pituca causa🤣\"\n",
    "preprocessed_text = preprocess_tweet(text)\n",
    "tokenizer.tokenize(preprocessed_text)"
   ]
  },
  {
   "cell_type": "code",
   "execution_count": 33,
   "id": "5184c045-3c69-4f1c-a25e-f432e828b426",
   "metadata": {},
   "outputs": [
    {
     "data": {
      "text/plain": [
       "['▁@usuario',\n",
       " '▁esto',\n",
       " '▁es',\n",
       " '▁una',\n",
       " '▁prueba',\n",
       " '▁es',\n",
       " 'd',\n",
       " 'ru',\n",
       " 'j',\n",
       " 'ula',\n",
       " '▁papa',\n",
       " '▁marketing',\n",
       " '▁terreno']"
      ]
     },
     "execution_count": 33,
     "metadata": {},
     "output_type": "execute_result"
    }
   ],
   "source": [
    "ppt = preprocess_tweet(\"@usuario ESTO es una prueba esdrújula PAPÁ marketing terreno\")\n",
    "tokenizer.tokenize(ppt)"
   ]
  },
  {
   "cell_type": "code",
   "execution_count": 126,
   "id": "4b8c3363-0b4c-4e5e-8db4-f860455af0d8",
   "metadata": {},
   "outputs": [],
   "source": [
    "#tokenizer.get_vocab()"
   ]
  },
  {
   "cell_type": "code",
   "execution_count": 35,
   "id": "ad38cceb-5c98-4424-8600-210e4612022d",
   "metadata": {},
   "outputs": [
    {
     "data": {
      "text/plain": [
       "'<unk>'"
      ]
     },
     "execution_count": 35,
     "metadata": {},
     "output_type": "execute_result"
    }
   ],
   "source": [
    "tokenizer.unk_token"
   ]
  },
  {
   "cell_type": "code",
   "execution_count": 36,
   "id": "c88c53d1-0c5b-4b97-910a-75f6991d2d6f",
   "metadata": {
    "tags": []
   },
   "outputs": [],
   "source": [
    "#!pip install ipdb"
   ]
  },
  {
   "cell_type": "code",
   "execution_count": 37,
   "id": "469074ed-9e65-4a9e-913c-6151f5c5d8b3",
   "metadata": {},
   "outputs": [
    {
     "data": {
      "text/plain": [
       "RobertaForSequenceClassification(\n",
       "  (roberta): RobertaModel(\n",
       "    (embeddings): RobertaEmbeddings(\n",
       "      (word_embeddings): Embedding(30000, 768, padding_idx=1)\n",
       "      (position_embeddings): Embedding(130, 768, padding_idx=1)\n",
       "      (token_type_embeddings): Embedding(1, 768)\n",
       "      (LayerNorm): LayerNorm((768,), eps=1e-12, elementwise_affine=True)\n",
       "      (dropout): Dropout(p=0.1, inplace=False)\n",
       "    )\n",
       "    (encoder): RobertaEncoder(\n",
       "      (layer): ModuleList(\n",
       "        (0-11): 12 x RobertaLayer(\n",
       "          (attention): RobertaAttention(\n",
       "            (self): RobertaSelfAttention(\n",
       "              (query): Linear(in_features=768, out_features=768, bias=True)\n",
       "              (key): Linear(in_features=768, out_features=768, bias=True)\n",
       "              (value): Linear(in_features=768, out_features=768, bias=True)\n",
       "              (dropout): Dropout(p=0.1, inplace=False)\n",
       "            )\n",
       "            (output): RobertaSelfOutput(\n",
       "              (dense): Linear(in_features=768, out_features=768, bias=True)\n",
       "              (LayerNorm): LayerNorm((768,), eps=1e-12, elementwise_affine=True)\n",
       "              (dropout): Dropout(p=0.1, inplace=False)\n",
       "            )\n",
       "          )\n",
       "          (intermediate): RobertaIntermediate(\n",
       "            (dense): Linear(in_features=768, out_features=3072, bias=True)\n",
       "            (intermediate_act_fn): GELUActivation()\n",
       "          )\n",
       "          (output): RobertaOutput(\n",
       "            (dense): Linear(in_features=3072, out_features=768, bias=True)\n",
       "            (LayerNorm): LayerNorm((768,), eps=1e-12, elementwise_affine=True)\n",
       "            (dropout): Dropout(p=0.1, inplace=False)\n",
       "          )\n",
       "        )\n",
       "      )\n",
       "    )\n",
       "  )\n",
       "  (classifier): RobertaClassificationHead(\n",
       "    (dense): Linear(in_features=768, out_features=768, bias=True)\n",
       "    (dropout): Dropout(p=0.1, inplace=False)\n",
       "    (out_proj): Linear(in_features=768, out_features=3, bias=True)\n",
       "  )\n",
       ")"
      ]
     },
     "execution_count": 37,
     "metadata": {},
     "output_type": "execute_result"
    }
   ],
   "source": [
    "#import torch\n",
    "device = \"cuda\" if torch.cuda.is_available() else \"cpu\"\n",
    "model.cuda()"
   ]
  },
  {
   "cell_type": "code",
   "execution_count": 38,
   "id": "5d56e2f2-159e-4ffe-86fc-3659ed308b89",
   "metadata": {},
   "outputs": [
    {
     "name": "stderr",
     "output_type": "stream",
     "text": [
      "/home/darkstar/anaconda3/envs/robertuito-env/lib/python3.10/site-packages/accelerate/accelerator.py:432: FutureWarning: Passing the following arguments to `Accelerator` is deprecated and will be removed in version 1.0 of Accelerate: dict_keys(['dispatch_batches', 'split_batches', 'even_batches', 'use_seedable_sampler']). Please pass an `accelerate.DataLoaderConfiguration` instead: \n",
      "dataloader_config = DataLoaderConfiguration(dispatch_batches=None, split_batches=False, even_batches=True, use_seedable_sampler=True)\n",
      "  warnings.warn(\n"
     ]
    }
   ],
   "source": [
    "training_args = TrainingArguments(\n",
    "    per_device_train_batch_size=32,\n",
    "    output_dir=\"robertuito_deacc/checkpoints\",\n",
    "    warmup_ratio=0.1,\n",
    "    learning_rate=5e-5,\n",
    "    do_eval=True,\n",
    "    evaluation_strategy=\"epoch\",\n",
    "    num_train_epochs=5,\n",
    ")\n",
    "\n",
    "trainer = Trainer(\n",
    "    model=model,\n",
    "    args=training_args,\n",
    "    train_dataset=tokenized_ds[\"train\"],\n",
    "    eval_dataset=tokenized_ds[\"validation\"],\n",
    "    compute_metrics=compute_metrics,\n",
    "    data_collator=DataCollatorWithPadding(tokenizer=tokenizer),\n",
    ")"
   ]
  },
  {
   "cell_type": "code",
   "execution_count": 39,
   "id": "6be1933a-b930-410d-91ff-646bdcb9a80f",
   "metadata": {
    "tags": []
   },
   "outputs": [
    {
     "name": "stdout",
     "output_type": "stream",
     "text": [
      "{'eval_loss': 0.6388074159622192, 'eval_f1': 0.720163734744432, 'eval_recall': 0.723155250330422, 'eval_runtime': 10.838, 'eval_samples_per_second': 219.043, 'eval_steps_per_second': 27.403, 'epoch': 1.0}\n",
      "{'eval_loss': 0.6507117748260498, 'eval_f1': 0.7313019023911286, 'eval_recall': 0.7326195285069574, 'eval_runtime': 10.9094, 'eval_samples_per_second': 217.61, 'eval_steps_per_second': 27.224, 'epoch': 2.0}\n",
      "{'loss': 0.5665, 'grad_norm': 4.0552077293396, 'learning_rate': 3.221288515406163e-05, 'epoch': 2.1}\n",
      "{'eval_loss': 0.8676197528839111, 'eval_f1': 0.7269692703745397, 'eval_recall': 0.7284301374966583, 'eval_runtime': 11.1344, 'eval_samples_per_second': 213.214, 'eval_steps_per_second': 26.674, 'epoch': 3.0}\n",
      "{'eval_loss': 1.136397123336792, 'eval_f1': 0.7241790899010975, 'eval_recall': 0.7262912767398196, 'eval_runtime': 10.5026, 'eval_samples_per_second': 226.04, 'eval_steps_per_second': 28.279, 'epoch': 4.0}\n",
      "{'loss': 0.1415, 'grad_norm': 0.5033333897590637, 'learning_rate': 8.870214752567695e-06, 'epoch': 4.2}\n",
      "{'eval_loss': 1.2736601829528809, 'eval_f1': 0.725526436155184, 'eval_recall': 0.7265586606321491, 'eval_runtime': 11.0312, 'eval_samples_per_second': 215.208, 'eval_steps_per_second': 26.924, 'epoch': 5.0}\n",
      "{'train_runtime': 577.4225, 'train_samples_per_second': 65.758, 'train_steps_per_second': 2.061, 'train_loss': 0.30448239270378563, 'epoch': 5.0}\n"
     ]
    },
    {
     "data": {
      "text/plain": [
       "TrainOutput(global_step=1190, training_loss=0.30448239270378563, metrics={'train_runtime': 577.4225, 'train_samples_per_second': 65.758, 'train_steps_per_second': 2.061, 'train_loss': 0.30448239270378563, 'epoch': 5.0})"
      ]
     },
     "execution_count": 39,
     "metadata": {},
     "output_type": "execute_result"
    }
   ],
   "source": [
    "trainer.train()"
   ]
  },
  {
   "cell_type": "code",
   "execution_count": 40,
   "id": "8925631b-f4c3-4cd5-9660-3fb18a4fc23a",
   "metadata": {},
   "outputs": [],
   "source": [
    "# Save trained model\n",
    "trainer.model.save_pretrained(\"robertuito_deacc/model\")"
   ]
  },
  {
   "cell_type": "code",
   "execution_count": 41,
   "id": "f2c407d3-9fa8-402c-85eb-7061a55c9984",
   "metadata": {
    "tags": []
   },
   "outputs": [],
   "source": [
    "#Test on validation set"
   ]
  },
  {
   "cell_type": "code",
   "execution_count": 42,
   "id": "34fec069",
   "metadata": {},
   "outputs": [
    {
     "name": "stdout",
     "output_type": "stream",
     "text": [
      "{'eval_loss': 1.2443039417266846, 'eval_f1': 0.7238677750282418, 'eval_recall': 0.7232802885445891, 'eval_runtime': 8.3551, 'eval_samples_per_second': 227.287, 'eval_steps_per_second': 28.486, 'epoch': 5.0}\n"
     ]
    }
   ],
   "source": [
    "evaluation_results = trainer.evaluate(tokenized_ds[\"test\"])"
   ]
  },
  {
   "cell_type": "code",
   "execution_count": 43,
   "id": "12e4106c-224b-4651-9cdc-f89b6e5d15c6",
   "metadata": {},
   "outputs": [
    {
     "data": {
      "text/plain": [
       "{'eval_loss': 1.2443039417266846,\n",
       " 'eval_f1': 0.7238677750282418,\n",
       " 'eval_recall': 0.7232802885445891,\n",
       " 'eval_runtime': 8.3551,\n",
       " 'eval_samples_per_second': 227.287,\n",
       " 'eval_steps_per_second': 28.486,\n",
       " 'epoch': 5.0}"
      ]
     },
     "execution_count": 43,
     "metadata": {},
     "output_type": "execute_result"
    }
   ],
   "source": [
    "evaluation_results"
   ]
  },
  {
   "cell_type": "code",
   "execution_count": 44,
   "id": "7d9b0847-d809-4eeb-8b46-1a355b031930",
   "metadata": {},
   "outputs": [
    {
     "data": {
      "text/plain": [
       "PredictionOutput(predictions=array([[ 0.68899184,  2.6066072 , -4.1727057 ],\n",
       "       [-1.7843113 , -3.0627193 ,  5.4047976 ],\n",
       "       [ 2.4641352 , -0.30421463, -2.5051272 ],\n",
       "       ...,\n",
       "       [-2.595745  , -2.9646363 ,  6.159081  ],\n",
       "       [-3.2579777 , -1.7354413 ,  5.634141  ],\n",
       "       [ 4.9768434 , -1.7644249 , -3.2050898 ]], dtype=float32), label_ids=array([1, 0, 0, ..., 2, 1, 0]), metrics={'test_loss': 1.2443039417266846, 'test_f1': 0.7238677750282418, 'test_recall': 0.7232802885445891, 'test_runtime': 8.2911, 'test_samples_per_second': 229.042, 'test_steps_per_second': 28.706})"
      ]
     },
     "execution_count": 44,
     "metadata": {},
     "output_type": "execute_result"
    }
   ],
   "source": [
    "predictions = trainer.predict(tokenized_ds[\"test\"])\n",
    "predictions"
   ]
  },
  {
   "cell_type": "code",
   "execution_count": 45,
   "id": "c42a8ab3-93da-4162-967b-792ace795c70",
   "metadata": {},
   "outputs": [
    {
     "data": {
      "text/plain": [
       "1899"
      ]
     },
     "execution_count": 45,
     "metadata": {},
     "output_type": "execute_result"
    }
   ],
   "source": [
    "len(predictions[0])"
   ]
  },
  {
   "cell_type": "code",
   "execution_count": 46,
   "id": "1775df1a-f613-4c97-afab-87b3870abd21",
   "metadata": {},
   "outputs": [],
   "source": [
    "true_labels = tokenized_ds[\"test\"]['label']"
   ]
  },
  {
   "cell_type": "code",
   "execution_count": 47,
   "id": "26982e5f-dc6f-4bd5-a799-cad8e1e4728c",
   "metadata": {},
   "outputs": [
    {
     "data": {
      "text/plain": [
       "1899"
      ]
     },
     "execution_count": 47,
     "metadata": {},
     "output_type": "execute_result"
    }
   ],
   "source": [
    "len(true_labels)"
   ]
  },
  {
   "cell_type": "code",
   "execution_count": 48,
   "id": "a7087657-3e18-4ece-aa42-d96bea860046",
   "metadata": {},
   "outputs": [
    {
     "name": "stdout",
     "output_type": "stream",
     "text": [
      "              precision    recall  f1-score   support\n",
      "\n",
      "           0    0.80622   0.83107   0.81846       811\n",
      "           1    0.61090   0.58877   0.59963       552\n",
      "           2    0.75706   0.75000   0.75351       536\n",
      "\n",
      "    accuracy                        0.73776      1899\n",
      "   macro avg    0.72473   0.72328   0.72387      1899\n",
      "weighted avg    0.73557   0.73776   0.73652      1899\n",
      "\n"
     ]
    }
   ],
   "source": [
    "predicted_labels = [np.argmax(pred) for pred in predictions[0]]\n",
    "classification_rep = classification_report(true_labels, predicted_labels, digits=5)\n",
    "\n",
    "print(classification_rep)"
   ]
  },
  {
   "cell_type": "code",
   "execution_count": 49,
   "id": "57814e98",
   "metadata": {},
   "outputs": [],
   "source": [
    "#model.load_state_dict(torch.load(f'./_BERT_epoch_3.model', map_location=torch.device('cpu')))"
   ]
  },
  {
   "cell_type": "code",
   "execution_count": 50,
   "id": "ed4ae6f3",
   "metadata": {},
   "outputs": [],
   "source": [
    "#Error Analisys"
   ]
  },
  {
   "cell_type": "code",
   "execution_count": 104,
   "id": "46bbd55b",
   "metadata": {},
   "outputs": [],
   "source": [
    "val_df = ds['validation'].to_pandas()\n",
    "#val_df"
   ]
  },
  {
   "cell_type": "code",
   "execution_count": 105,
   "id": "737a62b3",
   "metadata": {},
   "outputs": [
    {
     "data": {
      "application/vnd.jupyter.widget-view+json": {
       "model_id": "feb58ee6f89e4ad39d9d805a9a04011b",
       "version_major": 2,
       "version_minor": 0
      },
      "text/plain": [
       "  0%|          | 0/2374 [00:00<?, ?it/s]"
      ]
     },
     "metadata": {},
     "output_type": "display_data"
    }
   ],
   "source": [
    "# step by step predictions on dataframe\n",
    "# We do this to view predictions in the pandas dataframe and easily filter them and perform error analysis.\n",
    "pred_final = []\n",
    "\n",
    "for i, row in tqdm(val_df.iterrows(), total=val_df.shape[0]):\n",
    "    predictions = []\n",
    "\n",
    "    text = row[\"text\"]\n",
    "    encoded_data_test_single = tokenizer.batch_encode_plus([text], \n",
    "    # add_special_tokens=config.add_special_tokens, \n",
    "    # return_attention_mask=config.return_attention_mask, \n",
    "    # pad_to_max_length=config.pad_to_max_length, \n",
    "    max_length=128,\n",
    "    # return_tensors=config.return_tensors\n",
    "    return_tensors=\"pt\"\n",
    "    )\n",
    "    input_ids_test = encoded_data_test_single['input_ids']\n",
    "    attention_masks_test = encoded_data_test_single['attention_mask']\n",
    "\n",
    "    \n",
    "    inputs = {'input_ids':      input_ids_test.to(device),\n",
    "              'attention_mask':attention_masks_test.to(device),\n",
    "             }\n",
    "\n",
    "    with torch.no_grad():        \n",
    "        outputs = model(**inputs)\n",
    "    \n",
    "    logits = outputs[0]\n",
    "    logits = logits.detach().cpu().numpy()\n",
    "    predictions.append(logits)\n",
    "    predictions = np.concatenate(predictions, axis=0)\n",
    "    pred_final.append(np.argmax(predictions, axis=1).flatten()[0])"
   ]
  },
  {
   "cell_type": "code",
   "execution_count": 106,
   "id": "e2d5ea48-4899-4cb3-9027-0ea1cf46c0e0",
   "metadata": {},
   "outputs": [],
   "source": [
    "# add pred into val_df\n",
    "val_df[\"pred\"] = pred_final"
   ]
  },
  {
   "cell_type": "code",
   "execution_count": 107,
   "id": "aebc0161-59a5-4fc6-a34a-45f47f0416c5",
   "metadata": {},
   "outputs": [],
   "source": [
    "#  Add control column for easier wrong and right predictions\n",
    "control = val_df.pred.values == val_df.label.values\n",
    "val_df[\"control\"] = control"
   ]
  },
  {
   "cell_type": "code",
   "execution_count": 55,
   "id": "76106d47-0012-41ec-9656-9d3227934bab",
   "metadata": {},
   "outputs": [],
   "source": [
    "# filtering false predictions\n",
    "#val_df = val_df[val_df.control == False]"
   ]
  },
  {
   "cell_type": "code",
   "execution_count": 108,
   "id": "ecdd05ba-780e-417f-a155-812850af1b93",
   "metadata": {},
   "outputs": [],
   "source": [
    "# label to intent mapping\n",
    "name2label = {\"Negative\":0,\n",
    "              \"Neutral\":1,\n",
    "             \"Positive\":2\n",
    "             }\n",
    "label2name = {v: k for k, v in name2label.items()}\n",
    "\n",
    "val_df[\"pred_name\"] = val_df.pred.apply(lambda x: label2name.get(x)) "
   ]
  },
  {
   "cell_type": "code",
   "execution_count": 109,
   "id": "0e076559-81d8-4997-979e-330b1e15f200",
   "metadata": {},
   "outputs": [],
   "source": [
    "\n",
    "# We create a confusion matrix to better observe the classes that the model confuses.\n",
    "pred_name_values = val_df.pred_name.values\n",
    "label_values = val_df.label_name.values\n",
    "confmat = confusion_matrix(label_values, pred_name_values, labels=list(name2label.keys()))"
   ]
  },
  {
   "cell_type": "code",
   "execution_count": 110,
   "id": "86229af8-4484-4551-bfca-7280b8eab020",
   "metadata": {},
   "outputs": [
    {
     "data": {
      "text/plain": [
       "array([[754, 224,  35],\n",
       "       [121, 442, 128],\n",
       "       [ 49, 177, 444]])"
      ]
     },
     "execution_count": 110,
     "metadata": {},
     "output_type": "execute_result"
    }
   ],
   "source": [
    "confmat"
   ]
  },
  {
   "cell_type": "code",
   "execution_count": 111,
   "id": "a282fc0e-f045-430b-9126-194627f8c043",
   "metadata": {},
   "outputs": [
    {
     "data": {
      "text/html": [
       "<div>\n",
       "<style scoped>\n",
       "    .dataframe tbody tr th:only-of-type {\n",
       "        vertical-align: middle;\n",
       "    }\n",
       "\n",
       "    .dataframe tbody tr th {\n",
       "        vertical-align: top;\n",
       "    }\n",
       "\n",
       "    .dataframe thead th {\n",
       "        text-align: right;\n",
       "    }\n",
       "</style>\n",
       "<table border=\"1\" class=\"dataframe\">\n",
       "  <thead>\n",
       "    <tr style=\"text-align: right;\">\n",
       "      <th>col_0</th>\n",
       "      <th>Negative</th>\n",
       "      <th>Neutral</th>\n",
       "      <th>Positive</th>\n",
       "    </tr>\n",
       "    <tr>\n",
       "      <th>row_0</th>\n",
       "      <th></th>\n",
       "      <th></th>\n",
       "      <th></th>\n",
       "    </tr>\n",
       "  </thead>\n",
       "  <tbody>\n",
       "    <tr>\n",
       "      <th>Negative</th>\n",
       "      <td>754</td>\n",
       "      <td>224</td>\n",
       "      <td>35</td>\n",
       "    </tr>\n",
       "    <tr>\n",
       "      <th>Neutral</th>\n",
       "      <td>121</td>\n",
       "      <td>442</td>\n",
       "      <td>128</td>\n",
       "    </tr>\n",
       "    <tr>\n",
       "      <th>Positive</th>\n",
       "      <td>49</td>\n",
       "      <td>177</td>\n",
       "      <td>444</td>\n",
       "    </tr>\n",
       "  </tbody>\n",
       "</table>\n",
       "</div>"
      ],
      "text/plain": [
       "col_0     Negative  Neutral  Positive\n",
       "row_0                                \n",
       "Negative       754      224        35\n",
       "Neutral        121      442       128\n",
       "Positive        49      177       444"
      ]
     },
     "execution_count": 111,
     "metadata": {},
     "output_type": "execute_result"
    }
   ],
   "source": [
    "df_confusion_val = pd.crosstab(label_values, pred_name_values)\n",
    "df_confusion_val"
   ]
  },
  {
   "cell_type": "code",
   "execution_count": 112,
   "id": "8e6e4c35-1a05-44f2-8b40-a7a6dee7ae49",
   "metadata": {},
   "outputs": [],
   "source": [
    "# save confissuan matrix df\n",
    "df_confusion_val.to_csv(\"val_df_confusion.csv\")"
   ]
  },
  {
   "cell_type": "code",
   "execution_count": 121,
   "id": "313895af-eb99-43a0-bb0e-d6bc5d210c42",
   "metadata": {},
   "outputs": [
    {
     "data": {
      "image/png": "[encoded data removed]",
      "text/plain": [
       "<Figure size 500x400 with 2 Axes>"
      ]
     },
     "metadata": {},
     "output_type": "display_data"
    }
   ],
   "source": [
    "from sklearn.svm import SVC\n",
    "from sklearn.metrics import confusion_matrix\n",
    "import seaborn as sns\n",
    "import matplotlib.pyplot as plt\n",
    "cm = confusion_matrix(label_values, pred_name_values)\n",
    "cm_df = pd.DataFrame(cm,\n",
    "                     index = ['Negative','Neutral','Positive'], \n",
    "                     columns = ['Negative','Neutral','Positive'])\n",
    "plt.figure(figsize=(5,4))\n",
    "sns.heatmap(cm_df, annot=True,fmt=\".0f\")\n",
    "plt.title('Confusion Matrix')\n",
    "plt.ylabel('Actual Values')\n",
    "plt.xlabel('Predicted Values')\n",
    "plt.show()"
   ]
  },
  {
   "cell_type": "code",
   "execution_count": 122,
   "id": "10bdec52-f933-408e-981d-1d36870cc039",
   "metadata": {},
   "outputs": [],
   "source": [
    "val_df.to_csv('train_validation.csv', columns=['text', 'label', 'char_count', 'pred', 'control', 'pred_name'])"
   ]
  },
  {
   "cell_type": "markdown",
   "id": "c79614ce-e047-449c-b3a8-83ed2becfc20",
   "metadata": {},
   "source": [
    "## Inference"
   ]
  },
  {
   "cell_type": "code",
   "execution_count": 87,
   "id": "04ce937d-9bfc-43c1-88a9-d99a4c7f56ae",
   "metadata": {},
   "outputs": [
    {
     "data": {
      "text/plain": [
       "['y cuantas chanchas habran hecho para la salvadora de la democracia?.. emoji cara pensativa emoji',\n",
       " 'tremenda joyita  emoji corazón morado emoji  emoji corazón morado emoji  emoji corazón morado emoji',\n",
       " 'entre cabros se entienden altamirano gómez alain gerard... y de pasadita dale su beso y mepaso en su pelacho a la beto...  emoji cara llorando de risa emoji',\n",
       " 'chino llevalo al camal, a ese puerco  emoji cara revolviéndose de la risa emoji  emoji cara revolviéndose de la risa emoji',\n",
       " 'apoyo de 4 gato y un perro con virolo... emoji cara sonriente con lágrima emoji  emoji cara sonriendo con sudor frío emoji',\n",
       " 'me enamore gente, después de ver full ch0las en stream me limpiastes los ojos',\n",
       " 'henry loyola como cuando te digo \"bebé se me ve bien\" o \"bebé buscame otra talla\" y tú no colaboras amor   emoji cara decepcionada emoji  emoji cara decepcionada emoji  emoji cara decepcionada emoji',\n",
       " 'esté cabeza de chancho  emoji nariz de cerdo emoji  burro',\n",
       " 'lo de los instrumentos musicales está muy cool  emoji señal de aprobación con la mano tono de piel claro emoji',\n",
       " 'andy lopez  emoji dorso de mano con índice a la derecha emoji  emoji dorso de mano con índice a la izquierda emoji  chanchito .. costillas emoji cara saboreando comida emoji',\n",
       " 'uy qué recuerdos , mi.madre que ya no está en este mundo , lo hacía ella.masaba  10 kilos en una tina con sus manitos y ella decía que la.masa estaba cuando salía globitos lo dejaba por horas haci se hinchaba la masa ni hablar de miel con hojas de higo eran los mejores picarones los de mi madre',\n",
       " \"danely mishell herrera carbajal no pasa nada con charlie's  emoji cara llorando de risa emoji\",\n",
       " 'andres hurtado mis felicitaciones para usted x  por decirle la verdad a  esta mujer cara de tuco como el le dijo no seas abusiva ya se pasan algunas personas de mierda  emoji caca con ojos emoji   emoji persona encogida de hombros emoji   6 hijos y nisiquiera tiene para darles una vida digna que horror',\n",
       " 'que monstruos son todos  emoji cara con mano sobre la boca emoji  emoji cara sacando la lengua y guiñando un ojo emoji  emoji cara revolviéndose de la risa emoji  emoji cara gritando de miedo emoji  el único que se apiola es el chino  emoji bandera china emoji  emoji hombre con gorro chino emoji  emoji cara sacando la lengua y guiñando un ojo emoji  emoji cara con mano sobre la boca emoji  emoji cara sonriendo con gafas de sol emoji  emoji manos levantadas celebrando emoji',\n",
       " 'un rico ceviche, helados a montón, los chupetes de fruta y obvio ir a la playa  emoji luna llena con cara emoji  emoji persona haciendo surf emoji  emoji amanecer emoji',\n",
       " 'eres un enfermo, conchatumadre',\n",
       " 'a ver, sé bacán conmigo pues, conchatumadre',\n",
       " 'jaja  emoji cara revolviéndose de la risa emoji  emoji cara revolviéndose de la risa emoji  emoji cara revolviéndose de la risa emoji  por las h... más tarde seguirá chupando',\n",
       " 'miguel angel pérez cuando todo mejore en nicaragua un negocio así  emoji cara sonriendo con ojos de corazón emoji  emoji cara sonriendo con ojos de corazón emoji',\n",
       " 'serrano, no la sueltes que a lo mejor se vuela',\n",
       " 'andrew vr al colorado, nosotros tenemos que llevarlo a una ruta gastronómica. se queda 3 días mínimo  emoji cara llorando de risa emoji',\n",
       " 'manos morenas que matan y puntoo emoji pentagrama emoji  emoji nota musical emoji  emoji nota musical emoji  emoji notas musicales emoji  emoji notas musicales emoji  los mejores tiempos en familia, madrugando con mi papá para ver los partidos!! las mejores jugadoras!! emoji corazón brillante emoji  emoji corazón brillante emoji  emoji corazón brillante emoji',\n",
       " 'esos que te mandaban al bica o trica csm  emoji cara llorando de risa emoji',\n",
       " 'si me casara con una japonesa se cumpliría uno de mis más grandes sueños, y de ser así no sería tan 1di0ta de engañarla, no por la multa, sino porque de verdad la querría, y ojalá esa esposa japonesa fuera tan bella como tu  emoji cara sonriendo con ojos de corazón emoji',\n",
       " 'no me gustan las chelas, jimmy',\n",
       " 'el único terruco es ese uniformado  general de choros. los delicuentes, asesinos y violadores siguen en la calles y este tarado piensa que estamos en paz ese tombillo párese que nunca sale de su comisaría a velar por la seguridad de los ciudadanos solo salen a pedir sus coimas a los transportistas emoji dorso de mano con índice a la izquierda emoji  emoji cara sonriendo con sudor frío emoji',\n",
       " 'mano tu eres emolientero? andy ruiz berdiales  emoji cara llorando de risa emoji',\n",
       " 'sin son buenazos y lo mejor k tambn tienen relleno de. chocolate  emoji cara saboreando comida emoji  emoji cara saboreando comida emoji  emoji cara saboreando comida emoji',\n",
       " 'quiere decir que estás fregado',\n",
       " 'nadie se mete a lesbiana o maricón, alexandra']"
      ]
     },
     "execution_count": 87,
     "metadata": {},
     "output_type": "execute_result"
    }
   ],
   "source": [
    "tokenized_ds['test']['text'][:30]"
   ]
  },
  {
   "cell_type": "code",
   "execution_count": 134,
   "id": "6c8f59ba-bb88-4992-ac2b-fbe58afe4158",
   "metadata": {},
   "outputs": [],
   "source": [
    "# encoded_data_test = tokenizer.batch_encode_plus(\n",
    "#     val_df.text.values, \n",
    "#     add_special_tokens=config.add_special_tokens, \n",
    "#     return_attention_mask=config.return_attention_mask, \n",
    "#     pad_to_max_length=config.pad_to_max_length,\n",
    "#     max_length=128, \n",
    "#     return_tensors=config.return_tensors\n",
    "# )"
   ]
  },
  {
   "cell_type": "code",
   "execution_count": 127,
   "id": "1b6b284f-e6f6-4232-a1f0-15bda7fc19b3",
   "metadata": {},
   "outputs": [],
   "source": [
    "test_df = ds['test'].to_pandas()"
   ]
  },
  {
   "cell_type": "code",
   "execution_count": null,
   "id": "926977d0",
   "metadata": {},
   "outputs": [],
   "source": [
    "#Evaluate the Model Qualitatively (Human Evaluation)"
   ]
  },
  {
   "cell_type": "code",
   "execution_count": null,
   "id": "7faa99dc",
   "metadata": {},
   "outputs": [],
   "source": [
    "#Evaluate the Model Quantitatively (with F1 Metric)"
   ]
  },
  {
   "cell_type": "code",
   "execution_count": 128,
   "id": "c839bdd5",
   "metadata": {},
   "outputs": [],
   "source": [
    "texts = test_df[0:20]['text']\n",
    "human_baseline_labels = test_df[0:20]['label']"
   ]
  },
  {
   "cell_type": "code",
   "execution_count": 129,
   "id": "0ebbb4a1",
   "metadata": {},
   "outputs": [
    {
     "data": {
      "text/plain": [
       "0     y cuantas chanchas habran hecho para la salvad...\n",
       "1                                   tremenda joyita 💜💜💜\n",
       "2     entre cabros se entienden altamirano gómez ala...\n",
       "3               chino llevalo al camal, a ese puerco 🤣🤣\n",
       "4            apoyo de 4 gato y un perro con virolo...🥲😅\n",
       "5     me enamore gente, después de ver full ch0las e...\n",
       "6     henry loyola como cuando te digo \"bebé se me v...\n",
       "7                        esté cabeza de chancho 🐽 burro\n",
       "8     lo de los instrumentos musicales está muy cool 👌🏻\n",
       "9                 andy lopez 👉👈 chanchito .. costillas😋\n",
       "10    uy qué recuerdos , mi.madre que ya no está en ...\n",
       "11    danely mishell herrera carbajal no pasa nada c...\n",
       "12    andres hurtado mis felicitaciones para usted x...\n",
       "13    que monstruos son todos 🤭😜🤣😱 el único que se a...\n",
       "14    un rico ceviche, helados a montón, los chupete...\n",
       "15                       eres un enfermo, conchatumadre\n",
       "16          a ver, sé bacán conmigo pues, conchatumadre\n",
       "17     jaja 🤣🤣🤣 por las h... más tarde seguirá chupando\n",
       "18    miguel angel pérez cuando todo mejore en nicar...\n",
       "19       serrano, no la sueltes que a lo mejor se vuela\n",
       "Name: text, dtype: object"
      ]
     },
     "execution_count": 129,
     "metadata": {},
     "output_type": "execute_result"
    }
   ],
   "source": [
    "texts"
   ]
  },
  {
   "cell_type": "code",
   "execution_count": 130,
   "id": "fb03153f",
   "metadata": {},
   "outputs": [
    {
     "data": {
      "text/plain": [
       "0     1\n",
       "1     0\n",
       "2     0\n",
       "3     0\n",
       "4     0\n",
       "5     2\n",
       "6     1\n",
       "7     0\n",
       "8     2\n",
       "9     2\n",
       "10    2\n",
       "11    0\n",
       "12    0\n",
       "13    0\n",
       "14    2\n",
       "15    0\n",
       "16    0\n",
       "17    0\n",
       "18    2\n",
       "19    0\n",
       "Name: label, dtype: int64"
      ]
     },
     "execution_count": 130,
     "metadata": {},
     "output_type": "execute_result"
    }
   ],
   "source": [
    "human_baseline_labels"
   ]
  },
  {
   "cell_type": "code",
   "execution_count": 131,
   "id": "b059373f-0e08-4361-852c-70604bf9753b",
   "metadata": {},
   "outputs": [],
   "source": [
    "def get_prediction(text):\n",
    "    input_ids = tokenizer(text, return_tensors=\"pt\", max_length=128).input_ids.to('cuda')\n",
    "    logits = model(input_ids).logits\n",
    "    probabilities = logits.softmax(dim=-1).tolist()[0]\n",
    "    return np.argmax(probabilities).flatten()[0]"
   ]
  },
  {
   "cell_type": "code",
   "execution_count": 133,
   "id": "ab8436a9",
   "metadata": {},
   "outputs": [],
   "source": [
    "#original_model_summaries = []\n",
    "model_classifications = []\n",
    "for _, text in enumerate(texts):\n",
    "    model_classifications.append(get_prediction(text))"
   ]
  },
  {
   "cell_type": "code",
   "execution_count": 84,
   "id": "8a1a671b",
   "metadata": {},
   "outputs": [
    {
     "data": {
      "text/plain": [
       "[0, 0, 1, 0, 1, 1, 0, 0, 1, 2, 1, 1, 1, 1, 1, 0, 0, 1, 0, 2]"
      ]
     },
     "execution_count": 84,
     "metadata": {},
     "output_type": "execute_result"
    }
   ],
   "source": [
    "model_classifications"
   ]
  },
  {
   "cell_type": "code",
   "execution_count": 148,
   "id": "d7bca6e6-8d63-479f-ba6f-c2ad91651097",
   "metadata": {},
   "outputs": [
    {
     "data": {
      "application/vnd.jupyter.widget-view+json": {
       "model_id": "6e438790519e4cb5ae6d811aea73b505",
       "version_major": 2,
       "version_minor": 0
      },
      "text/plain": [
       "  0%|          | 0/1899 [00:00<?, ?it/s]"
      ]
     },
     "metadata": {},
     "output_type": "display_data"
    }
   ],
   "source": [
    "# step by step predictions on dataframe\n",
    "# We do this to view predictions in the pandas dataframe and easily filter them and perform error analysis.\n",
    "pred_test_final = []\n",
    "\n",
    "for i, row in tqdm(test_df.iterrows(), total=test_df.shape[0]):\n",
    "    predictions = []\n",
    "\n",
    "    text = row[\"text\"]\n",
    "    encoded_data_test_single = tokenizer.batch_encode_plus([text], \n",
    "    # add_special_tokens=config.add_special_tokens, \n",
    "    # return_attention_mask=config.return_attention_mask, \n",
    "    # pad_to_max_length=config.pad_to_max_length, \n",
    "    max_length=128,\n",
    "    # return_tensors=config.return_tensors\n",
    "    return_tensors=\"pt\"\n",
    "    )\n",
    "    input_ids_test = encoded_data_test_single['input_ids']\n",
    "    attention_masks_test = encoded_data_test_single['attention_mask']\n",
    "\n",
    "    \n",
    "    inputs = {'input_ids':      input_ids_test.to(device),\n",
    "              'attention_mask':attention_masks_test.to(device),\n",
    "             }\n",
    "\n",
    "    with torch.no_grad():        \n",
    "        outputs = model(**inputs)\n",
    "    \n",
    "    logits = outputs[0]\n",
    "    logits = logits.detach().cpu().numpy()\n",
    "    predictions.append(logits)\n",
    "    predictions = np.concatenate(predictions, axis=0)\n",
    "    pred_test_final.append(np.argmax(predictions, axis=1).flatten()[0])"
   ]
  },
  {
   "cell_type": "code",
   "execution_count": 149,
   "id": "de58df71-e97b-42e0-afc0-409674e51192",
   "metadata": {},
   "outputs": [
    {
     "data": {
      "text/plain": [
       "1899"
      ]
     },
     "execution_count": 149,
     "metadata": {},
     "output_type": "execute_result"
    }
   ],
   "source": [
    "len(pred_test_final)"
   ]
  },
  {
   "cell_type": "code",
   "execution_count": 150,
   "id": "1158e288-2a2d-4d32-9f68-588bc045501c",
   "metadata": {},
   "outputs": [
    {
     "data": {
      "text/plain": [
       "17091"
      ]
     },
     "execution_count": 150,
     "metadata": {},
     "output_type": "execute_result"
    }
   ],
   "source": [
    "test_df.size"
   ]
  },
  {
   "cell_type": "code",
   "execution_count": 152,
   "id": "bd2006db-9289-4c59-87c7-0ee43eee7b8a",
   "metadata": {},
   "outputs": [],
   "source": [
    "# add pred into val_df\n",
    "test_df[\"pred\"] = pred_test_final"
   ]
  },
  {
   "cell_type": "code",
   "execution_count": 153,
   "id": "73271066-d333-43f8-a93c-7ccf08e0cf5a",
   "metadata": {},
   "outputs": [],
   "source": [
    "# label to intent mapping\n",
    "name2label = {\"Negative\":0,\n",
    "              \"Neutral\":1,\n",
    "             \"Positive\":2\n",
    "             }\n",
    "label2name = {v: k for k, v in name2label.items()}\n",
    "\n",
    "test_df[\"pred_name\"] = test_df.pred.apply(lambda x: label2name.get(x)) "
   ]
  },
  {
   "cell_type": "code",
   "execution_count": 155,
   "id": "3915dde3-c3e7-4bc7-9726-bc6ecce61968",
   "metadata": {},
   "outputs": [
    {
     "data": {
      "text/html": [
       "<div>\n",
       "<style scoped>\n",
       "    .dataframe tbody tr th:only-of-type {\n",
       "        vertical-align: middle;\n",
       "    }\n",
       "\n",
       "    .dataframe tbody tr th {\n",
       "        vertical-align: top;\n",
       "    }\n",
       "\n",
       "    .dataframe thead th {\n",
       "        text-align: right;\n",
       "    }\n",
       "</style>\n",
       "<table border=\"1\" class=\"dataframe\">\n",
       "  <thead>\n",
       "    <tr style=\"text-align: right;\">\n",
       "      <th></th>\n",
       "      <th>text</th>\n",
       "      <th>label</th>\n",
       "      <th>label_name</th>\n",
       "      <th>text_original</th>\n",
       "      <th>tokenized_text</th>\n",
       "      <th>sent_token_length</th>\n",
       "      <th>sent_bert_token_length</th>\n",
       "      <th>char_count</th>\n",
       "      <th>Character Count</th>\n",
       "      <th>pred</th>\n",
       "      <th>pred_name</th>\n",
       "    </tr>\n",
       "  </thead>\n",
       "  <tbody>\n",
       "    <tr>\n",
       "      <th>0</th>\n",
       "      <td>y cuantas chanchas habran hecho para la salvad...</td>\n",
       "      <td>1</td>\n",
       "      <td>Neutral</td>\n",
       "      <td>Y cuantas chanchas habran hecho para la salvad...</td>\n",
       "      <td>y cuantas chanchas habran hecho para la salvad...</td>\n",
       "      <td>11</td>\n",
       "      <td>15</td>\n",
       "      <td>70</td>\n",
       "      <td>70</td>\n",
       "      <td>1</td>\n",
       "      <td>Neutral</td>\n",
       "    </tr>\n",
       "    <tr>\n",
       "      <th>1</th>\n",
       "      <td>tremenda joyita 💜💜💜</td>\n",
       "      <td>0</td>\n",
       "      <td>Negative</td>\n",
       "      <td>Tremenda joyita 💜💜💜💜</td>\n",
       "      <td>tremenda joyita 💜💜💜</td>\n",
       "      <td>3</td>\n",
       "      <td>3</td>\n",
       "      <td>19</td>\n",
       "      <td>19</td>\n",
       "      <td>2</td>\n",
       "      <td>Positive</td>\n",
       "    </tr>\n",
       "    <tr>\n",
       "      <th>2</th>\n",
       "      <td>entre cabros se entienden altamirano gómez ala...</td>\n",
       "      <td>0</td>\n",
       "      <td>Negative</td>\n",
       "      <td>Entre cabros se entienden Altamirano Gómez Ala...</td>\n",
       "      <td>entre cabros se entienden altamirano gómez ala...</td>\n",
       "      <td>23</td>\n",
       "      <td>33</td>\n",
       "      <td>123</td>\n",
       "      <td>123</td>\n",
       "      <td>1</td>\n",
       "      <td>Neutral</td>\n",
       "    </tr>\n",
       "    <tr>\n",
       "      <th>3</th>\n",
       "      <td>chino llevalo al camal, a ese puerco 🤣🤣</td>\n",
       "      <td>0</td>\n",
       "      <td>Negative</td>\n",
       "      <td>Chino llevalo al camal, a ese puerco 🤣🤣</td>\n",
       "      <td>chino llevalo al camal  a ese puerco 🤣🤣</td>\n",
       "      <td>8</td>\n",
       "      <td>12</td>\n",
       "      <td>39</td>\n",
       "      <td>39</td>\n",
       "      <td>0</td>\n",
       "      <td>Negative</td>\n",
       "    </tr>\n",
       "    <tr>\n",
       "      <th>4</th>\n",
       "      <td>apoyo de 4 gato y un perro con virolo...🥲😅</td>\n",
       "      <td>0</td>\n",
       "      <td>Negative</td>\n",
       "      <td>Apoyo de 4 gato y un perro con virolo...🥲😅</td>\n",
       "      <td>apoyo de 4 gato y un perro con virolo   🥲😅</td>\n",
       "      <td>9</td>\n",
       "      <td>11</td>\n",
       "      <td>42</td>\n",
       "      <td>42</td>\n",
       "      <td>1</td>\n",
       "      <td>Neutral</td>\n",
       "    </tr>\n",
       "    <tr>\n",
       "      <th>...</th>\n",
       "      <td>...</td>\n",
       "      <td>...</td>\n",
       "      <td>...</td>\n",
       "      <td>...</td>\n",
       "      <td>...</td>\n",
       "      <td>...</td>\n",
       "      <td>...</td>\n",
       "      <td>...</td>\n",
       "      <td>...</td>\n",
       "      <td>...</td>\n",
       "      <td>...</td>\n",
       "    </tr>\n",
       "    <tr>\n",
       "      <th>1894</th>\n",
       "      <td>el loco wagner de grabación...🤔🤔🤔</td>\n",
       "      <td>1</td>\n",
       "      <td>Neutral</td>\n",
       "      <td>El loco Wagner de grabación...🤔🤔🤔🤔</td>\n",
       "      <td>el loco wagner de grabación   🤔🤔🤔</td>\n",
       "      <td>5</td>\n",
       "      <td>8</td>\n",
       "      <td>33</td>\n",
       "      <td>33</td>\n",
       "      <td>1</td>\n",
       "      <td>Neutral</td>\n",
       "    </tr>\n",
       "    <tr>\n",
       "      <th>1895</th>\n",
       "      <td>como le vas a quebrar la cintura al cuevita, s...</td>\n",
       "      <td>2</td>\n",
       "      <td>Positive</td>\n",
       "      <td>Como le vas a quebrar la cintura al Cuevita, s...</td>\n",
       "      <td>como le vas a quebrar la cintura al cuevita  s...</td>\n",
       "      <td>18</td>\n",
       "      <td>21</td>\n",
       "      <td>98</td>\n",
       "      <td>98</td>\n",
       "      <td>0</td>\n",
       "      <td>Negative</td>\n",
       "    </tr>\n",
       "    <tr>\n",
       "      <th>1896</th>\n",
       "      <td>mi  luca bello 🥳️🤗. excellente receta. 😍</td>\n",
       "      <td>2</td>\n",
       "      <td>Positive</td>\n",
       "      <td>Mi  Luca bello 🥳❤️🤗. Excellente receta. 😍</td>\n",
       "      <td>mi  luca bello 🥳️🤗  excellente receta  😍</td>\n",
       "      <td>7</td>\n",
       "      <td>11</td>\n",
       "      <td>40</td>\n",
       "      <td>40</td>\n",
       "      <td>2</td>\n",
       "      <td>Positive</td>\n",
       "    </tr>\n",
       "    <tr>\n",
       "      <th>1897</th>\n",
       "      <td>just lo maximo son caritos pero vale la pena d...</td>\n",
       "      <td>1</td>\n",
       "      <td>Neutral</td>\n",
       "      <td>JUST LO MAXIMO SON CARITOS PERO VALE LA PENA D...</td>\n",
       "      <td>just lo maximo son caritos pero vale la pena d...</td>\n",
       "      <td>14</td>\n",
       "      <td>15</td>\n",
       "      <td>72</td>\n",
       "      <td>72</td>\n",
       "      <td>2</td>\n",
       "      <td>Positive</td>\n",
       "    </tr>\n",
       "    <tr>\n",
       "      <th>1898</th>\n",
       "      <td>subir al mirador da miedito te cuadran te mete...</td>\n",
       "      <td>0</td>\n",
       "      <td>Negative</td>\n",
       "      <td>Subir al mirador da miedito te cuadran te mete...</td>\n",
       "      <td>subir al mirador da miedito te cuadran te mete...</td>\n",
       "      <td>11</td>\n",
       "      <td>14</td>\n",
       "      <td>59</td>\n",
       "      <td>59</td>\n",
       "      <td>0</td>\n",
       "      <td>Negative</td>\n",
       "    </tr>\n",
       "  </tbody>\n",
       "</table>\n",
       "<p>1899 rows × 11 columns</p>\n",
       "</div>"
      ],
      "text/plain": [
       "                                                   text  label label_name  \\\n",
       "0     y cuantas chanchas habran hecho para la salvad...      1    Neutral   \n",
       "1                                   tremenda joyita 💜💜💜      0   Negative   \n",
       "2     entre cabros se entienden altamirano gómez ala...      0   Negative   \n",
       "3               chino llevalo al camal, a ese puerco 🤣🤣      0   Negative   \n",
       "4            apoyo de 4 gato y un perro con virolo...🥲😅      0   Negative   \n",
       "...                                                 ...    ...        ...   \n",
       "1894                  el loco wagner de grabación...🤔🤔🤔      1    Neutral   \n",
       "1895  como le vas a quebrar la cintura al cuevita, s...      2   Positive   \n",
       "1896           mi  luca bello 🥳️🤗. excellente receta. 😍      2   Positive   \n",
       "1897  just lo maximo son caritos pero vale la pena d...      1    Neutral   \n",
       "1898  subir al mirador da miedito te cuadran te mete...      0   Negative   \n",
       "\n",
       "                                          text_original  \\\n",
       "0     Y cuantas chanchas habran hecho para la salvad...   \n",
       "1                                  Tremenda joyita 💜💜💜💜   \n",
       "2     Entre cabros se entienden Altamirano Gómez Ala...   \n",
       "3               Chino llevalo al camal, a ese puerco 🤣🤣   \n",
       "4            Apoyo de 4 gato y un perro con virolo...🥲😅   \n",
       "...                                                 ...   \n",
       "1894                 El loco Wagner de grabación...🤔🤔🤔🤔   \n",
       "1895  Como le vas a quebrar la cintura al Cuevita, s...   \n",
       "1896          Mi  Luca bello 🥳❤️🤗. Excellente receta. 😍   \n",
       "1897  JUST LO MAXIMO SON CARITOS PERO VALE LA PENA D...   \n",
       "1898  Subir al mirador da miedito te cuadran te mete...   \n",
       "\n",
       "                                         tokenized_text  sent_token_length  \\\n",
       "0     y cuantas chanchas habran hecho para la salvad...                 11   \n",
       "1                                   tremenda joyita 💜💜💜                  3   \n",
       "2     entre cabros se entienden altamirano gómez ala...                 23   \n",
       "3               chino llevalo al camal  a ese puerco 🤣🤣                  8   \n",
       "4            apoyo de 4 gato y un perro con virolo   🥲😅                  9   \n",
       "...                                                 ...                ...   \n",
       "1894                  el loco wagner de grabación   🤔🤔🤔                  5   \n",
       "1895  como le vas a quebrar la cintura al cuevita  s...                 18   \n",
       "1896           mi  luca bello 🥳️🤗  excellente receta  😍                  7   \n",
       "1897  just lo maximo son caritos pero vale la pena d...                 14   \n",
       "1898  subir al mirador da miedito te cuadran te mete...                 11   \n",
       "\n",
       "      sent_bert_token_length  char_count  Character Count  pred pred_name  \n",
       "0                         15          70               70     1   Neutral  \n",
       "1                          3          19               19     2  Positive  \n",
       "2                         33         123              123     1   Neutral  \n",
       "3                         12          39               39     0  Negative  \n",
       "4                         11          42               42     1   Neutral  \n",
       "...                      ...         ...              ...   ...       ...  \n",
       "1894                       8          33               33     1   Neutral  \n",
       "1895                      21          98               98     0  Negative  \n",
       "1896                      11          40               40     2  Positive  \n",
       "1897                      15          72               72     2  Positive  \n",
       "1898                      14          59               59     0  Negative  \n",
       "\n",
       "[1899 rows x 11 columns]"
      ]
     },
     "execution_count": 155,
     "metadata": {},
     "output_type": "execute_result"
    }
   ],
   "source": [
    "test_df"
   ]
  },
  {
   "cell_type": "code",
   "execution_count": 168,
   "id": "d1d80690-9f0f-4f27-8924-c9cf33543000",
   "metadata": {},
   "outputs": [
    {
     "data": {
      "image/png": "[encoded data removed]",
      "text/plain": [
       "<Figure size 800x700 with 2 Axes>"
      ]
     },
     "metadata": {},
     "output_type": "display_data"
    }
   ],
   "source": [
    "from sklearn.svm import SVC\n",
    "from sklearn.metrics import confusion_matrix\n",
    "import seaborn as sns\n",
    "import matplotlib.pyplot as plt\n",
    "\n",
    "pred_name_values = test_df.pred_name.values\n",
    "label_values = test_df.label_name.values\n",
    "cm = confusion_matrix(label_values, pred_name_values)\n",
    "cm_df = pd.DataFrame(cm,\n",
    "                     index = ['Negative','Neutral','Positive'], \n",
    "                     columns = ['Negative','Neutral','Positive'])\n",
    "plt.figure(figsize=(8,7))\n",
    "sns.heatmap(cm_df, annot=True,fmt=\".0f\")\n",
    "plt.title('Confusion Matrix')\n",
    "plt.ylabel('Actual Values')\n",
    "plt.xlabel('Predicted Values')\n",
    "plt.savefig('cm_test_predictions.png')\n",
    "plt.show()"
   ]
  },
  {
   "cell_type": "code",
   "execution_count": 162,
   "id": "8496167a-614e-48cc-80f0-d6831caba303",
   "metadata": {},
   "outputs": [
    {
     "data": {
      "text/html": [
       "<div>\n",
       "<style scoped>\n",
       "    .dataframe tbody tr th:only-of-type {\n",
       "        vertical-align: middle;\n",
       "    }\n",
       "\n",
       "    .dataframe tbody tr th {\n",
       "        vertical-align: top;\n",
       "    }\n",
       "\n",
       "    .dataframe thead th {\n",
       "        text-align: right;\n",
       "    }\n",
       "</style>\n",
       "<table border=\"1\" class=\"dataframe\">\n",
       "  <thead>\n",
       "    <tr style=\"text-align: right;\">\n",
       "      <th></th>\n",
       "      <th>text</th>\n",
       "      <th>label</th>\n",
       "      <th>label_name</th>\n",
       "      <th>text_original</th>\n",
       "      <th>tokenized_text</th>\n",
       "      <th>sent_token_length</th>\n",
       "      <th>sent_bert_token_length</th>\n",
       "      <th>char_count</th>\n",
       "      <th>Character Count</th>\n",
       "      <th>pred</th>\n",
       "      <th>pred_name</th>\n",
       "    </tr>\n",
       "  </thead>\n",
       "  <tbody>\n",
       "    <tr>\n",
       "      <th>0</th>\n",
       "      <td>y cuantas chanchas habran hecho para la salvad...</td>\n",
       "      <td>1</td>\n",
       "      <td>Neutral</td>\n",
       "      <td>Y cuantas chanchas habran hecho para la salvad...</td>\n",
       "      <td>y cuantas chanchas habran hecho para la salvad...</td>\n",
       "      <td>11</td>\n",
       "      <td>15</td>\n",
       "      <td>70</td>\n",
       "      <td>70</td>\n",
       "      <td>1</td>\n",
       "      <td>Neutral</td>\n",
       "    </tr>\n",
       "    <tr>\n",
       "      <th>1</th>\n",
       "      <td>tremenda joyita 💜💜💜</td>\n",
       "      <td>0</td>\n",
       "      <td>Negative</td>\n",
       "      <td>Tremenda joyita 💜💜💜💜</td>\n",
       "      <td>tremenda joyita 💜💜💜</td>\n",
       "      <td>3</td>\n",
       "      <td>3</td>\n",
       "      <td>19</td>\n",
       "      <td>19</td>\n",
       "      <td>2</td>\n",
       "      <td>Positive</td>\n",
       "    </tr>\n",
       "    <tr>\n",
       "      <th>2</th>\n",
       "      <td>entre cabros se entienden altamirano gómez ala...</td>\n",
       "      <td>0</td>\n",
       "      <td>Negative</td>\n",
       "      <td>Entre cabros se entienden Altamirano Gómez Ala...</td>\n",
       "      <td>entre cabros se entienden altamirano gómez ala...</td>\n",
       "      <td>23</td>\n",
       "      <td>33</td>\n",
       "      <td>123</td>\n",
       "      <td>123</td>\n",
       "      <td>1</td>\n",
       "      <td>Neutral</td>\n",
       "    </tr>\n",
       "    <tr>\n",
       "      <th>3</th>\n",
       "      <td>chino llevalo al camal, a ese puerco 🤣🤣</td>\n",
       "      <td>0</td>\n",
       "      <td>Negative</td>\n",
       "      <td>Chino llevalo al camal, a ese puerco 🤣🤣</td>\n",
       "      <td>chino llevalo al camal  a ese puerco 🤣🤣</td>\n",
       "      <td>8</td>\n",
       "      <td>12</td>\n",
       "      <td>39</td>\n",
       "      <td>39</td>\n",
       "      <td>0</td>\n",
       "      <td>Negative</td>\n",
       "    </tr>\n",
       "    <tr>\n",
       "      <th>4</th>\n",
       "      <td>apoyo de 4 gato y un perro con virolo...🥲😅</td>\n",
       "      <td>0</td>\n",
       "      <td>Negative</td>\n",
       "      <td>Apoyo de 4 gato y un perro con virolo...🥲😅</td>\n",
       "      <td>apoyo de 4 gato y un perro con virolo   🥲😅</td>\n",
       "      <td>9</td>\n",
       "      <td>11</td>\n",
       "      <td>42</td>\n",
       "      <td>42</td>\n",
       "      <td>1</td>\n",
       "      <td>Neutral</td>\n",
       "    </tr>\n",
       "    <tr>\n",
       "      <th>...</th>\n",
       "      <td>...</td>\n",
       "      <td>...</td>\n",
       "      <td>...</td>\n",
       "      <td>...</td>\n",
       "      <td>...</td>\n",
       "      <td>...</td>\n",
       "      <td>...</td>\n",
       "      <td>...</td>\n",
       "      <td>...</td>\n",
       "      <td>...</td>\n",
       "      <td>...</td>\n",
       "    </tr>\n",
       "    <tr>\n",
       "      <th>1894</th>\n",
       "      <td>el loco wagner de grabación...🤔🤔🤔</td>\n",
       "      <td>1</td>\n",
       "      <td>Neutral</td>\n",
       "      <td>El loco Wagner de grabación...🤔🤔🤔🤔</td>\n",
       "      <td>el loco wagner de grabación   🤔🤔🤔</td>\n",
       "      <td>5</td>\n",
       "      <td>8</td>\n",
       "      <td>33</td>\n",
       "      <td>33</td>\n",
       "      <td>1</td>\n",
       "      <td>Neutral</td>\n",
       "    </tr>\n",
       "    <tr>\n",
       "      <th>1895</th>\n",
       "      <td>como le vas a quebrar la cintura al cuevita, s...</td>\n",
       "      <td>2</td>\n",
       "      <td>Positive</td>\n",
       "      <td>Como le vas a quebrar la cintura al Cuevita, s...</td>\n",
       "      <td>como le vas a quebrar la cintura al cuevita  s...</td>\n",
       "      <td>18</td>\n",
       "      <td>21</td>\n",
       "      <td>98</td>\n",
       "      <td>98</td>\n",
       "      <td>0</td>\n",
       "      <td>Negative</td>\n",
       "    </tr>\n",
       "    <tr>\n",
       "      <th>1896</th>\n",
       "      <td>mi  luca bello 🥳️🤗. excellente receta. 😍</td>\n",
       "      <td>2</td>\n",
       "      <td>Positive</td>\n",
       "      <td>Mi  Luca bello 🥳❤️🤗. Excellente receta. 😍</td>\n",
       "      <td>mi  luca bello 🥳️🤗  excellente receta  😍</td>\n",
       "      <td>7</td>\n",
       "      <td>11</td>\n",
       "      <td>40</td>\n",
       "      <td>40</td>\n",
       "      <td>2</td>\n",
       "      <td>Positive</td>\n",
       "    </tr>\n",
       "    <tr>\n",
       "      <th>1897</th>\n",
       "      <td>just lo maximo son caritos pero vale la pena d...</td>\n",
       "      <td>1</td>\n",
       "      <td>Neutral</td>\n",
       "      <td>JUST LO MAXIMO SON CARITOS PERO VALE LA PENA D...</td>\n",
       "      <td>just lo maximo son caritos pero vale la pena d...</td>\n",
       "      <td>14</td>\n",
       "      <td>15</td>\n",
       "      <td>72</td>\n",
       "      <td>72</td>\n",
       "      <td>2</td>\n",
       "      <td>Positive</td>\n",
       "    </tr>\n",
       "    <tr>\n",
       "      <th>1898</th>\n",
       "      <td>subir al mirador da miedito te cuadran te mete...</td>\n",
       "      <td>0</td>\n",
       "      <td>Negative</td>\n",
       "      <td>Subir al mirador da miedito te cuadran te mete...</td>\n",
       "      <td>subir al mirador da miedito te cuadran te mete...</td>\n",
       "      <td>11</td>\n",
       "      <td>14</td>\n",
       "      <td>59</td>\n",
       "      <td>59</td>\n",
       "      <td>0</td>\n",
       "      <td>Negative</td>\n",
       "    </tr>\n",
       "  </tbody>\n",
       "</table>\n",
       "<p>1899 rows × 11 columns</p>\n",
       "</div>"
      ],
      "text/plain": [
       "                                                   text  label label_name  \\\n",
       "0     y cuantas chanchas habran hecho para la salvad...      1    Neutral   \n",
       "1                                   tremenda joyita 💜💜💜      0   Negative   \n",
       "2     entre cabros se entienden altamirano gómez ala...      0   Negative   \n",
       "3               chino llevalo al camal, a ese puerco 🤣🤣      0   Negative   \n",
       "4            apoyo de 4 gato y un perro con virolo...🥲😅      0   Negative   \n",
       "...                                                 ...    ...        ...   \n",
       "1894                  el loco wagner de grabación...🤔🤔🤔      1    Neutral   \n",
       "1895  como le vas a quebrar la cintura al cuevita, s...      2   Positive   \n",
       "1896           mi  luca bello 🥳️🤗. excellente receta. 😍      2   Positive   \n",
       "1897  just lo maximo son caritos pero vale la pena d...      1    Neutral   \n",
       "1898  subir al mirador da miedito te cuadran te mete...      0   Negative   \n",
       "\n",
       "                                          text_original  \\\n",
       "0     Y cuantas chanchas habran hecho para la salvad...   \n",
       "1                                  Tremenda joyita 💜💜💜💜   \n",
       "2     Entre cabros se entienden Altamirano Gómez Ala...   \n",
       "3               Chino llevalo al camal, a ese puerco 🤣🤣   \n",
       "4            Apoyo de 4 gato y un perro con virolo...🥲😅   \n",
       "...                                                 ...   \n",
       "1894                 El loco Wagner de grabación...🤔🤔🤔🤔   \n",
       "1895  Como le vas a quebrar la cintura al Cuevita, s...   \n",
       "1896          Mi  Luca bello 🥳❤️🤗. Excellente receta. 😍   \n",
       "1897  JUST LO MAXIMO SON CARITOS PERO VALE LA PENA D...   \n",
       "1898  Subir al mirador da miedito te cuadran te mete...   \n",
       "\n",
       "                                         tokenized_text  sent_token_length  \\\n",
       "0     y cuantas chanchas habran hecho para la salvad...                 11   \n",
       "1                                   tremenda joyita 💜💜💜                  3   \n",
       "2     entre cabros se entienden altamirano gómez ala...                 23   \n",
       "3               chino llevalo al camal  a ese puerco 🤣🤣                  8   \n",
       "4            apoyo de 4 gato y un perro con virolo   🥲😅                  9   \n",
       "...                                                 ...                ...   \n",
       "1894                  el loco wagner de grabación   🤔🤔🤔                  5   \n",
       "1895  como le vas a quebrar la cintura al cuevita  s...                 18   \n",
       "1896           mi  luca bello 🥳️🤗  excellente receta  😍                  7   \n",
       "1897  just lo maximo son caritos pero vale la pena d...                 14   \n",
       "1898  subir al mirador da miedito te cuadran te mete...                 11   \n",
       "\n",
       "      sent_bert_token_length  char_count  Character Count  pred pred_name  \n",
       "0                         15          70               70     1   Neutral  \n",
       "1                          3          19               19     2  Positive  \n",
       "2                         33         123              123     1   Neutral  \n",
       "3                         12          39               39     0  Negative  \n",
       "4                         11          42               42     1   Neutral  \n",
       "...                      ...         ...              ...   ...       ...  \n",
       "1894                       8          33               33     1   Neutral  \n",
       "1895                      21          98               98     0  Negative  \n",
       "1896                      11          40               40     2  Positive  \n",
       "1897                      15          72               72     2  Positive  \n",
       "1898                      14          59               59     0  Negative  \n",
       "\n",
       "[1899 rows x 11 columns]"
      ]
     },
     "execution_count": 162,
     "metadata": {},
     "output_type": "execute_result"
    }
   ],
   "source": [
    "test_df"
   ]
  },
  {
   "cell_type": "code",
   "execution_count": 163,
   "id": "7a7ea14e-257c-4b37-8688-4444c7388a2d",
   "metadata": {},
   "outputs": [],
   "source": [
    "test_df.to_csv('test_inference.csv', columns=['text', 'label','label_name', 'char_count', 'pred', 'pred_name'])"
   ]
  },
  {
   "cell_type": "code",
   "execution_count": null,
   "id": "b1d2ccd3-00d9-4657-9fbd-4c72cf38ace8",
   "metadata": {},
   "outputs": [],
   "source": []
  }
 ],
 "metadata": {
  "kernelspec": {
   "display_name": "Python 3 (ipykernel)",
   "language": "python",
   "name": "python3"
  },
  "language_info": {
   "codemirror_mode": {
    "name": "ipython",
    "version": 3
   },
   "file_extension": ".py",
   "mimetype": "text/x-python",
   "name": "python",
   "nbconvert_exporter": "python",
   "pygments_lexer": "ipython3",
   "version": "3.10.13"
  }
 },
 "nbformat": 4,
 "nbformat_minor": 5
}
