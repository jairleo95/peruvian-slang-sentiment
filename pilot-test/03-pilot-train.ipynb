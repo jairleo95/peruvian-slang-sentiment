{
 "cells": [
  {
   "cell_type": "code",
   "execution_count": 1,
   "id": "de09e411",
   "metadata": {},
   "outputs": [
    {
     "name": "stderr",
     "output_type": "stream",
     "text": [
      "2024-04-08 18:49:51.625509: I external/local_tsl/tsl/cuda/cudart_stub.cc:31] Could not find cuda drivers on your machine, GPU will not be used.\n",
      "2024-04-08 18:49:51.660020: E external/local_xla/xla/stream_executor/cuda/cuda_dnn.cc:9261] Unable to register cuDNN factory: Attempting to register factory for plugin cuDNN when one has already been registered\n",
      "2024-04-08 18:49:51.660049: E external/local_xla/xla/stream_executor/cuda/cuda_fft.cc:607] Unable to register cuFFT factory: Attempting to register factory for plugin cuFFT when one has already been registered\n",
      "2024-04-08 18:49:51.661154: E external/local_xla/xla/stream_executor/cuda/cuda_blas.cc:1515] Unable to register cuBLAS factory: Attempting to register factory for plugin cuBLAS when one has already been registered\n",
      "2024-04-08 18:49:51.667025: I tensorflow/core/platform/cpu_feature_guard.cc:182] This TensorFlow binary is optimized to use available CPU instructions in performance-critical operations.\n",
      "To enable the following instructions: AVX2 FMA, in other operations, rebuild TensorFlow with the appropriate compiler flags.\n",
      "2024-04-08 18:49:52.269821: W tensorflow/compiler/tf2tensorrt/utils/py_utils.cc:38] TF-TRT Warning: Could not find TensorRT\n"
     ]
    }
   ],
   "source": [
    "import torch\n",
    "import pandas as pd\n",
    "import datasets\n",
    "import evaluate\n",
    "import numpy as np\n",
    "from datasets import load_dataset\n",
    "import ipywidgets as widgets\n",
    "from transformers import TrainingArguments, Trainer, DataCollatorWithPadding\n",
    "from transformers import AutoModelForSequenceClassification, AutoTokenizer\n",
    "\n",
    "from pysentimiento.preprocessing import preprocess_tweet\n",
    "from sklearn.metrics import classification_report\n",
    "\n",
    "from tqdm.notebook import tqdm\n",
    "from sklearn.metrics import confusion_matrix\n"
   ]
  },
  {
   "cell_type": "code",
   "execution_count": 2,
   "id": "5af36065",
   "metadata": {},
   "outputs": [],
   "source": [
    "#pip install torch==2.0.0\n",
    "#pip install pysentimiento==0.7.2\n",
    "#pip install evaluate==0.4.0\n",
    "#pip install datasets==2.14.5\n",
    "#!pip install unidecode"
   ]
  },
  {
   "cell_type": "code",
   "execution_count": 3,
   "id": "bbffc10f-3389-44e6-b810-260a1d5415f7",
   "metadata": {},
   "outputs": [],
   "source": [
    "#!pip install pysentimiento transformers datasets accelerate evaluate"
   ]
  },
  {
   "cell_type": "code",
   "execution_count": 4,
   "id": "9604c3af-87e2-4977-9983-534dd7248e59",
   "metadata": {},
   "outputs": [],
   "source": [
    "#https://huggingface.co/docs/evaluate/base_evaluator"
   ]
  },
  {
   "cell_type": "code",
   "execution_count": 5,
   "id": "50344bf0-03df-4017-b9ae-c37285b8825b",
   "metadata": {},
   "outputs": [],
   "source": [
    "#Three versions of RoBERTuito were\n",
    "#trained: a cased version which preserves the case found\n",
    "#in the original tweets, an uncased version, and a deacc\n",
    "#version, which lower-cases and removes accents on\n",
    "#tweets."
   ]
  },
  {
   "cell_type": "code",
   "execution_count": 6,
   "id": "a001ba7d",
   "metadata": {},
   "outputs": [],
   "source": [
    "#Helper Functions"
   ]
  },
  {
   "cell_type": "code",
   "execution_count": 7,
   "id": "5ba02255",
   "metadata": {},
   "outputs": [],
   "source": [
    "# label to name\n",
    "def label2name(x):\n",
    "    if x == 0:\n",
    "        return \"Negative\"\n",
    "    if x == 1:\n",
    "        return \"Neutral\"\n",
    "    if x == 2:\n",
    "        return \"Positive\""
   ]
  },
  {
   "cell_type": "code",
   "execution_count": 8,
   "id": "6d3164a0-faf4-4a4d-8a78-17b40b00c3f1",
   "metadata": {
    "tags": []
   },
   "outputs": [],
   "source": [
    "\n",
    "f1_metric = evaluate.load(\"f1\")\n",
    "recall_metric = evaluate.load(\"recall\")\n",
    "\n",
    "def compute_metrics (eval_pred):\n",
    "    logits, labels = eval_pred\n",
    "    preds = np.argmax(logits, axis = -1)\n",
    "    \n",
    "    results = {}\n",
    "    results.update(f1_metric.compute(predictions=preds, references = labels, average=\"macro\"))\n",
    "    results.update(recall_metric.compute(predictions=preds, references = labels, average=\"macro\"))\n",
    "    return results"
   ]
  },
  {
   "cell_type": "code",
   "execution_count": 9,
   "id": "0bd8b7bc-ed54-4e65-ba9a-d2835b1abca8",
   "metadata": {
    "tags": []
   },
   "outputs": [],
   "source": [
    "#Read Data"
   ]
  },
  {
   "cell_type": "code",
   "execution_count": 10,
   "id": "90c97202-c5c6-484f-850a-46a9ee552251",
   "metadata": {
    "tags": []
   },
   "outputs": [],
   "source": [
    "data_files = {\"train\": \"data/train.csv\", \"validation\": \"data/val.csv\", \"test\": \"data/test.csv\"}\n",
    "ds = load_dataset(\"csv\", data_files=data_files)"
   ]
  },
  {
   "cell_type": "code",
   "execution_count": 11,
   "id": "8087bffe-c868-4323-90f0-4c6951f4fb5c",
   "metadata": {
    "scrolled": true,
    "tags": []
   },
   "outputs": [
    {
     "data": {
      "text/plain": [
       "DatasetDict({\n",
       "    train: Dataset({\n",
       "        features: ['text', 'label', 'label_name', 'text_original', 'tokenized_text', 'sent_token_length', 'sent_bert_token_length', 'char_count', 'Character Count'],\n",
       "        num_rows: 7594\n",
       "    })\n",
       "    validation: Dataset({\n",
       "        features: ['text', 'label', 'label_name', 'text_original', 'tokenized_text', 'sent_token_length', 'sent_bert_token_length', 'char_count', 'Character Count'],\n",
       "        num_rows: 2374\n",
       "    })\n",
       "    test: Dataset({\n",
       "        features: ['text', 'label', 'label_name', 'text_original', 'tokenized_text', 'sent_token_length', 'sent_bert_token_length', 'char_count', 'Character Count'],\n",
       "        num_rows: 1899\n",
       "    })\n",
       "})"
      ]
     },
     "execution_count": 11,
     "metadata": {},
     "output_type": "execute_result"
    }
   ],
   "source": [
    "ds"
   ]
  },
  {
   "cell_type": "code",
   "execution_count": 12,
   "id": "a3ca4ba6",
   "metadata": {},
   "outputs": [],
   "source": [
    "#push to hugging face"
   ]
  },
  {
   "cell_type": "code",
   "execution_count": 13,
   "id": "65695826-cdf5-4338-a815-15b7de7f4abb",
   "metadata": {},
   "outputs": [],
   "source": [
    "#https://huggingface.co/settings/tokens"
   ]
  },
  {
   "cell_type": "code",
   "execution_count": 14,
   "id": "051a1e13-5030-4627-8a36-2326307dcf6b",
   "metadata": {},
   "outputs": [],
   "source": [
    "# from huggingface_hub import notebook_login\n",
    "# notebook_login()"
   ]
  },
  {
   "cell_type": "code",
   "execution_count": 15,
   "id": "54b258b3-1cfc-4e6b-b7fa-fe02996400c4",
   "metadata": {},
   "outputs": [],
   "source": [
    "#ds.push_to_hub(\"jairleo95/social-media-peruvian-sentiment\")"
   ]
  },
  {
   "cell_type": "code",
   "execution_count": 16,
   "id": "0c7abe81-d2ab-49c3-92bf-6c6e36d5d852",
   "metadata": {},
   "outputs": [
    {
     "data": {
      "text/plain": [
       "{'text': Value(dtype='string', id=None),\n",
       " 'label': Value(dtype='int64', id=None),\n",
       " 'label_name': Value(dtype='string', id=None),\n",
       " 'text_original': Value(dtype='string', id=None),\n",
       " 'tokenized_text': Value(dtype='string', id=None),\n",
       " 'sent_token_length': Value(dtype='int64', id=None),\n",
       " 'sent_bert_token_length': Value(dtype='int64', id=None),\n",
       " 'char_count': Value(dtype='int64', id=None),\n",
       " 'Character Count': Value(dtype='int64', id=None)}"
      ]
     },
     "execution_count": 16,
     "metadata": {},
     "output_type": "execute_result"
    }
   ],
   "source": [
    "ds[\"train\"].features"
   ]
  },
  {
   "cell_type": "code",
   "execution_count": 17,
   "id": "9a33842b-42eb-4966-8b48-f3dd7e1aeb33",
   "metadata": {},
   "outputs": [
    {
     "data": {
      "text/plain": [
       "[1, 0, 0, 0, 0, 2, 1, 0, 2, 2]"
      ]
     },
     "execution_count": 17,
     "metadata": {},
     "output_type": "execute_result"
    }
   ],
   "source": [
    "ds[\"test\"][\"label\"][:10]"
   ]
  },
  {
   "cell_type": "code",
   "execution_count": 18,
   "id": "68d24890",
   "metadata": {},
   "outputs": [
    {
     "data": {
      "text/html": [
       "<div>\n",
       "<style scoped>\n",
       "    .dataframe tbody tr th:only-of-type {\n",
       "        vertical-align: middle;\n",
       "    }\n",
       "\n",
       "    .dataframe tbody tr th {\n",
       "        vertical-align: top;\n",
       "    }\n",
       "\n",
       "    .dataframe thead th {\n",
       "        text-align: right;\n",
       "    }\n",
       "</style>\n",
       "<table border=\"1\" class=\"dataframe\">\n",
       "  <thead>\n",
       "    <tr style=\"text-align: right;\">\n",
       "      <th></th>\n",
       "      <th>text</th>\n",
       "      <th>label</th>\n",
       "      <th>label_name</th>\n",
       "      <th>text_original</th>\n",
       "      <th>tokenized_text</th>\n",
       "      <th>sent_token_length</th>\n",
       "      <th>sent_bert_token_length</th>\n",
       "      <th>char_count</th>\n",
       "      <th>Character Count</th>\n",
       "    </tr>\n",
       "  </thead>\n",
       "  <tbody>\n",
       "    <tr>\n",
       "      <th>0</th>\n",
       "      <td>no yuli con eso se va con pendeivis 😞</td>\n",
       "      <td>1</td>\n",
       "      <td>Neutral</td>\n",
       "      <td>No Yuli con eso se va con pendeivis 😞</td>\n",
       "      <td>no yuli con eso se va con pendeivis 😞</td>\n",
       "      <td>9</td>\n",
       "      <td>12</td>\n",
       "      <td>37</td>\n",
       "      <td>37</td>\n",
       "    </tr>\n",
       "    <tr>\n",
       "      <th>1</th>\n",
       "      <td>este es más bruto... cosas que necesita el  pe...</td>\n",
       "      <td>0</td>\n",
       "      <td>Negative</td>\n",
       "      <td>Este es más bruto... Cosas que necesita el  Pe...</td>\n",
       "      <td>este es más bruto    cosas que necesita el  pe...</td>\n",
       "      <td>27</td>\n",
       "      <td>35</td>\n",
       "      <td>144</td>\n",
       "      <td>144</td>\n",
       "    </tr>\n",
       "    <tr>\n",
       "      <th>2</th>\n",
       "      <td>bakan tu video pero el chambar es riko pero pa...</td>\n",
       "      <td>2</td>\n",
       "      <td>Positive</td>\n",
       "      <td>Bakan tu video pero el chambar es riko pero pa...</td>\n",
       "      <td>bakan tu video pero el chambar es riko pero pa...</td>\n",
       "      <td>53</td>\n",
       "      <td>67</td>\n",
       "      <td>267</td>\n",
       "      <td>267</td>\n",
       "    </tr>\n",
       "    <tr>\n",
       "      <th>3</th>\n",
       "      <td>no sabes que hacer para llamar la atención par...</td>\n",
       "      <td>0</td>\n",
       "      <td>Negative</td>\n",
       "      <td>no sabes que hacer para llamar la atención par...</td>\n",
       "      <td>no sabes que hacer para llamar la atención par...</td>\n",
       "      <td>18</td>\n",
       "      <td>20</td>\n",
       "      <td>93</td>\n",
       "      <td>93</td>\n",
       "    </tr>\n",
       "    <tr>\n",
       "      <th>4</th>\n",
       "      <td>pe chino dame chamba mano, almenos pa limpiart...</td>\n",
       "      <td>1</td>\n",
       "      <td>Neutral</td>\n",
       "      <td>Pe CHINO DAME CHAMBA MANO, ALMENOS PA LIMPIART...</td>\n",
       "      <td>pe chino dame chamba mano  almenos pa limpiart...</td>\n",
       "      <td>11</td>\n",
       "      <td>14</td>\n",
       "      <td>61</td>\n",
       "      <td>61</td>\n",
       "    </tr>\n",
       "  </tbody>\n",
       "</table>\n",
       "</div>"
      ],
      "text/plain": [
       "                                                text  label label_name  \\\n",
       "0              no yuli con eso se va con pendeivis 😞      1    Neutral   \n",
       "1  este es más bruto... cosas que necesita el  pe...      0   Negative   \n",
       "2  bakan tu video pero el chambar es riko pero pa...      2   Positive   \n",
       "3  no sabes que hacer para llamar la atención par...      0   Negative   \n",
       "4  pe chino dame chamba mano, almenos pa limpiart...      1    Neutral   \n",
       "\n",
       "                                       text_original  \\\n",
       "0              No Yuli con eso se va con pendeivis 😞   \n",
       "1  Este es más bruto... Cosas que necesita el  Pe...   \n",
       "2  Bakan tu video pero el chambar es riko pero pa...   \n",
       "3  no sabes que hacer para llamar la atención par...   \n",
       "4  Pe CHINO DAME CHAMBA MANO, ALMENOS PA LIMPIART...   \n",
       "\n",
       "                                      tokenized_text  sent_token_length  \\\n",
       "0              no yuli con eso se va con pendeivis 😞                  9   \n",
       "1  este es más bruto    cosas que necesita el  pe...                 27   \n",
       "2  bakan tu video pero el chambar es riko pero pa...                 53   \n",
       "3  no sabes que hacer para llamar la atención par...                 18   \n",
       "4  pe chino dame chamba mano  almenos pa limpiart...                 11   \n",
       "\n",
       "   sent_bert_token_length  char_count  Character Count  \n",
       "0                      12          37               37  \n",
       "1                      35         144              144  \n",
       "2                      67         267              267  \n",
       "3                      20          93               93  \n",
       "4                      14          61               61  "
      ]
     },
     "execution_count": 18,
     "metadata": {},
     "output_type": "execute_result"
    }
   ],
   "source": [
    "df = ds['train'].to_pandas()\n",
    "df.head()"
   ]
  },
  {
   "cell_type": "code",
   "execution_count": 19,
   "id": "b6158b5e-9727-4f50-9750-29cf47a4b0ea",
   "metadata": {},
   "outputs": [],
   "source": [
    "import unicodedata\n",
    "\n",
    "def quitar_tildes(texto):\n",
    "    return ''.join((c for c in unicodedata.normalize('NFD', texto) if unicodedata.category(c) != 'Mn'))"
   ]
  },
  {
   "cell_type": "code",
   "execution_count": 20,
   "id": "7c0615c2",
   "metadata": {},
   "outputs": [],
   "source": [
    "# encode label and mapping label name\n",
    "#df[\"label\"] = df[\"label\"].apply(lambda x: label_encode(x))\n",
    "df[\"label_name\"] = df[\"label\"].apply(lambda x: label2name(x))"
   ]
  },
  {
   "cell_type": "code",
   "execution_count": 21,
   "id": "4c00ccd4",
   "metadata": {},
   "outputs": [],
   "source": [
    "\n",
    "# clean text, lowercase and remove punk\n",
    "df[\"text\"] = df[\"text\"].apply(lambda x: quitar_tildes(x))"
   ]
  },
  {
   "cell_type": "code",
   "execution_count": 22,
   "id": "5a23806b-d402-4ccd-abf1-db4a62b4bd28",
   "metadata": {},
   "outputs": [
    {
     "name": "stdout",
     "output_type": "stream",
     "text": [
      "Texto original:\n",
      "🤣🤣 ¡Hola, cómo estás? ¡Todo bien aquí! 12345 🤣🤣\n",
      "\n",
      "Texto sin tildes:\n",
      "🤣🤣 ¡Hola, como estas? ¡Todo bien aqui! 12345 🤣🤣\n"
     ]
    }
   ],
   "source": [
    "import unicodedata\n",
    "\n",
    "def quitar_tildes(texto):\n",
    "    return ''.join((c for c in unicodedata.normalize('NFD', texto) if unicodedata.category(c) != 'Mn'))\n",
    "\n",
    "texto_original = \"🤣🤣 ¡Hola, cómo estás? ¡Todo bien aquí! 12345 🤣🤣\"\n",
    "\n",
    "texto_sin_tildes = quitar_tildes(texto_original)\n",
    "\n",
    "print(\"Texto original:\")\n",
    "print(texto_original)\n",
    "print(\"\\nTexto sin tildes:\")\n",
    "print(texto_sin_tildes)"
   ]
  },
  {
   "cell_type": "code",
   "execution_count": 23,
   "id": "05636464",
   "metadata": {},
   "outputs": [
    {
     "data": {
      "text/html": [
       "<div>\n",
       "<style scoped>\n",
       "    .dataframe tbody tr th:only-of-type {\n",
       "        vertical-align: middle;\n",
       "    }\n",
       "\n",
       "    .dataframe tbody tr th {\n",
       "        vertical-align: top;\n",
       "    }\n",
       "\n",
       "    .dataframe thead th {\n",
       "        text-align: right;\n",
       "    }\n",
       "</style>\n",
       "<table border=\"1\" class=\"dataframe\">\n",
       "  <thead>\n",
       "    <tr style=\"text-align: right;\">\n",
       "      <th></th>\n",
       "      <th>text</th>\n",
       "      <th>label</th>\n",
       "      <th>label_name</th>\n",
       "      <th>text_original</th>\n",
       "      <th>tokenized_text</th>\n",
       "      <th>sent_token_length</th>\n",
       "      <th>sent_bert_token_length</th>\n",
       "      <th>char_count</th>\n",
       "      <th>Character Count</th>\n",
       "    </tr>\n",
       "  </thead>\n",
       "  <tbody>\n",
       "    <tr>\n",
       "      <th>764</th>\n",
       "      <td>arbejita partida con su huevazo y arroz.  y pa...</td>\n",
       "      <td>1</td>\n",
       "      <td>Neutral</td>\n",
       "      <td>Arbejita partida con su huevazo y arroz.  Y pa...</td>\n",
       "      <td>arbejita partida con su huevazo y arroz   y pa...</td>\n",
       "      <td>22</td>\n",
       "      <td>29</td>\n",
       "      <td>109</td>\n",
       "      <td>109</td>\n",
       "    </tr>\n",
       "    <tr>\n",
       "      <th>2689</th>\n",
       "      <td>les sale el tiro por la culataaa pobre infelic...</td>\n",
       "      <td>0</td>\n",
       "      <td>Negative</td>\n",
       "      <td>Les sale el tiro por la culataaaa pobre infeli...</td>\n",
       "      <td>les sale el tiro por la culataaa pobre infelic...</td>\n",
       "      <td>59</td>\n",
       "      <td>86</td>\n",
       "      <td>368</td>\n",
       "      <td>368</td>\n",
       "    </tr>\n",
       "    <tr>\n",
       "      <th>4950</th>\n",
       "      <td>y penso: te va a ofrecer plata para que te vayas</td>\n",
       "      <td>1</td>\n",
       "      <td>Neutral</td>\n",
       "      <td>Y pensó: te va a ofrecer plata para que te vayas</td>\n",
       "      <td>y pensó  te va a ofrecer plata para que te vayas</td>\n",
       "      <td>11</td>\n",
       "      <td>12</td>\n",
       "      <td>48</td>\n",
       "      <td>48</td>\n",
       "    </tr>\n",
       "    <tr>\n",
       "      <th>851</th>\n",
       "      <td>erika monteza lucana 😍 vamosss ss</td>\n",
       "      <td>2</td>\n",
       "      <td>Positive</td>\n",
       "      <td>Erika Monteza Lucana 😍 vamossss ss</td>\n",
       "      <td>erika monteza lucana 😍 vamosss ss</td>\n",
       "      <td>6</td>\n",
       "      <td>9</td>\n",
       "      <td>33</td>\n",
       "      <td>33</td>\n",
       "    </tr>\n",
       "    <tr>\n",
       "      <th>6937</th>\n",
       "      <td>mmm... nunca escucho criticas a la comida que ...</td>\n",
       "      <td>0</td>\n",
       "      <td>Negative</td>\n",
       "      <td>Mmm... nunca escucho críticas a la comida que ...</td>\n",
       "      <td>mmm    nunca escucho críticas a la comida que ...</td>\n",
       "      <td>62</td>\n",
       "      <td>77</td>\n",
       "      <td>333</td>\n",
       "      <td>333</td>\n",
       "    </tr>\n",
       "    <tr>\n",
       "      <th>353</th>\n",
       "      <td>no nooo... que no sea  miyashiro🙏🏻 porquee 😟 h...</td>\n",
       "      <td>0</td>\n",
       "      <td>Negative</td>\n",
       "      <td>No noooo..... que no sea  miyashiro🙏🏻 porquee ...</td>\n",
       "      <td>no nooo    que no sea  miyashiro🙏🏻 porquee 😟 h...</td>\n",
       "      <td>18</td>\n",
       "      <td>25</td>\n",
       "      <td>84</td>\n",
       "      <td>84</td>\n",
       "    </tr>\n",
       "    <tr>\n",
       "      <th>3757</th>\n",
       "      <td>ahora el ser campesino y pertenecer a los rond...</td>\n",
       "      <td>0</td>\n",
       "      <td>Negative</td>\n",
       "      <td>Ahora el ser campesino y pertenecer a los rond...</td>\n",
       "      <td>ahora el ser campesino y pertenecer a los rond...</td>\n",
       "      <td>44</td>\n",
       "      <td>52</td>\n",
       "      <td>263</td>\n",
       "      <td>263</td>\n",
       "    </tr>\n",
       "    <tr>\n",
       "      <th>5729</th>\n",
       "      <td>hola! no tengo como comunicarme con usted, sr....</td>\n",
       "      <td>2</td>\n",
       "      <td>Positive</td>\n",
       "      <td>Hola! No tengo como comunicarme con usted, sr....</td>\n",
       "      <td>hola  no tengo como comunicarme con usted  sr ...</td>\n",
       "      <td>17</td>\n",
       "      <td>22</td>\n",
       "      <td>91</td>\n",
       "      <td>91</td>\n",
       "    </tr>\n",
       "    <tr>\n",
       "      <th>2883</th>\n",
       "      <td>par de cagadas los dos!!! 🤮🤮🤮 uno chupacohetes...</td>\n",
       "      <td>0</td>\n",
       "      <td>Negative</td>\n",
       "      <td>Par de cagadas los dos!!! 🤮🤮🤮🤮 Uno chupacohete...</td>\n",
       "      <td>par de cagadas los dos    🤮🤮🤮 uno chupacohetes...</td>\n",
       "      <td>26</td>\n",
       "      <td>33</td>\n",
       "      <td>131</td>\n",
       "      <td>131</td>\n",
       "    </tr>\n",
       "    <tr>\n",
       "      <th>7059</th>\n",
       "      <td>asi dicen que no es terruco que asco de partid...</td>\n",
       "      <td>0</td>\n",
       "      <td>Negative</td>\n",
       "      <td>Así dicen que no es terruco que asco de partid...</td>\n",
       "      <td>así dicen que no es terruco que asco de partid...</td>\n",
       "      <td>11</td>\n",
       "      <td>13</td>\n",
       "      <td>51</td>\n",
       "      <td>51</td>\n",
       "    </tr>\n",
       "  </tbody>\n",
       "</table>\n",
       "</div>"
      ],
      "text/plain": [
       "                                                   text  label label_name  \\\n",
       "764   arbejita partida con su huevazo y arroz.  y pa...      1    Neutral   \n",
       "2689  les sale el tiro por la culataaa pobre infelic...      0   Negative   \n",
       "4950   y penso: te va a ofrecer plata para que te vayas      1    Neutral   \n",
       "851                   erika monteza lucana 😍 vamosss ss      2   Positive   \n",
       "6937  mmm... nunca escucho criticas a la comida que ...      0   Negative   \n",
       "353   no nooo... que no sea  miyashiro🙏🏻 porquee 😟 h...      0   Negative   \n",
       "3757  ahora el ser campesino y pertenecer a los rond...      0   Negative   \n",
       "5729  hola! no tengo como comunicarme con usted, sr....      2   Positive   \n",
       "2883  par de cagadas los dos!!! 🤮🤮🤮 uno chupacohetes...      0   Negative   \n",
       "7059  asi dicen que no es terruco que asco de partid...      0   Negative   \n",
       "\n",
       "                                          text_original  \\\n",
       "764   Arbejita partida con su huevazo y arroz.  Y pa...   \n",
       "2689  Les sale el tiro por la culataaaa pobre infeli...   \n",
       "4950   Y pensó: te va a ofrecer plata para que te vayas   \n",
       "851                  Erika Monteza Lucana 😍 vamossss ss   \n",
       "6937  Mmm... nunca escucho críticas a la comida que ...   \n",
       "353   No noooo..... que no sea  miyashiro🙏🏻 porquee ...   \n",
       "3757  Ahora el ser campesino y pertenecer a los rond...   \n",
       "5729  Hola! No tengo como comunicarme con usted, sr....   \n",
       "2883  Par de cagadas los dos!!! 🤮🤮🤮🤮 Uno chupacohete...   \n",
       "7059  Así dicen que no es terruco que asco de partid...   \n",
       "\n",
       "                                         tokenized_text  sent_token_length  \\\n",
       "764   arbejita partida con su huevazo y arroz   y pa...                 22   \n",
       "2689  les sale el tiro por la culataaa pobre infelic...                 59   \n",
       "4950   y pensó  te va a ofrecer plata para que te vayas                 11   \n",
       "851                   erika monteza lucana 😍 vamosss ss                  6   \n",
       "6937  mmm    nunca escucho críticas a la comida que ...                 62   \n",
       "353   no nooo    que no sea  miyashiro🙏🏻 porquee 😟 h...                 18   \n",
       "3757  ahora el ser campesino y pertenecer a los rond...                 44   \n",
       "5729  hola  no tengo como comunicarme con usted  sr ...                 17   \n",
       "2883  par de cagadas los dos    🤮🤮🤮 uno chupacohetes...                 26   \n",
       "7059  así dicen que no es terruco que asco de partid...                 11   \n",
       "\n",
       "      sent_bert_token_length  char_count  Character Count  \n",
       "764                       29         109              109  \n",
       "2689                      86         368              368  \n",
       "4950                      12          48               48  \n",
       "851                        9          33               33  \n",
       "6937                      77         333              333  \n",
       "353                       25          84               84  \n",
       "3757                      52         263              263  \n",
       "5729                      22          91               91  \n",
       "2883                      33         131              131  \n",
       "7059                      13          51               51  "
      ]
     },
     "execution_count": 23,
     "metadata": {},
     "output_type": "execute_result"
    }
   ],
   "source": [
    "df.sample(10)"
   ]
  },
  {
   "cell_type": "code",
   "execution_count": 24,
   "id": "8299b318-0204-49cb-bf9a-14834e7796cb",
   "metadata": {
    "tags": []
   },
   "outputs": [
    {
     "name": "stderr",
     "output_type": "stream",
     "text": [
      "/home/darkstar/anaconda3/envs/robertuito-env/lib/python3.10/site-packages/torch/_utils.py:776: UserWarning: TypedStorage is deprecated. It will be removed in the future and UntypedStorage will be the only storage class. This should only matter to you if you are using storages directly.  To access UntypedStorage directly, use tensor.untyped_storage() instead of tensor.storage()\n",
      "  return self.fget.__get__(instance, owner)()\n"
     ]
    }
   ],
   "source": [
    "model_name = \"pysentimiento/robertuito-base-deacc\"\n",
    "\n",
    "model = AutoModelForSequenceClassification.from_pretrained(\n",
    "    model_name,\n",
    "    num_labels=3\n",
    ")\n",
    "# tokenizer = AutoTokenizer.from_pretrained(\"jairleo95/robertuito-peruvian-sentiment\")\n",
    "tokenizer = AutoTokenizer.from_pretrained(model_name)\n",
    "tokenizer.model_max_length = 128"
   ]
  },
  {
   "cell_type": "code",
   "execution_count": 25,
   "id": "da7b8124",
   "metadata": {},
   "outputs": [],
   "source": [
    "# columns = ['input_ids', 'attention_mask', 'label']\n",
    "# ds.set_format(type='torch', columns=columns)\n",
    "# ds"
   ]
  },
  {
   "cell_type": "code",
   "execution_count": 26,
   "id": "8ed569d2-67ca-405d-aa88-3e6de71a2356",
   "metadata": {
    "tags": []
   },
   "outputs": [],
   "source": [
    "preprocessed_ds = ds.map(lambda ex: {\"text\": preprocess_tweet(ex[\"text\"], lang=\"es\")})"
   ]
  },
  {
   "cell_type": "code",
   "execution_count": 27,
   "id": "99a78d85-4029-4621-b692-f63f396a2f6f",
   "metadata": {
    "tags": []
   },
   "outputs": [],
   "source": [
    "tokenized_ds = preprocessed_ds.map(\n",
    "    lambda batch: tokenizer(\n",
    "        batch[\"text\"], padding=True, truncation=True\n",
    "        ),\n",
    "    batched=True, batch_size=32\n",
    ")"
   ]
  },
  {
   "cell_type": "code",
   "execution_count": 28,
   "id": "1dd95bf5",
   "metadata": {},
   "outputs": [
    {
     "data": {
      "text/plain": [
       "DatasetDict({\n",
       "    train: Dataset({\n",
       "        features: ['text', 'label', 'label_name', 'text_original', 'tokenized_text', 'sent_token_length', 'sent_bert_token_length', 'char_count', 'Character Count', 'input_ids', 'token_type_ids', 'attention_mask'],\n",
       "        num_rows: 7594\n",
       "    })\n",
       "    validation: Dataset({\n",
       "        features: ['text', 'label', 'label_name', 'text_original', 'tokenized_text', 'sent_token_length', 'sent_bert_token_length', 'char_count', 'Character Count', 'input_ids', 'token_type_ids', 'attention_mask'],\n",
       "        num_rows: 2374\n",
       "    })\n",
       "    test: Dataset({\n",
       "        features: ['text', 'label', 'label_name', 'text_original', 'tokenized_text', 'sent_token_length', 'sent_bert_token_length', 'char_count', 'Character Count', 'input_ids', 'token_type_ids', 'attention_mask'],\n",
       "        num_rows: 1899\n",
       "    })\n",
       "})"
      ]
     },
     "execution_count": 28,
     "metadata": {},
     "output_type": "execute_result"
    }
   ],
   "source": [
    "tokenized_ds"
   ]
  },
  {
   "cell_type": "code",
   "execution_count": 29,
   "id": "d3634bf4",
   "metadata": {},
   "outputs": [
    {
     "data": {
      "text/plain": [
       "[0, 614, 1, 1, 1, 1, 1, 1, 1, 1, 1, 1, 1]"
      ]
     },
     "execution_count": 29,
     "metadata": {},
     "output_type": "execute_result"
    }
   ],
   "source": [
    "tokenized_ds['train']['input_ids'][0][::10]"
   ]
  },
  {
   "cell_type": "code",
   "execution_count": 30,
   "id": "7c23fbba",
   "metadata": {},
   "outputs": [
    {
     "data": {
      "text/plain": [
       "[1, 1, 0, 0, 0, 0, 0, 0, 0, 0, 0, 0, 0]"
      ]
     },
     "execution_count": 30,
     "metadata": {},
     "output_type": "execute_result"
    }
   ],
   "source": [
    "tokenized_ds['train']['attention_mask'][0][::10]"
   ]
  },
  {
   "cell_type": "code",
   "execution_count": 31,
   "id": "f6d33cad",
   "metadata": {},
   "outputs": [
    {
     "data": {
      "text/plain": [
       "'tu hermano gemelo manolo... sobrado la haces como su doble..   emoji cara con mano sobre la boca emoji  emoji cara con mano sobre la boca emoji'"
      ]
     },
     "execution_count": 31,
     "metadata": {},
     "output_type": "execute_result"
    }
   ],
   "source": [
    "tokenized_ds['train']['text'][10]"
   ]
  },
  {
   "cell_type": "code",
   "execution_count": 32,
   "id": "ccb30e62-df89-4712-9256-68108095f3d4",
   "metadata": {},
   "outputs": [
    {
     "data": {
      "text/plain": [
       "[0, 0, 0, 0, 0, 0, 0, 0, 0, 0, 0, 0, 0, 0, 0, 0, 0, 0, 0, 0]"
      ]
     },
     "execution_count": 32,
     "metadata": {},
     "output_type": "execute_result"
    }
   ],
   "source": [
    "tokenized_ds['train']['token_type_ids'][0][:20]"
   ]
  },
  {
   "cell_type": "code",
   "execution_count": 33,
   "id": "0871323a-d13e-456d-8d50-ffcd6bbba3a8",
   "metadata": {},
   "outputs": [
    {
     "data": {
      "text/plain": [
       "['▁no',\n",
       " '▁pit',\n",
       " 'uca',\n",
       " '▁causa',\n",
       " '▁emoji',\n",
       " '▁cara',\n",
       " '▁revolviendose',\n",
       " '▁de',\n",
       " '▁la',\n",
       " '▁risa',\n",
       " '▁emoji']"
      ]
     },
     "execution_count": 33,
     "metadata": {},
     "output_type": "execute_result"
    }
   ],
   "source": [
    "text = \"No pituca causa🤣\"\n",
    "preprocessed_text = preprocess_tweet(text)\n",
    "tokenizer.tokenize(preprocessed_text)"
   ]
  },
  {
   "cell_type": "code",
   "execution_count": 34,
   "id": "4b8c3363-0b4c-4e5e-8db4-f860455af0d8",
   "metadata": {},
   "outputs": [],
   "source": [
    "#tokenizer.get_vocab()"
   ]
  },
  {
   "cell_type": "code",
   "execution_count": 35,
   "id": "48d9d960-7a80-458d-aaf3-cd573db49861",
   "metadata": {},
   "outputs": [
    {
     "data": {
      "text/html": [
       "<div>\n",
       "<style scoped>\n",
       "    .dataframe tbody tr th:only-of-type {\n",
       "        vertical-align: middle;\n",
       "    }\n",
       "\n",
       "    .dataframe tbody tr th {\n",
       "        vertical-align: top;\n",
       "    }\n",
       "\n",
       "    .dataframe thead th {\n",
       "        text-align: right;\n",
       "    }\n",
       "</style>\n",
       "<table border=\"1\" class=\"dataframe\">\n",
       "  <thead>\n",
       "    <tr style=\"text-align: right;\">\n",
       "      <th></th>\n",
       "      <th>nro</th>\n",
       "      <th>Jerga</th>\n",
       "      <th>tipo</th>\n",
       "      <th>descripción corta</th>\n",
       "      <th>Descripción</th>\n",
       "      <th>fuente</th>\n",
       "    </tr>\n",
       "  </thead>\n",
       "  <tbody>\n",
       "    <tr>\n",
       "      <th>0</th>\n",
       "      <td>1</td>\n",
       "      <td>Pe</td>\n",
       "      <td>Jerga</td>\n",
       "      <td>Pues</td>\n",
       "      <td>\"Pe\", por su parte, no es otra cosa que la ver...</td>\n",
       "      <td>https://www.bbc.com/mundo/noticias-50213086</td>\n",
       "    </tr>\n",
       "    <tr>\n",
       "      <th>1</th>\n",
       "      <td>2</td>\n",
       "      <td>Oe</td>\n",
       "      <td>Jerga</td>\n",
       "      <td>Oye</td>\n",
       "      <td>\"Oe\" es el \"oye\" u \"oíme\" que en otros países ...</td>\n",
       "      <td>https://www.bbc.com/mundo/noticias-50213086</td>\n",
       "    </tr>\n",
       "    <tr>\n",
       "      <th>2</th>\n",
       "      <td>3</td>\n",
       "      <td>Lechero</td>\n",
       "      <td>Jerga</td>\n",
       "      <td>mucha suerte</td>\n",
       "      <td>Dicese de aquella persona que tiene mucha suer...</td>\n",
       "      <td>https://www.bbc.com/mundo/noticias-50213086</td>\n",
       "    </tr>\n",
       "    <tr>\n",
       "      <th>3</th>\n",
       "      <td>4</td>\n",
       "      <td>Lenteja</td>\n",
       "      <td>Jerga</td>\n",
       "      <td>muy lento</td>\n",
       "      <td>Persona u objeto lento.</td>\n",
       "      <td>https://www.bbc.com/mundo/noticias-50213086</td>\n",
       "    </tr>\n",
       "    <tr>\n",
       "      <th>4</th>\n",
       "      <td>5</td>\n",
       "      <td>Tirarse la pera</td>\n",
       "      <td>expresión</td>\n",
       "      <td>ausentarse</td>\n",
       "      <td>Faltar injustificadamente al centro de trabajo...</td>\n",
       "      <td>https://www.bbc.com/mundo/noticias-50213086</td>\n",
       "    </tr>\n",
       "    <tr>\n",
       "      <th>...</th>\n",
       "      <td>...</td>\n",
       "      <td>...</td>\n",
       "      <td>...</td>\n",
       "      <td>...</td>\n",
       "      <td>...</td>\n",
       "      <td>...</td>\n",
       "    </tr>\n",
       "    <tr>\n",
       "      <th>2339</th>\n",
       "      <td>2340</td>\n",
       "      <td>Meter floro o florear</td>\n",
       "      <td>expresión</td>\n",
       "      <td>Distorsionar la verdad para convencer a alguien.</td>\n",
       "      <td>Distorsionar la verdad para convencer a alguien.</td>\n",
       "      <td>NaN</td>\n",
       "    </tr>\n",
       "    <tr>\n",
       "      <th>2340</th>\n",
       "      <td>2341</td>\n",
       "      <td>Tus perras están ladrando</td>\n",
       "      <td>expresión</td>\n",
       "      <td>Los pies de una persona tienen un olor desagra...</td>\n",
       "      <td>Los pies de una persona tienen un olor desagra...</td>\n",
       "      <td>NaN</td>\n",
       "    </tr>\n",
       "    <tr>\n",
       "      <th>2341</th>\n",
       "      <td>2342</td>\n",
       "      <td>Hacer una chancha</td>\n",
       "      <td>expresión</td>\n",
       "      <td>Recolecta de dinero entre amigos.</td>\n",
       "      <td>Recolecta de dinero entre amigos.</td>\n",
       "      <td>NaN</td>\n",
       "    </tr>\n",
       "    <tr>\n",
       "      <th>2342</th>\n",
       "      <td>2343</td>\n",
       "      <td>Pitri mitri</td>\n",
       "      <td>expresión</td>\n",
       "      <td>Algo es asombroso.</td>\n",
       "      <td>Algo es asombroso.</td>\n",
       "      <td>NaN</td>\n",
       "    </tr>\n",
       "    <tr>\n",
       "      <th>2343</th>\n",
       "      <td>2344</td>\n",
       "      <td>en la luna de paita</td>\n",
       "      <td>expresión</td>\n",
       "      <td>estar perdido o distraido</td>\n",
       "      <td>estar perdido o distraido</td>\n",
       "      <td>NaN</td>\n",
       "    </tr>\n",
       "  </tbody>\n",
       "</table>\n",
       "<p>2344 rows × 6 columns</p>\n",
       "</div>"
      ],
      "text/plain": [
       "       nro                      Jerga       tipo  \\\n",
       "0        1                         Pe      Jerga   \n",
       "1        2                         Oe      Jerga   \n",
       "2        3                    Lechero      Jerga   \n",
       "3        4                    Lenteja      Jerga   \n",
       "4        5            Tirarse la pera  expresión   \n",
       "...    ...                        ...        ...   \n",
       "2339  2340      Meter floro o florear  expresión   \n",
       "2340  2341  Tus perras están ladrando  expresión   \n",
       "2341  2342          Hacer una chancha  expresión   \n",
       "2342  2343                Pitri mitri  expresión   \n",
       "2343  2344        en la luna de paita  expresión   \n",
       "\n",
       "                                      descripción corta  \\\n",
       "0                                                  Pues   \n",
       "1                                                   Oye   \n",
       "2                                          mucha suerte   \n",
       "3                                             muy lento   \n",
       "4                                            ausentarse   \n",
       "...                                                 ...   \n",
       "2339   Distorsionar la verdad para convencer a alguien.   \n",
       "2340  Los pies de una persona tienen un olor desagra...   \n",
       "2341                  Recolecta de dinero entre amigos.   \n",
       "2342                                 Algo es asombroso.   \n",
       "2343                          estar perdido o distraido   \n",
       "\n",
       "                                            Descripción  \\\n",
       "0     \"Pe\", por su parte, no es otra cosa que la ver...   \n",
       "1     \"Oe\" es el \"oye\" u \"oíme\" que en otros países ...   \n",
       "2     Dicese de aquella persona que tiene mucha suer...   \n",
       "3                               Persona u objeto lento.   \n",
       "4     Faltar injustificadamente al centro de trabajo...   \n",
       "...                                                 ...   \n",
       "2339   Distorsionar la verdad para convencer a alguien.   \n",
       "2340  Los pies de una persona tienen un olor desagra...   \n",
       "2341                  Recolecta de dinero entre amigos.   \n",
       "2342                                 Algo es asombroso.   \n",
       "2343                          estar perdido o distraido   \n",
       "\n",
       "                                           fuente  \n",
       "0     https://www.bbc.com/mundo/noticias-50213086  \n",
       "1     https://www.bbc.com/mundo/noticias-50213086  \n",
       "2     https://www.bbc.com/mundo/noticias-50213086  \n",
       "3     https://www.bbc.com/mundo/noticias-50213086  \n",
       "4     https://www.bbc.com/mundo/noticias-50213086  \n",
       "...                                           ...  \n",
       "2339                                          NaN  \n",
       "2340                                          NaN  \n",
       "2341                                          NaN  \n",
       "2342                                          NaN  \n",
       "2343                                          NaN  \n",
       "\n",
       "[2344 rows x 6 columns]"
      ]
     },
     "execution_count": 35,
     "metadata": {},
     "output_type": "execute_result"
    }
   ],
   "source": [
    "df_slangs = pd.read_csv(r'../text-extraction/peruvian-slang.v1.csv')\n",
    "df_slangs"
   ]
  },
  {
   "cell_type": "code",
   "execution_count": 36,
   "id": "a1f1070e-7eed-4412-abb8-673eead58f77",
   "metadata": {},
   "outputs": [],
   "source": [
    "df_slangs['Jerga'] = df_slangs['Jerga'].apply(lambda x: x.lower())"
   ]
  },
  {
   "cell_type": "code",
   "execution_count": 37,
   "id": "0342d143-4eee-44f1-912a-d3e1b394cb43",
   "metadata": {},
   "outputs": [],
   "source": [
    "slangs = df_slangs['Jerga'].values.tolist()"
   ]
  },
  {
   "cell_type": "code",
   "execution_count": 38,
   "id": "79d6f8a8-65ca-4350-8a7e-bb6ad3139fff",
   "metadata": {},
   "outputs": [
    {
     "data": {
      "text/plain": [
       "2344"
      ]
     },
     "execution_count": 38,
     "metadata": {},
     "output_type": "execute_result"
    }
   ],
   "source": [
    "len(slangs)"
   ]
  },
  {
   "cell_type": "code",
   "execution_count": 39,
   "id": "ad38cceb-5c98-4424-8600-210e4612022d",
   "metadata": {},
   "outputs": [
    {
     "data": {
      "text/plain": [
       "'<unk>'"
      ]
     },
     "execution_count": 39,
     "metadata": {},
     "output_type": "execute_result"
    }
   ],
   "source": [
    "tokenizer.unk_token"
   ]
  },
  {
   "cell_type": "code",
   "execution_count": 40,
   "id": "c88c53d1-0c5b-4b97-910a-75f6991d2d6f",
   "metadata": {
    "tags": []
   },
   "outputs": [],
   "source": [
    "#!pip install ipdb"
   ]
  },
  {
   "cell_type": "code",
   "execution_count": 41,
   "id": "469074ed-9e65-4a9e-913c-6151f5c5d8b3",
   "metadata": {},
   "outputs": [
    {
     "data": {
      "text/plain": [
       "RobertaForSequenceClassification(\n",
       "  (roberta): RobertaModel(\n",
       "    (embeddings): RobertaEmbeddings(\n",
       "      (word_embeddings): Embedding(30000, 768, padding_idx=1)\n",
       "      (position_embeddings): Embedding(130, 768, padding_idx=1)\n",
       "      (token_type_embeddings): Embedding(1, 768)\n",
       "      (LayerNorm): LayerNorm((768,), eps=1e-12, elementwise_affine=True)\n",
       "      (dropout): Dropout(p=0.1, inplace=False)\n",
       "    )\n",
       "    (encoder): RobertaEncoder(\n",
       "      (layer): ModuleList(\n",
       "        (0-11): 12 x RobertaLayer(\n",
       "          (attention): RobertaAttention(\n",
       "            (self): RobertaSelfAttention(\n",
       "              (query): Linear(in_features=768, out_features=768, bias=True)\n",
       "              (key): Linear(in_features=768, out_features=768, bias=True)\n",
       "              (value): Linear(in_features=768, out_features=768, bias=True)\n",
       "              (dropout): Dropout(p=0.1, inplace=False)\n",
       "            )\n",
       "            (output): RobertaSelfOutput(\n",
       "              (dense): Linear(in_features=768, out_features=768, bias=True)\n",
       "              (LayerNorm): LayerNorm((768,), eps=1e-12, elementwise_affine=True)\n",
       "              (dropout): Dropout(p=0.1, inplace=False)\n",
       "            )\n",
       "          )\n",
       "          (intermediate): RobertaIntermediate(\n",
       "            (dense): Linear(in_features=768, out_features=3072, bias=True)\n",
       "            (intermediate_act_fn): GELUActivation()\n",
       "          )\n",
       "          (output): RobertaOutput(\n",
       "            (dense): Linear(in_features=3072, out_features=768, bias=True)\n",
       "            (LayerNorm): LayerNorm((768,), eps=1e-12, elementwise_affine=True)\n",
       "            (dropout): Dropout(p=0.1, inplace=False)\n",
       "          )\n",
       "        )\n",
       "      )\n",
       "    )\n",
       "  )\n",
       "  (classifier): RobertaClassificationHead(\n",
       "    (dense): Linear(in_features=768, out_features=768, bias=True)\n",
       "    (dropout): Dropout(p=0.1, inplace=False)\n",
       "    (out_proj): Linear(in_features=768, out_features=3, bias=True)\n",
       "  )\n",
       ")"
      ]
     },
     "execution_count": 41,
     "metadata": {},
     "output_type": "execute_result"
    }
   ],
   "source": [
    "#import torch\n",
    "device = \"cuda\" if torch.cuda.is_available() else \"cpu\"\n",
    "model.cuda()"
   ]
  },
  {
   "cell_type": "code",
   "execution_count": 42,
   "id": "ee97c2b0-3e7c-45e9-b6ca-da55d4671d41",
   "metadata": {},
   "outputs": [
    {
     "data": {
      "text/plain": [
       "Dataset({\n",
       "    features: ['text', 'label', 'label_name', 'text_original', 'tokenized_text', 'sent_token_length', 'sent_bert_token_length', 'char_count', 'Character Count', 'input_ids', 'token_type_ids', 'attention_mask'],\n",
       "    num_rows: 7594\n",
       "})"
      ]
     },
     "execution_count": 42,
     "metadata": {},
     "output_type": "execute_result"
    }
   ],
   "source": [
    "tokenized_ds['train']"
   ]
  },
  {
   "cell_type": "code",
   "execution_count": 43,
   "id": "e32938cf-99f5-4829-8a2b-e5610f428a2d",
   "metadata": {},
   "outputs": [
    {
     "data": {
      "text/plain": [
       "128"
      ]
     },
     "execution_count": 43,
     "metadata": {},
     "output_type": "execute_result"
    }
   ],
   "source": [
    "len(tokenized_ds['train']['input_ids'][0])"
   ]
  },
  {
   "cell_type": "code",
   "execution_count": 44,
   "id": "41a84d40-1e28-4cf2-ad46-7d39b29c71c4",
   "metadata": {},
   "outputs": [],
   "source": [
    "# new_tokenizer = AutoTokenizer.from_pretrained(\"jairleo95/robertuito-peruvian-sentiment\")\n",
    "# new_tokenizer.model_max_length = 128"
   ]
  },
  {
   "cell_type": "code",
   "execution_count": 45,
   "id": "bf9ddec4-bd8a-4d64-a0c4-24e0bb5e829d",
   "metadata": {},
   "outputs": [],
   "source": [
    "# new_tokenized_ds = preprocessed_ds.map(\n",
    "#     lambda batch: new_tokenizer(\n",
    "#         batch[\"text\"], padding=True, truncation=True\n",
    "#         ),\n",
    "#     batched=True, batch_size=32\n",
    "# )"
   ]
  },
  {
   "cell_type": "code",
   "execution_count": 46,
   "id": "070bd746-a3ba-4aaa-85d9-34386899b92c",
   "metadata": {},
   "outputs": [
    {
     "data": {
      "text/plain": [
       "128"
      ]
     },
     "execution_count": 46,
     "metadata": {},
     "output_type": "execute_result"
    }
   ],
   "source": [
    "len(tokenized_ds['train']['input_ids'][0])"
   ]
  },
  {
   "cell_type": "code",
   "execution_count": 47,
   "id": "a5d69388-ca60-4372-b09f-5c48e3cdffda",
   "metadata": {},
   "outputs": [
    {
     "data": {
      "text/plain": [
       "103"
      ]
     },
     "execution_count": 47,
     "metadata": {},
     "output_type": "execute_result"
    }
   ],
   "source": [
    "len(tokenized_ds['train']['input_ids'][2222])"
   ]
  },
  {
   "cell_type": "code",
   "execution_count": 48,
   "id": "6b6a3850-ab08-4129-861a-7e826fdf2a72",
   "metadata": {},
   "outputs": [
    {
     "data": {
      "text/plain": [
       "'cristian ya fuistes a partir de ahora será así emoji cara con ojos en blanco emoji  emoji cara llorando de risa emoji  emoji cara llorando de risa emoji  emoji cara revolviéndose de la risa emoji  emoji cara revolviéndose de la risa emoji'"
      ]
     },
     "execution_count": 48,
     "metadata": {},
     "output_type": "execute_result"
    }
   ],
   "source": [
    "(tokenized_ds['train']['text'][2222])"
   ]
  },
  {
   "cell_type": "code",
   "execution_count": 49,
   "id": "2db32bc4-26e7-48e7-bf9c-32fad7137dec",
   "metadata": {},
   "outputs": [
    {
     "data": {
      "text/plain": [
       "103"
      ]
     },
     "execution_count": 49,
     "metadata": {},
     "output_type": "execute_result"
    }
   ],
   "source": [
    "len(tokenized_ds['train']['input_ids'][2222])"
   ]
  },
  {
   "cell_type": "code",
   "execution_count": 50,
   "id": "231b3f86-00fc-4bcc-9bba-528a9048777b",
   "metadata": {},
   "outputs": [
    {
     "data": {
      "text/plain": [
       "30000"
      ]
     },
     "execution_count": 50,
     "metadata": {},
     "output_type": "execute_result"
    }
   ],
   "source": [
    "len(tokenizer)"
   ]
  },
  {
   "cell_type": "code",
   "execution_count": 51,
   "id": "7ab5876e-e726-4664-aa8a-f031b1bb91e9",
   "metadata": {},
   "outputs": [
    {
     "data": {
      "text/plain": [
       "'Ximena Ariana Yolanda para nuestros lonchesitos 😍'"
      ]
     },
     "execution_count": 51,
     "metadata": {},
     "output_type": "execute_result"
    }
   ],
   "source": [
    "tokenized_ds['train']['text_original'][2134]"
   ]
  },
  {
   "cell_type": "code",
   "execution_count": 52,
   "id": "ca04d8ca-42a6-4abf-8123-a323f9c00392",
   "metadata": {},
   "outputs": [
    {
     "data": {
      "text/plain": [
       "2337"
      ]
     },
     "execution_count": 52,
     "metadata": {},
     "output_type": "execute_result"
    }
   ],
   "source": [
    "tokenizer.add_tokens(slangs)"
   ]
  },
  {
   "cell_type": "code",
   "execution_count": 53,
   "id": "3c46d091-9cca-421b-bb0c-cff3529884b9",
   "metadata": {},
   "outputs": [
    {
     "data": {
      "text/plain": [
       "['▁no',\n",
       " '▁',\n",
       " 'pituca',\n",
       " '▁',\n",
       " 'causa',\n",
       " '▁emoji',\n",
       " '▁cara',\n",
       " '▁revolviendose',\n",
       " '▁de',\n",
       " '▁la',\n",
       " '▁risa',\n",
       " '▁emoji']"
      ]
     },
     "execution_count": 53,
     "metadata": {},
     "output_type": "execute_result"
    }
   ],
   "source": [
    "text = \"No pituca causa🤣\"\n",
    "preprocessed_text = preprocess_tweet(text)\n",
    "tokenizer.tokenize(preprocessed_text)"
   ]
  },
  {
   "cell_type": "code",
   "execution_count": 54,
   "id": "9c82b73c-3a98-4642-ba4d-b010875b28d3",
   "metadata": {},
   "outputs": [
    {
     "data": {
      "text/plain": [
       "Embedding(32282, 768)"
      ]
     },
     "execution_count": 54,
     "metadata": {},
     "output_type": "execute_result"
    }
   ],
   "source": [
    "model.resize_token_embeddings(len(tokenizer))#https://huggingface.co/docs/transformers/main_classes/tokenizer"
   ]
  },
  {
   "cell_type": "code",
   "execution_count": 55,
   "id": "5d56e2f2-159e-4ffe-86fc-3659ed308b89",
   "metadata": {},
   "outputs": [],
   "source": [
    "training_args = TrainingArguments(\n",
    "    output_dir=\"robertuito_deacc/checkpoints\",\n",
    "    per_device_train_batch_size=32,\n",
    "    per_device_eval_batch_size=16,\n",
    "    gradient_accumulation_steps=1,\n",
    "    weight_decay=0.01,\n",
    "    warmup_ratio=0.1,\n",
    "    learning_rate=5e-5,\n",
    "    do_eval=True,\n",
    "    evaluation_strategy=\"epoch\",\n",
    "    save_strategy=\"epoch\",\n",
    "    num_train_epochs=7,\n",
    "    load_best_model_at_end=True,\n",
    "    # save_total_limit=2,\n",
    "    group_by_length=True,\n",
    "    seed=1\n",
    ")"
   ]
  },
  {
   "cell_type": "code",
   "execution_count": 56,
   "id": "6055a36a-af98-4a4d-8a87-f8a6257a7c8e",
   "metadata": {},
   "outputs": [
    {
     "name": "stderr",
     "output_type": "stream",
     "text": [
      "/home/darkstar/anaconda3/envs/robertuito-env/lib/python3.10/site-packages/accelerate/accelerator.py:432: FutureWarning: Passing the following arguments to `Accelerator` is deprecated and will be removed in version 1.0 of Accelerate: dict_keys(['dispatch_batches', 'split_batches', 'even_batches', 'use_seedable_sampler']). Please pass an `accelerate.DataLoaderConfiguration` instead: \n",
      "dataloader_config = DataLoaderConfiguration(dispatch_batches=None, split_batches=False, even_batches=True, use_seedable_sampler=True)\n",
      "  warnings.warn(\n"
     ]
    }
   ],
   "source": [
    "trainer = Trainer(\n",
    "    model=model,\n",
    "    args=training_args,\n",
    "    train_dataset=tokenized_ds[\"train\"],\n",
    "    eval_dataset=tokenized_ds[\"validation\"],\n",
    "    compute_metrics=compute_metrics,\n",
    "    data_collator=DataCollatorWithPadding(tokenizer=tokenizer),\n",
    ")"
   ]
  },
  {
   "cell_type": "code",
   "execution_count": 57,
   "id": "6be1933a-b930-410d-91ff-646bdcb9a80f",
   "metadata": {
    "tags": []
   },
   "outputs": [
    {
     "name": "stdout",
     "output_type": "stream",
     "text": [
      "{'eval_loss': 0.6469389796257019, 'eval_f1': 0.6994408522981198, 'eval_recall': 0.6977939052009529, 'eval_runtime': 10.0398, 'eval_samples_per_second': 236.459, 'eval_steps_per_second': 14.841, 'epoch': 1.0}\n",
      "{'eval_loss': 0.6654224395751953, 'eval_f1': 0.7081325298621457, 'eval_recall': 0.7112291248750512, 'eval_runtime': 9.9929, 'eval_samples_per_second': 237.568, 'eval_steps_per_second': 14.911, 'epoch': 2.0}\n",
      "{'loss': 0.6428, 'grad_norm': 15.493474006652832, 'learning_rate': 3.889259506337559e-05, 'epoch': 2.1}\n",
      "{'eval_loss': 0.7456128001213074, 'eval_f1': 0.7095339658798161, 'eval_recall': 0.7105898158166357, 'eval_runtime': 10.0114, 'eval_samples_per_second': 237.129, 'eval_steps_per_second': 14.883, 'epoch': 3.0}\n",
      "{'eval_loss': 0.879938542842865, 'eval_f1': 0.6768551051157491, 'eval_recall': 0.6725008957751305, 'eval_runtime': 10.1407, 'eval_samples_per_second': 234.106, 'eval_steps_per_second': 14.693, 'epoch': 4.0}\n",
      "{'loss': 0.3654, 'grad_norm': 5.532407283782959, 'learning_rate': 2.2214809873248835e-05, 'epoch': 4.2}\n",
      "{'eval_loss': 0.9634441137313843, 'eval_f1': 0.6977392520029855, 'eval_recall': 0.6984241621560915, 'eval_runtime': 10.2502, 'eval_samples_per_second': 231.606, 'eval_steps_per_second': 14.536, 'epoch': 5.0}\n",
      "{'eval_loss': 1.0123016834259033, 'eval_f1': 0.7014804904217042, 'eval_recall': 0.7008086216280036, 'eval_runtime': 10.6674, 'eval_samples_per_second': 222.548, 'eval_steps_per_second': 13.968, 'epoch': 6.0}\n",
      "{'loss': 0.2344, 'grad_norm': 30.721378326416016, 'learning_rate': 5.5370246831220815e-06, 'epoch': 6.3}\n",
      "{'eval_loss': 1.052071213722229, 'eval_f1': 0.7023908145564487, 'eval_recall': 0.70235770971069, 'eval_runtime': 10.0368, 'eval_samples_per_second': 236.53, 'eval_steps_per_second': 14.845, 'epoch': 7.0}\n",
      "{'train_runtime': 819.8681, 'train_samples_per_second': 64.837, 'train_steps_per_second': 2.032, 'train_loss': 0.39052096935881286, 'epoch': 7.0}\n"
     ]
    },
    {
     "data": {
      "text/plain": [
       "TrainOutput(global_step=1666, training_loss=0.39052096935881286, metrics={'train_runtime': 819.8681, 'train_samples_per_second': 64.837, 'train_steps_per_second': 2.032, 'train_loss': 0.39052096935881286, 'epoch': 7.0})"
      ]
     },
     "execution_count": 57,
     "metadata": {},
     "output_type": "execute_result"
    }
   ],
   "source": [
    "trainer.train()"
   ]
  },
  {
   "cell_type": "code",
   "execution_count": 58,
   "id": "8925631b-f4c3-4cd5-9660-3fb18a4fc23a",
   "metadata": {},
   "outputs": [],
   "source": [
    "# Save trained model\n",
    "trainer.model.save_pretrained(\"robertuito_deacc/model\")"
   ]
  },
  {
   "cell_type": "code",
   "execution_count": 101,
   "id": "f2c407d3-9fa8-402c-85eb-7061a55c9984",
   "metadata": {
    "tags": []
   },
   "outputs": [],
   "source": [
    "#Test on validation set\n",
    "#https://machinelearningmastery.com/gentle-introduction-to-the-bias-variance-trade-off-in-machine-learning/"
   ]
  },
  {
   "cell_type": "code",
   "execution_count": 60,
   "id": "34fec069",
   "metadata": {},
   "outputs": [
    {
     "name": "stdout",
     "output_type": "stream",
     "text": [
      "{'eval_loss': 0.639444887638092, 'eval_f1': 0.7157106816341523, 'eval_recall': 0.7137357539399627, 'eval_runtime': 8.1147, 'eval_samples_per_second': 234.019, 'eval_steps_per_second': 14.665, 'epoch': 7.0}\n"
     ]
    }
   ],
   "source": [
    "evaluation_results = trainer.evaluate(tokenized_ds[\"test\"])"
   ]
  },
  {
   "cell_type": "code",
   "execution_count": 61,
   "id": "12e4106c-224b-4651-9cdc-f89b6e5d15c6",
   "metadata": {},
   "outputs": [
    {
     "data": {
      "text/plain": [
       "{'eval_loss': 0.639444887638092,\n",
       " 'eval_f1': 0.7157106816341523,\n",
       " 'eval_recall': 0.7137357539399627,\n",
       " 'eval_runtime': 8.1147,\n",
       " 'eval_samples_per_second': 234.019,\n",
       " 'eval_steps_per_second': 14.665,\n",
       " 'epoch': 7.0}"
      ]
     },
     "execution_count": 61,
     "metadata": {},
     "output_type": "execute_result"
    }
   ],
   "source": [
    "evaluation_results"
   ]
  },
  {
   "cell_type": "code",
   "execution_count": 62,
   "id": "7d9b0847-d809-4eeb-8b46-1a355b031930",
   "metadata": {},
   "outputs": [
    {
     "data": {
      "text/plain": [
       "PredictionOutput(predictions=array([[ 0.85300535,  0.7074553 , -1.5311743 ],\n",
       "       [-1.2862828 , -0.62539136,  2.0794606 ],\n",
       "       [ 0.61743647,  0.56271607, -0.6184396 ],\n",
       "       ...,\n",
       "       [-2.4375856 , -0.44015482,  2.7356563 ],\n",
       "       [-1.3252985 ,  0.23816833,  1.1136104 ],\n",
       "       [ 1.8142841 ,  0.3676649 , -1.885008  ]], dtype=float32), label_ids=array([1, 0, 0, ..., 2, 1, 0]), metrics={'test_loss': 0.639444887638092, 'test_f1': 0.7157106816341523, 'test_recall': 0.7137357539399627, 'test_runtime': 8.1596, 'test_samples_per_second': 232.732, 'test_steps_per_second': 14.584})"
      ]
     },
     "execution_count": 62,
     "metadata": {},
     "output_type": "execute_result"
    }
   ],
   "source": [
    "predictions = trainer.predict(tokenized_ds[\"test\"])\n",
    "predictions"
   ]
  },
  {
   "cell_type": "code",
   "execution_count": 63,
   "id": "c42a8ab3-93da-4162-967b-792ace795c70",
   "metadata": {},
   "outputs": [
    {
     "data": {
      "text/plain": [
       "1899"
      ]
     },
     "execution_count": 63,
     "metadata": {},
     "output_type": "execute_result"
    }
   ],
   "source": [
    "len(predictions[0])"
   ]
  },
  {
   "cell_type": "code",
   "execution_count": 64,
   "id": "1775df1a-f613-4c97-afab-87b3870abd21",
   "metadata": {},
   "outputs": [],
   "source": [
    "true_labels = tokenized_ds[\"test\"]['label']"
   ]
  },
  {
   "cell_type": "code",
   "execution_count": 65,
   "id": "26982e5f-dc6f-4bd5-a799-cad8e1e4728c",
   "metadata": {},
   "outputs": [
    {
     "data": {
      "text/plain": [
       "1899"
      ]
     },
     "execution_count": 65,
     "metadata": {},
     "output_type": "execute_result"
    }
   ],
   "source": [
    "len(true_labels)"
   ]
  },
  {
   "cell_type": "code",
   "execution_count": 66,
   "id": "a7087657-3e18-4ece-aa42-d96bea860046",
   "metadata": {},
   "outputs": [
    {
     "name": "stdout",
     "output_type": "stream",
     "text": [
      "              precision    recall  f1-score   support\n",
      "\n",
      "           0    0.76984   0.83724   0.80213       811\n",
      "           1    0.62851   0.56703   0.59619       552\n",
      "           2    0.76108   0.73694   0.74882       536\n",
      "\n",
      "    accuracy                        0.73038      1899\n",
      "   macro avg    0.71981   0.71374   0.71571      1899\n",
      "weighted avg    0.72629   0.73038   0.72722      1899\n",
      "\n"
     ]
    }
   ],
   "source": [
    "predicted_labels = [np.argmax(pred) for pred in predictions[0]]\n",
    "classification_rep = classification_report(true_labels, predicted_labels, digits=5)\n",
    "\n",
    "print(classification_rep)"
   ]
  },
  {
   "cell_type": "code",
   "execution_count": 67,
   "id": "57814e98",
   "metadata": {},
   "outputs": [],
   "source": [
    "#model.load_state_dict(torch.load(f'./_BERT_epoch_3.model', map_location=torch.device('cpu')))"
   ]
  },
  {
   "cell_type": "code",
   "execution_count": 68,
   "id": "ed4ae6f3",
   "metadata": {},
   "outputs": [],
   "source": [
    "#Error Analisys"
   ]
  },
  {
   "cell_type": "code",
   "execution_count": 69,
   "id": "46bbd55b",
   "metadata": {},
   "outputs": [],
   "source": [
    "val_df = ds['validation'].to_pandas()\n",
    "#val_df"
   ]
  },
  {
   "cell_type": "code",
   "execution_count": 70,
   "id": "737a62b3",
   "metadata": {},
   "outputs": [
    {
     "data": {
      "application/vnd.jupyter.widget-view+json": {
       "model_id": "010b9d81c9164e2c8cf6aa67b2437597",
       "version_major": 2,
       "version_minor": 0
      },
      "text/plain": [
       "  0%|          | 0/2374 [00:00<?, ?it/s]"
      ]
     },
     "metadata": {},
     "output_type": "display_data"
    }
   ],
   "source": [
    "# step by step predictions on dataframe\n",
    "# We do this to view predictions in the pandas dataframe and easily filter them and perform error analysis.\n",
    "pred_final = []\n",
    "\n",
    "for i, row in tqdm(val_df.iterrows(), total=val_df.shape[0]):\n",
    "    predictions = []\n",
    "\n",
    "    text = row[\"text\"]\n",
    "    encoded_data_test_single = tokenizer.batch_encode_plus([text], \n",
    "    # add_special_tokens=config.add_special_tokens, \n",
    "    # return_attention_mask=config.return_attention_mask, \n",
    "    # pad_to_max_length=config.pad_to_max_length, \n",
    "    max_length=128,\n",
    "    # return_tensors=config.return_tensors\n",
    "    return_tensors=\"pt\"\n",
    "    )\n",
    "    input_ids_test = encoded_data_test_single['input_ids']\n",
    "    attention_masks_test = encoded_data_test_single['attention_mask']\n",
    "\n",
    "    \n",
    "    inputs = {'input_ids':      input_ids_test.to(device),\n",
    "              'attention_mask':attention_masks_test.to(device),\n",
    "             }\n",
    "\n",
    "    with torch.no_grad():        \n",
    "        outputs = model(**inputs)\n",
    "    \n",
    "    logits = outputs[0]\n",
    "    logits = logits.detach().cpu().numpy()\n",
    "    predictions.append(logits)\n",
    "    predictions = np.concatenate(predictions, axis=0)\n",
    "    pred_final.append(np.argmax(predictions, axis=1).flatten()[0])"
   ]
  },
  {
   "cell_type": "code",
   "execution_count": 71,
   "id": "e2d5ea48-4899-4cb3-9027-0ea1cf46c0e0",
   "metadata": {},
   "outputs": [],
   "source": [
    "# add pred into val_df\n",
    "val_df[\"pred\"] = pred_final"
   ]
  },
  {
   "cell_type": "code",
   "execution_count": 72,
   "id": "aebc0161-59a5-4fc6-a34a-45f47f0416c5",
   "metadata": {},
   "outputs": [],
   "source": [
    "#  Add control column for easier wrong and right predictions\n",
    "control = val_df.pred.values == val_df.label.values\n",
    "val_df[\"control\"] = control"
   ]
  },
  {
   "cell_type": "code",
   "execution_count": 73,
   "id": "76106d47-0012-41ec-9656-9d3227934bab",
   "metadata": {},
   "outputs": [],
   "source": [
    "# filtering false predictions\n",
    "#val_df = val_df[val_df.control == False]"
   ]
  },
  {
   "cell_type": "code",
   "execution_count": 74,
   "id": "ecdd05ba-780e-417f-a155-812850af1b93",
   "metadata": {},
   "outputs": [],
   "source": [
    "# label to intent mapping\n",
    "name2label = {\"Negative\":0,\n",
    "              \"Neutral\":1,\n",
    "             \"Positive\":2\n",
    "             }\n",
    "label2name = {v: k for k, v in name2label.items()}\n",
    "\n",
    "val_df[\"pred_name\"] = val_df.pred.apply(lambda x: label2name.get(x)) "
   ]
  },
  {
   "cell_type": "code",
   "execution_count": 75,
   "id": "0e076559-81d8-4997-979e-330b1e15f200",
   "metadata": {},
   "outputs": [],
   "source": [
    "\n",
    "# We create a confusion matrix to better observe the classes that the model confuses.\n",
    "pred_name_values = val_df.pred_name.values\n",
    "label_values = val_df.label_name.values\n",
    "confmat = confusion_matrix(label_values, pred_name_values, labels=list(name2label.keys()))"
   ]
  },
  {
   "cell_type": "code",
   "execution_count": 76,
   "id": "86229af8-4484-4551-bfca-7280b8eab020",
   "metadata": {},
   "outputs": [
    {
     "data": {
      "text/plain": [
       "array([[513, 457,  43],\n",
       "       [124, 496,  71],\n",
       "       [ 76, 289, 305]])"
      ]
     },
     "execution_count": 76,
     "metadata": {},
     "output_type": "execute_result"
    }
   ],
   "source": [
    "confmat"
   ]
  },
  {
   "cell_type": "code",
   "execution_count": 77,
   "id": "a282fc0e-f045-430b-9126-194627f8c043",
   "metadata": {},
   "outputs": [
    {
     "data": {
      "text/html": [
       "<div>\n",
       "<style scoped>\n",
       "    .dataframe tbody tr th:only-of-type {\n",
       "        vertical-align: middle;\n",
       "    }\n",
       "\n",
       "    .dataframe tbody tr th {\n",
       "        vertical-align: top;\n",
       "    }\n",
       "\n",
       "    .dataframe thead th {\n",
       "        text-align: right;\n",
       "    }\n",
       "</style>\n",
       "<table border=\"1\" class=\"dataframe\">\n",
       "  <thead>\n",
       "    <tr style=\"text-align: right;\">\n",
       "      <th>col_0</th>\n",
       "      <th>Negative</th>\n",
       "      <th>Neutral</th>\n",
       "      <th>Positive</th>\n",
       "    </tr>\n",
       "    <tr>\n",
       "      <th>row_0</th>\n",
       "      <th></th>\n",
       "      <th></th>\n",
       "      <th></th>\n",
       "    </tr>\n",
       "  </thead>\n",
       "  <tbody>\n",
       "    <tr>\n",
       "      <th>Negative</th>\n",
       "      <td>513</td>\n",
       "      <td>457</td>\n",
       "      <td>43</td>\n",
       "    </tr>\n",
       "    <tr>\n",
       "      <th>Neutral</th>\n",
       "      <td>124</td>\n",
       "      <td>496</td>\n",
       "      <td>71</td>\n",
       "    </tr>\n",
       "    <tr>\n",
       "      <th>Positive</th>\n",
       "      <td>76</td>\n",
       "      <td>289</td>\n",
       "      <td>305</td>\n",
       "    </tr>\n",
       "  </tbody>\n",
       "</table>\n",
       "</div>"
      ],
      "text/plain": [
       "col_0     Negative  Neutral  Positive\n",
       "row_0                                \n",
       "Negative       513      457        43\n",
       "Neutral        124      496        71\n",
       "Positive        76      289       305"
      ]
     },
     "execution_count": 77,
     "metadata": {},
     "output_type": "execute_result"
    }
   ],
   "source": [
    "df_confusion_val = pd.crosstab(label_values, pred_name_values)\n",
    "df_confusion_val"
   ]
  },
  {
   "cell_type": "code",
   "execution_count": 78,
   "id": "8e6e4c35-1a05-44f2-8b40-a7a6dee7ae49",
   "metadata": {},
   "outputs": [],
   "source": [
    "# save confissuan matrix df\n",
    "df_confusion_val.to_csv(\"val_df_confusion.csv\")"
   ]
  },
  {
   "cell_type": "code",
   "execution_count": 79,
   "id": "313895af-eb99-43a0-bb0e-d6bc5d210c42",
   "metadata": {},
   "outputs": [
    {
     "data": {
      "image/png": "[encoded data removed]",
      "text/plain": [
       "<Figure size 500x400 with 2 Axes>"
      ]
     },
     "metadata": {},
     "output_type": "display_data"
    }
   ],
   "source": [
    "from sklearn.svm import SVC\n",
    "from sklearn.metrics import confusion_matrix\n",
    "import seaborn as sns\n",
    "import matplotlib.pyplot as plt\n",
    "cm = confusion_matrix(label_values, pred_name_values)\n",
    "cm_df = pd.DataFrame(cm,\n",
    "                     index = ['Negative','Neutral','Positive'], \n",
    "                     columns = ['Negative','Neutral','Positive'])\n",
    "plt.figure(figsize=(5,4))\n",
    "sns.heatmap(cm_df, annot=True,fmt=\".0f\")\n",
    "plt.title('Confusion Matrix')\n",
    "plt.ylabel('Actual Values')\n",
    "plt.xlabel('Predicted Values')\n",
    "plt.show()"
   ]
  },
  {
   "cell_type": "code",
   "execution_count": 80,
   "id": "10bdec52-f933-408e-981d-1d36870cc039",
   "metadata": {},
   "outputs": [],
   "source": [
    "val_df.to_csv('train_validation.csv', columns=['text', 'label', 'char_count', 'pred', 'control', 'pred_name'])"
   ]
  },
  {
   "cell_type": "markdown",
   "id": "c79614ce-e047-449c-b3a8-83ed2becfc20",
   "metadata": {},
   "source": [
    "## Inference"
   ]
  },
  {
   "cell_type": "code",
   "execution_count": 81,
   "id": "04ce937d-9bfc-43c1-88a9-d99a4c7f56ae",
   "metadata": {},
   "outputs": [
    {
     "data": {
      "text/plain": [
       "['y cuantas chanchas habran hecho para la salvadora de la democracia?.. emoji cara pensativa emoji',\n",
       " 'tremenda joyita  emoji corazón morado emoji  emoji corazón morado emoji  emoji corazón morado emoji',\n",
       " 'entre cabros se entienden altamirano gómez alain gerard... y de pasadita dale su beso y mepaso en su pelacho a la beto...  emoji cara llorando de risa emoji',\n",
       " 'chino llevalo al camal, a ese puerco  emoji cara revolviéndose de la risa emoji  emoji cara revolviéndose de la risa emoji',\n",
       " 'apoyo de 4 gato y un perro con virolo... emoji cara sonriente con lágrima emoji  emoji cara sonriendo con sudor frío emoji',\n",
       " 'me enamore gente, después de ver full ch0las en stream me limpiastes los ojos',\n",
       " 'henry loyola como cuando te digo \"bebé se me ve bien\" o \"bebé buscame otra talla\" y tú no colaboras amor   emoji cara decepcionada emoji  emoji cara decepcionada emoji  emoji cara decepcionada emoji',\n",
       " 'esté cabeza de chancho  emoji nariz de cerdo emoji  burro',\n",
       " 'lo de los instrumentos musicales está muy cool  emoji señal de aprobación con la mano tono de piel claro emoji',\n",
       " 'andy lopez  emoji dorso de mano con índice a la derecha emoji  emoji dorso de mano con índice a la izquierda emoji  chanchito .. costillas emoji cara saboreando comida emoji',\n",
       " 'uy qué recuerdos , mi.madre que ya no está en este mundo , lo hacía ella.masaba  10 kilos en una tina con sus manitos y ella decía que la.masa estaba cuando salía globitos lo dejaba por horas haci se hinchaba la masa ni hablar de miel con hojas de higo eran los mejores picarones los de mi madre',\n",
       " \"danely mishell herrera carbajal no pasa nada con charlie's  emoji cara llorando de risa emoji\",\n",
       " 'andres hurtado mis felicitaciones para usted x  por decirle la verdad a  esta mujer cara de tuco como el le dijo no seas abusiva ya se pasan algunas personas de mierda  emoji caca con ojos emoji   emoji persona encogida de hombros emoji   6 hijos y nisiquiera tiene para darles una vida digna que horror',\n",
       " 'que monstruos son todos  emoji cara con mano sobre la boca emoji  emoji cara sacando la lengua y guiñando un ojo emoji  emoji cara revolviéndose de la risa emoji  emoji cara gritando de miedo emoji  el único que se apiola es el chino  emoji bandera china emoji  emoji hombre con gorro chino emoji  emoji cara sacando la lengua y guiñando un ojo emoji  emoji cara con mano sobre la boca emoji  emoji cara sonriendo con gafas de sol emoji  emoji manos levantadas celebrando emoji',\n",
       " 'un rico ceviche, helados a montón, los chupetes de fruta y obvio ir a la playa  emoji luna llena con cara emoji  emoji persona haciendo surf emoji  emoji amanecer emoji',\n",
       " 'eres un enfermo, conchatumadre',\n",
       " 'a ver, sé bacán conmigo pues, conchatumadre',\n",
       " 'jaja  emoji cara revolviéndose de la risa emoji  emoji cara revolviéndose de la risa emoji  emoji cara revolviéndose de la risa emoji  por las h... más tarde seguirá chupando',\n",
       " 'miguel angel pérez cuando todo mejore en nicaragua un negocio así  emoji cara sonriendo con ojos de corazón emoji  emoji cara sonriendo con ojos de corazón emoji',\n",
       " 'serrano, no la sueltes que a lo mejor se vuela',\n",
       " 'andrew vr al colorado, nosotros tenemos que llevarlo a una ruta gastronómica. se queda 3 días mínimo  emoji cara llorando de risa emoji',\n",
       " 'manos morenas que matan y puntoo emoji pentagrama emoji  emoji nota musical emoji  emoji nota musical emoji  emoji notas musicales emoji  emoji notas musicales emoji  los mejores tiempos en familia, madrugando con mi papá para ver los partidos!! las mejores jugadoras!! emoji corazón brillante emoji  emoji corazón brillante emoji  emoji corazón brillante emoji',\n",
       " 'esos que te mandaban al bica o trica csm  emoji cara llorando de risa emoji',\n",
       " 'si me casara con una japonesa se cumpliría uno de mis más grandes sueños, y de ser así no sería tan 1di0ta de engañarla, no por la multa, sino porque de verdad la querría, y ojalá esa esposa japonesa fuera tan bella como tu  emoji cara sonriendo con ojos de corazón emoji',\n",
       " 'no me gustan las chelas, jimmy',\n",
       " 'el único terruco es ese uniformado  general de choros. los delicuentes, asesinos y violadores siguen en la calles y este tarado piensa que estamos en paz ese tombillo párese que nunca sale de su comisaría a velar por la seguridad de los ciudadanos solo salen a pedir sus coimas a los transportistas emoji dorso de mano con índice a la izquierda emoji  emoji cara sonriendo con sudor frío emoji',\n",
       " 'mano tu eres emolientero? andy ruiz berdiales  emoji cara llorando de risa emoji',\n",
       " 'sin son buenazos y lo mejor k tambn tienen relleno de. chocolate  emoji cara saboreando comida emoji  emoji cara saboreando comida emoji  emoji cara saboreando comida emoji',\n",
       " 'quiere decir que estás fregado',\n",
       " 'nadie se mete a lesbiana o maricón, alexandra']"
      ]
     },
     "execution_count": 81,
     "metadata": {},
     "output_type": "execute_result"
    }
   ],
   "source": [
    "tokenized_ds['test']['text'][:30]"
   ]
  },
  {
   "cell_type": "code",
   "execution_count": 82,
   "id": "6c8f59ba-bb88-4992-ac2b-fbe58afe4158",
   "metadata": {},
   "outputs": [],
   "source": [
    "# encoded_data_test = tokenizer.batch_encode_plus(\n",
    "#     val_df.text.values, \n",
    "#     add_special_tokens=config.add_special_tokens, \n",
    "#     return_attention_mask=config.return_attention_mask, \n",
    "#     pad_to_max_length=config.pad_to_max_length,\n",
    "#     max_length=128, \n",
    "#     return_tensors=config.return_tensors\n",
    "# )"
   ]
  },
  {
   "cell_type": "code",
   "execution_count": 83,
   "id": "1b6b284f-e6f6-4232-a1f0-15bda7fc19b3",
   "metadata": {},
   "outputs": [],
   "source": [
    "test_df = ds['test'].to_pandas()"
   ]
  },
  {
   "cell_type": "code",
   "execution_count": 84,
   "id": "926977d0",
   "metadata": {},
   "outputs": [],
   "source": [
    "#Evaluate the Model Qualitatively (Human Evaluation)"
   ]
  },
  {
   "cell_type": "code",
   "execution_count": 85,
   "id": "7faa99dc",
   "metadata": {},
   "outputs": [],
   "source": [
    "#Evaluate the Model Quantitatively (with F1 Metric)"
   ]
  },
  {
   "cell_type": "code",
   "execution_count": 86,
   "id": "c839bdd5",
   "metadata": {},
   "outputs": [],
   "source": [
    "texts = test_df[0:20]['text']\n",
    "human_baseline_labels = test_df[0:20]['label']"
   ]
  },
  {
   "cell_type": "code",
   "execution_count": 87,
   "id": "0ebbb4a1",
   "metadata": {},
   "outputs": [
    {
     "data": {
      "text/plain": [
       "0     y cuantas chanchas habran hecho para la salvad...\n",
       "1                                   tremenda joyita 💜💜💜\n",
       "2     entre cabros se entienden altamirano gómez ala...\n",
       "3               chino llevalo al camal, a ese puerco 🤣🤣\n",
       "4            apoyo de 4 gato y un perro con virolo...🥲😅\n",
       "5     me enamore gente, después de ver full ch0las e...\n",
       "6     henry loyola como cuando te digo \"bebé se me v...\n",
       "7                        esté cabeza de chancho 🐽 burro\n",
       "8     lo de los instrumentos musicales está muy cool 👌🏻\n",
       "9                 andy lopez 👉👈 chanchito .. costillas😋\n",
       "10    uy qué recuerdos , mi.madre que ya no está en ...\n",
       "11    danely mishell herrera carbajal no pasa nada c...\n",
       "12    andres hurtado mis felicitaciones para usted x...\n",
       "13    que monstruos son todos 🤭😜🤣😱 el único que se a...\n",
       "14    un rico ceviche, helados a montón, los chupete...\n",
       "15                       eres un enfermo, conchatumadre\n",
       "16          a ver, sé bacán conmigo pues, conchatumadre\n",
       "17     jaja 🤣🤣🤣 por las h... más tarde seguirá chupando\n",
       "18    miguel angel pérez cuando todo mejore en nicar...\n",
       "19       serrano, no la sueltes que a lo mejor se vuela\n",
       "Name: text, dtype: object"
      ]
     },
     "execution_count": 87,
     "metadata": {},
     "output_type": "execute_result"
    }
   ],
   "source": [
    "texts"
   ]
  },
  {
   "cell_type": "code",
   "execution_count": 88,
   "id": "fb03153f",
   "metadata": {},
   "outputs": [
    {
     "data": {
      "text/plain": [
       "0     1\n",
       "1     0\n",
       "2     0\n",
       "3     0\n",
       "4     0\n",
       "5     2\n",
       "6     1\n",
       "7     0\n",
       "8     2\n",
       "9     2\n",
       "10    2\n",
       "11    0\n",
       "12    0\n",
       "13    0\n",
       "14    2\n",
       "15    0\n",
       "16    0\n",
       "17    0\n",
       "18    2\n",
       "19    0\n",
       "Name: label, dtype: int64"
      ]
     },
     "execution_count": 88,
     "metadata": {},
     "output_type": "execute_result"
    }
   ],
   "source": [
    "human_baseline_labels"
   ]
  },
  {
   "cell_type": "code",
   "execution_count": 89,
   "id": "b059373f-0e08-4361-852c-70604bf9753b",
   "metadata": {},
   "outputs": [],
   "source": [
    "def get_prediction(text):\n",
    "    input_ids = tokenizer(text, return_tensors=\"pt\", max_length=128).input_ids.to('cuda')\n",
    "    logits = model(input_ids).logits\n",
    "    probabilities = logits.softmax(dim=-1).tolist()[0]\n",
    "    return np.argmax(probabilities).flatten()[0]"
   ]
  },
  {
   "cell_type": "code",
   "execution_count": 90,
   "id": "ab8436a9",
   "metadata": {},
   "outputs": [],
   "source": [
    "#original_model_summaries = []\n",
    "model_classifications = []\n",
    "for _, text in enumerate(texts):\n",
    "    model_classifications.append(get_prediction(text))"
   ]
  },
  {
   "cell_type": "code",
   "execution_count": 91,
   "id": "8a1a671b",
   "metadata": {},
   "outputs": [
    {
     "data": {
      "text/plain": [
       "[1, 2, 0, 0, 0, 2, 1, 1, 1, 1, 1, 1, 0, 1, 2, 0, 1, 1, 1, 1]"
      ]
     },
     "execution_count": 91,
     "metadata": {},
     "output_type": "execute_result"
    }
   ],
   "source": [
    "model_classifications"
   ]
  },
  {
   "cell_type": "code",
   "execution_count": 92,
   "id": "d7bca6e6-8d63-479f-ba6f-c2ad91651097",
   "metadata": {},
   "outputs": [
    {
     "data": {
      "application/vnd.jupyter.widget-view+json": {
       "model_id": "2161c967b4ca486b894542a8efda413e",
       "version_major": 2,
       "version_minor": 0
      },
      "text/plain": [
       "  0%|          | 0/1899 [00:00<?, ?it/s]"
      ]
     },
     "metadata": {},
     "output_type": "display_data"
    }
   ],
   "source": [
    "# step by step predictions on dataframe\n",
    "# We do this to view predictions in the pandas dataframe and easily filter them and perform error analysis.\n",
    "pred_test_final = []\n",
    "\n",
    "for i, row in tqdm(test_df.iterrows(), total=test_df.shape[0]):\n",
    "    predictions = []\n",
    "\n",
    "    text = row[\"text\"]\n",
    "    encoded_data_test_single = tokenizer.batch_encode_plus([text], \n",
    "    # add_special_tokens=config.add_special_tokens, \n",
    "    # return_attention_mask=config.return_attention_mask, \n",
    "    # pad_to_max_length=config.pad_to_max_length, \n",
    "    max_length=128,\n",
    "    # return_tensors=config.return_tensors\n",
    "    return_tensors=\"pt\"\n",
    "    )\n",
    "    input_ids_test = encoded_data_test_single['input_ids']\n",
    "    attention_masks_test = encoded_data_test_single['attention_mask']\n",
    "\n",
    "    \n",
    "    inputs = {'input_ids':      input_ids_test.to(device),\n",
    "              'attention_mask':attention_masks_test.to(device),\n",
    "             }\n",
    "\n",
    "    with torch.no_grad():        \n",
    "        outputs = model(**inputs)\n",
    "    \n",
    "    logits = outputs[0]\n",
    "    logits = logits.detach().cpu().numpy()\n",
    "    predictions.append(logits)\n",
    "    predictions = np.concatenate(predictions, axis=0)\n",
    "    pred_test_final.append(np.argmax(predictions, axis=1).flatten()[0])"
   ]
  },
  {
   "cell_type": "code",
   "execution_count": 93,
   "id": "de58df71-e97b-42e0-afc0-409674e51192",
   "metadata": {},
   "outputs": [
    {
     "data": {
      "text/plain": [
       "1899"
      ]
     },
     "execution_count": 93,
     "metadata": {},
     "output_type": "execute_result"
    }
   ],
   "source": [
    "len(pred_test_final)"
   ]
  },
  {
   "cell_type": "code",
   "execution_count": 94,
   "id": "1158e288-2a2d-4d32-9f68-588bc045501c",
   "metadata": {},
   "outputs": [
    {
     "data": {
      "text/plain": [
       "17091"
      ]
     },
     "execution_count": 94,
     "metadata": {},
     "output_type": "execute_result"
    }
   ],
   "source": [
    "test_df.size"
   ]
  },
  {
   "cell_type": "code",
   "execution_count": 95,
   "id": "bd2006db-9289-4c59-87c7-0ee43eee7b8a",
   "metadata": {},
   "outputs": [],
   "source": [
    "# add pred into val_df\n",
    "test_df[\"pred\"] = pred_test_final"
   ]
  },
  {
   "cell_type": "code",
   "execution_count": 96,
   "id": "73271066-d333-43f8-a93c-7ccf08e0cf5a",
   "metadata": {},
   "outputs": [],
   "source": [
    "# label to intent mapping\n",
    "name2label = {\"Negative\":0,\n",
    "              \"Neutral\":1,\n",
    "             \"Positive\":2\n",
    "             }\n",
    "label2name = {v: k for k, v in name2label.items()}\n",
    "\n",
    "test_df[\"pred_name\"] = test_df.pred.apply(lambda x: label2name.get(x)) "
   ]
  },
  {
   "cell_type": "code",
   "execution_count": 97,
   "id": "3915dde3-c3e7-4bc7-9726-bc6ecce61968",
   "metadata": {},
   "outputs": [
    {
     "data": {
      "text/html": [
       "<div>\n",
       "<style scoped>\n",
       "    .dataframe tbody tr th:only-of-type {\n",
       "        vertical-align: middle;\n",
       "    }\n",
       "\n",
       "    .dataframe tbody tr th {\n",
       "        vertical-align: top;\n",
       "    }\n",
       "\n",
       "    .dataframe thead th {\n",
       "        text-align: right;\n",
       "    }\n",
       "</style>\n",
       "<table border=\"1\" class=\"dataframe\">\n",
       "  <thead>\n",
       "    <tr style=\"text-align: right;\">\n",
       "      <th></th>\n",
       "      <th>text</th>\n",
       "      <th>label</th>\n",
       "      <th>label_name</th>\n",
       "      <th>text_original</th>\n",
       "      <th>tokenized_text</th>\n",
       "      <th>sent_token_length</th>\n",
       "      <th>sent_bert_token_length</th>\n",
       "      <th>char_count</th>\n",
       "      <th>Character Count</th>\n",
       "      <th>pred</th>\n",
       "      <th>pred_name</th>\n",
       "    </tr>\n",
       "  </thead>\n",
       "  <tbody>\n",
       "    <tr>\n",
       "      <th>654</th>\n",
       "      <td>adoro las plantas!! inicie con un par y ahora ...</td>\n",
       "      <td>2</td>\n",
       "      <td>Positive</td>\n",
       "      <td>Adoro las plantas!! Inicie con un par y ahora ...</td>\n",
       "      <td>adoro las plantas   inicie con un par y ahora ...</td>\n",
       "      <td>30</td>\n",
       "      <td>36</td>\n",
       "      <td>162</td>\n",
       "      <td>162</td>\n",
       "      <td>2</td>\n",
       "      <td>Positive</td>\n",
       "    </tr>\n",
       "    <tr>\n",
       "      <th>759</th>\n",
       "      <td>ella le bajó el calzoncillo</td>\n",
       "      <td>2</td>\n",
       "      <td>Positive</td>\n",
       "      <td>Ella le bajó el calzoncillo</td>\n",
       "      <td>ella le bajó el calzoncillo</td>\n",
       "      <td>5</td>\n",
       "      <td>8</td>\n",
       "      <td>27</td>\n",
       "      <td>27</td>\n",
       "      <td>0</td>\n",
       "      <td>Negative</td>\n",
       "    </tr>\n",
       "    <tr>\n",
       "      <th>1406</th>\n",
       "      <td>jaja pa la historia dice 🤣 kada momento random...</td>\n",
       "      <td>0</td>\n",
       "      <td>Negative</td>\n",
       "      <td>Jajaja pa la historia dice 🤣 kada momento rand...</td>\n",
       "      <td>jaja pa la historia dice 🤣 kada momento random...</td>\n",
       "      <td>22</td>\n",
       "      <td>24</td>\n",
       "      <td>107</td>\n",
       "      <td>107</td>\n",
       "      <td>1</td>\n",
       "      <td>Neutral</td>\n",
       "    </tr>\n",
       "    <tr>\n",
       "      <th>1737</th>\n",
       "      <td>cómo ese real combiando no hay otro ! 😎</td>\n",
       "      <td>2</td>\n",
       "      <td>Positive</td>\n",
       "      <td>Cómo ese real combiando no hay otro ! 😎</td>\n",
       "      <td>cómo ese real combiando no hay otro   😎</td>\n",
       "      <td>9</td>\n",
       "      <td>11</td>\n",
       "      <td>39</td>\n",
       "      <td>39</td>\n",
       "      <td>2</td>\n",
       "      <td>Positive</td>\n",
       "    </tr>\n",
       "    <tr>\n",
       "      <th>1787</th>\n",
       "      <td>dodoria ya habrá recuperado la plata que compr...</td>\n",
       "      <td>0</td>\n",
       "      <td>Negative</td>\n",
       "      <td>Dodoria ya habrá recuperado la plata que compr...</td>\n",
       "      <td>dodoria ya habrá recuperado la plata que compr...</td>\n",
       "      <td>13</td>\n",
       "      <td>17</td>\n",
       "      <td>74</td>\n",
       "      <td>74</td>\n",
       "      <td>1</td>\n",
       "      <td>Neutral</td>\n",
       "    </tr>\n",
       "    <tr>\n",
       "      <th>1082</th>\n",
       "      <td>caballeroso y elegante,😍😁 .que da todo por su ...</td>\n",
       "      <td>2</td>\n",
       "      <td>Positive</td>\n",
       "      <td>Caballeroso y elegante,😍😁 .que da todo por su ...</td>\n",
       "      <td>caballeroso y elegante 😍😁  que da todo por su ...</td>\n",
       "      <td>32</td>\n",
       "      <td>39</td>\n",
       "      <td>177</td>\n",
       "      <td>177</td>\n",
       "      <td>2</td>\n",
       "      <td>Positive</td>\n",
       "    </tr>\n",
       "    <tr>\n",
       "      <th>1630</th>\n",
       "      <td>a el le gusta la parranda !!! 😊</td>\n",
       "      <td>2</td>\n",
       "      <td>Positive</td>\n",
       "      <td>A el le gusta la parranda !!! 😊</td>\n",
       "      <td>a el le gusta la parranda     😊</td>\n",
       "      <td>8</td>\n",
       "      <td>10</td>\n",
       "      <td>31</td>\n",
       "      <td>31</td>\n",
       "      <td>0</td>\n",
       "      <td>Negative</td>\n",
       "    </tr>\n",
       "    <tr>\n",
       "      <th>1483</th>\n",
       "      <td>paolo inti chimbotano el hombre 😃</td>\n",
       "      <td>1</td>\n",
       "      <td>Neutral</td>\n",
       "      <td>Paolo Inti chimbotano el hombre 😃</td>\n",
       "      <td>paolo inti chimbotano el hombre 😃</td>\n",
       "      <td>6</td>\n",
       "      <td>9</td>\n",
       "      <td>33</td>\n",
       "      <td>33</td>\n",
       "      <td>1</td>\n",
       "      <td>Neutral</td>\n",
       "    </tr>\n",
       "    <tr>\n",
       "      <th>231</th>\n",
       "      <td>disfruta de la bella cajamarca, a comer rico c...</td>\n",
       "      <td>2</td>\n",
       "      <td>Positive</td>\n",
       "      <td>Disfruta de la bella Cajamarca, a comer rico c...</td>\n",
       "      <td>disfruta de la bella cajamarca  a comer rico c...</td>\n",
       "      <td>22</td>\n",
       "      <td>35</td>\n",
       "      <td>137</td>\n",
       "      <td>137</td>\n",
       "      <td>2</td>\n",
       "      <td>Positive</td>\n",
       "    </tr>\n",
       "    <tr>\n",
       "      <th>705</th>\n",
       "      <td>cuicas  se refieren como acá en perú , coneras...</td>\n",
       "      <td>1</td>\n",
       "      <td>Neutral</td>\n",
       "      <td>CUICAS  se refieren como acá en PERÚ , CONERAS...</td>\n",
       "      <td>cuicas  se refieren como acá en perú   coneras...</td>\n",
       "      <td>27</td>\n",
       "      <td>38</td>\n",
       "      <td>149</td>\n",
       "      <td>149</td>\n",
       "      <td>1</td>\n",
       "      <td>Neutral</td>\n",
       "    </tr>\n",
       "    <tr>\n",
       "      <th>1435</th>\n",
       "      <td>sgte paradero 👍🏼️👍🏼</td>\n",
       "      <td>2</td>\n",
       "      <td>Positive</td>\n",
       "      <td>Sgte paradero 👍🏼❤️👍🏼</td>\n",
       "      <td>sgte paradero 👍🏼️👍🏼</td>\n",
       "      <td>3</td>\n",
       "      <td>5</td>\n",
       "      <td>19</td>\n",
       "      <td>19</td>\n",
       "      <td>1</td>\n",
       "      <td>Neutral</td>\n",
       "    </tr>\n",
       "    <tr>\n",
       "      <th>87</th>\n",
       "      <td>chino te felicito por todo  tus logros y se si...</td>\n",
       "      <td>2</td>\n",
       "      <td>Positive</td>\n",
       "      <td>Chino te felicito por todo  tus logros y se si...</td>\n",
       "      <td>chino te felicito por todo  tus logros y se si...</td>\n",
       "      <td>56</td>\n",
       "      <td>65</td>\n",
       "      <td>280</td>\n",
       "      <td>280</td>\n",
       "      <td>2</td>\n",
       "      <td>Positive</td>\n",
       "    </tr>\n",
       "    <tr>\n",
       "      <th>1874</th>\n",
       "      <td>asu que fuerte la chaparrita 😍</td>\n",
       "      <td>2</td>\n",
       "      <td>Positive</td>\n",
       "      <td>Asu que fuerte la chaparrita 😍</td>\n",
       "      <td>asu que fuerte la chaparrita 😍</td>\n",
       "      <td>6</td>\n",
       "      <td>7</td>\n",
       "      <td>30</td>\n",
       "      <td>30</td>\n",
       "      <td>1</td>\n",
       "      <td>Neutral</td>\n",
       "    </tr>\n",
       "    <tr>\n",
       "      <th>282</th>\n",
       "      <td>se cogieron de la mano</td>\n",
       "      <td>2</td>\n",
       "      <td>Positive</td>\n",
       "      <td>Se cogieron de la mano</td>\n",
       "      <td>se cogieron de la mano</td>\n",
       "      <td>5</td>\n",
       "      <td>6</td>\n",
       "      <td>22</td>\n",
       "      <td>22</td>\n",
       "      <td>0</td>\n",
       "      <td>Negative</td>\n",
       "    </tr>\n",
       "    <tr>\n",
       "      <th>1272</th>\n",
       "      <td>este politic[ucho tóxico... realmente bien car...</td>\n",
       "      <td>0</td>\n",
       "      <td>Negative</td>\n",
       "      <td>Este politic[ucho tóxico... Realmente bien car...</td>\n",
       "      <td>este politic ucho tóxico    realmente bien car...</td>\n",
       "      <td>12</td>\n",
       "      <td>22</td>\n",
       "      <td>90</td>\n",
       "      <td>90</td>\n",
       "      <td>0</td>\n",
       "      <td>Negative</td>\n",
       "    </tr>\n",
       "    <tr>\n",
       "      <th>620</th>\n",
       "      <td>eso es muy cierto este gobierno corrupto, los ...</td>\n",
       "      <td>1</td>\n",
       "      <td>Neutral</td>\n",
       "      <td>Eso es muy cierto este gobierno corrupto, los ...</td>\n",
       "      <td>eso es muy cierto este gobierno corrupto  los ...</td>\n",
       "      <td>116</td>\n",
       "      <td>133</td>\n",
       "      <td>687</td>\n",
       "      <td>687</td>\n",
       "      <td>0</td>\n",
       "      <td>Negative</td>\n",
       "    </tr>\n",
       "    <tr>\n",
       "      <th>301</th>\n",
       "      <td>pobre chupa medias que le queda defender a su ...</td>\n",
       "      <td>0</td>\n",
       "      <td>Negative</td>\n",
       "      <td>Pobre chupa medias que le queda defender a su ...</td>\n",
       "      <td>pobre chupa medias que le queda defender a su ...</td>\n",
       "      <td>42</td>\n",
       "      <td>45</td>\n",
       "      <td>229</td>\n",
       "      <td>229</td>\n",
       "      <td>0</td>\n",
       "      <td>Negative</td>\n",
       "    </tr>\n",
       "    <tr>\n",
       "      <th>1376</th>\n",
       "      <td>da unas ganas de meterle un quechi y decirle :...</td>\n",
       "      <td>0</td>\n",
       "      <td>Negative</td>\n",
       "      <td>Da unas ganas de meterle un quechi y decirle :...</td>\n",
       "      <td>da unas ganas de meterle un quechi y decirle  ...</td>\n",
       "      <td>14</td>\n",
       "      <td>17</td>\n",
       "      <td>75</td>\n",
       "      <td>75</td>\n",
       "      <td>0</td>\n",
       "      <td>Negative</td>\n",
       "    </tr>\n",
       "    <tr>\n",
       "      <th>48</th>\n",
       "      <td>que paja video chicas 👏</td>\n",
       "      <td>2</td>\n",
       "      <td>Positive</td>\n",
       "      <td>que paja video chicas 👏</td>\n",
       "      <td>que paja video chicas 👏</td>\n",
       "      <td>5</td>\n",
       "      <td>5</td>\n",
       "      <td>23</td>\n",
       "      <td>23</td>\n",
       "      <td>2</td>\n",
       "      <td>Positive</td>\n",
       "    </tr>\n",
       "    <tr>\n",
       "      <th>137</th>\n",
       "      <td>carlos daniel salazar huevón!!! mira!!! qué fe...</td>\n",
       "      <td>2</td>\n",
       "      <td>Positive</td>\n",
       "      <td>Carlos Daniel Salazar huevón!!! Mira!!! Qué fe...</td>\n",
       "      <td>carlos daniel salazar huevón    mira    qué fe...</td>\n",
       "      <td>8</td>\n",
       "      <td>12</td>\n",
       "      <td>60</td>\n",
       "      <td>60</td>\n",
       "      <td>2</td>\n",
       "      <td>Positive</td>\n",
       "    </tr>\n",
       "    <tr>\n",
       "      <th>636</th>\n",
       "      <td>tenemos nueva cortina de humo 🤭</td>\n",
       "      <td>0</td>\n",
       "      <td>Negative</td>\n",
       "      <td>Tenemos nueva CORTINA DE HUMO 🤭</td>\n",
       "      <td>tenemos nueva cortina de humo 🤭</td>\n",
       "      <td>6</td>\n",
       "      <td>6</td>\n",
       "      <td>31</td>\n",
       "      <td>31</td>\n",
       "      <td>1</td>\n",
       "      <td>Neutral</td>\n",
       "    </tr>\n",
       "    <tr>\n",
       "      <th>120</th>\n",
       "      <td>mi viejo era crema, se murió de tuberculosis</td>\n",
       "      <td>0</td>\n",
       "      <td>Negative</td>\n",
       "      <td>Mi viejo era crema, se murió de tuberculosis</td>\n",
       "      <td>mi viejo era crema  se murió de tuberculosis</td>\n",
       "      <td>8</td>\n",
       "      <td>11</td>\n",
       "      <td>44</td>\n",
       "      <td>44</td>\n",
       "      <td>1</td>\n",
       "      <td>Neutral</td>\n",
       "    </tr>\n",
       "    <tr>\n",
       "      <th>579</th>\n",
       "      <td>a la firme tomate no canta nada y solo es imag...</td>\n",
       "      <td>0</td>\n",
       "      <td>Negative</td>\n",
       "      <td>A la firme tomate no canta nada y solo es imag...</td>\n",
       "      <td>a la firme tomate no canta nada y solo es imag...</td>\n",
       "      <td>41</td>\n",
       "      <td>46</td>\n",
       "      <td>203</td>\n",
       "      <td>203</td>\n",
       "      <td>1</td>\n",
       "      <td>Neutral</td>\n",
       "    </tr>\n",
       "    <tr>\n",
       "      <th>190</th>\n",
       "      <td>llevo fuera del peru casi 13 años, aún no he r...</td>\n",
       "      <td>1</td>\n",
       "      <td>Neutral</td>\n",
       "      <td>Llevo fuera del Peru casi 13 años, aún no he r...</td>\n",
       "      <td>llevo fuera del peru casi 13 años  aún no he r...</td>\n",
       "      <td>139</td>\n",
       "      <td>165</td>\n",
       "      <td>696</td>\n",
       "      <td>696</td>\n",
       "      <td>0</td>\n",
       "      <td>Negative</td>\n",
       "    </tr>\n",
       "    <tr>\n",
       "      <th>1026</th>\n",
       "      <td>🤣🤣🤣 tiene derecho a hacer show. ese chiqui vie...</td>\n",
       "      <td>0</td>\n",
       "      <td>Negative</td>\n",
       "      <td>🤣🤣🤣🤣 tiene derecho a hacer show. Ese chiqui vi...</td>\n",
       "      <td>🤣🤣🤣 tiene derecho a hacer show  ese chiqui vie...</td>\n",
       "      <td>28</td>\n",
       "      <td>28</td>\n",
       "      <td>144</td>\n",
       "      <td>144</td>\n",
       "      <td>0</td>\n",
       "      <td>Negative</td>\n",
       "    </tr>\n",
       "    <tr>\n",
       "      <th>1896</th>\n",
       "      <td>mi  luca bello 🥳️🤗. excellente receta. 😍</td>\n",
       "      <td>2</td>\n",
       "      <td>Positive</td>\n",
       "      <td>Mi  Luca bello 🥳❤️🤗. Excellente receta. 😍</td>\n",
       "      <td>mi  luca bello 🥳️🤗  excellente receta  😍</td>\n",
       "      <td>7</td>\n",
       "      <td>11</td>\n",
       "      <td>40</td>\n",
       "      <td>40</td>\n",
       "      <td>2</td>\n",
       "      <td>Positive</td>\n",
       "    </tr>\n",
       "    <tr>\n",
       "      <th>1780</th>\n",
       "      <td>no dijo que la clínica san juan de dios no ate...</td>\n",
       "      <td>1</td>\n",
       "      <td>Neutral</td>\n",
       "      <td>No dijo que la clínica San Juan de Dios no ate...</td>\n",
       "      <td>no dijo que la clínica san juan de dios no ate...</td>\n",
       "      <td>25</td>\n",
       "      <td>31</td>\n",
       "      <td>145</td>\n",
       "      <td>145</td>\n",
       "      <td>0</td>\n",
       "      <td>Negative</td>\n",
       "    </tr>\n",
       "    <tr>\n",
       "      <th>47</th>\n",
       "      <td>gracioso ja,ja,ja,la cara de la china 😁</td>\n",
       "      <td>1</td>\n",
       "      <td>Neutral</td>\n",
       "      <td>Gracioso ja,ja,ja,la cara de la china 😁</td>\n",
       "      <td>gracioso ja ja ja la cara de la china 😁</td>\n",
       "      <td>7</td>\n",
       "      <td>10</td>\n",
       "      <td>39</td>\n",
       "      <td>39</td>\n",
       "      <td>0</td>\n",
       "      <td>Negative</td>\n",
       "    </tr>\n",
       "    <tr>\n",
       "      <th>748</th>\n",
       "      <td>para mí las dos son igual de vulgares por no d...</td>\n",
       "      <td>0</td>\n",
       "      <td>Negative</td>\n",
       "      <td>Para mí las dos son igual de vulgares por no d...</td>\n",
       "      <td>para mí las dos son igual de vulgares por no d...</td>\n",
       "      <td>25</td>\n",
       "      <td>29</td>\n",
       "      <td>118</td>\n",
       "      <td>118</td>\n",
       "      <td>0</td>\n",
       "      <td>Negative</td>\n",
       "    </tr>\n",
       "    <tr>\n",
       "      <th>660</th>\n",
       "      <td>mí dúo perfecto y no me equivoque felicidades ...</td>\n",
       "      <td>2</td>\n",
       "      <td>Positive</td>\n",
       "      <td>Mí dúo perfecto y no me equivoque felicidades ...</td>\n",
       "      <td>mí dúo perfecto y no me equivoque felicidades ...</td>\n",
       "      <td>28</td>\n",
       "      <td>29</td>\n",
       "      <td>151</td>\n",
       "      <td>151</td>\n",
       "      <td>2</td>\n",
       "      <td>Positive</td>\n",
       "    </tr>\n",
       "  </tbody>\n",
       "</table>\n",
       "</div>"
      ],
      "text/plain": [
       "                                                   text  label label_name  \\\n",
       "654   adoro las plantas!! inicie con un par y ahora ...      2   Positive   \n",
       "759                         ella le bajó el calzoncillo      2   Positive   \n",
       "1406  jaja pa la historia dice 🤣 kada momento random...      0   Negative   \n",
       "1737            cómo ese real combiando no hay otro ! 😎      2   Positive   \n",
       "1787  dodoria ya habrá recuperado la plata que compr...      0   Negative   \n",
       "1082  caballeroso y elegante,😍😁 .que da todo por su ...      2   Positive   \n",
       "1630                    a el le gusta la parranda !!! 😊      2   Positive   \n",
       "1483                  paolo inti chimbotano el hombre 😃      1    Neutral   \n",
       "231   disfruta de la bella cajamarca, a comer rico c...      2   Positive   \n",
       "705   cuicas  se refieren como acá en perú , coneras...      1    Neutral   \n",
       "1435                                sgte paradero 👍🏼️👍🏼      2   Positive   \n",
       "87    chino te felicito por todo  tus logros y se si...      2   Positive   \n",
       "1874                     asu que fuerte la chaparrita 😍      2   Positive   \n",
       "282                              se cogieron de la mano      2   Positive   \n",
       "1272  este politic[ucho tóxico... realmente bien car...      0   Negative   \n",
       "620   eso es muy cierto este gobierno corrupto, los ...      1    Neutral   \n",
       "301   pobre chupa medias que le queda defender a su ...      0   Negative   \n",
       "1376  da unas ganas de meterle un quechi y decirle :...      0   Negative   \n",
       "48                              que paja video chicas 👏      2   Positive   \n",
       "137   carlos daniel salazar huevón!!! mira!!! qué fe...      2   Positive   \n",
       "636                     tenemos nueva cortina de humo 🤭      0   Negative   \n",
       "120        mi viejo era crema, se murió de tuberculosis      0   Negative   \n",
       "579   a la firme tomate no canta nada y solo es imag...      0   Negative   \n",
       "190   llevo fuera del peru casi 13 años, aún no he r...      1    Neutral   \n",
       "1026  🤣🤣🤣 tiene derecho a hacer show. ese chiqui vie...      0   Negative   \n",
       "1896           mi  luca bello 🥳️🤗. excellente receta. 😍      2   Positive   \n",
       "1780  no dijo que la clínica san juan de dios no ate...      1    Neutral   \n",
       "47              gracioso ja,ja,ja,la cara de la china 😁      1    Neutral   \n",
       "748   para mí las dos son igual de vulgares por no d...      0   Negative   \n",
       "660   mí dúo perfecto y no me equivoque felicidades ...      2   Positive   \n",
       "\n",
       "                                          text_original  \\\n",
       "654   Adoro las plantas!! Inicie con un par y ahora ...   \n",
       "759                         Ella le bajó el calzoncillo   \n",
       "1406  Jajaja pa la historia dice 🤣 kada momento rand...   \n",
       "1737            Cómo ese real combiando no hay otro ! 😎   \n",
       "1787  Dodoria ya habrá recuperado la plata que compr...   \n",
       "1082  Caballeroso y elegante,😍😁 .que da todo por su ...   \n",
       "1630                    A el le gusta la parranda !!! 😊   \n",
       "1483                  Paolo Inti chimbotano el hombre 😃   \n",
       "231   Disfruta de la bella Cajamarca, a comer rico c...   \n",
       "705   CUICAS  se refieren como acá en PERÚ , CONERAS...   \n",
       "1435                               Sgte paradero 👍🏼❤️👍🏼   \n",
       "87    Chino te felicito por todo  tus logros y se si...   \n",
       "1874                     Asu que fuerte la chaparrita 😍   \n",
       "282                              Se cogieron de la mano   \n",
       "1272  Este politic[ucho tóxico... Realmente bien car...   \n",
       "620   Eso es muy cierto este gobierno corrupto, los ...   \n",
       "301   Pobre chupa medias que le queda defender a su ...   \n",
       "1376  Da unas ganas de meterle un quechi y decirle :...   \n",
       "48                              que paja video chicas 👏   \n",
       "137   Carlos Daniel Salazar huevón!!! Mira!!! Qué fe...   \n",
       "636                     Tenemos nueva CORTINA DE HUMO 🤭   \n",
       "120        Mi viejo era crema, se murió de tuberculosis   \n",
       "579   A la firme tomate no canta nada y solo es imag...   \n",
       "190   Llevo fuera del Peru casi 13 años, aún no he r...   \n",
       "1026  🤣🤣🤣🤣 tiene derecho a hacer show. Ese chiqui vi...   \n",
       "1896          Mi  Luca bello 🥳❤️🤗. Excellente receta. 😍   \n",
       "1780  No dijo que la clínica San Juan de Dios no ate...   \n",
       "47              Gracioso ja,ja,ja,la cara de la china 😁   \n",
       "748   Para mí las dos son igual de vulgares por no d...   \n",
       "660   Mí dúo perfecto y no me equivoque felicidades ...   \n",
       "\n",
       "                                         tokenized_text  sent_token_length  \\\n",
       "654   adoro las plantas   inicie con un par y ahora ...                 30   \n",
       "759                         ella le bajó el calzoncillo                  5   \n",
       "1406  jaja pa la historia dice 🤣 kada momento random...                 22   \n",
       "1737            cómo ese real combiando no hay otro   😎                  9   \n",
       "1787  dodoria ya habrá recuperado la plata que compr...                 13   \n",
       "1082  caballeroso y elegante 😍😁  que da todo por su ...                 32   \n",
       "1630                    a el le gusta la parranda     😊                  8   \n",
       "1483                  paolo inti chimbotano el hombre 😃                  6   \n",
       "231   disfruta de la bella cajamarca  a comer rico c...                 22   \n",
       "705   cuicas  se refieren como acá en perú   coneras...                 27   \n",
       "1435                                sgte paradero 👍🏼️👍🏼                  3   \n",
       "87    chino te felicito por todo  tus logros y se si...                 56   \n",
       "1874                     asu que fuerte la chaparrita 😍                  6   \n",
       "282                              se cogieron de la mano                  5   \n",
       "1272  este politic ucho tóxico    realmente bien car...                 12   \n",
       "620   eso es muy cierto este gobierno corrupto  los ...                116   \n",
       "301   pobre chupa medias que le queda defender a su ...                 42   \n",
       "1376  da unas ganas de meterle un quechi y decirle  ...                 14   \n",
       "48                              que paja video chicas 👏                  5   \n",
       "137   carlos daniel salazar huevón    mira    qué fe...                  8   \n",
       "636                     tenemos nueva cortina de humo 🤭                  6   \n",
       "120        mi viejo era crema  se murió de tuberculosis                  8   \n",
       "579   a la firme tomate no canta nada y solo es imag...                 41   \n",
       "190   llevo fuera del peru casi 13 años  aún no he r...                139   \n",
       "1026  🤣🤣🤣 tiene derecho a hacer show  ese chiqui vie...                 28   \n",
       "1896           mi  luca bello 🥳️🤗  excellente receta  😍                  7   \n",
       "1780  no dijo que la clínica san juan de dios no ate...                 25   \n",
       "47              gracioso ja ja ja la cara de la china 😁                  7   \n",
       "748   para mí las dos son igual de vulgares por no d...                 25   \n",
       "660   mí dúo perfecto y no me equivoque felicidades ...                 28   \n",
       "\n",
       "      sent_bert_token_length  char_count  Character Count  pred pred_name  \n",
       "654                       36         162              162     2  Positive  \n",
       "759                        8          27               27     0  Negative  \n",
       "1406                      24         107              107     1   Neutral  \n",
       "1737                      11          39               39     2  Positive  \n",
       "1787                      17          74               74     1   Neutral  \n",
       "1082                      39         177              177     2  Positive  \n",
       "1630                      10          31               31     0  Negative  \n",
       "1483                       9          33               33     1   Neutral  \n",
       "231                       35         137              137     2  Positive  \n",
       "705                       38         149              149     1   Neutral  \n",
       "1435                       5          19               19     1   Neutral  \n",
       "87                        65         280              280     2  Positive  \n",
       "1874                       7          30               30     1   Neutral  \n",
       "282                        6          22               22     0  Negative  \n",
       "1272                      22          90               90     0  Negative  \n",
       "620                      133         687              687     0  Negative  \n",
       "301                       45         229              229     0  Negative  \n",
       "1376                      17          75               75     0  Negative  \n",
       "48                         5          23               23     2  Positive  \n",
       "137                       12          60               60     2  Positive  \n",
       "636                        6          31               31     1   Neutral  \n",
       "120                       11          44               44     1   Neutral  \n",
       "579                       46         203              203     1   Neutral  \n",
       "190                      165         696              696     0  Negative  \n",
       "1026                      28         144              144     0  Negative  \n",
       "1896                      11          40               40     2  Positive  \n",
       "1780                      31         145              145     0  Negative  \n",
       "47                        10          39               39     0  Negative  \n",
       "748                       29         118              118     0  Negative  \n",
       "660                       29         151              151     2  Positive  "
      ]
     },
     "execution_count": 97,
     "metadata": {},
     "output_type": "execute_result"
    }
   ],
   "source": [
    "test_df.sample(30)"
   ]
  },
  {
   "cell_type": "code",
   "execution_count": 98,
   "id": "d1d80690-9f0f-4f27-8924-c9cf33543000",
   "metadata": {},
   "outputs": [
    {
     "data": {
      "image/png": "[encoded data removed]",
      "text/plain": [
       "<Figure size 800x700 with 2 Axes>"
      ]
     },
     "metadata": {},
     "output_type": "display_data"
    }
   ],
   "source": [
    "from sklearn.svm import SVC\n",
    "from sklearn.metrics import confusion_matrix\n",
    "import seaborn as sns\n",
    "import matplotlib.pyplot as plt\n",
    "\n",
    "pred_name_values = test_df.pred_name.values\n",
    "label_values = test_df.label_name.values\n",
    "cm = confusion_matrix(label_values, pred_name_values)\n",
    "cm_df = pd.DataFrame(cm,\n",
    "                     index = ['Negative','Neutral','Positive'], \n",
    "                     columns = ['Negative','Neutral','Positive'])\n",
    "plt.figure(figsize=(8,7))\n",
    "sns.heatmap(cm_df, annot=True,fmt=\".0f\")\n",
    "plt.title('Confusion Matrix')\n",
    "plt.ylabel('Actual Values')\n",
    "plt.xlabel('Predicted Values')\n",
    "plt.savefig('cm_test_predictions.png')\n",
    "plt.show()"
   ]
  },
  {
   "cell_type": "code",
   "execution_count": 99,
   "id": "8496167a-614e-48cc-80f0-d6831caba303",
   "metadata": {},
   "outputs": [
    {
     "data": {
      "text/html": [
       "<div>\n",
       "<style scoped>\n",
       "    .dataframe tbody tr th:only-of-type {\n",
       "        vertical-align: middle;\n",
       "    }\n",
       "\n",
       "    .dataframe tbody tr th {\n",
       "        vertical-align: top;\n",
       "    }\n",
       "\n",
       "    .dataframe thead th {\n",
       "        text-align: right;\n",
       "    }\n",
       "</style>\n",
       "<table border=\"1\" class=\"dataframe\">\n",
       "  <thead>\n",
       "    <tr style=\"text-align: right;\">\n",
       "      <th></th>\n",
       "      <th>text</th>\n",
       "      <th>label</th>\n",
       "      <th>label_name</th>\n",
       "      <th>text_original</th>\n",
       "      <th>tokenized_text</th>\n",
       "      <th>sent_token_length</th>\n",
       "      <th>sent_bert_token_length</th>\n",
       "      <th>char_count</th>\n",
       "      <th>Character Count</th>\n",
       "      <th>pred</th>\n",
       "      <th>pred_name</th>\n",
       "    </tr>\n",
       "  </thead>\n",
       "  <tbody>\n",
       "    <tr>\n",
       "      <th>0</th>\n",
       "      <td>y cuantas chanchas habran hecho para la salvad...</td>\n",
       "      <td>1</td>\n",
       "      <td>Neutral</td>\n",
       "      <td>Y cuantas chanchas habran hecho para la salvad...</td>\n",
       "      <td>y cuantas chanchas habran hecho para la salvad...</td>\n",
       "      <td>11</td>\n",
       "      <td>15</td>\n",
       "      <td>70</td>\n",
       "      <td>70</td>\n",
       "      <td>1</td>\n",
       "      <td>Neutral</td>\n",
       "    </tr>\n",
       "    <tr>\n",
       "      <th>1</th>\n",
       "      <td>tremenda joyita 💜💜💜</td>\n",
       "      <td>0</td>\n",
       "      <td>Negative</td>\n",
       "      <td>Tremenda joyita 💜💜💜💜</td>\n",
       "      <td>tremenda joyita 💜💜💜</td>\n",
       "      <td>3</td>\n",
       "      <td>3</td>\n",
       "      <td>19</td>\n",
       "      <td>19</td>\n",
       "      <td>2</td>\n",
       "      <td>Positive</td>\n",
       "    </tr>\n",
       "    <tr>\n",
       "      <th>2</th>\n",
       "      <td>entre cabros se entienden altamirano gómez ala...</td>\n",
       "      <td>0</td>\n",
       "      <td>Negative</td>\n",
       "      <td>Entre cabros se entienden Altamirano Gómez Ala...</td>\n",
       "      <td>entre cabros se entienden altamirano gómez ala...</td>\n",
       "      <td>23</td>\n",
       "      <td>33</td>\n",
       "      <td>123</td>\n",
       "      <td>123</td>\n",
       "      <td>0</td>\n",
       "      <td>Negative</td>\n",
       "    </tr>\n",
       "    <tr>\n",
       "      <th>3</th>\n",
       "      <td>chino llevalo al camal, a ese puerco 🤣🤣</td>\n",
       "      <td>0</td>\n",
       "      <td>Negative</td>\n",
       "      <td>Chino llevalo al camal, a ese puerco 🤣🤣</td>\n",
       "      <td>chino llevalo al camal  a ese puerco 🤣🤣</td>\n",
       "      <td>8</td>\n",
       "      <td>12</td>\n",
       "      <td>39</td>\n",
       "      <td>39</td>\n",
       "      <td>0</td>\n",
       "      <td>Negative</td>\n",
       "    </tr>\n",
       "    <tr>\n",
       "      <th>4</th>\n",
       "      <td>apoyo de 4 gato y un perro con virolo...🥲😅</td>\n",
       "      <td>0</td>\n",
       "      <td>Negative</td>\n",
       "      <td>Apoyo de 4 gato y un perro con virolo...🥲😅</td>\n",
       "      <td>apoyo de 4 gato y un perro con virolo   🥲😅</td>\n",
       "      <td>9</td>\n",
       "      <td>11</td>\n",
       "      <td>42</td>\n",
       "      <td>42</td>\n",
       "      <td>0</td>\n",
       "      <td>Negative</td>\n",
       "    </tr>\n",
       "    <tr>\n",
       "      <th>...</th>\n",
       "      <td>...</td>\n",
       "      <td>...</td>\n",
       "      <td>...</td>\n",
       "      <td>...</td>\n",
       "      <td>...</td>\n",
       "      <td>...</td>\n",
       "      <td>...</td>\n",
       "      <td>...</td>\n",
       "      <td>...</td>\n",
       "      <td>...</td>\n",
       "      <td>...</td>\n",
       "    </tr>\n",
       "    <tr>\n",
       "      <th>1894</th>\n",
       "      <td>el loco wagner de grabación...🤔🤔🤔</td>\n",
       "      <td>1</td>\n",
       "      <td>Neutral</td>\n",
       "      <td>El loco Wagner de grabación...🤔🤔🤔🤔</td>\n",
       "      <td>el loco wagner de grabación   🤔🤔🤔</td>\n",
       "      <td>5</td>\n",
       "      <td>8</td>\n",
       "      <td>33</td>\n",
       "      <td>33</td>\n",
       "      <td>1</td>\n",
       "      <td>Neutral</td>\n",
       "    </tr>\n",
       "    <tr>\n",
       "      <th>1895</th>\n",
       "      <td>como le vas a quebrar la cintura al cuevita, s...</td>\n",
       "      <td>2</td>\n",
       "      <td>Positive</td>\n",
       "      <td>Como le vas a quebrar la cintura al Cuevita, s...</td>\n",
       "      <td>como le vas a quebrar la cintura al cuevita  s...</td>\n",
       "      <td>18</td>\n",
       "      <td>21</td>\n",
       "      <td>98</td>\n",
       "      <td>98</td>\n",
       "      <td>0</td>\n",
       "      <td>Negative</td>\n",
       "    </tr>\n",
       "    <tr>\n",
       "      <th>1896</th>\n",
       "      <td>mi  luca bello 🥳️🤗. excellente receta. 😍</td>\n",
       "      <td>2</td>\n",
       "      <td>Positive</td>\n",
       "      <td>Mi  Luca bello 🥳❤️🤗. Excellente receta. 😍</td>\n",
       "      <td>mi  luca bello 🥳️🤗  excellente receta  😍</td>\n",
       "      <td>7</td>\n",
       "      <td>11</td>\n",
       "      <td>40</td>\n",
       "      <td>40</td>\n",
       "      <td>2</td>\n",
       "      <td>Positive</td>\n",
       "    </tr>\n",
       "    <tr>\n",
       "      <th>1897</th>\n",
       "      <td>just lo maximo son caritos pero vale la pena d...</td>\n",
       "      <td>1</td>\n",
       "      <td>Neutral</td>\n",
       "      <td>JUST LO MAXIMO SON CARITOS PERO VALE LA PENA D...</td>\n",
       "      <td>just lo maximo son caritos pero vale la pena d...</td>\n",
       "      <td>14</td>\n",
       "      <td>15</td>\n",
       "      <td>72</td>\n",
       "      <td>72</td>\n",
       "      <td>2</td>\n",
       "      <td>Positive</td>\n",
       "    </tr>\n",
       "    <tr>\n",
       "      <th>1898</th>\n",
       "      <td>subir al mirador da miedito te cuadran te mete...</td>\n",
       "      <td>0</td>\n",
       "      <td>Negative</td>\n",
       "      <td>Subir al mirador da miedito te cuadran te mete...</td>\n",
       "      <td>subir al mirador da miedito te cuadran te mete...</td>\n",
       "      <td>11</td>\n",
       "      <td>14</td>\n",
       "      <td>59</td>\n",
       "      <td>59</td>\n",
       "      <td>0</td>\n",
       "      <td>Negative</td>\n",
       "    </tr>\n",
       "  </tbody>\n",
       "</table>\n",
       "<p>1899 rows × 11 columns</p>\n",
       "</div>"
      ],
      "text/plain": [
       "                                                   text  label label_name  \\\n",
       "0     y cuantas chanchas habran hecho para la salvad...      1    Neutral   \n",
       "1                                   tremenda joyita 💜💜💜      0   Negative   \n",
       "2     entre cabros se entienden altamirano gómez ala...      0   Negative   \n",
       "3               chino llevalo al camal, a ese puerco 🤣🤣      0   Negative   \n",
       "4            apoyo de 4 gato y un perro con virolo...🥲😅      0   Negative   \n",
       "...                                                 ...    ...        ...   \n",
       "1894                  el loco wagner de grabación...🤔🤔🤔      1    Neutral   \n",
       "1895  como le vas a quebrar la cintura al cuevita, s...      2   Positive   \n",
       "1896           mi  luca bello 🥳️🤗. excellente receta. 😍      2   Positive   \n",
       "1897  just lo maximo son caritos pero vale la pena d...      1    Neutral   \n",
       "1898  subir al mirador da miedito te cuadran te mete...      0   Negative   \n",
       "\n",
       "                                          text_original  \\\n",
       "0     Y cuantas chanchas habran hecho para la salvad...   \n",
       "1                                  Tremenda joyita 💜💜💜💜   \n",
       "2     Entre cabros se entienden Altamirano Gómez Ala...   \n",
       "3               Chino llevalo al camal, a ese puerco 🤣🤣   \n",
       "4            Apoyo de 4 gato y un perro con virolo...🥲😅   \n",
       "...                                                 ...   \n",
       "1894                 El loco Wagner de grabación...🤔🤔🤔🤔   \n",
       "1895  Como le vas a quebrar la cintura al Cuevita, s...   \n",
       "1896          Mi  Luca bello 🥳❤️🤗. Excellente receta. 😍   \n",
       "1897  JUST LO MAXIMO SON CARITOS PERO VALE LA PENA D...   \n",
       "1898  Subir al mirador da miedito te cuadran te mete...   \n",
       "\n",
       "                                         tokenized_text  sent_token_length  \\\n",
       "0     y cuantas chanchas habran hecho para la salvad...                 11   \n",
       "1                                   tremenda joyita 💜💜💜                  3   \n",
       "2     entre cabros se entienden altamirano gómez ala...                 23   \n",
       "3               chino llevalo al camal  a ese puerco 🤣🤣                  8   \n",
       "4            apoyo de 4 gato y un perro con virolo   🥲😅                  9   \n",
       "...                                                 ...                ...   \n",
       "1894                  el loco wagner de grabación   🤔🤔🤔                  5   \n",
       "1895  como le vas a quebrar la cintura al cuevita  s...                 18   \n",
       "1896           mi  luca bello 🥳️🤗  excellente receta  😍                  7   \n",
       "1897  just lo maximo son caritos pero vale la pena d...                 14   \n",
       "1898  subir al mirador da miedito te cuadran te mete...                 11   \n",
       "\n",
       "      sent_bert_token_length  char_count  Character Count  pred pred_name  \n",
       "0                         15          70               70     1   Neutral  \n",
       "1                          3          19               19     2  Positive  \n",
       "2                         33         123              123     0  Negative  \n",
       "3                         12          39               39     0  Negative  \n",
       "4                         11          42               42     0  Negative  \n",
       "...                      ...         ...              ...   ...       ...  \n",
       "1894                       8          33               33     1   Neutral  \n",
       "1895                      21          98               98     0  Negative  \n",
       "1896                      11          40               40     2  Positive  \n",
       "1897                      15          72               72     2  Positive  \n",
       "1898                      14          59               59     0  Negative  \n",
       "\n",
       "[1899 rows x 11 columns]"
      ]
     },
     "execution_count": 99,
     "metadata": {},
     "output_type": "execute_result"
    }
   ],
   "source": [
    "test_df"
   ]
  },
  {
   "cell_type": "code",
   "execution_count": 100,
   "id": "7a7ea14e-257c-4b37-8688-4444c7388a2d",
   "metadata": {},
   "outputs": [],
   "source": [
    "test_df.to_csv('test_inference.csv', columns=['text', 'label','label_name', 'char_count', 'pred', 'pred_name'])"
   ]
  },
  {
   "cell_type": "code",
   "execution_count": null,
   "id": "b1d2ccd3-00d9-4657-9fbd-4c72cf38ace8",
   "metadata": {},
   "outputs": [],
   "source": []
  }
 ],
 "metadata": {
  "kernelspec": {
   "display_name": "Python 3 (ipykernel)",
   "language": "python",
   "name": "python3"
  },
  "language_info": {
   "codemirror_mode": {
    "name": "ipython",
    "version": 3
   },
   "file_extension": ".py",
   "mimetype": "text/x-python",
   "name": "python",
   "nbconvert_exporter": "python",
   "pygments_lexer": "ipython3",
   "version": "3.10.13"
  }
 },
 "nbformat": 4,
 "nbformat_minor": 5
}
