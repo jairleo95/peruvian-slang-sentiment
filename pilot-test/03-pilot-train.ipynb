{
 "cells": [
  {
   "cell_type": "markdown",
   "id": "03c1db46-9ec6-4425-9ee1-97d0df54a34a",
   "metadata": {},
   "source": [
    "# Imports"
   ]
  },
  {
   "cell_type": "code",
   "execution_count": 1,
   "id": "de09e411",
   "metadata": {},
   "outputs": [
    {
     "name": "stderr",
     "output_type": "stream",
     "text": [
      "2024-04-17 11:54:47.494029: I external/local_tsl/tsl/cuda/cudart_stub.cc:31] Could not find cuda drivers on your machine, GPU will not be used.\n",
      "2024-04-17 11:54:47.533457: E external/local_xla/xla/stream_executor/cuda/cuda_dnn.cc:9261] Unable to register cuDNN factory: Attempting to register factory for plugin cuDNN when one has already been registered\n",
      "2024-04-17 11:54:47.533500: E external/local_xla/xla/stream_executor/cuda/cuda_fft.cc:607] Unable to register cuFFT factory: Attempting to register factory for plugin cuFFT when one has already been registered\n",
      "2024-04-17 11:54:47.534918: E external/local_xla/xla/stream_executor/cuda/cuda_blas.cc:1515] Unable to register cuBLAS factory: Attempting to register factory for plugin cuBLAS when one has already been registered\n",
      "2024-04-17 11:54:47.542120: I tensorflow/core/platform/cpu_feature_guard.cc:182] This TensorFlow binary is optimized to use available CPU instructions in performance-critical operations.\n",
      "To enable the following instructions: AVX2 FMA, in other operations, rebuild TensorFlow with the appropriate compiler flags.\n",
      "2024-04-17 11:54:48.190538: W tensorflow/compiler/tf2tensorrt/utils/py_utils.cc:38] TF-TRT Warning: Could not find TensorRT\n"
     ]
    }
   ],
   "source": [
    "import torch\n",
    "import pandas as pd\n",
    "import datasets\n",
    "import evaluate\n",
    "import numpy as np\n",
    "from datasets import load_dataset\n",
    "import ipywidgets as widgets\n",
    "from transformers import TrainingArguments, Trainer, DataCollatorWithPadding\n",
    "from transformers import AutoModelForSequenceClassification, AutoTokenizer\n",
    "\n",
    "from pysentimiento.preprocessing import preprocess_tweet\n",
    "from sklearn.metrics import classification_report\n",
    "\n",
    "from tqdm.notebook import tqdm\n",
    "from sklearn.metrics import confusion_matrix\n",
    "\n",
    "import unicodedata"
   ]
  },
  {
   "cell_type": "markdown",
   "id": "19afc274-9c3e-4664-81d3-2129c1d0f2af",
   "metadata": {},
   "source": [
    "#pip install torch==2.0.0\n",
    "#pip install pysentimiento==0.7.2\n",
    "#pip install evaluate==0.4.0\n",
    "#pip install datasets==2.14.5\n",
    "#!pip install unidecode"
   ]
  },
  {
   "cell_type": "code",
   "execution_count": 3,
   "id": "bbffc10f-3389-44e6-b810-260a1d5415f7",
   "metadata": {},
   "outputs": [],
   "source": [
    "#!pip install pysentimiento transformers datasets accelerate evaluate"
   ]
  },
  {
   "cell_type": "code",
   "execution_count": 4,
   "id": "9604c3af-87e2-4977-9983-534dd7248e59",
   "metadata": {},
   "outputs": [],
   "source": [
    "#https://huggingface.co/docs/evaluate/base_evaluator"
   ]
  },
  {
   "cell_type": "code",
   "execution_count": 140,
   "id": "50344bf0-03df-4017-b9ae-c37285b8825b",
   "metadata": {},
   "outputs": [],
   "source": [
    "#Three versions of RoBERTuito were\n",
    "#trained: a cased version which preserves the case found\n",
    "#in the original tweets, an uncased version, and a deacc\n",
    "#version, which lower-cases and removes accents on\n",
    "#tweets."
   ]
  },
  {
   "cell_type": "code",
   "execution_count": null,
   "id": "a27bea32-15d6-4617-9d4b-1c2bb0587a96",
   "metadata": {},
   "outputs": [],
   "source": [
    "max_length = 128\n",
    "model_name = \"pysentimiento/robertuito-base-deacc\""
   ]
  },
  {
   "cell_type": "markdown",
   "id": "6bdab652-daae-4e0c-9bf8-c8c3bd670349",
   "metadata": {},
   "source": [
    "# Helper Functions"
   ]
  },
  {
   "cell_type": "code",
   "execution_count": 7,
   "id": "0c23b5d4-a847-4b4b-b352-e4cb9af5d1fe",
   "metadata": {},
   "outputs": [],
   "source": [
    "pd.set_option(\"max_colwidth\", 300)"
   ]
  },
  {
   "cell_type": "code",
   "execution_count": 141,
   "id": "3fbde508-39f0-48cc-85e2-34dc8fdb7de3",
   "metadata": {},
   "outputs": [],
   "source": [
    "def remove_accents(text):\n",
    "    return ''.join((c for c in unicodedata.normalize('NFD', text) if unicodedata.category(c) != 'Mn'))"
   ]
  },
  {
   "cell_type": "code",
   "execution_count": 8,
   "id": "5ba02255",
   "metadata": {},
   "outputs": [],
   "source": [
    "# label to name\n",
    "def label2name(x):\n",
    "    if x == 0:\n",
    "        return \"Negative\"\n",
    "    if x == 1:\n",
    "        return \"Neutral\"\n",
    "    if x == 2:\n",
    "        return \"Positive\""
   ]
  },
  {
   "cell_type": "markdown",
   "id": "fd77046e-a00c-48c6-a3c6-92bb41223ab0",
   "metadata": {},
   "source": [
    "## Load Dataset"
   ]
  },
  {
   "cell_type": "code",
   "execution_count": null,
   "id": "3335a291-5fba-4101-b92c-cd4e720081f9",
   "metadata": {},
   "outputs": [],
   "source": [
    "ds = load_dataset(\"pyupeu/social-media-peruvian-sentiment\")\n",
    "ds"
   ]
  },
  {
   "cell_type": "code",
   "execution_count": null,
   "id": "dfc3234d-d0f8-4b68-b0e3-d4b57892238d",
   "metadata": {},
   "outputs": [],
   "source": [
    "# data_files = {\"train\": \"data/train.csv\", \"validation\": \"data/val.csv\", \"test\": \"data/test.csv\"}\n",
    "# ds = load_dataset(\"csv\", data_files=data_files)"
   ]
  },
  {
   "cell_type": "markdown",
   "id": "26ebcbbe-2d4c-4c5a-9afb-08b2dfea935a",
   "metadata": {},
   "source": [
    "## Performance Metrics"
   ]
  },
  {
   "cell_type": "code",
   "execution_count": 9,
   "id": "6d3164a0-faf4-4a4d-8a78-17b40b00c3f1",
   "metadata": {
    "tags": []
   },
   "outputs": [],
   "source": [
    "f1_metric = evaluate.load(\"f1\")\n",
    "recall_metric = evaluate.load(\"recall\")\n",
    "\n",
    "def compute_metrics (eval_pred):\n",
    "    logits, labels = eval_pred\n",
    "    preds = np.argmax(logits, axis = -1)\n",
    "    \n",
    "    results = {}\n",
    "    results.update(f1_metric.compute(predictions=preds, references = labels, average=\"macro\"))\n",
    "    results.update(recall_metric.compute(predictions=preds, references = labels, average=\"macro\"))\n",
    "    return results"
   ]
  },
  {
   "cell_type": "code",
   "execution_count": 15,
   "id": "051a1e13-5030-4627-8a36-2326307dcf6b",
   "metadata": {},
   "outputs": [],
   "source": [
    "#push to hugging face\n",
    "#https://huggingface.co/settings/tokens\n",
    "# from huggingface_hub import notebook_login\n",
    "# notebook_login()\n",
    "\n",
    "#ds.push_to_hub(\"jairleo95/social-media-peruvian-sentiment\")"
   ]
  },
  {
   "cell_type": "code",
   "execution_count": 17,
   "id": "0c7abe81-d2ab-49c3-92bf-6c6e36d5d852",
   "metadata": {},
   "outputs": [
    {
     "data": {
      "text/plain": [
       "{'text': Value(dtype='string', id=None),\n",
       " 'label': Value(dtype='int64', id=None),\n",
       " 'label_name': Value(dtype='string', id=None),\n",
       " 'text_original': Value(dtype='string', id=None),\n",
       " 'tokenized_text': Value(dtype='string', id=None),\n",
       " 'sent_token_length': Value(dtype='int64', id=None),\n",
       " 'sent_bert_token_length': Value(dtype='int64', id=None),\n",
       " 'char_count': Value(dtype='int64', id=None),\n",
       " 'Character Count': Value(dtype='int64', id=None)}"
      ]
     },
     "execution_count": 17,
     "metadata": {},
     "output_type": "execute_result"
    }
   ],
   "source": [
    "ds[\"train\"].features"
   ]
  },
  {
   "cell_type": "code",
   "execution_count": 18,
   "id": "9a33842b-42eb-4966-8b48-f3dd7e1aeb33",
   "metadata": {},
   "outputs": [
    {
     "data": {
      "text/plain": [
       "[1, 0, 0, 0, 0, 2, 1, 0, 2, 2]"
      ]
     },
     "execution_count": 18,
     "metadata": {},
     "output_type": "execute_result"
    }
   ],
   "source": [
    "ds[\"test\"][\"label\"][:10]"
   ]
  },
  {
   "cell_type": "code",
   "execution_count": 19,
   "id": "68d24890",
   "metadata": {},
   "outputs": [
    {
     "data": {
      "text/html": [
       "<div>\n",
       "<style scoped>\n",
       "    .dataframe tbody tr th:only-of-type {\n",
       "        vertical-align: middle;\n",
       "    }\n",
       "\n",
       "    .dataframe tbody tr th {\n",
       "        vertical-align: top;\n",
       "    }\n",
       "\n",
       "    .dataframe thead th {\n",
       "        text-align: right;\n",
       "    }\n",
       "</style>\n",
       "<table border=\"1\" class=\"dataframe\">\n",
       "  <thead>\n",
       "    <tr style=\"text-align: right;\">\n",
       "      <th></th>\n",
       "      <th>text</th>\n",
       "      <th>label</th>\n",
       "      <th>label_name</th>\n",
       "      <th>text_original</th>\n",
       "      <th>tokenized_text</th>\n",
       "      <th>sent_token_length</th>\n",
       "      <th>sent_bert_token_length</th>\n",
       "      <th>char_count</th>\n",
       "      <th>Character Count</th>\n",
       "    </tr>\n",
       "  </thead>\n",
       "  <tbody>\n",
       "    <tr>\n",
       "      <th>0</th>\n",
       "      <td>no yuli con eso se va con pendeivis 😞</td>\n",
       "      <td>1</td>\n",
       "      <td>Neutral</td>\n",
       "      <td>No Yuli con eso se va con pendeivis 😞</td>\n",
       "      <td>no yuli con eso se va con pendeivis 😞</td>\n",
       "      <td>9</td>\n",
       "      <td>12</td>\n",
       "      <td>37</td>\n",
       "      <td>37</td>\n",
       "    </tr>\n",
       "    <tr>\n",
       "      <th>1</th>\n",
       "      <td>este es más bruto... cosas que necesita el  perú obio que se importara.. todo lo que tienes que decir para que gané  kk.. mariposa 🦋 gorda... !️</td>\n",
       "      <td>0</td>\n",
       "      <td>Negative</td>\n",
       "      <td>Este es más bruto... Cosas que necesita el  Perú obio que se importara.. Todo lo que tienes que decir para que gané  KK.. Mariposa 🦋 GORDA... ‼️</td>\n",
       "      <td>este es más bruto    cosas que necesita el  perú obio que se importara   todo lo que tienes que decir para que gané  kk   mariposa 🦋 gorda     ️</td>\n",
       "      <td>27</td>\n",
       "      <td>35</td>\n",
       "      <td>144</td>\n",
       "      <td>144</td>\n",
       "    </tr>\n",
       "    <tr>\n",
       "      <th>2</th>\n",
       "      <td>bakan tu video pero el chambar es riko pero para puesto 1 no va ah, el caldo blanco es mucho mas sabroso, sin mencionar la infinidad de sopas, caldos y chupes q se prepara en arequipa como el chaque de tripas, el puchero o el timpo de rabos etc etc, saludos compare 👍</td>\n",
       "      <td>2</td>\n",
       "      <td>Positive</td>\n",
       "      <td>Bakan tu video pero el chambar es riko pero para puesto 1 no va ah, el caldo blanco es mucho mas sabroso, sin mencionar la infinidad de sopas, caldos y chupes q se prepara en arequipa como el chaque de tripas, el puchero o el timpo de rabos etc etc, saludos compare 👍</td>\n",
       "      <td>bakan tu video pero el chambar es riko pero para puesto 1 no va ah  el caldo blanco es mucho mas sabroso  sin mencionar la infinidad de sopas  caldos y chupes q se prepara en arequipa como el chaque de tripas  el puchero o el timpo de rabos etc etc  saludos compare 👍</td>\n",
       "      <td>53</td>\n",
       "      <td>67</td>\n",
       "      <td>267</td>\n",
       "      <td>267</td>\n",
       "    </tr>\n",
       "    <tr>\n",
       "      <th>3</th>\n",
       "      <td>no sabes que hacer para llamar la atención para que te dean bola en tus canciones copiada 🤮🤮🤮</td>\n",
       "      <td>0</td>\n",
       "      <td>Negative</td>\n",
       "      <td>no sabes que hacer para llamar la atención para que te dean bola en tus canciones copiada 🤮🤮🤮🤮</td>\n",
       "      <td>no sabes que hacer para llamar la atención para que te dean bola en tus canciones copiada 🤮🤮🤮</td>\n",
       "      <td>18</td>\n",
       "      <td>20</td>\n",
       "      <td>93</td>\n",
       "      <td>93</td>\n",
       "    </tr>\n",
       "    <tr>\n",
       "      <th>4</th>\n",
       "      <td>pe chino dame chamba mano, almenos pa limpiarte las tabas :v🥺</td>\n",
       "      <td>1</td>\n",
       "      <td>Neutral</td>\n",
       "      <td>Pe CHINO DAME CHAMBA MANO, ALMENOS PA LIMPIARTE LAS TABAS :V🥺</td>\n",
       "      <td>pe chino dame chamba mano  almenos pa limpiarte las tabas  v🥺</td>\n",
       "      <td>11</td>\n",
       "      <td>14</td>\n",
       "      <td>61</td>\n",
       "      <td>61</td>\n",
       "    </tr>\n",
       "  </tbody>\n",
       "</table>\n",
       "</div>"
      ],
      "text/plain": [
       "                                                                                                                                                                                                                                                                          text  \\\n",
       "0                                                                                                                                                                                                                                        no yuli con eso se va con pendeivis 😞   \n",
       "1                                                                                                                             este es más bruto... cosas que necesita el  perú obio que se importara.. todo lo que tienes que decir para que gané  kk.. mariposa 🦋 gorda... !️   \n",
       "2  bakan tu video pero el chambar es riko pero para puesto 1 no va ah, el caldo blanco es mucho mas sabroso, sin mencionar la infinidad de sopas, caldos y chupes q se prepara en arequipa como el chaque de tripas, el puchero o el timpo de rabos etc etc, saludos compare 👍   \n",
       "3                                                                                                                                                                                no sabes que hacer para llamar la atención para que te dean bola en tus canciones copiada 🤮🤮🤮   \n",
       "4                                                                                                                                                                                                                pe chino dame chamba mano, almenos pa limpiarte las tabas :v🥺   \n",
       "\n",
       "   label label_name  \\\n",
       "0      1    Neutral   \n",
       "1      0   Negative   \n",
       "2      2   Positive   \n",
       "3      0   Negative   \n",
       "4      1    Neutral   \n",
       "\n",
       "                                                                                                                                                                                                                                                                 text_original  \\\n",
       "0                                                                                                                                                                                                                                        No Yuli con eso se va con pendeivis 😞   \n",
       "1                                                                                                                             Este es más bruto... Cosas que necesita el  Perú obio que se importara.. Todo lo que tienes que decir para que gané  KK.. Mariposa 🦋 GORDA... ‼️   \n",
       "2  Bakan tu video pero el chambar es riko pero para puesto 1 no va ah, el caldo blanco es mucho mas sabroso, sin mencionar la infinidad de sopas, caldos y chupes q se prepara en arequipa como el chaque de tripas, el puchero o el timpo de rabos etc etc, saludos compare 👍   \n",
       "3                                                                                                                                                                               no sabes que hacer para llamar la atención para que te dean bola en tus canciones copiada 🤮🤮🤮🤮   \n",
       "4                                                                                                                                                                                                                Pe CHINO DAME CHAMBA MANO, ALMENOS PA LIMPIARTE LAS TABAS :V🥺   \n",
       "\n",
       "                                                                                                                                                                                                                                                                tokenized_text  \\\n",
       "0                                                                                                                                                                                                                                        no yuli con eso se va con pendeivis 😞   \n",
       "1                                                                                                                             este es más bruto    cosas que necesita el  perú obio que se importara   todo lo que tienes que decir para que gané  kk   mariposa 🦋 gorda     ️   \n",
       "2  bakan tu video pero el chambar es riko pero para puesto 1 no va ah  el caldo blanco es mucho mas sabroso  sin mencionar la infinidad de sopas  caldos y chupes q se prepara en arequipa como el chaque de tripas  el puchero o el timpo de rabos etc etc  saludos compare 👍   \n",
       "3                                                                                                                                                                                no sabes que hacer para llamar la atención para que te dean bola en tus canciones copiada 🤮🤮🤮   \n",
       "4                                                                                                                                                                                                                pe chino dame chamba mano  almenos pa limpiarte las tabas  v🥺   \n",
       "\n",
       "   sent_token_length  sent_bert_token_length  char_count  Character Count  \n",
       "0                  9                      12          37               37  \n",
       "1                 27                      35         144              144  \n",
       "2                 53                      67         267              267  \n",
       "3                 18                      20          93               93  \n",
       "4                 11                      14          61               61  "
      ]
     },
     "execution_count": 19,
     "metadata": {},
     "output_type": "execute_result"
    }
   ],
   "source": [
    "df = ds['train'].to_pandas()\n",
    "df.head()"
   ]
  },
  {
   "cell_type": "markdown",
   "id": "6fe2a38b-3efc-45f0-be8e-fddee1915bdb",
   "metadata": {},
   "source": [
    "## Model and Tokenizer"
   ]
  },
  {
   "cell_type": "code",
   "execution_count": 23,
   "id": "8299b318-0204-49cb-bf9a-14834e7796cb",
   "metadata": {
    "tags": []
   },
   "outputs": [
    {
     "name": "stderr",
     "output_type": "stream",
     "text": [
      "/home/darkstar/anaconda3/envs/robertuito-env/lib/python3.10/site-packages/torch/_utils.py:776: UserWarning: TypedStorage is deprecated. It will be removed in the future and UntypedStorage will be the only storage class. This should only matter to you if you are using storages directly.  To access UntypedStorage directly, use tensor.untyped_storage() instead of tensor.storage()\n",
      "  return self.fget.__get__(instance, owner)()\n"
     ]
    }
   ],
   "source": [
    "model = AutoModelForSequenceClassification.from_pretrained(\n",
    "    model_name,\n",
    "    num_labels=3\n",
    ")\n",
    "tokenizer = AutoTokenizer.from_pretrained(model_name)\n",
    "tokenizer.model_max_length = max_length"
   ]
  },
  {
   "cell_type": "markdown",
   "id": "269a84b6-2a2a-410c-bb66-d35ce7ecd2d5",
   "metadata": {},
   "source": [
    "## Pre processing"
   ]
  },
  {
   "cell_type": "code",
   "execution_count": 21,
   "id": "7c0615c2",
   "metadata": {},
   "outputs": [],
   "source": [
    "# encode label and mapping label name\n",
    "#df[\"label\"] = df[\"label\"].apply(lambda x: label_encode(x))\n",
    "df[\"label_name\"] = df[\"label\"].apply(lambda x: label2name(x))\n",
    "\n",
    "# remove accents\n",
    "df[\"text\"] = df[\"text\"].apply(lambda x: remove_accents(x))\n",
    "df.sample(10)"
   ]
  },
  {
   "cell_type": "code",
   "execution_count": 25,
   "id": "8ed569d2-67ca-405d-aa88-3e6de71a2356",
   "metadata": {
    "tags": []
   },
   "outputs": [],
   "source": [
    "preprocessed_ds = ds.map(lambda ex: {\"text\": preprocess_tweet(ex[\"text\"], lang=\"es\")})"
   ]
  },
  {
   "cell_type": "code",
   "execution_count": 26,
   "id": "99a78d85-4029-4621-b692-f63f396a2f6f",
   "metadata": {
    "tags": []
   },
   "outputs": [],
   "source": [
    "tokenized_ds = preprocessed_ds.map(\n",
    "    lambda batch: tokenizer(\n",
    "        batch[\"text\"], padding=True, truncation=True\n",
    "        ),\n",
    "    batched=True, batch_size=32\n",
    ")\n",
    "tokenized_ds"
   ]
  },
  {
   "cell_type": "code",
   "execution_count": 27,
   "id": "1dd95bf5",
   "metadata": {},
   "outputs": [
    {
     "data": {
      "text/plain": [
       "DatasetDict({\n",
       "    train: Dataset({\n",
       "        features: ['text', 'label', 'label_name', 'text_original', 'tokenized_text', 'sent_token_length', 'sent_bert_token_length', 'char_count', 'Character Count', 'input_ids', 'token_type_ids', 'attention_mask'],\n",
       "        num_rows: 7594\n",
       "    })\n",
       "    validation: Dataset({\n",
       "        features: ['text', 'label', 'label_name', 'text_original', 'tokenized_text', 'sent_token_length', 'sent_bert_token_length', 'char_count', 'Character Count', 'input_ids', 'token_type_ids', 'attention_mask'],\n",
       "        num_rows: 2374\n",
       "    })\n",
       "    test: Dataset({\n",
       "        features: ['text', 'label', 'label_name', 'text_original', 'tokenized_text', 'sent_token_length', 'sent_bert_token_length', 'char_count', 'Character Count', 'input_ids', 'token_type_ids', 'attention_mask'],\n",
       "        num_rows: 1899\n",
       "    })\n",
       "})"
      ]
     },
     "execution_count": 27,
     "metadata": {},
     "output_type": "execute_result"
    }
   ],
   "source": []
  },
  {
   "cell_type": "code",
   "execution_count": 28,
   "id": "d3634bf4",
   "metadata": {},
   "outputs": [
    {
     "data": {
      "text/plain": [
       "[0, 614, 1, 1, 1, 1, 1, 1, 1, 1, 1, 1, 1]"
      ]
     },
     "execution_count": 28,
     "metadata": {},
     "output_type": "execute_result"
    }
   ],
   "source": [
    "tokenized_ds['train']['input_ids'][0][::10]"
   ]
  },
  {
   "cell_type": "code",
   "execution_count": 29,
   "id": "7c23fbba",
   "metadata": {},
   "outputs": [
    {
     "data": {
      "text/plain": [
       "[1, 1, 0, 0, 0, 0, 0, 0, 0, 0, 0, 0, 0]"
      ]
     },
     "execution_count": 29,
     "metadata": {},
     "output_type": "execute_result"
    }
   ],
   "source": [
    "tokenized_ds['train']['attention_mask'][0][::10]"
   ]
  },
  {
   "cell_type": "code",
   "execution_count": 30,
   "id": "f6d33cad",
   "metadata": {},
   "outputs": [
    {
     "data": {
      "text/plain": [
       "'tu hermano gemelo manolo... sobrado la haces como su doble..   emoji cara con mano sobre la boca emoji  emoji cara con mano sobre la boca emoji'"
      ]
     },
     "execution_count": 30,
     "metadata": {},
     "output_type": "execute_result"
    }
   ],
   "source": [
    "tokenized_ds['train']['text'][10]"
   ]
  },
  {
   "cell_type": "code",
   "execution_count": 31,
   "id": "ccb30e62-df89-4712-9256-68108095f3d4",
   "metadata": {},
   "outputs": [
    {
     "data": {
      "text/plain": [
       "[0, 0, 0, 0, 0, 0, 0, 0, 0, 0, 0, 0, 0, 0, 0, 0, 0, 0, 0, 0]"
      ]
     },
     "execution_count": 31,
     "metadata": {},
     "output_type": "execute_result"
    }
   ],
   "source": [
    "tokenized_ds['train']['token_type_ids'][0][:20]"
   ]
  },
  {
   "cell_type": "code",
   "execution_count": 32,
   "id": "4b8c3363-0b4c-4e5e-8db4-f860455af0d8",
   "metadata": {},
   "outputs": [],
   "source": [
    "#tokenizer.get_vocab()"
   ]
  },
  {
   "cell_type": "code",
   "execution_count": 33,
   "id": "48d9d960-7a80-458d-aaf3-cd573db49861",
   "metadata": {},
   "outputs": [
    {
     "data": {
      "text/html": [
       "<div>\n",
       "<style scoped>\n",
       "    .dataframe tbody tr th:only-of-type {\n",
       "        vertical-align: middle;\n",
       "    }\n",
       "\n",
       "    .dataframe tbody tr th {\n",
       "        vertical-align: top;\n",
       "    }\n",
       "\n",
       "    .dataframe thead th {\n",
       "        text-align: right;\n",
       "    }\n",
       "</style>\n",
       "<table border=\"1\" class=\"dataframe\">\n",
       "  <thead>\n",
       "    <tr style=\"text-align: right;\">\n",
       "      <th></th>\n",
       "      <th>nro</th>\n",
       "      <th>Jerga</th>\n",
       "      <th>tipo</th>\n",
       "      <th>descripción corta</th>\n",
       "      <th>Descripción</th>\n",
       "      <th>fuente</th>\n",
       "    </tr>\n",
       "  </thead>\n",
       "  <tbody>\n",
       "    <tr>\n",
       "      <th>0</th>\n",
       "      <td>1</td>\n",
       "      <td>Pe</td>\n",
       "      <td>Jerga</td>\n",
       "      <td>Pues</td>\n",
       "      <td>\"Pe\", por su parte, no es otra cosa que la versión peruana del \"pues\" o el \"po\" chileno. Generalmente va al final de la frase en casos como \"¿Qué pasa, pe?\" o \"Nos vemos el sábado / Ya, pe\".</td>\n",
       "      <td>https://www.bbc.com/mundo/noticias-50213086</td>\n",
       "    </tr>\n",
       "    <tr>\n",
       "      <th>1</th>\n",
       "      <td>2</td>\n",
       "      <td>Oe</td>\n",
       "      <td>Jerga</td>\n",
       "      <td>Oye</td>\n",
       "      <td>\"Oe\" es el \"oye\" u \"oíme\" que en otros países hispanohablantes usan al interactuar con otra persona: \"¡Oe! ¿Y qué quieres hacer?\" o \"Pero hazme caso, oe\".</td>\n",
       "      <td>https://www.bbc.com/mundo/noticias-50213086</td>\n",
       "    </tr>\n",
       "    <tr>\n",
       "      <th>2</th>\n",
       "      <td>3</td>\n",
       "      <td>Lechero</td>\n",
       "      <td>Jerga</td>\n",
       "      <td>mucha suerte</td>\n",
       "      <td>Dicese de aquella persona que tiene mucha suerte / tambien se le dice a aquella persona que le gusta tener mucho sexo</td>\n",
       "      <td>https://www.bbc.com/mundo/noticias-50213086</td>\n",
       "    </tr>\n",
       "    <tr>\n",
       "      <th>3</th>\n",
       "      <td>4</td>\n",
       "      <td>Lenteja</td>\n",
       "      <td>Jerga</td>\n",
       "      <td>muy lento</td>\n",
       "      <td>Persona u objeto lento.</td>\n",
       "      <td>https://www.bbc.com/mundo/noticias-50213086</td>\n",
       "    </tr>\n",
       "    <tr>\n",
       "      <th>4</th>\n",
       "      <td>5</td>\n",
       "      <td>Tirarse la pera</td>\n",
       "      <td>expresión</td>\n",
       "      <td>ausentarse</td>\n",
       "      <td>Faltar injustificadamente al centro de trabajo o estudios</td>\n",
       "      <td>https://www.bbc.com/mundo/noticias-50213086</td>\n",
       "    </tr>\n",
       "    <tr>\n",
       "      <th>...</th>\n",
       "      <td>...</td>\n",
       "      <td>...</td>\n",
       "      <td>...</td>\n",
       "      <td>...</td>\n",
       "      <td>...</td>\n",
       "      <td>...</td>\n",
       "    </tr>\n",
       "    <tr>\n",
       "      <th>2339</th>\n",
       "      <td>2340</td>\n",
       "      <td>Meter floro o florear</td>\n",
       "      <td>expresión</td>\n",
       "      <td>Distorsionar la verdad para convencer a alguien.</td>\n",
       "      <td>Distorsionar la verdad para convencer a alguien.</td>\n",
       "      <td>NaN</td>\n",
       "    </tr>\n",
       "    <tr>\n",
       "      <th>2340</th>\n",
       "      <td>2341</td>\n",
       "      <td>Tus perras están ladrando</td>\n",
       "      <td>expresión</td>\n",
       "      <td>Los pies de una persona tienen un olor desagradable.</td>\n",
       "      <td>Los pies de una persona tienen un olor desagradable.</td>\n",
       "      <td>NaN</td>\n",
       "    </tr>\n",
       "    <tr>\n",
       "      <th>2341</th>\n",
       "      <td>2342</td>\n",
       "      <td>Hacer una chancha</td>\n",
       "      <td>expresión</td>\n",
       "      <td>Recolecta de dinero entre amigos.</td>\n",
       "      <td>Recolecta de dinero entre amigos.</td>\n",
       "      <td>NaN</td>\n",
       "    </tr>\n",
       "    <tr>\n",
       "      <th>2342</th>\n",
       "      <td>2343</td>\n",
       "      <td>Pitri mitri</td>\n",
       "      <td>expresión</td>\n",
       "      <td>Algo es asombroso.</td>\n",
       "      <td>Algo es asombroso.</td>\n",
       "      <td>NaN</td>\n",
       "    </tr>\n",
       "    <tr>\n",
       "      <th>2343</th>\n",
       "      <td>2344</td>\n",
       "      <td>en la luna de paita</td>\n",
       "      <td>expresión</td>\n",
       "      <td>estar perdido o distraido</td>\n",
       "      <td>estar perdido o distraido</td>\n",
       "      <td>NaN</td>\n",
       "    </tr>\n",
       "  </tbody>\n",
       "</table>\n",
       "<p>2344 rows × 6 columns</p>\n",
       "</div>"
      ],
      "text/plain": [
       "       nro                      Jerga       tipo  \\\n",
       "0        1                         Pe      Jerga   \n",
       "1        2                         Oe      Jerga   \n",
       "2        3                    Lechero      Jerga   \n",
       "3        4                    Lenteja      Jerga   \n",
       "4        5            Tirarse la pera  expresión   \n",
       "...    ...                        ...        ...   \n",
       "2339  2340      Meter floro o florear  expresión   \n",
       "2340  2341  Tus perras están ladrando  expresión   \n",
       "2341  2342          Hacer una chancha  expresión   \n",
       "2342  2343                Pitri mitri  expresión   \n",
       "2343  2344        en la luna de paita  expresión   \n",
       "\n",
       "                                         descripción corta  \\\n",
       "0                                                     Pues   \n",
       "1                                                      Oye   \n",
       "2                                             mucha suerte   \n",
       "3                                                muy lento   \n",
       "4                                               ausentarse   \n",
       "...                                                    ...   \n",
       "2339      Distorsionar la verdad para convencer a alguien.   \n",
       "2340  Los pies de una persona tienen un olor desagradable.   \n",
       "2341                     Recolecta de dinero entre amigos.   \n",
       "2342                                    Algo es asombroso.   \n",
       "2343                             estar perdido o distraido   \n",
       "\n",
       "                                                                                                                                                                                         Descripción  \\\n",
       "0     \"Pe\", por su parte, no es otra cosa que la versión peruana del \"pues\" o el \"po\" chileno. Generalmente va al final de la frase en casos como \"¿Qué pasa, pe?\" o \"Nos vemos el sábado / Ya, pe\".   \n",
       "1                                         \"Oe\" es el \"oye\" u \"oíme\" que en otros países hispanohablantes usan al interactuar con otra persona: \"¡Oe! ¿Y qué quieres hacer?\" o \"Pero hazme caso, oe\".   \n",
       "2                                                                              Dicese de aquella persona que tiene mucha suerte / tambien se le dice a aquella persona que le gusta tener mucho sexo   \n",
       "3                                                                                                                                                                            Persona u objeto lento.   \n",
       "4                                                                                                                                          Faltar injustificadamente al centro de trabajo o estudios   \n",
       "...                                                                                                                                                                                              ...   \n",
       "2339                                                                                                                                                Distorsionar la verdad para convencer a alguien.   \n",
       "2340                                                                                                                                            Los pies de una persona tienen un olor desagradable.   \n",
       "2341                                                                                                                                                               Recolecta de dinero entre amigos.   \n",
       "2342                                                                                                                                                                              Algo es asombroso.   \n",
       "2343                                                                                                                                                                       estar perdido o distraido   \n",
       "\n",
       "                                           fuente  \n",
       "0     https://www.bbc.com/mundo/noticias-50213086  \n",
       "1     https://www.bbc.com/mundo/noticias-50213086  \n",
       "2     https://www.bbc.com/mundo/noticias-50213086  \n",
       "3     https://www.bbc.com/mundo/noticias-50213086  \n",
       "4     https://www.bbc.com/mundo/noticias-50213086  \n",
       "...                                           ...  \n",
       "2339                                          NaN  \n",
       "2340                                          NaN  \n",
       "2341                                          NaN  \n",
       "2342                                          NaN  \n",
       "2343                                          NaN  \n",
       "\n",
       "[2344 rows x 6 columns]"
      ]
     },
     "execution_count": 33,
     "metadata": {},
     "output_type": "execute_result"
    }
   ],
   "source": [
    "df_slangs = pd.read_csv(r'../text-extraction/peruvian-slang.v1.csv')\n",
    "df_slangs"
   ]
  },
  {
   "cell_type": "code",
   "execution_count": 131,
   "id": "071c09c0-0637-40f9-bc27-2aaccac4ecaa",
   "metadata": {},
   "outputs": [
    {
     "data": {
      "text/html": [
       "<div>\n",
       "<style scoped>\n",
       "    .dataframe tbody tr th:only-of-type {\n",
       "        vertical-align: middle;\n",
       "    }\n",
       "\n",
       "    .dataframe tbody tr th {\n",
       "        vertical-align: top;\n",
       "    }\n",
       "\n",
       "    .dataframe thead th {\n",
       "        text-align: right;\n",
       "    }\n",
       "</style>\n",
       "<table border=\"1\" class=\"dataframe\">\n",
       "  <thead>\n",
       "    <tr style=\"text-align: right;\">\n",
       "      <th></th>\n",
       "      <th>nro</th>\n",
       "      <th>Jerga</th>\n",
       "      <th>tipo</th>\n",
       "      <th>descripción corta</th>\n",
       "      <th>Descripción</th>\n",
       "      <th>fuente</th>\n",
       "    </tr>\n",
       "  </thead>\n",
       "  <tbody>\n",
       "    <tr>\n",
       "      <th>29</th>\n",
       "      <td>30</td>\n",
       "      <td>mondongo</td>\n",
       "      <td>Jerga</td>\n",
       "      <td>grasa en la cintura</td>\n",
       "      <td>grasa en la cintura</td>\n",
       "      <td>https://www.lima2019.pe/magazine/milco-guia-las-jergas-peruanas-mas-usadas-para-entendernos-en-lima2019</td>\n",
       "    </tr>\n",
       "    <tr>\n",
       "      <th>53</th>\n",
       "      <td>54</td>\n",
       "      <td>ditroi</td>\n",
       "      <td>Jerga</td>\n",
       "      <td>sexo</td>\n",
       "      <td>tener sexo</td>\n",
       "      <td>https://jergozo.com/diccionario-peruano</td>\n",
       "    </tr>\n",
       "    <tr>\n",
       "      <th>847</th>\n",
       "      <td>848</td>\n",
       "      <td>guasamandrapa</td>\n",
       "      <td>Jerga</td>\n",
       "      <td>pene</td>\n",
       "      <td>Pene</td>\n",
       "      <td>https://jergozo.com/diccionario-peruano</td>\n",
       "    </tr>\n",
       "    <tr>\n",
       "      <th>1270</th>\n",
       "      <td>1271</td>\n",
       "      <td>ómnibus</td>\n",
       "      <td>Jerga</td>\n",
       "      <td>bus</td>\n",
       "      <td>Autobús urbano o local.</td>\n",
       "      <td>https://jergozo.com/diccionario-peruano</td>\n",
       "    </tr>\n",
       "    <tr>\n",
       "      <th>205</th>\n",
       "      <td>206</td>\n",
       "      <td>cacho</td>\n",
       "      <td>Jerga</td>\n",
       "      <td>que tiene relaciones sexuales</td>\n",
       "      <td>Cuando un hombre y una mujer tienen relaciones sexuales, pero dicho de forma vulgar, muchos piensan que es un palabra obsceno</td>\n",
       "      <td>https://jergozo.com/diccionario-peruano</td>\n",
       "    </tr>\n",
       "    <tr>\n",
       "      <th>1799</th>\n",
       "      <td>1800</td>\n",
       "      <td>tonazo</td>\n",
       "      <td>Jerga</td>\n",
       "      <td>fiesta</td>\n",
       "      <td>Gran fiesta</td>\n",
       "      <td>https://jergozo.com/diccionario-peruano</td>\n",
       "    </tr>\n",
       "    <tr>\n",
       "      <th>281</th>\n",
       "      <td>282</td>\n",
       "      <td>carcumena</td>\n",
       "      <td>Jerga</td>\n",
       "      <td>mugrienta</td>\n",
       "      <td>Persona que no se baña despues de años</td>\n",
       "      <td>https://jergozo.com/diccionario-peruano</td>\n",
       "    </tr>\n",
       "    <tr>\n",
       "      <th>2270</th>\n",
       "      <td>2271</td>\n",
       "      <td>chapar</td>\n",
       "      <td>Jerga</td>\n",
       "      <td>besar</td>\n",
       "      <td>1. Besar. / Los vieron chapando a la vuelta de la esquina, 2. Agarrar, coger, tomar, asir. / Anda a la esquina y chapa el bus de color azul, ese te lleva. / Chapa tu cartera, no vayas a dejarla, 3. Atrapar. / Y al final, después de tanto correteo, los policías chaparon al choro.</td>\n",
       "      <td>https://www.wikilengua.org/index.php/Jerga_juvenil/Per%C3%BA</td>\n",
       "    </tr>\n",
       "    <tr>\n",
       "      <th>2241</th>\n",
       "      <td>2242</td>\n",
       "      <td>chato</td>\n",
       "      <td>Jerga</td>\n",
       "      <td>de baja estatura</td>\n",
       "      <td>corto, usado para describir a una persona (a menudo usado como apodo).</td>\n",
       "      <td>https://www.jerga.net/jerga-peruana/</td>\n",
       "    </tr>\n",
       "    <tr>\n",
       "      <th>625</th>\n",
       "      <td>626</td>\n",
       "      <td>de pinga</td>\n",
       "      <td>expresión</td>\n",
       "      <td>pene</td>\n",
       "      <td>Órgano sexual masculino. Se usa en grupos marginales y se considera más que una palabra altisonante una grosería.</td>\n",
       "      <td>https://jergozo.com/diccionario-peruano</td>\n",
       "    </tr>\n",
       "    <tr>\n",
       "      <th>32</th>\n",
       "      <td>33</td>\n",
       "      <td>este pechito</td>\n",
       "      <td>Jerga</td>\n",
       "      <td>Yo</td>\n",
       "      <td>expresión utilizada para referirse a uno mismo</td>\n",
       "      <td>https://www.lima2019.pe/magazine/milco-guia-las-jergas-peruanas-mas-usadas-para-entendernos-en-lima2019</td>\n",
       "    </tr>\n",
       "    <tr>\n",
       "      <th>898</th>\n",
       "      <td>899</td>\n",
       "      <td>horacio</td>\n",
       "      <td>Jerga</td>\n",
       "      <td>hora</td>\n",
       "      <td>Significa hora</td>\n",
       "      <td>https://jergozo.com/diccionario-peruano</td>\n",
       "    </tr>\n",
       "    <tr>\n",
       "      <th>1782</th>\n",
       "      <td>1783</td>\n",
       "      <td>tiraje</td>\n",
       "      <td>Jerga</td>\n",
       "      <td>numero de ejemplares</td>\n",
       "      <td>Tirada , numero de ejemplares editados</td>\n",
       "      <td>https://jergozo.com/diccionario-peruano</td>\n",
       "    </tr>\n",
       "    <tr>\n",
       "      <th>457</th>\n",
       "      <td>458</td>\n",
       "      <td>chungo</td>\n",
       "      <td>Jerga</td>\n",
       "      <td>piedra</td>\n",
       "      <td>Instrumento de piedra en forma de media luna para triturar o moler.</td>\n",
       "      <td>https://jergozo.com/diccionario-peruano</td>\n",
       "    </tr>\n",
       "    <tr>\n",
       "      <th>10</th>\n",
       "      <td>11</td>\n",
       "      <td>asu mare</td>\n",
       "      <td>Jerga</td>\n",
       "      <td>guau</td>\n",
       "      <td>expresión de asombro</td>\n",
       "      <td>https://www.lima2019.pe/magazine/milco-guia-las-jergas-peruanas-mas-usadas-para-entendernos-en-lima2019</td>\n",
       "    </tr>\n",
       "    <tr>\n",
       "      <th>697</th>\n",
       "      <td>698</td>\n",
       "      <td>enante</td>\n",
       "      <td>Jerga</td>\n",
       "      <td>Ocurrido hace poco</td>\n",
       "      <td>Ocurrido hace poco</td>\n",
       "      <td>https://jergozo.com/diccionario-peruano</td>\n",
       "    </tr>\n",
       "    <tr>\n",
       "      <th>339</th>\n",
       "      <td>340</td>\n",
       "      <td>chanca</td>\n",
       "      <td>Jerga</td>\n",
       "      <td>golpea</td>\n",
       "      <td>Trituración.</td>\n",
       "      <td>https://jergozo.com/diccionario-peruano</td>\n",
       "    </tr>\n",
       "    <tr>\n",
       "      <th>626</th>\n",
       "      <td>627</td>\n",
       "      <td>de porrazo</td>\n",
       "      <td>expresión</td>\n",
       "      <td>De una vez.</td>\n",
       "      <td>De una vez.</td>\n",
       "      <td>https://jergozo.com/diccionario-peruano</td>\n",
       "    </tr>\n",
       "    <tr>\n",
       "      <th>358</th>\n",
       "      <td>359</td>\n",
       "      <td>charapas</td>\n",
       "      <td>Jerga</td>\n",
       "      <td>de la selva</td>\n",
       "      <td>Es un animal , es usada para las tortugas acuaticas, podocnemis unifilis</td>\n",
       "      <td>https://jergozo.com/diccionario-peruano</td>\n",
       "    </tr>\n",
       "    <tr>\n",
       "      <th>1468</th>\n",
       "      <td>1469</td>\n",
       "      <td>plomo</td>\n",
       "      <td>Jerga</td>\n",
       "      <td>pistola</td>\n",
       "      <td>pistola</td>\n",
       "      <td>https://jergozo.com/diccionario-peruano</td>\n",
       "    </tr>\n",
       "  </tbody>\n",
       "</table>\n",
       "</div>"
      ],
      "text/plain": [
       "       nro          Jerga       tipo              descripción corta  \\\n",
       "29      30       mondongo      Jerga            grasa en la cintura   \n",
       "53      54         ditroi      Jerga                           sexo   \n",
       "847    848  guasamandrapa      Jerga                           pene   \n",
       "1270  1271        ómnibus      Jerga                            bus   \n",
       "205    206          cacho      Jerga  que tiene relaciones sexuales   \n",
       "1799  1800         tonazo      Jerga                         fiesta   \n",
       "281    282      carcumena      Jerga                      mugrienta   \n",
       "2270  2271         chapar      Jerga                          besar   \n",
       "2241  2242          chato      Jerga               de baja estatura   \n",
       "625    626       de pinga  expresión                           pene   \n",
       "32      33   este pechito      Jerga                             Yo   \n",
       "898    899        horacio      Jerga                           hora   \n",
       "1782  1783         tiraje      Jerga           numero de ejemplares   \n",
       "457    458         chungo      Jerga                         piedra   \n",
       "10      11       asu mare      Jerga                           guau   \n",
       "697    698         enante      Jerga             Ocurrido hace poco   \n",
       "339    340         chanca      Jerga                         golpea   \n",
       "626    627     de porrazo  expresión                    De una vez.   \n",
       "358    359       charapas      Jerga                    de la selva   \n",
       "1468  1469          plomo      Jerga                        pistola   \n",
       "\n",
       "                                                                                                                                                                                                                                                                                  Descripción  \\\n",
       "29                                                                                                                                                                                                                                                                        grasa en la cintura   \n",
       "53                                                                                                                                                                                                                                                                                 tener sexo   \n",
       "847                                                                                                                                                                                                                                                                                      Pene   \n",
       "1270                                                                                                                                                                                                                                                                  Autobús urbano o local.   \n",
       "205                                                                                                                                                             Cuando un hombre y una mujer tienen relaciones sexuales, pero dicho de forma vulgar, muchos piensan que es un palabra obsceno   \n",
       "1799                                                                                                                                                                                                                                                                              Gran fiesta   \n",
       "281                                                                                                                                                                                                                                                    Persona que no se baña despues de años   \n",
       "2270  1. Besar. / Los vieron chapando a la vuelta de la esquina, 2. Agarrar, coger, tomar, asir. / Anda a la esquina y chapa el bus de color azul, ese te lleva. / Chapa tu cartera, no vayas a dejarla, 3. Atrapar. / Y al final, después de tanto correteo, los policías chaparon al choro.   \n",
       "2241                                                                                                                                                                                                                   corto, usado para describir a una persona (a menudo usado como apodo).   \n",
       "625                                                                                                                                                                         Órgano sexual masculino. Se usa en grupos marginales y se considera más que una palabra altisonante una grosería.   \n",
       "32                                                                                                                                                                                                                                             expresión utilizada para referirse a uno mismo   \n",
       "898                                                                                                                                                                                                                                                                            Significa hora   \n",
       "1782                                                                                                                                                                                                                                                   Tirada , numero de ejemplares editados   \n",
       "457                                                                                                                                                                                                                       Instrumento de piedra en forma de media luna para triturar o moler.   \n",
       "10                                                                                                                                                                                                                                                                       expresión de asombro   \n",
       "697                                                                                                                                                                                                                                                                        Ocurrido hace poco   \n",
       "339                                                                                                                                                                                                                                                                              Trituración.   \n",
       "626                                                                                                                                                                                                                                                                               De una vez.   \n",
       "358                                                                                                                                                                                                                  Es un animal , es usada para las tortugas acuaticas, podocnemis unifilis   \n",
       "1468                                                                                                                                                                                                                                                                                  pistola   \n",
       "\n",
       "                                                                                                       fuente  \n",
       "29    https://www.lima2019.pe/magazine/milco-guia-las-jergas-peruanas-mas-usadas-para-entendernos-en-lima2019  \n",
       "53                                                                    https://jergozo.com/diccionario-peruano  \n",
       "847                                                                   https://jergozo.com/diccionario-peruano  \n",
       "1270                                                                  https://jergozo.com/diccionario-peruano  \n",
       "205                                                                   https://jergozo.com/diccionario-peruano  \n",
       "1799                                                                  https://jergozo.com/diccionario-peruano  \n",
       "281                                                                   https://jergozo.com/diccionario-peruano  \n",
       "2270                                             https://www.wikilengua.org/index.php/Jerga_juvenil/Per%C3%BA  \n",
       "2241                                                                     https://www.jerga.net/jerga-peruana/  \n",
       "625                                                                   https://jergozo.com/diccionario-peruano  \n",
       "32    https://www.lima2019.pe/magazine/milco-guia-las-jergas-peruanas-mas-usadas-para-entendernos-en-lima2019  \n",
       "898                                                                   https://jergozo.com/diccionario-peruano  \n",
       "1782                                                                  https://jergozo.com/diccionario-peruano  \n",
       "457                                                                   https://jergozo.com/diccionario-peruano  \n",
       "10    https://www.lima2019.pe/magazine/milco-guia-las-jergas-peruanas-mas-usadas-para-entendernos-en-lima2019  \n",
       "697                                                                   https://jergozo.com/diccionario-peruano  \n",
       "339                                                                   https://jergozo.com/diccionario-peruano  \n",
       "626                                                                   https://jergozo.com/diccionario-peruano  \n",
       "358                                                                   https://jergozo.com/diccionario-peruano  \n",
       "1468                                                                  https://jergozo.com/diccionario-peruano  "
      ]
     },
     "execution_count": 131,
     "metadata": {},
     "output_type": "execute_result"
    }
   ],
   "source": [
    "df_slangs.sample(20)"
   ]
  },
  {
   "cell_type": "code",
   "execution_count": 35,
   "id": "0342d143-4eee-44f1-912a-d3e1b394cb43",
   "metadata": {},
   "outputs": [],
   "source": [
    "df_slangs['Jerga'] = df_slangs['Jerga'].apply(lambda x: x.lower())\n",
    "slangs = df_slangs['Jerga'].values.tolist()"
   ]
  },
  {
   "cell_type": "code",
   "execution_count": 36,
   "id": "79d6f8a8-65ca-4350-8a7e-bb6ad3139fff",
   "metadata": {},
   "outputs": [
    {
     "data": {
      "text/plain": [
       "2344"
      ]
     },
     "execution_count": 36,
     "metadata": {},
     "output_type": "execute_result"
    }
   ],
   "source": [
    "len(slangs)"
   ]
  },
  {
   "cell_type": "code",
   "execution_count": 37,
   "id": "ad38cceb-5c98-4424-8600-210e4612022d",
   "metadata": {},
   "outputs": [
    {
     "data": {
      "text/plain": [
       "'<unk>'"
      ]
     },
     "execution_count": 37,
     "metadata": {},
     "output_type": "execute_result"
    }
   ],
   "source": [
    "tokenizer.unk_token"
   ]
  },
  {
   "cell_type": "code",
   "execution_count": 38,
   "id": "469074ed-9e65-4a9e-913c-6151f5c5d8b3",
   "metadata": {},
   "outputs": [
    {
     "data": {
      "text/plain": [
       "RobertaForSequenceClassification(\n",
       "  (roberta): RobertaModel(\n",
       "    (embeddings): RobertaEmbeddings(\n",
       "      (word_embeddings): Embedding(30000, 768, padding_idx=1)\n",
       "      (position_embeddings): Embedding(130, 768, padding_idx=1)\n",
       "      (token_type_embeddings): Embedding(1, 768)\n",
       "      (LayerNorm): LayerNorm((768,), eps=1e-12, elementwise_affine=True)\n",
       "      (dropout): Dropout(p=0.1, inplace=False)\n",
       "    )\n",
       "    (encoder): RobertaEncoder(\n",
       "      (layer): ModuleList(\n",
       "        (0-11): 12 x RobertaLayer(\n",
       "          (attention): RobertaAttention(\n",
       "            (self): RobertaSelfAttention(\n",
       "              (query): Linear(in_features=768, out_features=768, bias=True)\n",
       "              (key): Linear(in_features=768, out_features=768, bias=True)\n",
       "              (value): Linear(in_features=768, out_features=768, bias=True)\n",
       "              (dropout): Dropout(p=0.1, inplace=False)\n",
       "            )\n",
       "            (output): RobertaSelfOutput(\n",
       "              (dense): Linear(in_features=768, out_features=768, bias=True)\n",
       "              (LayerNorm): LayerNorm((768,), eps=1e-12, elementwise_affine=True)\n",
       "              (dropout): Dropout(p=0.1, inplace=False)\n",
       "            )\n",
       "          )\n",
       "          (intermediate): RobertaIntermediate(\n",
       "            (dense): Linear(in_features=768, out_features=3072, bias=True)\n",
       "            (intermediate_act_fn): GELUActivation()\n",
       "          )\n",
       "          (output): RobertaOutput(\n",
       "            (dense): Linear(in_features=3072, out_features=768, bias=True)\n",
       "            (LayerNorm): LayerNorm((768,), eps=1e-12, elementwise_affine=True)\n",
       "            (dropout): Dropout(p=0.1, inplace=False)\n",
       "          )\n",
       "        )\n",
       "      )\n",
       "    )\n",
       "  )\n",
       "  (classifier): RobertaClassificationHead(\n",
       "    (dense): Linear(in_features=768, out_features=768, bias=True)\n",
       "    (dropout): Dropout(p=0.1, inplace=False)\n",
       "    (out_proj): Linear(in_features=768, out_features=3, bias=True)\n",
       "  )\n",
       ")"
      ]
     },
     "execution_count": 38,
     "metadata": {},
     "output_type": "execute_result"
    }
   ],
   "source": [
    "#import torch\n",
    "device = \"cuda\" if torch.cuda.is_available() else \"cpu\"\n",
    "model.cuda()"
   ]
  },
  {
   "cell_type": "code",
   "execution_count": 39,
   "id": "ee97c2b0-3e7c-45e9-b6ca-da55d4671d41",
   "metadata": {},
   "outputs": [
    {
     "data": {
      "text/plain": [
       "Dataset({\n",
       "    features: ['text', 'label', 'label_name', 'text_original', 'tokenized_text', 'sent_token_length', 'sent_bert_token_length', 'char_count', 'Character Count', 'input_ids', 'token_type_ids', 'attention_mask'],\n",
       "    num_rows: 7594\n",
       "})"
      ]
     },
     "execution_count": 39,
     "metadata": {},
     "output_type": "execute_result"
    }
   ],
   "source": [
    "tokenized_ds['train']"
   ]
  },
  {
   "cell_type": "code",
   "execution_count": 40,
   "id": "e32938cf-99f5-4829-8a2b-e5610f428a2d",
   "metadata": {},
   "outputs": [
    {
     "data": {
      "text/plain": [
       "128"
      ]
     },
     "execution_count": 40,
     "metadata": {},
     "output_type": "execute_result"
    }
   ],
   "source": [
    "len(tokenized_ds['train']['input_ids'][0])"
   ]
  },
  {
   "cell_type": "code",
   "execution_count": 44,
   "id": "a5d69388-ca60-4372-b09f-5c48e3cdffda",
   "metadata": {},
   "outputs": [
    {
     "data": {
      "text/plain": [
       "103"
      ]
     },
     "execution_count": 44,
     "metadata": {},
     "output_type": "execute_result"
    }
   ],
   "source": [
    "len(tokenized_ds['train']['input_ids'][2222])"
   ]
  },
  {
   "cell_type": "code",
   "execution_count": 45,
   "id": "6b6a3850-ab08-4129-861a-7e826fdf2a72",
   "metadata": {},
   "outputs": [
    {
     "data": {
      "text/plain": [
       "'cristian ya fuistes a partir de ahora será así emoji cara con ojos en blanco emoji  emoji cara llorando de risa emoji  emoji cara llorando de risa emoji  emoji cara revolviéndose de la risa emoji  emoji cara revolviéndose de la risa emoji'"
      ]
     },
     "execution_count": 45,
     "metadata": {},
     "output_type": "execute_result"
    }
   ],
   "source": [
    "(tokenized_ds['train']['text'][2222])"
   ]
  },
  {
   "cell_type": "code",
   "execution_count": 46,
   "id": "2db32bc4-26e7-48e7-bf9c-32fad7137dec",
   "metadata": {},
   "outputs": [
    {
     "data": {
      "text/plain": [
       "103"
      ]
     },
     "execution_count": 46,
     "metadata": {},
     "output_type": "execute_result"
    }
   ],
   "source": [
    "len(tokenized_ds['train']['input_ids'][2222])"
   ]
  },
  {
   "cell_type": "code",
   "execution_count": 47,
   "id": "231b3f86-00fc-4bcc-9bba-528a9048777b",
   "metadata": {},
   "outputs": [
    {
     "data": {
      "text/plain": [
       "30000"
      ]
     },
     "execution_count": 47,
     "metadata": {},
     "output_type": "execute_result"
    }
   ],
   "source": [
    "len(tokenizer)"
   ]
  },
  {
   "cell_type": "code",
   "execution_count": 48,
   "id": "7ab5876e-e726-4664-aa8a-f031b1bb91e9",
   "metadata": {},
   "outputs": [
    {
     "data": {
      "text/plain": [
       "'Ximena Ariana Yolanda para nuestros lonchesitos 😍'"
      ]
     },
     "execution_count": 48,
     "metadata": {},
     "output_type": "execute_result"
    }
   ],
   "source": [
    "tokenized_ds['train']['text_original'][2134]"
   ]
  },
  {
   "cell_type": "code",
   "execution_count": 49,
   "id": "ca04d8ca-42a6-4abf-8123-a323f9c00392",
   "metadata": {},
   "outputs": [
    {
     "data": {
      "text/plain": [
       "2337"
      ]
     },
     "execution_count": 49,
     "metadata": {},
     "output_type": "execute_result"
    }
   ],
   "source": [
    "tokenizer.add_tokens(slangs)"
   ]
  },
  {
   "cell_type": "code",
   "execution_count": 50,
   "id": "f956dfe5-1276-4669-ab36-61e120e0af7c",
   "metadata": {},
   "outputs": [],
   "source": [
    "old_tokenizer = AutoTokenizer.from_pretrained(model_name)"
   ]
  },
  {
   "cell_type": "code",
   "execution_count": 53,
   "id": "1733c02d-0898-470c-a950-8b1eb01d9a6c",
   "metadata": {},
   "outputs": [
    {
     "data": {
      "text/plain": [
       "['▁gorda',\n",
       " '▁sex',\n",
       " 'y,',\n",
       " '▁mi',\n",
       " '▁quer',\n",
       " 'id',\n",
       " 'isimo',\n",
       " '▁hue',\n",
       " 'vera',\n",
       " '▁eh',\n",
       " '▁chan',\n",
       " 'cho',\n",
       " '▁chich',\n",
       " 'ero',\n",
       " '▁,',\n",
       " '▁que',\n",
       " '▁hay',\n",
       " '▁de',\n",
       " '▁tus',\n",
       " '▁comentario',\n",
       " '?']"
      ]
     },
     "execution_count": 53,
     "metadata": {},
     "output_type": "execute_result"
    }
   ],
   "source": [
    "text = \"gorda sexy, mi queridisimo huevera eh chancho chichero 🤣😂🤣😂, que hay de tus comentario?\"\n",
    "old_tokenizer.tokenize(text)"
   ]
  },
  {
   "cell_type": "code",
   "execution_count": 54,
   "id": "d5e85caf-fea4-4516-9d63-7a00e1f7ccff",
   "metadata": {},
   "outputs": [
    {
     "data": {
      "text/plain": [
       "['▁gorda',\n",
       " '▁sex',\n",
       " 'y,',\n",
       " '▁mi',\n",
       " '▁quer',\n",
       " 'i',\n",
       " 'di',\n",
       " '▁si',\n",
       " 'mo',\n",
       " '▁',\n",
       " 'huevera',\n",
       " '▁eh',\n",
       " '▁',\n",
       " 'chancho',\n",
       " '▁',\n",
       " 'chichero',\n",
       " '▁,',\n",
       " '▁que',\n",
       " '▁hay',\n",
       " '▁de',\n",
       " '▁tus',\n",
       " '▁co',\n",
       " 'men',\n",
       " '▁ta',\n",
       " 'rio',\n",
       " '▁?']"
      ]
     },
     "execution_count": 54,
     "metadata": {},
     "output_type": "execute_result"
    }
   ],
   "source": [
    "tokenizer.tokenize(text)"
   ]
  },
  {
   "cell_type": "code",
   "execution_count": 55,
   "id": "143935cb-799c-437c-9802-b05efe57cada",
   "metadata": {},
   "outputs": [
    {
     "data": {
      "text/plain": [
       "5053"
      ]
     },
     "execution_count": 55,
     "metadata": {},
     "output_type": "execute_result"
    }
   ],
   "source": [
    "new_vocab = tokenizer.vocab\n",
    "new_vocab['▁comentario']"
   ]
  },
  {
   "cell_type": "code",
   "execution_count": 56,
   "id": "eb38a04f-3054-4c70-b23a-f248d5fa8230",
   "metadata": {},
   "outputs": [
    {
     "data": {
      "text/plain": [
       "5053"
      ]
     },
     "execution_count": 56,
     "metadata": {},
     "output_type": "execute_result"
    }
   ],
   "source": [
    "old_vocab = old_tokenizer.vocab\n",
    "old_vocab['▁comentario']"
   ]
  },
  {
   "cell_type": "code",
   "execution_count": 57,
   "id": "03524961-07e3-477a-ae65-b883c650207f",
   "metadata": {},
   "outputs": [
    {
     "data": {
      "text/plain": [
       "1"
      ]
     },
     "execution_count": 57,
     "metadata": {},
     "output_type": "execute_result"
    }
   ],
   "source": [
    "old_tokenizer.add_tokens(['malardo'])"
   ]
  },
  {
   "cell_type": "code",
   "execution_count": 58,
   "id": "866ea564-94cc-4e5a-b810-e64b4b5afe91",
   "metadata": {},
   "outputs": [
    {
     "data": {
      "text/plain": [
       "['▁donde', '▁estas', '▁chol', 'ita']"
      ]
     },
     "execution_count": 58,
     "metadata": {},
     "output_type": "execute_result"
    }
   ],
   "source": [
    "old_tokenizer.tokenize('donde estas cholita')"
   ]
  },
  {
   "cell_type": "code",
   "execution_count": 59,
   "id": "97350c5a-4b07-4b0d-84ad-9f5b00364c00",
   "metadata": {},
   "outputs": [
    {
     "data": {
      "text/plain": [
       "['don', '▁de', '▁estas', '▁', 'cholita']"
      ]
     },
     "execution_count": 59,
     "metadata": {},
     "output_type": "execute_result"
    }
   ],
   "source": [
    "tokenizer.tokenize('donde estas cholita')"
   ]
  },
  {
   "cell_type": "code",
   "execution_count": 60,
   "id": "68417689-f416-4cab-8e1b-e81c0047bc79",
   "metadata": {},
   "outputs": [
    {
     "data": {
      "text/plain": [
       "['▁alergia', '▁termo']"
      ]
     },
     "execution_count": 60,
     "metadata": {},
     "output_type": "execute_result"
    }
   ],
   "source": [
    "tokenizer.convert_ids_to_tokens([19333,10130])"
   ]
  },
  {
   "cell_type": "code",
   "execution_count": 61,
   "id": "527ee253-c335-4e8d-8dd7-47ef0ff24011",
   "metadata": {},
   "outputs": [
    {
     "data": {
      "text/plain": [
       "'alergia termo'"
      ]
     },
     "execution_count": 61,
     "metadata": {},
     "output_type": "execute_result"
    }
   ],
   "source": [
    "tokenizer.convert_tokens_to_string(['▁alergia', '▁termo'])"
   ]
  },
  {
   "cell_type": "code",
   "execution_count": 62,
   "id": "a6c8c449-955b-4b79-b9a4-be41bd94b741",
   "metadata": {},
   "outputs": [],
   "source": [
    "# old_tokenizer.vocab"
   ]
  },
  {
   "cell_type": "code",
   "execution_count": 63,
   "id": "cf7eb32f-794f-42ff-9d01-349167d33f06",
   "metadata": {},
   "outputs": [],
   "source": [
    "gigachad_tokenizer = AutoTokenizer.from_pretrained(\"pyupeu/robertuito-peruvian-sentiment\")"
   ]
  },
  {
   "cell_type": "code",
   "execution_count": 64,
   "id": "e923ea51-d44f-47bc-9f7f-3ea23649875e",
   "metadata": {},
   "outputs": [
    {
     "data": {
      "text/plain": [
       "30621"
      ]
     },
     "execution_count": 64,
     "metadata": {},
     "output_type": "execute_result"
    }
   ],
   "source": [
    "len(gigachad_tokenizer)"
   ]
  },
  {
   "cell_type": "code",
   "execution_count": 65,
   "id": "0f6a85aa-1cad-4c1e-a56b-926b0a866c69",
   "metadata": {},
   "outputs": [
    {
     "data": {
      "text/plain": [
       "['▁donde', '▁estas', '▁chol', 'ita']"
      ]
     },
     "execution_count": 65,
     "metadata": {},
     "output_type": "execute_result"
    }
   ],
   "source": [
    "gigachad_tokenizer.tokenize('donde estas cholita')"
   ]
  },
  {
   "cell_type": "code",
   "execution_count": 66,
   "id": "a044be04-267d-45b2-89e6-73c56a7dca7d",
   "metadata": {},
   "outputs": [
    {
     "data": {
      "text/html": [
       "<div>\n",
       "<style scoped>\n",
       "    .dataframe tbody tr th:only-of-type {\n",
       "        vertical-align: middle;\n",
       "    }\n",
       "\n",
       "    .dataframe tbody tr th {\n",
       "        vertical-align: top;\n",
       "    }\n",
       "\n",
       "    .dataframe thead th {\n",
       "        text-align: right;\n",
       "    }\n",
       "</style>\n",
       "<table border=\"1\" class=\"dataframe\">\n",
       "  <thead>\n",
       "    <tr style=\"text-align: right;\">\n",
       "      <th></th>\n",
       "      <th>nro</th>\n",
       "      <th>Jerga</th>\n",
       "      <th>tipo</th>\n",
       "      <th>descripción corta</th>\n",
       "      <th>Descripción</th>\n",
       "      <th>fuente</th>\n",
       "    </tr>\n",
       "  </thead>\n",
       "  <tbody>\n",
       "    <tr>\n",
       "      <th>214</th>\n",
       "      <td>215</td>\n",
       "      <td>caficho</td>\n",
       "      <td>Jerga</td>\n",
       "      <td>proxeneta</td>\n",
       "      <td>Proxeneta. persona que vive de una mujer , vividor</td>\n",
       "      <td>https://jergozo.com/diccionario-peruano</td>\n",
       "    </tr>\n",
       "    <tr>\n",
       "      <th>529</th>\n",
       "      <td>530</td>\n",
       "      <td>combazo</td>\n",
       "      <td>Jerga</td>\n",
       "      <td>golpe fuerte</td>\n",
       "      <td>Combo, puñetazo.</td>\n",
       "      <td>https://jergozo.com/diccionario-peruano</td>\n",
       "    </tr>\n",
       "    <tr>\n",
       "      <th>384</th>\n",
       "      <td>385</td>\n",
       "      <td>chicote</td>\n",
       "      <td>Jerga</td>\n",
       "      <td>latigo</td>\n",
       "      <td>latigo</td>\n",
       "      <td>https://jergozo.com/diccionario-peruano</td>\n",
       "    </tr>\n",
       "    <tr>\n",
       "      <th>131</th>\n",
       "      <td>132</td>\n",
       "      <td>bembón</td>\n",
       "      <td>Jerga</td>\n",
       "      <td>boca grande</td>\n",
       "      <td>boca grande</td>\n",
       "      <td>https://jergozo.com/diccionario-peruano</td>\n",
       "    </tr>\n",
       "    <tr>\n",
       "      <th>672</th>\n",
       "      <td>673</td>\n",
       "      <td>emilio</td>\n",
       "      <td>Jerga</td>\n",
       "      <td>mail</td>\n",
       "      <td>Email</td>\n",
       "      <td>https://jergozo.com/diccionario-peruano</td>\n",
       "    </tr>\n",
       "    <tr>\n",
       "      <th>1</th>\n",
       "      <td>2</td>\n",
       "      <td>oe</td>\n",
       "      <td>Jerga</td>\n",
       "      <td>Oye</td>\n",
       "      <td>\"Oe\" es el \"oye\" u \"oíme\" que en otros países hispanohablantes usan al interactuar con otra persona: \"¡Oe! ¿Y qué quieres hacer?\" o \"Pero hazme caso, oe\".</td>\n",
       "      <td>https://www.bbc.com/mundo/noticias-50213086</td>\n",
       "    </tr>\n",
       "    <tr>\n",
       "      <th>1759</th>\n",
       "      <td>1760</td>\n",
       "      <td>ternera</td>\n",
       "      <td>Jerga</td>\n",
       "      <td>Terno</td>\n",
       "      <td>Terno</td>\n",
       "      <td>https://jergozo.com/diccionario-peruano</td>\n",
       "    </tr>\n",
       "    <tr>\n",
       "      <th>148</th>\n",
       "      <td>149</td>\n",
       "      <td>blogoyop</td>\n",
       "      <td>Jerga</td>\n",
       "      <td>felación</td>\n",
       "      <td>felación</td>\n",
       "      <td>https://jergozo.com/diccionario-peruano</td>\n",
       "    </tr>\n",
       "    <tr>\n",
       "      <th>1301</th>\n",
       "      <td>1302</td>\n",
       "      <td>pálpito</td>\n",
       "      <td>Jerga</td>\n",
       "      <td>Corazonada.</td>\n",
       "      <td>Corazonada.</td>\n",
       "      <td>https://jergozo.com/diccionario-peruano</td>\n",
       "    </tr>\n",
       "    <tr>\n",
       "      <th>944</th>\n",
       "      <td>945</td>\n",
       "      <td>huilla</td>\n",
       "      <td>Jerga</td>\n",
       "      <td>bebida</td>\n",
       "      <td>Trago fuerte de antaÑo de lima</td>\n",
       "      <td>https://jergozo.com/diccionario-peruano</td>\n",
       "    </tr>\n",
       "  </tbody>\n",
       "</table>\n",
       "</div>"
      ],
      "text/plain": [
       "       nro     Jerga   tipo descripción corta  \\\n",
       "214    215   caficho  Jerga         proxeneta   \n",
       "529    530   combazo  Jerga      golpe fuerte   \n",
       "384    385   chicote  Jerga            latigo   \n",
       "131    132    bembón  Jerga       boca grande   \n",
       "672    673    emilio  Jerga              mail   \n",
       "1        2        oe  Jerga               Oye   \n",
       "1759  1760   ternera  Jerga             Terno   \n",
       "148    149  blogoyop  Jerga          felación   \n",
       "1301  1302   pálpito  Jerga       Corazonada.   \n",
       "944    945    huilla  Jerga            bebida   \n",
       "\n",
       "                                                                                                                                                     Descripción  \\\n",
       "214                                                                                                           Proxeneta. persona que vive de una mujer , vividor   \n",
       "529                                                                                                                                             Combo, puñetazo.   \n",
       "384                                                                                                                                                       latigo   \n",
       "131                                                                                                                                                  boca grande   \n",
       "672                                                                                                                                                        Email   \n",
       "1     \"Oe\" es el \"oye\" u \"oíme\" que en otros países hispanohablantes usan al interactuar con otra persona: \"¡Oe! ¿Y qué quieres hacer?\" o \"Pero hazme caso, oe\".   \n",
       "1759                                                                                                                                                       Terno   \n",
       "148                                                                                                                                                     felación   \n",
       "1301                                                                                                                                                 Corazonada.   \n",
       "944                                                                                                                               Trago fuerte de antaÑo de lima   \n",
       "\n",
       "                                           fuente  \n",
       "214       https://jergozo.com/diccionario-peruano  \n",
       "529       https://jergozo.com/diccionario-peruano  \n",
       "384       https://jergozo.com/diccionario-peruano  \n",
       "131       https://jergozo.com/diccionario-peruano  \n",
       "672       https://jergozo.com/diccionario-peruano  \n",
       "1     https://www.bbc.com/mundo/noticias-50213086  \n",
       "1759      https://jergozo.com/diccionario-peruano  \n",
       "148       https://jergozo.com/diccionario-peruano  \n",
       "1301      https://jergozo.com/diccionario-peruano  \n",
       "944       https://jergozo.com/diccionario-peruano  "
      ]
     },
     "execution_count": 66,
     "metadata": {},
     "output_type": "execute_result"
    }
   ],
   "source": [
    "df_slangs.sample(10)"
   ]
  },
  {
   "cell_type": "code",
   "execution_count": 133,
   "id": "16191bcb-afbc-48a9-8a03-209861402680",
   "metadata": {},
   "outputs": [
    {
     "data": {
      "text/plain": [
       "['▁', 'timbero']"
      ]
     },
     "execution_count": 133,
     "metadata": {},
     "output_type": "execute_result"
    }
   ],
   "source": [
    "tokenizer.tokenize(' timbero')"
   ]
  },
  {
   "cell_type": "markdown",
   "id": "acae0c55-9ce0-44cf-b3c9-770878646ea5",
   "metadata": {},
   "source": [
    "## Training"
   ]
  },
  {
   "cell_type": "code",
   "execution_count": 68,
   "id": "9c82b73c-3a98-4642-ba4d-b010875b28d3",
   "metadata": {},
   "outputs": [
    {
     "data": {
      "text/plain": [
       "Embedding(32282, 768)"
      ]
     },
     "execution_count": 68,
     "metadata": {},
     "output_type": "execute_result"
    }
   ],
   "source": [
    "model.resize_token_embeddings(len(tokenizer))#https://huggingface.co/docs/transformers/main_classes/tokenizer"
   ]
  },
  {
   "cell_type": "code",
   "execution_count": 69,
   "id": "5d56e2f2-159e-4ffe-86fc-3659ed308b89",
   "metadata": {},
   "outputs": [],
   "source": [
    "training_args = TrainingArguments(\n",
    "    output_dir=\"robertuito_deacc/checkpoints\",\n",
    "    per_device_train_batch_size=32,\n",
    "    per_device_eval_batch_size=16,\n",
    "    gradient_accumulation_steps=1,\n",
    "    weight_decay=0.01,\n",
    "    warmup_ratio=0.1,\n",
    "    learning_rate=5e-5,\n",
    "    do_eval=True,\n",
    "    evaluation_strategy=\"epoch\",\n",
    "    save_strategy=\"epoch\",\n",
    "    num_train_epochs=7,\n",
    "    load_best_model_at_end=True,\n",
    "    # save_total_limit=2,\n",
    "    group_by_length=True,\n",
    "    seed=1\n",
    ")"
   ]
  },
  {
   "cell_type": "code",
   "execution_count": 70,
   "id": "6055a36a-af98-4a4d-8a87-f8a6257a7c8e",
   "metadata": {},
   "outputs": [
    {
     "name": "stderr",
     "output_type": "stream",
     "text": [
      "/home/darkstar/anaconda3/envs/robertuito-env/lib/python3.10/site-packages/accelerate/accelerator.py:432: FutureWarning: Passing the following arguments to `Accelerator` is deprecated and will be removed in version 1.0 of Accelerate: dict_keys(['dispatch_batches', 'split_batches', 'even_batches', 'use_seedable_sampler']). Please pass an `accelerate.DataLoaderConfiguration` instead: \n",
      "dataloader_config = DataLoaderConfiguration(dispatch_batches=None, split_batches=False, even_batches=True, use_seedable_sampler=True)\n",
      "  warnings.warn(\n"
     ]
    }
   ],
   "source": [
    "trainer = Trainer(\n",
    "    model=model,\n",
    "    args=training_args,\n",
    "    train_dataset=tokenized_ds[\"train\"],\n",
    "    eval_dataset=tokenized_ds[\"validation\"],\n",
    "    compute_metrics=compute_metrics,\n",
    "    data_collator=DataCollatorWithPadding(tokenizer=tokenizer),\n",
    ")"
   ]
  },
  {
   "cell_type": "code",
   "execution_count": 71,
   "id": "6be1933a-b930-410d-91ff-646bdcb9a80f",
   "metadata": {
    "tags": []
   },
   "outputs": [
    {
     "name": "stdout",
     "output_type": "stream",
     "text": [
      "{'eval_loss': 0.6153641939163208, 'eval_f1': 0.7200333511452762, 'eval_recall': 0.7196836073836989, 'eval_runtime': 10.5446, 'eval_samples_per_second': 225.139, 'eval_steps_per_second': 14.13, 'epoch': 1.0}\n",
      "{'eval_loss': 0.6478086113929749, 'eval_f1': 0.7309890530658705, 'eval_recall': 0.7354088897809267, 'eval_runtime': 10.5066, 'eval_samples_per_second': 225.953, 'eval_steps_per_second': 14.182, 'epoch': 2.0}\n",
      "{'loss': 0.5937, 'grad_norm': 2.5980465412139893, 'learning_rate': 3.889259506337559e-05, 'epoch': 2.1}\n",
      "{'eval_loss': 0.8504292368888855, 'eval_f1': 0.7246000386071548, 'eval_recall': 0.7267999792148471, 'eval_runtime': 10.8176, 'eval_samples_per_second': 219.457, 'eval_steps_per_second': 13.774, 'epoch': 3.0}\n",
      "{'eval_loss': 1.142120122909546, 'eval_f1': 0.716744251501464, 'eval_recall': 0.7171400921655646, 'eval_runtime': 10.4591, 'eval_samples_per_second': 226.979, 'eval_steps_per_second': 14.246, 'epoch': 4.0}\n",
      "{'loss': 0.144, 'grad_norm': 0.4269181787967682, 'learning_rate': 2.2214809873248835e-05, 'epoch': 4.2}\n",
      "{'eval_loss': 1.5291144847869873, 'eval_f1': 0.7113645650088266, 'eval_recall': 0.7115646013947616, 'eval_runtime': 10.5448, 'eval_samples_per_second': 225.136, 'eval_steps_per_second': 14.13, 'epoch': 5.0}\n",
      "{'eval_loss': 1.701354742050171, 'eval_f1': 0.7128626781901856, 'eval_recall': 0.7135736992276493, 'eval_runtime': 10.6803, 'eval_samples_per_second': 222.278, 'eval_steps_per_second': 13.951, 'epoch': 6.0}\n",
      "{'loss': 0.0222, 'grad_norm': 0.020161805674433708, 'learning_rate': 5.5370246831220815e-06, 'epoch': 6.3}\n",
      "{'eval_loss': 1.7472155094146729, 'eval_f1': 0.716059862023239, 'eval_recall': 0.7179288099697488, 'eval_runtime': 10.8598, 'eval_samples_per_second': 218.604, 'eval_steps_per_second': 13.72, 'epoch': 7.0}\n",
      "{'train_runtime': 837.0685, 'train_samples_per_second': 63.505, 'train_steps_per_second': 1.99, 'train_loss': 0.22882591790798046, 'epoch': 7.0}\n"
     ]
    },
    {
     "data": {
      "text/plain": [
       "TrainOutput(global_step=1666, training_loss=0.22882591790798046, metrics={'train_runtime': 837.0685, 'train_samples_per_second': 63.505, 'train_steps_per_second': 1.99, 'train_loss': 0.22882591790798046, 'epoch': 7.0})"
      ]
     },
     "execution_count": 71,
     "metadata": {},
     "output_type": "execute_result"
    }
   ],
   "source": [
    "trainer.train()"
   ]
  },
  {
   "cell_type": "code",
   "execution_count": 135,
   "id": "8925631b-f4c3-4cd5-9660-3fb18a4fc23a",
   "metadata": {},
   "outputs": [],
   "source": [
    "# Save trained model\n",
    "trainer.model.save_pretrained(\"robertuito_deacc/model\")"
   ]
  },
  {
   "cell_type": "code",
   "execution_count": 136,
   "id": "71acb97b-ebbd-45cb-a22e-c6bdcd193ee6",
   "metadata": {},
   "outputs": [
    {
     "data": {
      "application/vnd.jupyter.widget-view+json": {
       "model_id": "ffc7a0fd0ea446fda21a0622e68ecdf1",
       "version_major": 2,
       "version_minor": 0
      },
      "text/plain": [
       "VBox(children=(HTML(value='<center> <img\\nsrc=https://huggingface.co/front/assets/huggingface_logo-noborder.sv…"
      ]
     },
     "metadata": {},
     "output_type": "display_data"
    }
   ],
   "source": [
    "from huggingface_hub import notebook_login\n",
    "\n",
    "notebook_login()"
   ]
  },
  {
   "cell_type": "code",
   "execution_count": 138,
   "id": "c625a14c-e186-4a8b-8a24-3e666d1c4bf2",
   "metadata": {},
   "outputs": [
    {
     "data": {
      "application/vnd.jupyter.widget-view+json": {
       "model_id": "5851b0f9304048b8b11ed93d7a1e721d",
       "version_major": 2,
       "version_minor": 0
      },
      "text/plain": [
       "README.md:   0%|          | 0.00/5.18k [00:00<?, ?B/s]"
      ]
     },
     "metadata": {},
     "output_type": "display_data"
    },
    {
     "data": {
      "application/vnd.jupyter.widget-view+json": {
       "model_id": "4d5af7d6d0084311b4ff0c7c380657f3",
       "version_major": 2,
       "version_minor": 0
      },
      "text/plain": [
       "model.safetensors:   0%|          | 0.00/442M [00:00<?, ?B/s]"
      ]
     },
     "metadata": {},
     "output_type": "display_data"
    },
    {
     "data": {
      "text/plain": [
       "CommitInfo(commit_url='https://huggingface.co/pyupeu/robertuito-peruvian-sentiment/commit/152dd5cd5c58050ced05631455756e1d85863ff5', commit_message='Upload RobertaForSequenceClassification', commit_description='', oid='152dd5cd5c58050ced05631455756e1d85863ff5', pr_url=None, pr_revision=None, pr_num=None)"
      ]
     },
     "execution_count": 138,
     "metadata": {},
     "output_type": "execute_result"
    }
   ],
   "source": [
    "model.push_to_hub(\"pyupeu/robertuito-peruvian-sentiment\")"
   ]
  },
  {
   "cell_type": "markdown",
   "id": "9096a661-da6e-4085-8fe3-7e89bdaaffff",
   "metadata": {},
   "source": [
    "## Test on validation set"
   ]
  },
  {
   "cell_type": "code",
   "execution_count": 128,
   "id": "f2c407d3-9fa8-402c-85eb-7061a55c9984",
   "metadata": {
    "tags": []
   },
   "outputs": [],
   "source": [
    "#https://machinelearningmastery.com/gentle-introduction-to-the-bias-variance-trade-off-in-machine-learning/"
   ]
  },
  {
   "cell_type": "code",
   "execution_count": 129,
   "id": "6774e612-ae71-4898-89f8-9f837da5ab60",
   "metadata": {},
   "outputs": [],
   "source": [
    "# model.load_state_dict(torch.load(f'./robertuito_deacc/model', map_location=torch.device('cpu')))"
   ]
  },
  {
   "cell_type": "code",
   "execution_count": 74,
   "id": "34fec069",
   "metadata": {},
   "outputs": [
    {
     "name": "stdout",
     "output_type": "stream",
     "text": [
      "{'eval_loss': 0.6019187569618225, 'eval_f1': 0.7266343808786871, 'eval_recall': 0.7274796361657465, 'eval_runtime': 8.3366, 'eval_samples_per_second': 227.792, 'eval_steps_per_second': 14.274, 'epoch': 7.0}\n"
     ]
    }
   ],
   "source": [
    "evaluation_results = trainer.evaluate(tokenized_ds[\"test\"])"
   ]
  },
  {
   "cell_type": "code",
   "execution_count": 75,
   "id": "12e4106c-224b-4651-9cdc-f89b6e5d15c6",
   "metadata": {},
   "outputs": [
    {
     "data": {
      "text/plain": [
       "{'eval_loss': 0.6019187569618225,\n",
       " 'eval_f1': 0.7266343808786871,\n",
       " 'eval_recall': 0.7274796361657465,\n",
       " 'eval_runtime': 8.3366,\n",
       " 'eval_samples_per_second': 227.792,\n",
       " 'eval_steps_per_second': 14.274,\n",
       " 'epoch': 7.0}"
      ]
     },
     "execution_count": 75,
     "metadata": {},
     "output_type": "execute_result"
    }
   ],
   "source": [
    "evaluation_results"
   ]
  },
  {
   "cell_type": "code",
   "execution_count": 76,
   "id": "7d9b0847-d809-4eeb-8b46-1a355b031930",
   "metadata": {},
   "outputs": [
    {
     "data": {
      "text/plain": [
       "PredictionOutput(predictions=array([[ 0.8936414 ,  0.9935377 , -1.8226446 ],\n",
       "       [-1.3423645 ,  0.19635049,  1.7433056 ],\n",
       "       [ 0.77376103,  0.1690881 , -1.0534034 ],\n",
       "       ...,\n",
       "       [-2.2303078 ,  0.0546267 ,  2.9435313 ],\n",
       "       [-1.2354444 ,  0.52282125,  0.8276019 ],\n",
       "       [ 1.5713189 ,  0.43699783, -2.0392601 ]], dtype=float32), label_ids=array([1, 0, 0, ..., 2, 1, 0]), metrics={'test_loss': 0.6019187569618225, 'test_f1': 0.7266343808786871, 'test_recall': 0.7274796361657465, 'test_runtime': 8.37, 'test_samples_per_second': 226.881, 'test_steps_per_second': 14.217})"
      ]
     },
     "execution_count": 76,
     "metadata": {},
     "output_type": "execute_result"
    }
   ],
   "source": [
    "predictions = trainer.predict(tokenized_ds[\"test\"])\n",
    "predictions"
   ]
  },
  {
   "cell_type": "code",
   "execution_count": 77,
   "id": "c42a8ab3-93da-4162-967b-792ace795c70",
   "metadata": {},
   "outputs": [
    {
     "data": {
      "text/plain": [
       "1899"
      ]
     },
     "execution_count": 77,
     "metadata": {},
     "output_type": "execute_result"
    }
   ],
   "source": [
    "len(predictions[0])"
   ]
  },
  {
   "cell_type": "code",
   "execution_count": 78,
   "id": "1775df1a-f613-4c97-afab-87b3870abd21",
   "metadata": {},
   "outputs": [],
   "source": [
    "true_labels = tokenized_ds[\"test\"]['label']"
   ]
  },
  {
   "cell_type": "code",
   "execution_count": 79,
   "id": "26982e5f-dc6f-4bd5-a799-cad8e1e4728c",
   "metadata": {},
   "outputs": [
    {
     "data": {
      "text/plain": [
       "1899"
      ]
     },
     "execution_count": 79,
     "metadata": {},
     "output_type": "execute_result"
    }
   ],
   "source": [
    "len(true_labels)"
   ]
  },
  {
   "cell_type": "code",
   "execution_count": 80,
   "id": "a7087657-3e18-4ece-aa42-d96bea860046",
   "metadata": {},
   "outputs": [
    {
     "name": "stdout",
     "output_type": "stream",
     "text": [
      "              precision    recall  f1-score   support\n",
      "\n",
      "           0    0.82992   0.80025   0.81481       811\n",
      "           1    0.60870   0.63406   0.62112       552\n",
      "           2    0.73985   0.74813   0.74397       536\n",
      "\n",
      "    accuracy                        0.73723      1899\n",
      "   macro avg    0.72616   0.72748   0.72663      1899\n",
      "weighted avg    0.74019   0.73723   0.73852      1899\n",
      "\n"
     ]
    }
   ],
   "source": [
    "predicted_labels = [np.argmax(pred) for pred in predictions[0]]\n",
    "classification_rep = classification_report(true_labels, predicted_labels, digits=5)\n",
    "\n",
    "print(classification_rep)"
   ]
  },
  {
   "cell_type": "markdown",
   "id": "f08e7140-4928-4ee0-aa12-d0736711a0f9",
   "metadata": {},
   "source": [
    "# Error Analisys"
   ]
  },
  {
   "cell_type": "code",
   "execution_count": 83,
   "id": "46bbd55b",
   "metadata": {},
   "outputs": [],
   "source": [
    "#https://medium.com/@dtuk81/confusion-matrix-visualization-fc31e3f30fea\n",
    "val_df = ds['validation'].to_pandas()"
   ]
  },
  {
   "cell_type": "code",
   "execution_count": 84,
   "id": "737a62b3",
   "metadata": {},
   "outputs": [
    {
     "data": {
      "application/vnd.jupyter.widget-view+json": {
       "model_id": "a7662100c2db4801ba3030cd967af83d",
       "version_major": 2,
       "version_minor": 0
      },
      "text/plain": [
       "  0%|          | 0/2374 [00:00<?, ?it/s]"
      ]
     },
     "metadata": {},
     "output_type": "display_data"
    }
   ],
   "source": [
    "# We do this to view predictions in the pandas dataframe and easily filter them and perform error analysis.\n",
    "pred_final = []\n",
    "\n",
    "for i, row in tqdm(val_df.iterrows(), total=val_df.shape[0]):\n",
    "    predictions = []\n",
    "\n",
    "    text = row[\"text\"]\n",
    "    encoded_data_test_single = tokenizer.batch_encode_plus([text], \n",
    "    # add_special_tokens=config.add_special_tokens, \n",
    "    # return_attention_mask=config.return_attention_mask, \n",
    "    # pad_to_max_length=config.pad_to_max_length, \n",
    "    max_length=128,\n",
    "    # return_tensors=config.return_tensors\n",
    "    return_tensors=\"pt\"\n",
    "    )\n",
    "    input_ids_test = encoded_data_test_single['input_ids']\n",
    "    attention_masks_test = encoded_data_test_single['attention_mask']\n",
    "\n",
    "    \n",
    "    inputs = {'input_ids':      input_ids_test.to(device),\n",
    "              'attention_mask':attention_masks_test.to(device),\n",
    "             }\n",
    "\n",
    "    with torch.no_grad():        \n",
    "        outputs = model(**inputs)\n",
    "    \n",
    "    logits = outputs[0]\n",
    "    logits = logits.detach().cpu().numpy()\n",
    "    predictions.append(logits)\n",
    "    predictions = np.concatenate(predictions, axis=0)\n",
    "    pred_final.append(np.argmax(predictions, axis=1).flatten()[0])"
   ]
  },
  {
   "cell_type": "code",
   "execution_count": 85,
   "id": "e2d5ea48-4899-4cb3-9027-0ea1cf46c0e0",
   "metadata": {},
   "outputs": [],
   "source": [
    "# add pred into val_df\n",
    "val_df[\"pred\"] = pred_final"
   ]
  },
  {
   "cell_type": "code",
   "execution_count": 86,
   "id": "aebc0161-59a5-4fc6-a34a-45f47f0416c5",
   "metadata": {},
   "outputs": [],
   "source": [
    "#  Add control column for easier wrong and right predictions\n",
    "control = val_df.pred.values == val_df.label.values\n",
    "val_df[\"control\"] = control"
   ]
  },
  {
   "cell_type": "code",
   "execution_count": 87,
   "id": "76106d47-0012-41ec-9656-9d3227934bab",
   "metadata": {},
   "outputs": [],
   "source": [
    "# filtering false predictions\n",
    "#val_df = val_df[val_df.control == False]"
   ]
  },
  {
   "cell_type": "code",
   "execution_count": 88,
   "id": "ecdd05ba-780e-417f-a155-812850af1b93",
   "metadata": {},
   "outputs": [],
   "source": [
    "# label to intent mapping\n",
    "name2label = {\"Negative\":0,\n",
    "              \"Neutral\":1,\n",
    "             \"Positive\":2\n",
    "             }\n",
    "label2name = {v: k for k, v in name2label.items()}\n",
    "\n",
    "val_df[\"pred_name\"] = val_df.pred.apply(lambda x: label2name.get(x)) "
   ]
  },
  {
   "cell_type": "code",
   "execution_count": 89,
   "id": "0e076559-81d8-4997-979e-330b1e15f200",
   "metadata": {},
   "outputs": [],
   "source": [
    "\n",
    "# We create a confusion matrix to better observe the classes that the model confuses.\n",
    "pred_name_values = val_df.pred_name.values\n",
    "label_values = val_df.label_name.values\n",
    "confmat = confusion_matrix(label_values, pred_name_values, labels=list(name2label.keys()))"
   ]
  },
  {
   "cell_type": "code",
   "execution_count": 90,
   "id": "86229af8-4484-4551-bfca-7280b8eab020",
   "metadata": {},
   "outputs": [
    {
     "data": {
      "text/plain": [
       "array([[457, 522,  34],\n",
       "       [ 60, 580,  51],\n",
       "       [ 20, 372, 278]])"
      ]
     },
     "execution_count": 90,
     "metadata": {},
     "output_type": "execute_result"
    }
   ],
   "source": [
    "confmat"
   ]
  },
  {
   "cell_type": "code",
   "execution_count": 91,
   "id": "a282fc0e-f045-430b-9126-194627f8c043",
   "metadata": {},
   "outputs": [
    {
     "data": {
      "text/html": [
       "<div>\n",
       "<style scoped>\n",
       "    .dataframe tbody tr th:only-of-type {\n",
       "        vertical-align: middle;\n",
       "    }\n",
       "\n",
       "    .dataframe tbody tr th {\n",
       "        vertical-align: top;\n",
       "    }\n",
       "\n",
       "    .dataframe thead th {\n",
       "        text-align: right;\n",
       "    }\n",
       "</style>\n",
       "<table border=\"1\" class=\"dataframe\">\n",
       "  <thead>\n",
       "    <tr style=\"text-align: right;\">\n",
       "      <th>col_0</th>\n",
       "      <th>Negative</th>\n",
       "      <th>Neutral</th>\n",
       "      <th>Positive</th>\n",
       "    </tr>\n",
       "    <tr>\n",
       "      <th>row_0</th>\n",
       "      <th></th>\n",
       "      <th></th>\n",
       "      <th></th>\n",
       "    </tr>\n",
       "  </thead>\n",
       "  <tbody>\n",
       "    <tr>\n",
       "      <th>Negative</th>\n",
       "      <td>457</td>\n",
       "      <td>522</td>\n",
       "      <td>34</td>\n",
       "    </tr>\n",
       "    <tr>\n",
       "      <th>Neutral</th>\n",
       "      <td>60</td>\n",
       "      <td>580</td>\n",
       "      <td>51</td>\n",
       "    </tr>\n",
       "    <tr>\n",
       "      <th>Positive</th>\n",
       "      <td>20</td>\n",
       "      <td>372</td>\n",
       "      <td>278</td>\n",
       "    </tr>\n",
       "  </tbody>\n",
       "</table>\n",
       "</div>"
      ],
      "text/plain": [
       "col_0     Negative  Neutral  Positive\n",
       "row_0                                \n",
       "Negative       457      522        34\n",
       "Neutral         60      580        51\n",
       "Positive        20      372       278"
      ]
     },
     "execution_count": 91,
     "metadata": {},
     "output_type": "execute_result"
    }
   ],
   "source": [
    "df_confusion_val = pd.crosstab(label_values, pred_name_values)\n",
    "df_confusion_val"
   ]
  },
  {
   "cell_type": "code",
   "execution_count": 92,
   "id": "8e6e4c35-1a05-44f2-8b40-a7a6dee7ae49",
   "metadata": {},
   "outputs": [],
   "source": [
    "# save confusion matrix df\n",
    "df_confusion_val.to_csv(\"val_df_confusion.csv\")"
   ]
  },
  {
   "cell_type": "code",
   "execution_count": 93,
   "id": "313895af-eb99-43a0-bb0e-d6bc5d210c42",
   "metadata": {},
   "outputs": [
    {
     "data": {
      "image/png": "[encoded data removed]",
      "text/plain": [
       "<Figure size 500x400 with 2 Axes>"
      ]
     },
     "metadata": {},
     "output_type": "display_data"
    }
   ],
   "source": [
    "from sklearn.svm import SVC\n",
    "from sklearn.metrics import confusion_matrix\n",
    "import seaborn as sns\n",
    "import matplotlib.pyplot as plt\n",
    "cm = confusion_matrix(label_values, pred_name_values)\n",
    "cm_df = pd.DataFrame(cm,\n",
    "                     index = ['Negative','Neutral','Positive'], \n",
    "                     columns = ['Negative','Neutral','Positive'])\n",
    "plt.figure(figsize=(5,4))\n",
    "sns.heatmap(cm_df, annot=True,fmt=\".0f\")\n",
    "plt.title('Confusion Matrix')\n",
    "plt.ylabel('Actual Values')\n",
    "plt.xlabel('Predicted Values')\n",
    "plt.show()"
   ]
  },
  {
   "cell_type": "code",
   "execution_count": 94,
   "id": "10bdec52-f933-408e-981d-1d36870cc039",
   "metadata": {},
   "outputs": [],
   "source": [
    "val_df.to_csv('train_validation.csv', columns=['text', 'label', 'char_count', 'pred', 'control', 'pred_name'])"
   ]
  },
  {
   "cell_type": "markdown",
   "id": "c79614ce-e047-449c-b3a8-83ed2becfc20",
   "metadata": {},
   "source": [
    "## Inference"
   ]
  },
  {
   "cell_type": "code",
   "execution_count": 121,
   "id": "04ce937d-9bfc-43c1-88a9-d99a4c7f56ae",
   "metadata": {},
   "outputs": [
    {
     "data": {
      "text/plain": [
       "['y cuantas chanchas habran hecho para la salvadora de la democracia?.. emoji cara pensativa emoji',\n",
       " 'tremenda joyita  emoji corazón morado emoji  emoji corazón morado emoji  emoji corazón morado emoji',\n",
       " 'entre cabros se entienden altamirano gómez alain gerard... y de pasadita dale su beso y mepaso en su pelacho a la beto...  emoji cara llorando de risa emoji',\n",
       " 'chino llevalo al camal, a ese puerco  emoji cara revolviéndose de la risa emoji  emoji cara revolviéndose de la risa emoji',\n",
       " 'apoyo de 4 gato y un perro con virolo... emoji cara sonriente con lágrima emoji  emoji cara sonriendo con sudor frío emoji',\n",
       " 'me enamore gente, después de ver full ch0las en stream me limpiastes los ojos',\n",
       " 'henry loyola como cuando te digo \"bebé se me ve bien\" o \"bebé buscame otra talla\" y tú no colaboras amor   emoji cara decepcionada emoji  emoji cara decepcionada emoji  emoji cara decepcionada emoji',\n",
       " 'esté cabeza de chancho  emoji nariz de cerdo emoji  burro',\n",
       " 'lo de los instrumentos musicales está muy cool  emoji señal de aprobación con la mano tono de piel claro emoji',\n",
       " 'andy lopez  emoji dorso de mano con índice a la derecha emoji  emoji dorso de mano con índice a la izquierda emoji  chanchito .. costillas emoji cara saboreando comida emoji',\n",
       " 'uy qué recuerdos , mi.madre que ya no está en este mundo , lo hacía ella.masaba  10 kilos en una tina con sus manitos y ella decía que la.masa estaba cuando salía globitos lo dejaba por horas haci se hinchaba la masa ni hablar de miel con hojas de higo eran los mejores picarones los de mi madre',\n",
       " \"danely mishell herrera carbajal no pasa nada con charlie's  emoji cara llorando de risa emoji\",\n",
       " 'andres hurtado mis felicitaciones para usted x  por decirle la verdad a  esta mujer cara de tuco como el le dijo no seas abusiva ya se pasan algunas personas de mierda  emoji caca con ojos emoji   emoji persona encogida de hombros emoji   6 hijos y nisiquiera tiene para darles una vida digna que horror',\n",
       " 'que monstruos son todos  emoji cara con mano sobre la boca emoji  emoji cara sacando la lengua y guiñando un ojo emoji  emoji cara revolviéndose de la risa emoji  emoji cara gritando de miedo emoji  el único que se apiola es el chino  emoji bandera china emoji  emoji hombre con gorro chino emoji  emoji cara sacando la lengua y guiñando un ojo emoji  emoji cara con mano sobre la boca emoji  emoji cara sonriendo con gafas de sol emoji  emoji manos levantadas celebrando emoji',\n",
       " 'un rico ceviche, helados a montón, los chupetes de fruta y obvio ir a la playa  emoji luna llena con cara emoji  emoji persona haciendo surf emoji  emoji amanecer emoji',\n",
       " 'eres un enfermo, conchatumadre',\n",
       " 'a ver, sé bacán conmigo pues, conchatumadre',\n",
       " 'jaja  emoji cara revolviéndose de la risa emoji  emoji cara revolviéndose de la risa emoji  emoji cara revolviéndose de la risa emoji  por las h... más tarde seguirá chupando',\n",
       " 'miguel angel pérez cuando todo mejore en nicaragua un negocio así  emoji cara sonriendo con ojos de corazón emoji  emoji cara sonriendo con ojos de corazón emoji',\n",
       " 'serrano, no la sueltes que a lo mejor se vuela']"
      ]
     },
     "execution_count": 121,
     "metadata": {},
     "output_type": "execute_result"
    }
   ],
   "source": [
    "tokenized_ds['test']['text'][:20]"
   ]
  },
  {
   "cell_type": "code",
   "execution_count": 97,
   "id": "1b6b284f-e6f6-4232-a1f0-15bda7fc19b3",
   "metadata": {},
   "outputs": [],
   "source": [
    "test_df = ds['test'].to_pandas()"
   ]
  },
  {
   "cell_type": "markdown",
   "id": "605a2977-2c26-400e-8cf3-5bb8f7d8acab",
   "metadata": {},
   "source": [
    "## Evaluate the Model Qualitatively (Human Evaluation)"
   ]
  },
  {
   "cell_type": "markdown",
   "id": "0f845c19-224f-49d8-8438-b13c2a4e5ffb",
   "metadata": {},
   "source": [
    "## Evaluate the Model Quantitatively (with F1 Metric)"
   ]
  },
  {
   "cell_type": "code",
   "execution_count": 100,
   "id": "c839bdd5",
   "metadata": {},
   "outputs": [],
   "source": [
    "texts = test_df[0:20]['text']\n",
    "human_baseline_labels = test_df[0:20]['label']"
   ]
  },
  {
   "cell_type": "code",
   "execution_count": 101,
   "id": "0ebbb4a1",
   "metadata": {},
   "outputs": [
    {
     "data": {
      "text/plain": [
       "0                                                                                                                                                                                                                                        y cuantas chanchas habran hecho para la salvadora de la democracia?..🤔\n",
       "1                                                                                                                                                                                                                                                                                           tremenda joyita 💜💜💜\n",
       "2                                                                                                                                                                                   entre cabros se entienden altamirano gómez alain gerard... y de pasadita dale su beso y mepaso en su pelacho a la beto... 😂\n",
       "3                                                                                                                                                                                                                                                                       chino llevalo al camal, a ese puerco 🤣🤣\n",
       "4                                                                                                                                                                                                                                                                    apoyo de 4 gato y un perro con virolo...🥲😅\n",
       "5                                                                                                                                                                                                                               me enamore gente, después de ver full ch0las en stream me limpiastes los ojos ️\n",
       "6                                                                                                                                                                                                 henry loyola como cuando te digo \"bebé se me ve bien\" o \"bebé buscame otra talla\" y tú no colaboras amor  😞😞😞\n",
       "7                                                                                                                                                                                                                                                                                esté cabeza de chancho 🐽 burro\n",
       "8                                                                                                                                                                                                                                                             lo de los instrumentos musicales está muy cool 👌🏻\n",
       "9                                                                                                                                                                                                                                                                         andy lopez 👉👈 chanchito .. costillas😋\n",
       "10    uy qué recuerdos , mi.madre que ya no está en este mundo , lo hacía ella.masaba  10 kilos en una tina con sus manitos y ella decía que la.masa estaba cuando salía globitos lo dejaba por horas haci se hinchaba la masa ni hablar de miel con hojas de higo eran los mejores picarones los de mi madre ️\n",
       "11                                                                                                                                                                                                                                                 danely mishell herrera carbajal no pasa nada con charlie's 😂\n",
       "12                                                                andres hurtado mis felicitaciones para usted x  por decirle la verdad a  esta mujer cara de tuco como el le dijo no seas abusiva ya se pasan algunas personas de mierda 💩 🤷  6 hijos y nisiquiera tiene para darles una vida digna que horror\n",
       "13                                                                                                                                                                                                                                      que monstruos son todos 🤭😜🤣😱 el único que se apiola es el chino 🇨🇳👲😜🤭😎🙌\n",
       "14                                                                                                                                                                                                                          un rico ceviche, helados a montón, los chupetes de fruta y obvio ir a la playa ️🌝🏄🌅\n",
       "15                                                                                                                                                                                                                                                                               eres un enfermo, conchatumadre\n",
       "16                                                                                                                                                                                                                                                                  a ver, sé bacán conmigo pues, conchatumadre\n",
       "17                                                                                                                                                                                                                                                             jaja 🤣🤣🤣 por las h... más tarde seguirá chupando\n",
       "18                                                                                                                                                                                                                                         miguel angel pérez cuando todo mejore en nicaragua un negocio así 😍😍\n",
       "19                                                                                                                                                                                                                                                               serrano, no la sueltes que a lo mejor se vuela\n",
       "Name: text, dtype: object"
      ]
     },
     "execution_count": 101,
     "metadata": {},
     "output_type": "execute_result"
    }
   ],
   "source": [
    "texts"
   ]
  },
  {
   "cell_type": "code",
   "execution_count": 102,
   "id": "fb03153f",
   "metadata": {},
   "outputs": [
    {
     "data": {
      "text/plain": [
       "0     1\n",
       "1     0\n",
       "2     0\n",
       "3     0\n",
       "4     0\n",
       "5     2\n",
       "6     1\n",
       "7     0\n",
       "8     2\n",
       "9     2\n",
       "10    2\n",
       "11    0\n",
       "12    0\n",
       "13    0\n",
       "14    2\n",
       "15    0\n",
       "16    0\n",
       "17    0\n",
       "18    2\n",
       "19    0\n",
       "Name: label, dtype: int64"
      ]
     },
     "execution_count": 102,
     "metadata": {},
     "output_type": "execute_result"
    }
   ],
   "source": [
    "human_baseline_labels"
   ]
  },
  {
   "cell_type": "code",
   "execution_count": 103,
   "id": "b059373f-0e08-4361-852c-70604bf9753b",
   "metadata": {},
   "outputs": [],
   "source": [
    "def get_prediction(text):\n",
    "    input_ids = tokenizer(text, return_tensors=\"pt\", max_length=128).input_ids.to('cuda')\n",
    "    logits = model(input_ids).logits\n",
    "    probabilities = logits.softmax(dim=-1).tolist()[0]\n",
    "    return np.argmax(probabilities).flatten()[0]"
   ]
  },
  {
   "cell_type": "code",
   "execution_count": 104,
   "id": "ab8436a9",
   "metadata": {},
   "outputs": [],
   "source": [
    "#original_model_summaries = []\n",
    "model_classifications = []\n",
    "for _, text in enumerate(texts):\n",
    "    model_classifications.append(get_prediction(text))"
   ]
  },
  {
   "cell_type": "code",
   "execution_count": 122,
   "id": "8a1a671b",
   "metadata": {},
   "outputs": [
    {
     "data": {
      "text/plain": [
       "[1, 2, 1, 0, 0, 2, 1, 1, 1, 1, 1, 1, 0, 1, 2, 0, 1, 1, 1, 1]"
      ]
     },
     "execution_count": 122,
     "metadata": {},
     "output_type": "execute_result"
    }
   ],
   "source": [
    "model_classifications"
   ]
  },
  {
   "cell_type": "markdown",
   "id": "74b8d163-87c1-4bde-b34d-77bd814d30c5",
   "metadata": {},
   "source": [
    "## Step by step predictions on dataframe"
   ]
  },
  {
   "cell_type": "code",
   "execution_count": 106,
   "id": "d7bca6e6-8d63-479f-ba6f-c2ad91651097",
   "metadata": {},
   "outputs": [
    {
     "data": {
      "application/vnd.jupyter.widget-view+json": {
       "model_id": "6286481b223542b993da0852ac8a1133",
       "version_major": 2,
       "version_minor": 0
      },
      "text/plain": [
       "  0%|          | 0/1899 [00:00<?, ?it/s]"
      ]
     },
     "metadata": {},
     "output_type": "display_data"
    }
   ],
   "source": [
    "# We do this to view predictions in the pandas dataframe and easily filter them and perform error analysis.\n",
    "pred_test_final = []\n",
    "\n",
    "for i, row in tqdm(test_df.iterrows(), total=test_df.shape[0]):\n",
    "    predictions = []\n",
    "\n",
    "    text = row[\"text\"]\n",
    "    encoded_data_test_single = tokenizer.batch_encode_plus([text], \n",
    "    # add_special_tokens=config.add_special_tokens, \n",
    "    # return_attention_mask=config.return_attention_mask, \n",
    "    # pad_to_max_length=config.pad_to_max_length, \n",
    "    max_length=128,\n",
    "    # return_tensors=config.return_tensors\n",
    "    return_tensors=\"pt\"\n",
    "    )\n",
    "    input_ids_test = encoded_data_test_single['input_ids']\n",
    "    attention_masks_test = encoded_data_test_single['attention_mask']\n",
    "\n",
    "    \n",
    "    inputs = {'input_ids':      input_ids_test.to(device),\n",
    "              'attention_mask':attention_masks_test.to(device),\n",
    "             }\n",
    "\n",
    "    with torch.no_grad():        \n",
    "        outputs = model(**inputs)\n",
    "    \n",
    "    logits = outputs[0]\n",
    "    logits = logits.detach().cpu().numpy()\n",
    "    predictions.append(logits)\n",
    "    predictions = np.concatenate(predictions, axis=0)\n",
    "    pred_test_final.append(np.argmax(predictions, axis=1).flatten()[0])"
   ]
  },
  {
   "cell_type": "code",
   "execution_count": 107,
   "id": "de58df71-e97b-42e0-afc0-409674e51192",
   "metadata": {},
   "outputs": [
    {
     "data": {
      "text/plain": [
       "1899"
      ]
     },
     "execution_count": 107,
     "metadata": {},
     "output_type": "execute_result"
    }
   ],
   "source": [
    "len(pred_test_final)"
   ]
  },
  {
   "cell_type": "code",
   "execution_count": 108,
   "id": "1158e288-2a2d-4d32-9f68-588bc045501c",
   "metadata": {},
   "outputs": [
    {
     "data": {
      "text/plain": [
       "17091"
      ]
     },
     "execution_count": 108,
     "metadata": {},
     "output_type": "execute_result"
    }
   ],
   "source": [
    "test_df.size"
   ]
  },
  {
   "cell_type": "code",
   "execution_count": 109,
   "id": "bd2006db-9289-4c59-87c7-0ee43eee7b8a",
   "metadata": {},
   "outputs": [],
   "source": [
    "# add pred into val_df\n",
    "test_df[\"pred\"] = pred_test_final"
   ]
  },
  {
   "cell_type": "code",
   "execution_count": 110,
   "id": "73271066-d333-43f8-a93c-7ccf08e0cf5a",
   "metadata": {},
   "outputs": [],
   "source": [
    "# label to intent mapping\n",
    "name2label = {\"Negative\":0,\n",
    "              \"Neutral\":1,\n",
    "             \"Positive\":2\n",
    "             }\n",
    "label2name = {v: k for k, v in name2label.items()}\n",
    "\n",
    "test_df[\"pred_name\"] = test_df.pred.apply(lambda x: label2name.get(x)) "
   ]
  },
  {
   "cell_type": "code",
   "execution_count": 120,
   "id": "3915dde3-c3e7-4bc7-9726-bc6ecce61968",
   "metadata": {},
   "outputs": [
    {
     "data": {
      "text/html": [
       "<div>\n",
       "<style scoped>\n",
       "    .dataframe tbody tr th:only-of-type {\n",
       "        vertical-align: middle;\n",
       "    }\n",
       "\n",
       "    .dataframe tbody tr th {\n",
       "        vertical-align: top;\n",
       "    }\n",
       "\n",
       "    .dataframe thead th {\n",
       "        text-align: right;\n",
       "    }\n",
       "</style>\n",
       "<table border=\"1\" class=\"dataframe\">\n",
       "  <thead>\n",
       "    <tr style=\"text-align: right;\">\n",
       "      <th></th>\n",
       "      <th>text</th>\n",
       "      <th>label</th>\n",
       "      <th>label_name</th>\n",
       "      <th>text_original</th>\n",
       "      <th>tokenized_text</th>\n",
       "      <th>sent_token_length</th>\n",
       "      <th>sent_bert_token_length</th>\n",
       "      <th>char_count</th>\n",
       "      <th>Character Count</th>\n",
       "      <th>pred</th>\n",
       "      <th>pred_name</th>\n",
       "    </tr>\n",
       "  </thead>\n",
       "  <tbody>\n",
       "    <tr>\n",
       "      <th>1706</th>\n",
       "      <td>se puso roja de colera😂😂,que pena que haya perdido una gran ventana para exponer las propuestas de su partido,ella lo quiso asi!!🤷‍️</td>\n",
       "      <td>1</td>\n",
       "      <td>Neutral</td>\n",
       "      <td>Se puso roja de colera😂😂,que pena que haya perdido una gran ventana para exponer las propuestas de su partido,ella lo quiso asi!!🤷‍♀️</td>\n",
       "      <td>se puso roja de colera😂😂 que pena que haya perdido una gran ventana para exponer las propuestas de su partido ella lo quiso asi  🤷‍️</td>\n",
       "      <td>22</td>\n",
       "      <td>26</td>\n",
       "      <td>132</td>\n",
       "      <td>132</td>\n",
       "      <td>1</td>\n",
       "      <td>Neutral</td>\n",
       "    </tr>\n",
       "    <tr>\n",
       "      <th>832</th>\n",
       "      <td>manolo del castillo (oficial) sorojchi pills capsulas para la próxima 😁</td>\n",
       "      <td>1</td>\n",
       "      <td>Neutral</td>\n",
       "      <td>Manolo Del Castillo (Oficial) Sorojchi pills capsulas para la próxima 😁</td>\n",
       "      <td>manolo del castillo  oficial  sorojchi pills capsulas para la próxima 😁</td>\n",
       "      <td>11</td>\n",
       "      <td>19</td>\n",
       "      <td>71</td>\n",
       "      <td>71</td>\n",
       "      <td>1</td>\n",
       "      <td>Neutral</td>\n",
       "    </tr>\n",
       "    <tr>\n",
       "      <th>286</th>\n",
       "      <td>😆🤭eres única pía para que amargarse se nos arruga la piel, eso lo dejamos para las amargadas</td>\n",
       "      <td>2</td>\n",
       "      <td>Positive</td>\n",
       "      <td>😆🤭eres única pía para que amargarse se nos arruga la piel, eso lo dejamos para las amargadas</td>\n",
       "      <td>😆🤭eres única pía para que amargarse se nos arruga la piel  eso lo dejamos para las amargadas</td>\n",
       "      <td>17</td>\n",
       "      <td>21</td>\n",
       "      <td>92</td>\n",
       "      <td>92</td>\n",
       "      <td>0</td>\n",
       "      <td>Negative</td>\n",
       "    </tr>\n",
       "    <tr>\n",
       "      <th>1051</th>\n",
       "      <td>ya, está bien pero el 11 y 33? 😂 habla pe o te vas a seguir haciéndote el cojudo. (no digo que no te salga increíble el papel de cojudo)</td>\n",
       "      <td>0</td>\n",
       "      <td>Negative</td>\n",
       "      <td>Ya, está bien pero el 11 y 33? 😂 Habla pe o te vas a seguir haciéndote el cojudo. (No digo que no te salga increíble el papel de cojudo)</td>\n",
       "      <td>ya  está bien pero el 11 y 33  😂 habla pe o te vas a seguir haciéndote el cojudo   no digo que no te salga increíble el papel de cojudo</td>\n",
       "      <td>30</td>\n",
       "      <td>37</td>\n",
       "      <td>136</td>\n",
       "      <td>136</td>\n",
       "      <td>1</td>\n",
       "      <td>Neutral</td>\n",
       "    </tr>\n",
       "    <tr>\n",
       "      <th>993</th>\n",
       "      <td>mario jesus qui ba nuestro huequito hace años ufff 🤤🤤🤤 amor date un tiempo extraño mi combinadito 😪😪</td>\n",
       "      <td>2</td>\n",
       "      <td>Positive</td>\n",
       "      <td>Mario Jesus Qui Ba nuestro huequito hace años ufff 🤤🤤🤤 amor date un tiempo extraño mi combinadito 😪😪</td>\n",
       "      <td>mario jesus qui ba nuestro huequito hace años ufff 🤤🤤🤤 amor date un tiempo extraño mi combinadito 😪😪</td>\n",
       "      <td>18</td>\n",
       "      <td>20</td>\n",
       "      <td>100</td>\n",
       "      <td>100</td>\n",
       "      <td>1</td>\n",
       "      <td>Neutral</td>\n",
       "    </tr>\n",
       "    <tr>\n",
       "      <th>589</th>\n",
       "      <td>¡pero si a ese flaco puedes matarlo! exclamó</td>\n",
       "      <td>1</td>\n",
       "      <td>Neutral</td>\n",
       "      <td>¡Pero si a ese flaco puedes matarlo! exclamó</td>\n",
       "      <td>¡pero si a ese flaco puedes matarlo  exclamó</td>\n",
       "      <td>8</td>\n",
       "      <td>10</td>\n",
       "      <td>44</td>\n",
       "      <td>44</td>\n",
       "      <td>1</td>\n",
       "      <td>Neutral</td>\n",
       "    </tr>\n",
       "    <tr>\n",
       "      <th>1398</th>\n",
       "      <td>por. k no se largar estos extranjeros lo único k asen es joder  ala jente tira de malandros y rateros k los voten sin compasión alguna k pobrecitos k no k tienen niños usan a sus hijos para pedir limosnas y uno les ofreces trabajo  y no kieren y disen k ganan así más fácil y me pidiendo limosnas...</td>\n",
       "      <td>0</td>\n",
       "      <td>Negative</td>\n",
       "      <td>Por. K no se largar estos extranjeros lo único k asen es joder  ala jente tira de malandros y rateros k los voten sin compasión alguna k pobrecitos k no k tienen niños usan a sus hijos para pedir limosnas y uno les ofreces trabajo  y no kieren y disen k ganan así más fácil y me pidiendo limosnas...</td>\n",
       "      <td>por  k no se largar estos extranjeros lo único k asen es joder  ala jente tira de malandros y rateros k los voten sin compasión alguna k pobrecitos k no k tienen niños usan a sus hijos para pedir limosnas y uno les ofreces trabajo  y no kieren y disen k ganan así más fácil y me pidiendo limosnas...</td>\n",
       "      <td>97</td>\n",
       "      <td>120</td>\n",
       "      <td>496</td>\n",
       "      <td>496</td>\n",
       "      <td>0</td>\n",
       "      <td>Negative</td>\n",
       "    </tr>\n",
       "    <tr>\n",
       "      <th>534</th>\n",
       "      <td>bien fiorella 👍👍👍 la que puede puede y que disfrutes las demas misi44 s tendran que salir con los pantene  para tener 💵 mientras tu siendo exitosa te sobra el 💵💵💵 y te das tus gustos como tiene que ser</td>\n",
       "      <td>2</td>\n",
       "      <td>Positive</td>\n",
       "      <td>Bien Fiorella 👍👍👍 la que puede puede y que disfrutes las demas misi44 s tendran que salir con los pantene  para tener 💵 mientras tu siendo exitosa te sobra el 💵💵💵 y te das tus gustos como tiene que ser</td>\n",
       "      <td>bien fiorella 👍👍👍 la que puede puede y que disfrutes las demas misi44 s tendran que salir con los pantene  para tener 💵 mientras tu siendo exitosa te sobra el 💵💵💵 y te das tus gustos como tiene que ser</td>\n",
       "      <td>40</td>\n",
       "      <td>47</td>\n",
       "      <td>201</td>\n",
       "      <td>201</td>\n",
       "      <td>1</td>\n",
       "      <td>Neutral</td>\n",
       "    </tr>\n",
       "    <tr>\n",
       "      <th>994</th>\n",
       "      <td>todo lo que causan las mujeres 😃</td>\n",
       "      <td>1</td>\n",
       "      <td>Neutral</td>\n",
       "      <td>Todo lo que causan las mujeres 😃</td>\n",
       "      <td>todo lo que causan las mujeres 😃</td>\n",
       "      <td>7</td>\n",
       "      <td>7</td>\n",
       "      <td>32</td>\n",
       "      <td>32</td>\n",
       "      <td>1</td>\n",
       "      <td>Neutral</td>\n",
       "    </tr>\n",
       "    <tr>\n",
       "      <th>185</th>\n",
       "      <td>amo los caballos, mi abuelita tenia un caballo, una yegua y un potrillo 🥰️😘</td>\n",
       "      <td>2</td>\n",
       "      <td>Positive</td>\n",
       "      <td>Amo los caballos, mi abuelita tenia un caballo, una yegua y un potrillo 🥰❤️😘</td>\n",
       "      <td>amo los caballos  mi abuelita tenia un caballo  una yegua y un potrillo 🥰️😘</td>\n",
       "      <td>14</td>\n",
       "      <td>19</td>\n",
       "      <td>75</td>\n",
       "      <td>75</td>\n",
       "      <td>1</td>\n",
       "      <td>Neutral</td>\n",
       "    </tr>\n",
       "    <tr>\n",
       "      <th>659</th>\n",
       "      <td>bien cabeza de guaipe 😂 tu si eres un reviente 😁✌</td>\n",
       "      <td>0</td>\n",
       "      <td>Negative</td>\n",
       "      <td>Bien cabeza de guaipe 😂 tu si eres un reviente 😁✌</td>\n",
       "      <td>bien cabeza de guaipe 😂 tu si eres un reviente 😁✌</td>\n",
       "      <td>11</td>\n",
       "      <td>13</td>\n",
       "      <td>49</td>\n",
       "      <td>49</td>\n",
       "      <td>0</td>\n",
       "      <td>Negative</td>\n",
       "    </tr>\n",
       "    <tr>\n",
       "      <th>93</th>\n",
       "      <td>este chupa media de castillo cómo todos los que lo defienden son unos delincuentes,con su gran estrategia de que es el pobre campesino que no dejan gobernar 😡😡😡 grandísimos sinvergüenzas</td>\n",
       "      <td>0</td>\n",
       "      <td>Negative</td>\n",
       "      <td>Este chupa media de Castillo cómo todos los que lo defienden son unos delincuentes,con su gran estrategia de que es el pobre campesino que no dejan gobernar 😡😡😡 grandísimos sinvergüenzas</td>\n",
       "      <td>este chupa media de castillo cómo todos los que lo defienden son unos delincuentes con su gran estrategia de que es el pobre campesino que no dejan gobernar 😡😡😡 grandísimos sinvergüenzas</td>\n",
       "      <td>30</td>\n",
       "      <td>33</td>\n",
       "      <td>186</td>\n",
       "      <td>186</td>\n",
       "      <td>0</td>\n",
       "      <td>Negative</td>\n",
       "    </tr>\n",
       "    <tr>\n",
       "      <th>1572</th>\n",
       "      <td>en la ducha a quien se le caerá el jabón 🤣🤣🤣</td>\n",
       "      <td>0</td>\n",
       "      <td>Negative</td>\n",
       "      <td>En la ducha a quien se le caerá el jabón 🤣🤣🤣</td>\n",
       "      <td>en la ducha a quien se le caerá el jabón 🤣🤣🤣</td>\n",
       "      <td>11</td>\n",
       "      <td>12</td>\n",
       "      <td>44</td>\n",
       "      <td>44</td>\n",
       "      <td>1</td>\n",
       "      <td>Neutral</td>\n",
       "    </tr>\n",
       "    <tr>\n",
       "      <th>1125</th>\n",
       "      <td>aquí hay centros comerciales que te venden bolsas de telas :d aunque la mayoría usa las de plástico 🙄</td>\n",
       "      <td>1</td>\n",
       "      <td>Neutral</td>\n",
       "      <td>Aquí hay centros comerciales que te venden bolsas de telas :D aunque la mayoría usa las de plástico 🙄</td>\n",
       "      <td>aquí hay centros comerciales que te venden bolsas de telas  d aunque la mayoría usa las de plástico 🙄</td>\n",
       "      <td>19</td>\n",
       "      <td>20</td>\n",
       "      <td>101</td>\n",
       "      <td>101</td>\n",
       "      <td>1</td>\n",
       "      <td>Neutral</td>\n",
       "    </tr>\n",
       "    <tr>\n",
       "      <th>1707</th>\n",
       "      <td>estoy entre cachondo y confundido  🧐</td>\n",
       "      <td>0</td>\n",
       "      <td>Negative</td>\n",
       "      <td>Estoy entre Cachondo y Confundido  🧐</td>\n",
       "      <td>estoy entre cachondo y confundido  🧐</td>\n",
       "      <td>6</td>\n",
       "      <td>9</td>\n",
       "      <td>36</td>\n",
       "      <td>36</td>\n",
       "      <td>1</td>\n",
       "      <td>Neutral</td>\n",
       "    </tr>\n",
       "    <tr>\n",
       "      <th>664</th>\n",
       "      <td>katherine lopez dapello a la pichanga 🙄 jaja 🔥🔥🔥</td>\n",
       "      <td>2</td>\n",
       "      <td>Positive</td>\n",
       "      <td>Katherine Lopez Dapello a la pichanga 🙄 jajaja 🔥🔥🔥</td>\n",
       "      <td>katherine lopez dapello a la pichanga 🙄 jaja 🔥🔥🔥</td>\n",
       "      <td>9</td>\n",
       "      <td>15</td>\n",
       "      <td>48</td>\n",
       "      <td>48</td>\n",
       "      <td>1</td>\n",
       "      <td>Neutral</td>\n",
       "    </tr>\n",
       "    <tr>\n",
       "      <th>94</th>\n",
       "      <td>o eso es un tipo de discriminación departe de esa cafetería de 💩💩💩 y acoso uo hostigamiento departe del 🐸🐸🐸🤬🤬🤬😡😡😡</td>\n",
       "      <td>0</td>\n",
       "      <td>Negative</td>\n",
       "      <td>O eso es un tipo de discriminación departe de esa cafetería de 💩💩💩💩💩💩 y acoso uo hostigamiento departe del 🐸🐸🐸🤬🤬🤬🤬🤬🤬😡😡😡</td>\n",
       "      <td>o eso es un tipo de discriminación departe de esa cafetería de 💩💩💩 y acoso uo hostigamiento departe del 🐸🐸🐸🤬🤬🤬😡😡😡</td>\n",
       "      <td>20</td>\n",
       "      <td>26</td>\n",
       "      <td>113</td>\n",
       "      <td>113</td>\n",
       "      <td>1</td>\n",
       "      <td>Neutral</td>\n",
       "    </tr>\n",
       "    <tr>\n",
       "      <th>1080</th>\n",
       "      <td>hasta parece comercial de perfume 💃</td>\n",
       "      <td>1</td>\n",
       "      <td>Neutral</td>\n",
       "      <td>Hasta parece comercial de perfume 💃❤</td>\n",
       "      <td>hasta parece comercial de perfume 💃</td>\n",
       "      <td>6</td>\n",
       "      <td>6</td>\n",
       "      <td>35</td>\n",
       "      <td>35</td>\n",
       "      <td>1</td>\n",
       "      <td>Neutral</td>\n",
       "    </tr>\n",
       "    <tr>\n",
       "      <th>564</th>\n",
       "      <td>mejor pasen un vídeo de él tobi hablando huevadas 🤭🤭🤭</td>\n",
       "      <td>0</td>\n",
       "      <td>Negative</td>\n",
       "      <td>Mejor pasen un vídeo de él tobi hablando huevadas 🤭🤭🤭</td>\n",
       "      <td>mejor pasen un vídeo de él tobi hablando huevadas 🤭🤭🤭</td>\n",
       "      <td>10</td>\n",
       "      <td>12</td>\n",
       "      <td>53</td>\n",
       "      <td>53</td>\n",
       "      <td>1</td>\n",
       "      <td>Neutral</td>\n",
       "    </tr>\n",
       "    <tr>\n",
       "      <th>360</th>\n",
       "      <td>que antojo.. y con su clarito mmm una delicia 😋</td>\n",
       "      <td>2</td>\n",
       "      <td>Positive</td>\n",
       "      <td>Que antojo.. Y con su clarito mmmm una delicia 😋</td>\n",
       "      <td>que antojo   y con su clarito mmm una delicia 😋</td>\n",
       "      <td>10</td>\n",
       "      <td>11</td>\n",
       "      <td>47</td>\n",
       "      <td>47</td>\n",
       "      <td>2</td>\n",
       "      <td>Positive</td>\n",
       "    </tr>\n",
       "  </tbody>\n",
       "</table>\n",
       "</div>"
      ],
      "text/plain": [
       "                                                                                                                                                                                                                                                                                                             text  \\\n",
       "1706                                                                                                                                                                         se puso roja de colera😂😂,que pena que haya perdido una gran ventana para exponer las propuestas de su partido,ella lo quiso asi!!🤷‍️   \n",
       "832                                                                                                                                                                                                                                       manolo del castillo (oficial) sorojchi pills capsulas para la próxima 😁   \n",
       "286                                                                                                                                                                                                                  😆🤭eres única pía para que amargarse se nos arruga la piel, eso lo dejamos para las amargadas   \n",
       "1051                                                                                                                                                                     ya, está bien pero el 11 y 33? 😂 habla pe o te vas a seguir haciéndote el cojudo. (no digo que no te salga increíble el papel de cojudo)   \n",
       "993                                                                                                                                                                                                          mario jesus qui ba nuestro huequito hace años ufff 🤤🤤🤤 amor date un tiempo extraño mi combinadito 😪😪   \n",
       "589                                                                                                                                                                                                                                                                  ¡pero si a ese flaco puedes matarlo! exclamó   \n",
       "1398  por. k no se largar estos extranjeros lo único k asen es joder  ala jente tira de malandros y rateros k los voten sin compasión alguna k pobrecitos k no k tienen niños usan a sus hijos para pedir limosnas y uno les ofreces trabajo  y no kieren y disen k ganan así más fácil y me pidiendo limosnas...   \n",
       "534                                                                                                     bien fiorella 👍👍👍 la que puede puede y que disfrutes las demas misi44 s tendran que salir con los pantene  para tener 💵 mientras tu siendo exitosa te sobra el 💵💵💵 y te das tus gustos como tiene que ser   \n",
       "994                                                                                                                                                                                                                                                                              todo lo que causan las mujeres 😃   \n",
       "185                                                                                                                                                                                                                                   amo los caballos, mi abuelita tenia un caballo, una yegua y un potrillo 🥰️😘   \n",
       "659                                                                                                                                                                                                                                                             bien cabeza de guaipe 😂 tu si eres un reviente 😁✌   \n",
       "93                                                                                                                     este chupa media de castillo cómo todos los que lo defienden son unos delincuentes,con su gran estrategia de que es el pobre campesino que no dejan gobernar 😡😡😡 grandísimos sinvergüenzas   \n",
       "1572                                                                                                                                                                                                                                                                 en la ducha a quien se le caerá el jabón 🤣🤣🤣   \n",
       "1125                                                                                                                                                                                                        aquí hay centros comerciales que te venden bolsas de telas :d aunque la mayoría usa las de plástico 🙄   \n",
       "1707                                                                                                                                                                                                                                                                         estoy entre cachondo y confundido  🧐   \n",
       "664                                                                                                                                                                                                                                                              katherine lopez dapello a la pichanga 🙄 jaja 🔥🔥🔥   \n",
       "94                                                                                                                                                                                              o eso es un tipo de discriminación departe de esa cafetería de 💩💩💩 y acoso uo hostigamiento departe del 🐸🐸🐸🤬🤬🤬😡😡😡   \n",
       "1080                                                                                                                                                                                                                                                                          hasta parece comercial de perfume 💃   \n",
       "564                                                                                                                                                                                                                                                         mejor pasen un vídeo de él tobi hablando huevadas 🤭🤭🤭   \n",
       "360                                                                                                                                                                                                                                                               que antojo.. y con su clarito mmm una delicia 😋   \n",
       "\n",
       "      label label_name  \\\n",
       "1706      1    Neutral   \n",
       "832       1    Neutral   \n",
       "286       2   Positive   \n",
       "1051      0   Negative   \n",
       "993       2   Positive   \n",
       "589       1    Neutral   \n",
       "1398      0   Negative   \n",
       "534       2   Positive   \n",
       "994       1    Neutral   \n",
       "185       2   Positive   \n",
       "659       0   Negative   \n",
       "93        0   Negative   \n",
       "1572      0   Negative   \n",
       "1125      1    Neutral   \n",
       "1707      0   Negative   \n",
       "664       2   Positive   \n",
       "94        0   Negative   \n",
       "1080      1    Neutral   \n",
       "564       0   Negative   \n",
       "360       2   Positive   \n",
       "\n",
       "                                                                                                                                                                                                                                                                                                    text_original  \\\n",
       "1706                                                                                                                                                                        Se puso roja de colera😂😂,que pena que haya perdido una gran ventana para exponer las propuestas de su partido,ella lo quiso asi!!🤷‍♀️   \n",
       "832                                                                                                                                                                                                                                       Manolo Del Castillo (Oficial) Sorojchi pills capsulas para la próxima 😁   \n",
       "286                                                                                                                                                                                                                  😆🤭eres única pía para que amargarse se nos arruga la piel, eso lo dejamos para las amargadas   \n",
       "1051                                                                                                                                                                     Ya, está bien pero el 11 y 33? 😂 Habla pe o te vas a seguir haciéndote el cojudo. (No digo que no te salga increíble el papel de cojudo)   \n",
       "993                                                                                                                                                                                                          Mario Jesus Qui Ba nuestro huequito hace años ufff 🤤🤤🤤 amor date un tiempo extraño mi combinadito 😪😪   \n",
       "589                                                                                                                                                                                                                                                                  ¡Pero si a ese flaco puedes matarlo! exclamó   \n",
       "1398  Por. K no se largar estos extranjeros lo único k asen es joder  ala jente tira de malandros y rateros k los voten sin compasión alguna k pobrecitos k no k tienen niños usan a sus hijos para pedir limosnas y uno les ofreces trabajo  y no kieren y disen k ganan así más fácil y me pidiendo limosnas...   \n",
       "534                                                                                                     Bien Fiorella 👍👍👍 la que puede puede y que disfrutes las demas misi44 s tendran que salir con los pantene  para tener 💵 mientras tu siendo exitosa te sobra el 💵💵💵 y te das tus gustos como tiene que ser   \n",
       "994                                                                                                                                                                                                                                                                              Todo lo que causan las mujeres 😃   \n",
       "185                                                                                                                                                                                                                                  Amo los caballos, mi abuelita tenia un caballo, una yegua y un potrillo 🥰❤️😘   \n",
       "659                                                                                                                                                                                                                                                             Bien cabeza de guaipe 😂 tu si eres un reviente 😁✌   \n",
       "93                                                                                                                     Este chupa media de Castillo cómo todos los que lo defienden son unos delincuentes,con su gran estrategia de que es el pobre campesino que no dejan gobernar 😡😡😡 grandísimos sinvergüenzas   \n",
       "1572                                                                                                                                                                                                                                                                 En la ducha a quien se le caerá el jabón 🤣🤣🤣   \n",
       "1125                                                                                                                                                                                                        Aquí hay centros comerciales que te venden bolsas de telas :D aunque la mayoría usa las de plástico 🙄   \n",
       "1707                                                                                                                                                                                                                                                                         Estoy entre Cachondo y Confundido  🧐   \n",
       "664                                                                                                                                                                                                                                                            Katherine Lopez Dapello a la pichanga 🙄 jajaja 🔥🔥🔥   \n",
       "94                                                                                                                                                                                        O eso es un tipo de discriminación departe de esa cafetería de 💩💩💩💩💩💩 y acoso uo hostigamiento departe del 🐸🐸🐸🤬🤬🤬🤬🤬🤬😡😡😡   \n",
       "1080                                                                                                                                                                                                                                                                         Hasta parece comercial de perfume 💃❤   \n",
       "564                                                                                                                                                                                                                                                         Mejor pasen un vídeo de él tobi hablando huevadas 🤭🤭🤭   \n",
       "360                                                                                                                                                                                                                                                              Que antojo.. Y con su clarito mmmm una delicia 😋   \n",
       "\n",
       "                                                                                                                                                                                                                                                                                                   tokenized_text  \\\n",
       "1706                                                                                                                                                                         se puso roja de colera😂😂 que pena que haya perdido una gran ventana para exponer las propuestas de su partido ella lo quiso asi  🤷‍️   \n",
       "832                                                                                                                                                                                                                                       manolo del castillo  oficial  sorojchi pills capsulas para la próxima 😁   \n",
       "286                                                                                                                                                                                                                  😆🤭eres única pía para que amargarse se nos arruga la piel  eso lo dejamos para las amargadas   \n",
       "1051                                                                                                                                                                     ya  está bien pero el 11 y 33  😂 habla pe o te vas a seguir haciéndote el cojudo   no digo que no te salga increíble el papel de cojudo    \n",
       "993                                                                                                                                                                                                          mario jesus qui ba nuestro huequito hace años ufff 🤤🤤🤤 amor date un tiempo extraño mi combinadito 😪😪   \n",
       "589                                                                                                                                                                                                                                                                  ¡pero si a ese flaco puedes matarlo  exclamó   \n",
       "1398  por  k no se largar estos extranjeros lo único k asen es joder  ala jente tira de malandros y rateros k los voten sin compasión alguna k pobrecitos k no k tienen niños usan a sus hijos para pedir limosnas y uno les ofreces trabajo  y no kieren y disen k ganan así más fácil y me pidiendo limosnas...   \n",
       "534                                                                                                     bien fiorella 👍👍👍 la que puede puede y que disfrutes las demas misi44 s tendran que salir con los pantene  para tener 💵 mientras tu siendo exitosa te sobra el 💵💵💵 y te das tus gustos como tiene que ser   \n",
       "994                                                                                                                                                                                                                                                                              todo lo que causan las mujeres 😃   \n",
       "185                                                                                                                                                                                                                                   amo los caballos  mi abuelita tenia un caballo  una yegua y un potrillo 🥰️😘   \n",
       "659                                                                                                                                                                                                                                                             bien cabeza de guaipe 😂 tu si eres un reviente 😁✌   \n",
       "93                                                                                                                     este chupa media de castillo cómo todos los que lo defienden son unos delincuentes con su gran estrategia de que es el pobre campesino que no dejan gobernar 😡😡😡 grandísimos sinvergüenzas   \n",
       "1572                                                                                                                                                                                                                                                                 en la ducha a quien se le caerá el jabón 🤣🤣🤣   \n",
       "1125                                                                                                                                                                                                        aquí hay centros comerciales que te venden bolsas de telas  d aunque la mayoría usa las de plástico 🙄   \n",
       "1707                                                                                                                                                                                                                                                                         estoy entre cachondo y confundido  🧐   \n",
       "664                                                                                                                                                                                                                                                              katherine lopez dapello a la pichanga 🙄 jaja 🔥🔥🔥   \n",
       "94                                                                                                                                                                                              o eso es un tipo de discriminación departe de esa cafetería de 💩💩💩 y acoso uo hostigamiento departe del 🐸🐸🐸🤬🤬🤬😡😡😡   \n",
       "1080                                                                                                                                                                                                                                                                          hasta parece comercial de perfume 💃   \n",
       "564                                                                                                                                                                                                                                                         mejor pasen un vídeo de él tobi hablando huevadas 🤭🤭🤭   \n",
       "360                                                                                                                                                                                                                                                               que antojo   y con su clarito mmm una delicia 😋   \n",
       "\n",
       "      sent_token_length  sent_bert_token_length  char_count  Character Count  \\\n",
       "1706                 22                      26         132              132   \n",
       "832                  11                      19          71               71   \n",
       "286                  17                      21          92               92   \n",
       "1051                 30                      37         136              136   \n",
       "993                  18                      20         100              100   \n",
       "589                   8                      10          44               44   \n",
       "1398                 97                     120         496              496   \n",
       "534                  40                      47         201              201   \n",
       "994                   7                       7          32               32   \n",
       "185                  14                      19          75               75   \n",
       "659                  11                      13          49               49   \n",
       "93                   30                      33         186              186   \n",
       "1572                 11                      12          44               44   \n",
       "1125                 19                      20         101              101   \n",
       "1707                  6                       9          36               36   \n",
       "664                   9                      15          48               48   \n",
       "94                   20                      26         113              113   \n",
       "1080                  6                       6          35               35   \n",
       "564                  10                      12          53               53   \n",
       "360                  10                      11          47               47   \n",
       "\n",
       "      pred pred_name  \n",
       "1706     1   Neutral  \n",
       "832      1   Neutral  \n",
       "286      0  Negative  \n",
       "1051     1   Neutral  \n",
       "993      1   Neutral  \n",
       "589      1   Neutral  \n",
       "1398     0  Negative  \n",
       "534      1   Neutral  \n",
       "994      1   Neutral  \n",
       "185      1   Neutral  \n",
       "659      0  Negative  \n",
       "93       0  Negative  \n",
       "1572     1   Neutral  \n",
       "1125     1   Neutral  \n",
       "1707     1   Neutral  \n",
       "664      1   Neutral  \n",
       "94       1   Neutral  \n",
       "1080     1   Neutral  \n",
       "564      1   Neutral  \n",
       "360      2  Positive  "
      ]
     },
     "execution_count": 120,
     "metadata": {},
     "output_type": "execute_result"
    }
   ],
   "source": [
    "test_df.sample(20)"
   ]
  },
  {
   "cell_type": "code",
   "execution_count": 123,
   "id": "d1d80690-9f0f-4f27-8924-c9cf33543000",
   "metadata": {},
   "outputs": [
    {
     "data": {
      "image/png": "[encoded data removed]",
      "text/plain": [
       "<Figure size 800x700 with 2 Axes>"
      ]
     },
     "metadata": {},
     "output_type": "display_data"
    },
    {
     "data": {
      "text/plain": [
       "<Figure size 640x480 with 0 Axes>"
      ]
     },
     "metadata": {},
     "output_type": "display_data"
    }
   ],
   "source": [
    "from sklearn.svm import SVC\n",
    "from sklearn.metrics import confusion_matrix\n",
    "import seaborn as sns\n",
    "import matplotlib.pyplot as plt\n",
    "\n",
    "pred_name_values = test_df.pred_name.values\n",
    "label_values = test_df.label_name.values\n",
    "cm = confusion_matrix(label_values, pred_name_values)\n",
    "cm_df = pd.DataFrame(cm,\n",
    "                     index = ['Negative','Neutral','Positive'], \n",
    "                     columns = ['Negative','Neutral','Positive'])\n",
    "plt.figure(figsize=(8,7))\n",
    "sns.heatmap(cm_df, annot=True,fmt=\".0f\")\n",
    "plt.title('Confusion Matrix')\n",
    "plt.ylabel('Actual Values')\n",
    "plt.xlabel('Predicted Values')\n",
    "plt.show()\n",
    "\n",
    "plt.savefig('cm_test_predictions.png')"
   ]
  },
  {
   "cell_type": "code",
   "execution_count": 127,
   "id": "8496167a-614e-48cc-80f0-d6831caba303",
   "metadata": {},
   "outputs": [
    {
     "data": {
      "text/html": [
       "<div>\n",
       "<style scoped>\n",
       "    .dataframe tbody tr th:only-of-type {\n",
       "        vertical-align: middle;\n",
       "    }\n",
       "\n",
       "    .dataframe tbody tr th {\n",
       "        vertical-align: top;\n",
       "    }\n",
       "\n",
       "    .dataframe thead th {\n",
       "        text-align: right;\n",
       "    }\n",
       "</style>\n",
       "<table border=\"1\" class=\"dataframe\">\n",
       "  <thead>\n",
       "    <tr style=\"text-align: right;\">\n",
       "      <th></th>\n",
       "      <th>text</th>\n",
       "      <th>label</th>\n",
       "      <th>label_name</th>\n",
       "      <th>text_original</th>\n",
       "      <th>tokenized_text</th>\n",
       "      <th>sent_token_length</th>\n",
       "      <th>sent_bert_token_length</th>\n",
       "      <th>char_count</th>\n",
       "      <th>Character Count</th>\n",
       "      <th>pred</th>\n",
       "      <th>pred_name</th>\n",
       "    </tr>\n",
       "  </thead>\n",
       "  <tbody>\n",
       "    <tr>\n",
       "      <th>1028</th>\n",
       "      <td>maría pia estás regia y súper pilas que sigan tus éxitos💯💯💯</td>\n",
       "      <td>2</td>\n",
       "      <td>Positive</td>\n",
       "      <td>María Pia estás Regia y Súper Pilas que sigan tus Éxitos💯💯💯💯💯💯💯💯💯</td>\n",
       "      <td>maría pia estás regia y súper pilas que sigan tus éxitos💯💯💯</td>\n",
       "      <td>11</td>\n",
       "      <td>12</td>\n",
       "      <td>59</td>\n",
       "      <td>59</td>\n",
       "      <td>2</td>\n",
       "      <td>Positive</td>\n",
       "    </tr>\n",
       "    <tr>\n",
       "      <th>515</th>\n",
       "      <td>grande mambo park todas grandes voleibolistas ejemplos a seguir en mi opinión pero con la que me identifico más es un natalia málaga por su exigencia su disciplina... me considero yo una gran voleibolista hasta ahora ya no juego pero considero haber tenido un gran profesor en lo que se refiere a...</td>\n",
       "      <td>1</td>\n",
       "      <td>Neutral</td>\n",
       "      <td>Grande Mambo Park todas grandes voleibolistas ejemplos a seguir en mi opinión pero con la que me identifico más es un Natalia Málaga por su exigencia su disciplina...... me considero yo una gran voleibolista hasta ahora ya no juego pero considero haber tenido un gran profesor en lo que se refier...</td>\n",
       "      <td>grande mambo park todas grandes voleibolistas ejemplos a seguir en mi opinión pero con la que me identifico más es un natalia málaga por su exigencia su disciplina    me considero yo una gran voleibolista hasta ahora ya no juego pero considero haber tenido un gran profesor en lo que se refiere a...</td>\n",
       "      <td>79</td>\n",
       "      <td>95</td>\n",
       "      <td>483</td>\n",
       "      <td>483</td>\n",
       "      <td>2</td>\n",
       "      <td>Positive</td>\n",
       "    </tr>\n",
       "    <tr>\n",
       "      <th>649</th>\n",
       "      <td>aparte de : rondero profesor campesino evangelista astronauta testigo de jehova apostador ahora es tecladista 😬🥺🤣</td>\n",
       "      <td>1</td>\n",
       "      <td>Neutral</td>\n",
       "      <td>Aparte de : Rondero Profesor Campesino Evangelista Astronauta Testigo de Jehova Apostador Ahora es Tecladista 😬🥺🤣</td>\n",
       "      <td>aparte de   rondero profesor campesino evangelista astronauta testigo de jehova apostador ahora es tecladista 😬🥺🤣</td>\n",
       "      <td>16</td>\n",
       "      <td>23</td>\n",
       "      <td>113</td>\n",
       "      <td>113</td>\n",
       "      <td>0</td>\n",
       "      <td>Negative</td>\n",
       "    </tr>\n",
       "    <tr>\n",
       "      <th>47</th>\n",
       "      <td>gracioso ja,ja,ja,la cara de la china 😁</td>\n",
       "      <td>1</td>\n",
       "      <td>Neutral</td>\n",
       "      <td>Gracioso ja,ja,ja,la cara de la china 😁</td>\n",
       "      <td>gracioso ja ja ja la cara de la china 😁</td>\n",
       "      <td>7</td>\n",
       "      <td>10</td>\n",
       "      <td>39</td>\n",
       "      <td>39</td>\n",
       "      <td>0</td>\n",
       "      <td>Negative</td>\n",
       "    </tr>\n",
       "    <tr>\n",
       "      <th>387</th>\n",
       "      <td>mike lp jarly m. reyes cómo cuando luis eduardo muñoz gutierrez llegaba con tabas nuevas auspiciadas por lucas 😁</td>\n",
       "      <td>1</td>\n",
       "      <td>Neutral</td>\n",
       "      <td>Mike Lp Jarly M. Reyes Cómo cuando Luis Eduardo Muñoz Gutierrez llegaba con tabas nuevas auspiciadas por Lucas 😁</td>\n",
       "      <td>mike lp jarly m  reyes cómo cuando luis eduardo muñoz gutierrez llegaba con tabas nuevas auspiciadas por lucas 😁</td>\n",
       "      <td>19</td>\n",
       "      <td>25</td>\n",
       "      <td>112</td>\n",
       "      <td>112</td>\n",
       "      <td>1</td>\n",
       "      <td>Neutral</td>\n",
       "    </tr>\n",
       "    <tr>\n",
       "      <th>1796</th>\n",
       "      <td>ya pues beto tampoco tampocooo!!!  ya pareces más bien su jefe o jefa de propaganda   suelta a esa pulpina calabaza 🎃</td>\n",
       "      <td>0</td>\n",
       "      <td>Negative</td>\n",
       "      <td>Ya pues Beto tampoco tampocooo!!!!  Ya pareces más bien su jefe o jefa de propaganda    Suelta a esa pulpina calabaza 🎃</td>\n",
       "      <td>ya pues beto tampoco tampocooo     ya pareces más bien su jefe o jefa de propaganda   suelta a esa pulpina calabaza 🎃</td>\n",
       "      <td>21</td>\n",
       "      <td>27</td>\n",
       "      <td>117</td>\n",
       "      <td>117</td>\n",
       "      <td>1</td>\n",
       "      <td>Neutral</td>\n",
       "    </tr>\n",
       "    <tr>\n",
       "      <th>1673</th>\n",
       "      <td>manquita  pero mamacita 🤣😊 saludos desde colombia</td>\n",
       "      <td>2</td>\n",
       "      <td>Positive</td>\n",
       "      <td>Manquita  pero mamacita 🤣😊 saludos desde Colombia</td>\n",
       "      <td>manquita  pero mamacita 🤣😊 saludos desde colombia</td>\n",
       "      <td>7</td>\n",
       "      <td>10</td>\n",
       "      <td>49</td>\n",
       "      <td>49</td>\n",
       "      <td>1</td>\n",
       "      <td>Neutral</td>\n",
       "    </tr>\n",
       "    <tr>\n",
       "      <th>233</th>\n",
       "      <td>danny a. hancco  cómo todo un profesional 😅😅😅</td>\n",
       "      <td>2</td>\n",
       "      <td>Positive</td>\n",
       "      <td>Danny A. Hancco  cómo todo un profesional 😅😅😅😅</td>\n",
       "      <td>danny a  hancco  cómo todo un profesional 😅😅😅</td>\n",
       "      <td>8</td>\n",
       "      <td>10</td>\n",
       "      <td>45</td>\n",
       "      <td>45</td>\n",
       "      <td>1</td>\n",
       "      <td>Neutral</td>\n",
       "    </tr>\n",
       "    <tr>\n",
       "      <th>161</th>\n",
       "      <td>noheli d'france gutierrez ñahuis, sobretodo la de las antenas de cucaracha 🤣🤣🤣</td>\n",
       "      <td>0</td>\n",
       "      <td>Negative</td>\n",
       "      <td>Noheli D'france Gutierrez Ñahuis, sobretodo la de las antenas de cucaracha 🤣🤣🤣</td>\n",
       "      <td>noheli d france gutierrez ñahuis  sobretodo la de las antenas de cucaracha 🤣🤣🤣</td>\n",
       "      <td>12</td>\n",
       "      <td>22</td>\n",
       "      <td>78</td>\n",
       "      <td>78</td>\n",
       "      <td>1</td>\n",
       "      <td>Neutral</td>\n",
       "    </tr>\n",
       "    <tr>\n",
       "      <th>834</th>\n",
       "      <td>huaral lo mejor eso que no fuiste ala parte sierra de huaral 💯</td>\n",
       "      <td>2</td>\n",
       "      <td>Positive</td>\n",
       "      <td>Huaral lo mejor eso que no fuiste ala parte sierra de huaral 💯</td>\n",
       "      <td>huaral lo mejor eso que no fuiste ala parte sierra de huaral 💯</td>\n",
       "      <td>13</td>\n",
       "      <td>17</td>\n",
       "      <td>62</td>\n",
       "      <td>62</td>\n",
       "      <td>1</td>\n",
       "      <td>Neutral</td>\n",
       "    </tr>\n",
       "  </tbody>\n",
       "</table>\n",
       "</div>"
      ],
      "text/plain": [
       "                                                                                                                                                                                                                                                                                                             text  \\\n",
       "1028                                                                                                                                                                                                                                                  maría pia estás regia y súper pilas que sigan tus éxitos💯💯💯   \n",
       "515   grande mambo park todas grandes voleibolistas ejemplos a seguir en mi opinión pero con la que me identifico más es un natalia málaga por su exigencia su disciplina... me considero yo una gran voleibolista hasta ahora ya no juego pero considero haber tenido un gran profesor en lo que se refiere a...   \n",
       "649                                                                                                                                                                                             aparte de : rondero profesor campesino evangelista astronauta testigo de jehova apostador ahora es tecladista 😬🥺🤣   \n",
       "47                                                                                                                                                                                                                                                                        gracioso ja,ja,ja,la cara de la china 😁   \n",
       "387                                                                                                                                                                                              mike lp jarly m. reyes cómo cuando luis eduardo muñoz gutierrez llegaba con tabas nuevas auspiciadas por lucas 😁   \n",
       "1796                                                                                                                                                                                        ya pues beto tampoco tampocooo!!!  ya pareces más bien su jefe o jefa de propaganda   suelta a esa pulpina calabaza 🎃   \n",
       "1673                                                                                                                                                                                                                                                            manquita  pero mamacita 🤣😊 saludos desde colombia   \n",
       "233                                                                                                                                                                                                                                                                 danny a. hancco  cómo todo un profesional 😅😅😅   \n",
       "161                                                                                                                                                                                                                                noheli d'france gutierrez ñahuis, sobretodo la de las antenas de cucaracha 🤣🤣🤣   \n",
       "834                                                                                                                                                                                                                                                huaral lo mejor eso que no fuiste ala parte sierra de huaral 💯   \n",
       "\n",
       "      label label_name  \\\n",
       "1028      2   Positive   \n",
       "515       1    Neutral   \n",
       "649       1    Neutral   \n",
       "47        1    Neutral   \n",
       "387       1    Neutral   \n",
       "1796      0   Negative   \n",
       "1673      2   Positive   \n",
       "233       2   Positive   \n",
       "161       0   Negative   \n",
       "834       2   Positive   \n",
       "\n",
       "                                                                                                                                                                                                                                                                                                    text_original  \\\n",
       "1028                                                                                                                                                                                                                                            María Pia estás Regia y Súper Pilas que sigan tus Éxitos💯💯💯💯💯💯💯💯💯   \n",
       "515   Grande Mambo Park todas grandes voleibolistas ejemplos a seguir en mi opinión pero con la que me identifico más es un Natalia Málaga por su exigencia su disciplina...... me considero yo una gran voleibolista hasta ahora ya no juego pero considero haber tenido un gran profesor en lo que se refier...   \n",
       "649                                                                                                                                                                                             Aparte de : Rondero Profesor Campesino Evangelista Astronauta Testigo de Jehova Apostador Ahora es Tecladista 😬🥺🤣   \n",
       "47                                                                                                                                                                                                                                                                        Gracioso ja,ja,ja,la cara de la china 😁   \n",
       "387                                                                                                                                                                                              Mike Lp Jarly M. Reyes Cómo cuando Luis Eduardo Muñoz Gutierrez llegaba con tabas nuevas auspiciadas por Lucas 😁   \n",
       "1796                                                                                                                                                                                      Ya pues Beto tampoco tampocooo!!!!  Ya pareces más bien su jefe o jefa de propaganda    Suelta a esa pulpina calabaza 🎃   \n",
       "1673                                                                                                                                                                                                                                                            Manquita  pero mamacita 🤣😊 saludos desde Colombia   \n",
       "233                                                                                                                                                                                                                                                                Danny A. Hancco  cómo todo un profesional 😅😅😅😅   \n",
       "161                                                                                                                                                                                                                                Noheli D'france Gutierrez Ñahuis, sobretodo la de las antenas de cucaracha 🤣🤣🤣   \n",
       "834                                                                                                                                                                                                                                                Huaral lo mejor eso que no fuiste ala parte sierra de huaral 💯   \n",
       "\n",
       "                                                                                                                                                                                                                                                                                                   tokenized_text  \\\n",
       "1028                                                                                                                                                                                                                                                  maría pia estás regia y súper pilas que sigan tus éxitos💯💯💯   \n",
       "515   grande mambo park todas grandes voleibolistas ejemplos a seguir en mi opinión pero con la que me identifico más es un natalia málaga por su exigencia su disciplina    me considero yo una gran voleibolista hasta ahora ya no juego pero considero haber tenido un gran profesor en lo que se refiere a...   \n",
       "649                                                                                                                                                                                             aparte de   rondero profesor campesino evangelista astronauta testigo de jehova apostador ahora es tecladista 😬🥺🤣   \n",
       "47                                                                                                                                                                                                                                                                        gracioso ja ja ja la cara de la china 😁   \n",
       "387                                                                                                                                                                                              mike lp jarly m  reyes cómo cuando luis eduardo muñoz gutierrez llegaba con tabas nuevas auspiciadas por lucas 😁   \n",
       "1796                                                                                                                                                                                        ya pues beto tampoco tampocooo     ya pareces más bien su jefe o jefa de propaganda   suelta a esa pulpina calabaza 🎃   \n",
       "1673                                                                                                                                                                                                                                                            manquita  pero mamacita 🤣😊 saludos desde colombia   \n",
       "233                                                                                                                                                                                                                                                                 danny a  hancco  cómo todo un profesional 😅😅😅   \n",
       "161                                                                                                                                                                                                                                noheli d france gutierrez ñahuis  sobretodo la de las antenas de cucaracha 🤣🤣🤣   \n",
       "834                                                                                                                                                                                                                                                huaral lo mejor eso que no fuiste ala parte sierra de huaral 💯   \n",
       "\n",
       "      sent_token_length  sent_bert_token_length  char_count  Character Count  \\\n",
       "1028                 11                      12          59               59   \n",
       "515                  79                      95         483              483   \n",
       "649                  16                      23         113              113   \n",
       "47                    7                      10          39               39   \n",
       "387                  19                      25         112              112   \n",
       "1796                 21                      27         117              117   \n",
       "1673                  7                      10          49               49   \n",
       "233                   8                      10          45               45   \n",
       "161                  12                      22          78               78   \n",
       "834                  13                      17          62               62   \n",
       "\n",
       "      pred pred_name  \n",
       "1028     2  Positive  \n",
       "515      2  Positive  \n",
       "649      0  Negative  \n",
       "47       0  Negative  \n",
       "387      1   Neutral  \n",
       "1796     1   Neutral  \n",
       "1673     1   Neutral  \n",
       "233      1   Neutral  \n",
       "161      1   Neutral  \n",
       "834      1   Neutral  "
      ]
     },
     "execution_count": 127,
     "metadata": {},
     "output_type": "execute_result"
    }
   ],
   "source": [
    "test_df.sample(10)"
   ]
  },
  {
   "cell_type": "code",
   "execution_count": 114,
   "id": "7a7ea14e-257c-4b37-8688-4444c7388a2d",
   "metadata": {},
   "outputs": [],
   "source": [
    "test_df.to_csv('test_inference.csv', columns=['text', 'label','label_name', 'char_count', 'pred', 'pred_name'])"
   ]
  },
  {
   "cell_type": "code",
   "execution_count": 134,
   "id": "b1d2ccd3-00d9-4657-9fbd-4c72cf38ace8",
   "metadata": {},
   "outputs": [
    {
     "data": {
      "image/png": "[encoded data removed]",
      "text/plain": [
       "<Figure size 800x700 with 2 Axes>"
      ]
     },
     "metadata": {},
     "output_type": "display_data"
    }
   ],
   "source": [
    "cm = confusion_matrix(label_values, pred_name_values)\n",
    "cm_df = pd.DataFrame(cm/np.sum(cm),\n",
    "                     index = ['Negative','Neutral','Positive'], \n",
    "                     columns = ['Negative','Neutral','Positive'])\n",
    "plt.figure(figsize=(8,7))\n",
    "sns.heatmap(cm_df, annot=True, fmt=\".2%\")\n",
    "plt.title('Confusion Matrix')\n",
    "plt.ylabel('Actual Values')\n",
    "plt.xlabel('Predicted Values')\n",
    "plt.savefig('cm_test_predictions_percentage.png')\n",
    "plt.show()"
   ]
  },
  {
   "cell_type": "code",
   "execution_count": null,
   "id": "bb35acbf-990d-4168-a408-cd1fc8616870",
   "metadata": {},
   "outputs": [],
   "source": []
  }
 ],
 "metadata": {
  "kernelspec": {
   "display_name": "Python 3 (ipykernel)",
   "language": "python",
   "name": "python3"
  },
  "language_info": {
   "codemirror_mode": {
    "name": "ipython",
    "version": 3
   },
   "file_extension": ".py",
   "mimetype": "text/x-python",
   "name": "python",
   "nbconvert_exporter": "python",
   "pygments_lexer": "ipython3",
   "version": "3.10.13"
  }
 },
 "nbformat": 4,
 "nbformat_minor": 5
}
