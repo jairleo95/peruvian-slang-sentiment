{
 "cells": [
  {
   "cell_type": "code",
   "execution_count": 1,
   "id": "955514ed-28d2-422e-8eca-56055de9bc39",
   "metadata": {},
   "outputs": [],
   "source": [
    "#EDA"
   ]
  },
  {
   "cell_type": "code",
   "execution_count": 2,
   "id": "de09e411",
   "metadata": {},
   "outputs": [],
   "source": [
    "import torch"
   ]
  },
  {
   "cell_type": "code",
   "execution_count": 3,
   "id": "5af36065",
   "metadata": {},
   "outputs": [],
   "source": [
    "#!pip install pysentimiento transformers datasets accelerate evaluate"
   ]
  },
  {
   "cell_type": "code",
   "execution_count": null,
   "id": "c16f70f6-f93b-4be5-ac8a-33923bdf44af",
   "metadata": {},
   "outputs": [],
   "source": []
  },
  {
   "cell_type": "code",
   "execution_count": 4,
   "id": "1dcd6c81-eb73-4aa3-aa8c-ac9a46646d8b",
   "metadata": {
    "tags": []
   },
   "outputs": [],
   "source": [
    "import datasets\n",
    "import evaluate"
   ]
  },
  {
   "cell_type": "code",
   "execution_count": 5,
   "id": "ce0ec026-0099-414e-a6bf-a76776f39c3e",
   "metadata": {},
   "outputs": [],
   "source": [
    "import numpy as np\n",
    "from datasets import load_dataset"
   ]
  },
  {
   "cell_type": "code",
   "execution_count": 6,
   "id": "c9fbf152-07de-4cba-84b4-d3d871cb6eb3",
   "metadata": {
    "tags": []
   },
   "outputs": [],
   "source": [
    "import ipywidgets as widgets"
   ]
  },
  {
   "cell_type": "code",
   "execution_count": 7,
   "id": "a001ba7d",
   "metadata": {},
   "outputs": [],
   "source": [
    "#Helper Functions"
   ]
  },
  {
   "cell_type": "code",
   "execution_count": 8,
   "id": "5ba02255",
   "metadata": {},
   "outputs": [],
   "source": [
    "# label to name\n",
    "def label2name(x):\n",
    "    if x == 0:\n",
    "        return \"Negative\"\n",
    "    if x == 1:\n",
    "        return \"Neutral\"\n",
    "    if x == 2:\n",
    "        return \"Positive\""
   ]
  },
  {
   "cell_type": "code",
   "execution_count": 9,
   "id": "6d3164a0-faf4-4a4d-8a78-17b40b00c3f1",
   "metadata": {
    "tags": []
   },
   "outputs": [
    {
     "data": {
      "application/vnd.jupyter.widget-view+json": {
       "model_id": "4800874a97e249c68c87333df8630492",
       "version_major": 2,
       "version_minor": 0
      },
      "text/plain": [
       "Downloading builder script:   0%|          | 0.00/6.77k [00:00<?, ?B/s]"
      ]
     },
     "metadata": {},
     "output_type": "display_data"
    },
    {
     "data": {
      "application/vnd.jupyter.widget-view+json": {
       "model_id": "73a6508dfdef4fe29fbec4756e2e7806",
       "version_major": 2,
       "version_minor": 0
      },
      "text/plain": [
       "Downloading builder script:   0%|          | 0.00/7.36k [00:00<?, ?B/s]"
      ]
     },
     "metadata": {},
     "output_type": "display_data"
    }
   ],
   "source": [
    "\n",
    "f1_metric = evaluate.load(\"f1\")\n",
    "recall_metric = evaluate.load(\"recall\")\n",
    "\n",
    "def compute_metrics (eval_pred):\n",
    "    logits, labels = eval_pred\n",
    "    preds = np.argmax(logits, axis = -1)\n",
    "    \n",
    "    results = {}\n",
    "    results.update(f1_metric.compute(predictions=preds, references = labels, average=\"macro\"))\n",
    "    results.update(recall_metric.compute(predictions=preds, references = labels, average=\"macro\"))\n",
    "    return results"
   ]
  },
  {
   "cell_type": "code",
   "execution_count": 10,
   "id": "0bd8b7bc-ed54-4e65-ba9a-d2835b1abca8",
   "metadata": {
    "tags": []
   },
   "outputs": [],
   "source": [
    "#Read Data\n"
   ]
  },
  {
   "cell_type": "code",
   "execution_count": 11,
   "id": "90c97202-c5c6-484f-850a-46a9ee552251",
   "metadata": {
    "tags": []
   },
   "outputs": [
    {
     "data": {
      "application/vnd.jupyter.widget-view+json": {
       "model_id": "6b1d1686ad27410d82a76219bba36ee1",
       "version_major": 2,
       "version_minor": 0
      },
      "text/plain": [
       "Downloading data files:   0%|          | 0/3 [00:00<?, ?it/s]"
      ]
     },
     "metadata": {},
     "output_type": "display_data"
    },
    {
     "data": {
      "application/vnd.jupyter.widget-view+json": {
       "model_id": "e3b72487f911483aa82a8de05020e63e",
       "version_major": 2,
       "version_minor": 0
      },
      "text/plain": [
       "Extracting data files:   0%|          | 0/3 [00:00<?, ?it/s]"
      ]
     },
     "metadata": {},
     "output_type": "display_data"
    },
    {
     "data": {
      "application/vnd.jupyter.widget-view+json": {
       "model_id": "c63b181853fb49c4a41465d82bcef503",
       "version_major": 2,
       "version_minor": 0
      },
      "text/plain": [
       "Generating train split: 0 examples [00:00, ? examples/s]"
      ]
     },
     "metadata": {},
     "output_type": "display_data"
    },
    {
     "data": {
      "application/vnd.jupyter.widget-view+json": {
       "model_id": "2fdcb09b18f84e7cb03b7c608b36b4bf",
       "version_major": 2,
       "version_minor": 0
      },
      "text/plain": [
       "Generating validation split: 0 examples [00:00, ? examples/s]"
      ]
     },
     "metadata": {},
     "output_type": "display_data"
    },
    {
     "data": {
      "application/vnd.jupyter.widget-view+json": {
       "model_id": "ed7df7f433fd4ae8901e90d653cf35fd",
       "version_major": 2,
       "version_minor": 0
      },
      "text/plain": [
       "Generating test split: 0 examples [00:00, ? examples/s]"
      ]
     },
     "metadata": {},
     "output_type": "display_data"
    }
   ],
   "source": [
    "data_files = {\"train\": \"data/train.csv\", \"validation\": \"data/val.csv\", \"test\": \"data/test.csv\"}\n",
    "ds = load_dataset(\"csv\", data_files=data_files)"
   ]
  },
  {
   "cell_type": "code",
   "execution_count": 12,
   "id": "8087bffe-c868-4323-90f0-4c6951f4fb5c",
   "metadata": {
    "tags": []
   },
   "outputs": [
    {
     "data": {
      "text/plain": [
       "DatasetDict({\n",
       "    train: Dataset({\n",
       "        features: ['text', 'label', 'label_name', 'tokenized_text', 'sent_token_length', 'sent_bert_token_length', 'char_count', 'Character Count'],\n",
       "        num_rows: 878\n",
       "    })\n",
       "    validation: Dataset({\n",
       "        features: ['text', 'label', 'label_name', 'tokenized_text', 'sent_token_length', 'sent_bert_token_length', 'char_count', 'Character Count'],\n",
       "        num_rows: 109\n",
       "    })\n",
       "    test: Dataset({\n",
       "        features: ['text', 'label', 'label_name', 'tokenized_text', 'sent_token_length', 'sent_bert_token_length', 'char_count', 'Character Count'],\n",
       "        num_rows: 98\n",
       "    })\n",
       "})"
      ]
     },
     "execution_count": 12,
     "metadata": {},
     "output_type": "execute_result"
    }
   ],
   "source": [
    "ds"
   ]
  },
  {
   "cell_type": "code",
   "execution_count": null,
   "id": "a3ca4ba6",
   "metadata": {},
   "outputs": [],
   "source": []
  },
  {
   "cell_type": "code",
   "execution_count": 13,
   "id": "0c7abe81-d2ab-49c3-92bf-6c6e36d5d852",
   "metadata": {},
   "outputs": [
    {
     "data": {
      "text/plain": [
       "{'text': Value(dtype='string', id=None),\n",
       " 'label': Value(dtype='int64', id=None),\n",
       " 'label_name': Value(dtype='string', id=None),\n",
       " 'tokenized_text': Value(dtype='string', id=None),\n",
       " 'sent_token_length': Value(dtype='int64', id=None),\n",
       " 'sent_bert_token_length': Value(dtype='int64', id=None),\n",
       " 'char_count': Value(dtype='int64', id=None),\n",
       " 'Character Count': Value(dtype='int64', id=None)}"
      ]
     },
     "execution_count": 13,
     "metadata": {},
     "output_type": "execute_result"
    }
   ],
   "source": [
    "ds[\"train\"].features"
   ]
  },
  {
   "cell_type": "code",
   "execution_count": 14,
   "id": "9a33842b-42eb-4966-8b48-f3dd7e1aeb33",
   "metadata": {},
   "outputs": [
    {
     "data": {
      "text/plain": [
       "[2, 1, 1, 0, 1, 1, 0, 0, 0, 1]"
      ]
     },
     "execution_count": 14,
     "metadata": {},
     "output_type": "execute_result"
    }
   ],
   "source": [
    "ds[\"test\"][\"label\"][:10]"
   ]
  },
  {
   "cell_type": "code",
   "execution_count": 15,
   "id": "68d24890",
   "metadata": {},
   "outputs": [
    {
     "data": {
      "text/html": [
       "<div>\n",
       "<style scoped>\n",
       "    .dataframe tbody tr th:only-of-type {\n",
       "        vertical-align: middle;\n",
       "    }\n",
       "\n",
       "    .dataframe tbody tr th {\n",
       "        vertical-align: top;\n",
       "    }\n",
       "\n",
       "    .dataframe thead th {\n",
       "        text-align: right;\n",
       "    }\n",
       "</style>\n",
       "<table border=\"1\" class=\"dataframe\">\n",
       "  <thead>\n",
       "    <tr style=\"text-align: right;\">\n",
       "      <th></th>\n",
       "      <th>text</th>\n",
       "      <th>label</th>\n",
       "      <th>label_name</th>\n",
       "      <th>tokenized_text</th>\n",
       "      <th>sent_token_length</th>\n",
       "      <th>sent_bert_token_length</th>\n",
       "      <th>char_count</th>\n",
       "      <th>Character Count</th>\n",
       "    </tr>\n",
       "  </thead>\n",
       "  <tbody>\n",
       "    <tr>\n",
       "      <th>0</th>\n",
       "      <td>Yo soy Misterio, saco mi fierro y te mato</td>\n",
       "      <td>0</td>\n",
       "      <td>Negative</td>\n",
       "      <td>Yo soy Misterio, saco mi fierro y te mato</td>\n",
       "      <td>9</td>\n",
       "      <td>10</td>\n",
       "      <td>41</td>\n",
       "      <td>41</td>\n",
       "    </tr>\n",
       "    <tr>\n",
       "      <th>1</th>\n",
       "      <td>Unos bandidos, unos negros con caras de forajidos</td>\n",
       "      <td>1</td>\n",
       "      <td>Neutral</td>\n",
       "      <td>Unos bandidos, unos negros con caras de forajidos</td>\n",
       "      <td>8</td>\n",
       "      <td>12</td>\n",
       "      <td>49</td>\n",
       "      <td>49</td>\n",
       "    </tr>\n",
       "    <tr>\n",
       "      <th>2</th>\n",
       "      <td>-Quieres decir que soy un soplón -dijo el Jaguar</td>\n",
       "      <td>1</td>\n",
       "      <td>Neutral</td>\n",
       "      <td>-Quieres decir que soy un soplón -dijo el Jaguar</td>\n",
       "      <td>9</td>\n",
       "      <td>14</td>\n",
       "      <td>49</td>\n",
       "      <td>49</td>\n",
       "    </tr>\n",
       "    <tr>\n",
       "      <th>3</th>\n",
       "      <td>soy recontra taco pero soy bien rica</td>\n",
       "      <td>2</td>\n",
       "      <td>Positive</td>\n",
       "      <td>soy recontra taco pero soy bien rica</td>\n",
       "      <td>7</td>\n",
       "      <td>7</td>\n",
       "      <td>36</td>\n",
       "      <td>36</td>\n",
       "    </tr>\n",
       "    <tr>\n",
       "      <th>4</th>\n",
       "      <td>El colegio estaba cerrado, todavía era temprano</td>\n",
       "      <td>1</td>\n",
       "      <td>Neutral</td>\n",
       "      <td>El colegio estaba cerrado, todavía era temprano</td>\n",
       "      <td>7</td>\n",
       "      <td>8</td>\n",
       "      <td>47</td>\n",
       "      <td>47</td>\n",
       "    </tr>\n",
       "  </tbody>\n",
       "</table>\n",
       "</div>"
      ],
      "text/plain": [
       "                                                text  label label_name  \\\n",
       "0          Yo soy Misterio, saco mi fierro y te mato      0   Negative   \n",
       "1  Unos bandidos, unos negros con caras de forajidos      1    Neutral   \n",
       "2  -Quieres decir que soy un soplón -dijo el Jaguar      1    Neutral   \n",
       "3               soy recontra taco pero soy bien rica      2   Positive   \n",
       "4    El colegio estaba cerrado, todavía era temprano      1    Neutral   \n",
       "\n",
       "                                      tokenized_text  sent_token_length  \\\n",
       "0          Yo soy Misterio, saco mi fierro y te mato                  9   \n",
       "1  Unos bandidos, unos negros con caras de forajidos                  8   \n",
       "2  -Quieres decir que soy un soplón -dijo el Jaguar                  9   \n",
       "3               soy recontra taco pero soy bien rica                  7   \n",
       "4    El colegio estaba cerrado, todavía era temprano                  7   \n",
       "\n",
       "   sent_bert_token_length  char_count  Character Count  \n",
       "0                      10          41               41  \n",
       "1                      12          49               49  \n",
       "2                      14          49               49  \n",
       "3                       7          36               36  \n",
       "4                       8          47               47  "
      ]
     },
     "execution_count": 15,
     "metadata": {},
     "output_type": "execute_result"
    }
   ],
   "source": [
    "df = ds['train'].to_pandas()\n",
    "df.head()"
   ]
  },
  {
   "cell_type": "code",
   "execution_count": 16,
   "id": "7c0615c2",
   "metadata": {},
   "outputs": [],
   "source": [
    "# encode label and mapping label name\n",
    "#df[\"label\"] = df[\"label\"].apply(lambda x: label_encode(x))\n",
    "df[\"label_name\"] = df[\"label\"].apply(lambda x: label2name(x))"
   ]
  },
  {
   "cell_type": "code",
   "execution_count": 17,
   "id": "4c00ccd4",
   "metadata": {},
   "outputs": [],
   "source": [
    "# clean text, lowercase and remove punk\n",
    "#df[\"text\"] = df[\"text\"].apply(lambda x: remove_punct(clean(remove_emoji(x).lower())[0][0]))"
   ]
  },
  {
   "cell_type": "code",
   "execution_count": 18,
   "id": "05636464",
   "metadata": {},
   "outputs": [
    {
     "data": {
      "text/html": [
       "<div>\n",
       "<style scoped>\n",
       "    .dataframe tbody tr th:only-of-type {\n",
       "        vertical-align: middle;\n",
       "    }\n",
       "\n",
       "    .dataframe tbody tr th {\n",
       "        vertical-align: top;\n",
       "    }\n",
       "\n",
       "    .dataframe thead th {\n",
       "        text-align: right;\n",
       "    }\n",
       "</style>\n",
       "<table border=\"1\" class=\"dataframe\">\n",
       "  <thead>\n",
       "    <tr style=\"text-align: right;\">\n",
       "      <th></th>\n",
       "      <th>text</th>\n",
       "      <th>label</th>\n",
       "      <th>label_name</th>\n",
       "      <th>tokenized_text</th>\n",
       "      <th>sent_token_length</th>\n",
       "      <th>sent_bert_token_length</th>\n",
       "      <th>char_count</th>\n",
       "      <th>Character Count</th>\n",
       "    </tr>\n",
       "  </thead>\n",
       "  <tbody>\n",
       "    <tr>\n",
       "      <th>0</th>\n",
       "      <td>Yo soy Misterio, saco mi fierro y te mato</td>\n",
       "      <td>0</td>\n",
       "      <td>Negative</td>\n",
       "      <td>Yo soy Misterio, saco mi fierro y te mato</td>\n",
       "      <td>9</td>\n",
       "      <td>10</td>\n",
       "      <td>41</td>\n",
       "      <td>41</td>\n",
       "    </tr>\n",
       "    <tr>\n",
       "      <th>1</th>\n",
       "      <td>Unos bandidos, unos negros con caras de forajidos</td>\n",
       "      <td>1</td>\n",
       "      <td>Neutral</td>\n",
       "      <td>Unos bandidos, unos negros con caras de forajidos</td>\n",
       "      <td>8</td>\n",
       "      <td>12</td>\n",
       "      <td>49</td>\n",
       "      <td>49</td>\n",
       "    </tr>\n",
       "    <tr>\n",
       "      <th>2</th>\n",
       "      <td>-Quieres decir que soy un soplón -dijo el Jaguar</td>\n",
       "      <td>1</td>\n",
       "      <td>Neutral</td>\n",
       "      <td>-Quieres decir que soy un soplón -dijo el Jaguar</td>\n",
       "      <td>9</td>\n",
       "      <td>14</td>\n",
       "      <td>49</td>\n",
       "      <td>49</td>\n",
       "    </tr>\n",
       "    <tr>\n",
       "      <th>3</th>\n",
       "      <td>soy recontra taco pero soy bien rica</td>\n",
       "      <td>2</td>\n",
       "      <td>Positive</td>\n",
       "      <td>soy recontra taco pero soy bien rica</td>\n",
       "      <td>7</td>\n",
       "      <td>7</td>\n",
       "      <td>36</td>\n",
       "      <td>36</td>\n",
       "    </tr>\n",
       "    <tr>\n",
       "      <th>4</th>\n",
       "      <td>El colegio estaba cerrado, todavía era temprano</td>\n",
       "      <td>1</td>\n",
       "      <td>Neutral</td>\n",
       "      <td>El colegio estaba cerrado, todavía era temprano</td>\n",
       "      <td>7</td>\n",
       "      <td>8</td>\n",
       "      <td>47</td>\n",
       "      <td>47</td>\n",
       "    </tr>\n",
       "  </tbody>\n",
       "</table>\n",
       "</div>"
      ],
      "text/plain": [
       "                                                text  label label_name  \\\n",
       "0          Yo soy Misterio, saco mi fierro y te mato      0   Negative   \n",
       "1  Unos bandidos, unos negros con caras de forajidos      1    Neutral   \n",
       "2  -Quieres decir que soy un soplón -dijo el Jaguar      1    Neutral   \n",
       "3               soy recontra taco pero soy bien rica      2   Positive   \n",
       "4    El colegio estaba cerrado, todavía era temprano      1    Neutral   \n",
       "\n",
       "                                      tokenized_text  sent_token_length  \\\n",
       "0          Yo soy Misterio, saco mi fierro y te mato                  9   \n",
       "1  Unos bandidos, unos negros con caras de forajidos                  8   \n",
       "2  -Quieres decir que soy un soplón -dijo el Jaguar                  9   \n",
       "3               soy recontra taco pero soy bien rica                  7   \n",
       "4    El colegio estaba cerrado, todavía era temprano                  7   \n",
       "\n",
       "   sent_bert_token_length  char_count  Character Count  \n",
       "0                      10          41               41  \n",
       "1                      12          49               49  \n",
       "2                      14          49               49  \n",
       "3                       7          36               36  \n",
       "4                       8          47               47  "
      ]
     },
     "execution_count": 18,
     "metadata": {},
     "output_type": "execute_result"
    }
   ],
   "source": [
    "df.head()"
   ]
  },
  {
   "cell_type": "code",
   "execution_count": 19,
   "id": "8299b318-0204-49cb-bf9a-14834e7796cb",
   "metadata": {
    "tags": []
   },
   "outputs": [
    {
     "data": {
      "application/vnd.jupyter.widget-view+json": {
       "model_id": "e44ec19d3592459e971cd167870e1dbf",
       "version_major": 2,
       "version_minor": 0
      },
      "text/plain": [
       "config.json:   0%|          | 0.00/677 [00:00<?, ?B/s]"
      ]
     },
     "metadata": {},
     "output_type": "display_data"
    },
    {
     "data": {
      "application/vnd.jupyter.widget-view+json": {
       "model_id": "a39a16f846514636a37f5da6e08538d7",
       "version_major": 2,
       "version_minor": 0
      },
      "text/plain": [
       "pytorch_model.bin:   0%|          | 0.00/435M [00:00<?, ?B/s]"
      ]
     },
     "metadata": {},
     "output_type": "display_data"
    },
    {
     "name": "stderr",
     "output_type": "stream",
     "text": [
      "Some weights of the model checkpoint at pysentimiento/robertuito-base-uncased were not used when initializing RobertaForSequenceClassification: ['lm_head.dense.bias', 'lm_head.dense.weight', 'lm_head.bias', 'lm_head.layer_norm.weight', 'lm_head.layer_norm.bias']\n",
      "- This IS expected if you are initializing RobertaForSequenceClassification from the checkpoint of a model trained on another task or with another architecture (e.g. initializing a BertForSequenceClassification model from a BertForPreTraining model).\n",
      "- This IS NOT expected if you are initializing RobertaForSequenceClassification from the checkpoint of a model that you expect to be exactly identical (initializing a BertForSequenceClassification model from a BertForSequenceClassification model).\n",
      "Some weights of RobertaForSequenceClassification were not initialized from the model checkpoint at pysentimiento/robertuito-base-uncased and are newly initialized: ['classifier.out_proj.bias', 'classifier.out_proj.weight', 'classifier.dense.bias', 'classifier.dense.weight']\n",
      "You should probably TRAIN this model on a down-stream task to be able to use it for predictions and inference.\n"
     ]
    }
   ],
   "source": [
    "from transformers import AutoModelForSequenceClassification, AutoTokenizer\n",
    "\n",
    "model_name = \"pysentimiento/robertuito-base-uncased\"\n",
    "\n",
    "model = AutoModelForSequenceClassification.from_pretrained(\n",
    "    model_name,\n",
    "    num_labels=3\n",
    ")\n",
    "tokenizer = AutoTokenizer.from_pretrained(model_name)\n",
    "tokenizer.model_max_length = 128"
   ]
  },
  {
   "cell_type": "code",
   "execution_count": 20,
   "id": "da7b8124",
   "metadata": {},
   "outputs": [],
   "source": [
    "# columns = ['input_ids', 'attention_mask', 'label']\n",
    "# ds.set_format(type='torch', columns=columns)\n",
    "# ds"
   ]
  },
  {
   "cell_type": "code",
   "execution_count": null,
   "id": "ae25e978",
   "metadata": {},
   "outputs": [],
   "source": []
  },
  {
   "cell_type": "code",
   "execution_count": 21,
   "id": "8ed569d2-67ca-405d-aa88-3e6de71a2356",
   "metadata": {
    "tags": []
   },
   "outputs": [
    {
     "data": {
      "application/vnd.jupyter.widget-view+json": {
       "model_id": "8bff26a3065545e486154612b8e82b56",
       "version_major": 2,
       "version_minor": 0
      },
      "text/plain": [
       "Map:   0%|          | 0/878 [00:00<?, ? examples/s]"
      ]
     },
     "metadata": {},
     "output_type": "display_data"
    },
    {
     "data": {
      "application/vnd.jupyter.widget-view+json": {
       "model_id": "52b4eff4a7c94a78bfcb489e69e28c18",
       "version_major": 2,
       "version_minor": 0
      },
      "text/plain": [
       "Map:   0%|          | 0/109 [00:00<?, ? examples/s]"
      ]
     },
     "metadata": {},
     "output_type": "display_data"
    },
    {
     "data": {
      "application/vnd.jupyter.widget-view+json": {
       "model_id": "c6d08cd7bf204723a47e8285119cff82",
       "version_major": 2,
       "version_minor": 0
      },
      "text/plain": [
       "Map:   0%|          | 0/98 [00:00<?, ? examples/s]"
      ]
     },
     "metadata": {},
     "output_type": "display_data"
    }
   ],
   "source": [
    "from pysentimiento.preprocessing import preprocess_tweet\n",
    "preprocessed_ds = ds.map(lambda ex: {\"text\": preprocess_tweet(ex[\"text\"], lang=\"es\")})"
   ]
  },
  {
   "cell_type": "code",
   "execution_count": 22,
   "id": "99a78d85-4029-4621-b692-f63f396a2f6f",
   "metadata": {
    "tags": []
   },
   "outputs": [
    {
     "data": {
      "application/vnd.jupyter.widget-view+json": {
       "model_id": "555e6d61c42245688806e1398780f595",
       "version_major": 2,
       "version_minor": 0
      },
      "text/plain": [
       "Map:   0%|          | 0/878 [00:00<?, ? examples/s]"
      ]
     },
     "metadata": {},
     "output_type": "display_data"
    },
    {
     "data": {
      "application/vnd.jupyter.widget-view+json": {
       "model_id": "4270d53df157418f9e39643e67b35b68",
       "version_major": 2,
       "version_minor": 0
      },
      "text/plain": [
       "Map:   0%|          | 0/109 [00:00<?, ? examples/s]"
      ]
     },
     "metadata": {},
     "output_type": "display_data"
    },
    {
     "data": {
      "application/vnd.jupyter.widget-view+json": {
       "model_id": "b62ec65b83fd446db4636acad8899029",
       "version_major": 2,
       "version_minor": 0
      },
      "text/plain": [
       "Map:   0%|          | 0/98 [00:00<?, ? examples/s]"
      ]
     },
     "metadata": {},
     "output_type": "display_data"
    }
   ],
   "source": [
    "tokenized_ds = preprocessed_ds.map(\n",
    "    lambda batch: tokenizer(\n",
    "        batch[\"text\"], padding=True, truncation=True\n",
    "        ),\n",
    "    batched=True, batch_size=32\n",
    ")"
   ]
  },
  {
   "cell_type": "code",
   "execution_count": 23,
   "id": "1dd95bf5",
   "metadata": {},
   "outputs": [
    {
     "data": {
      "text/plain": [
       "DatasetDict({\n",
       "    train: Dataset({\n",
       "        features: ['text', 'label', 'label_name', 'tokenized_text', 'sent_token_length', 'sent_bert_token_length', 'char_count', 'Character Count', 'input_ids', 'token_type_ids', 'attention_mask'],\n",
       "        num_rows: 878\n",
       "    })\n",
       "    validation: Dataset({\n",
       "        features: ['text', 'label', 'label_name', 'tokenized_text', 'sent_token_length', 'sent_bert_token_length', 'char_count', 'Character Count', 'input_ids', 'token_type_ids', 'attention_mask'],\n",
       "        num_rows: 109\n",
       "    })\n",
       "    test: Dataset({\n",
       "        features: ['text', 'label', 'label_name', 'tokenized_text', 'sent_token_length', 'sent_bert_token_length', 'char_count', 'Character Count', 'input_ids', 'token_type_ids', 'attention_mask'],\n",
       "        num_rows: 98\n",
       "    })\n",
       "})"
      ]
     },
     "execution_count": 23,
     "metadata": {},
     "output_type": "execute_result"
    }
   ],
   "source": [
    "tokenized_ds"
   ]
  },
  {
   "cell_type": "code",
   "execution_count": 24,
   "id": "d3634bf4",
   "metadata": {},
   "outputs": [
    {
     "data": {
      "text/plain": [
       "[0,\n",
       " 560,\n",
       " 977,\n",
       " 10692,\n",
       " 16,\n",
       " 5713,\n",
       " 507,\n",
       " 27084,\n",
       " 445,\n",
       " 516,\n",
       " 7521,\n",
       " 2,\n",
       " 1,\n",
       " 1,\n",
       " 1,\n",
       " 1,\n",
       " 1,\n",
       " 1,\n",
       " 1,\n",
       " 1,\n",
       " 1,\n",
       " 1,\n",
       " 1,\n",
       " 1,\n",
       " 1,\n",
       " 1,\n",
       " 1,\n",
       " 1,\n",
       " 1,\n",
       " 1,\n",
       " 1,\n",
       " 1,\n",
       " 1,\n",
       " 1,\n",
       " 1,\n",
       " 1,\n",
       " 1,\n",
       " 1,\n",
       " 1]"
      ]
     },
     "execution_count": 24,
     "metadata": {},
     "output_type": "execute_result"
    }
   ],
   "source": [
    "tokenized_ds['train']['input_ids'][0]"
   ]
  },
  {
   "cell_type": "code",
   "execution_count": 25,
   "id": "7c23fbba",
   "metadata": {},
   "outputs": [
    {
     "data": {
      "text/plain": [
       "[1,\n",
       " 1,\n",
       " 1,\n",
       " 1,\n",
       " 1,\n",
       " 1,\n",
       " 1,\n",
       " 1,\n",
       " 1,\n",
       " 1,\n",
       " 1,\n",
       " 1,\n",
       " 0,\n",
       " 0,\n",
       " 0,\n",
       " 0,\n",
       " 0,\n",
       " 0,\n",
       " 0,\n",
       " 0,\n",
       " 0,\n",
       " 0,\n",
       " 0,\n",
       " 0,\n",
       " 0,\n",
       " 0,\n",
       " 0,\n",
       " 0,\n",
       " 0,\n",
       " 0,\n",
       " 0,\n",
       " 0,\n",
       " 0,\n",
       " 0,\n",
       " 0,\n",
       " 0,\n",
       " 0,\n",
       " 0,\n",
       " 0]"
      ]
     },
     "execution_count": 25,
     "metadata": {},
     "output_type": "execute_result"
    }
   ],
   "source": [
    "tokenized_ds['train']['attention_mask'][0]"
   ]
  },
  {
   "cell_type": "code",
   "execution_count": 26,
   "id": "f6d33cad",
   "metadata": {},
   "outputs": [
    {
     "data": {
      "text/plain": [
       "'Yo soy Misterio, saco mi fierro y te mato'"
      ]
     },
     "execution_count": 26,
     "metadata": {},
     "output_type": "execute_result"
    }
   ],
   "source": [
    "tokenized_ds['train']['text'][0]"
   ]
  },
  {
   "cell_type": "code",
   "execution_count": 27,
   "id": "c88c53d1-0c5b-4b97-910a-75f6991d2d6f",
   "metadata": {
    "tags": []
   },
   "outputs": [],
   "source": [
    "#!pip install ipdb"
   ]
  },
  {
   "cell_type": "code",
   "execution_count": 28,
   "id": "469074ed-9e65-4a9e-913c-6151f5c5d8b3",
   "metadata": {},
   "outputs": [],
   "source": [
    "#import torch\n",
    "#device = \"cuda\" if torch.cuda.is_available() else \"cpu\"\n",
    "#model.cuda()"
   ]
  },
  {
   "cell_type": "code",
   "execution_count": 29,
   "id": "5d56e2f2-159e-4ffe-86fc-3659ed308b89",
   "metadata": {},
   "outputs": [],
   "source": [
    "from transformers import TrainingArguments, Trainer, DataCollatorWithPadding\n",
    "\n",
    "training_args = TrainingArguments(\n",
    "    per_device_train_batch_size=32,\n",
    "    output_dir=\"test_trainer\",\n",
    "    do_eval=True,\n",
    "    evaluation_strategy=\"epoch\",\n",
    "    num_train_epochs=5,\n",
    ")\n",
    "\n",
    "trainer = Trainer(\n",
    "    model=model,\n",
    "    args=training_args,\n",
    "    train_dataset=tokenized_ds[\"train\"],\n",
    "    eval_dataset=tokenized_ds[\"validation\"],\n",
    "    compute_metrics=compute_metrics,\n",
    "    data_collator=DataCollatorWithPadding(tokenizer=tokenizer),\n",
    ")"
   ]
  },
  {
   "cell_type": "code",
   "execution_count": 30,
   "id": "6be1933a-b930-410d-91ff-646bdcb9a80f",
   "metadata": {
    "tags": []
   },
   "outputs": [
    {
     "name": "stderr",
     "output_type": "stream",
     "text": [
      "C:\\Users\\JairL\\anaconda3\\lib\\site-packages\\transformers\\optimization.py:391: FutureWarning: This implementation of AdamW is deprecated and will be removed in a future version. Use the PyTorch implementation torch.optim.AdamW instead, or set `no_deprecation_warning=True` to disable this warning\n",
      "  warnings.warn(\n"
     ]
    },
    {
     "name": "stdout",
     "output_type": "stream",
     "text": [
      "{'eval_loss': 0.8017800450325012, 'eval_f1': 0.4876152832674572, 'eval_recall': 0.5289115646258503, 'eval_runtime': 5.7787, 'eval_samples_per_second': 18.862, 'eval_steps_per_second': 2.423, 'epoch': 1.0}\n",
      "{'eval_loss': 0.7035928964614868, 'eval_f1': 0.7109988776655443, 'eval_recall': 0.681895485466914, 'eval_runtime': 5.674, 'eval_samples_per_second': 19.211, 'eval_steps_per_second': 2.467, 'epoch': 2.0}\n",
      "{'eval_loss': 0.6875613927841187, 'eval_f1': 0.7162697896334852, 'eval_recall': 0.6951530612244898, 'eval_runtime': 5.6518, 'eval_samples_per_second': 19.286, 'eval_steps_per_second': 2.477, 'epoch': 3.0}\n",
      "{'eval_loss': 0.7171606421470642, 'eval_f1': 0.6822053176845614, 'eval_recall': 0.6667439703153989, 'eval_runtime': 5.796, 'eval_samples_per_second': 18.806, 'eval_steps_per_second': 2.415, 'epoch': 4.0}\n",
      "{'eval_loss': 0.6991589069366455, 'eval_f1': 0.7267223160591744, 'eval_recall': 0.7099567099567099, 'eval_runtime': 5.8878, 'eval_samples_per_second': 18.513, 'eval_steps_per_second': 2.378, 'epoch': 5.0}\n",
      "{'train_runtime': 814.8538, 'train_samples_per_second': 5.387, 'train_steps_per_second': 0.172, 'train_loss': 0.4795149666922433, 'epoch': 5.0}\n"
     ]
    },
    {
     "data": {
      "text/plain": [
       "TrainOutput(global_step=140, training_loss=0.4795149666922433, metrics={'train_runtime': 814.8538, 'train_samples_per_second': 5.387, 'train_steps_per_second': 0.172, 'train_loss': 0.4795149666922433, 'epoch': 5.0})"
      ]
     },
     "execution_count": 30,
     "metadata": {},
     "output_type": "execute_result"
    }
   ],
   "source": [
    "trainer.train()"
   ]
  },
  {
   "cell_type": "code",
   "execution_count": 31,
   "id": "f2c407d3-9fa8-402c-85eb-7061a55c9984",
   "metadata": {
    "tags": []
   },
   "outputs": [],
   "source": [
    "#Test on validation set"
   ]
  },
  {
   "cell_type": "code",
   "execution_count": 32,
   "id": "34fec069",
   "metadata": {},
   "outputs": [
    {
     "name": "stdout",
     "output_type": "stream",
     "text": [
      "{'eval_loss': 0.8051414489746094, 'eval_f1': 0.6862993604412368, 'eval_recall': 0.6643939393939394, 'eval_runtime': 2.7952, 'eval_samples_per_second': 35.06, 'eval_steps_per_second': 4.651, 'epoch': 5.0}\n"
     ]
    },
    {
     "data": {
      "text/plain": [
       "{'eval_loss': 0.8051414489746094,\n",
       " 'eval_f1': 0.6862993604412368,\n",
       " 'eval_recall': 0.6643939393939394,\n",
       " 'eval_runtime': 2.7952,\n",
       " 'eval_samples_per_second': 35.06,\n",
       " 'eval_steps_per_second': 4.651,\n",
       " 'epoch': 5.0}"
      ]
     },
     "execution_count": 32,
     "metadata": {},
     "output_type": "execute_result"
    }
   ],
   "source": [
    "trainer.evaluate(tokenized_ds[\"test\"])"
   ]
  },
  {
   "cell_type": "code",
   "execution_count": 33,
   "id": "b7075d08",
   "metadata": {},
   "outputs": [
    {
     "data": {
      "text/plain": [
       "['Te estoy llevando al mejor troca de Lima',\n",
       " 'Debe ser jodido trabajar en la bolsa',\n",
       " 'Siguieron dando vueltas, sin hablar, fumando',\n",
       " 'llora conchatumadre\\x85\\x94 ¿Ves? Ya me muero carajo',\n",
       " 'Desde tiempos viejos, la batalla había sido dura',\n",
       " 'Tengo tanta hambre que me comería una vaca cruda',\n",
       " 'No le hagas caso a la bestia de tu papá',\n",
       " '\\x97¿Qué te pasa oye? ¿Por qué estás así todo achorado?',\n",
       " '\\x97No, eso se fue al carajo',\n",
       " 'Se han superado una inmensidad estos cocodrilos',\n",
       " '\\x97Apúrate, gordo rosquete',\n",
       " 'Nada de maricón',\n",
       " '\\x97Como quieras, chibolo',\n",
       " 'El día que ellos vengan, tú zafas al toque',\n",
       " '\\x97Anda a buscar a tu esposa, canalla \\x97dijo Joaquín',\n",
       " 'A veces las lisuras llegaban hasta la cocina y Símula cerraba la puerta',\n",
       " '\\x97Ay, pobre, qué piña',\n",
       " 'Vinimos al instante, casi choco en la Costanera',\n",
       " 'Yo voy a cuidar tu castidad como oro en polvo',\n",
       " 'mañana tengo que chambear',\n",
       " 'CARADURA:  No voy a morir como un cabro',\n",
       " 'Me volví a quemar, maldita sea',\n",
       " 'Eres un soplón',\n",
       " 'UN CHIQUILLO:  Disculpa Misterio, no pasa nada',\n",
       " '\\x97¿Ah, sí? Creo que lo vi una noche en el Solari',\n",
       " 'y les podría caer un dinerito',\n",
       " '\\x97Qué rico es estar duro, carajo',\n",
       " 'El Buitre por eso, don, vivía de los cadáveres',\n",
       " 'Me lancé a la carrera',\n",
       " 'Vas a ver que te voy a cachar rico',\n",
       " 'Anda vete, sal de aquí',\n",
       " 'Ahorita vengo',\n",
       " 'Piensa: él los mata a palos y tú a editoriales',\n",
       " '¿Me estás mintiendo, no? Tú me prometiste, flaco',\n",
       " 'CARADURA:  Mi pata',\n",
       " 'habla como faite',\n",
       " 'bien chévere',\n",
       " 'Se levantó secándose las lágrimas con el poncho',\n",
       " 'Al enemigo que huye, puente de plata, don Cayo',\n",
       " '\\x97El picón eres tú, que cuando pierdes haces trampa \\x97',\n",
       " 'Cállate y aguanta la bajada como hombre',\n",
       " '-Cierto, taita',\n",
       " '\\x97En media hora comienza el toque de queda \\x97dijo',\n",
       " 'Joaquín le bajó el pantalón del buzo y se la chupó',\n",
       " 'A diez minutos a pata',\n",
       " 'Porfirio Medrano cargaba su viejo rifle Pívode',\n",
       " 'Algunas hembritas en la calle que no estaban mal',\n",
       " '(El piojo del enfermo se reproduce de otro modo',\n",
       " 'Después del polvito, si no mueres, quedas loco',\n",
       " 'Con los años vas aprendiendo a tirar cache',\n",
       " 'Ya ves que te la pongo en bandeja, hermano',\n",
       " '\\x97Todo Lima se está choleando, hermano',\n",
       " 'Por supuesto, no tenía idea que mi tío era maricón',\n",
       " 'Alguien se volvió loco, pero no el señor Bermúdez',\n",
       " 'Un respiro de alivio anima la cola del batallón',\n",
       " 'No seas fregado',\n",
       " 'Yo jui a buscar un güey y encontré el puma vivo',\n",
       " 'Ven, flaco, dame un abrazo',\n",
       " 'Y después: estas tacañerías me hinchan los huevos',\n",
       " '\\x97¿Quedó bonito cuando hablé de mi hembrita? \\x97',\n",
       " '\\x97No me dará de comer, el Viejo, Padre \\x97le interrumpí\\x97',\n",
       " 'Y todos los demás son campanas',\n",
       " 'Aliancista y la conchatumadre',\n",
       " '\\x97No, hijito, porque las moscas las creó el diablo',\n",
       " 'Los tres jalaron más coca',\n",
       " '-Peleen, gallinas, y no se estén picoteando',\n",
       " '\\x97Qué trabajo tan fregado te has conseguido, Ambrosio',\n",
       " 'Ahorita regreso',\n",
       " 'Él se sacó la gorra',\n",
       " 'Tomó su colectivo a Lima a pesar de mis órdenes',\n",
       " 'Las chinas caminaban detrás, a prudente distancia',\n",
       " 'Me la voy a cachar por cojuda\"',\n",
       " '\\x97¿Qué? Habla fuerte, carajo',\n",
       " '\\x97Uy voy ahorita, uy qué ocurrencia \\x97dijo la Teté\\x97',\n",
       " 'mi vieja viene volando y tiene pico',\n",
       " 'una cosa es ser valiente y otra cosa es ser huevón',\n",
       " 'Ese fue el momento más jodido',\n",
       " 'Un día me cae un piedrón y la cagada',\n",
       " 'Hablas a tu mujer como si te acabaras de casar',\n",
       " 'No seas maricón',\n",
       " '\\x97Estás rojo como un tomate, huevón',\n",
       " 'Pronto estaremos viejos',\n",
       " 'Raúl era moreno, decía lisuras y escupía a cada rato',\n",
       " 'Cholo miserable, cobarde',\n",
       " 'además los chibolos de la barra siempre pican para un chancay',\n",
       " 'No tengo plata',\n",
       " 'Una corrida de paja es más que malos pensamientos',\n",
       " 'No le puso acero sino fierro colao a mi barreta',\n",
       " 'No se deja cachar la chiquilla',\n",
       " '\\x97No me hables así, comemierda \\x97gritó el maletero',\n",
       " 'Te vio y casi se traga el pucho',\n",
       " 'Un abrazo, Serrano',\n",
       " 'Y por último qué carajo te importa',\n",
       " 'yo esto lo hacía por chongo',\n",
       " 'Enantes subió al sol',\n",
       " 'Después del susto, tuvimos una conversación del carajo',\n",
       " 'Tovía somos hombres, carajo',\n",
       " 'pero falta su gaseosa pa\\x92 que resbale']"
      ]
     },
     "execution_count": 33,
     "metadata": {},
     "output_type": "execute_result"
    }
   ],
   "source": [
    "ds['test']['text']"
   ]
  },
  {
   "cell_type": "code",
   "execution_count": 34,
   "id": "57814e98",
   "metadata": {},
   "outputs": [],
   "source": [
    "#model.load_state_dict(torch.load(f'./_BERT_epoch_3.model', map_location=torch.device('cpu')))"
   ]
  },
  {
   "cell_type": "code",
   "execution_count": 35,
   "id": "ed4ae6f3",
   "metadata": {},
   "outputs": [],
   "source": [
    "#Error Analisys"
   ]
  },
  {
   "cell_type": "code",
   "execution_count": 36,
   "id": "46bbd55b",
   "metadata": {},
   "outputs": [],
   "source": [
    "val_df = ds['validation'].to_pandas()\n",
    "#val_df"
   ]
  },
  {
   "cell_type": "code",
   "execution_count": 37,
   "id": "f9f23107",
   "metadata": {},
   "outputs": [],
   "source": [
    "from tqdm.notebook import tqdm"
   ]
  },
  {
   "cell_type": "code",
   "execution_count": 38,
   "id": "737a62b3",
   "metadata": {},
   "outputs": [],
   "source": [
    "# step by step predictions on dataframe\n",
    "# We do this to view predictions in the pandas dataframe and easily filter them and perform error analysis.\n",
    "pred_final = []\n",
    "\n",
    "# for i, row in tqdm(val_df.iterrows(), total=val_df.shape[0]):\n",
    "#     predictions = []\n",
    "\n",
    "#     text = row[\"text\"]\n",
    "#     encoded_data_test_single = tokenizer.batch_encode_plus([text], \n",
    "#     add_special_tokens=config.add_special_tokens, \n",
    "#     return_attention_mask=config.return_attention_mask, \n",
    "#     pad_to_max_length=config.pad_to_max_length, \n",
    "#     max_length=config.seq_length,\n",
    "#     return_tensors=config.return_tensors\n",
    "#     )\n",
    "#     input_ids_test = encoded_data_test_single['input_ids']\n",
    "#     attention_masks_test = encoded_data_test_single['attention_mask']\n",
    "\n",
    "    \n",
    "#     inputs = {'input_ids':      input_ids_test.to(device),\n",
    "#               'attention_mask':attention_masks_test.to(device),\n",
    "#              }\n",
    "\n",
    "#     with torch.no_grad():        \n",
    "#         outputs = model(**inputs)\n",
    "    \n",
    "#     logits = outputs[0]\n",
    "#     logits = logits.detach().cpu().numpy()\n",
    "#     predictions.append(logits)\n",
    "#     predictions = np.concatenate(predictions, axis=0)\n",
    "#     pred_final.append(np.argmax(predictions, axis=1).flatten()[0])"
   ]
  },
  {
   "cell_type": "code",
   "execution_count": 39,
   "id": "e2d5ea48-4899-4cb3-9027-0ea1cf46c0e0",
   "metadata": {},
   "outputs": [
    {
     "data": {
      "text/html": [
       "<div>\n",
       "<style scoped>\n",
       "    .dataframe tbody tr th:only-of-type {\n",
       "        vertical-align: middle;\n",
       "    }\n",
       "\n",
       "    .dataframe tbody tr th {\n",
       "        vertical-align: top;\n",
       "    }\n",
       "\n",
       "    .dataframe thead th {\n",
       "        text-align: right;\n",
       "    }\n",
       "</style>\n",
       "<table border=\"1\" class=\"dataframe\">\n",
       "  <thead>\n",
       "    <tr style=\"text-align: right;\">\n",
       "      <th></th>\n",
       "      <th>text</th>\n",
       "      <th>label</th>\n",
       "      <th>label_name</th>\n",
       "      <th>tokenized_text</th>\n",
       "      <th>sent_token_length</th>\n",
       "      <th>sent_bert_token_length</th>\n",
       "      <th>char_count</th>\n",
       "      <th>Character Count</th>\n",
       "    </tr>\n",
       "  </thead>\n",
       "  <tbody>\n",
       "    <tr>\n",
       "      <th>331</th>\n",
       "      <td>No necesitaba sacar la chaveta, se lo juro</td>\n",
       "      <td>1</td>\n",
       "      <td>Neutral</td>\n",
       "      <td>No necesitaba sacar la chaveta, se lo juro</td>\n",
       "      <td>8</td>\n",
       "      <td>10</td>\n",
       "      <td>42</td>\n",
       "      <td>42</td>\n",
       "    </tr>\n",
       "    <tr>\n",
       "      <th>247</th>\n",
       "      <td>¿O sea que tú nunca has visto la calata de Ca...</td>\n",
       "      <td>1</td>\n",
       "      <td>Neutral</td>\n",
       "      <td>¿O sea que tú nunca has visto la calata de Ca...</td>\n",
       "      <td>11</td>\n",
       "      <td>13</td>\n",
       "      <td>52</td>\n",
       "      <td>52</td>\n",
       "    </tr>\n",
       "    <tr>\n",
       "      <th>789</th>\n",
       "      <td>¿Sabes que Ambrosio se fue? dijo el Chispas</td>\n",
       "      <td>1</td>\n",
       "      <td>Neutral</td>\n",
       "      <td>¿Sabes que Ambrosio se fue? dijo el Chispas</td>\n",
       "      <td>8</td>\n",
       "      <td>11</td>\n",
       "      <td>46</td>\n",
       "      <td>46</td>\n",
       "    </tr>\n",
       "    <tr>\n",
       "      <th>316</th>\n",
       "      <td>¿Quién es el Chacal?   Un pata</td>\n",
       "      <td>1</td>\n",
       "      <td>Neutral</td>\n",
       "      <td>¿Quién es el Chacal?   Un pata</td>\n",
       "      <td>6</td>\n",
       "      <td>10</td>\n",
       "      <td>30</td>\n",
       "      <td>30</td>\n",
       "    </tr>\n",
       "    <tr>\n",
       "      <th>215</th>\n",
       "      <td>Pero la negra bonita, la picarona, no contestó</td>\n",
       "      <td>0</td>\n",
       "      <td>Negative</td>\n",
       "      <td>Pero la negra bonita, la picarona, no contestó</td>\n",
       "      <td>8</td>\n",
       "      <td>9</td>\n",
       "      <td>46</td>\n",
       "      <td>46</td>\n",
       "    </tr>\n",
       "    <tr>\n",
       "      <th>680</th>\n",
       "      <td>No seas maricona</td>\n",
       "      <td>0</td>\n",
       "      <td>Negative</td>\n",
       "      <td>No seas maricona</td>\n",
       "      <td>3</td>\n",
       "      <td>4</td>\n",
       "      <td>16</td>\n",
       "      <td>16</td>\n",
       "    </tr>\n",
       "    <tr>\n",
       "      <th>585</th>\n",
       "      <td>Se acabaron los negocios y ahora empieza el chupe</td>\n",
       "      <td>1</td>\n",
       "      <td>Neutral</td>\n",
       "      <td>Se acabaron los negocios y ahora empieza el chupe</td>\n",
       "      <td>9</td>\n",
       "      <td>9</td>\n",
       "      <td>49</td>\n",
       "      <td>49</td>\n",
       "    </tr>\n",
       "    <tr>\n",
       "      <th>462</th>\n",
       "      <td>Pero lo más raro del caso es que la perra se curó</td>\n",
       "      <td>0</td>\n",
       "      <td>Negative</td>\n",
       "      <td>Pero lo más raro del caso es que la perra se curó</td>\n",
       "      <td>12</td>\n",
       "      <td>13</td>\n",
       "      <td>49</td>\n",
       "      <td>49</td>\n",
       "    </tr>\n",
       "    <tr>\n",
       "      <th>814</th>\n",
       "      <td>Escúchame bien, serrano conchatumadre</td>\n",
       "      <td>0</td>\n",
       "      <td>Negative</td>\n",
       "      <td>Escúchame bien, serrano conchatumadre</td>\n",
       "      <td>4</td>\n",
       "      <td>8</td>\n",
       "      <td>37</td>\n",
       "      <td>37</td>\n",
       "    </tr>\n",
       "    <tr>\n",
       "      <th>39</th>\n",
       "      <td>cuidado chibolo, tienes que aprender a respetar</td>\n",
       "      <td>0</td>\n",
       "      <td>Negative</td>\n",
       "      <td>cuidado chibolo, tienes que aprender a respetar</td>\n",
       "      <td>7</td>\n",
       "      <td>9</td>\n",
       "      <td>47</td>\n",
       "      <td>47</td>\n",
       "    </tr>\n",
       "    <tr>\n",
       "      <th>430</th>\n",
       "      <td>Yo te esperaré a la una en la puerta del Colegio</td>\n",
       "      <td>1</td>\n",
       "      <td>Neutral</td>\n",
       "      <td>Yo te esperaré a la una en la puerta del Colegio</td>\n",
       "      <td>11</td>\n",
       "      <td>12</td>\n",
       "      <td>48</td>\n",
       "      <td>48</td>\n",
       "    </tr>\n",
       "    <tr>\n",
       "      <th>696</th>\n",
       "      <td>Pero el mayor esta furioso y tratará de fregarlo</td>\n",
       "      <td>0</td>\n",
       "      <td>Negative</td>\n",
       "      <td>Pero el mayor esta furioso y tratará de fregarlo</td>\n",
       "      <td>9</td>\n",
       "      <td>13</td>\n",
       "      <td>48</td>\n",
       "      <td>48</td>\n",
       "    </tr>\n",
       "    <tr>\n",
       "      <th>873</th>\n",
       "      <td>¿Se puede subir hasta la cruz? Claro, allá a...</td>\n",
       "      <td>2</td>\n",
       "      <td>Positive</td>\n",
       "      <td>¿Se puede subir hasta la cruz? Claro, allá a...</td>\n",
       "      <td>14</td>\n",
       "      <td>16</td>\n",
       "      <td>75</td>\n",
       "      <td>75</td>\n",
       "    </tr>\n",
       "    <tr>\n",
       "      <th>328</th>\n",
       "      <td>Los comuneros acudían a mirar tanta maravilla</td>\n",
       "      <td>1</td>\n",
       "      <td>Neutral</td>\n",
       "      <td>Los comuneros acudían a mirar tanta maravilla</td>\n",
       "      <td>7</td>\n",
       "      <td>9</td>\n",
       "      <td>45</td>\n",
       "      <td>45</td>\n",
       "    </tr>\n",
       "    <tr>\n",
       "      <th>611</th>\n",
       "      <td>Anda vete de una vez</td>\n",
       "      <td>1</td>\n",
       "      <td>Neutral</td>\n",
       "      <td>Anda vete de una vez</td>\n",
       "      <td>5</td>\n",
       "      <td>5</td>\n",
       "      <td>20</td>\n",
       "      <td>20</td>\n",
       "    </tr>\n",
       "    <tr>\n",
       "      <th>23</th>\n",
       "      <td>¿Qué es eso? Un club de cucufatos pitucos</td>\n",
       "      <td>0</td>\n",
       "      <td>Negative</td>\n",
       "      <td>¿Qué es eso? Un club de cucufatos pitucos</td>\n",
       "      <td>8</td>\n",
       "      <td>12</td>\n",
       "      <td>43</td>\n",
       "      <td>43</td>\n",
       "    </tr>\n",
       "    <tr>\n",
       "      <th>501</th>\n",
       "      <td>mi hermana está en la jato con mi vieja</td>\n",
       "      <td>1</td>\n",
       "      <td>Neutral</td>\n",
       "      <td>mi hermana está en la jato con mi vieja</td>\n",
       "      <td>9</td>\n",
       "      <td>10</td>\n",
       "      <td>39</td>\n",
       "      <td>39</td>\n",
       "    </tr>\n",
       "    <tr>\n",
       "      <th>198</th>\n",
       "      <td>Mierda, la cagada, de repente me has dejado e...</td>\n",
       "      <td>0</td>\n",
       "      <td>Negative</td>\n",
       "      <td>Mierda, la cagada, de repente me has dejado e...</td>\n",
       "      <td>9</td>\n",
       "      <td>10</td>\n",
       "      <td>55</td>\n",
       "      <td>55</td>\n",
       "    </tr>\n",
       "    <tr>\n",
       "      <th>110</th>\n",
       "      <td>\"Ajá, dijo Gamboa, métale seis puntos al ausente</td>\n",
       "      <td>0</td>\n",
       "      <td>Negative</td>\n",
       "      <td>\"Ajá, dijo Gamboa, métale seis puntos al ausente</td>\n",
       "      <td>8</td>\n",
       "      <td>14</td>\n",
       "      <td>48</td>\n",
       "      <td>48</td>\n",
       "    </tr>\n",
       "    <tr>\n",
       "      <th>728</th>\n",
       "      <td>Preferí dejarte cancha libre con la cubana</td>\n",
       "      <td>2</td>\n",
       "      <td>Positive</td>\n",
       "      <td>Preferí dejarte cancha libre con la cubana</td>\n",
       "      <td>7</td>\n",
       "      <td>8</td>\n",
       "      <td>42</td>\n",
       "      <td>42</td>\n",
       "    </tr>\n",
       "    <tr>\n",
       "      <th>673</th>\n",
       "      <td>Pasumachu, el profesional está embalado</td>\n",
       "      <td>0</td>\n",
       "      <td>Negative</td>\n",
       "      <td>Pasumachu, el profesional está embalado</td>\n",
       "      <td>5</td>\n",
       "      <td>10</td>\n",
       "      <td>40</td>\n",
       "      <td>40</td>\n",
       "    </tr>\n",
       "    <tr>\n",
       "      <th>426</th>\n",
       "      <td>Para que me ayudes a buscar departamento, listo</td>\n",
       "      <td>1</td>\n",
       "      <td>Neutral</td>\n",
       "      <td>Para que me ayudes a buscar departamento, listo</td>\n",
       "      <td>8</td>\n",
       "      <td>10</td>\n",
       "      <td>47</td>\n",
       "      <td>47</td>\n",
       "    </tr>\n",
       "    <tr>\n",
       "      <th>785</th>\n",
       "      <td>La vas a fregar</td>\n",
       "      <td>0</td>\n",
       "      <td>Negative</td>\n",
       "      <td>La vas a fregar</td>\n",
       "      <td>4</td>\n",
       "      <td>5</td>\n",
       "      <td>15</td>\n",
       "      <td>15</td>\n",
       "    </tr>\n",
       "    <tr>\n",
       "      <th>66</th>\n",
       "      <td>Y el Chispas se ha ido a la hacienda de un amigo</td>\n",
       "      <td>1</td>\n",
       "      <td>Neutral</td>\n",
       "      <td>Y el Chispas se ha ido a la hacienda de un amigo</td>\n",
       "      <td>12</td>\n",
       "      <td>12</td>\n",
       "      <td>48</td>\n",
       "      <td>48</td>\n",
       "    </tr>\n",
       "    <tr>\n",
       "      <th>44</th>\n",
       "      <td>) no te distraigas, chino, estábamos en el haití</td>\n",
       "      <td>1</td>\n",
       "      <td>Neutral</td>\n",
       "      <td>) no te distraigas, chino, estábamos en el haití</td>\n",
       "      <td>9</td>\n",
       "      <td>13</td>\n",
       "      <td>48</td>\n",
       "      <td>48</td>\n",
       "    </tr>\n",
       "    <tr>\n",
       "      <th>684</th>\n",
       "      <td>llámame, éste es mi causa El Burro, le dicen a...</td>\n",
       "      <td>1</td>\n",
       "      <td>Neutral</td>\n",
       "      <td>llámame, éste es mi causa El Burro, le dicen a...</td>\n",
       "      <td>22</td>\n",
       "      <td>27</td>\n",
       "      <td>98</td>\n",
       "      <td>98</td>\n",
       "    </tr>\n",
       "    <tr>\n",
       "      <th>774</th>\n",
       "      <td>Llámame más tarde, el viejo está aquí</td>\n",
       "      <td>1</td>\n",
       "      <td>Neutral</td>\n",
       "      <td>Llámame más tarde, el viejo está aquí</td>\n",
       "      <td>7</td>\n",
       "      <td>8</td>\n",
       "      <td>37</td>\n",
       "      <td>37</td>\n",
       "    </tr>\n",
       "    <tr>\n",
       "      <th>76</th>\n",
       "      <td>Es una huachafita con el pelo pintado</td>\n",
       "      <td>0</td>\n",
       "      <td>Negative</td>\n",
       "      <td>Es una huachafita con el pelo pintado</td>\n",
       "      <td>7</td>\n",
       "      <td>11</td>\n",
       "      <td>37</td>\n",
       "      <td>37</td>\n",
       "    </tr>\n",
       "    <tr>\n",
       "      <th>678</th>\n",
       "      <td>Quiere decir que estás fregado</td>\n",
       "      <td>0</td>\n",
       "      <td>Negative</td>\n",
       "      <td>Quiere decir que estás fregado</td>\n",
       "      <td>5</td>\n",
       "      <td>6</td>\n",
       "      <td>30</td>\n",
       "      <td>30</td>\n",
       "    </tr>\n",
       "    <tr>\n",
       "      <th>67</th>\n",
       "      <td>No te preocupes, hombre, que la coca de Chong...</td>\n",
       "      <td>0</td>\n",
       "      <td>Negative</td>\n",
       "      <td>No te preocupes, hombre, que la coca de Chong...</td>\n",
       "      <td>12</td>\n",
       "      <td>12</td>\n",
       "      <td>62</td>\n",
       "      <td>62</td>\n",
       "    </tr>\n",
       "  </tbody>\n",
       "</table>\n",
       "</div>"
      ],
      "text/plain": [
       "                                                  text  label label_name  \\\n",
       "331         No necesitaba sacar la chaveta, se lo juro      1    Neutral   \n",
       "247  ¿O sea que tú nunca has visto la calata de Ca...      1    Neutral   \n",
       "789     ¿Sabes que Ambrosio se fue? dijo el Chispas      1    Neutral   \n",
       "316                     ¿Quién es el Chacal?   Un pata      1    Neutral   \n",
       "215     Pero la negra bonita, la picarona, no contestó      0   Negative   \n",
       "680                                   No seas maricona      0   Negative   \n",
       "585  Se acabaron los negocios y ahora empieza el chupe      1    Neutral   \n",
       "462  Pero lo más raro del caso es que la perra se curó      0   Negative   \n",
       "814              Escúchame bien, serrano conchatumadre      0   Negative   \n",
       "39     cuidado chibolo, tienes que aprender a respetar      0   Negative   \n",
       "430   Yo te esperaré a la una en la puerta del Colegio      1    Neutral   \n",
       "696   Pero el mayor esta furioso y tratará de fregarlo      0   Negative   \n",
       "873  ¿Se puede subir hasta la cruz? Claro, allá a...      2   Positive   \n",
       "328      Los comuneros acudían a mirar tanta maravilla      1    Neutral   \n",
       "611                               Anda vete de una vez      1    Neutral   \n",
       "23         ¿Qué es eso? Un club de cucufatos pitucos      0   Negative   \n",
       "501            mi hermana está en la jato con mi vieja      1    Neutral   \n",
       "198  Mierda, la cagada, de repente me has dejado e...      0   Negative   \n",
       "110   \"Ajá, dijo Gamboa, métale seis puntos al ausente      0   Negative   \n",
       "728         Preferí dejarte cancha libre con la cubana      2   Positive   \n",
       "673           Pasumachu, el profesional está embalado      0   Negative   \n",
       "426    Para que me ayudes a buscar departamento, listo      1    Neutral   \n",
       "785                                    La vas a fregar      0   Negative   \n",
       "66    Y el Chispas se ha ido a la hacienda de un amigo      1    Neutral   \n",
       "44    ) no te distraigas, chino, estábamos en el haití      1    Neutral   \n",
       "684  llámame, éste es mi causa El Burro, le dicen a...      1    Neutral   \n",
       "774              Llámame más tarde, el viejo está aquí      1    Neutral   \n",
       "76               Es una huachafita con el pelo pintado      0   Negative   \n",
       "678                     Quiere decir que estás fregado      0   Negative   \n",
       "67   No te preocupes, hombre, que la coca de Chong...      0   Negative   \n",
       "\n",
       "                                        tokenized_text  sent_token_length  \\\n",
       "331         No necesitaba sacar la chaveta, se lo juro                  8   \n",
       "247  ¿O sea que tú nunca has visto la calata de Ca...                 11   \n",
       "789     ¿Sabes que Ambrosio se fue? dijo el Chispas                  8   \n",
       "316                     ¿Quién es el Chacal?   Un pata                  6   \n",
       "215     Pero la negra bonita, la picarona, no contestó                  8   \n",
       "680                                   No seas maricona                  3   \n",
       "585  Se acabaron los negocios y ahora empieza el chupe                  9   \n",
       "462  Pero lo más raro del caso es que la perra se curó                 12   \n",
       "814              Escúchame bien, serrano conchatumadre                  4   \n",
       "39     cuidado chibolo, tienes que aprender a respetar                  7   \n",
       "430   Yo te esperaré a la una en la puerta del Colegio                 11   \n",
       "696   Pero el mayor esta furioso y tratará de fregarlo                  9   \n",
       "873  ¿Se puede subir hasta la cruz? Claro, allá a...                 14   \n",
       "328      Los comuneros acudían a mirar tanta maravilla                  7   \n",
       "611                               Anda vete de una vez                  5   \n",
       "23         ¿Qué es eso? Un club de cucufatos pitucos                  8   \n",
       "501            mi hermana está en la jato con mi vieja                  9   \n",
       "198  Mierda, la cagada, de repente me has dejado e...                  9   \n",
       "110   \"Ajá, dijo Gamboa, métale seis puntos al ausente                  8   \n",
       "728         Preferí dejarte cancha libre con la cubana                  7   \n",
       "673           Pasumachu, el profesional está embalado                  5   \n",
       "426    Para que me ayudes a buscar departamento, listo                  8   \n",
       "785                                    La vas a fregar                  4   \n",
       "66    Y el Chispas se ha ido a la hacienda de un amigo                 12   \n",
       "44    ) no te distraigas, chino, estábamos en el haití                  9   \n",
       "684  llámame, éste es mi causa El Burro, le dicen a...                 22   \n",
       "774              Llámame más tarde, el viejo está aquí                  7   \n",
       "76               Es una huachafita con el pelo pintado                  7   \n",
       "678                     Quiere decir que estás fregado                  5   \n",
       "67   No te preocupes, hombre, que la coca de Chong...                 12   \n",
       "\n",
       "     sent_bert_token_length  char_count  Character Count  \n",
       "331                      10          42               42  \n",
       "247                      13          52               52  \n",
       "789                      11          46               46  \n",
       "316                      10          30               30  \n",
       "215                       9          46               46  \n",
       "680                       4          16               16  \n",
       "585                       9          49               49  \n",
       "462                      13          49               49  \n",
       "814                       8          37               37  \n",
       "39                        9          47               47  \n",
       "430                      12          48               48  \n",
       "696                      13          48               48  \n",
       "873                      16          75               75  \n",
       "328                       9          45               45  \n",
       "611                       5          20               20  \n",
       "23                       12          43               43  \n",
       "501                      10          39               39  \n",
       "198                      10          55               55  \n",
       "110                      14          48               48  \n",
       "728                       8          42               42  \n",
       "673                      10          40               40  \n",
       "426                      10          47               47  \n",
       "785                       5          15               15  \n",
       "66                       12          48               48  \n",
       "44                       13          48               48  \n",
       "684                      27          98               98  \n",
       "774                       8          37               37  \n",
       "76                       11          37               37  \n",
       "678                       6          30               30  \n",
       "67                       12          62               62  "
      ]
     },
     "execution_count": 39,
     "metadata": {},
     "output_type": "execute_result"
    }
   ],
   "source": [
    "df.sample(n = 30)"
   ]
  },
  {
   "cell_type": "code",
   "execution_count": 40,
   "id": "82f776a2-9575-4766-8865-70107a87c551",
   "metadata": {},
   "outputs": [],
   "source": [
    "#Inference"
   ]
  },
  {
   "cell_type": "code",
   "execution_count": 41,
   "id": "926977d0",
   "metadata": {},
   "outputs": [],
   "source": [
    "#Evaluate the Model Qualitatively (Human Evaluation)"
   ]
  },
  {
   "cell_type": "code",
   "execution_count": 42,
   "id": "7faa99dc",
   "metadata": {},
   "outputs": [],
   "source": [
    "#Evaluate the Model Quantitatively (with F1 Metric)"
   ]
  },
  {
   "cell_type": "code",
   "execution_count": null,
   "id": "2be445d3",
   "metadata": {},
   "outputs": [],
   "source": []
  },
  {
   "cell_type": "code",
   "execution_count": 43,
   "id": "c839bdd5",
   "metadata": {},
   "outputs": [],
   "source": [
    "texts = ds['test'][0:10]['text']\n",
    "human_baseline_labels = ds['test'][0:10]['label']"
   ]
  },
  {
   "cell_type": "code",
   "execution_count": 44,
   "id": "0ebbb4a1",
   "metadata": {},
   "outputs": [
    {
     "data": {
      "text/plain": [
       "['Te estoy llevando al mejor troca de Lima',\n",
       " 'Debe ser jodido trabajar en la bolsa',\n",
       " 'Siguieron dando vueltas, sin hablar, fumando',\n",
       " 'llora conchatumadre\\x85\\x94 ¿Ves? Ya me muero carajo',\n",
       " 'Desde tiempos viejos, la batalla había sido dura',\n",
       " 'Tengo tanta hambre que me comería una vaca cruda',\n",
       " 'No le hagas caso a la bestia de tu papá',\n",
       " '\\x97¿Qué te pasa oye? ¿Por qué estás así todo achorado?',\n",
       " '\\x97No, eso se fue al carajo',\n",
       " 'Se han superado una inmensidad estos cocodrilos']"
      ]
     },
     "execution_count": 44,
     "metadata": {},
     "output_type": "execute_result"
    }
   ],
   "source": [
    "texts"
   ]
  },
  {
   "cell_type": "code",
   "execution_count": 45,
   "id": "fb03153f",
   "metadata": {},
   "outputs": [
    {
     "data": {
      "text/plain": [
       "[2, 1, 1, 0, 1, 1, 0, 0, 0, 1]"
      ]
     },
     "execution_count": 45,
     "metadata": {},
     "output_type": "execute_result"
    }
   ],
   "source": [
    "human_baseline_labels"
   ]
  },
  {
   "cell_type": "code",
   "execution_count": 46,
   "id": "a070557c",
   "metadata": {},
   "outputs": [],
   "source": [
    "#original_model_summaries = []\n",
    "model_classifications = []"
   ]
  },
  {
   "cell_type": "code",
   "execution_count": 47,
   "id": "ab8436a9",
   "metadata": {},
   "outputs": [
    {
     "ename": "AssertionError",
     "evalue": "Torch not compiled with CUDA enabled",
     "output_type": "error",
     "traceback": [
      "\u001b[1;31m---------------------------------------------------------------------------\u001b[0m",
      "\u001b[1;31mAssertionError\u001b[0m                            Traceback (most recent call last)",
      "\u001b[1;32m~\\AppData\\Local\\Temp\\ipykernel_14616\\3703853256.py\u001b[0m in \u001b[0;36m<module>\u001b[1;34m\u001b[0m\n\u001b[0;32m      1\u001b[0m \u001b[1;32mfor\u001b[0m \u001b[0m_\u001b[0m\u001b[1;33m,\u001b[0m \u001b[0mtext\u001b[0m \u001b[1;32min\u001b[0m \u001b[0menumerate\u001b[0m\u001b[1;33m(\u001b[0m\u001b[0mtexts\u001b[0m\u001b[1;33m)\u001b[0m\u001b[1;33m:\u001b[0m\u001b[1;33m\u001b[0m\u001b[1;33m\u001b[0m\u001b[0m\n\u001b[1;32m----> 2\u001b[1;33m     \u001b[0minput_ids\u001b[0m \u001b[1;33m=\u001b[0m \u001b[0mtokenizer\u001b[0m\u001b[1;33m(\u001b[0m\u001b[0mtext\u001b[0m\u001b[1;33m,\u001b[0m \u001b[0mreturn_tensors\u001b[0m\u001b[1;33m=\u001b[0m\u001b[1;34m\"pt\"\u001b[0m\u001b[1;33m)\u001b[0m\u001b[1;33m.\u001b[0m\u001b[0minput_ids\u001b[0m\u001b[1;33m.\u001b[0m\u001b[0mto\u001b[0m\u001b[1;33m(\u001b[0m\u001b[1;34m'cuda'\u001b[0m\u001b[1;33m)\u001b[0m\u001b[1;33m\u001b[0m\u001b[1;33m\u001b[0m\u001b[0m\n\u001b[0m\u001b[0;32m      3\u001b[0m     \u001b[0mlogits\u001b[0m \u001b[1;33m=\u001b[0m \u001b[0mmodel\u001b[0m\u001b[1;33m(\u001b[0m\u001b[0minput_ids\u001b[0m\u001b[1;33m)\u001b[0m\u001b[1;33m.\u001b[0m\u001b[0mlogits\u001b[0m\u001b[1;33m\u001b[0m\u001b[1;33m\u001b[0m\u001b[0m\n\u001b[0;32m      4\u001b[0m     \u001b[0mprobabilities\u001b[0m \u001b[1;33m=\u001b[0m \u001b[0mlogits\u001b[0m\u001b[1;33m.\u001b[0m\u001b[0msoftmax\u001b[0m\u001b[1;33m(\u001b[0m\u001b[0mdim\u001b[0m\u001b[1;33m=\u001b[0m\u001b[1;33m-\u001b[0m\u001b[1;36m1\u001b[0m\u001b[1;33m)\u001b[0m\u001b[1;33m.\u001b[0m\u001b[0mtolist\u001b[0m\u001b[1;33m(\u001b[0m\u001b[1;33m)\u001b[0m\u001b[1;33m[\u001b[0m\u001b[1;36m0\u001b[0m\u001b[1;33m]\u001b[0m\u001b[1;33m\u001b[0m\u001b[1;33m\u001b[0m\u001b[0m\n\u001b[0;32m      5\u001b[0m     \u001b[0mmodel_classifications\u001b[0m\u001b[1;33m.\u001b[0m\u001b[0mappend\u001b[0m\u001b[1;33m(\u001b[0m\u001b[0mnp\u001b[0m\u001b[1;33m.\u001b[0m\u001b[0margmax\u001b[0m\u001b[1;33m(\u001b[0m\u001b[0mprobabilities\u001b[0m\u001b[1;33m)\u001b[0m\u001b[1;33m.\u001b[0m\u001b[0mflatten\u001b[0m\u001b[1;33m(\u001b[0m\u001b[1;33m)\u001b[0m\u001b[1;33m[\u001b[0m\u001b[1;36m0\u001b[0m\u001b[1;33m]\u001b[0m\u001b[1;33m)\u001b[0m\u001b[1;33m\u001b[0m\u001b[1;33m\u001b[0m\u001b[0m\n",
      "\u001b[1;32m~\\anaconda3\\lib\\site-packages\\torch\\cuda\\__init__.py\u001b[0m in \u001b[0;36m_lazy_init\u001b[1;34m()\u001b[0m\n\u001b[0;32m    287\u001b[0m             )\n\u001b[0;32m    288\u001b[0m         \u001b[1;32mif\u001b[0m \u001b[1;32mnot\u001b[0m \u001b[0mhasattr\u001b[0m\u001b[1;33m(\u001b[0m\u001b[0mtorch\u001b[0m\u001b[1;33m.\u001b[0m\u001b[0m_C\u001b[0m\u001b[1;33m,\u001b[0m \u001b[1;34m\"_cuda_getDeviceCount\"\u001b[0m\u001b[1;33m)\u001b[0m\u001b[1;33m:\u001b[0m\u001b[1;33m\u001b[0m\u001b[1;33m\u001b[0m\u001b[0m\n\u001b[1;32m--> 289\u001b[1;33m             \u001b[1;32mraise\u001b[0m \u001b[0mAssertionError\u001b[0m\u001b[1;33m(\u001b[0m\u001b[1;34m\"Torch not compiled with CUDA enabled\"\u001b[0m\u001b[1;33m)\u001b[0m\u001b[1;33m\u001b[0m\u001b[1;33m\u001b[0m\u001b[0m\n\u001b[0m\u001b[0;32m    290\u001b[0m         \u001b[1;32mif\u001b[0m \u001b[0m_cudart\u001b[0m \u001b[1;32mis\u001b[0m \u001b[1;32mNone\u001b[0m\u001b[1;33m:\u001b[0m\u001b[1;33m\u001b[0m\u001b[1;33m\u001b[0m\u001b[0m\n\u001b[0;32m    291\u001b[0m             raise AssertionError(\n",
      "\u001b[1;31mAssertionError\u001b[0m: Torch not compiled with CUDA enabled"
     ]
    }
   ],
   "source": [
    "for _, text in enumerate(texts):\n",
    "    input_ids = tokenizer(text, return_tensors=\"pt\").input_ids.to('cuda')\n",
    "    logits = model(input_ids).logits\n",
    "    probabilities = logits.softmax(dim=-1).tolist()[0]\n",
    "    model_classifications.append(np.argmax(probabilities).flatten()[0])"
   ]
  },
  {
   "cell_type": "code",
   "execution_count": null,
   "id": "8a1a671b",
   "metadata": {},
   "outputs": [],
   "source": [
    "model_classifications"
   ]
  }
 ],
 "metadata": {
  "kernelspec": {
   "display_name": "Python 3 (ipykernel)",
   "language": "python",
   "name": "python3"
  },
  "language_info": {
   "codemirror_mode": {
    "name": "ipython",
    "version": 3
   },
   "file_extension": ".py",
   "mimetype": "text/x-python",
   "name": "python",
   "nbconvert_exporter": "python",
   "pygments_lexer": "ipython3",
   "version": "3.9.13"
  }
 },
 "nbformat": 4,
 "nbformat_minor": 5
}
