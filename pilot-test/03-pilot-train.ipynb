{
 "cells": [
  {
   "cell_type": "code",
   "execution_count": 1,
   "id": "955514ed-28d2-422e-8eca-56055de9bc39",
   "metadata": {},
   "outputs": [],
   "source": [
    "#EDA"
   ]
  },
  {
   "cell_type": "code",
   "execution_count": 2,
   "id": "de09e411",
   "metadata": {},
   "outputs": [],
   "source": [
    "import torch"
   ]
  },
  {
   "cell_type": "code",
   "execution_count": 3,
   "id": "5af36065",
   "metadata": {},
   "outputs": [],
   "source": [
    "#!pip install pysentimiento transformers datasets accelerate evaluate"
   ]
  },
  {
   "cell_type": "code",
   "execution_count": null,
   "id": "c16f70f6-f93b-4be5-ac8a-33923bdf44af",
   "metadata": {},
   "outputs": [],
   "source": []
  },
  {
   "cell_type": "code",
   "execution_count": 4,
   "id": "1dcd6c81-eb73-4aa3-aa8c-ac9a46646d8b",
   "metadata": {
    "tags": []
   },
   "outputs": [
    {
     "name": "stderr",
     "output_type": "stream",
     "text": [
      "2024-03-03 17:22:12.627991: E external/local_xla/xla/stream_executor/cuda/cuda_dnn.cc:9261] Unable to register cuDNN factory: Attempting to register factory for plugin cuDNN when one has already been registered\n",
      "2024-03-03 17:22:12.628018: E external/local_xla/xla/stream_executor/cuda/cuda_fft.cc:607] Unable to register cuFFT factory: Attempting to register factory for plugin cuFFT when one has already been registered\n",
      "2024-03-03 17:22:12.628975: E external/local_xla/xla/stream_executor/cuda/cuda_blas.cc:1515] Unable to register cuBLAS factory: Attempting to register factory for plugin cuBLAS when one has already been registered\n",
      "2024-03-03 17:22:12.634900: I tensorflow/core/platform/cpu_feature_guard.cc:182] This TensorFlow binary is optimized to use available CPU instructions in performance-critical operations.\n",
      "To enable the following instructions: AVX2 FMA, in other operations, rebuild TensorFlow with the appropriate compiler flags.\n",
      "2024-03-03 17:22:13.268332: W tensorflow/compiler/tf2tensorrt/utils/py_utils.cc:38] TF-TRT Warning: Could not find TensorRT\n"
     ]
    }
   ],
   "source": [
    "import datasets\n",
    "import evaluate"
   ]
  },
  {
   "cell_type": "code",
   "execution_count": 5,
   "id": "ce0ec026-0099-414e-a6bf-a76776f39c3e",
   "metadata": {},
   "outputs": [],
   "source": [
    "import numpy as np\n",
    "from datasets import load_dataset"
   ]
  },
  {
   "cell_type": "code",
   "execution_count": 6,
   "id": "c9fbf152-07de-4cba-84b4-d3d871cb6eb3",
   "metadata": {
    "tags": []
   },
   "outputs": [],
   "source": [
    "import ipywidgets as widgets"
   ]
  },
  {
   "cell_type": "code",
   "execution_count": 7,
   "id": "a001ba7d",
   "metadata": {},
   "outputs": [],
   "source": [
    "#Helper Functions"
   ]
  },
  {
   "cell_type": "code",
   "execution_count": 8,
   "id": "5ba02255",
   "metadata": {},
   "outputs": [],
   "source": [
    "# label to name\n",
    "def label2name(x):\n",
    "    if x == 0:\n",
    "        return \"Negative\"\n",
    "    if x == 1:\n",
    "        return \"Neutral\"\n",
    "    if x == 2:\n",
    "        return \"Positive\""
   ]
  },
  {
   "cell_type": "code",
   "execution_count": 9,
   "id": "6d3164a0-faf4-4a4d-8a78-17b40b00c3f1",
   "metadata": {
    "tags": []
   },
   "outputs": [],
   "source": [
    "\n",
    "f1_metric = evaluate.load(\"f1\")\n",
    "recall_metric = evaluate.load(\"recall\")\n",
    "\n",
    "def compute_metrics (eval_pred):\n",
    "    logits, labels = eval_pred\n",
    "    preds = np.argmax(logits, axis = -1)\n",
    "    \n",
    "    results = {}\n",
    "    results.update(f1_metric.compute(predictions=preds, references = labels, average=\"macro\"))\n",
    "    results.update(recall_metric.compute(predictions=preds, references = labels, average=\"macro\"))\n",
    "    return results"
   ]
  },
  {
   "cell_type": "code",
   "execution_count": 10,
   "id": "0bd8b7bc-ed54-4e65-ba9a-d2835b1abca8",
   "metadata": {
    "tags": []
   },
   "outputs": [],
   "source": [
    "#Read Data\n"
   ]
  },
  {
   "cell_type": "code",
   "execution_count": 11,
   "id": "90c97202-c5c6-484f-850a-46a9ee552251",
   "metadata": {
    "tags": []
   },
   "outputs": [],
   "source": [
    "data_files = {\"train\": \"data/train.csv\", \"validation\": \"data/val.csv\", \"test\": \"data/test.csv\"}\n",
    "ds = load_dataset(\"csv\", data_files=data_files)"
   ]
  },
  {
   "cell_type": "code",
   "execution_count": 12,
   "id": "8087bffe-c868-4323-90f0-4c6951f4fb5c",
   "metadata": {
    "tags": []
   },
   "outputs": [
    {
     "data": {
      "text/plain": [
       "DatasetDict({\n",
       "    train: Dataset({\n",
       "        features: ['text', 'label', 'label_name', 'tokenized_text', 'sent_token_length', 'sent_bert_token_length', 'char_count', 'Character Count'],\n",
       "        num_rows: 8877\n",
       "    })\n",
       "    validation: Dataset({\n",
       "        features: ['text', 'label', 'label_name', 'tokenized_text', 'sent_token_length', 'sent_bert_token_length', 'char_count', 'Character Count'],\n",
       "        num_rows: 1097\n",
       "    })\n",
       "    test: Dataset({\n",
       "        features: ['text', 'label', 'label_name', 'tokenized_text', 'sent_token_length', 'sent_bert_token_length', 'char_count', 'Character Count'],\n",
       "        num_rows: 987\n",
       "    })\n",
       "})"
      ]
     },
     "execution_count": 12,
     "metadata": {},
     "output_type": "execute_result"
    }
   ],
   "source": [
    "ds"
   ]
  },
  {
   "cell_type": "code",
   "execution_count": null,
   "id": "a3ca4ba6",
   "metadata": {},
   "outputs": [],
   "source": []
  },
  {
   "cell_type": "code",
   "execution_count": 13,
   "id": "0c7abe81-d2ab-49c3-92bf-6c6e36d5d852",
   "metadata": {},
   "outputs": [
    {
     "data": {
      "text/plain": [
       "{'text': Value(dtype='string', id=None),\n",
       " 'label': Value(dtype='int64', id=None),\n",
       " 'label_name': Value(dtype='string', id=None),\n",
       " 'tokenized_text': Value(dtype='string', id=None),\n",
       " 'sent_token_length': Value(dtype='int64', id=None),\n",
       " 'sent_bert_token_length': Value(dtype='int64', id=None),\n",
       " 'char_count': Value(dtype='int64', id=None),\n",
       " 'Character Count': Value(dtype='int64', id=None)}"
      ]
     },
     "execution_count": 13,
     "metadata": {},
     "output_type": "execute_result"
    }
   ],
   "source": [
    "ds[\"train\"].features"
   ]
  },
  {
   "cell_type": "code",
   "execution_count": 14,
   "id": "9a33842b-42eb-4966-8b48-f3dd7e1aeb33",
   "metadata": {},
   "outputs": [
    {
     "data": {
      "text/plain": [
       "[2, 1, 1, 1, 2, 1, 0, 1, 2, 1]"
      ]
     },
     "execution_count": 14,
     "metadata": {},
     "output_type": "execute_result"
    }
   ],
   "source": [
    "ds[\"test\"][\"label\"][:10]"
   ]
  },
  {
   "cell_type": "code",
   "execution_count": 15,
   "id": "68d24890",
   "metadata": {},
   "outputs": [
    {
     "data": {
      "text/html": [
       "<div>\n",
       "<style scoped>\n",
       "    .dataframe tbody tr th:only-of-type {\n",
       "        vertical-align: middle;\n",
       "    }\n",
       "\n",
       "    .dataframe tbody tr th {\n",
       "        vertical-align: top;\n",
       "    }\n",
       "\n",
       "    .dataframe thead th {\n",
       "        text-align: right;\n",
       "    }\n",
       "</style>\n",
       "<table border=\"1\" class=\"dataframe\">\n",
       "  <thead>\n",
       "    <tr style=\"text-align: right;\">\n",
       "      <th></th>\n",
       "      <th>text</th>\n",
       "      <th>label</th>\n",
       "      <th>label_name</th>\n",
       "      <th>tokenized_text</th>\n",
       "      <th>sent_token_length</th>\n",
       "      <th>sent_bert_token_length</th>\n",
       "      <th>char_count</th>\n",
       "      <th>Character Count</th>\n",
       "    </tr>\n",
       "  </thead>\n",
       "  <tbody>\n",
       "    <tr>\n",
       "      <th>0</th>\n",
       "      <td>Que ahora se pelean por tener la papaya peladi...</td>\n",
       "      <td>0</td>\n",
       "      <td>Negative</td>\n",
       "      <td>Que ahora se pelean por tener la papaya peladi...</td>\n",
       "      <td>16</td>\n",
       "      <td>19</td>\n",
       "      <td>79</td>\n",
       "      <td>79</td>\n",
       "    </tr>\n",
       "    <tr>\n",
       "      <th>1</th>\n",
       "      <td>Beto, chicote también para los chivitos 😂</td>\n",
       "      <td>0</td>\n",
       "      <td>Negative</td>\n",
       "      <td>Beto, chicote también para los chivitos 😂</td>\n",
       "      <td>7</td>\n",
       "      <td>11</td>\n",
       "      <td>41</td>\n",
       "      <td>41</td>\n",
       "    </tr>\n",
       "    <tr>\n",
       "      <th>2</th>\n",
       "      <td>Decidamos todo!  = Ing y 2k 👍= Vago y 7k</td>\n",
       "      <td>1</td>\n",
       "      <td>Neutral</td>\n",
       "      <td>Decidamos todo!  = Ing y 2k 👍= Vago y 7k</td>\n",
       "      <td>10</td>\n",
       "      <td>14</td>\n",
       "      <td>40</td>\n",
       "      <td>40</td>\n",
       "    </tr>\n",
       "    <tr>\n",
       "      <th>3</th>\n",
       "      <td>Faltaron los ricos chupetes de pascual saco😋</td>\n",
       "      <td>2</td>\n",
       "      <td>Positive</td>\n",
       "      <td>Faltaron los ricos chupetes de pascual saco😋</td>\n",
       "      <td>7</td>\n",
       "      <td>9</td>\n",
       "      <td>44</td>\n",
       "      <td>44</td>\n",
       "    </tr>\n",
       "    <tr>\n",
       "      <th>4</th>\n",
       "      <td>Tú hermana debería estar presa y tal ves ahí p...</td>\n",
       "      <td>0</td>\n",
       "      <td>Negative</td>\n",
       "      <td>Tú hermana debería estar presa y tal ves ahí p...</td>\n",
       "      <td>94</td>\n",
       "      <td>104</td>\n",
       "      <td>513</td>\n",
       "      <td>513</td>\n",
       "    </tr>\n",
       "  </tbody>\n",
       "</table>\n",
       "</div>"
      ],
      "text/plain": [
       "                                                text  label label_name  \\\n",
       "0  Que ahora se pelean por tener la papaya peladi...      0   Negative   \n",
       "1          Beto, chicote también para los chivitos 😂      0   Negative   \n",
       "2           Decidamos todo!  = Ing y 2k 👍= Vago y 7k      1    Neutral   \n",
       "3       Faltaron los ricos chupetes de pascual saco😋      2   Positive   \n",
       "4  Tú hermana debería estar presa y tal ves ahí p...      0   Negative   \n",
       "\n",
       "                                      tokenized_text  sent_token_length  \\\n",
       "0  Que ahora se pelean por tener la papaya peladi...                 16   \n",
       "1          Beto, chicote también para los chivitos 😂                  7   \n",
       "2           Decidamos todo!  = Ing y 2k 👍= Vago y 7k                 10   \n",
       "3       Faltaron los ricos chupetes de pascual saco😋                  7   \n",
       "4  Tú hermana debería estar presa y tal ves ahí p...                 94   \n",
       "\n",
       "   sent_bert_token_length  char_count  Character Count  \n",
       "0                      19          79               79  \n",
       "1                      11          41               41  \n",
       "2                      14          40               40  \n",
       "3                       9          44               44  \n",
       "4                     104         513              513  "
      ]
     },
     "execution_count": 15,
     "metadata": {},
     "output_type": "execute_result"
    }
   ],
   "source": [
    "df = ds['train'].to_pandas()\n",
    "df.head()"
   ]
  },
  {
   "cell_type": "code",
   "execution_count": 16,
   "id": "7c0615c2",
   "metadata": {},
   "outputs": [],
   "source": [
    "# encode label and mapping label name\n",
    "#df[\"label\"] = df[\"label\"].apply(lambda x: label_encode(x))\n",
    "df[\"label_name\"] = df[\"label\"].apply(lambda x: label2name(x))"
   ]
  },
  {
   "cell_type": "code",
   "execution_count": 17,
   "id": "4c00ccd4",
   "metadata": {},
   "outputs": [],
   "source": [
    "# clean text, lowercase and remove punk\n",
    "#df[\"text\"] = df[\"text\"].apply(lambda x: remove_punct(clean(remove_emoji(x).lower())[0][0]))"
   ]
  },
  {
   "cell_type": "code",
   "execution_count": 18,
   "id": "05636464",
   "metadata": {},
   "outputs": [
    {
     "data": {
      "text/html": [
       "<div>\n",
       "<style scoped>\n",
       "    .dataframe tbody tr th:only-of-type {\n",
       "        vertical-align: middle;\n",
       "    }\n",
       "\n",
       "    .dataframe tbody tr th {\n",
       "        vertical-align: top;\n",
       "    }\n",
       "\n",
       "    .dataframe thead th {\n",
       "        text-align: right;\n",
       "    }\n",
       "</style>\n",
       "<table border=\"1\" class=\"dataframe\">\n",
       "  <thead>\n",
       "    <tr style=\"text-align: right;\">\n",
       "      <th></th>\n",
       "      <th>text</th>\n",
       "      <th>label</th>\n",
       "      <th>label_name</th>\n",
       "      <th>tokenized_text</th>\n",
       "      <th>sent_token_length</th>\n",
       "      <th>sent_bert_token_length</th>\n",
       "      <th>char_count</th>\n",
       "      <th>Character Count</th>\n",
       "    </tr>\n",
       "  </thead>\n",
       "  <tbody>\n",
       "    <tr>\n",
       "      <th>0</th>\n",
       "      <td>Que ahora se pelean por tener la papaya peladi...</td>\n",
       "      <td>0</td>\n",
       "      <td>Negative</td>\n",
       "      <td>Que ahora se pelean por tener la papaya peladi...</td>\n",
       "      <td>16</td>\n",
       "      <td>19</td>\n",
       "      <td>79</td>\n",
       "      <td>79</td>\n",
       "    </tr>\n",
       "    <tr>\n",
       "      <th>1</th>\n",
       "      <td>Beto, chicote también para los chivitos 😂</td>\n",
       "      <td>0</td>\n",
       "      <td>Negative</td>\n",
       "      <td>Beto, chicote también para los chivitos 😂</td>\n",
       "      <td>7</td>\n",
       "      <td>11</td>\n",
       "      <td>41</td>\n",
       "      <td>41</td>\n",
       "    </tr>\n",
       "    <tr>\n",
       "      <th>2</th>\n",
       "      <td>Decidamos todo!  = Ing y 2k 👍= Vago y 7k</td>\n",
       "      <td>1</td>\n",
       "      <td>Neutral</td>\n",
       "      <td>Decidamos todo!  = Ing y 2k 👍= Vago y 7k</td>\n",
       "      <td>10</td>\n",
       "      <td>14</td>\n",
       "      <td>40</td>\n",
       "      <td>40</td>\n",
       "    </tr>\n",
       "    <tr>\n",
       "      <th>3</th>\n",
       "      <td>Faltaron los ricos chupetes de pascual saco😋</td>\n",
       "      <td>2</td>\n",
       "      <td>Positive</td>\n",
       "      <td>Faltaron los ricos chupetes de pascual saco😋</td>\n",
       "      <td>7</td>\n",
       "      <td>9</td>\n",
       "      <td>44</td>\n",
       "      <td>44</td>\n",
       "    </tr>\n",
       "    <tr>\n",
       "      <th>4</th>\n",
       "      <td>Tú hermana debería estar presa y tal ves ahí p...</td>\n",
       "      <td>0</td>\n",
       "      <td>Negative</td>\n",
       "      <td>Tú hermana debería estar presa y tal ves ahí p...</td>\n",
       "      <td>94</td>\n",
       "      <td>104</td>\n",
       "      <td>513</td>\n",
       "      <td>513</td>\n",
       "    </tr>\n",
       "  </tbody>\n",
       "</table>\n",
       "</div>"
      ],
      "text/plain": [
       "                                                text  label label_name  \\\n",
       "0  Que ahora se pelean por tener la papaya peladi...      0   Negative   \n",
       "1          Beto, chicote también para los chivitos 😂      0   Negative   \n",
       "2           Decidamos todo!  = Ing y 2k 👍= Vago y 7k      1    Neutral   \n",
       "3       Faltaron los ricos chupetes de pascual saco😋      2   Positive   \n",
       "4  Tú hermana debería estar presa y tal ves ahí p...      0   Negative   \n",
       "\n",
       "                                      tokenized_text  sent_token_length  \\\n",
       "0  Que ahora se pelean por tener la papaya peladi...                 16   \n",
       "1          Beto, chicote también para los chivitos 😂                  7   \n",
       "2           Decidamos todo!  = Ing y 2k 👍= Vago y 7k                 10   \n",
       "3       Faltaron los ricos chupetes de pascual saco😋                  7   \n",
       "4  Tú hermana debería estar presa y tal ves ahí p...                 94   \n",
       "\n",
       "   sent_bert_token_length  char_count  Character Count  \n",
       "0                      19          79               79  \n",
       "1                      11          41               41  \n",
       "2                      14          40               40  \n",
       "3                       9          44               44  \n",
       "4                     104         513              513  "
      ]
     },
     "execution_count": 18,
     "metadata": {},
     "output_type": "execute_result"
    }
   ],
   "source": [
    "df.head()"
   ]
  },
  {
   "cell_type": "code",
   "execution_count": 19,
   "id": "8299b318-0204-49cb-bf9a-14834e7796cb",
   "metadata": {
    "tags": []
   },
   "outputs": [
    {
     "name": "stderr",
     "output_type": "stream",
     "text": [
      "Some weights of RobertaForSequenceClassification were not initialized from the model checkpoint at pysentimiento/robertuito-base-uncased and are newly initialized: ['classifier.out_proj.bias', 'classifier.dense.bias', 'classifier.dense.weight', 'classifier.out_proj.weight']\n",
      "You should probably TRAIN this model on a down-stream task to be able to use it for predictions and inference.\n"
     ]
    }
   ],
   "source": [
    "from transformers import AutoModelForSequenceClassification, AutoTokenizer\n",
    "\n",
    "model_name = \"pysentimiento/robertuito-base-uncased\"\n",
    "\n",
    "model = AutoModelForSequenceClassification.from_pretrained(\n",
    "    model_name,\n",
    "    num_labels=3\n",
    ")\n",
    "tokenizer = AutoTokenizer.from_pretrained(model_name)\n",
    "tokenizer.model_max_length = 128"
   ]
  },
  {
   "cell_type": "code",
   "execution_count": 20,
   "id": "da7b8124",
   "metadata": {},
   "outputs": [],
   "source": [
    "# columns = ['input_ids', 'attention_mask', 'label']\n",
    "# ds.set_format(type='torch', columns=columns)\n",
    "# ds"
   ]
  },
  {
   "cell_type": "code",
   "execution_count": null,
   "id": "ae25e978",
   "metadata": {},
   "outputs": [],
   "source": []
  },
  {
   "cell_type": "code",
   "execution_count": 21,
   "id": "8ed569d2-67ca-405d-aa88-3e6de71a2356",
   "metadata": {
    "tags": []
   },
   "outputs": [],
   "source": [
    "from pysentimiento.preprocessing import preprocess_tweet\n",
    "preprocessed_ds = ds.map(lambda ex: {\"text\": preprocess_tweet(ex[\"text\"], lang=\"es\")})"
   ]
  },
  {
   "cell_type": "code",
   "execution_count": 22,
   "id": "99a78d85-4029-4621-b692-f63f396a2f6f",
   "metadata": {
    "tags": []
   },
   "outputs": [
    {
     "data": {
      "application/vnd.jupyter.widget-view+json": {
       "model_id": "31cb7251aa5f4680b0caa68fe08db32f",
       "version_major": 2,
       "version_minor": 0
      },
      "text/plain": [
       "Map:   0%|          | 0/1097 [00:00<?, ? examples/s]"
      ]
     },
     "metadata": {},
     "output_type": "display_data"
    }
   ],
   "source": [
    "tokenized_ds = preprocessed_ds.map(\n",
    "    lambda batch: tokenizer(\n",
    "        batch[\"text\"], padding=True, truncation=True\n",
    "        ),\n",
    "    batched=True, batch_size=32\n",
    ")"
   ]
  },
  {
   "cell_type": "code",
   "execution_count": 23,
   "id": "1dd95bf5",
   "metadata": {},
   "outputs": [
    {
     "data": {
      "text/plain": [
       "DatasetDict({\n",
       "    train: Dataset({\n",
       "        features: ['text', 'label', 'label_name', 'tokenized_text', 'sent_token_length', 'sent_bert_token_length', 'char_count', 'Character Count', 'input_ids', 'token_type_ids', 'attention_mask'],\n",
       "        num_rows: 8877\n",
       "    })\n",
       "    validation: Dataset({\n",
       "        features: ['text', 'label', 'label_name', 'tokenized_text', 'sent_token_length', 'sent_bert_token_length', 'char_count', 'Character Count', 'input_ids', 'token_type_ids', 'attention_mask'],\n",
       "        num_rows: 1097\n",
       "    })\n",
       "    test: Dataset({\n",
       "        features: ['text', 'label', 'label_name', 'tokenized_text', 'sent_token_length', 'sent_bert_token_length', 'char_count', 'Character Count', 'input_ids', 'token_type_ids', 'attention_mask'],\n",
       "        num_rows: 987\n",
       "    })\n",
       "})"
      ]
     },
     "execution_count": 23,
     "metadata": {},
     "output_type": "execute_result"
    }
   ],
   "source": [
    "tokenized_ds"
   ]
  },
  {
   "cell_type": "code",
   "execution_count": 24,
   "id": "d3634bf4",
   "metadata": {},
   "outputs": [],
   "source": [
    "#tokenized_ds['train']['input_ids'][0]"
   ]
  },
  {
   "cell_type": "code",
   "execution_count": 25,
   "id": "7c23fbba",
   "metadata": {},
   "outputs": [],
   "source": [
    "#tokenized_ds['train']['attention_mask'][0]"
   ]
  },
  {
   "cell_type": "code",
   "execution_count": 26,
   "id": "f6d33cad",
   "metadata": {},
   "outputs": [
    {
     "data": {
      "text/plain": [
       "'Que ahora se pelean por tener la papaya peladita o. L. Amas grande y usada  emoji cara revolviéndose de la risa emoji  emoji cara revolviéndose de la risa emoji  emoji cara revolviéndose de la risa emoji  emoji berenjena emoji'"
      ]
     },
     "execution_count": 26,
     "metadata": {},
     "output_type": "execute_result"
    }
   ],
   "source": [
    "tokenized_ds['train']['text'][0]"
   ]
  },
  {
   "cell_type": "code",
   "execution_count": 27,
   "id": "c88c53d1-0c5b-4b97-910a-75f6991d2d6f",
   "metadata": {
    "tags": []
   },
   "outputs": [],
   "source": [
    "#!pip install ipdb"
   ]
  },
  {
   "cell_type": "code",
   "execution_count": 28,
   "id": "469074ed-9e65-4a9e-913c-6151f5c5d8b3",
   "metadata": {},
   "outputs": [],
   "source": [
    "#import torch\n",
    "#device = \"cuda\" if torch.cuda.is_available() else \"cpu\"\n",
    "#model.cuda()"
   ]
  },
  {
   "cell_type": "code",
   "execution_count": 29,
   "id": "5d56e2f2-159e-4ffe-86fc-3659ed308b89",
   "metadata": {},
   "outputs": [],
   "source": [
    "from transformers import TrainingArguments, Trainer, DataCollatorWithPadding\n",
    "\n",
    "training_args = TrainingArguments(\n",
    "    per_device_train_batch_size=32,\n",
    "    output_dir=\"test_trainer\",\n",
    "    do_eval=True,\n",
    "    evaluation_strategy=\"epoch\",\n",
    "    num_train_epochs=7,\n",
    ")\n",
    "\n",
    "trainer = Trainer(\n",
    "    model=model,\n",
    "    args=training_args,\n",
    "    train_dataset=tokenized_ds[\"train\"],\n",
    "    eval_dataset=tokenized_ds[\"validation\"],\n",
    "    compute_metrics=compute_metrics,\n",
    "    data_collator=DataCollatorWithPadding(tokenizer=tokenizer),\n",
    ")"
   ]
  },
  {
   "cell_type": "code",
   "execution_count": 30,
   "id": "6be1933a-b930-410d-91ff-646bdcb9a80f",
   "metadata": {
    "tags": []
   },
   "outputs": [
    {
     "name": "stdout",
     "output_type": "stream",
     "text": [
      "{'eval_loss': 0.6338252425193787, 'eval_f1': 0.7116585641659948, 'eval_recall': 0.7214898508756242, 'eval_runtime': 5.599, 'eval_samples_per_second': 195.929, 'eval_steps_per_second': 24.647, 'epoch': 1.0}\n",
      "{'loss': 0.5347, 'learning_rate': 3.7153134635149026e-05, 'epoch': 1.8}\n",
      "{'eval_loss': 0.6584495902061462, 'eval_f1': 0.7322100529541052, 'eval_recall': 0.7347706673911946, 'eval_runtime': 5.4147, 'eval_samples_per_second': 202.596, 'eval_steps_per_second': 25.486, 'epoch': 2.0}\n",
      "{'eval_loss': 0.9159330725669861, 'eval_f1': 0.7302613134678322, 'eval_recall': 0.7339941355646963, 'eval_runtime': 5.5602, 'eval_samples_per_second': 197.295, 'eval_steps_per_second': 24.819, 'epoch': 3.0}\n",
      "{'loss': 0.1759, 'learning_rate': 2.430626927029805e-05, 'epoch': 3.6}\n",
      "{'eval_loss': 1.3203222751617432, 'eval_f1': 0.7275967282275997, 'eval_recall': 0.732059634273844, 'eval_runtime': 5.4559, 'eval_samples_per_second': 201.066, 'eval_steps_per_second': 25.294, 'epoch': 4.0}\n",
      "{'eval_loss': 1.5610458850860596, 'eval_f1': 0.7147076953887521, 'eval_recall': 0.7172656633329207, 'eval_runtime': 5.4129, 'eval_samples_per_second': 202.662, 'eval_steps_per_second': 25.494, 'epoch': 5.0}\n",
      "{'loss': 0.0394, 'learning_rate': 1.1459403905447072e-05, 'epoch': 5.4}\n",
      "{'eval_loss': 1.699355125427246, 'eval_f1': 0.7252428555625364, 'eval_recall': 0.7254921947008571, 'eval_runtime': 5.4307, 'eval_samples_per_second': 201.998, 'eval_steps_per_second': 25.411, 'epoch': 6.0}\n",
      "{'eval_loss': 1.7701603174209595, 'eval_f1': 0.714484610174755, 'eval_recall': 0.7168234805546767, 'eval_runtime': 5.5531, 'eval_samples_per_second': 197.547, 'eval_steps_per_second': 24.851, 'epoch': 7.0}\n",
      "{'train_runtime': 970.0053, 'train_samples_per_second': 64.06, 'train_steps_per_second': 2.006, 'train_loss': 0.19486353723265284, 'epoch': 7.0}\n"
     ]
    },
    {
     "data": {
      "text/plain": [
       "TrainOutput(global_step=1946, training_loss=0.19486353723265284, metrics={'train_runtime': 970.0053, 'train_samples_per_second': 64.06, 'train_steps_per_second': 2.006, 'train_loss': 0.19486353723265284, 'epoch': 7.0})"
      ]
     },
     "execution_count": 30,
     "metadata": {},
     "output_type": "execute_result"
    }
   ],
   "source": [
    "trainer.train()"
   ]
  },
  {
   "cell_type": "code",
   "execution_count": 31,
   "id": "f2c407d3-9fa8-402c-85eb-7061a55c9984",
   "metadata": {
    "tags": []
   },
   "outputs": [],
   "source": [
    "#Test on validation set"
   ]
  },
  {
   "cell_type": "code",
   "execution_count": 32,
   "id": "34fec069",
   "metadata": {},
   "outputs": [
    {
     "name": "stdout",
     "output_type": "stream",
     "text": [
      "{'eval_loss': 1.6248438358306885, 'eval_f1': 0.7321018216532135, 'eval_recall': 0.7315214354746157, 'eval_runtime': 4.9101, 'eval_samples_per_second': 201.015, 'eval_steps_per_second': 25.254, 'epoch': 7.0}\n"
     ]
    },
    {
     "data": {
      "text/plain": [
       "{'eval_loss': 1.6248438358306885,\n",
       " 'eval_f1': 0.7321018216532135,\n",
       " 'eval_recall': 0.7315214354746157,\n",
       " 'eval_runtime': 4.9101,\n",
       " 'eval_samples_per_second': 201.015,\n",
       " 'eval_steps_per_second': 25.254,\n",
       " 'epoch': 7.0}"
      ]
     },
     "execution_count": 32,
     "metadata": {},
     "output_type": "execute_result"
    }
   ],
   "source": [
    "trainer.evaluate(tokenized_ds[\"test\"])"
   ]
  },
  {
   "cell_type": "code",
   "execution_count": 33,
   "id": "b7075d08",
   "metadata": {},
   "outputs": [
    {
     "data": {
      "text/plain": [
       "'😂😂🤣🤣🤣...UNA CHAMBA DE LA CHACÔNDESUDREMA!!!😂😂🤣🤣🤣🍻🍻🍻'"
      ]
     },
     "execution_count": 33,
     "metadata": {},
     "output_type": "execute_result"
    }
   ],
   "source": [
    "ds['test']['text'][0]"
   ]
  },
  {
   "cell_type": "code",
   "execution_count": 34,
   "id": "57814e98",
   "metadata": {},
   "outputs": [],
   "source": [
    "#model.load_state_dict(torch.load(f'./_BERT_epoch_3.model', map_location=torch.device('cpu')))"
   ]
  },
  {
   "cell_type": "code",
   "execution_count": 35,
   "id": "ed4ae6f3",
   "metadata": {},
   "outputs": [],
   "source": [
    "#Error Analisys"
   ]
  },
  {
   "cell_type": "code",
   "execution_count": 36,
   "id": "46bbd55b",
   "metadata": {},
   "outputs": [],
   "source": [
    "val_df = ds['validation'].to_pandas()\n",
    "#val_df"
   ]
  },
  {
   "cell_type": "code",
   "execution_count": 37,
   "id": "f9f23107",
   "metadata": {},
   "outputs": [],
   "source": [
    "from tqdm.notebook import tqdm"
   ]
  },
  {
   "cell_type": "code",
   "execution_count": 38,
   "id": "737a62b3",
   "metadata": {},
   "outputs": [],
   "source": [
    "# step by step predictions on dataframe\n",
    "# We do this to view predictions in the pandas dataframe and easily filter them and perform error analysis.\n",
    "pred_final = []\n",
    "\n",
    "# for i, row in tqdm(val_df.iterrows(), total=val_df.shape[0]):\n",
    "#     predictions = []\n",
    "\n",
    "#     text = row[\"text\"]\n",
    "#     encoded_data_test_single = tokenizer.batch_encode_plus([text], \n",
    "#     add_special_tokens=config.add_special_tokens, \n",
    "#     return_attention_mask=config.return_attention_mask, \n",
    "#     pad_to_max_length=config.pad_to_max_length, \n",
    "#     max_length=config.seq_length,\n",
    "#     return_tensors=config.return_tensors\n",
    "#     )\n",
    "#     input_ids_test = encoded_data_test_single['input_ids']\n",
    "#     attention_masks_test = encoded_data_test_single['attention_mask']\n",
    "\n",
    "    \n",
    "#     inputs = {'input_ids':      input_ids_test.to(device),\n",
    "#               'attention_mask':attention_masks_test.to(device),\n",
    "#              }\n",
    "\n",
    "#     with torch.no_grad():        \n",
    "#         outputs = model(**inputs)\n",
    "    \n",
    "#     logits = outputs[0]\n",
    "#     logits = logits.detach().cpu().numpy()\n",
    "#     predictions.append(logits)\n",
    "#     predictions = np.concatenate(predictions, axis=0)\n",
    "#     pred_final.append(np.argmax(predictions, axis=1).flatten()[0])"
   ]
  },
  {
   "cell_type": "code",
   "execution_count": 39,
   "id": "e2d5ea48-4899-4cb3-9027-0ea1cf46c0e0",
   "metadata": {},
   "outputs": [
    {
     "data": {
      "text/html": [
       "<div>\n",
       "<style scoped>\n",
       "    .dataframe tbody tr th:only-of-type {\n",
       "        vertical-align: middle;\n",
       "    }\n",
       "\n",
       "    .dataframe tbody tr th {\n",
       "        vertical-align: top;\n",
       "    }\n",
       "\n",
       "    .dataframe thead th {\n",
       "        text-align: right;\n",
       "    }\n",
       "</style>\n",
       "<table border=\"1\" class=\"dataframe\">\n",
       "  <thead>\n",
       "    <tr style=\"text-align: right;\">\n",
       "      <th></th>\n",
       "      <th>text</th>\n",
       "      <th>label</th>\n",
       "      <th>label_name</th>\n",
       "      <th>tokenized_text</th>\n",
       "      <th>sent_token_length</th>\n",
       "      <th>sent_bert_token_length</th>\n",
       "      <th>char_count</th>\n",
       "      <th>Character Count</th>\n",
       "    </tr>\n",
       "  </thead>\n",
       "  <tbody>\n",
       "    <tr>\n",
       "      <th>7973</th>\n",
       "      <td>Cuando me fui a marcahuasi casi muero de hipot...</td>\n",
       "      <td>0</td>\n",
       "      <td>Negative</td>\n",
       "      <td>Cuando me fui a marcahuasi casi muero de hipot...</td>\n",
       "      <td>49</td>\n",
       "      <td>56</td>\n",
       "      <td>248</td>\n",
       "      <td>248</td>\n",
       "    </tr>\n",
       "    <tr>\n",
       "      <th>5159</th>\n",
       "      <td>Florcita Bermudes Paucar  vieja acuérdate los ...</td>\n",
       "      <td>1</td>\n",
       "      <td>Neutral</td>\n",
       "      <td>Florcita Bermudes Paucar  vieja acuérdate los ...</td>\n",
       "      <td>24</td>\n",
       "      <td>38</td>\n",
       "      <td>135</td>\n",
       "      <td>135</td>\n",
       "    </tr>\n",
       "    <tr>\n",
       "      <th>3206</th>\n",
       "      <td>Solo falta su arroz ese plato 😀</td>\n",
       "      <td>0</td>\n",
       "      <td>Negative</td>\n",
       "      <td>Solo falta su arroz ese plato 😀</td>\n",
       "      <td>7</td>\n",
       "      <td>7</td>\n",
       "      <td>31</td>\n",
       "      <td>31</td>\n",
       "    </tr>\n",
       "    <tr>\n",
       "      <th>2917</th>\n",
       "      <td>Por qué tan lindo tamare lucianooo??? 👑😥💔  Jja...</td>\n",
       "      <td>1</td>\n",
       "      <td>Neutral</td>\n",
       "      <td>Por qué tan lindo tamare lucianooo??? 👑😥💔  Jja...</td>\n",
       "      <td>9</td>\n",
       "      <td>14</td>\n",
       "      <td>51</td>\n",
       "      <td>51</td>\n",
       "    </tr>\n",
       "    <tr>\n",
       "      <th>3626</th>\n",
       "      <td>Hermoso tema ,grande Susan!! Gracias Eva, el v...</td>\n",
       "      <td>2</td>\n",
       "      <td>Positive</td>\n",
       "      <td>Hermoso tema ,grande Susan!! Gracias Eva, el v...</td>\n",
       "      <td>13</td>\n",
       "      <td>20</td>\n",
       "      <td>85</td>\n",
       "      <td>85</td>\n",
       "    </tr>\n",
       "    <tr>\n",
       "      <th>3969</th>\n",
       "      <td>La policía anda pensando que eres un subversivo</td>\n",
       "      <td>1</td>\n",
       "      <td>Neutral</td>\n",
       "      <td>La policía anda pensando que eres un subversivo</td>\n",
       "      <td>8</td>\n",
       "      <td>10</td>\n",
       "      <td>47</td>\n",
       "      <td>47</td>\n",
       "    </tr>\n",
       "    <tr>\n",
       "      <th>3708</th>\n",
       "      <td>Me encantó claro tu rutina muy profesional👍</td>\n",
       "      <td>2</td>\n",
       "      <td>Positive</td>\n",
       "      <td>Me encantó claro tu rutina muy profesional👍</td>\n",
       "      <td>7</td>\n",
       "      <td>7</td>\n",
       "      <td>43</td>\n",
       "      <td>43</td>\n",
       "    </tr>\n",
       "    <tr>\n",
       "      <th>5171</th>\n",
       "      <td>Jjaja Yara que le laves la cara 🤪</td>\n",
       "      <td>0</td>\n",
       "      <td>Negative</td>\n",
       "      <td>Jjaja Yara que le laves la cara 🤪</td>\n",
       "      <td>8</td>\n",
       "      <td>9</td>\n",
       "      <td>33</td>\n",
       "      <td>33</td>\n",
       "    </tr>\n",
       "    <tr>\n",
       "      <th>7436</th>\n",
       "      <td>🤣en buena hora que no le invitaron, la beto es...</td>\n",
       "      <td>0</td>\n",
       "      <td>Negative</td>\n",
       "      <td>🤣en buena hora que no le invitaron, la beto es...</td>\n",
       "      <td>11</td>\n",
       "      <td>13</td>\n",
       "      <td>56</td>\n",
       "      <td>56</td>\n",
       "    </tr>\n",
       "    <tr>\n",
       "      <th>7910</th>\n",
       "      <td>Que te saque los piojos 😁</td>\n",
       "      <td>1</td>\n",
       "      <td>Neutral</td>\n",
       "      <td>Que te saque los piojos 😁</td>\n",
       "      <td>6</td>\n",
       "      <td>7</td>\n",
       "      <td>25</td>\n",
       "      <td>25</td>\n",
       "    </tr>\n",
       "    <tr>\n",
       "      <th>1429</th>\n",
       "      <td>Tobii lanzalooo 4:20🍂</td>\n",
       "      <td>1</td>\n",
       "      <td>Neutral</td>\n",
       "      <td>Tobii lanzalooo 4:20🍂</td>\n",
       "      <td>3</td>\n",
       "      <td>8</td>\n",
       "      <td>21</td>\n",
       "      <td>21</td>\n",
       "    </tr>\n",
       "    <tr>\n",
       "      <th>7525</th>\n",
       "      <td>Mario Jesus Qui Ba nuestro huequito hace años ...</td>\n",
       "      <td>2</td>\n",
       "      <td>Positive</td>\n",
       "      <td>Mario Jesus Qui Ba nuestro huequito hace años ...</td>\n",
       "      <td>18</td>\n",
       "      <td>20</td>\n",
       "      <td>100</td>\n",
       "      <td>100</td>\n",
       "    </tr>\n",
       "    <tr>\n",
       "      <th>6488</th>\n",
       "      <td>No hay money Betito, me prestas porfis? 😂😂😂 Mu...</td>\n",
       "      <td>1</td>\n",
       "      <td>Neutral</td>\n",
       "      <td>No hay money Betito, me prestas porfis? 😂😂😂 Mu...</td>\n",
       "      <td>22</td>\n",
       "      <td>27</td>\n",
       "      <td>127</td>\n",
       "      <td>127</td>\n",
       "    </tr>\n",
       "    <tr>\n",
       "      <th>623</th>\n",
       "      <td>Uno de nuestros favoritos de mi mami Zonia Luz...</td>\n",
       "      <td>2</td>\n",
       "      <td>Positive</td>\n",
       "      <td>Uno de nuestros favoritos de mi mami Zonia Luz...</td>\n",
       "      <td>62</td>\n",
       "      <td>85</td>\n",
       "      <td>330</td>\n",
       "      <td>330</td>\n",
       "    </tr>\n",
       "    <tr>\n",
       "      <th>267</th>\n",
       "      <td>El ganador josimar. Que el es artista del año?...</td>\n",
       "      <td>2</td>\n",
       "      <td>Positive</td>\n",
       "      <td>El ganador josimar. Que el es artista del año?...</td>\n",
       "      <td>90</td>\n",
       "      <td>109</td>\n",
       "      <td>465</td>\n",
       "      <td>465</td>\n",
       "    </tr>\n",
       "    <tr>\n",
       "      <th>1022</th>\n",
       "      <td>Hermoso conchasumare 🤣🤣</td>\n",
       "      <td>2</td>\n",
       "      <td>Positive</td>\n",
       "      <td>Hermoso conchasumare 🤣🤣</td>\n",
       "      <td>3</td>\n",
       "      <td>6</td>\n",
       "      <td>23</td>\n",
       "      <td>23</td>\n",
       "    </tr>\n",
       "    <tr>\n",
       "      <th>7775</th>\n",
       "      <td>La familia leon chinito Jauja ️</td>\n",
       "      <td>2</td>\n",
       "      <td>Positive</td>\n",
       "      <td>La familia leon chinito Jauja ️</td>\n",
       "      <td>6</td>\n",
       "      <td>9</td>\n",
       "      <td>31</td>\n",
       "      <td>31</td>\n",
       "    </tr>\n",
       "    <tr>\n",
       "      <th>6196</th>\n",
       "      <td>2 palitos, choclo , papa, y su ajicito. Con un...</td>\n",
       "      <td>1</td>\n",
       "      <td>Neutral</td>\n",
       "      <td>2 palitos, choclo , papa, y su ajicito. Con un...</td>\n",
       "      <td>22</td>\n",
       "      <td>30</td>\n",
       "      <td>110</td>\n",
       "      <td>110</td>\n",
       "    </tr>\n",
       "    <tr>\n",
       "      <th>5775</th>\n",
       "      <td>Le está quitando el puesto a Maduro 😂</td>\n",
       "      <td>1</td>\n",
       "      <td>Neutral</td>\n",
       "      <td>Le está quitando el puesto a Maduro 😂</td>\n",
       "      <td>8</td>\n",
       "      <td>8</td>\n",
       "      <td>37</td>\n",
       "      <td>37</td>\n",
       "    </tr>\n",
       "    <tr>\n",
       "      <th>1626</th>\n",
       "      <td>Este Motoso que ni hablar  sabe,  mi con todo ...</td>\n",
       "      <td>0</td>\n",
       "      <td>Negative</td>\n",
       "      <td>Este Motoso que ni hablar  sabe,  mi con todo ...</td>\n",
       "      <td>23</td>\n",
       "      <td>31</td>\n",
       "      <td>127</td>\n",
       "      <td>127</td>\n",
       "    </tr>\n",
       "    <tr>\n",
       "      <th>4562</th>\n",
       "      <td>Luego de ver a spiderman ya no me siento tan m...</td>\n",
       "      <td>1</td>\n",
       "      <td>Neutral</td>\n",
       "      <td>Luego de ver a spiderman ya no me siento tan m...</td>\n",
       "      <td>22</td>\n",
       "      <td>23</td>\n",
       "      <td>108</td>\n",
       "      <td>108</td>\n",
       "    </tr>\n",
       "    <tr>\n",
       "      <th>169</th>\n",
       "      <td>Prosor Anto está con usted por amor al chichar...</td>\n",
       "      <td>0</td>\n",
       "      <td>Negative</td>\n",
       "      <td>Prosor Anto está con usted por amor al chichar...</td>\n",
       "      <td>10</td>\n",
       "      <td>12</td>\n",
       "      <td>51</td>\n",
       "      <td>51</td>\n",
       "    </tr>\n",
       "    <tr>\n",
       "      <th>5409</th>\n",
       "      <td>Que culpa tiene el burro!!! 😡 ... Votan por su...</td>\n",
       "      <td>0</td>\n",
       "      <td>Negative</td>\n",
       "      <td>Que culpa tiene el burro!!! 😡 ... Votan por su...</td>\n",
       "      <td>18</td>\n",
       "      <td>24</td>\n",
       "      <td>100</td>\n",
       "      <td>100</td>\n",
       "    </tr>\n",
       "    <tr>\n",
       "      <th>1691</th>\n",
       "      <td>Hablas puras webadas ., como te gusta andar de...</td>\n",
       "      <td>0</td>\n",
       "      <td>Negative</td>\n",
       "      <td>Hablas puras webadas ., como te gusta andar de...</td>\n",
       "      <td>11</td>\n",
       "      <td>17</td>\n",
       "      <td>58</td>\n",
       "      <td>58</td>\n",
       "    </tr>\n",
       "    <tr>\n",
       "      <th>6595</th>\n",
       "      <td>Alexander Chilo Beltran jaja ni un camote tu j...</td>\n",
       "      <td>0</td>\n",
       "      <td>Negative</td>\n",
       "      <td>Alexander Chilo Beltran jaja ni un camote tu j...</td>\n",
       "      <td>9</td>\n",
       "      <td>13</td>\n",
       "      <td>53</td>\n",
       "      <td>53</td>\n",
       "    </tr>\n",
       "    <tr>\n",
       "      <th>8133</th>\n",
       "      <td>-No he estao allí, pero ojalá te vaya bien</td>\n",
       "      <td>2</td>\n",
       "      <td>Positive</td>\n",
       "      <td>-No he estao allí, pero ojalá te vaya bien</td>\n",
       "      <td>9</td>\n",
       "      <td>10</td>\n",
       "      <td>42</td>\n",
       "      <td>42</td>\n",
       "    </tr>\n",
       "    <tr>\n",
       "      <th>7054</th>\n",
       "      <td>Las truchas son muy ricas en ceviche y frito l...</td>\n",
       "      <td>1</td>\n",
       "      <td>Neutral</td>\n",
       "      <td>Las truchas son muy ricas en ceviche y frito l...</td>\n",
       "      <td>20</td>\n",
       "      <td>25</td>\n",
       "      <td>103</td>\n",
       "      <td>103</td>\n",
       "    </tr>\n",
       "    <tr>\n",
       "      <th>2620</th>\n",
       "      <td>Luciano tienes que ir a las cucardas a probar ...</td>\n",
       "      <td>0</td>\n",
       "      <td>Negative</td>\n",
       "      <td>Luciano tienes que ir a las cucardas a probar ...</td>\n",
       "      <td>34</td>\n",
       "      <td>41</td>\n",
       "      <td>172</td>\n",
       "      <td>172</td>\n",
       "    </tr>\n",
       "    <tr>\n",
       "      <th>7697</th>\n",
       "      <td>Por las huevas es, igual  mas de medio peru le...</td>\n",
       "      <td>0</td>\n",
       "      <td>Negative</td>\n",
       "      <td>Por las huevas es, igual  mas de medio peru le...</td>\n",
       "      <td>17</td>\n",
       "      <td>20</td>\n",
       "      <td>74</td>\n",
       "      <td>74</td>\n",
       "    </tr>\n",
       "    <tr>\n",
       "      <th>6800</th>\n",
       "      <td>Carol Bazan amor riete un toque 😘</td>\n",
       "      <td>2</td>\n",
       "      <td>Positive</td>\n",
       "      <td>Carol Bazan amor riete un toque 😘</td>\n",
       "      <td>7</td>\n",
       "      <td>9</td>\n",
       "      <td>33</td>\n",
       "      <td>33</td>\n",
       "    </tr>\n",
       "  </tbody>\n",
       "</table>\n",
       "</div>"
      ],
      "text/plain": [
       "                                                   text  label label_name  \\\n",
       "7973  Cuando me fui a marcahuasi casi muero de hipot...      0   Negative   \n",
       "5159  Florcita Bermudes Paucar  vieja acuérdate los ...      1    Neutral   \n",
       "3206                    Solo falta su arroz ese plato 😀      0   Negative   \n",
       "2917  Por qué tan lindo tamare lucianooo??? 👑😥💔  Jja...      1    Neutral   \n",
       "3626  Hermoso tema ,grande Susan!! Gracias Eva, el v...      2   Positive   \n",
       "3969    La policía anda pensando que eres un subversivo      1    Neutral   \n",
       "3708        Me encantó claro tu rutina muy profesional👍      2   Positive   \n",
       "5171                  Jjaja Yara que le laves la cara 🤪      0   Negative   \n",
       "7436  🤣en buena hora que no le invitaron, la beto es...      0   Negative   \n",
       "7910                          Que te saque los piojos 😁      1    Neutral   \n",
       "1429                              Tobii lanzalooo 4:20🍂      1    Neutral   \n",
       "7525  Mario Jesus Qui Ba nuestro huequito hace años ...      2   Positive   \n",
       "6488  No hay money Betito, me prestas porfis? 😂😂😂 Mu...      1    Neutral   \n",
       "623   Uno de nuestros favoritos de mi mami Zonia Luz...      2   Positive   \n",
       "267   El ganador josimar. Que el es artista del año?...      2   Positive   \n",
       "1022                            Hermoso conchasumare 🤣🤣      2   Positive   \n",
       "7775                    La familia leon chinito Jauja ️      2   Positive   \n",
       "6196  2 palitos, choclo , papa, y su ajicito. Con un...      1    Neutral   \n",
       "5775              Le está quitando el puesto a Maduro 😂      1    Neutral   \n",
       "1626  Este Motoso que ni hablar  sabe,  mi con todo ...      0   Negative   \n",
       "4562  Luego de ver a spiderman ya no me siento tan m...      1    Neutral   \n",
       "169   Prosor Anto está con usted por amor al chichar...      0   Negative   \n",
       "5409  Que culpa tiene el burro!!! 😡 ... Votan por su...      0   Negative   \n",
       "1691  Hablas puras webadas ., como te gusta andar de...      0   Negative   \n",
       "6595  Alexander Chilo Beltran jaja ni un camote tu j...      0   Negative   \n",
       "8133         -No he estao allí, pero ojalá te vaya bien      2   Positive   \n",
       "7054  Las truchas son muy ricas en ceviche y frito l...      1    Neutral   \n",
       "2620  Luciano tienes que ir a las cucardas a probar ...      0   Negative   \n",
       "7697  Por las huevas es, igual  mas de medio peru le...      0   Negative   \n",
       "6800                  Carol Bazan amor riete un toque 😘      2   Positive   \n",
       "\n",
       "                                         tokenized_text  sent_token_length  \\\n",
       "7973  Cuando me fui a marcahuasi casi muero de hipot...                 49   \n",
       "5159  Florcita Bermudes Paucar  vieja acuérdate los ...                 24   \n",
       "3206                    Solo falta su arroz ese plato 😀                  7   \n",
       "2917  Por qué tan lindo tamare lucianooo??? 👑😥💔  Jja...                  9   \n",
       "3626  Hermoso tema ,grande Susan!! Gracias Eva, el v...                 13   \n",
       "3969    La policía anda pensando que eres un subversivo                  8   \n",
       "3708        Me encantó claro tu rutina muy profesional👍                  7   \n",
       "5171                  Jjaja Yara que le laves la cara 🤪                  8   \n",
       "7436  🤣en buena hora que no le invitaron, la beto es...                 11   \n",
       "7910                          Que te saque los piojos 😁                  6   \n",
       "1429                              Tobii lanzalooo 4:20🍂                  3   \n",
       "7525  Mario Jesus Qui Ba nuestro huequito hace años ...                 18   \n",
       "6488  No hay money Betito, me prestas porfis? 😂😂😂 Mu...                 22   \n",
       "623   Uno de nuestros favoritos de mi mami Zonia Luz...                 62   \n",
       "267   El ganador josimar. Que el es artista del año?...                 90   \n",
       "1022                            Hermoso conchasumare 🤣🤣                  3   \n",
       "7775                    La familia leon chinito Jauja ️                  6   \n",
       "6196  2 palitos, choclo , papa, y su ajicito. Con un...                 22   \n",
       "5775              Le está quitando el puesto a Maduro 😂                  8   \n",
       "1626  Este Motoso que ni hablar  sabe,  mi con todo ...                 23   \n",
       "4562  Luego de ver a spiderman ya no me siento tan m...                 22   \n",
       "169   Prosor Anto está con usted por amor al chichar...                 10   \n",
       "5409  Que culpa tiene el burro!!! 😡 ... Votan por su...                 18   \n",
       "1691  Hablas puras webadas ., como te gusta andar de...                 11   \n",
       "6595  Alexander Chilo Beltran jaja ni un camote tu j...                  9   \n",
       "8133         -No he estao allí, pero ojalá te vaya bien                  9   \n",
       "7054  Las truchas son muy ricas en ceviche y frito l...                 20   \n",
       "2620  Luciano tienes que ir a las cucardas a probar ...                 34   \n",
       "7697  Por las huevas es, igual  mas de medio peru le...                 17   \n",
       "6800                  Carol Bazan amor riete un toque 😘                  7   \n",
       "\n",
       "      sent_bert_token_length  char_count  Character Count  \n",
       "7973                      56         248              248  \n",
       "5159                      38         135              135  \n",
       "3206                       7          31               31  \n",
       "2917                      14          51               51  \n",
       "3626                      20          85               85  \n",
       "3969                      10          47               47  \n",
       "3708                       7          43               43  \n",
       "5171                       9          33               33  \n",
       "7436                      13          56               56  \n",
       "7910                       7          25               25  \n",
       "1429                       8          21               21  \n",
       "7525                      20         100              100  \n",
       "6488                      27         127              127  \n",
       "623                       85         330              330  \n",
       "267                      109         465              465  \n",
       "1022                       6          23               23  \n",
       "7775                       9          31               31  \n",
       "6196                      30         110              110  \n",
       "5775                       8          37               37  \n",
       "1626                      31         127              127  \n",
       "4562                      23         108              108  \n",
       "169                       12          51               51  \n",
       "5409                      24         100              100  \n",
       "1691                      17          58               58  \n",
       "6595                      13          53               53  \n",
       "8133                      10          42               42  \n",
       "7054                      25         103              103  \n",
       "2620                      41         172              172  \n",
       "7697                      20          74               74  \n",
       "6800                       9          33               33  "
      ]
     },
     "execution_count": 39,
     "metadata": {},
     "output_type": "execute_result"
    }
   ],
   "source": [
    "df.sample(n = 30)"
   ]
  },
  {
   "cell_type": "code",
   "execution_count": 40,
   "id": "82f776a2-9575-4766-8865-70107a87c551",
   "metadata": {},
   "outputs": [],
   "source": [
    "#Inference"
   ]
  },
  {
   "cell_type": "code",
   "execution_count": 41,
   "id": "926977d0",
   "metadata": {},
   "outputs": [],
   "source": [
    "#Evaluate the Model Qualitatively (Human Evaluation)"
   ]
  },
  {
   "cell_type": "code",
   "execution_count": 42,
   "id": "7faa99dc",
   "metadata": {},
   "outputs": [],
   "source": [
    "#Evaluate the Model Quantitatively (with F1 Metric)"
   ]
  },
  {
   "cell_type": "code",
   "execution_count": null,
   "id": "2be445d3",
   "metadata": {},
   "outputs": [],
   "source": []
  },
  {
   "cell_type": "code",
   "execution_count": 43,
   "id": "c839bdd5",
   "metadata": {},
   "outputs": [],
   "source": [
    "texts = ds['test'][0:10]['text']\n",
    "human_baseline_labels = ds['test'][0:10]['label']"
   ]
  },
  {
   "cell_type": "code",
   "execution_count": 44,
   "id": "0ebbb4a1",
   "metadata": {},
   "outputs": [
    {
     "data": {
      "text/plain": [
       "['😂😂🤣🤣🤣...UNA CHAMBA DE LA CHACÔNDESUDREMA!!!😂😂🤣🤣🤣🍻🍻🍻',\n",
       " 'Maria Fernanda... ojalá y no me pegues tu adicción de ver series y deje de ir a tonear🤣',\n",
       " 'Mi abuelita de 120 años también irá a botar 😂',\n",
       " 'Alejandro un point a donde ir cuando estemos allá 😅',\n",
       " 'Mi bello Huaraz 😍 Ayayayayy San Pancho !!!',\n",
       " 'Y uno con síndrome de pájaro carpintero 🤤😁',\n",
       " 'Dos cholos ebrios, gritaron: -Atajen ese globo',\n",
       " 'Cristian Broncano Urbano  se parece a ti cuándo te rayas con algo y no paras j😂😂😂',\n",
       " 'También abrazo a los árboles 🤗 y se siente bacán.  😊',\n",
       " 'Kariii, siempre pensé que el cabello largo como estaba antes te queda genial. Te ves más chibola. No te lo vuelvas a cortar 😘']"
      ]
     },
     "execution_count": 44,
     "metadata": {},
     "output_type": "execute_result"
    }
   ],
   "source": [
    "texts"
   ]
  },
  {
   "cell_type": "code",
   "execution_count": 45,
   "id": "fb03153f",
   "metadata": {},
   "outputs": [
    {
     "data": {
      "text/plain": [
       "[2, 1, 1, 1, 2, 1, 0, 1, 2, 1]"
      ]
     },
     "execution_count": 45,
     "metadata": {},
     "output_type": "execute_result"
    }
   ],
   "source": [
    "human_baseline_labels"
   ]
  },
  {
   "cell_type": "code",
   "execution_count": 46,
   "id": "a070557c",
   "metadata": {},
   "outputs": [],
   "source": [
    "#original_model_summaries = []\n",
    "model_classifications = []"
   ]
  },
  {
   "cell_type": "code",
   "execution_count": 47,
   "id": "ab8436a9",
   "metadata": {},
   "outputs": [],
   "source": [
    "for _, text in enumerate(texts):\n",
    "    input_ids = tokenizer(text, return_tensors=\"pt\").input_ids.to('cuda')\n",
    "    logits = model(input_ids).logits\n",
    "    probabilities = logits.softmax(dim=-1).tolist()[0]\n",
    "    model_classifications.append(np.argmax(probabilities).flatten()[0])"
   ]
  },
  {
   "cell_type": "code",
   "execution_count": 48,
   "id": "8a1a671b",
   "metadata": {},
   "outputs": [
    {
     "data": {
      "text/plain": [
       "[1, 1, 1, 1, 2, 1, 0, 1, 2, 2]"
      ]
     },
     "execution_count": 48,
     "metadata": {},
     "output_type": "execute_result"
    }
   ],
   "source": [
    "model_classifications"
   ]
  }
 ],
 "metadata": {
  "kernelspec": {
   "display_name": "Python 3 (ipykernel)",
   "language": "python",
   "name": "python3"
  },
  "language_info": {
   "codemirror_mode": {
    "name": "ipython",
    "version": 3
   },
   "file_extension": ".py",
   "mimetype": "text/x-python",
   "name": "python",
   "nbconvert_exporter": "python",
   "pygments_lexer": "ipython3",
   "version": "3.10.13"
  }
 },
 "nbformat": 4,
 "nbformat_minor": 5
}
