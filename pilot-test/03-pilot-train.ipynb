{
 "cells": [
  {
   "cell_type": "code",
   "execution_count": 1,
   "id": "955514ed-28d2-422e-8eca-56055de9bc39",
   "metadata": {},
   "outputs": [],
   "source": [
    "#EDA"
   ]
  },
  {
   "cell_type": "code",
   "execution_count": 2,
   "id": "de09e411",
   "metadata": {},
   "outputs": [],
   "source": [
    "import torch"
   ]
  },
  {
   "cell_type": "code",
   "execution_count": 3,
   "id": "5af36065",
   "metadata": {},
   "outputs": [],
   "source": [
    "#!pip install pysentimiento transformers datasets accelerate evaluate"
   ]
  },
  {
   "cell_type": "code",
   "execution_count": null,
   "id": "c16f70f6-f93b-4be5-ac8a-33923bdf44af",
   "metadata": {},
   "outputs": [],
   "source": []
  },
  {
   "cell_type": "code",
   "execution_count": 4,
   "id": "1dcd6c81-eb73-4aa3-aa8c-ac9a46646d8b",
   "metadata": {
    "tags": []
   },
   "outputs": [],
   "source": [
    "import datasets\n",
    "import evaluate"
   ]
  },
  {
   "cell_type": "code",
   "execution_count": 5,
   "id": "ce0ec026-0099-414e-a6bf-a76776f39c3e",
   "metadata": {},
   "outputs": [],
   "source": [
    "import numpy as np\n",
    "from datasets import load_dataset"
   ]
  },
  {
   "cell_type": "code",
   "execution_count": 6,
   "id": "c9fbf152-07de-4cba-84b4-d3d871cb6eb3",
   "metadata": {
    "tags": []
   },
   "outputs": [],
   "source": [
    "import ipywidgets as widgets"
   ]
  },
  {
   "cell_type": "code",
   "execution_count": 7,
   "id": "a001ba7d",
   "metadata": {},
   "outputs": [],
   "source": [
    "#Helper Functions"
   ]
  },
  {
   "cell_type": "code",
   "execution_count": null,
   "id": "92ea1347",
   "metadata": {},
   "outputs": [],
   "source": []
  },
  {
   "cell_type": "code",
   "execution_count": 8,
   "id": "5ba02255",
   "metadata": {},
   "outputs": [],
   "source": [
    "# label to name\n",
    "def label2name(x):\n",
    "    if x == 0:\n",
    "        return \"Negative\"\n",
    "    if x == 1:\n",
    "        return \"Neutral\"\n",
    "    if x == 2:\n",
    "        return \"Positive\""
   ]
  },
  {
   "cell_type": "code",
   "execution_count": 9,
   "id": "6d3164a0-faf4-4a4d-8a78-17b40b00c3f1",
   "metadata": {
    "tags": []
   },
   "outputs": [],
   "source": [
    "\n",
    "f1_metric = evaluate.load(\"f1\")\n",
    "recall_metric = evaluate.load(\"recall\")\n",
    "\n",
    "def compute_metrics (eval_pred):\n",
    "    logits, labels = eval_pred\n",
    "    preds = np.argmax(logits, axis = -1)\n",
    "    \n",
    "    results = {}\n",
    "    results.update(f1_metric.compute(predictions=preds, references = labels, average=\"macro\"))\n",
    "    results.update(recall_metric.compute(predictions=preds, references = labels, average=\"macro\"))\n",
    "    return results"
   ]
  },
  {
   "cell_type": "code",
   "execution_count": null,
   "id": "2662e8fc-2064-44d1-8ae7-fa15f37d3dff",
   "metadata": {
    "tags": []
   },
   "outputs": [],
   "source": []
  },
  {
   "cell_type": "code",
   "execution_count": 10,
   "id": "0bd8b7bc-ed54-4e65-ba9a-d2835b1abca8",
   "metadata": {
    "tags": []
   },
   "outputs": [],
   "source": [
    "#Read Data\n"
   ]
  },
  {
   "cell_type": "code",
   "execution_count": 11,
   "id": "90c97202-c5c6-484f-850a-46a9ee552251",
   "metadata": {
    "tags": []
   },
   "outputs": [
    {
     "data": {
      "application/vnd.jupyter.widget-view+json": {
       "model_id": "ee69326ec4024dcbbce797e7a2d0d948",
       "version_major": 2,
       "version_minor": 0
      },
      "text/plain": [
       "Downloading data files:   0%|          | 0/3 [00:00<?, ?it/s]"
      ]
     },
     "metadata": {},
     "output_type": "display_data"
    },
    {
     "data": {
      "application/vnd.jupyter.widget-view+json": {
       "model_id": "a3fa6c2eb9744998b2da8d779ab751da",
       "version_major": 2,
       "version_minor": 0
      },
      "text/plain": [
       "Extracting data files:   0%|          | 0/3 [00:00<?, ?it/s]"
      ]
     },
     "metadata": {},
     "output_type": "display_data"
    },
    {
     "data": {
      "application/vnd.jupyter.widget-view+json": {
       "model_id": "187f970026c54b71816924dc1af25f54",
       "version_major": 2,
       "version_minor": 0
      },
      "text/plain": [
       "Generating train split: 0 examples [00:00, ? examples/s]"
      ]
     },
     "metadata": {},
     "output_type": "display_data"
    },
    {
     "data": {
      "application/vnd.jupyter.widget-view+json": {
       "model_id": "fc3a20d14d2f450b8fd153f2c5ae241d",
       "version_major": 2,
       "version_minor": 0
      },
      "text/plain": [
       "Generating validation split: 0 examples [00:00, ? examples/s]"
      ]
     },
     "metadata": {},
     "output_type": "display_data"
    },
    {
     "data": {
      "application/vnd.jupyter.widget-view+json": {
       "model_id": "803c884e8a6341a2b0f967725e3afdf4",
       "version_major": 2,
       "version_minor": 0
      },
      "text/plain": [
       "Generating test split: 0 examples [00:00, ? examples/s]"
      ]
     },
     "metadata": {},
     "output_type": "display_data"
    }
   ],
   "source": [
    "data_files = {\"train\": \"train.csv\", \"validation\": \"val.csv\", \"test\": \"test.csv\"}\n",
    "ds = load_dataset(\"csv\", data_files=data_files)"
   ]
  },
  {
   "cell_type": "code",
   "execution_count": 12,
   "id": "8087bffe-c868-4323-90f0-4c6951f4fb5c",
   "metadata": {
    "tags": []
   },
   "outputs": [
    {
     "data": {
      "text/plain": [
       "DatasetDict({\n",
       "    train: Dataset({\n",
       "        features: ['text', 'label', 'label_name', 'tokenized_text', 'sent_token_length', 'char_count', 'Character Count'],\n",
       "        num_rows: 469\n",
       "    })\n",
       "    validation: Dataset({\n",
       "        features: ['text', 'label', 'label_name', 'tokenized_text', 'sent_token_length', 'char_count', 'Character Count'],\n",
       "        num_rows: 59\n",
       "    })\n",
       "    test: Dataset({\n",
       "        features: ['text', 'label', 'label_name', 'tokenized_text', 'sent_token_length', 'char_count', 'Character Count'],\n",
       "        num_rows: 53\n",
       "    })\n",
       "})"
      ]
     },
     "execution_count": 12,
     "metadata": {},
     "output_type": "execute_result"
    }
   ],
   "source": [
    "ds"
   ]
  },
  {
   "cell_type": "code",
   "execution_count": null,
   "id": "a3ca4ba6",
   "metadata": {},
   "outputs": [],
   "source": []
  },
  {
   "cell_type": "code",
   "execution_count": 13,
   "id": "0c7abe81-d2ab-49c3-92bf-6c6e36d5d852",
   "metadata": {},
   "outputs": [
    {
     "data": {
      "text/plain": [
       "{'text': Value(dtype='string', id=None),\n",
       " 'label': Value(dtype='int64', id=None),\n",
       " 'label_name': Value(dtype='string', id=None),\n",
       " 'tokenized_text': Value(dtype='string', id=None),\n",
       " 'sent_token_length': Value(dtype='int64', id=None),\n",
       " 'char_count': Value(dtype='int64', id=None),\n",
       " 'Character Count': Value(dtype='int64', id=None)}"
      ]
     },
     "execution_count": 13,
     "metadata": {},
     "output_type": "execute_result"
    }
   ],
   "source": [
    "ds[\"train\"].features"
   ]
  },
  {
   "cell_type": "code",
   "execution_count": 14,
   "id": "9a33842b-42eb-4966-8b48-f3dd7e1aeb33",
   "metadata": {},
   "outputs": [
    {
     "data": {
      "text/plain": [
       "[0, 1, 2, 0, 2, 0, 0, 1, 0, 1]"
      ]
     },
     "execution_count": 14,
     "metadata": {},
     "output_type": "execute_result"
    }
   ],
   "source": [
    "ds[\"test\"][\"label\"][:10]"
   ]
  },
  {
   "cell_type": "code",
   "execution_count": 15,
   "id": "68d24890",
   "metadata": {},
   "outputs": [
    {
     "data": {
      "text/html": [
       "<div>\n",
       "<style scoped>\n",
       "    .dataframe tbody tr th:only-of-type {\n",
       "        vertical-align: middle;\n",
       "    }\n",
       "\n",
       "    .dataframe tbody tr th {\n",
       "        vertical-align: top;\n",
       "    }\n",
       "\n",
       "    .dataframe thead th {\n",
       "        text-align: right;\n",
       "    }\n",
       "</style>\n",
       "<table border=\"1\" class=\"dataframe\">\n",
       "  <thead>\n",
       "    <tr style=\"text-align: right;\">\n",
       "      <th></th>\n",
       "      <th>text</th>\n",
       "      <th>label</th>\n",
       "      <th>label_name</th>\n",
       "      <th>tokenized_text</th>\n",
       "      <th>sent_token_length</th>\n",
       "      <th>char_count</th>\n",
       "      <th>Character Count</th>\n",
       "    </tr>\n",
       "  </thead>\n",
       "  <tbody>\n",
       "    <tr>\n",
       "      <th>0</th>\n",
       "      <td>Nada de llantos, Ambrosio</td>\n",
       "      <td>0</td>\n",
       "      <td>Negative</td>\n",
       "      <td>Nada de llantos  Ambrosio</td>\n",
       "      <td>4</td>\n",
       "      <td>25</td>\n",
       "      <td>25</td>\n",
       "    </tr>\n",
       "    <tr>\n",
       "      <th>1</th>\n",
       "      <td>Ay, pobre, qué piña</td>\n",
       "      <td>0</td>\n",
       "      <td>Negative</td>\n",
       "      <td>Ay  pobre  qué piña</td>\n",
       "      <td>4</td>\n",
       "      <td>20</td>\n",
       "      <td>20</td>\n",
       "    </tr>\n",
       "    <tr>\n",
       "      <th>2</th>\n",
       "      <td>405 -Soy muy viejo</td>\n",
       "      <td>0</td>\n",
       "      <td>Negative</td>\n",
       "      <td>405  Soy muy viejo</td>\n",
       "      <td>4</td>\n",
       "      <td>18</td>\n",
       "      <td>18</td>\n",
       "    </tr>\n",
       "    <tr>\n",
       "      <th>3</th>\n",
       "      <td>ojalá que esté muerto ese huevón</td>\n",
       "      <td>0</td>\n",
       "      <td>Negative</td>\n",
       "      <td>ojalá que esté muerto ese huevón</td>\n",
       "      <td>6</td>\n",
       "      <td>32</td>\n",
       "      <td>32</td>\n",
       "    </tr>\n",
       "    <tr>\n",
       "      <th>4</th>\n",
       "      <td>Qué rico, lechero eres</td>\n",
       "      <td>2</td>\n",
       "      <td>Positive</td>\n",
       "      <td>Qué rico  lechero eres</td>\n",
       "      <td>4</td>\n",
       "      <td>23</td>\n",
       "      <td>23</td>\n",
       "    </tr>\n",
       "  </tbody>\n",
       "</table>\n",
       "</div>"
      ],
      "text/plain": [
       "                               text  label label_name  \\\n",
       "0         Nada de llantos, Ambrosio      0   Negative   \n",
       "1              Ay, pobre, qué piña      0   Negative   \n",
       "2                405 -Soy muy viejo      0   Negative   \n",
       "3  ojalá que esté muerto ese huevón      0   Negative   \n",
       "4           Qué rico, lechero eres      2   Positive   \n",
       "\n",
       "                     tokenized_text  sent_token_length  char_count  \\\n",
       "0         Nada de llantos  Ambrosio                  4          25   \n",
       "1              Ay  pobre  qué piña                  4          20   \n",
       "2                405  Soy muy viejo                  4          18   \n",
       "3  ojalá que esté muerto ese huevón                  6          32   \n",
       "4           Qué rico  lechero eres                  4          23   \n",
       "\n",
       "   Character Count  \n",
       "0               25  \n",
       "1               20  \n",
       "2               18  \n",
       "3               32  \n",
       "4               23  "
      ]
     },
     "execution_count": 15,
     "metadata": {},
     "output_type": "execute_result"
    }
   ],
   "source": [
    "df = ds['train'].to_pandas()\n",
    "df.head()"
   ]
  },
  {
   "cell_type": "code",
   "execution_count": 16,
   "id": "7c0615c2",
   "metadata": {},
   "outputs": [],
   "source": [
    "# encode label and mapping label name\n",
    "#df[\"label\"] = df[\"label\"].apply(lambda x: label_encode(x))\n",
    "df[\"label_name\"] = df[\"label\"].apply(lambda x: label2name(x))"
   ]
  },
  {
   "cell_type": "code",
   "execution_count": 17,
   "id": "4c00ccd4",
   "metadata": {},
   "outputs": [],
   "source": [
    "# clean text, lowercase and remove punk\n",
    "#df[\"text\"] = df[\"text\"].apply(lambda x: remove_punct(clean(remove_emoji(x).lower())[0][0]))"
   ]
  },
  {
   "cell_type": "code",
   "execution_count": 18,
   "id": "05636464",
   "metadata": {},
   "outputs": [
    {
     "data": {
      "text/html": [
       "<div>\n",
       "<style scoped>\n",
       "    .dataframe tbody tr th:only-of-type {\n",
       "        vertical-align: middle;\n",
       "    }\n",
       "\n",
       "    .dataframe tbody tr th {\n",
       "        vertical-align: top;\n",
       "    }\n",
       "\n",
       "    .dataframe thead th {\n",
       "        text-align: right;\n",
       "    }\n",
       "</style>\n",
       "<table border=\"1\" class=\"dataframe\">\n",
       "  <thead>\n",
       "    <tr style=\"text-align: right;\">\n",
       "      <th></th>\n",
       "      <th>text</th>\n",
       "      <th>label</th>\n",
       "      <th>label_name</th>\n",
       "      <th>tokenized_text</th>\n",
       "      <th>sent_token_length</th>\n",
       "      <th>char_count</th>\n",
       "      <th>Character Count</th>\n",
       "    </tr>\n",
       "  </thead>\n",
       "  <tbody>\n",
       "    <tr>\n",
       "      <th>0</th>\n",
       "      <td>Nada de llantos, Ambrosio</td>\n",
       "      <td>0</td>\n",
       "      <td>Negative</td>\n",
       "      <td>Nada de llantos  Ambrosio</td>\n",
       "      <td>4</td>\n",
       "      <td>25</td>\n",
       "      <td>25</td>\n",
       "    </tr>\n",
       "    <tr>\n",
       "      <th>1</th>\n",
       "      <td>Ay, pobre, qué piña</td>\n",
       "      <td>0</td>\n",
       "      <td>Negative</td>\n",
       "      <td>Ay  pobre  qué piña</td>\n",
       "      <td>4</td>\n",
       "      <td>20</td>\n",
       "      <td>20</td>\n",
       "    </tr>\n",
       "    <tr>\n",
       "      <th>2</th>\n",
       "      <td>405 -Soy muy viejo</td>\n",
       "      <td>0</td>\n",
       "      <td>Negative</td>\n",
       "      <td>405  Soy muy viejo</td>\n",
       "      <td>4</td>\n",
       "      <td>18</td>\n",
       "      <td>18</td>\n",
       "    </tr>\n",
       "    <tr>\n",
       "      <th>3</th>\n",
       "      <td>ojalá que esté muerto ese huevón</td>\n",
       "      <td>0</td>\n",
       "      <td>Negative</td>\n",
       "      <td>ojalá que esté muerto ese huevón</td>\n",
       "      <td>6</td>\n",
       "      <td>32</td>\n",
       "      <td>32</td>\n",
       "    </tr>\n",
       "    <tr>\n",
       "      <th>4</th>\n",
       "      <td>Qué rico, lechero eres</td>\n",
       "      <td>2</td>\n",
       "      <td>Positive</td>\n",
       "      <td>Qué rico  lechero eres</td>\n",
       "      <td>4</td>\n",
       "      <td>23</td>\n",
       "      <td>23</td>\n",
       "    </tr>\n",
       "  </tbody>\n",
       "</table>\n",
       "</div>"
      ],
      "text/plain": [
       "                               text  label label_name  \\\n",
       "0         Nada de llantos, Ambrosio      0   Negative   \n",
       "1              Ay, pobre, qué piña      0   Negative   \n",
       "2                405 -Soy muy viejo      0   Negative   \n",
       "3  ojalá que esté muerto ese huevón      0   Negative   \n",
       "4           Qué rico, lechero eres      2   Positive   \n",
       "\n",
       "                     tokenized_text  sent_token_length  char_count  \\\n",
       "0         Nada de llantos  Ambrosio                  4          25   \n",
       "1              Ay  pobre  qué piña                  4          20   \n",
       "2                405  Soy muy viejo                  4          18   \n",
       "3  ojalá que esté muerto ese huevón                  6          32   \n",
       "4           Qué rico  lechero eres                  4          23   \n",
       "\n",
       "   Character Count  \n",
       "0               25  \n",
       "1               20  \n",
       "2               18  \n",
       "3               32  \n",
       "4               23  "
      ]
     },
     "execution_count": 18,
     "metadata": {},
     "output_type": "execute_result"
    }
   ],
   "source": [
    "df.head()"
   ]
  },
  {
   "cell_type": "code",
   "execution_count": 19,
   "id": "8299b318-0204-49cb-bf9a-14834e7796cb",
   "metadata": {
    "tags": []
   },
   "outputs": [
    {
     "name": "stderr",
     "output_type": "stream",
     "text": [
      "Some weights of RobertaForSequenceClassification were not initialized from the model checkpoint at pysentimiento/robertuito-base-uncased and are newly initialized: ['classifier.dense.weight', 'classifier.out_proj.bias', 'classifier.dense.bias', 'classifier.out_proj.weight']\n",
      "You should probably TRAIN this model on a down-stream task to be able to use it for predictions and inference.\n"
     ]
    }
   ],
   "source": [
    "from transformers import AutoModelForSequenceClassification, AutoTokenizer\n",
    "\n",
    "model_name = \"pysentimiento/robertuito-base-uncased\"\n",
    "\n",
    "model = AutoModelForSequenceClassification.from_pretrained(\n",
    "    model_name,\n",
    "    num_labels=3\n",
    ")\n",
    "tokenizer = AutoTokenizer.from_pretrained(model_name)\n",
    "tokenizer.model_max_length = 128"
   ]
  },
  {
   "cell_type": "code",
   "execution_count": 20,
   "id": "da7b8124",
   "metadata": {},
   "outputs": [],
   "source": [
    "# columns = ['input_ids', 'attention_mask', 'label']\n",
    "# ds.set_format(type='torch', columns=columns)\n",
    "# ds"
   ]
  },
  {
   "cell_type": "code",
   "execution_count": null,
   "id": "ae25e978",
   "metadata": {},
   "outputs": [],
   "source": []
  },
  {
   "cell_type": "code",
   "execution_count": 21,
   "id": "8ed569d2-67ca-405d-aa88-3e6de71a2356",
   "metadata": {
    "tags": []
   },
   "outputs": [
    {
     "data": {
      "application/vnd.jupyter.widget-view+json": {
       "model_id": "2e0e2f63aead4e4d93fdf37ae6cc9b20",
       "version_major": 2,
       "version_minor": 0
      },
      "text/plain": [
       "Map:   0%|          | 0/469 [00:00<?, ? examples/s]"
      ]
     },
     "metadata": {},
     "output_type": "display_data"
    },
    {
     "data": {
      "application/vnd.jupyter.widget-view+json": {
       "model_id": "52749cc4d84b4a9a87662d564ca053e9",
       "version_major": 2,
       "version_minor": 0
      },
      "text/plain": [
       "Map:   0%|          | 0/59 [00:00<?, ? examples/s]"
      ]
     },
     "metadata": {},
     "output_type": "display_data"
    },
    {
     "data": {
      "application/vnd.jupyter.widget-view+json": {
       "model_id": "a229cf24970b4222b6d51da6136fa3c3",
       "version_major": 2,
       "version_minor": 0
      },
      "text/plain": [
       "Map:   0%|          | 0/53 [00:00<?, ? examples/s]"
      ]
     },
     "metadata": {},
     "output_type": "display_data"
    }
   ],
   "source": [
    "from pysentimiento.preprocessing import preprocess_tweet\n",
    "preprocessed_ds = ds.map(lambda ex: {\"text\": preprocess_tweet(ex[\"text\"], lang=\"es\")})"
   ]
  },
  {
   "cell_type": "code",
   "execution_count": 22,
   "id": "99a78d85-4029-4621-b692-f63f396a2f6f",
   "metadata": {
    "tags": []
   },
   "outputs": [
    {
     "data": {
      "application/vnd.jupyter.widget-view+json": {
       "model_id": "d4121de383ab4660bc6d0524b04bf763",
       "version_major": 2,
       "version_minor": 0
      },
      "text/plain": [
       "Map:   0%|          | 0/469 [00:00<?, ? examples/s]"
      ]
     },
     "metadata": {},
     "output_type": "display_data"
    },
    {
     "data": {
      "application/vnd.jupyter.widget-view+json": {
       "model_id": "2851aeed3dc94f1b8d4b7da09843f123",
       "version_major": 2,
       "version_minor": 0
      },
      "text/plain": [
       "Map:   0%|          | 0/59 [00:00<?, ? examples/s]"
      ]
     },
     "metadata": {},
     "output_type": "display_data"
    },
    {
     "data": {
      "application/vnd.jupyter.widget-view+json": {
       "model_id": "662062e4a4d043b485aabd0c5f6fad0b",
       "version_major": 2,
       "version_minor": 0
      },
      "text/plain": [
       "Map:   0%|          | 0/53 [00:00<?, ? examples/s]"
      ]
     },
     "metadata": {},
     "output_type": "display_data"
    }
   ],
   "source": [
    "tokenized_ds = preprocessed_ds.map(\n",
    "    lambda batch: tokenizer(\n",
    "        batch[\"text\"], padding=True, truncation=True\n",
    "        ),\n",
    "    batched=True, batch_size=32\n",
    ")"
   ]
  },
  {
   "cell_type": "code",
   "execution_count": 23,
   "id": "1dd95bf5",
   "metadata": {},
   "outputs": [
    {
     "data": {
      "text/plain": [
       "DatasetDict({\n",
       "    train: Dataset({\n",
       "        features: ['text', 'label', 'label_name', 'tokenized_text', 'sent_token_length', 'char_count', 'Character Count', 'input_ids', 'token_type_ids', 'attention_mask'],\n",
       "        num_rows: 469\n",
       "    })\n",
       "    validation: Dataset({\n",
       "        features: ['text', 'label', 'label_name', 'tokenized_text', 'sent_token_length', 'char_count', 'Character Count', 'input_ids', 'token_type_ids', 'attention_mask'],\n",
       "        num_rows: 59\n",
       "    })\n",
       "    test: Dataset({\n",
       "        features: ['text', 'label', 'label_name', 'tokenized_text', 'sent_token_length', 'char_count', 'Character Count', 'input_ids', 'token_type_ids', 'attention_mask'],\n",
       "        num_rows: 53\n",
       "    })\n",
       "})"
      ]
     },
     "execution_count": 23,
     "metadata": {},
     "output_type": "execute_result"
    }
   ],
   "source": [
    "tokenized_ds"
   ]
  },
  {
   "cell_type": "code",
   "execution_count": 24,
   "id": "d3634bf4",
   "metadata": {},
   "outputs": [
    {
     "data": {
      "text/plain": [
       "[0, 817, 413, 13090, 2194, 1848, 937, 414, 2, 1, 1, 1, 1, 1]"
      ]
     },
     "execution_count": 24,
     "metadata": {},
     "output_type": "execute_result"
    }
   ],
   "source": [
    "tokenized_ds['train']['input_ids'][0]"
   ]
  },
  {
   "cell_type": "code",
   "execution_count": 25,
   "id": "7c23fbba",
   "metadata": {},
   "outputs": [
    {
     "data": {
      "text/plain": [
       "[1, 1, 1, 1, 1, 1, 1, 1, 1, 0, 0, 0, 0, 0]"
      ]
     },
     "execution_count": 25,
     "metadata": {},
     "output_type": "execute_result"
    }
   ],
   "source": [
    "tokenized_ds['train']['attention_mask'][0]"
   ]
  },
  {
   "cell_type": "code",
   "execution_count": 26,
   "id": "f6d33cad",
   "metadata": {},
   "outputs": [
    {
     "data": {
      "text/plain": [
       "'Nada de llantos, Ambrosio'"
      ]
     },
     "execution_count": 26,
     "metadata": {},
     "output_type": "execute_result"
    }
   ],
   "source": [
    "tokenized_ds['train']['text'][0]"
   ]
  },
  {
   "cell_type": "code",
   "execution_count": 27,
   "id": "c88c53d1-0c5b-4b97-910a-75f6991d2d6f",
   "metadata": {
    "tags": []
   },
   "outputs": [],
   "source": [
    "#!pip install ipdb"
   ]
  },
  {
   "cell_type": "code",
   "execution_count": 28,
   "id": "469074ed-9e65-4a9e-913c-6151f5c5d8b3",
   "metadata": {},
   "outputs": [],
   "source": [
    "#import torch\n",
    "#device = \"cuda\" if torch.cuda.is_available() else \"cpu\"\n",
    "#model.cuda()"
   ]
  },
  {
   "cell_type": "code",
   "execution_count": 29,
   "id": "5d56e2f2-159e-4ffe-86fc-3659ed308b89",
   "metadata": {},
   "outputs": [],
   "source": [
    "from transformers import TrainingArguments, Trainer, DataCollatorWithPadding\n",
    "\n",
    "training_args = TrainingArguments(\n",
    "    per_device_train_batch_size=32,\n",
    "    output_dir=\"test_trainer\",\n",
    "    do_eval=True,\n",
    "    evaluation_strategy=\"epoch\",\n",
    "    num_train_epochs=5,\n",
    ")\n",
    "\n",
    "trainer = Trainer(\n",
    "    model=model,\n",
    "    args=training_args,\n",
    "    train_dataset=tokenized_ds[\"train\"],\n",
    "    eval_dataset=tokenized_ds[\"validation\"],\n",
    "    compute_metrics=compute_metrics,\n",
    "    data_collator=DataCollatorWithPadding(tokenizer=tokenizer),\n",
    ")"
   ]
  },
  {
   "cell_type": "code",
   "execution_count": 30,
   "id": "6be1933a-b930-410d-91ff-646bdcb9a80f",
   "metadata": {
    "tags": []
   },
   "outputs": [
    {
     "name": "stdout",
     "output_type": "stream",
     "text": [
      "{'eval_loss': 0.8873393535614014, 'eval_f1': 0.23913043478260868, 'eval_recall': 0.3333333333333333, 'eval_runtime': 0.1103, 'eval_samples_per_second': 534.93, 'eval_steps_per_second': 72.533, 'epoch': 1.0}\n",
      "{'eval_loss': 0.8017032146453857, 'eval_f1': 0.43240740740740735, 'eval_recall': 0.4401154401154401, 'eval_runtime': 0.1031, 'eval_samples_per_second': 572.369, 'eval_steps_per_second': 77.609, 'epoch': 2.0}\n",
      "{'eval_loss': 0.752916693687439, 'eval_f1': 0.5872486772486772, 'eval_recall': 0.5746753246753247, 'eval_runtime': 0.1074, 'eval_samples_per_second': 549.55, 'eval_steps_per_second': 74.515, 'epoch': 3.0}\n",
      "{'eval_loss': 0.7457030415534973, 'eval_f1': 0.6005797101449275, 'eval_recall': 0.5923520923520923, 'eval_runtime': 0.1088, 'eval_samples_per_second': 542.086, 'eval_steps_per_second': 73.503, 'epoch': 4.0}\n",
      "{'eval_loss': 0.7489935755729675, 'eval_f1': 0.6128801796284956, 'eval_recall': 0.6024531024531025, 'eval_runtime': 0.1063, 'eval_samples_per_second': 555.085, 'eval_steps_per_second': 75.266, 'epoch': 5.0}\n",
      "{'train_runtime': 8.3758, 'train_samples_per_second': 279.973, 'train_steps_per_second': 8.954, 'train_loss': 0.5435673014322917, 'epoch': 5.0}\n"
     ]
    },
    {
     "data": {
      "text/plain": [
       "TrainOutput(global_step=75, training_loss=0.5435673014322917, metrics={'train_runtime': 8.3758, 'train_samples_per_second': 279.973, 'train_steps_per_second': 8.954, 'train_loss': 0.5435673014322917, 'epoch': 5.0})"
      ]
     },
     "execution_count": 30,
     "metadata": {},
     "output_type": "execute_result"
    }
   ],
   "source": [
    "trainer.train()"
   ]
  },
  {
   "cell_type": "code",
   "execution_count": 31,
   "id": "f2c407d3-9fa8-402c-85eb-7061a55c9984",
   "metadata": {
    "tags": []
   },
   "outputs": [],
   "source": [
    "#Test on validation set"
   ]
  },
  {
   "cell_type": "code",
   "execution_count": 32,
   "id": "34fec069",
   "metadata": {},
   "outputs": [
    {
     "name": "stdout",
     "output_type": "stream",
     "text": [
      "{'eval_loss': 0.825030505657196, 'eval_f1': 0.6683418222976797, 'eval_recall': 0.6626262626262626, 'eval_runtime': 0.0683, 'eval_samples_per_second': 776.278, 'eval_steps_per_second': 102.527, 'epoch': 5.0}\n"
     ]
    },
    {
     "data": {
      "text/plain": [
       "{'eval_loss': 0.825030505657196,\n",
       " 'eval_f1': 0.6683418222976797,\n",
       " 'eval_recall': 0.6626262626262626,\n",
       " 'eval_runtime': 0.0683,\n",
       " 'eval_samples_per_second': 776.278,\n",
       " 'eval_steps_per_second': 102.527,\n",
       " 'epoch': 5.0}"
      ]
     },
     "execution_count": 32,
     "metadata": {},
     "output_type": "execute_result"
    }
   ],
   "source": [
    "trainer.evaluate(tokenized_ds[\"test\"])"
   ]
  },
  {
   "cell_type": "code",
   "execution_count": 33,
   "id": "57814e98",
   "metadata": {},
   "outputs": [],
   "source": [
    "#model.load_state_dict(torch.load(f'./_BERT_epoch_3.model', map_location=torch.device('cpu')))"
   ]
  },
  {
   "cell_type": "code",
   "execution_count": 34,
   "id": "ed4ae6f3",
   "metadata": {},
   "outputs": [],
   "source": [
    "#Error Analisys"
   ]
  },
  {
   "cell_type": "code",
   "execution_count": 35,
   "id": "46bbd55b",
   "metadata": {},
   "outputs": [],
   "source": [
    "val_df = ds['validation'].to_pandas()\n",
    "#val_df"
   ]
  },
  {
   "cell_type": "code",
   "execution_count": 36,
   "id": "f9f23107",
   "metadata": {},
   "outputs": [],
   "source": [
    "from tqdm.notebook import tqdm"
   ]
  },
  {
   "cell_type": "code",
   "execution_count": 37,
   "id": "737a62b3",
   "metadata": {},
   "outputs": [],
   "source": [
    "# step by step predictions on dataframe\n",
    "# We do this to view predictions in the pandas dataframe and easily filter them and perform error analysis.\n",
    "pred_final = []\n",
    "\n",
    "# for i, row in tqdm(val_df.iterrows(), total=val_df.shape[0]):\n",
    "#     predictions = []\n",
    "\n",
    "#     text = row[\"text\"]\n",
    "#     encoded_data_test_single = tokenizer.batch_encode_plus([text], \n",
    "#     add_special_tokens=config.add_special_tokens, \n",
    "#     return_attention_mask=config.return_attention_mask, \n",
    "#     pad_to_max_length=config.pad_to_max_length, \n",
    "#     max_length=config.seq_length,\n",
    "#     return_tensors=config.return_tensors\n",
    "#     )\n",
    "#     input_ids_test = encoded_data_test_single['input_ids']\n",
    "#     attention_masks_test = encoded_data_test_single['attention_mask']\n",
    "\n",
    "    \n",
    "#     inputs = {'input_ids':      input_ids_test.to(device),\n",
    "#               'attention_mask':attention_masks_test.to(device),\n",
    "#              }\n",
    "\n",
    "#     with torch.no_grad():        \n",
    "#         outputs = model(**inputs)\n",
    "    \n",
    "#     logits = outputs[0]\n",
    "#     logits = logits.detach().cpu().numpy()\n",
    "#     predictions.append(logits)\n",
    "#     predictions = np.concatenate(predictions, axis=0)\n",
    "#     pred_final.append(np.argmax(predictions, axis=1).flatten()[0])"
   ]
  },
  {
   "cell_type": "code",
   "execution_count": 38,
   "id": "e2d5ea48-4899-4cb3-9027-0ea1cf46c0e0",
   "metadata": {},
   "outputs": [
    {
     "data": {
      "text/html": [
       "<div>\n",
       "<style scoped>\n",
       "    .dataframe tbody tr th:only-of-type {\n",
       "        vertical-align: middle;\n",
       "    }\n",
       "\n",
       "    .dataframe tbody tr th {\n",
       "        vertical-align: top;\n",
       "    }\n",
       "\n",
       "    .dataframe thead th {\n",
       "        text-align: right;\n",
       "    }\n",
       "</style>\n",
       "<table border=\"1\" class=\"dataframe\">\n",
       "  <thead>\n",
       "    <tr style=\"text-align: right;\">\n",
       "      <th></th>\n",
       "      <th>text</th>\n",
       "      <th>label</th>\n",
       "      <th>label_name</th>\n",
       "      <th>tokenized_text</th>\n",
       "      <th>sent_token_length</th>\n",
       "      <th>char_count</th>\n",
       "      <th>Character Count</th>\n",
       "    </tr>\n",
       "  </thead>\n",
       "  <tbody>\n",
       "    <tr>\n",
       "      <th>55</th>\n",
       "      <td>Roci cacha riquísimo</td>\n",
       "      <td>2</td>\n",
       "      <td>Positive</td>\n",
       "      <td>Roci cacha riquísimo</td>\n",
       "      <td>3</td>\n",
       "      <td>20</td>\n",
       "      <td>20</td>\n",
       "    </tr>\n",
       "    <tr>\n",
       "      <th>73</th>\n",
       "      <td>No vale la pena</td>\n",
       "      <td>0</td>\n",
       "      <td>Negative</td>\n",
       "      <td>No vale la pena</td>\n",
       "      <td>4</td>\n",
       "      <td>15</td>\n",
       "      <td>15</td>\n",
       "    </tr>\n",
       "    <tr>\n",
       "      <th>33</th>\n",
       "      <td>No me toques, caracho</td>\n",
       "      <td>0</td>\n",
       "      <td>Negative</td>\n",
       "      <td>No me toques  caracho</td>\n",
       "      <td>4</td>\n",
       "      <td>21</td>\n",
       "      <td>21</td>\n",
       "    </tr>\n",
       "    <tr>\n",
       "      <th>445</th>\n",
       "      <td>mi vieja viene volando y tiene pico</td>\n",
       "      <td>0</td>\n",
       "      <td>Negative</td>\n",
       "      <td>mi vieja viene volando y tiene pico</td>\n",
       "      <td>7</td>\n",
       "      <td>35</td>\n",
       "      <td>35</td>\n",
       "    </tr>\n",
       "    <tr>\n",
       "      <th>425</th>\n",
       "      <td>Sería mostro, flaco</td>\n",
       "      <td>2</td>\n",
       "      <td>Positive</td>\n",
       "      <td>Sería mostro  flaco</td>\n",
       "      <td>3</td>\n",
       "      <td>20</td>\n",
       "      <td>20</td>\n",
       "    </tr>\n",
       "    <tr>\n",
       "      <th>229</th>\n",
       "      <td>Vamos al toque</td>\n",
       "      <td>1</td>\n",
       "      <td>Neutral</td>\n",
       "      <td>Vamos al toque</td>\n",
       "      <td>3</td>\n",
       "      <td>14</td>\n",
       "      <td>14</td>\n",
       "    </tr>\n",
       "    <tr>\n",
       "      <th>210</th>\n",
       "      <td>Aliancista y la conchatumadre</td>\n",
       "      <td>0</td>\n",
       "      <td>Negative</td>\n",
       "      <td>Aliancista y la conchatumadre</td>\n",
       "      <td>4</td>\n",
       "      <td>29</td>\n",
       "      <td>29</td>\n",
       "    </tr>\n",
       "    <tr>\n",
       "      <th>9</th>\n",
       "      <td>Fúmate un troncho y ándate a dormir</td>\n",
       "      <td>0</td>\n",
       "      <td>Negative</td>\n",
       "      <td>Fúmate un troncho y ándate a dormir</td>\n",
       "      <td>7</td>\n",
       "      <td>35</td>\n",
       "      <td>35</td>\n",
       "    </tr>\n",
       "    <tr>\n",
       "      <th>352</th>\n",
       "      <td>Si la vieja se despierta, nos mata</td>\n",
       "      <td>0</td>\n",
       "      <td>Negative</td>\n",
       "      <td>Si la vieja se despierta  nos mata</td>\n",
       "      <td>7</td>\n",
       "      <td>35</td>\n",
       "      <td>35</td>\n",
       "    </tr>\n",
       "    <tr>\n",
       "      <th>70</th>\n",
       "      <td>¿cómo? es que no tengo plata</td>\n",
       "      <td>0</td>\n",
       "      <td>Negative</td>\n",
       "      <td>¿cómo  es que no tengo plata</td>\n",
       "      <td>6</td>\n",
       "      <td>28</td>\n",
       "      <td>28</td>\n",
       "    </tr>\n",
       "    <tr>\n",
       "      <th>78</th>\n",
       "      <td>pero estoy aguja on</td>\n",
       "      <td>0</td>\n",
       "      <td>Negative</td>\n",
       "      <td>pero estoy aguja on</td>\n",
       "      <td>4</td>\n",
       "      <td>20</td>\n",
       "      <td>20</td>\n",
       "    </tr>\n",
       "    <tr>\n",
       "      <th>442</th>\n",
       "      <td>Parecías loco</td>\n",
       "      <td>0</td>\n",
       "      <td>Negative</td>\n",
       "      <td>Parecías loco</td>\n",
       "      <td>2</td>\n",
       "      <td>13</td>\n",
       "      <td>13</td>\n",
       "    </tr>\n",
       "    <tr>\n",
       "      <th>408</th>\n",
       "      <td>Que te cache un burro ciego dijo</td>\n",
       "      <td>0</td>\n",
       "      <td>Negative</td>\n",
       "      <td>Que te cache un burro ciego dijo</td>\n",
       "      <td>7</td>\n",
       "      <td>34</td>\n",
       "      <td>34</td>\n",
       "    </tr>\n",
       "    <tr>\n",
       "      <th>429</th>\n",
       "      <td>ojalá que esté muerto ese huevón</td>\n",
       "      <td>0</td>\n",
       "      <td>Negative</td>\n",
       "      <td>ojalá que esté muerto ese huevón</td>\n",
       "      <td>6</td>\n",
       "      <td>32</td>\n",
       "      <td>32</td>\n",
       "    </tr>\n",
       "    <tr>\n",
       "      <th>456</th>\n",
       "      <td>No tengo plata</td>\n",
       "      <td>0</td>\n",
       "      <td>Negative</td>\n",
       "      <td>No tengo plata</td>\n",
       "      <td>3</td>\n",
       "      <td>14</td>\n",
       "      <td>14</td>\n",
       "    </tr>\n",
       "    <tr>\n",
       "      <th>418</th>\n",
       "      <td>Tú tienes buena labia</td>\n",
       "      <td>2</td>\n",
       "      <td>Positive</td>\n",
       "      <td>Tú tienes buena labia</td>\n",
       "      <td>4</td>\n",
       "      <td>21</td>\n",
       "      <td>21</td>\n",
       "    </tr>\n",
       "    <tr>\n",
       "      <th>157</th>\n",
       "      <td>Creo que mejor zafo dijo Peter</td>\n",
       "      <td>1</td>\n",
       "      <td>Neutral</td>\n",
       "      <td>Creo que mejor zafo dijo Peter</td>\n",
       "      <td>6</td>\n",
       "      <td>32</td>\n",
       "      <td>32</td>\n",
       "    </tr>\n",
       "    <tr>\n",
       "      <th>93</th>\n",
       "      <td>Él fue muy ambicioso desde chico</td>\n",
       "      <td>2</td>\n",
       "      <td>Positive</td>\n",
       "      <td>Él fue muy ambicioso desde chico</td>\n",
       "      <td>6</td>\n",
       "      <td>32</td>\n",
       "      <td>32</td>\n",
       "    </tr>\n",
       "    <tr>\n",
       "      <th>426</th>\n",
       "      <td>Por el trago, por la pichicata, quiero decir</td>\n",
       "      <td>1</td>\n",
       "      <td>Neutral</td>\n",
       "      <td>Por el trago  por la pichicata  quiero decir</td>\n",
       "      <td>8</td>\n",
       "      <td>44</td>\n",
       "      <td>44</td>\n",
       "    </tr>\n",
       "    <tr>\n",
       "      <th>77</th>\n",
       "      <td>Bailaron cogidos de la cintura</td>\n",
       "      <td>2</td>\n",
       "      <td>Positive</td>\n",
       "      <td>Bailaron cogidos de la cintura</td>\n",
       "      <td>5</td>\n",
       "      <td>30</td>\n",
       "      <td>30</td>\n",
       "    </tr>\n",
       "    <tr>\n",
       "      <th>0</th>\n",
       "      <td>Nada de llantos, Ambrosio</td>\n",
       "      <td>0</td>\n",
       "      <td>Negative</td>\n",
       "      <td>Nada de llantos  Ambrosio</td>\n",
       "      <td>4</td>\n",
       "      <td>25</td>\n",
       "      <td>25</td>\n",
       "    </tr>\n",
       "    <tr>\n",
       "      <th>464</th>\n",
       "      <td>Qué tal raza, papá</td>\n",
       "      <td>0</td>\n",
       "      <td>Negative</td>\n",
       "      <td>Qué tal raza  papá</td>\n",
       "      <td>4</td>\n",
       "      <td>18</td>\n",
       "      <td>18</td>\n",
       "    </tr>\n",
       "    <tr>\n",
       "      <th>11</th>\n",
       "      <td>Movía mi pelota, flaco</td>\n",
       "      <td>2</td>\n",
       "      <td>Positive</td>\n",
       "      <td>Movía mi pelota  flaco</td>\n",
       "      <td>4</td>\n",
       "      <td>22</td>\n",
       "      <td>22</td>\n",
       "    </tr>\n",
       "    <tr>\n",
       "      <th>247</th>\n",
       "      <td>Las cholas huyen</td>\n",
       "      <td>0</td>\n",
       "      <td>Negative</td>\n",
       "      <td>Las cholas huyen</td>\n",
       "      <td>3</td>\n",
       "      <td>17</td>\n",
       "      <td>17</td>\n",
       "    </tr>\n",
       "    <tr>\n",
       "      <th>76</th>\n",
       "      <td>Preferí dejarte cancha libre con la cubana</td>\n",
       "      <td>2</td>\n",
       "      <td>Positive</td>\n",
       "      <td>Preferí dejarte cancha libre con la cubana</td>\n",
       "      <td>7</td>\n",
       "      <td>42</td>\n",
       "      <td>42</td>\n",
       "    </tr>\n",
       "    <tr>\n",
       "      <th>208</th>\n",
       "      <td>Eres un vago de mierda, chino</td>\n",
       "      <td>0</td>\n",
       "      <td>Negative</td>\n",
       "      <td>Eres un vago de mierda  chino</td>\n",
       "      <td>6</td>\n",
       "      <td>30</td>\n",
       "      <td>30</td>\n",
       "    </tr>\n",
       "    <tr>\n",
       "      <th>440</th>\n",
       "      <td>A diez minutos a pata</td>\n",
       "      <td>1</td>\n",
       "      <td>Neutral</td>\n",
       "      <td>A diez minutos a pata</td>\n",
       "      <td>5</td>\n",
       "      <td>21</td>\n",
       "      <td>21</td>\n",
       "    </tr>\n",
       "    <tr>\n",
       "      <th>75</th>\n",
       "      <td>Escúchame bien, serrano conchatumadre</td>\n",
       "      <td>0</td>\n",
       "      <td>Negative</td>\n",
       "      <td>Escúchame bien  serrano conchatumadre</td>\n",
       "      <td>4</td>\n",
       "      <td>37</td>\n",
       "      <td>37</td>\n",
       "    </tr>\n",
       "    <tr>\n",
       "      <th>30</th>\n",
       "      <td>Hablaba y gemía: -Ay</td>\n",
       "      <td>2</td>\n",
       "      <td>Positive</td>\n",
       "      <td>Hablaba y gemía   Ay</td>\n",
       "      <td>4</td>\n",
       "      <td>20</td>\n",
       "      <td>20</td>\n",
       "    </tr>\n",
       "    <tr>\n",
       "      <th>180</th>\n",
       "      <td>Todos los días iba a comprar como un huevón</td>\n",
       "      <td>0</td>\n",
       "      <td>Negative</td>\n",
       "      <td>Todos los días iba a comprar como un huevón</td>\n",
       "      <td>9</td>\n",
       "      <td>43</td>\n",
       "      <td>43</td>\n",
       "    </tr>\n",
       "  </tbody>\n",
       "</table>\n",
       "</div>"
      ],
      "text/plain": [
       "                                             text  label label_name  \\\n",
       "55                           Roci cacha riquísimo      2   Positive   \n",
       "73                                No vale la pena      0   Negative   \n",
       "33                          No me toques, caracho      0   Negative   \n",
       "445           mi vieja viene volando y tiene pico      0   Negative   \n",
       "425                          Sería mostro, flaco      2   Positive   \n",
       "229                                Vamos al toque      1    Neutral   \n",
       "210                 Aliancista y la conchatumadre      0   Negative   \n",
       "9             Fúmate un troncho y ándate a dormir      0   Negative   \n",
       "352           Si la vieja se despierta, nos mata      0   Negative   \n",
       "70                   ¿cómo? es que no tengo plata      0   Negative   \n",
       "78                           pero estoy aguja on      0   Negative   \n",
       "442                                 Parecías loco      0   Negative   \n",
       "408            Que te cache un burro ciego dijo      0   Negative   \n",
       "429              ojalá que esté muerto ese huevón      0   Negative   \n",
       "456                                No tengo plata      0   Negative   \n",
       "418                         Tú tienes buena labia      2   Positive   \n",
       "157              Creo que mejor zafo dijo Peter      1    Neutral   \n",
       "93               Él fue muy ambicioso desde chico      2   Positive   \n",
       "426  Por el trago, por la pichicata, quiero decir      1    Neutral   \n",
       "77                 Bailaron cogidos de la cintura      2   Positive   \n",
       "0                       Nada de llantos, Ambrosio      0   Negative   \n",
       "464                            Qué tal raza, papá      0   Negative   \n",
       "11                         Movía mi pelota, flaco      2   Positive   \n",
       "247                             Las cholas huyen      0   Negative   \n",
       "76     Preferí dejarte cancha libre con la cubana      2   Positive   \n",
       "208                Eres un vago de mierda, chino      0   Negative   \n",
       "440                         A diez minutos a pata      1    Neutral   \n",
       "75          Escúchame bien, serrano conchatumadre      0   Negative   \n",
       "30                           Hablaba y gemía: -Ay      2   Positive   \n",
       "180   Todos los días iba a comprar como un huevón      0   Negative   \n",
       "\n",
       "                                   tokenized_text  sent_token_length  \\\n",
       "55                           Roci cacha riquísimo                  3   \n",
       "73                                No vale la pena                  4   \n",
       "33                          No me toques  caracho                  4   \n",
       "445           mi vieja viene volando y tiene pico                  7   \n",
       "425                          Sería mostro  flaco                  3   \n",
       "229                                Vamos al toque                  3   \n",
       "210                 Aliancista y la conchatumadre                  4   \n",
       "9             Fúmate un troncho y ándate a dormir                  7   \n",
       "352           Si la vieja se despierta  nos mata                  7   \n",
       "70                   ¿cómo  es que no tengo plata                  6   \n",
       "78                           pero estoy aguja on                  4   \n",
       "442                                 Parecías loco                  2   \n",
       "408            Que te cache un burro ciego dijo                  7   \n",
       "429              ojalá que esté muerto ese huevón                  6   \n",
       "456                                No tengo plata                  3   \n",
       "418                         Tú tienes buena labia                  4   \n",
       "157              Creo que mejor zafo dijo Peter                  6   \n",
       "93               Él fue muy ambicioso desde chico                  6   \n",
       "426  Por el trago  por la pichicata  quiero decir                  8   \n",
       "77                 Bailaron cogidos de la cintura                  5   \n",
       "0                       Nada de llantos  Ambrosio                  4   \n",
       "464                            Qué tal raza  papá                  4   \n",
       "11                         Movía mi pelota  flaco                  4   \n",
       "247                             Las cholas huyen                  3   \n",
       "76     Preferí dejarte cancha libre con la cubana                  7   \n",
       "208                Eres un vago de mierda  chino                  6   \n",
       "440                         A diez minutos a pata                  5   \n",
       "75          Escúchame bien  serrano conchatumadre                  4   \n",
       "30                           Hablaba y gemía   Ay                  4   \n",
       "180   Todos los días iba a comprar como un huevón                  9   \n",
       "\n",
       "     char_count  Character Count  \n",
       "55           20               20  \n",
       "73           15               15  \n",
       "33           21               21  \n",
       "445          35               35  \n",
       "425          20               20  \n",
       "229          14               14  \n",
       "210          29               29  \n",
       "9            35               35  \n",
       "352          35               35  \n",
       "70           28               28  \n",
       "78           20               20  \n",
       "442          13               13  \n",
       "408          34               34  \n",
       "429          32               32  \n",
       "456          14               14  \n",
       "418          21               21  \n",
       "157          32               32  \n",
       "93           32               32  \n",
       "426          44               44  \n",
       "77           30               30  \n",
       "0            25               25  \n",
       "464          18               18  \n",
       "11           22               22  \n",
       "247          17               17  \n",
       "76           42               42  \n",
       "208          30               30  \n",
       "440          21               21  \n",
       "75           37               37  \n",
       "30           20               20  \n",
       "180          43               43  "
      ]
     },
     "execution_count": 38,
     "metadata": {},
     "output_type": "execute_result"
    }
   ],
   "source": [
    "df.sample(n = 30)"
   ]
  },
  {
   "cell_type": "code",
   "execution_count": 39,
   "id": "82f776a2-9575-4766-8865-70107a87c551",
   "metadata": {},
   "outputs": [],
   "source": [
    "#Inference"
   ]
  },
  {
   "cell_type": "code",
   "execution_count": 40,
   "id": "926977d0",
   "metadata": {},
   "outputs": [],
   "source": [
    "#Evaluate the Model Qualitatively (Human Evaluation)"
   ]
  },
  {
   "cell_type": "code",
   "execution_count": 41,
   "id": "7faa99dc",
   "metadata": {},
   "outputs": [],
   "source": [
    "#Evaluate the Model Quantitatively (with F1 Metric)"
   ]
  },
  {
   "cell_type": "code",
   "execution_count": null,
   "id": "2be445d3",
   "metadata": {},
   "outputs": [],
   "source": []
  },
  {
   "cell_type": "code",
   "execution_count": 42,
   "id": "c839bdd5",
   "metadata": {},
   "outputs": [],
   "source": [
    "texts = ds['test'][0:10]['text']\n",
    "human_baseline_labels = ds['test'][0:10]['label']"
   ]
  },
  {
   "cell_type": "code",
   "execution_count": 43,
   "id": "0ebbb4a1",
   "metadata": {},
   "outputs": [
    {
     "data": {
      "text/plain": [
       "['\\x97Calla, huevón \\x97dijo Gustavo\\x97',\n",
       " 'Pero qué tontito habías sido tú, papacito',\n",
       " 'Ese es mi cachorro',\n",
       " '¿Y qué chucha va a pasar?',\n",
       " 'El panetón es bien rico',\n",
       " '\\x97Ni que yo fuera un gran cojudo, hombre',\n",
       " '\\x97Estás verde, choche',\n",
       " 'Tengo plata',\n",
       " 'Odio la resaca',\n",
       " 'YUTAY:  Yo cuando era chibolo']"
      ]
     },
     "execution_count": 43,
     "metadata": {},
     "output_type": "execute_result"
    }
   ],
   "source": [
    "texts"
   ]
  },
  {
   "cell_type": "code",
   "execution_count": 44,
   "id": "a070557c",
   "metadata": {},
   "outputs": [],
   "source": [
    "#original_model_summaries = []\n",
    "model_classifications = []"
   ]
  },
  {
   "cell_type": "code",
   "execution_count": 45,
   "id": "ab8436a9",
   "metadata": {},
   "outputs": [],
   "source": [
    "for _, text in enumerate(texts):\n",
    "    input_ids = tokenizer(text, return_tensors=\"pt\").input_ids.to('cuda')\n",
    "    logits = model(input_ids).logits\n",
    "    probabilities = logits.softmax(dim=-1).tolist()[0]\n",
    "    model_classifications.append(np.argmax(probabilities).flatten()[0])"
   ]
  },
  {
   "cell_type": "code",
   "execution_count": 46,
   "id": "8a1a671b",
   "metadata": {},
   "outputs": [
    {
     "data": {
      "text/plain": [
       "[0, 0, 2, 0, 2, 0, 0, 1, 0, 1]"
      ]
     },
     "execution_count": 46,
     "metadata": {},
     "output_type": "execute_result"
    }
   ],
   "source": [
    "model_classifications"
   ]
  }
 ],
 "metadata": {
  "kernelspec": {
   "display_name": "Python 3 (ipykernel)",
   "language": "python",
   "name": "python3"
  },
  "language_info": {
   "codemirror_mode": {
    "name": "ipython",
    "version": 3
   },
   "file_extension": ".py",
   "mimetype": "text/x-python",
   "name": "python",
   "nbconvert_exporter": "python",
   "pygments_lexer": "ipython3",
   "version": "3.10.13"
  }
 },
 "nbformat": 4,
 "nbformat_minor": 5
}
