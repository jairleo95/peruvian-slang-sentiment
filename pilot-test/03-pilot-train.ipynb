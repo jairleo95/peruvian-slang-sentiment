{
 "cells": [
  {
   "cell_type": "code",
   "execution_count": 1,
   "id": "955514ed-28d2-422e-8eca-56055de9bc39",
   "metadata": {},
   "outputs": [],
   "source": [
    "#EDA"
   ]
  },
  {
   "cell_type": "code",
   "execution_count": 2,
   "id": "de09e411",
   "metadata": {},
   "outputs": [],
   "source": [
    "import torch"
   ]
  },
  {
   "cell_type": "code",
   "execution_count": 3,
   "id": "5af36065",
   "metadata": {},
   "outputs": [],
   "source": [
    "#!pip install pysentimiento transformers datasets accelerate evaluate"
   ]
  },
  {
   "cell_type": "code",
   "execution_count": null,
   "id": "c16f70f6-f93b-4be5-ac8a-33923bdf44af",
   "metadata": {},
   "outputs": [],
   "source": []
  },
  {
   "cell_type": "code",
   "execution_count": 4,
   "id": "1dcd6c81-eb73-4aa3-aa8c-ac9a46646d8b",
   "metadata": {
    "tags": []
   },
   "outputs": [],
   "source": [
    "import datasets\n",
    "import evaluate"
   ]
  },
  {
   "cell_type": "code",
   "execution_count": 5,
   "id": "ce0ec026-0099-414e-a6bf-a76776f39c3e",
   "metadata": {},
   "outputs": [],
   "source": [
    "import numpy as np\n",
    "from datasets import load_dataset"
   ]
  },
  {
   "cell_type": "code",
   "execution_count": 6,
   "id": "c9fbf152-07de-4cba-84b4-d3d871cb6eb3",
   "metadata": {
    "tags": []
   },
   "outputs": [],
   "source": [
    "import ipywidgets as widgets"
   ]
  },
  {
   "cell_type": "code",
   "execution_count": 7,
   "id": "a001ba7d",
   "metadata": {},
   "outputs": [],
   "source": [
    "#Helper Functions"
   ]
  },
  {
   "cell_type": "code",
   "execution_count": 8,
   "id": "5ba02255",
   "metadata": {},
   "outputs": [],
   "source": [
    "# label to name\n",
    "def label2name(x):\n",
    "    if x == 0:\n",
    "        return \"Negative\"\n",
    "    if x == 1:\n",
    "        return \"Neutral\"\n",
    "    if x == 2:\n",
    "        return \"Positive\""
   ]
  },
  {
   "cell_type": "code",
   "execution_count": 9,
   "id": "6d3164a0-faf4-4a4d-8a78-17b40b00c3f1",
   "metadata": {
    "tags": []
   },
   "outputs": [],
   "source": [
    "\n",
    "f1_metric = evaluate.load(\"f1\")\n",
    "recall_metric = evaluate.load(\"recall\")\n",
    "\n",
    "def compute_metrics (eval_pred):\n",
    "    logits, labels = eval_pred\n",
    "    preds = np.argmax(logits, axis = -1)\n",
    "    \n",
    "    results = {}\n",
    "    results.update(f1_metric.compute(predictions=preds, references = labels, average=\"macro\"))\n",
    "    results.update(recall_metric.compute(predictions=preds, references = labels, average=\"macro\"))\n",
    "    return results"
   ]
  },
  {
   "cell_type": "code",
   "execution_count": 10,
   "id": "0bd8b7bc-ed54-4e65-ba9a-d2835b1abca8",
   "metadata": {
    "tags": []
   },
   "outputs": [],
   "source": [
    "#Read Data\n"
   ]
  },
  {
   "cell_type": "code",
   "execution_count": 11,
   "id": "90c97202-c5c6-484f-850a-46a9ee552251",
   "metadata": {
    "tags": []
   },
   "outputs": [
    {
     "data": {
      "application/vnd.jupyter.widget-view+json": {
       "model_id": "691f993f871f43e19d3e6b08a8819f73",
       "version_major": 2,
       "version_minor": 0
      },
      "text/plain": [
       "Downloading data files:   0%|          | 0/3 [00:00<?, ?it/s]"
      ]
     },
     "metadata": {},
     "output_type": "display_data"
    },
    {
     "data": {
      "application/vnd.jupyter.widget-view+json": {
       "model_id": "6cf81ccf07524363bf62db2489ca6e07",
       "version_major": 2,
       "version_minor": 0
      },
      "text/plain": [
       "Extracting data files:   0%|          | 0/3 [00:00<?, ?it/s]"
      ]
     },
     "metadata": {},
     "output_type": "display_data"
    },
    {
     "data": {
      "application/vnd.jupyter.widget-view+json": {
       "model_id": "73c31f61378d43b18e0c6f04a0ffd926",
       "version_major": 2,
       "version_minor": 0
      },
      "text/plain": [
       "Generating train split: 0 examples [00:00, ? examples/s]"
      ]
     },
     "metadata": {},
     "output_type": "display_data"
    },
    {
     "data": {
      "application/vnd.jupyter.widget-view+json": {
       "model_id": "5c6e70b90c634f4a858f7a7968575c18",
       "version_major": 2,
       "version_minor": 0
      },
      "text/plain": [
       "Generating validation split: 0 examples [00:00, ? examples/s]"
      ]
     },
     "metadata": {},
     "output_type": "display_data"
    },
    {
     "data": {
      "application/vnd.jupyter.widget-view+json": {
       "model_id": "9cf00bdf9d7f48ccb2e8589d2181e541",
       "version_major": 2,
       "version_minor": 0
      },
      "text/plain": [
       "Generating test split: 0 examples [00:00, ? examples/s]"
      ]
     },
     "metadata": {},
     "output_type": "display_data"
    }
   ],
   "source": [
    "data_files = {\"train\": \"data/train.csv\", \"validation\": \"data/val.csv\", \"test\": \"data/test.csv\"}\n",
    "ds = load_dataset(\"csv\", data_files=data_files)"
   ]
  },
  {
   "cell_type": "code",
   "execution_count": 12,
   "id": "8087bffe-c868-4323-90f0-4c6951f4fb5c",
   "metadata": {
    "tags": []
   },
   "outputs": [
    {
     "data": {
      "text/plain": [
       "DatasetDict({\n",
       "    train: Dataset({\n",
       "        features: ['text', 'label', 'label_name', 'tokenized_text', 'sent_token_length', 'sent_bert_token_length', 'char_count', 'Character Count'],\n",
       "        num_rows: 547\n",
       "    })\n",
       "    validation: Dataset({\n",
       "        features: ['text', 'label', 'label_name', 'tokenized_text', 'sent_token_length', 'sent_bert_token_length', 'char_count', 'Character Count'],\n",
       "        num_rows: 68\n",
       "    })\n",
       "    test: Dataset({\n",
       "        features: ['text', 'label', 'label_name', 'tokenized_text', 'sent_token_length', 'sent_bert_token_length', 'char_count', 'Character Count'],\n",
       "        num_rows: 61\n",
       "    })\n",
       "})"
      ]
     },
     "execution_count": 12,
     "metadata": {},
     "output_type": "execute_result"
    }
   ],
   "source": [
    "ds"
   ]
  },
  {
   "cell_type": "code",
   "execution_count": null,
   "id": "a3ca4ba6",
   "metadata": {},
   "outputs": [],
   "source": []
  },
  {
   "cell_type": "code",
   "execution_count": 13,
   "id": "0c7abe81-d2ab-49c3-92bf-6c6e36d5d852",
   "metadata": {},
   "outputs": [
    {
     "data": {
      "text/plain": [
       "{'text': Value(dtype='string', id=None),\n",
       " 'label': Value(dtype='int64', id=None),\n",
       " 'label_name': Value(dtype='string', id=None),\n",
       " 'tokenized_text': Value(dtype='string', id=None),\n",
       " 'sent_token_length': Value(dtype='int64', id=None),\n",
       " 'sent_bert_token_length': Value(dtype='int64', id=None),\n",
       " 'char_count': Value(dtype='int64', id=None),\n",
       " 'Character Count': Value(dtype='int64', id=None)}"
      ]
     },
     "execution_count": 13,
     "metadata": {},
     "output_type": "execute_result"
    }
   ],
   "source": [
    "ds[\"train\"].features"
   ]
  },
  {
   "cell_type": "code",
   "execution_count": 14,
   "id": "9a33842b-42eb-4966-8b48-f3dd7e1aeb33",
   "metadata": {},
   "outputs": [
    {
     "data": {
      "text/plain": [
       "[1, 0, 0, 0, 1, 0, 2, 2, 0, 0]"
      ]
     },
     "execution_count": 14,
     "metadata": {},
     "output_type": "execute_result"
    }
   ],
   "source": [
    "ds[\"test\"][\"label\"][:10]"
   ]
  },
  {
   "cell_type": "code",
   "execution_count": 15,
   "id": "68d24890",
   "metadata": {},
   "outputs": [
    {
     "data": {
      "text/html": [
       "<div>\n",
       "<style scoped>\n",
       "    .dataframe tbody tr th:only-of-type {\n",
       "        vertical-align: middle;\n",
       "    }\n",
       "\n",
       "    .dataframe tbody tr th {\n",
       "        vertical-align: top;\n",
       "    }\n",
       "\n",
       "    .dataframe thead th {\n",
       "        text-align: right;\n",
       "    }\n",
       "</style>\n",
       "<table border=\"1\" class=\"dataframe\">\n",
       "  <thead>\n",
       "    <tr style=\"text-align: right;\">\n",
       "      <th></th>\n",
       "      <th>text</th>\n",
       "      <th>label</th>\n",
       "      <th>label_name</th>\n",
       "      <th>tokenized_text</th>\n",
       "      <th>sent_token_length</th>\n",
       "      <th>sent_bert_token_length</th>\n",
       "      <th>char_count</th>\n",
       "      <th>Character Count</th>\n",
       "    </tr>\n",
       "  </thead>\n",
       "  <tbody>\n",
       "    <tr>\n",
       "      <th>0</th>\n",
       "      <td>Ambos se pusieron de pie, roncando de cólera</td>\n",
       "      <td>0</td>\n",
       "      <td>Negative</td>\n",
       "      <td>Ambos se pusieron de pie, roncando de cólera</td>\n",
       "      <td>8</td>\n",
       "      <td>10</td>\n",
       "      <td>44</td>\n",
       "      <td>44</td>\n",
       "    </tr>\n",
       "    <tr>\n",
       "      <th>1</th>\n",
       "      <td>El pobre negro</td>\n",
       "      <td>0</td>\n",
       "      <td>Negative</td>\n",
       "      <td>El pobre negro</td>\n",
       "      <td>3</td>\n",
       "      <td>3</td>\n",
       "      <td>14</td>\n",
       "      <td>14</td>\n",
       "    </tr>\n",
       "    <tr>\n",
       "      <th>2</th>\n",
       "      <td>No era un profesional ni mucho menos</td>\n",
       "      <td>0</td>\n",
       "      <td>Negative</td>\n",
       "      <td>No era un profesional ni mucho menos</td>\n",
       "      <td>7</td>\n",
       "      <td>7</td>\n",
       "      <td>36</td>\n",
       "      <td>36</td>\n",
       "    </tr>\n",
       "    <tr>\n",
       "      <th>3</th>\n",
       "      <td>Tanta finta</td>\n",
       "      <td>0</td>\n",
       "      <td>Negative</td>\n",
       "      <td>Tanta finta</td>\n",
       "      <td>2</td>\n",
       "      <td>3</td>\n",
       "      <td>11</td>\n",
       "      <td>11</td>\n",
       "    </tr>\n",
       "    <tr>\n",
       "      <th>4</th>\n",
       "      <td>además los chibolos de la barra siempre pican ...</td>\n",
       "      <td>0</td>\n",
       "      <td>Negative</td>\n",
       "      <td>además los chibolos de la barra siempre pican ...</td>\n",
       "      <td>11</td>\n",
       "      <td>16</td>\n",
       "      <td>61</td>\n",
       "      <td>61</td>\n",
       "    </tr>\n",
       "  </tbody>\n",
       "</table>\n",
       "</div>"
      ],
      "text/plain": [
       "                                                text  label label_name  \\\n",
       "0       Ambos se pusieron de pie, roncando de cólera      0   Negative   \n",
       "1                                     El pobre negro      0   Negative   \n",
       "2               No era un profesional ni mucho menos      0   Negative   \n",
       "3                                        Tanta finta      0   Negative   \n",
       "4  además los chibolos de la barra siempre pican ...      0   Negative   \n",
       "\n",
       "                                      tokenized_text  sent_token_length  \\\n",
       "0       Ambos se pusieron de pie, roncando de cólera                  8   \n",
       "1                                     El pobre negro                  3   \n",
       "2               No era un profesional ni mucho menos                  7   \n",
       "3                                        Tanta finta                  2   \n",
       "4  además los chibolos de la barra siempre pican ...                 11   \n",
       "\n",
       "   sent_bert_token_length  char_count  Character Count  \n",
       "0                      10          44               44  \n",
       "1                       3          14               14  \n",
       "2                       7          36               36  \n",
       "3                       3          11               11  \n",
       "4                      16          61               61  "
      ]
     },
     "execution_count": 15,
     "metadata": {},
     "output_type": "execute_result"
    }
   ],
   "source": [
    "df = ds['train'].to_pandas()\n",
    "df.head()"
   ]
  },
  {
   "cell_type": "code",
   "execution_count": 16,
   "id": "7c0615c2",
   "metadata": {},
   "outputs": [],
   "source": [
    "# encode label and mapping label name\n",
    "#df[\"label\"] = df[\"label\"].apply(lambda x: label_encode(x))\n",
    "df[\"label_name\"] = df[\"label\"].apply(lambda x: label2name(x))"
   ]
  },
  {
   "cell_type": "code",
   "execution_count": 17,
   "id": "4c00ccd4",
   "metadata": {},
   "outputs": [],
   "source": [
    "# clean text, lowercase and remove punk\n",
    "#df[\"text\"] = df[\"text\"].apply(lambda x: remove_punct(clean(remove_emoji(x).lower())[0][0]))"
   ]
  },
  {
   "cell_type": "code",
   "execution_count": 18,
   "id": "05636464",
   "metadata": {},
   "outputs": [
    {
     "data": {
      "text/html": [
       "<div>\n",
       "<style scoped>\n",
       "    .dataframe tbody tr th:only-of-type {\n",
       "        vertical-align: middle;\n",
       "    }\n",
       "\n",
       "    .dataframe tbody tr th {\n",
       "        vertical-align: top;\n",
       "    }\n",
       "\n",
       "    .dataframe thead th {\n",
       "        text-align: right;\n",
       "    }\n",
       "</style>\n",
       "<table border=\"1\" class=\"dataframe\">\n",
       "  <thead>\n",
       "    <tr style=\"text-align: right;\">\n",
       "      <th></th>\n",
       "      <th>text</th>\n",
       "      <th>label</th>\n",
       "      <th>label_name</th>\n",
       "      <th>tokenized_text</th>\n",
       "      <th>sent_token_length</th>\n",
       "      <th>sent_bert_token_length</th>\n",
       "      <th>char_count</th>\n",
       "      <th>Character Count</th>\n",
       "    </tr>\n",
       "  </thead>\n",
       "  <tbody>\n",
       "    <tr>\n",
       "      <th>0</th>\n",
       "      <td>Ambos se pusieron de pie, roncando de cólera</td>\n",
       "      <td>0</td>\n",
       "      <td>Negative</td>\n",
       "      <td>Ambos se pusieron de pie, roncando de cólera</td>\n",
       "      <td>8</td>\n",
       "      <td>10</td>\n",
       "      <td>44</td>\n",
       "      <td>44</td>\n",
       "    </tr>\n",
       "    <tr>\n",
       "      <th>1</th>\n",
       "      <td>El pobre negro</td>\n",
       "      <td>0</td>\n",
       "      <td>Negative</td>\n",
       "      <td>El pobre negro</td>\n",
       "      <td>3</td>\n",
       "      <td>3</td>\n",
       "      <td>14</td>\n",
       "      <td>14</td>\n",
       "    </tr>\n",
       "    <tr>\n",
       "      <th>2</th>\n",
       "      <td>No era un profesional ni mucho menos</td>\n",
       "      <td>0</td>\n",
       "      <td>Negative</td>\n",
       "      <td>No era un profesional ni mucho menos</td>\n",
       "      <td>7</td>\n",
       "      <td>7</td>\n",
       "      <td>36</td>\n",
       "      <td>36</td>\n",
       "    </tr>\n",
       "    <tr>\n",
       "      <th>3</th>\n",
       "      <td>Tanta finta</td>\n",
       "      <td>0</td>\n",
       "      <td>Negative</td>\n",
       "      <td>Tanta finta</td>\n",
       "      <td>2</td>\n",
       "      <td>3</td>\n",
       "      <td>11</td>\n",
       "      <td>11</td>\n",
       "    </tr>\n",
       "    <tr>\n",
       "      <th>4</th>\n",
       "      <td>además los chibolos de la barra siempre pican ...</td>\n",
       "      <td>0</td>\n",
       "      <td>Negative</td>\n",
       "      <td>además los chibolos de la barra siempre pican ...</td>\n",
       "      <td>11</td>\n",
       "      <td>16</td>\n",
       "      <td>61</td>\n",
       "      <td>61</td>\n",
       "    </tr>\n",
       "  </tbody>\n",
       "</table>\n",
       "</div>"
      ],
      "text/plain": [
       "                                                text  label label_name  \\\n",
       "0       Ambos se pusieron de pie, roncando de cólera      0   Negative   \n",
       "1                                     El pobre negro      0   Negative   \n",
       "2               No era un profesional ni mucho menos      0   Negative   \n",
       "3                                        Tanta finta      0   Negative   \n",
       "4  además los chibolos de la barra siempre pican ...      0   Negative   \n",
       "\n",
       "                                      tokenized_text  sent_token_length  \\\n",
       "0       Ambos se pusieron de pie, roncando de cólera                  8   \n",
       "1                                     El pobre negro                  3   \n",
       "2               No era un profesional ni mucho menos                  7   \n",
       "3                                        Tanta finta                  2   \n",
       "4  además los chibolos de la barra siempre pican ...                 11   \n",
       "\n",
       "   sent_bert_token_length  char_count  Character Count  \n",
       "0                      10          44               44  \n",
       "1                       3          14               14  \n",
       "2                       7          36               36  \n",
       "3                       3          11               11  \n",
       "4                      16          61               61  "
      ]
     },
     "execution_count": 18,
     "metadata": {},
     "output_type": "execute_result"
    }
   ],
   "source": [
    "df.head()"
   ]
  },
  {
   "cell_type": "code",
   "execution_count": 19,
   "id": "8299b318-0204-49cb-bf9a-14834e7796cb",
   "metadata": {
    "tags": []
   },
   "outputs": [
    {
     "name": "stderr",
     "output_type": "stream",
     "text": [
      "Some weights of RobertaForSequenceClassification were not initialized from the model checkpoint at pysentimiento/robertuito-base-uncased and are newly initialized: ['classifier.out_proj.bias', 'classifier.dense.weight', 'classifier.out_proj.weight', 'classifier.dense.bias']\n",
      "You should probably TRAIN this model on a down-stream task to be able to use it for predictions and inference.\n"
     ]
    }
   ],
   "source": [
    "from transformers import AutoModelForSequenceClassification, AutoTokenizer\n",
    "\n",
    "model_name = \"pysentimiento/robertuito-base-uncased\"\n",
    "\n",
    "model = AutoModelForSequenceClassification.from_pretrained(\n",
    "    model_name,\n",
    "    num_labels=3\n",
    ")\n",
    "tokenizer = AutoTokenizer.from_pretrained(model_name)\n",
    "tokenizer.model_max_length = 128"
   ]
  },
  {
   "cell_type": "code",
   "execution_count": 20,
   "id": "da7b8124",
   "metadata": {},
   "outputs": [],
   "source": [
    "# columns = ['input_ids', 'attention_mask', 'label']\n",
    "# ds.set_format(type='torch', columns=columns)\n",
    "# ds"
   ]
  },
  {
   "cell_type": "code",
   "execution_count": null,
   "id": "ae25e978",
   "metadata": {},
   "outputs": [],
   "source": []
  },
  {
   "cell_type": "code",
   "execution_count": 21,
   "id": "8ed569d2-67ca-405d-aa88-3e6de71a2356",
   "metadata": {
    "tags": []
   },
   "outputs": [
    {
     "data": {
      "application/vnd.jupyter.widget-view+json": {
       "model_id": "967fa41c7ff64c46b8d57a2bf2498449",
       "version_major": 2,
       "version_minor": 0
      },
      "text/plain": [
       "Map:   0%|          | 0/547 [00:00<?, ? examples/s]"
      ]
     },
     "metadata": {},
     "output_type": "display_data"
    },
    {
     "data": {
      "application/vnd.jupyter.widget-view+json": {
       "model_id": "8fd6a6631c48406da6f7287e32fb2247",
       "version_major": 2,
       "version_minor": 0
      },
      "text/plain": [
       "Map:   0%|          | 0/68 [00:00<?, ? examples/s]"
      ]
     },
     "metadata": {},
     "output_type": "display_data"
    },
    {
     "data": {
      "application/vnd.jupyter.widget-view+json": {
       "model_id": "bc81dc7eddd7419fad31a7412d5e5fe1",
       "version_major": 2,
       "version_minor": 0
      },
      "text/plain": [
       "Map:   0%|          | 0/61 [00:00<?, ? examples/s]"
      ]
     },
     "metadata": {},
     "output_type": "display_data"
    }
   ],
   "source": [
    "from pysentimiento.preprocessing import preprocess_tweet\n",
    "preprocessed_ds = ds.map(lambda ex: {\"text\": preprocess_tweet(ex[\"text\"], lang=\"es\")})"
   ]
  },
  {
   "cell_type": "code",
   "execution_count": 22,
   "id": "99a78d85-4029-4621-b692-f63f396a2f6f",
   "metadata": {
    "tags": []
   },
   "outputs": [
    {
     "data": {
      "application/vnd.jupyter.widget-view+json": {
       "model_id": "5d912f3a3f8c4c9a87310b919431a2bc",
       "version_major": 2,
       "version_minor": 0
      },
      "text/plain": [
       "Map:   0%|          | 0/547 [00:00<?, ? examples/s]"
      ]
     },
     "metadata": {},
     "output_type": "display_data"
    },
    {
     "data": {
      "application/vnd.jupyter.widget-view+json": {
       "model_id": "198a965c57f94b2caf0157aef9d5dffa",
       "version_major": 2,
       "version_minor": 0
      },
      "text/plain": [
       "Map:   0%|          | 0/68 [00:00<?, ? examples/s]"
      ]
     },
     "metadata": {},
     "output_type": "display_data"
    },
    {
     "data": {
      "application/vnd.jupyter.widget-view+json": {
       "model_id": "2f87a51f83f8475c862c549656096e96",
       "version_major": 2,
       "version_minor": 0
      },
      "text/plain": [
       "Map:   0%|          | 0/61 [00:00<?, ? examples/s]"
      ]
     },
     "metadata": {},
     "output_type": "display_data"
    }
   ],
   "source": [
    "tokenized_ds = preprocessed_ds.map(\n",
    "    lambda batch: tokenizer(\n",
    "        batch[\"text\"], padding=True, truncation=True\n",
    "        ),\n",
    "    batched=True, batch_size=32\n",
    ")"
   ]
  },
  {
   "cell_type": "code",
   "execution_count": 23,
   "id": "1dd95bf5",
   "metadata": {},
   "outputs": [
    {
     "data": {
      "text/plain": [
       "DatasetDict({\n",
       "    train: Dataset({\n",
       "        features: ['text', 'label', 'label_name', 'tokenized_text', 'sent_token_length', 'sent_bert_token_length', 'char_count', 'Character Count', 'input_ids', 'token_type_ids', 'attention_mask'],\n",
       "        num_rows: 547\n",
       "    })\n",
       "    validation: Dataset({\n",
       "        features: ['text', 'label', 'label_name', 'tokenized_text', 'sent_token_length', 'sent_bert_token_length', 'char_count', 'Character Count', 'input_ids', 'token_type_ids', 'attention_mask'],\n",
       "        num_rows: 68\n",
       "    })\n",
       "    test: Dataset({\n",
       "        features: ['text', 'label', 'label_name', 'tokenized_text', 'sent_token_length', 'sent_bert_token_length', 'char_count', 'Character Count', 'input_ids', 'token_type_ids', 'attention_mask'],\n",
       "        num_rows: 61\n",
       "    })\n",
       "})"
      ]
     },
     "execution_count": 23,
     "metadata": {},
     "output_type": "execute_result"
    }
   ],
   "source": [
    "tokenized_ds"
   ]
  },
  {
   "cell_type": "code",
   "execution_count": 24,
   "id": "d3634bf4",
   "metadata": {},
   "outputs": [
    {
     "data": {
      "text/plain": [
       "[0,\n",
       " 5587,\n",
       " 475,\n",
       " 7117,\n",
       " 413,\n",
       " 25565,\n",
       " 3812,\n",
       " 1767,\n",
       " 413,\n",
       " 1083,\n",
       " 7888,\n",
       " 2,\n",
       " 1,\n",
       " 1,\n",
       " 1,\n",
       " 1,\n",
       " 1,\n",
       " 1,\n",
       " 1]"
      ]
     },
     "execution_count": 24,
     "metadata": {},
     "output_type": "execute_result"
    }
   ],
   "source": [
    "tokenized_ds['train']['input_ids'][0]"
   ]
  },
  {
   "cell_type": "code",
   "execution_count": 25,
   "id": "7c23fbba",
   "metadata": {},
   "outputs": [
    {
     "data": {
      "text/plain": [
       "[1, 1, 1, 1, 1, 1, 1, 1, 1, 1, 1, 1, 0, 0, 0, 0, 0, 0, 0]"
      ]
     },
     "execution_count": 25,
     "metadata": {},
     "output_type": "execute_result"
    }
   ],
   "source": [
    "tokenized_ds['train']['attention_mask'][0]"
   ]
  },
  {
   "cell_type": "code",
   "execution_count": 26,
   "id": "f6d33cad",
   "metadata": {},
   "outputs": [
    {
     "data": {
      "text/plain": [
       "'Ambos se pusieron de pie, roncando de cólera'"
      ]
     },
     "execution_count": 26,
     "metadata": {},
     "output_type": "execute_result"
    }
   ],
   "source": [
    "tokenized_ds['train']['text'][0]"
   ]
  },
  {
   "cell_type": "code",
   "execution_count": 27,
   "id": "c88c53d1-0c5b-4b97-910a-75f6991d2d6f",
   "metadata": {
    "tags": []
   },
   "outputs": [],
   "source": [
    "#!pip install ipdb"
   ]
  },
  {
   "cell_type": "code",
   "execution_count": 28,
   "id": "469074ed-9e65-4a9e-913c-6151f5c5d8b3",
   "metadata": {},
   "outputs": [],
   "source": [
    "#import torch\n",
    "#device = \"cuda\" if torch.cuda.is_available() else \"cpu\"\n",
    "#model.cuda()"
   ]
  },
  {
   "cell_type": "code",
   "execution_count": 29,
   "id": "5d56e2f2-159e-4ffe-86fc-3659ed308b89",
   "metadata": {},
   "outputs": [],
   "source": [
    "from transformers import TrainingArguments, Trainer, DataCollatorWithPadding\n",
    "\n",
    "training_args = TrainingArguments(\n",
    "    per_device_train_batch_size=32,\n",
    "    output_dir=\"test_trainer\",\n",
    "    do_eval=True,\n",
    "    evaluation_strategy=\"epoch\",\n",
    "    num_train_epochs=5,\n",
    ")\n",
    "\n",
    "trainer = Trainer(\n",
    "    model=model,\n",
    "    args=training_args,\n",
    "    train_dataset=tokenized_ds[\"train\"],\n",
    "    eval_dataset=tokenized_ds[\"validation\"],\n",
    "    compute_metrics=compute_metrics,\n",
    "    data_collator=DataCollatorWithPadding(tokenizer=tokenizer),\n",
    ")"
   ]
  },
  {
   "cell_type": "code",
   "execution_count": 30,
   "id": "6be1933a-b930-410d-91ff-646bdcb9a80f",
   "metadata": {
    "tags": []
   },
   "outputs": [
    {
     "name": "stdout",
     "output_type": "stream",
     "text": [
      "{'eval_loss': 0.8591828346252441, 'eval_f1': 0.3442244224422442, 'eval_recall': 0.39215686274509803, 'eval_runtime': 0.1847, 'eval_samples_per_second': 368.128, 'eval_steps_per_second': 48.723, 'epoch': 1.0}\n",
      "{'eval_loss': 0.7433059215545654, 'eval_f1': 0.6894191080237592, 'eval_recall': 0.6568627450980392, 'eval_runtime': 0.1836, 'eval_samples_per_second': 370.426, 'eval_steps_per_second': 49.027, 'epoch': 2.0}\n",
      "{'eval_loss': 0.705886721611023, 'eval_f1': 0.7184063890891199, 'eval_recall': 0.6996744643803469, 'eval_runtime': 0.1799, 'eval_samples_per_second': 377.983, 'eval_steps_per_second': 50.027, 'epoch': 3.0}\n",
      "{'eval_loss': 0.7159866094589233, 'eval_f1': 0.7043059319482085, 'eval_recall': 0.6906654553713377, 'eval_runtime': 0.1791, 'eval_samples_per_second': 379.577, 'eval_steps_per_second': 50.238, 'epoch': 4.0}\n",
      "{'eval_loss': 0.7234480977058411, 'eval_f1': 0.6635666022639203, 'eval_recall': 0.6620486032250739, 'eval_runtime': 0.1977, 'eval_samples_per_second': 343.948, 'eval_steps_per_second': 45.523, 'epoch': 5.0}\n",
      "{'train_runtime': 23.4949, 'train_samples_per_second': 116.408, 'train_steps_per_second': 3.831, 'train_loss': 0.5162400987413195, 'epoch': 5.0}\n"
     ]
    },
    {
     "data": {
      "text/plain": [
       "TrainOutput(global_step=90, training_loss=0.5162400987413195, metrics={'train_runtime': 23.4949, 'train_samples_per_second': 116.408, 'train_steps_per_second': 3.831, 'train_loss': 0.5162400987413195, 'epoch': 5.0})"
      ]
     },
     "execution_count": 30,
     "metadata": {},
     "output_type": "execute_result"
    }
   ],
   "source": [
    "trainer.train()"
   ]
  },
  {
   "cell_type": "code",
   "execution_count": 31,
   "id": "f2c407d3-9fa8-402c-85eb-7061a55c9984",
   "metadata": {
    "tags": []
   },
   "outputs": [],
   "source": [
    "#Test on validation set"
   ]
  },
  {
   "cell_type": "code",
   "execution_count": 32,
   "id": "34fec069",
   "metadata": {},
   "outputs": [
    {
     "name": "stdout",
     "output_type": "stream",
     "text": [
      "{'eval_loss': 0.7572020292282104, 'eval_f1': 0.6369281045751635, 'eval_recall': 0.6299922299922299, 'eval_runtime': 0.1311, 'eval_samples_per_second': 465.397, 'eval_steps_per_second': 61.036, 'epoch': 5.0}\n"
     ]
    },
    {
     "data": {
      "text/plain": [
       "{'eval_loss': 0.7572020292282104,\n",
       " 'eval_f1': 0.6369281045751635,\n",
       " 'eval_recall': 0.6299922299922299,\n",
       " 'eval_runtime': 0.1311,\n",
       " 'eval_samples_per_second': 465.397,\n",
       " 'eval_steps_per_second': 61.036,\n",
       " 'epoch': 5.0}"
      ]
     },
     "execution_count": 32,
     "metadata": {},
     "output_type": "execute_result"
    }
   ],
   "source": [
    "trainer.evaluate(tokenized_ds[\"test\"])"
   ]
  },
  {
   "cell_type": "code",
   "execution_count": 33,
   "id": "b7075d08",
   "metadata": {},
   "outputs": [
    {
     "data": {
      "text/plain": [
       "['Pero él sabe que ya no tiene la menor chance',\n",
       " 'No me toques, caracho',\n",
       " 'Ahora trae una bolsa, carajo',\n",
       " 'Me muero, Chacal',\n",
       " 'Con los años vas aprendiendo a tirar cache',\n",
       " '¿Sabes lo que eres? Un soplón',\n",
       " 'bien chévere',\n",
       " 'soy recontra taco pero soy bien rica',\n",
       " 'La gente me alucinaba pastrulazo y yo nada',\n",
       " '\\x97Cinco pobres diablos, para remate uno de ellos viejo y con soroche',\n",
       " 'Hoy sales de la categoría pajeros y entras a la categoría cacheritos',\n",
       " 'Y todos los demás son campanas',\n",
       " 'y les podría caer un dinerito',\n",
       " '\\x97Que se achicharren estas calatas sinvergüenzas',\n",
       " 'Que se vayan al carajo',\n",
       " 'Raúl era moreno, decía lisuras y escupía a cada rato',\n",
       " 'No seas fregado',\n",
       " 'Pégame cabrón que cuando te agarre afuera vas a llorar',\n",
       " 'llego al edificio con olor a mondonguito y toco el timbre y pienso ojalá que no esté la cara de perro y escucho gabriel, un grito así bien recio y achorado',\n",
       " 'eres mi causa',\n",
       " '\\x97¿Qué es eso? \\x97Un club de cucufatos pitucos',\n",
       " 'tanta huevada',\n",
       " '\\x97Vamos a ver cómo están las gringas',\n",
       " 'Desde chiquita',\n",
       " '- Yo me hago el loco, quiero decir el pendejo',\n",
       " 'En el Perú, uno es militar por las puras huevas del diablo',\n",
       " 'Si no, el tráfico es una pinga',\n",
       " '\\x97Estás verde, choche',\n",
       " 'Enantes subió al sol',\n",
       " 'mi hermana está en la jato con mi vieja',\n",
       " 'Me enseñó pendejada y media',\n",
       " 'pa\\x92 qué vamos a buscar problemas, tranquilo',\n",
       " 'Qué salado eres, caray',\n",
       " 'Bailaron cogidos de la cintura',\n",
       " '\\x97¿Qué? Habla fuerte, carajo',\n",
       " '\\x97Yo la conozco, huevón',\n",
       " 'Yo soy Misterio, conchasumadre',\n",
       " 'Anda a tu casa',\n",
       " 'Si da otra vuelta de campana te aplasta',\n",
       " 'Sería el deshueve si te animas a venir, Joaquín',\n",
       " 'Vas a ver qué rico culean esas cholitas',\n",
       " 'Unos negros asquerosos, amor',\n",
       " 'No, también es feriado para la chamba',\n",
       " 'Hace un frío del carajo',\n",
       " 'Y el que nace cholo, muere cholo',\n",
       " 'En ese campo jugaban los alumnos del Colegio',\n",
       " 'Anda vete, sal',\n",
       " 'El cachaco me dio un puñete en la boca y gritó:\\x94no digas lisuras a la niña, maleante\"',\n",
       " 'Quédate con esa plata y déjame ir',\n",
       " '¿Crees que soy huevón?',\n",
       " 'Me la quiso chupar',\n",
       " 'Saltó otro zambo y nos mechamos',\n",
       " 'Dale U carajo',\n",
       " '¿cómo? es que no tengo plata',\n",
       " 'Ahorita la chola te trae tu desayuno',\n",
       " 'Los amigos comienzan a beber pisco y una mujer obesa les repite las copas advirtiendo que es puro de Ica y parece que ellos lo saben apreciar',\n",
       " 'Acuérdate que todas son cachables',\n",
       " '\\x97¿No jodas que lo ampayaron comprando coca?',\n",
       " 'tremenda fiesta se armó en mi depa',\n",
       " 'Hazlo por tu mamacita, que ya está vieja',\n",
       " 'no me gustan las chelas, jimmy']"
      ]
     },
     "execution_count": 33,
     "metadata": {},
     "output_type": "execute_result"
    }
   ],
   "source": [
    "ds['test']['text']"
   ]
  },
  {
   "cell_type": "code",
   "execution_count": 34,
   "id": "57814e98",
   "metadata": {},
   "outputs": [],
   "source": [
    "#model.load_state_dict(torch.load(f'./_BERT_epoch_3.model', map_location=torch.device('cpu')))"
   ]
  },
  {
   "cell_type": "code",
   "execution_count": 35,
   "id": "ed4ae6f3",
   "metadata": {},
   "outputs": [],
   "source": [
    "#Error Analisys"
   ]
  },
  {
   "cell_type": "code",
   "execution_count": 36,
   "id": "46bbd55b",
   "metadata": {},
   "outputs": [],
   "source": [
    "val_df = ds['validation'].to_pandas()\n",
    "#val_df"
   ]
  },
  {
   "cell_type": "code",
   "execution_count": 37,
   "id": "f9f23107",
   "metadata": {},
   "outputs": [],
   "source": [
    "from tqdm.notebook import tqdm"
   ]
  },
  {
   "cell_type": "code",
   "execution_count": 38,
   "id": "737a62b3",
   "metadata": {},
   "outputs": [],
   "source": [
    "# step by step predictions on dataframe\n",
    "# We do this to view predictions in the pandas dataframe and easily filter them and perform error analysis.\n",
    "pred_final = []\n",
    "\n",
    "# for i, row in tqdm(val_df.iterrows(), total=val_df.shape[0]):\n",
    "#     predictions = []\n",
    "\n",
    "#     text = row[\"text\"]\n",
    "#     encoded_data_test_single = tokenizer.batch_encode_plus([text], \n",
    "#     add_special_tokens=config.add_special_tokens, \n",
    "#     return_attention_mask=config.return_attention_mask, \n",
    "#     pad_to_max_length=config.pad_to_max_length, \n",
    "#     max_length=config.seq_length,\n",
    "#     return_tensors=config.return_tensors\n",
    "#     )\n",
    "#     input_ids_test = encoded_data_test_single['input_ids']\n",
    "#     attention_masks_test = encoded_data_test_single['attention_mask']\n",
    "\n",
    "    \n",
    "#     inputs = {'input_ids':      input_ids_test.to(device),\n",
    "#               'attention_mask':attention_masks_test.to(device),\n",
    "#              }\n",
    "\n",
    "#     with torch.no_grad():        \n",
    "#         outputs = model(**inputs)\n",
    "    \n",
    "#     logits = outputs[0]\n",
    "#     logits = logits.detach().cpu().numpy()\n",
    "#     predictions.append(logits)\n",
    "#     predictions = np.concatenate(predictions, axis=0)\n",
    "#     pred_final.append(np.argmax(predictions, axis=1).flatten()[0])"
   ]
  },
  {
   "cell_type": "code",
   "execution_count": 39,
   "id": "e2d5ea48-4899-4cb3-9027-0ea1cf46c0e0",
   "metadata": {},
   "outputs": [
    {
     "data": {
      "text/html": [
       "<div>\n",
       "<style scoped>\n",
       "    .dataframe tbody tr th:only-of-type {\n",
       "        vertical-align: middle;\n",
       "    }\n",
       "\n",
       "    .dataframe tbody tr th {\n",
       "        vertical-align: top;\n",
       "    }\n",
       "\n",
       "    .dataframe thead th {\n",
       "        text-align: right;\n",
       "    }\n",
       "</style>\n",
       "<table border=\"1\" class=\"dataframe\">\n",
       "  <thead>\n",
       "    <tr style=\"text-align: right;\">\n",
       "      <th></th>\n",
       "      <th>text</th>\n",
       "      <th>label</th>\n",
       "      <th>label_name</th>\n",
       "      <th>tokenized_text</th>\n",
       "      <th>sent_token_length</th>\n",
       "      <th>sent_bert_token_length</th>\n",
       "      <th>char_count</th>\n",
       "      <th>Character Count</th>\n",
       "    </tr>\n",
       "  </thead>\n",
       "  <tbody>\n",
       "    <tr>\n",
       "      <th>176</th>\n",
       "      <td>Él la cogió de la mano</td>\n",
       "      <td>2</td>\n",
       "      <td>Positive</td>\n",
       "      <td>Él la cogió de la mano</td>\n",
       "      <td>6</td>\n",
       "      <td>7</td>\n",
       "      <td>22</td>\n",
       "      <td>22</td>\n",
       "    </tr>\n",
       "    <tr>\n",
       "      <th>77</th>\n",
       "      <td>Qué tal raza, papá</td>\n",
       "      <td>0</td>\n",
       "      <td>Negative</td>\n",
       "      <td>Qué tal raza, papá</td>\n",
       "      <td>4</td>\n",
       "      <td>5</td>\n",
       "      <td>18</td>\n",
       "      <td>18</td>\n",
       "    </tr>\n",
       "    <tr>\n",
       "      <th>361</th>\n",
       "      <td>-Te ha dejado plantado</td>\n",
       "      <td>0</td>\n",
       "      <td>Negative</td>\n",
       "      <td>-Te ha dejado plantado</td>\n",
       "      <td>4</td>\n",
       "      <td>5</td>\n",
       "      <td>22</td>\n",
       "      <td>22</td>\n",
       "    </tr>\n",
       "    <tr>\n",
       "      <th>90</th>\n",
       "      <td>cualquier huevada pasas la voz y la picamos</td>\n",
       "      <td>0</td>\n",
       "      <td>Negative</td>\n",
       "      <td>cualquier huevada pasas la voz y la picamos</td>\n",
       "      <td>8</td>\n",
       "      <td>10</td>\n",
       "      <td>43</td>\n",
       "      <td>43</td>\n",
       "    </tr>\n",
       "    <tr>\n",
       "      <th>368</th>\n",
       "      <td>Dame pero caleta</td>\n",
       "      <td>1</td>\n",
       "      <td>Neutral</td>\n",
       "      <td>Dame pero caleta</td>\n",
       "      <td>3</td>\n",
       "      <td>4</td>\n",
       "      <td>16</td>\n",
       "      <td>16</td>\n",
       "    </tr>\n",
       "    <tr>\n",
       "      <th>210</th>\n",
       "      <td>Después de hacerle la cagada a los gorilas</td>\n",
       "      <td>0</td>\n",
       "      <td>Negative</td>\n",
       "      <td>Después de hacerle la cagada a los gorilas</td>\n",
       "      <td>8</td>\n",
       "      <td>9</td>\n",
       "      <td>42</td>\n",
       "      <td>42</td>\n",
       "    </tr>\n",
       "    <tr>\n",
       "      <th>177</th>\n",
       "      <td>No es mi hembrita</td>\n",
       "      <td>1</td>\n",
       "      <td>Neutral</td>\n",
       "      <td>No es mi hembrita</td>\n",
       "      <td>4</td>\n",
       "      <td>6</td>\n",
       "      <td>17</td>\n",
       "      <td>17</td>\n",
       "    </tr>\n",
       "    <tr>\n",
       "      <th>250</th>\n",
       "      <td>Ahorita regreso</td>\n",
       "      <td>1</td>\n",
       "      <td>Neutral</td>\n",
       "      <td>Ahorita regreso</td>\n",
       "      <td>2</td>\n",
       "      <td>2</td>\n",
       "      <td>15</td>\n",
       "      <td>15</td>\n",
       "    </tr>\n",
       "    <tr>\n",
       "      <th>518</th>\n",
       "      <td>Estás fregado</td>\n",
       "      <td>0</td>\n",
       "      <td>Negative</td>\n",
       "      <td>Estás fregado</td>\n",
       "      <td>2</td>\n",
       "      <td>3</td>\n",
       "      <td>13</td>\n",
       "      <td>13</td>\n",
       "    </tr>\n",
       "    <tr>\n",
       "      <th>199</th>\n",
       "      <td>ha sido una buena nota</td>\n",
       "      <td>2</td>\n",
       "      <td>Positive</td>\n",
       "      <td>ha sido una buena nota</td>\n",
       "      <td>5</td>\n",
       "      <td>5</td>\n",
       "      <td>22</td>\n",
       "      <td>22</td>\n",
       "    </tr>\n",
       "    <tr>\n",
       "      <th>6</th>\n",
       "      <td>Acuérdate que todas son cachables</td>\n",
       "      <td>1</td>\n",
       "      <td>Neutral</td>\n",
       "      <td>Acuérdate que todas son cachables</td>\n",
       "      <td>5</td>\n",
       "      <td>7</td>\n",
       "      <td>33</td>\n",
       "      <td>33</td>\n",
       "    </tr>\n",
       "    <tr>\n",
       "      <th>354</th>\n",
       "      <td>No nos separaron hasta que vino el cachaco</td>\n",
       "      <td>1</td>\n",
       "      <td>Neutral</td>\n",
       "      <td>No nos separaron hasta que vino el cachaco</td>\n",
       "      <td>8</td>\n",
       "      <td>10</td>\n",
       "      <td>42</td>\n",
       "      <td>42</td>\n",
       "    </tr>\n",
       "    <tr>\n",
       "      <th>424</th>\n",
       "      <td>Te estoy llevando al mejor troca de Lima</td>\n",
       "      <td>2</td>\n",
       "      <td>Positive</td>\n",
       "      <td>Te estoy llevando al mejor troca de Lima</td>\n",
       "      <td>8</td>\n",
       "      <td>9</td>\n",
       "      <td>40</td>\n",
       "      <td>40</td>\n",
       "    </tr>\n",
       "    <tr>\n",
       "      <th>261</th>\n",
       "      <td>Solo ha sido una pichanguita</td>\n",
       "      <td>1</td>\n",
       "      <td>Neutral</td>\n",
       "      <td>Solo ha sido una pichanguita</td>\n",
       "      <td>5</td>\n",
       "      <td>7</td>\n",
       "      <td>28</td>\n",
       "      <td>28</td>\n",
       "    </tr>\n",
       "    <tr>\n",
       "      <th>247</th>\n",
       "      <td>No seas maricona</td>\n",
       "      <td>0</td>\n",
       "      <td>Negative</td>\n",
       "      <td>No seas maricona</td>\n",
       "      <td>3</td>\n",
       "      <td>4</td>\n",
       "      <td>16</td>\n",
       "      <td>16</td>\n",
       "    </tr>\n",
       "    <tr>\n",
       "      <th>316</th>\n",
       "      <td>Estaba como loco</td>\n",
       "      <td>0</td>\n",
       "      <td>Negative</td>\n",
       "      <td>Estaba como loco</td>\n",
       "      <td>3</td>\n",
       "      <td>3</td>\n",
       "      <td>16</td>\n",
       "      <td>16</td>\n",
       "    </tr>\n",
       "    <tr>\n",
       "      <th>501</th>\n",
       "      <td>También hay maricones espantosos</td>\n",
       "      <td>0</td>\n",
       "      <td>Negative</td>\n",
       "      <td>También hay maricones espantosos</td>\n",
       "      <td>4</td>\n",
       "      <td>6</td>\n",
       "      <td>33</td>\n",
       "      <td>33</td>\n",
       "    </tr>\n",
       "    <tr>\n",
       "      <th>55</th>\n",
       "      <td>Llora, llora cagón</td>\n",
       "      <td>0</td>\n",
       "      <td>Negative</td>\n",
       "      <td>Llora, llora cagón</td>\n",
       "      <td>3</td>\n",
       "      <td>5</td>\n",
       "      <td>19</td>\n",
       "      <td>19</td>\n",
       "    </tr>\n",
       "    <tr>\n",
       "      <th>470</th>\n",
       "      <td>Nos quedamos secos</td>\n",
       "      <td>0</td>\n",
       "      <td>Negative</td>\n",
       "      <td>Nos quedamos secos</td>\n",
       "      <td>3</td>\n",
       "      <td>4</td>\n",
       "      <td>18</td>\n",
       "      <td>18</td>\n",
       "    </tr>\n",
       "    <tr>\n",
       "      <th>499</th>\n",
       "      <td>no pasa nada, puro maquillaje</td>\n",
       "      <td>0</td>\n",
       "      <td>Negative</td>\n",
       "      <td>no pasa nada, puro maquillaje</td>\n",
       "      <td>5</td>\n",
       "      <td>5</td>\n",
       "      <td>29</td>\n",
       "      <td>29</td>\n",
       "    </tr>\n",
       "    <tr>\n",
       "      <th>72</th>\n",
       "      <td>Disfruta huevón</td>\n",
       "      <td>2</td>\n",
       "      <td>Positive</td>\n",
       "      <td>Disfruta huevón</td>\n",
       "      <td>2</td>\n",
       "      <td>3</td>\n",
       "      <td>15</td>\n",
       "      <td>15</td>\n",
       "    </tr>\n",
       "    <tr>\n",
       "      <th>440</th>\n",
       "      <td>Es un tipo formidable, hermano</td>\n",
       "      <td>2</td>\n",
       "      <td>Positive</td>\n",
       "      <td>Es un tipo formidable, hermano</td>\n",
       "      <td>5</td>\n",
       "      <td>7</td>\n",
       "      <td>30</td>\n",
       "      <td>30</td>\n",
       "    </tr>\n",
       "    <tr>\n",
       "      <th>540</th>\n",
       "      <td>Ay, pobre, qué piña</td>\n",
       "      <td>0</td>\n",
       "      <td>Negative</td>\n",
       "      <td>Ay, pobre, qué piña</td>\n",
       "      <td>4</td>\n",
       "      <td>4</td>\n",
       "      <td>20</td>\n",
       "      <td>20</td>\n",
       "    </tr>\n",
       "    <tr>\n",
       "      <th>225</th>\n",
       "      <td>Chau, rosquetes dijo</td>\n",
       "      <td>0</td>\n",
       "      <td>Negative</td>\n",
       "      <td>Chau, rosquetes dijo</td>\n",
       "      <td>3</td>\n",
       "      <td>6</td>\n",
       "      <td>22</td>\n",
       "      <td>22</td>\n",
       "    </tr>\n",
       "    <tr>\n",
       "      <th>312</th>\n",
       "      <td>Además de caprichoso, resultó fresco</td>\n",
       "      <td>0</td>\n",
       "      <td>Negative</td>\n",
       "      <td>Además de caprichoso, resultó fresco</td>\n",
       "      <td>5</td>\n",
       "      <td>6</td>\n",
       "      <td>36</td>\n",
       "      <td>36</td>\n",
       "    </tr>\n",
       "    <tr>\n",
       "      <th>2</th>\n",
       "      <td>No era un profesional ni mucho menos</td>\n",
       "      <td>0</td>\n",
       "      <td>Negative</td>\n",
       "      <td>No era un profesional ni mucho menos</td>\n",
       "      <td>7</td>\n",
       "      <td>7</td>\n",
       "      <td>36</td>\n",
       "      <td>36</td>\n",
       "    </tr>\n",
       "    <tr>\n",
       "      <th>388</th>\n",
       "      <td>Lechero, carajo</td>\n",
       "      <td>2</td>\n",
       "      <td>Positive</td>\n",
       "      <td>Lechero, carajo</td>\n",
       "      <td>2</td>\n",
       "      <td>3</td>\n",
       "      <td>15</td>\n",
       "      <td>15</td>\n",
       "    </tr>\n",
       "    <tr>\n",
       "      <th>185</th>\n",
       "      <td>Esto me está rayando, cuñado dijo</td>\n",
       "      <td>0</td>\n",
       "      <td>Negative</td>\n",
       "      <td>Esto me está rayando, cuñado dijo</td>\n",
       "      <td>6</td>\n",
       "      <td>7</td>\n",
       "      <td>36</td>\n",
       "      <td>36</td>\n",
       "    </tr>\n",
       "    <tr>\n",
       "      <th>10</th>\n",
       "      <td>Escúchame bien, serrano conchatumadre</td>\n",
       "      <td>0</td>\n",
       "      <td>Negative</td>\n",
       "      <td>Escúchame bien, serrano conchatumadre</td>\n",
       "      <td>4</td>\n",
       "      <td>8</td>\n",
       "      <td>37</td>\n",
       "      <td>37</td>\n",
       "    </tr>\n",
       "    <tr>\n",
       "      <th>163</th>\n",
       "      <td>¿Cómo te vas a morir pes huevón?</td>\n",
       "      <td>0</td>\n",
       "      <td>Negative</td>\n",
       "      <td>¿Cómo te vas a morir pes huevón?</td>\n",
       "      <td>7</td>\n",
       "      <td>9</td>\n",
       "      <td>33</td>\n",
       "      <td>33</td>\n",
       "    </tr>\n",
       "  </tbody>\n",
       "</table>\n",
       "</div>"
      ],
      "text/plain": [
       "                                            text  label label_name  \\\n",
       "176                       Él la cogió de la mano      2   Positive   \n",
       "77                            Qué tal raza, papá      0   Negative   \n",
       "361                       -Te ha dejado plantado      0   Negative   \n",
       "90   cualquier huevada pasas la voz y la picamos      0   Negative   \n",
       "368                             Dame pero caleta      1    Neutral   \n",
       "210   Después de hacerle la cagada a los gorilas      0   Negative   \n",
       "177                            No es mi hembrita      1    Neutral   \n",
       "250                              Ahorita regreso      1    Neutral   \n",
       "518                                Estás fregado      0   Negative   \n",
       "199                       ha sido una buena nota      2   Positive   \n",
       "6              Acuérdate que todas son cachables      1    Neutral   \n",
       "354   No nos separaron hasta que vino el cachaco      1    Neutral   \n",
       "424     Te estoy llevando al mejor troca de Lima      2   Positive   \n",
       "261                 Solo ha sido una pichanguita      1    Neutral   \n",
       "247                             No seas maricona      0   Negative   \n",
       "316                             Estaba como loco      0   Negative   \n",
       "501            También hay maricones espantosos      0   Negative   \n",
       "55                           Llora, llora cagón      0   Negative   \n",
       "470                           Nos quedamos secos      0   Negative   \n",
       "499                no pasa nada, puro maquillaje      0   Negative   \n",
       "72                               Disfruta huevón      2   Positive   \n",
       "440               Es un tipo formidable, hermano      2   Positive   \n",
       "540                         Ay, pobre, qué piña      0   Negative   \n",
       "225                       Chau, rosquetes dijo      0   Negative   \n",
       "312         Además de caprichoso, resultó fresco      0   Negative   \n",
       "2           No era un profesional ni mucho menos      0   Negative   \n",
       "388                              Lechero, carajo      2   Positive   \n",
       "185         Esto me está rayando, cuñado dijo      0   Negative   \n",
       "10         Escúchame bien, serrano conchatumadre      0   Negative   \n",
       "163            ¿Cómo te vas a morir pes huevón?      0   Negative   \n",
       "\n",
       "                                  tokenized_text  sent_token_length  \\\n",
       "176                       Él la cogió de la mano                  6   \n",
       "77                            Qué tal raza, papá                  4   \n",
       "361                       -Te ha dejado plantado                  4   \n",
       "90   cualquier huevada pasas la voz y la picamos                  8   \n",
       "368                             Dame pero caleta                  3   \n",
       "210   Después de hacerle la cagada a los gorilas                  8   \n",
       "177                            No es mi hembrita                  4   \n",
       "250                              Ahorita regreso                  2   \n",
       "518                                Estás fregado                  2   \n",
       "199                       ha sido una buena nota                  5   \n",
       "6              Acuérdate que todas son cachables                  5   \n",
       "354   No nos separaron hasta que vino el cachaco                  8   \n",
       "424     Te estoy llevando al mejor troca de Lima                  8   \n",
       "261                 Solo ha sido una pichanguita                  5   \n",
       "247                             No seas maricona                  3   \n",
       "316                             Estaba como loco                  3   \n",
       "501            También hay maricones espantosos                  4   \n",
       "55                           Llora, llora cagón                  3   \n",
       "470                           Nos quedamos secos                  3   \n",
       "499                no pasa nada, puro maquillaje                  5   \n",
       "72                               Disfruta huevón                  2   \n",
       "440               Es un tipo formidable, hermano                  5   \n",
       "540                         Ay, pobre, qué piña                  4   \n",
       "225                       Chau, rosquetes dijo                  3   \n",
       "312         Además de caprichoso, resultó fresco                  5   \n",
       "2           No era un profesional ni mucho menos                  7   \n",
       "388                              Lechero, carajo                  2   \n",
       "185         Esto me está rayando, cuñado dijo                  6   \n",
       "10         Escúchame bien, serrano conchatumadre                  4   \n",
       "163            ¿Cómo te vas a morir pes huevón?                  7   \n",
       "\n",
       "     sent_bert_token_length  char_count  Character Count  \n",
       "176                       7          22               22  \n",
       "77                        5          18               18  \n",
       "361                       5          22               22  \n",
       "90                       10          43               43  \n",
       "368                       4          16               16  \n",
       "210                       9          42               42  \n",
       "177                       6          17               17  \n",
       "250                       2          15               15  \n",
       "518                       3          13               13  \n",
       "199                       5          22               22  \n",
       "6                         7          33               33  \n",
       "354                      10          42               42  \n",
       "424                       9          40               40  \n",
       "261                       7          28               28  \n",
       "247                       4          16               16  \n",
       "316                       3          16               16  \n",
       "501                       6          33               33  \n",
       "55                        5          19               19  \n",
       "470                       4          18               18  \n",
       "499                       5          29               29  \n",
       "72                        3          15               15  \n",
       "440                       7          30               30  \n",
       "540                       4          20               20  \n",
       "225                       6          22               22  \n",
       "312                       6          36               36  \n",
       "2                         7          36               36  \n",
       "388                       3          15               15  \n",
       "185                       7          36               36  \n",
       "10                        8          37               37  \n",
       "163                       9          33               33  "
      ]
     },
     "execution_count": 39,
     "metadata": {},
     "output_type": "execute_result"
    }
   ],
   "source": [
    "df.sample(n = 30)"
   ]
  },
  {
   "cell_type": "code",
   "execution_count": 40,
   "id": "82f776a2-9575-4766-8865-70107a87c551",
   "metadata": {},
   "outputs": [],
   "source": [
    "#Inference"
   ]
  },
  {
   "cell_type": "code",
   "execution_count": 41,
   "id": "926977d0",
   "metadata": {},
   "outputs": [],
   "source": [
    "#Evaluate the Model Qualitatively (Human Evaluation)"
   ]
  },
  {
   "cell_type": "code",
   "execution_count": 42,
   "id": "7faa99dc",
   "metadata": {},
   "outputs": [],
   "source": [
    "#Evaluate the Model Quantitatively (with F1 Metric)"
   ]
  },
  {
   "cell_type": "code",
   "execution_count": null,
   "id": "2be445d3",
   "metadata": {},
   "outputs": [],
   "source": []
  },
  {
   "cell_type": "code",
   "execution_count": 43,
   "id": "c839bdd5",
   "metadata": {},
   "outputs": [],
   "source": [
    "texts = ds['test'][0:10]['text']\n",
    "human_baseline_labels = ds['test'][0:10]['label']"
   ]
  },
  {
   "cell_type": "code",
   "execution_count": 44,
   "id": "0ebbb4a1",
   "metadata": {},
   "outputs": [
    {
     "data": {
      "text/plain": [
       "['Pero él sabe que ya no tiene la menor chance',\n",
       " 'No me toques, caracho',\n",
       " 'Ahora trae una bolsa, carajo',\n",
       " 'Me muero, Chacal',\n",
       " 'Con los años vas aprendiendo a tirar cache',\n",
       " '¿Sabes lo que eres? Un soplón',\n",
       " 'bien chévere',\n",
       " 'soy recontra taco pero soy bien rica',\n",
       " 'La gente me alucinaba pastrulazo y yo nada',\n",
       " '\\x97Cinco pobres diablos, para remate uno de ellos viejo y con soroche']"
      ]
     },
     "execution_count": 44,
     "metadata": {},
     "output_type": "execute_result"
    }
   ],
   "source": [
    "texts"
   ]
  },
  {
   "cell_type": "code",
   "execution_count": 45,
   "id": "fb03153f",
   "metadata": {},
   "outputs": [
    {
     "data": {
      "text/plain": [
       "[1, 0, 0, 0, 1, 0, 2, 2, 0, 0]"
      ]
     },
     "execution_count": 45,
     "metadata": {},
     "output_type": "execute_result"
    }
   ],
   "source": [
    "human_baseline_labels"
   ]
  },
  {
   "cell_type": "code",
   "execution_count": 46,
   "id": "a070557c",
   "metadata": {},
   "outputs": [],
   "source": [
    "#original_model_summaries = []\n",
    "model_classifications = []"
   ]
  },
  {
   "cell_type": "code",
   "execution_count": 47,
   "id": "ab8436a9",
   "metadata": {},
   "outputs": [],
   "source": [
    "for _, text in enumerate(texts):\n",
    "    input_ids = tokenizer(text, return_tensors=\"pt\").input_ids.to('cuda')\n",
    "    logits = model(input_ids).logits\n",
    "    probabilities = logits.softmax(dim=-1).tolist()[0]\n",
    "    model_classifications.append(np.argmax(probabilities).flatten()[0])"
   ]
  },
  {
   "cell_type": "code",
   "execution_count": 48,
   "id": "8a1a671b",
   "metadata": {},
   "outputs": [
    {
     "data": {
      "text/plain": [
       "[1, 0, 0, 1, 2, 0, 2, 0, 1, 0]"
      ]
     },
     "execution_count": 48,
     "metadata": {},
     "output_type": "execute_result"
    }
   ],
   "source": [
    "model_classifications"
   ]
  }
 ],
 "metadata": {
  "kernelspec": {
   "display_name": "Python 3 (ipykernel)",
   "language": "python",
   "name": "python3"
  },
  "language_info": {
   "codemirror_mode": {
    "name": "ipython",
    "version": 3
   },
   "file_extension": ".py",
   "mimetype": "text/x-python",
   "name": "python",
   "nbconvert_exporter": "python",
   "pygments_lexer": "ipython3",
   "version": "3.10.13"
  }
 },
 "nbformat": 4,
 "nbformat_minor": 5
}
