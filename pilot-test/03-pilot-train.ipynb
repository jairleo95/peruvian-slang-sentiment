{
 "cells": [
  {
   "cell_type": "code",
   "execution_count": 1,
   "id": "955514ed-28d2-422e-8eca-56055de9bc39",
   "metadata": {},
   "outputs": [],
   "source": [
    "#EDA"
   ]
  },
  {
   "cell_type": "code",
   "execution_count": 2,
   "id": "de09e411",
   "metadata": {},
   "outputs": [],
   "source": [
    "import torch"
   ]
  },
  {
   "cell_type": "code",
   "execution_count": 3,
   "id": "5af36065",
   "metadata": {},
   "outputs": [],
   "source": [
    "#!pip install pysentimiento transformers datasets accelerate evaluate"
   ]
  },
  {
   "cell_type": "code",
   "execution_count": null,
   "id": "c16f70f6-f93b-4be5-ac8a-33923bdf44af",
   "metadata": {},
   "outputs": [],
   "source": []
  },
  {
   "cell_type": "code",
   "execution_count": 4,
   "id": "1dcd6c81-eb73-4aa3-aa8c-ac9a46646d8b",
   "metadata": {
    "tags": []
   },
   "outputs": [],
   "source": [
    "import datasets\n",
    "import evaluate"
   ]
  },
  {
   "cell_type": "code",
   "execution_count": 5,
   "id": "ce0ec026-0099-414e-a6bf-a76776f39c3e",
   "metadata": {},
   "outputs": [],
   "source": [
    "import numpy as np\n",
    "from datasets import load_dataset"
   ]
  },
  {
   "cell_type": "code",
   "execution_count": 6,
   "id": "c9fbf152-07de-4cba-84b4-d3d871cb6eb3",
   "metadata": {
    "tags": []
   },
   "outputs": [],
   "source": [
    "import ipywidgets as widgets"
   ]
  },
  {
   "cell_type": "code",
   "execution_count": 7,
   "id": "a001ba7d",
   "metadata": {},
   "outputs": [],
   "source": [
    "#Helper Functions"
   ]
  },
  {
   "cell_type": "code",
   "execution_count": 8,
   "id": "5ba02255",
   "metadata": {},
   "outputs": [],
   "source": [
    "# label to name\n",
    "def label2name(x):\n",
    "    if x == 0:\n",
    "        return \"Negative\"\n",
    "    if x == 1:\n",
    "        return \"Neutral\"\n",
    "    if x == 2:\n",
    "        return \"Positive\""
   ]
  },
  {
   "cell_type": "code",
   "execution_count": 9,
   "id": "6d3164a0-faf4-4a4d-8a78-17b40b00c3f1",
   "metadata": {
    "tags": []
   },
   "outputs": [],
   "source": [
    "\n",
    "f1_metric = evaluate.load(\"f1\")\n",
    "recall_metric = evaluate.load(\"recall\")\n",
    "\n",
    "def compute_metrics (eval_pred):\n",
    "    logits, labels = eval_pred\n",
    "    preds = np.argmax(logits, axis = -1)\n",
    "    \n",
    "    results = {}\n",
    "    results.update(f1_metric.compute(predictions=preds, references = labels, average=\"macro\"))\n",
    "    results.update(recall_metric.compute(predictions=preds, references = labels, average=\"macro\"))\n",
    "    return results"
   ]
  },
  {
   "cell_type": "code",
   "execution_count": 10,
   "id": "0bd8b7bc-ed54-4e65-ba9a-d2835b1abca8",
   "metadata": {
    "tags": []
   },
   "outputs": [],
   "source": [
    "#Read Data\n"
   ]
  },
  {
   "cell_type": "code",
   "execution_count": 11,
   "id": "90c97202-c5c6-484f-850a-46a9ee552251",
   "metadata": {
    "tags": []
   },
   "outputs": [
    {
     "data": {
      "application/vnd.jupyter.widget-view+json": {
       "model_id": "5ee82a942b26475f81b4e8a2de72378e",
       "version_major": 2,
       "version_minor": 0
      },
      "text/plain": [
       "Downloading data files:   0%|          | 0/3 [00:00<?, ?it/s]"
      ]
     },
     "metadata": {},
     "output_type": "display_data"
    },
    {
     "data": {
      "application/vnd.jupyter.widget-view+json": {
       "model_id": "56fba8014faa440bb9b984c182621157",
       "version_major": 2,
       "version_minor": 0
      },
      "text/plain": [
       "Extracting data files:   0%|          | 0/3 [00:00<?, ?it/s]"
      ]
     },
     "metadata": {},
     "output_type": "display_data"
    },
    {
     "data": {
      "application/vnd.jupyter.widget-view+json": {
       "model_id": "54cc997aed1d4880ad86dae1891fe171",
       "version_major": 2,
       "version_minor": 0
      },
      "text/plain": [
       "Generating train split: 0 examples [00:00, ? examples/s]"
      ]
     },
     "metadata": {},
     "output_type": "display_data"
    },
    {
     "data": {
      "application/vnd.jupyter.widget-view+json": {
       "model_id": "fca47e444e804ca985a00262f4ed6ec1",
       "version_major": 2,
       "version_minor": 0
      },
      "text/plain": [
       "Generating validation split: 0 examples [00:00, ? examples/s]"
      ]
     },
     "metadata": {},
     "output_type": "display_data"
    },
    {
     "data": {
      "application/vnd.jupyter.widget-view+json": {
       "model_id": "477eed0e2c2a43ddb34dcb6b8e795578",
       "version_major": 2,
       "version_minor": 0
      },
      "text/plain": [
       "Generating test split: 0 examples [00:00, ? examples/s]"
      ]
     },
     "metadata": {},
     "output_type": "display_data"
    }
   ],
   "source": [
    "data_files = {\"train\": \"data/train.csv\", \"validation\": \"data/val.csv\", \"test\": \"data/test.csv\"}\n",
    "ds = load_dataset(\"csv\", data_files=data_files)"
   ]
  },
  {
   "cell_type": "code",
   "execution_count": 12,
   "id": "8087bffe-c868-4323-90f0-4c6951f4fb5c",
   "metadata": {
    "tags": []
   },
   "outputs": [
    {
     "data": {
      "text/plain": [
       "DatasetDict({\n",
       "    train: Dataset({\n",
       "        features: ['text', 'label', 'label_name', 'tokenized_text', 'sent_token_length', 'sent_bert_token_length', 'char_count', 'Character Count'],\n",
       "        num_rows: 573\n",
       "    })\n",
       "    validation: Dataset({\n",
       "        features: ['text', 'label', 'label_name', 'tokenized_text', 'sent_token_length', 'sent_bert_token_length', 'char_count', 'Character Count'],\n",
       "        num_rows: 71\n",
       "    })\n",
       "    test: Dataset({\n",
       "        features: ['text', 'label', 'label_name', 'tokenized_text', 'sent_token_length', 'sent_bert_token_length', 'char_count', 'Character Count'],\n",
       "        num_rows: 64\n",
       "    })\n",
       "})"
      ]
     },
     "execution_count": 12,
     "metadata": {},
     "output_type": "execute_result"
    }
   ],
   "source": [
    "ds"
   ]
  },
  {
   "cell_type": "code",
   "execution_count": null,
   "id": "a3ca4ba6",
   "metadata": {},
   "outputs": [],
   "source": []
  },
  {
   "cell_type": "code",
   "execution_count": 13,
   "id": "0c7abe81-d2ab-49c3-92bf-6c6e36d5d852",
   "metadata": {},
   "outputs": [
    {
     "data": {
      "text/plain": [
       "{'text': Value(dtype='string', id=None),\n",
       " 'label': Value(dtype='int64', id=None),\n",
       " 'label_name': Value(dtype='string', id=None),\n",
       " 'tokenized_text': Value(dtype='string', id=None),\n",
       " 'sent_token_length': Value(dtype='int64', id=None),\n",
       " 'sent_bert_token_length': Value(dtype='int64', id=None),\n",
       " 'char_count': Value(dtype='int64', id=None),\n",
       " 'Character Count': Value(dtype='int64', id=None)}"
      ]
     },
     "execution_count": 13,
     "metadata": {},
     "output_type": "execute_result"
    }
   ],
   "source": [
    "ds[\"train\"].features"
   ]
  },
  {
   "cell_type": "code",
   "execution_count": 14,
   "id": "9a33842b-42eb-4966-8b48-f3dd7e1aeb33",
   "metadata": {},
   "outputs": [
    {
     "data": {
      "text/plain": [
       "[0, 0, 1, 1, 0, 0, 1, 0, 1, 0]"
      ]
     },
     "execution_count": 14,
     "metadata": {},
     "output_type": "execute_result"
    }
   ],
   "source": [
    "ds[\"test\"][\"label\"][:10]"
   ]
  },
  {
   "cell_type": "code",
   "execution_count": 15,
   "id": "68d24890",
   "metadata": {},
   "outputs": [
    {
     "data": {
      "text/html": [
       "<div>\n",
       "<style scoped>\n",
       "    .dataframe tbody tr th:only-of-type {\n",
       "        vertical-align: middle;\n",
       "    }\n",
       "\n",
       "    .dataframe tbody tr th {\n",
       "        vertical-align: top;\n",
       "    }\n",
       "\n",
       "    .dataframe thead th {\n",
       "        text-align: right;\n",
       "    }\n",
       "</style>\n",
       "<table border=\"1\" class=\"dataframe\">\n",
       "  <thead>\n",
       "    <tr style=\"text-align: right;\">\n",
       "      <th></th>\n",
       "      <th>text</th>\n",
       "      <th>label</th>\n",
       "      <th>label_name</th>\n",
       "      <th>tokenized_text</th>\n",
       "      <th>sent_token_length</th>\n",
       "      <th>sent_bert_token_length</th>\n",
       "      <th>char_count</th>\n",
       "      <th>Character Count</th>\n",
       "    </tr>\n",
       "  </thead>\n",
       "  <tbody>\n",
       "    <tr>\n",
       "      <th>0</th>\n",
       "      <td>Un día me cae un piedrón y la cagada</td>\n",
       "      <td>0</td>\n",
       "      <td>Negative</td>\n",
       "      <td>Un día me cae un piedrón y la cagada</td>\n",
       "      <td>9</td>\n",
       "      <td>11</td>\n",
       "      <td>36</td>\n",
       "      <td>36</td>\n",
       "    </tr>\n",
       "    <tr>\n",
       "      <th>1</th>\n",
       "      <td>si no tienes ganas ahorita te lo comes después</td>\n",
       "      <td>1</td>\n",
       "      <td>Neutral</td>\n",
       "      <td>si no tienes ganas ahorita te lo comes después</td>\n",
       "      <td>9</td>\n",
       "      <td>9</td>\n",
       "      <td>46</td>\n",
       "      <td>46</td>\n",
       "    </tr>\n",
       "    <tr>\n",
       "      <th>2</th>\n",
       "      <td>Estabas en piyama, no encontrabas el calzoncil...</td>\n",
       "      <td>1</td>\n",
       "      <td>Neutral</td>\n",
       "      <td>Estabas en piyama, no encontrabas el calzoncil...</td>\n",
       "      <td>27</td>\n",
       "      <td>38</td>\n",
       "      <td>154</td>\n",
       "      <td>154</td>\n",
       "    </tr>\n",
       "    <tr>\n",
       "      <th>3</th>\n",
       "      <td>tanta huevada</td>\n",
       "      <td>0</td>\n",
       "      <td>Negative</td>\n",
       "      <td>tanta huevada</td>\n",
       "      <td>2</td>\n",
       "      <td>3</td>\n",
       "      <td>13</td>\n",
       "      <td>13</td>\n",
       "    </tr>\n",
       "    <tr>\n",
       "      <th>4</th>\n",
       "      <td>Pero si los numerarios se enteran, la cagada</td>\n",
       "      <td>0</td>\n",
       "      <td>Negative</td>\n",
       "      <td>Pero si los numerarios se enteran, la cagada</td>\n",
       "      <td>8</td>\n",
       "      <td>10</td>\n",
       "      <td>45</td>\n",
       "      <td>45</td>\n",
       "    </tr>\n",
       "  </tbody>\n",
       "</table>\n",
       "</div>"
      ],
      "text/plain": [
       "                                                text  label label_name  \\\n",
       "0               Un día me cae un piedrón y la cagada      0   Negative   \n",
       "1     si no tienes ganas ahorita te lo comes después      1    Neutral   \n",
       "2  Estabas en piyama, no encontrabas el calzoncil...      1    Neutral   \n",
       "3                                      tanta huevada      0   Negative   \n",
       "4      Pero si los numerarios se enteran, la cagada      0   Negative   \n",
       "\n",
       "                                      tokenized_text  sent_token_length  \\\n",
       "0               Un día me cae un piedrón y la cagada                  9   \n",
       "1     si no tienes ganas ahorita te lo comes después                  9   \n",
       "2  Estabas en piyama, no encontrabas el calzoncil...                 27   \n",
       "3                                      tanta huevada                  2   \n",
       "4      Pero si los numerarios se enteran, la cagada                  8   \n",
       "\n",
       "   sent_bert_token_length  char_count  Character Count  \n",
       "0                      11          36               36  \n",
       "1                       9          46               46  \n",
       "2                      38         154              154  \n",
       "3                       3          13               13  \n",
       "4                      10          45               45  "
      ]
     },
     "execution_count": 15,
     "metadata": {},
     "output_type": "execute_result"
    }
   ],
   "source": [
    "df = ds['train'].to_pandas()\n",
    "df.head()"
   ]
  },
  {
   "cell_type": "code",
   "execution_count": 16,
   "id": "7c0615c2",
   "metadata": {},
   "outputs": [],
   "source": [
    "# encode label and mapping label name\n",
    "#df[\"label\"] = df[\"label\"].apply(lambda x: label_encode(x))\n",
    "df[\"label_name\"] = df[\"label\"].apply(lambda x: label2name(x))"
   ]
  },
  {
   "cell_type": "code",
   "execution_count": 17,
   "id": "4c00ccd4",
   "metadata": {},
   "outputs": [],
   "source": [
    "# clean text, lowercase and remove punk\n",
    "#df[\"text\"] = df[\"text\"].apply(lambda x: remove_punct(clean(remove_emoji(x).lower())[0][0]))"
   ]
  },
  {
   "cell_type": "code",
   "execution_count": 18,
   "id": "05636464",
   "metadata": {},
   "outputs": [
    {
     "data": {
      "text/html": [
       "<div>\n",
       "<style scoped>\n",
       "    .dataframe tbody tr th:only-of-type {\n",
       "        vertical-align: middle;\n",
       "    }\n",
       "\n",
       "    .dataframe tbody tr th {\n",
       "        vertical-align: top;\n",
       "    }\n",
       "\n",
       "    .dataframe thead th {\n",
       "        text-align: right;\n",
       "    }\n",
       "</style>\n",
       "<table border=\"1\" class=\"dataframe\">\n",
       "  <thead>\n",
       "    <tr style=\"text-align: right;\">\n",
       "      <th></th>\n",
       "      <th>text</th>\n",
       "      <th>label</th>\n",
       "      <th>label_name</th>\n",
       "      <th>tokenized_text</th>\n",
       "      <th>sent_token_length</th>\n",
       "      <th>sent_bert_token_length</th>\n",
       "      <th>char_count</th>\n",
       "      <th>Character Count</th>\n",
       "    </tr>\n",
       "  </thead>\n",
       "  <tbody>\n",
       "    <tr>\n",
       "      <th>0</th>\n",
       "      <td>Un día me cae un piedrón y la cagada</td>\n",
       "      <td>0</td>\n",
       "      <td>Negative</td>\n",
       "      <td>Un día me cae un piedrón y la cagada</td>\n",
       "      <td>9</td>\n",
       "      <td>11</td>\n",
       "      <td>36</td>\n",
       "      <td>36</td>\n",
       "    </tr>\n",
       "    <tr>\n",
       "      <th>1</th>\n",
       "      <td>si no tienes ganas ahorita te lo comes después</td>\n",
       "      <td>1</td>\n",
       "      <td>Neutral</td>\n",
       "      <td>si no tienes ganas ahorita te lo comes después</td>\n",
       "      <td>9</td>\n",
       "      <td>9</td>\n",
       "      <td>46</td>\n",
       "      <td>46</td>\n",
       "    </tr>\n",
       "    <tr>\n",
       "      <th>2</th>\n",
       "      <td>Estabas en piyama, no encontrabas el calzoncil...</td>\n",
       "      <td>1</td>\n",
       "      <td>Neutral</td>\n",
       "      <td>Estabas en piyama, no encontrabas el calzoncil...</td>\n",
       "      <td>27</td>\n",
       "      <td>38</td>\n",
       "      <td>154</td>\n",
       "      <td>154</td>\n",
       "    </tr>\n",
       "    <tr>\n",
       "      <th>3</th>\n",
       "      <td>tanta huevada</td>\n",
       "      <td>0</td>\n",
       "      <td>Negative</td>\n",
       "      <td>tanta huevada</td>\n",
       "      <td>2</td>\n",
       "      <td>3</td>\n",
       "      <td>13</td>\n",
       "      <td>13</td>\n",
       "    </tr>\n",
       "    <tr>\n",
       "      <th>4</th>\n",
       "      <td>Pero si los numerarios se enteran, la cagada</td>\n",
       "      <td>0</td>\n",
       "      <td>Negative</td>\n",
       "      <td>Pero si los numerarios se enteran, la cagada</td>\n",
       "      <td>8</td>\n",
       "      <td>10</td>\n",
       "      <td>45</td>\n",
       "      <td>45</td>\n",
       "    </tr>\n",
       "  </tbody>\n",
       "</table>\n",
       "</div>"
      ],
      "text/plain": [
       "                                                text  label label_name  \\\n",
       "0               Un día me cae un piedrón y la cagada      0   Negative   \n",
       "1     si no tienes ganas ahorita te lo comes después      1    Neutral   \n",
       "2  Estabas en piyama, no encontrabas el calzoncil...      1    Neutral   \n",
       "3                                      tanta huevada      0   Negative   \n",
       "4      Pero si los numerarios se enteran, la cagada      0   Negative   \n",
       "\n",
       "                                      tokenized_text  sent_token_length  \\\n",
       "0               Un día me cae un piedrón y la cagada                  9   \n",
       "1     si no tienes ganas ahorita te lo comes después                  9   \n",
       "2  Estabas en piyama, no encontrabas el calzoncil...                 27   \n",
       "3                                      tanta huevada                  2   \n",
       "4      Pero si los numerarios se enteran, la cagada                  8   \n",
       "\n",
       "   sent_bert_token_length  char_count  Character Count  \n",
       "0                      11          36               36  \n",
       "1                       9          46               46  \n",
       "2                      38         154              154  \n",
       "3                       3          13               13  \n",
       "4                      10          45               45  "
      ]
     },
     "execution_count": 18,
     "metadata": {},
     "output_type": "execute_result"
    }
   ],
   "source": [
    "df.head()"
   ]
  },
  {
   "cell_type": "code",
   "execution_count": 19,
   "id": "8299b318-0204-49cb-bf9a-14834e7796cb",
   "metadata": {
    "tags": []
   },
   "outputs": [
    {
     "name": "stderr",
     "output_type": "stream",
     "text": [
      "Some weights of RobertaForSequenceClassification were not initialized from the model checkpoint at pysentimiento/robertuito-base-uncased and are newly initialized: ['classifier.dense.weight', 'classifier.out_proj.weight', 'classifier.dense.bias', 'classifier.out_proj.bias']\n",
      "You should probably TRAIN this model on a down-stream task to be able to use it for predictions and inference.\n"
     ]
    }
   ],
   "source": [
    "from transformers import AutoModelForSequenceClassification, AutoTokenizer\n",
    "\n",
    "model_name = \"pysentimiento/robertuito-base-uncased\"\n",
    "\n",
    "model = AutoModelForSequenceClassification.from_pretrained(\n",
    "    model_name,\n",
    "    num_labels=3\n",
    ")\n",
    "tokenizer = AutoTokenizer.from_pretrained(model_name)\n",
    "tokenizer.model_max_length = 128"
   ]
  },
  {
   "cell_type": "code",
   "execution_count": 20,
   "id": "da7b8124",
   "metadata": {},
   "outputs": [],
   "source": [
    "# columns = ['input_ids', 'attention_mask', 'label']\n",
    "# ds.set_format(type='torch', columns=columns)\n",
    "# ds"
   ]
  },
  {
   "cell_type": "code",
   "execution_count": null,
   "id": "ae25e978",
   "metadata": {},
   "outputs": [],
   "source": []
  },
  {
   "cell_type": "code",
   "execution_count": 21,
   "id": "8ed569d2-67ca-405d-aa88-3e6de71a2356",
   "metadata": {
    "tags": []
   },
   "outputs": [
    {
     "data": {
      "application/vnd.jupyter.widget-view+json": {
       "model_id": "7803a768f89b4d5782c968a67402d779",
       "version_major": 2,
       "version_minor": 0
      },
      "text/plain": [
       "Map:   0%|          | 0/573 [00:00<?, ? examples/s]"
      ]
     },
     "metadata": {},
     "output_type": "display_data"
    },
    {
     "data": {
      "application/vnd.jupyter.widget-view+json": {
       "model_id": "49bf698475e04bb09e94e7d92975bb17",
       "version_major": 2,
       "version_minor": 0
      },
      "text/plain": [
       "Map:   0%|          | 0/71 [00:00<?, ? examples/s]"
      ]
     },
     "metadata": {},
     "output_type": "display_data"
    },
    {
     "data": {
      "application/vnd.jupyter.widget-view+json": {
       "model_id": "8ef519b05fc0480ca92496dcd0f72509",
       "version_major": 2,
       "version_minor": 0
      },
      "text/plain": [
       "Map:   0%|          | 0/64 [00:00<?, ? examples/s]"
      ]
     },
     "metadata": {},
     "output_type": "display_data"
    }
   ],
   "source": [
    "from pysentimiento.preprocessing import preprocess_tweet\n",
    "preprocessed_ds = ds.map(lambda ex: {\"text\": preprocess_tweet(ex[\"text\"], lang=\"es\")})"
   ]
  },
  {
   "cell_type": "code",
   "execution_count": 22,
   "id": "99a78d85-4029-4621-b692-f63f396a2f6f",
   "metadata": {
    "tags": []
   },
   "outputs": [
    {
     "data": {
      "application/vnd.jupyter.widget-view+json": {
       "model_id": "01cab9b02d4b4dc2ae6f3302506b5c2a",
       "version_major": 2,
       "version_minor": 0
      },
      "text/plain": [
       "Map:   0%|          | 0/573 [00:00<?, ? examples/s]"
      ]
     },
     "metadata": {},
     "output_type": "display_data"
    },
    {
     "data": {
      "application/vnd.jupyter.widget-view+json": {
       "model_id": "88cfc6e607404c17886af33be9bd9451",
       "version_major": 2,
       "version_minor": 0
      },
      "text/plain": [
       "Map:   0%|          | 0/71 [00:00<?, ? examples/s]"
      ]
     },
     "metadata": {},
     "output_type": "display_data"
    },
    {
     "data": {
      "application/vnd.jupyter.widget-view+json": {
       "model_id": "88fa7cce4e374e55829f482b00d2fab0",
       "version_major": 2,
       "version_minor": 0
      },
      "text/plain": [
       "Map:   0%|          | 0/64 [00:00<?, ? examples/s]"
      ]
     },
     "metadata": {},
     "output_type": "display_data"
    }
   ],
   "source": [
    "tokenized_ds = preprocessed_ds.map(\n",
    "    lambda batch: tokenizer(\n",
    "        batch[\"text\"], padding=True, truncation=True\n",
    "        ),\n",
    "    batched=True, batch_size=32\n",
    ")"
   ]
  },
  {
   "cell_type": "code",
   "execution_count": 23,
   "id": "1dd95bf5",
   "metadata": {},
   "outputs": [
    {
     "data": {
      "text/plain": [
       "DatasetDict({\n",
       "    train: Dataset({\n",
       "        features: ['text', 'label', 'label_name', 'tokenized_text', 'sent_token_length', 'sent_bert_token_length', 'char_count', 'Character Count', 'input_ids', 'token_type_ids', 'attention_mask'],\n",
       "        num_rows: 573\n",
       "    })\n",
       "    validation: Dataset({\n",
       "        features: ['text', 'label', 'label_name', 'tokenized_text', 'sent_token_length', 'sent_bert_token_length', 'char_count', 'Character Count', 'input_ids', 'token_type_ids', 'attention_mask'],\n",
       "        num_rows: 71\n",
       "    })\n",
       "    test: Dataset({\n",
       "        features: ['text', 'label', 'label_name', 'tokenized_text', 'sent_token_length', 'sent_bert_token_length', 'char_count', 'Character Count', 'input_ids', 'token_type_ids', 'attention_mask'],\n",
       "        num_rows: 64\n",
       "    })\n",
       "})"
      ]
     },
     "execution_count": 23,
     "metadata": {},
     "output_type": "execute_result"
    }
   ],
   "source": [
    "tokenized_ds"
   ]
  },
  {
   "cell_type": "code",
   "execution_count": 24,
   "id": "d3634bf4",
   "metadata": {},
   "outputs": [
    {
     "data": {
      "text/plain": [
       "[0,\n",
       " 471,\n",
       " 783,\n",
       " 474,\n",
       " 3816,\n",
       " 471,\n",
       " 4822,\n",
       " 985,\n",
       " 478,\n",
       " 445,\n",
       " 446,\n",
       " 9473,\n",
       " 2,\n",
       " 1,\n",
       " 1,\n",
       " 1,\n",
       " 1,\n",
       " 1,\n",
       " 1,\n",
       " 1,\n",
       " 1,\n",
       " 1,\n",
       " 1,\n",
       " 1,\n",
       " 1,\n",
       " 1,\n",
       " 1,\n",
       " 1,\n",
       " 1,\n",
       " 1,\n",
       " 1,\n",
       " 1,\n",
       " 1,\n",
       " 1,\n",
       " 1,\n",
       " 1,\n",
       " 1,\n",
       " 1,\n",
       " 1,\n",
       " 1]"
      ]
     },
     "execution_count": 24,
     "metadata": {},
     "output_type": "execute_result"
    }
   ],
   "source": [
    "tokenized_ds['train']['input_ids'][0]"
   ]
  },
  {
   "cell_type": "code",
   "execution_count": 25,
   "id": "7c23fbba",
   "metadata": {},
   "outputs": [
    {
     "data": {
      "text/plain": [
       "[1,\n",
       " 1,\n",
       " 1,\n",
       " 1,\n",
       " 1,\n",
       " 1,\n",
       " 1,\n",
       " 1,\n",
       " 1,\n",
       " 1,\n",
       " 1,\n",
       " 1,\n",
       " 1,\n",
       " 0,\n",
       " 0,\n",
       " 0,\n",
       " 0,\n",
       " 0,\n",
       " 0,\n",
       " 0,\n",
       " 0,\n",
       " 0,\n",
       " 0,\n",
       " 0,\n",
       " 0,\n",
       " 0,\n",
       " 0,\n",
       " 0,\n",
       " 0,\n",
       " 0,\n",
       " 0,\n",
       " 0,\n",
       " 0,\n",
       " 0,\n",
       " 0,\n",
       " 0,\n",
       " 0,\n",
       " 0,\n",
       " 0,\n",
       " 0]"
      ]
     },
     "execution_count": 25,
     "metadata": {},
     "output_type": "execute_result"
    }
   ],
   "source": [
    "tokenized_ds['train']['attention_mask'][0]"
   ]
  },
  {
   "cell_type": "code",
   "execution_count": 26,
   "id": "f6d33cad",
   "metadata": {},
   "outputs": [
    {
     "data": {
      "text/plain": [
       "'Un día me cae un piedrón y la cagada'"
      ]
     },
     "execution_count": 26,
     "metadata": {},
     "output_type": "execute_result"
    }
   ],
   "source": [
    "tokenized_ds['train']['text'][0]"
   ]
  },
  {
   "cell_type": "code",
   "execution_count": 27,
   "id": "c88c53d1-0c5b-4b97-910a-75f6991d2d6f",
   "metadata": {
    "tags": []
   },
   "outputs": [],
   "source": [
    "#!pip install ipdb"
   ]
  },
  {
   "cell_type": "code",
   "execution_count": 28,
   "id": "469074ed-9e65-4a9e-913c-6151f5c5d8b3",
   "metadata": {},
   "outputs": [],
   "source": [
    "#import torch\n",
    "#device = \"cuda\" if torch.cuda.is_available() else \"cpu\"\n",
    "#model.cuda()"
   ]
  },
  {
   "cell_type": "code",
   "execution_count": 29,
   "id": "5d56e2f2-159e-4ffe-86fc-3659ed308b89",
   "metadata": {},
   "outputs": [],
   "source": [
    "from transformers import TrainingArguments, Trainer, DataCollatorWithPadding\n",
    "\n",
    "training_args = TrainingArguments(\n",
    "    per_device_train_batch_size=32,\n",
    "    output_dir=\"test_trainer\",\n",
    "    do_eval=True,\n",
    "    evaluation_strategy=\"epoch\",\n",
    "    num_train_epochs=5,\n",
    ")\n",
    "\n",
    "trainer = Trainer(\n",
    "    model=model,\n",
    "    args=training_args,\n",
    "    train_dataset=tokenized_ds[\"train\"],\n",
    "    eval_dataset=tokenized_ds[\"validation\"],\n",
    "    compute_metrics=compute_metrics,\n",
    "    data_collator=DataCollatorWithPadding(tokenizer=tokenizer),\n",
    ")"
   ]
  },
  {
   "cell_type": "code",
   "execution_count": 30,
   "id": "6be1933a-b930-410d-91ff-646bdcb9a80f",
   "metadata": {
    "tags": []
   },
   "outputs": [
    {
     "name": "stdout",
     "output_type": "stream",
     "text": [
      "{'eval_loss': 0.8980010747909546, 'eval_f1': 0.41108765345218545, 'eval_recall': 0.4360902255639098, 'eval_runtime': 0.1544, 'eval_samples_per_second': 459.968, 'eval_steps_per_second': 58.306, 'epoch': 1.0}\n",
      "{'eval_loss': 0.7632585167884827, 'eval_f1': 0.5654320987654321, 'eval_recall': 0.5463659147869674, 'eval_runtime': 0.1369, 'eval_samples_per_second': 518.593, 'eval_steps_per_second': 65.737, 'epoch': 2.0}\n",
      "{'eval_loss': 0.6610168218612671, 'eval_f1': 0.6927934810287751, 'eval_recall': 0.6666666666666666, 'eval_runtime': 0.1403, 'eval_samples_per_second': 505.976, 'eval_steps_per_second': 64.138, 'epoch': 3.0}\n",
      "{'eval_loss': 0.658694863319397, 'eval_f1': 0.680865800865801, 'eval_recall': 0.6641604010025063, 'eval_runtime': 0.1367, 'eval_samples_per_second': 519.363, 'eval_steps_per_second': 65.835, 'epoch': 4.0}\n",
      "{'eval_loss': 0.6563352346420288, 'eval_f1': 0.6857594820292094, 'eval_recall': 0.6729323308270677, 'eval_runtime': 0.1344, 'eval_samples_per_second': 528.44, 'eval_steps_per_second': 66.985, 'epoch': 5.0}\n",
      "{'train_runtime': 25.0078, 'train_samples_per_second': 114.564, 'train_steps_per_second': 3.599, 'train_loss': 0.5623340606689453, 'epoch': 5.0}\n"
     ]
    },
    {
     "data": {
      "text/plain": [
       "TrainOutput(global_step=90, training_loss=0.5623340606689453, metrics={'train_runtime': 25.0078, 'train_samples_per_second': 114.564, 'train_steps_per_second': 3.599, 'train_loss': 0.5623340606689453, 'epoch': 5.0})"
      ]
     },
     "execution_count": 30,
     "metadata": {},
     "output_type": "execute_result"
    }
   ],
   "source": [
    "trainer.train()"
   ]
  },
  {
   "cell_type": "code",
   "execution_count": 31,
   "id": "f2c407d3-9fa8-402c-85eb-7061a55c9984",
   "metadata": {
    "tags": []
   },
   "outputs": [],
   "source": [
    "#Test on validation set"
   ]
  },
  {
   "cell_type": "code",
   "execution_count": 32,
   "id": "34fec069",
   "metadata": {},
   "outputs": [
    {
     "name": "stdout",
     "output_type": "stream",
     "text": [
      "{'eval_loss': 0.6635341644287109, 'eval_f1': 0.753154160696187, 'eval_recall': 0.746606334841629, 'eval_runtime': 0.1506, 'eval_samples_per_second': 424.996, 'eval_steps_per_second': 53.124, 'epoch': 5.0}\n"
     ]
    },
    {
     "data": {
      "text/plain": [
       "{'eval_loss': 0.6635341644287109,\n",
       " 'eval_f1': 0.753154160696187,\n",
       " 'eval_recall': 0.746606334841629,\n",
       " 'eval_runtime': 0.1506,\n",
       " 'eval_samples_per_second': 424.996,\n",
       " 'eval_steps_per_second': 53.124,\n",
       " 'epoch': 5.0}"
      ]
     },
     "execution_count": 32,
     "metadata": {},
     "output_type": "execute_result"
    }
   ],
   "source": [
    "trainer.evaluate(tokenized_ds[\"test\"])"
   ]
  },
  {
   "cell_type": "code",
   "execution_count": 33,
   "id": "b7075d08",
   "metadata": {},
   "outputs": [
    {
     "data": {
      "text/plain": [
       "['\\x97¿Qué te pasa oye? ¿Por qué estás así todo achorado?',\n",
       " 'No seas maricón',\n",
       " 'es un chibolo',\n",
       " 'No me chupo con mayores',\n",
       " 'Un soplón de porquería',\n",
       " 'Eres un enfermo, conchatumadre',\n",
       " 'El próximo sábado hay una pichanga',\n",
       " 'Fui un huevón',\n",
       " 'El día que ellos vengan, tú zafas al toque',\n",
       " 'cuando venga lo voy a cuadrar',\n",
       " 'Un día me cae un piedrón y la cagada',\n",
       " 'Es una huachafita con el pelo pintado',\n",
       " 'Y quizá te manden a la cárcel',\n",
       " 'Mis viejos me han hecho la vida imposible',\n",
       " 'Cuando oí los pitazos, los balazos y los carajos salí corriendo hacia ellos, pero me di cuenta que estaban ensartados: en la esquina había tres patrulleros',\n",
       " 'Cholo miserable, cobarde',\n",
       " 'el periodismo ha hecho un chongo con el caso del huevón ese',\n",
       " 'Estaba templado de sus tetas',\n",
       " 'Ya le dije enantes',\n",
       " 'Quédate con esa plata y déjame ir',\n",
       " 'Primero me sales con que eres maricón',\n",
       " 'le digo pe\\x92, le voy a tener miedo a ese huevón',\n",
       " 'Ahora que manejas plata ya no quieres estudiar',\n",
       " 'Ahorita vengo',\n",
       " 'Hazlo por tu mamacita, que ya está vieja',\n",
       " 'Joaquín sacó su billetera y le dio su brevete',\n",
       " '\\x97Alucina ese comentario, qué salvaje tu pata',\n",
       " 'Chau, amorcito, un besito en el ombligo',\n",
       " 'Y lo mejor es que no hay cholos',\n",
       " 'así chibolo ah',\n",
       " 'Era blanca y fina y tenía fama de compasiva',\n",
       " 'El maletero no volteó',\n",
       " 'Hablaremos mañana y espero que todo se aclare',\n",
       " '\\x97Estás verde, choche',\n",
       " '\\x97Abre, carajo \\x97gritó',\n",
       " 'Yo soy Misterio, saco mi fierro y te mato',\n",
       " 'mañana tengo que chambear',\n",
       " '\\x97Se quemaron por pajeros, se quemaron por pajeros \\x97gritaban unos muchachos, riéndose de la gente que salía a toda prisa del Colón',\n",
       " 'Una cana al aire de vez en cuando, Cayo',\n",
       " 'Piensa: debe ser rico llegar a tu casa y que tu esposa te prepare una buena comida, que tenga tus camisas planchaditas, que te corte las uñas y te eche talquito en los huevos, que tus chibolos jueguen contigo y te hagan cagar de risa',\n",
       " 'Y él: era una vivísima, se conseguirá otro platudo antes de que cante un gallo',\n",
       " 'Sería el deshueve si te animas a venir, Joaquín',\n",
       " 'Debe ser jodido trabajar en la bolsa',\n",
       " 'Vas a ver qué rico culean esas cholitas',\n",
       " '\\x97Sería mostro, flaco',\n",
       " 'no nos ganan, hermano, no nos ganan',\n",
       " 'Solo ha sido una pichanguita',\n",
       " '\\x97Al toque, Coqui',\n",
       " 'Hablas a tu mujer como si te acabaras de casar',\n",
       " 'CARADURA:  ¡Qué bacán!',\n",
       " 'Estamos con la bajada',\n",
       " 'Estás fregado',\n",
       " '-Te ha dejado plantado',\n",
       " 'Tú parece que hablaras por el poto, muchacho',\n",
       " 'A ti te ha fregado',\n",
       " '\\x97Cinco pobres diablos, para remate uno de ellos viejo y con soroche',\n",
       " 'EL CHACAL:  Hay que hablarlo pe\\x92 causa',\n",
       " 'No seas rosquete, pecoso',\n",
       " 'Mis viejos me han hecho la vida imposible',\n",
       " 'con esa hinchada loca\\x85 te sigue a donde vas',\n",
       " '\\x97Si don Armando te escucha decir lisuras, te vas a fregar \\x97dijo Juan Manuel',\n",
       " 'Siempre fue un maricón',\n",
       " 'y no me dicen loca por las huevas',\n",
       " 'tú eres bacán ¿no?']"
      ]
     },
     "execution_count": 33,
     "metadata": {},
     "output_type": "execute_result"
    }
   ],
   "source": [
    "ds['test']['text']"
   ]
  },
  {
   "cell_type": "code",
   "execution_count": 34,
   "id": "57814e98",
   "metadata": {},
   "outputs": [],
   "source": [
    "#model.load_state_dict(torch.load(f'./_BERT_epoch_3.model', map_location=torch.device('cpu')))"
   ]
  },
  {
   "cell_type": "code",
   "execution_count": 35,
   "id": "ed4ae6f3",
   "metadata": {},
   "outputs": [],
   "source": [
    "#Error Analisys"
   ]
  },
  {
   "cell_type": "code",
   "execution_count": 36,
   "id": "46bbd55b",
   "metadata": {},
   "outputs": [],
   "source": [
    "val_df = ds['validation'].to_pandas()\n",
    "#val_df"
   ]
  },
  {
   "cell_type": "code",
   "execution_count": 37,
   "id": "f9f23107",
   "metadata": {},
   "outputs": [],
   "source": [
    "from tqdm.notebook import tqdm"
   ]
  },
  {
   "cell_type": "code",
   "execution_count": 38,
   "id": "737a62b3",
   "metadata": {},
   "outputs": [],
   "source": [
    "# step by step predictions on dataframe\n",
    "# We do this to view predictions in the pandas dataframe and easily filter them and perform error analysis.\n",
    "pred_final = []\n",
    "\n",
    "# for i, row in tqdm(val_df.iterrows(), total=val_df.shape[0]):\n",
    "#     predictions = []\n",
    "\n",
    "#     text = row[\"text\"]\n",
    "#     encoded_data_test_single = tokenizer.batch_encode_plus([text], \n",
    "#     add_special_tokens=config.add_special_tokens, \n",
    "#     return_attention_mask=config.return_attention_mask, \n",
    "#     pad_to_max_length=config.pad_to_max_length, \n",
    "#     max_length=config.seq_length,\n",
    "#     return_tensors=config.return_tensors\n",
    "#     )\n",
    "#     input_ids_test = encoded_data_test_single['input_ids']\n",
    "#     attention_masks_test = encoded_data_test_single['attention_mask']\n",
    "\n",
    "    \n",
    "#     inputs = {'input_ids':      input_ids_test.to(device),\n",
    "#               'attention_mask':attention_masks_test.to(device),\n",
    "#              }\n",
    "\n",
    "#     with torch.no_grad():        \n",
    "#         outputs = model(**inputs)\n",
    "    \n",
    "#     logits = outputs[0]\n",
    "#     logits = logits.detach().cpu().numpy()\n",
    "#     predictions.append(logits)\n",
    "#     predictions = np.concatenate(predictions, axis=0)\n",
    "#     pred_final.append(np.argmax(predictions, axis=1).flatten()[0])"
   ]
  },
  {
   "cell_type": "code",
   "execution_count": 39,
   "id": "e2d5ea48-4899-4cb3-9027-0ea1cf46c0e0",
   "metadata": {},
   "outputs": [
    {
     "data": {
      "text/html": [
       "<div>\n",
       "<style scoped>\n",
       "    .dataframe tbody tr th:only-of-type {\n",
       "        vertical-align: middle;\n",
       "    }\n",
       "\n",
       "    .dataframe tbody tr th {\n",
       "        vertical-align: top;\n",
       "    }\n",
       "\n",
       "    .dataframe thead th {\n",
       "        text-align: right;\n",
       "    }\n",
       "</style>\n",
       "<table border=\"1\" class=\"dataframe\">\n",
       "  <thead>\n",
       "    <tr style=\"text-align: right;\">\n",
       "      <th></th>\n",
       "      <th>text</th>\n",
       "      <th>label</th>\n",
       "      <th>label_name</th>\n",
       "      <th>tokenized_text</th>\n",
       "      <th>sent_token_length</th>\n",
       "      <th>sent_bert_token_length</th>\n",
       "      <th>char_count</th>\n",
       "      <th>Character Count</th>\n",
       "    </tr>\n",
       "  </thead>\n",
       "  <tbody>\n",
       "    <tr>\n",
       "      <th>513</th>\n",
       "      <td>Qué tal concha, carajo</td>\n",
       "      <td>0</td>\n",
       "      <td>Negative</td>\n",
       "      <td>Qué tal concha, carajo</td>\n",
       "      <td>4</td>\n",
       "      <td>5</td>\n",
       "      <td>22</td>\n",
       "      <td>22</td>\n",
       "    </tr>\n",
       "    <tr>\n",
       "      <th>70</th>\n",
       "      <td>Sus viejos son una ladilla</td>\n",
       "      <td>0</td>\n",
       "      <td>Negative</td>\n",
       "      <td>Sus viejos son una ladilla</td>\n",
       "      <td>5</td>\n",
       "      <td>5</td>\n",
       "      <td>26</td>\n",
       "      <td>26</td>\n",
       "    </tr>\n",
       "    <tr>\n",
       "      <th>131</th>\n",
       "      <td>405 -Soy muy viejo</td>\n",
       "      <td>0</td>\n",
       "      <td>Negative</td>\n",
       "      <td>405 -Soy muy viejo</td>\n",
       "      <td>4</td>\n",
       "      <td>6</td>\n",
       "      <td>18</td>\n",
       "      <td>18</td>\n",
       "    </tr>\n",
       "    <tr>\n",
       "      <th>405</th>\n",
       "      <td>Mi taita, como les contaba, murió</td>\n",
       "      <td>0</td>\n",
       "      <td>Negative</td>\n",
       "      <td>Mi taita, como les contaba, murió</td>\n",
       "      <td>6</td>\n",
       "      <td>8</td>\n",
       "      <td>33</td>\n",
       "      <td>33</td>\n",
       "    </tr>\n",
       "    <tr>\n",
       "      <th>544</th>\n",
       "      <td>Yo no voy a decir nada y por la chamba</td>\n",
       "      <td>1</td>\n",
       "      <td>Neutral</td>\n",
       "      <td>Yo no voy a decir nada y por la chamba</td>\n",
       "      <td>10</td>\n",
       "      <td>10</td>\n",
       "      <td>38</td>\n",
       "      <td>38</td>\n",
       "    </tr>\n",
       "    <tr>\n",
       "      <th>321</th>\n",
       "      <td>Y conocí al Viejo en una ocasión inolvidable</td>\n",
       "      <td>2</td>\n",
       "      <td>Positive</td>\n",
       "      <td>Y conocí al Viejo en una ocasión inolvidable</td>\n",
       "      <td>8</td>\n",
       "      <td>8</td>\n",
       "      <td>44</td>\n",
       "      <td>44</td>\n",
       "    </tr>\n",
       "    <tr>\n",
       "      <th>188</th>\n",
       "      <td>Te caería bien</td>\n",
       "      <td>2</td>\n",
       "      <td>Positive</td>\n",
       "      <td>Te caería bien</td>\n",
       "      <td>3</td>\n",
       "      <td>4</td>\n",
       "      <td>14</td>\n",
       "      <td>14</td>\n",
       "    </tr>\n",
       "    <tr>\n",
       "      <th>29</th>\n",
       "      <td>y tengo ganas de ir a verte a donde carajo estés</td>\n",
       "      <td>2</td>\n",
       "      <td>Positive</td>\n",
       "      <td>y tengo ganas de ir a verte a donde carajo estés</td>\n",
       "      <td>11</td>\n",
       "      <td>11</td>\n",
       "      <td>48</td>\n",
       "      <td>48</td>\n",
       "    </tr>\n",
       "    <tr>\n",
       "      <th>81</th>\n",
       "      <td>Vas a ver que te voy a cachar rico</td>\n",
       "      <td>2</td>\n",
       "      <td>Positive</td>\n",
       "      <td>Vas a ver que te voy a cachar rico</td>\n",
       "      <td>9</td>\n",
       "      <td>10</td>\n",
       "      <td>34</td>\n",
       "      <td>34</td>\n",
       "    </tr>\n",
       "    <tr>\n",
       "      <th>310</th>\n",
       "      <td>Un cachaco que pasaba por ahí le sacó la pisto...</td>\n",
       "      <td>0</td>\n",
       "      <td>Negative</td>\n",
       "      <td>Un cachaco que pasaba por ahí le sacó la pisto...</td>\n",
       "      <td>31</td>\n",
       "      <td>40</td>\n",
       "      <td>168</td>\n",
       "      <td>168</td>\n",
       "    </tr>\n",
       "    <tr>\n",
       "      <th>465</th>\n",
       "      <td>Aclaramos de una vez que no tenía mucha plata</td>\n",
       "      <td>1</td>\n",
       "      <td>Neutral</td>\n",
       "      <td>Aclaramos de una vez que no tenía mucha plata</td>\n",
       "      <td>9</td>\n",
       "      <td>10</td>\n",
       "      <td>45</td>\n",
       "      <td>45</td>\n",
       "    </tr>\n",
       "    <tr>\n",
       "      <th>278</th>\n",
       "      <td>Toqué la campana</td>\n",
       "      <td>1</td>\n",
       "      <td>Neutral</td>\n",
       "      <td>Toqué la campana</td>\n",
       "      <td>3</td>\n",
       "      <td>4</td>\n",
       "      <td>16</td>\n",
       "      <td>16</td>\n",
       "    </tr>\n",
       "    <tr>\n",
       "      <th>535</th>\n",
       "      <td>-Te has fregado</td>\n",
       "      <td>0</td>\n",
       "      <td>Negative</td>\n",
       "      <td>-Te has fregado</td>\n",
       "      <td>3</td>\n",
       "      <td>4</td>\n",
       "      <td>15</td>\n",
       "      <td>15</td>\n",
       "    </tr>\n",
       "    <tr>\n",
       "      <th>284</th>\n",
       "      <td>No tenía plata</td>\n",
       "      <td>0</td>\n",
       "      <td>Negative</td>\n",
       "      <td>No tenía plata</td>\n",
       "      <td>3</td>\n",
       "      <td>3</td>\n",
       "      <td>14</td>\n",
       "      <td>14</td>\n",
       "    </tr>\n",
       "    <tr>\n",
       "      <th>531</th>\n",
       "      <td>Estás rojo como un tomate, huevón</td>\n",
       "      <td>0</td>\n",
       "      <td>Negative</td>\n",
       "      <td>Estás rojo como un tomate, huevón</td>\n",
       "      <td>6</td>\n",
       "      <td>8</td>\n",
       "      <td>34</td>\n",
       "      <td>34</td>\n",
       "    </tr>\n",
       "    <tr>\n",
       "      <th>83</th>\n",
       "      <td>bien chévere</td>\n",
       "      <td>2</td>\n",
       "      <td>Positive</td>\n",
       "      <td>bien chévere</td>\n",
       "      <td>2</td>\n",
       "      <td>3</td>\n",
       "      <td>12</td>\n",
       "      <td>12</td>\n",
       "    </tr>\n",
       "    <tr>\n",
       "      <th>264</th>\n",
       "      <td>No seas tímido, carajo</td>\n",
       "      <td>0</td>\n",
       "      <td>Negative</td>\n",
       "      <td>No seas tímido, carajo</td>\n",
       "      <td>4</td>\n",
       "      <td>6</td>\n",
       "      <td>22</td>\n",
       "      <td>22</td>\n",
       "    </tr>\n",
       "    <tr>\n",
       "      <th>165</th>\n",
       "      <td>En el Perú, uno es militar por las puras hueva...</td>\n",
       "      <td>0</td>\n",
       "      <td>Negative</td>\n",
       "      <td>En el Perú, uno es militar por las puras hueva...</td>\n",
       "      <td>12</td>\n",
       "      <td>13</td>\n",
       "      <td>58</td>\n",
       "      <td>58</td>\n",
       "    </tr>\n",
       "    <tr>\n",
       "      <th>101</th>\n",
       "      <td>Peter está acostumbrado a dormir en mi cama</td>\n",
       "      <td>1</td>\n",
       "      <td>Neutral</td>\n",
       "      <td>Peter está acostumbrado a dormir en mi cama</td>\n",
       "      <td>8</td>\n",
       "      <td>8</td>\n",
       "      <td>43</td>\n",
       "      <td>43</td>\n",
       "    </tr>\n",
       "    <tr>\n",
       "      <th>280</th>\n",
       "      <td>-¿Te hacías la paja pensando en ella? -No</td>\n",
       "      <td>0</td>\n",
       "      <td>Negative</td>\n",
       "      <td>-¿Te hacías la paja pensando en ella? -No</td>\n",
       "      <td>8</td>\n",
       "      <td>10</td>\n",
       "      <td>41</td>\n",
       "      <td>41</td>\n",
       "    </tr>\n",
       "    <tr>\n",
       "      <th>73</th>\n",
       "      <td>ojalá que esté muerto ese huevón</td>\n",
       "      <td>0</td>\n",
       "      <td>Negative</td>\n",
       "      <td>ojalá que esté muerto ese huevón</td>\n",
       "      <td>6</td>\n",
       "      <td>7</td>\n",
       "      <td>32</td>\n",
       "      <td>32</td>\n",
       "    </tr>\n",
       "    <tr>\n",
       "      <th>469</th>\n",
       "      <td>Qué tal raza, papá</td>\n",
       "      <td>0</td>\n",
       "      <td>Negative</td>\n",
       "      <td>Qué tal raza, papá</td>\n",
       "      <td>4</td>\n",
       "      <td>5</td>\n",
       "      <td>18</td>\n",
       "      <td>18</td>\n",
       "    </tr>\n",
       "    <tr>\n",
       "      <th>514</th>\n",
       "      <td>Siempre mintiendo, siempre haciendo trampas</td>\n",
       "      <td>0</td>\n",
       "      <td>Negative</td>\n",
       "      <td>Siempre mintiendo, siempre haciendo trampas</td>\n",
       "      <td>5</td>\n",
       "      <td>7</td>\n",
       "      <td>43</td>\n",
       "      <td>43</td>\n",
       "    </tr>\n",
       "    <tr>\n",
       "      <th>311</th>\n",
       "      <td>Solo te gusta cacharme</td>\n",
       "      <td>0</td>\n",
       "      <td>Negative</td>\n",
       "      <td>Solo te gusta cacharme</td>\n",
       "      <td>4</td>\n",
       "      <td>5</td>\n",
       "      <td>22</td>\n",
       "      <td>22</td>\n",
       "    </tr>\n",
       "    <tr>\n",
       "      <th>365</th>\n",
       "      <td>pa qué vamos a buscar problemas, tranquilo</td>\n",
       "      <td>1</td>\n",
       "      <td>Neutral</td>\n",
       "      <td>pa qué vamos a buscar problemas, tranquilo</td>\n",
       "      <td>7</td>\n",
       "      <td>7</td>\n",
       "      <td>43</td>\n",
       "      <td>43</td>\n",
       "    </tr>\n",
       "    <tr>\n",
       "      <th>76</th>\n",
       "      <td>Ya me pusiste al palo</td>\n",
       "      <td>2</td>\n",
       "      <td>Positive</td>\n",
       "      <td>Ya me pusiste al palo</td>\n",
       "      <td>5</td>\n",
       "      <td>5</td>\n",
       "      <td>21</td>\n",
       "      <td>21</td>\n",
       "    </tr>\n",
       "    <tr>\n",
       "      <th>244</th>\n",
       "      <td>Nada de llantos, Ambrosio</td>\n",
       "      <td>0</td>\n",
       "      <td>Negative</td>\n",
       "      <td>Nada de llantos, Ambrosio</td>\n",
       "      <td>4</td>\n",
       "      <td>7</td>\n",
       "      <td>25</td>\n",
       "      <td>25</td>\n",
       "    </tr>\n",
       "    <tr>\n",
       "      <th>559</th>\n",
       "      <td>Ya vendrán los fierros</td>\n",
       "      <td>2</td>\n",
       "      <td>Positive</td>\n",
       "      <td>Ya vendrán los fierros</td>\n",
       "      <td>4</td>\n",
       "      <td>5</td>\n",
       "      <td>22</td>\n",
       "      <td>22</td>\n",
       "    </tr>\n",
       "    <tr>\n",
       "      <th>238</th>\n",
       "      <td>Lo puse al palo</td>\n",
       "      <td>1</td>\n",
       "      <td>Neutral</td>\n",
       "      <td>Lo puse al palo</td>\n",
       "      <td>4</td>\n",
       "      <td>4</td>\n",
       "      <td>15</td>\n",
       "      <td>15</td>\n",
       "    </tr>\n",
       "    <tr>\n",
       "      <th>72</th>\n",
       "      <td>Anda vete, sal de aquí</td>\n",
       "      <td>0</td>\n",
       "      <td>Negative</td>\n",
       "      <td>Anda vete, sal de aquí</td>\n",
       "      <td>5</td>\n",
       "      <td>6</td>\n",
       "      <td>22</td>\n",
       "      <td>22</td>\n",
       "    </tr>\n",
       "  </tbody>\n",
       "</table>\n",
       "</div>"
      ],
      "text/plain": [
       "                                                  text  label label_name  \\\n",
       "513                             Qué tal concha, carajo      0   Negative   \n",
       "70                          Sus viejos son una ladilla      0   Negative   \n",
       "131                                 405 -Soy muy viejo      0   Negative   \n",
       "405                  Mi taita, como les contaba, murió      0   Negative   \n",
       "544             Yo no voy a decir nada y por la chamba      1    Neutral   \n",
       "321       Y conocí al Viejo en una ocasión inolvidable      2   Positive   \n",
       "188                                     Te caería bien      2   Positive   \n",
       "29    y tengo ganas de ir a verte a donde carajo estés      2   Positive   \n",
       "81                  Vas a ver que te voy a cachar rico      2   Positive   \n",
       "310  Un cachaco que pasaba por ahí le sacó la pisto...      0   Negative   \n",
       "465      Aclaramos de una vez que no tenía mucha plata      1    Neutral   \n",
       "278                                   Toqué la campana      1    Neutral   \n",
       "535                                    -Te has fregado      0   Negative   \n",
       "284                                     No tenía plata      0   Negative   \n",
       "531                 Estás rojo como un tomate, huevón      0   Negative   \n",
       "83                                        bien chévere      2   Positive   \n",
       "264                             No seas tímido, carajo      0   Negative   \n",
       "165  En el Perú, uno es militar por las puras hueva...      0   Negative   \n",
       "101        Peter está acostumbrado a dormir en mi cama      1    Neutral   \n",
       "280          -¿Te hacías la paja pensando en ella? -No      0   Negative   \n",
       "73                    ojalá que esté muerto ese huevón      0   Negative   \n",
       "469                                 Qué tal raza, papá      0   Negative   \n",
       "514        Siempre mintiendo, siempre haciendo trampas      0   Negative   \n",
       "311                             Solo te gusta cacharme      0   Negative   \n",
       "365        pa qué vamos a buscar problemas, tranquilo      1    Neutral   \n",
       "76                               Ya me pusiste al palo      2   Positive   \n",
       "244                          Nada de llantos, Ambrosio      0   Negative   \n",
       "559                             Ya vendrán los fierros      2   Positive   \n",
       "238                                    Lo puse al palo      1    Neutral   \n",
       "72                              Anda vete, sal de aquí      0   Negative   \n",
       "\n",
       "                                        tokenized_text  sent_token_length  \\\n",
       "513                             Qué tal concha, carajo                  4   \n",
       "70                          Sus viejos son una ladilla                  5   \n",
       "131                                 405 -Soy muy viejo                  4   \n",
       "405                  Mi taita, como les contaba, murió                  6   \n",
       "544             Yo no voy a decir nada y por la chamba                 10   \n",
       "321       Y conocí al Viejo en una ocasión inolvidable                  8   \n",
       "188                                     Te caería bien                  3   \n",
       "29    y tengo ganas de ir a verte a donde carajo estés                 11   \n",
       "81                  Vas a ver que te voy a cachar rico                  9   \n",
       "310  Un cachaco que pasaba por ahí le sacó la pisto...                 31   \n",
       "465      Aclaramos de una vez que no tenía mucha plata                  9   \n",
       "278                                   Toqué la campana                  3   \n",
       "535                                    -Te has fregado                  3   \n",
       "284                                     No tenía plata                  3   \n",
       "531                 Estás rojo como un tomate, huevón                  6   \n",
       "83                                        bien chévere                  2   \n",
       "264                             No seas tímido, carajo                  4   \n",
       "165  En el Perú, uno es militar por las puras hueva...                 12   \n",
       "101        Peter está acostumbrado a dormir en mi cama                  8   \n",
       "280          -¿Te hacías la paja pensando en ella? -No                  8   \n",
       "73                    ojalá que esté muerto ese huevón                  6   \n",
       "469                                 Qué tal raza, papá                  4   \n",
       "514        Siempre mintiendo, siempre haciendo trampas                  5   \n",
       "311                             Solo te gusta cacharme                  4   \n",
       "365        pa qué vamos a buscar problemas, tranquilo                  7   \n",
       "76                               Ya me pusiste al palo                  5   \n",
       "244                          Nada de llantos, Ambrosio                  4   \n",
       "559                             Ya vendrán los fierros                  4   \n",
       "238                                    Lo puse al palo                  4   \n",
       "72                              Anda vete, sal de aquí                  5   \n",
       "\n",
       "     sent_bert_token_length  char_count  Character Count  \n",
       "513                       5          22               22  \n",
       "70                        5          26               26  \n",
       "131                       6          18               18  \n",
       "405                       8          33               33  \n",
       "544                      10          38               38  \n",
       "321                       8          44               44  \n",
       "188                       4          14               14  \n",
       "29                       11          48               48  \n",
       "81                       10          34               34  \n",
       "310                      40         168              168  \n",
       "465                      10          45               45  \n",
       "278                       4          16               16  \n",
       "535                       4          15               15  \n",
       "284                       3          14               14  \n",
       "531                       8          34               34  \n",
       "83                        3          12               12  \n",
       "264                       6          22               22  \n",
       "165                      13          58               58  \n",
       "101                       8          43               43  \n",
       "280                      10          41               41  \n",
       "73                        7          32               32  \n",
       "469                       5          18               18  \n",
       "514                       7          43               43  \n",
       "311                       5          22               22  \n",
       "365                       7          43               43  \n",
       "76                        5          21               21  \n",
       "244                       7          25               25  \n",
       "559                       5          22               22  \n",
       "238                       4          15               15  \n",
       "72                        6          22               22  "
      ]
     },
     "execution_count": 39,
     "metadata": {},
     "output_type": "execute_result"
    }
   ],
   "source": [
    "df.sample(n = 30)"
   ]
  },
  {
   "cell_type": "code",
   "execution_count": 40,
   "id": "82f776a2-9575-4766-8865-70107a87c551",
   "metadata": {},
   "outputs": [],
   "source": [
    "#Inference"
   ]
  },
  {
   "cell_type": "code",
   "execution_count": 41,
   "id": "926977d0",
   "metadata": {},
   "outputs": [],
   "source": [
    "#Evaluate the Model Qualitatively (Human Evaluation)"
   ]
  },
  {
   "cell_type": "code",
   "execution_count": 42,
   "id": "7faa99dc",
   "metadata": {},
   "outputs": [],
   "source": [
    "#Evaluate the Model Quantitatively (with F1 Metric)"
   ]
  },
  {
   "cell_type": "code",
   "execution_count": null,
   "id": "2be445d3",
   "metadata": {},
   "outputs": [],
   "source": []
  },
  {
   "cell_type": "code",
   "execution_count": 43,
   "id": "c839bdd5",
   "metadata": {},
   "outputs": [],
   "source": [
    "texts = ds['test'][0:10]['text']\n",
    "human_baseline_labels = ds['test'][0:10]['label']"
   ]
  },
  {
   "cell_type": "code",
   "execution_count": 44,
   "id": "0ebbb4a1",
   "metadata": {},
   "outputs": [
    {
     "data": {
      "text/plain": [
       "['\\x97¿Qué te pasa oye? ¿Por qué estás así todo achorado?',\n",
       " 'No seas maricón',\n",
       " 'es un chibolo',\n",
       " 'No me chupo con mayores',\n",
       " 'Un soplón de porquería',\n",
       " 'Eres un enfermo, conchatumadre',\n",
       " 'El próximo sábado hay una pichanga',\n",
       " 'Fui un huevón',\n",
       " 'El día que ellos vengan, tú zafas al toque',\n",
       " 'cuando venga lo voy a cuadrar']"
      ]
     },
     "execution_count": 44,
     "metadata": {},
     "output_type": "execute_result"
    }
   ],
   "source": [
    "texts"
   ]
  },
  {
   "cell_type": "code",
   "execution_count": 45,
   "id": "fb03153f",
   "metadata": {},
   "outputs": [
    {
     "data": {
      "text/plain": [
       "[0, 0, 1, 1, 0, 0, 1, 0, 1, 0]"
      ]
     },
     "execution_count": 45,
     "metadata": {},
     "output_type": "execute_result"
    }
   ],
   "source": [
    "human_baseline_labels"
   ]
  },
  {
   "cell_type": "code",
   "execution_count": 46,
   "id": "a070557c",
   "metadata": {},
   "outputs": [],
   "source": [
    "#original_model_summaries = []\n",
    "model_classifications = []"
   ]
  },
  {
   "cell_type": "code",
   "execution_count": 47,
   "id": "ab8436a9",
   "metadata": {},
   "outputs": [],
   "source": [
    "for _, text in enumerate(texts):\n",
    "    input_ids = tokenizer(text, return_tensors=\"pt\").input_ids.to('cuda')\n",
    "    logits = model(input_ids).logits\n",
    "    probabilities = logits.softmax(dim=-1).tolist()[0]\n",
    "    model_classifications.append(np.argmax(probabilities).flatten()[0])"
   ]
  },
  {
   "cell_type": "code",
   "execution_count": 48,
   "id": "8a1a671b",
   "metadata": {},
   "outputs": [
    {
     "data": {
      "text/plain": [
       "[0, 0, 0, 1, 0, 0, 0, 0, 1, 0]"
      ]
     },
     "execution_count": 48,
     "metadata": {},
     "output_type": "execute_result"
    }
   ],
   "source": [
    "model_classifications"
   ]
  }
 ],
 "metadata": {
  "kernelspec": {
   "display_name": "Python 3 (ipykernel)",
   "language": "python",
   "name": "python3"
  },
  "language_info": {
   "codemirror_mode": {
    "name": "ipython",
    "version": 3
   },
   "file_extension": ".py",
   "mimetype": "text/x-python",
   "name": "python",
   "nbconvert_exporter": "python",
   "pygments_lexer": "ipython3",
   "version": "3.10.13"
  }
 },
 "nbformat": 4,
 "nbformat_minor": 5
}
