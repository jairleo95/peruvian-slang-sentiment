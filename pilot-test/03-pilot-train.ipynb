{
 "cells": [
  {
   "cell_type": "code",
   "execution_count": 1,
   "id": "955514ed-28d2-422e-8eca-56055de9bc39",
   "metadata": {},
   "outputs": [],
   "source": [
    "#EDA"
   ]
  },
  {
   "cell_type": "code",
   "execution_count": 2,
   "id": "de09e411",
   "metadata": {},
   "outputs": [],
   "source": [
    "import torch"
   ]
  },
  {
   "cell_type": "code",
   "execution_count": 3,
   "id": "5af36065",
   "metadata": {},
   "outputs": [],
   "source": [
    "#!pip install pysentimiento transformers datasets accelerate evaluate"
   ]
  },
  {
   "cell_type": "code",
   "execution_count": null,
   "id": "c16f70f6-f93b-4be5-ac8a-33923bdf44af",
   "metadata": {},
   "outputs": [],
   "source": []
  },
  {
   "cell_type": "code",
   "execution_count": 4,
   "id": "1dcd6c81-eb73-4aa3-aa8c-ac9a46646d8b",
   "metadata": {
    "tags": []
   },
   "outputs": [],
   "source": [
    "import datasets\n",
    "import evaluate"
   ]
  },
  {
   "cell_type": "code",
   "execution_count": 5,
   "id": "ce0ec026-0099-414e-a6bf-a76776f39c3e",
   "metadata": {},
   "outputs": [],
   "source": [
    "import numpy as np\n",
    "from datasets import load_dataset"
   ]
  },
  {
   "cell_type": "code",
   "execution_count": 6,
   "id": "c9fbf152-07de-4cba-84b4-d3d871cb6eb3",
   "metadata": {
    "tags": []
   },
   "outputs": [],
   "source": [
    "import ipywidgets as widgets"
   ]
  },
  {
   "cell_type": "code",
   "execution_count": 7,
   "id": "a001ba7d",
   "metadata": {},
   "outputs": [],
   "source": [
    "#Helper Functions"
   ]
  },
  {
   "cell_type": "code",
   "execution_count": 8,
   "id": "5ba02255",
   "metadata": {},
   "outputs": [],
   "source": [
    "# label to name\n",
    "def label2name(x):\n",
    "    if x == 0:\n",
    "        return \"Negative\"\n",
    "    if x == 1:\n",
    "        return \"Neutral\"\n",
    "    if x == 2:\n",
    "        return \"Positive\""
   ]
  },
  {
   "cell_type": "code",
   "execution_count": 9,
   "id": "6d3164a0-faf4-4a4d-8a78-17b40b00c3f1",
   "metadata": {
    "tags": []
   },
   "outputs": [],
   "source": [
    "\n",
    "f1_metric = evaluate.load(\"f1\")\n",
    "recall_metric = evaluate.load(\"recall\")\n",
    "\n",
    "def compute_metrics (eval_pred):\n",
    "    logits, labels = eval_pred\n",
    "    preds = np.argmax(logits, axis = -1)\n",
    "    \n",
    "    results = {}\n",
    "    results.update(f1_metric.compute(predictions=preds, references = labels, average=\"macro\"))\n",
    "    results.update(recall_metric.compute(predictions=preds, references = labels, average=\"macro\"))\n",
    "    return results"
   ]
  },
  {
   "cell_type": "code",
   "execution_count": 10,
   "id": "0bd8b7bc-ed54-4e65-ba9a-d2835b1abca8",
   "metadata": {
    "tags": []
   },
   "outputs": [],
   "source": [
    "#Read Data\n"
   ]
  },
  {
   "cell_type": "code",
   "execution_count": 11,
   "id": "90c97202-c5c6-484f-850a-46a9ee552251",
   "metadata": {
    "tags": []
   },
   "outputs": [],
   "source": [
    "data_files = {\"train\": \"data/train.csv\", \"validation\": \"data/val.csv\", \"test\": \"data/test.csv\"}\n",
    "ds = load_dataset(\"csv\", data_files=data_files)"
   ]
  },
  {
   "cell_type": "code",
   "execution_count": 12,
   "id": "8087bffe-c868-4323-90f0-4c6951f4fb5c",
   "metadata": {
    "tags": []
   },
   "outputs": [
    {
     "data": {
      "text/plain": [
       "DatasetDict({\n",
       "    train: Dataset({\n",
       "        features: ['text', 'label', 'label_name', 'tokenized_text', 'sent_token_length', 'sent_bert_token_length', 'char_count', 'Character Count'],\n",
       "        num_rows: 877\n",
       "    })\n",
       "    validation: Dataset({\n",
       "        features: ['text', 'label', 'label_name', 'tokenized_text', 'sent_token_length', 'sent_bert_token_length', 'char_count', 'Character Count'],\n",
       "        num_rows: 109\n",
       "    })\n",
       "    test: Dataset({\n",
       "        features: ['text', 'label', 'label_name', 'tokenized_text', 'sent_token_length', 'sent_bert_token_length', 'char_count', 'Character Count'],\n",
       "        num_rows: 98\n",
       "    })\n",
       "})"
      ]
     },
     "execution_count": 12,
     "metadata": {},
     "output_type": "execute_result"
    }
   ],
   "source": [
    "ds"
   ]
  },
  {
   "cell_type": "code",
   "execution_count": null,
   "id": "a3ca4ba6",
   "metadata": {},
   "outputs": [],
   "source": []
  },
  {
   "cell_type": "code",
   "execution_count": 13,
   "id": "0c7abe81-d2ab-49c3-92bf-6c6e36d5d852",
   "metadata": {},
   "outputs": [
    {
     "data": {
      "text/plain": [
       "{'text': Value(dtype='string', id=None),\n",
       " 'label': Value(dtype='int64', id=None),\n",
       " 'label_name': Value(dtype='string', id=None),\n",
       " 'tokenized_text': Value(dtype='string', id=None),\n",
       " 'sent_token_length': Value(dtype='int64', id=None),\n",
       " 'sent_bert_token_length': Value(dtype='int64', id=None),\n",
       " 'char_count': Value(dtype='int64', id=None),\n",
       " 'Character Count': Value(dtype='int64', id=None)}"
      ]
     },
     "execution_count": 13,
     "metadata": {},
     "output_type": "execute_result"
    }
   ],
   "source": [
    "ds[\"train\"].features"
   ]
  },
  {
   "cell_type": "code",
   "execution_count": 14,
   "id": "9a33842b-42eb-4966-8b48-f3dd7e1aeb33",
   "metadata": {},
   "outputs": [
    {
     "data": {
      "text/plain": [
       "[2, 1, 1, 0, 1, 1, 0, 0, 0, 1]"
      ]
     },
     "execution_count": 14,
     "metadata": {},
     "output_type": "execute_result"
    }
   ],
   "source": [
    "ds[\"test\"][\"label\"][:10]"
   ]
  },
  {
   "cell_type": "code",
   "execution_count": 15,
   "id": "68d24890",
   "metadata": {},
   "outputs": [
    {
     "data": {
      "text/html": [
       "<div>\n",
       "<style scoped>\n",
       "    .dataframe tbody tr th:only-of-type {\n",
       "        vertical-align: middle;\n",
       "    }\n",
       "\n",
       "    .dataframe tbody tr th {\n",
       "        vertical-align: top;\n",
       "    }\n",
       "\n",
       "    .dataframe thead th {\n",
       "        text-align: right;\n",
       "    }\n",
       "</style>\n",
       "<table border=\"1\" class=\"dataframe\">\n",
       "  <thead>\n",
       "    <tr style=\"text-align: right;\">\n",
       "      <th></th>\n",
       "      <th>text</th>\n",
       "      <th>label</th>\n",
       "      <th>label_name</th>\n",
       "      <th>tokenized_text</th>\n",
       "      <th>sent_token_length</th>\n",
       "      <th>sent_bert_token_length</th>\n",
       "      <th>char_count</th>\n",
       "      <th>Character Count</th>\n",
       "    </tr>\n",
       "  </thead>\n",
       "  <tbody>\n",
       "    <tr>\n",
       "      <th>0</th>\n",
       "      <td>Yo soy Misterio, saco mi fierro y te mato</td>\n",
       "      <td>0</td>\n",
       "      <td>Negative</td>\n",
       "      <td>Yo soy Misterio, saco mi fierro y te mato</td>\n",
       "      <td>9</td>\n",
       "      <td>10</td>\n",
       "      <td>41</td>\n",
       "      <td>41</td>\n",
       "    </tr>\n",
       "    <tr>\n",
       "      <th>1</th>\n",
       "      <td>Ramón cogió alegre y angustiadamente la carabina</td>\n",
       "      <td>1</td>\n",
       "      <td>Neutral</td>\n",
       "      <td>Ramón cogió alegre y angustiadamente la carabina</td>\n",
       "      <td>7</td>\n",
       "      <td>11</td>\n",
       "      <td>48</td>\n",
       "      <td>48</td>\n",
       "    </tr>\n",
       "    <tr>\n",
       "      <th>2</th>\n",
       "      <td>pa qué vamos a buscar problemas, tranquilo</td>\n",
       "      <td>1</td>\n",
       "      <td>Neutral</td>\n",
       "      <td>pa qué vamos a buscar problemas, tranquilo</td>\n",
       "      <td>7</td>\n",
       "      <td>7</td>\n",
       "      <td>43</td>\n",
       "      <td>43</td>\n",
       "    </tr>\n",
       "    <tr>\n",
       "      <th>3</th>\n",
       "      <td>Ahorita vengo</td>\n",
       "      <td>1</td>\n",
       "      <td>Neutral</td>\n",
       "      <td>Ahorita vengo</td>\n",
       "      <td>2</td>\n",
       "      <td>2</td>\n",
       "      <td>13</td>\n",
       "      <td>13</td>\n",
       "    </tr>\n",
       "    <tr>\n",
       "      <th>4</th>\n",
       "      <td>Anda a buscar a tu esposa, canalla</td>\n",
       "      <td>1</td>\n",
       "      <td>Neutral</td>\n",
       "      <td>Anda a buscar a tu esposa, canalla</td>\n",
       "      <td>7</td>\n",
       "      <td>9</td>\n",
       "      <td>34</td>\n",
       "      <td>34</td>\n",
       "    </tr>\n",
       "  </tbody>\n",
       "</table>\n",
       "</div>"
      ],
      "text/plain": [
       "                                               text  label label_name  \\\n",
       "0         Yo soy Misterio, saco mi fierro y te mato      0   Negative   \n",
       "1  Ramón cogió alegre y angustiadamente la carabina      1    Neutral   \n",
       "2       pa qué vamos a buscar problemas, tranquilo      1    Neutral   \n",
       "3                                     Ahorita vengo      1    Neutral   \n",
       "4                Anda a buscar a tu esposa, canalla      1    Neutral   \n",
       "\n",
       "                                     tokenized_text  sent_token_length  \\\n",
       "0         Yo soy Misterio, saco mi fierro y te mato                  9   \n",
       "1  Ramón cogió alegre y angustiadamente la carabina                  7   \n",
       "2       pa qué vamos a buscar problemas, tranquilo                  7   \n",
       "3                                     Ahorita vengo                  2   \n",
       "4                Anda a buscar a tu esposa, canalla                  7   \n",
       "\n",
       "   sent_bert_token_length  char_count  Character Count  \n",
       "0                      10          41               41  \n",
       "1                      11          48               48  \n",
       "2                       7          43               43  \n",
       "3                       2          13               13  \n",
       "4                       9          34               34  "
      ]
     },
     "execution_count": 15,
     "metadata": {},
     "output_type": "execute_result"
    }
   ],
   "source": [
    "df = ds['train'].to_pandas()\n",
    "df.head()"
   ]
  },
  {
   "cell_type": "code",
   "execution_count": 16,
   "id": "7c0615c2",
   "metadata": {},
   "outputs": [],
   "source": [
    "# encode label and mapping label name\n",
    "#df[\"label\"] = df[\"label\"].apply(lambda x: label_encode(x))\n",
    "df[\"label_name\"] = df[\"label\"].apply(lambda x: label2name(x))"
   ]
  },
  {
   "cell_type": "code",
   "execution_count": 17,
   "id": "4c00ccd4",
   "metadata": {},
   "outputs": [],
   "source": [
    "# clean text, lowercase and remove punk\n",
    "#df[\"text\"] = df[\"text\"].apply(lambda x: remove_punct(clean(remove_emoji(x).lower())[0][0]))"
   ]
  },
  {
   "cell_type": "code",
   "execution_count": 18,
   "id": "05636464",
   "metadata": {},
   "outputs": [
    {
     "data": {
      "text/html": [
       "<div>\n",
       "<style scoped>\n",
       "    .dataframe tbody tr th:only-of-type {\n",
       "        vertical-align: middle;\n",
       "    }\n",
       "\n",
       "    .dataframe tbody tr th {\n",
       "        vertical-align: top;\n",
       "    }\n",
       "\n",
       "    .dataframe thead th {\n",
       "        text-align: right;\n",
       "    }\n",
       "</style>\n",
       "<table border=\"1\" class=\"dataframe\">\n",
       "  <thead>\n",
       "    <tr style=\"text-align: right;\">\n",
       "      <th></th>\n",
       "      <th>text</th>\n",
       "      <th>label</th>\n",
       "      <th>label_name</th>\n",
       "      <th>tokenized_text</th>\n",
       "      <th>sent_token_length</th>\n",
       "      <th>sent_bert_token_length</th>\n",
       "      <th>char_count</th>\n",
       "      <th>Character Count</th>\n",
       "    </tr>\n",
       "  </thead>\n",
       "  <tbody>\n",
       "    <tr>\n",
       "      <th>0</th>\n",
       "      <td>Yo soy Misterio, saco mi fierro y te mato</td>\n",
       "      <td>0</td>\n",
       "      <td>Negative</td>\n",
       "      <td>Yo soy Misterio, saco mi fierro y te mato</td>\n",
       "      <td>9</td>\n",
       "      <td>10</td>\n",
       "      <td>41</td>\n",
       "      <td>41</td>\n",
       "    </tr>\n",
       "    <tr>\n",
       "      <th>1</th>\n",
       "      <td>Ramón cogió alegre y angustiadamente la carabina</td>\n",
       "      <td>1</td>\n",
       "      <td>Neutral</td>\n",
       "      <td>Ramón cogió alegre y angustiadamente la carabina</td>\n",
       "      <td>7</td>\n",
       "      <td>11</td>\n",
       "      <td>48</td>\n",
       "      <td>48</td>\n",
       "    </tr>\n",
       "    <tr>\n",
       "      <th>2</th>\n",
       "      <td>pa qué vamos a buscar problemas, tranquilo</td>\n",
       "      <td>1</td>\n",
       "      <td>Neutral</td>\n",
       "      <td>pa qué vamos a buscar problemas, tranquilo</td>\n",
       "      <td>7</td>\n",
       "      <td>7</td>\n",
       "      <td>43</td>\n",
       "      <td>43</td>\n",
       "    </tr>\n",
       "    <tr>\n",
       "      <th>3</th>\n",
       "      <td>Ahorita vengo</td>\n",
       "      <td>1</td>\n",
       "      <td>Neutral</td>\n",
       "      <td>Ahorita vengo</td>\n",
       "      <td>2</td>\n",
       "      <td>2</td>\n",
       "      <td>13</td>\n",
       "      <td>13</td>\n",
       "    </tr>\n",
       "    <tr>\n",
       "      <th>4</th>\n",
       "      <td>Anda a buscar a tu esposa, canalla</td>\n",
       "      <td>1</td>\n",
       "      <td>Neutral</td>\n",
       "      <td>Anda a buscar a tu esposa, canalla</td>\n",
       "      <td>7</td>\n",
       "      <td>9</td>\n",
       "      <td>34</td>\n",
       "      <td>34</td>\n",
       "    </tr>\n",
       "  </tbody>\n",
       "</table>\n",
       "</div>"
      ],
      "text/plain": [
       "                                               text  label label_name  \\\n",
       "0         Yo soy Misterio, saco mi fierro y te mato      0   Negative   \n",
       "1  Ramón cogió alegre y angustiadamente la carabina      1    Neutral   \n",
       "2       pa qué vamos a buscar problemas, tranquilo      1    Neutral   \n",
       "3                                     Ahorita vengo      1    Neutral   \n",
       "4                Anda a buscar a tu esposa, canalla      1    Neutral   \n",
       "\n",
       "                                     tokenized_text  sent_token_length  \\\n",
       "0         Yo soy Misterio, saco mi fierro y te mato                  9   \n",
       "1  Ramón cogió alegre y angustiadamente la carabina                  7   \n",
       "2       pa qué vamos a buscar problemas, tranquilo                  7   \n",
       "3                                     Ahorita vengo                  2   \n",
       "4                Anda a buscar a tu esposa, canalla                  7   \n",
       "\n",
       "   sent_bert_token_length  char_count  Character Count  \n",
       "0                      10          41               41  \n",
       "1                      11          48               48  \n",
       "2                       7          43               43  \n",
       "3                       2          13               13  \n",
       "4                       9          34               34  "
      ]
     },
     "execution_count": 18,
     "metadata": {},
     "output_type": "execute_result"
    }
   ],
   "source": [
    "df.head()"
   ]
  },
  {
   "cell_type": "code",
   "execution_count": 19,
   "id": "8299b318-0204-49cb-bf9a-14834e7796cb",
   "metadata": {
    "tags": []
   },
   "outputs": [
    {
     "name": "stderr",
     "output_type": "stream",
     "text": [
      "Some weights of RobertaForSequenceClassification were not initialized from the model checkpoint at pysentimiento/robertuito-base-uncased and are newly initialized: ['classifier.dense.weight', 'classifier.out_proj.weight', 'classifier.dense.bias', 'classifier.out_proj.bias']\n",
      "You should probably TRAIN this model on a down-stream task to be able to use it for predictions and inference.\n"
     ]
    }
   ],
   "source": [
    "from transformers import AutoModelForSequenceClassification, AutoTokenizer\n",
    "\n",
    "model_name = \"pysentimiento/robertuito-base-uncased\"\n",
    "\n",
    "model = AutoModelForSequenceClassification.from_pretrained(\n",
    "    model_name,\n",
    "    num_labels=3\n",
    ")\n",
    "tokenizer = AutoTokenizer.from_pretrained(model_name)\n",
    "tokenizer.model_max_length = 128"
   ]
  },
  {
   "cell_type": "code",
   "execution_count": 20,
   "id": "da7b8124",
   "metadata": {},
   "outputs": [],
   "source": [
    "# columns = ['input_ids', 'attention_mask', 'label']\n",
    "# ds.set_format(type='torch', columns=columns)\n",
    "# ds"
   ]
  },
  {
   "cell_type": "code",
   "execution_count": null,
   "id": "ae25e978",
   "metadata": {},
   "outputs": [],
   "source": []
  },
  {
   "cell_type": "code",
   "execution_count": 21,
   "id": "8ed569d2-67ca-405d-aa88-3e6de71a2356",
   "metadata": {
    "tags": []
   },
   "outputs": [],
   "source": [
    "from pysentimiento.preprocessing import preprocess_tweet\n",
    "preprocessed_ds = ds.map(lambda ex: {\"text\": preprocess_tweet(ex[\"text\"], lang=\"es\")})"
   ]
  },
  {
   "cell_type": "code",
   "execution_count": 22,
   "id": "99a78d85-4029-4621-b692-f63f396a2f6f",
   "metadata": {
    "tags": []
   },
   "outputs": [
    {
     "data": {
      "application/vnd.jupyter.widget-view+json": {
       "model_id": "f8db8cc626e04331b3e1d8a44731f08f",
       "version_major": 2,
       "version_minor": 0
      },
      "text/plain": [
       "Map:   0%|          | 0/109 [00:00<?, ? examples/s]"
      ]
     },
     "metadata": {},
     "output_type": "display_data"
    }
   ],
   "source": [
    "tokenized_ds = preprocessed_ds.map(\n",
    "    lambda batch: tokenizer(\n",
    "        batch[\"text\"], padding=True, truncation=True\n",
    "        ),\n",
    "    batched=True, batch_size=32\n",
    ")"
   ]
  },
  {
   "cell_type": "code",
   "execution_count": 23,
   "id": "1dd95bf5",
   "metadata": {},
   "outputs": [
    {
     "data": {
      "text/plain": [
       "DatasetDict({\n",
       "    train: Dataset({\n",
       "        features: ['text', 'label', 'label_name', 'tokenized_text', 'sent_token_length', 'sent_bert_token_length', 'char_count', 'Character Count', 'input_ids', 'token_type_ids', 'attention_mask'],\n",
       "        num_rows: 877\n",
       "    })\n",
       "    validation: Dataset({\n",
       "        features: ['text', 'label', 'label_name', 'tokenized_text', 'sent_token_length', 'sent_bert_token_length', 'char_count', 'Character Count', 'input_ids', 'token_type_ids', 'attention_mask'],\n",
       "        num_rows: 109\n",
       "    })\n",
       "    test: Dataset({\n",
       "        features: ['text', 'label', 'label_name', 'tokenized_text', 'sent_token_length', 'sent_bert_token_length', 'char_count', 'Character Count', 'input_ids', 'token_type_ids', 'attention_mask'],\n",
       "        num_rows: 98\n",
       "    })\n",
       "})"
      ]
     },
     "execution_count": 23,
     "metadata": {},
     "output_type": "execute_result"
    }
   ],
   "source": [
    "tokenized_ds"
   ]
  },
  {
   "cell_type": "code",
   "execution_count": 24,
   "id": "d3634bf4",
   "metadata": {},
   "outputs": [
    {
     "data": {
      "text/plain": [
       "[0, 560, 977, 10692, 16, 5713, 507, 27084, 445, 516, 7521, 2, 1, 1, 1, 1]"
      ]
     },
     "execution_count": 24,
     "metadata": {},
     "output_type": "execute_result"
    }
   ],
   "source": [
    "tokenized_ds['train']['input_ids'][0]"
   ]
  },
  {
   "cell_type": "code",
   "execution_count": 25,
   "id": "7c23fbba",
   "metadata": {},
   "outputs": [
    {
     "data": {
      "text/plain": [
       "[1, 1, 1, 1, 1, 1, 1, 1, 1, 1, 1, 1, 0, 0, 0, 0]"
      ]
     },
     "execution_count": 25,
     "metadata": {},
     "output_type": "execute_result"
    }
   ],
   "source": [
    "tokenized_ds['train']['attention_mask'][0]"
   ]
  },
  {
   "cell_type": "code",
   "execution_count": 26,
   "id": "f6d33cad",
   "metadata": {},
   "outputs": [
    {
     "data": {
      "text/plain": [
       "'Yo soy Misterio, saco mi fierro y te mato'"
      ]
     },
     "execution_count": 26,
     "metadata": {},
     "output_type": "execute_result"
    }
   ],
   "source": [
    "tokenized_ds['train']['text'][0]"
   ]
  },
  {
   "cell_type": "code",
   "execution_count": 27,
   "id": "c88c53d1-0c5b-4b97-910a-75f6991d2d6f",
   "metadata": {
    "tags": []
   },
   "outputs": [],
   "source": [
    "#!pip install ipdb"
   ]
  },
  {
   "cell_type": "code",
   "execution_count": 28,
   "id": "469074ed-9e65-4a9e-913c-6151f5c5d8b3",
   "metadata": {},
   "outputs": [],
   "source": [
    "#import torch\n",
    "#device = \"cuda\" if torch.cuda.is_available() else \"cpu\"\n",
    "#model.cuda()"
   ]
  },
  {
   "cell_type": "code",
   "execution_count": 29,
   "id": "5d56e2f2-159e-4ffe-86fc-3659ed308b89",
   "metadata": {},
   "outputs": [],
   "source": [
    "from transformers import TrainingArguments, Trainer, DataCollatorWithPadding\n",
    "\n",
    "training_args = TrainingArguments(\n",
    "    per_device_train_batch_size=32,\n",
    "    output_dir=\"test_trainer\",\n",
    "    do_eval=True,\n",
    "    evaluation_strategy=\"epoch\",\n",
    "    num_train_epochs=5,\n",
    ")\n",
    "\n",
    "trainer = Trainer(\n",
    "    model=model,\n",
    "    args=training_args,\n",
    "    train_dataset=tokenized_ds[\"train\"],\n",
    "    eval_dataset=tokenized_ds[\"validation\"],\n",
    "    compute_metrics=compute_metrics,\n",
    "    data_collator=DataCollatorWithPadding(tokenizer=tokenizer),\n",
    ")"
   ]
  },
  {
   "cell_type": "code",
   "execution_count": 30,
   "id": "6be1933a-b930-410d-91ff-646bdcb9a80f",
   "metadata": {
    "tags": []
   },
   "outputs": [
    {
     "name": "stdout",
     "output_type": "stream",
     "text": [
      "{'eval_loss': 0.843215823173523, 'eval_f1': 0.4620462046204621, 'eval_recall': 0.5032467532467533, 'eval_runtime': 0.1924, 'eval_samples_per_second': 566.48, 'eval_steps_per_second': 72.759, 'epoch': 1.0}\n",
      "{'eval_loss': 0.7259678244590759, 'eval_f1': 0.619645732689211, 'eval_recall': 0.6114718614718614, 'eval_runtime': 0.1888, 'eval_samples_per_second': 577.186, 'eval_steps_per_second': 74.134, 'epoch': 2.0}\n",
      "{'eval_loss': 0.7197251915931702, 'eval_f1': 0.6196050326485109, 'eval_recall': 0.6114718614718614, 'eval_runtime': 0.2067, 'eval_samples_per_second': 527.24, 'eval_steps_per_second': 67.719, 'epoch': 3.0}\n",
      "{'eval_loss': 0.7389683127403259, 'eval_f1': 0.6269171239622907, 'eval_recall': 0.6190476190476191, 'eval_runtime': 0.1897, 'eval_samples_per_second': 574.573, 'eval_steps_per_second': 73.798, 'epoch': 4.0}\n",
      "{'eval_loss': 0.7592655420303345, 'eval_f1': 0.6323719632657702, 'eval_recall': 0.6250773036487322, 'eval_runtime': 0.203, 'eval_samples_per_second': 536.934, 'eval_steps_per_second': 68.964, 'epoch': 5.0}\n",
      "{'train_runtime': 23.0427, 'train_samples_per_second': 190.299, 'train_steps_per_second': 6.076, 'train_loss': 0.4893694741385324, 'epoch': 5.0}\n"
     ]
    },
    {
     "data": {
      "text/plain": [
       "TrainOutput(global_step=140, training_loss=0.4893694741385324, metrics={'train_runtime': 23.0427, 'train_samples_per_second': 190.299, 'train_steps_per_second': 6.076, 'train_loss': 0.4893694741385324, 'epoch': 5.0})"
      ]
     },
     "execution_count": 30,
     "metadata": {},
     "output_type": "execute_result"
    }
   ],
   "source": [
    "trainer.train()"
   ]
  },
  {
   "cell_type": "code",
   "execution_count": 31,
   "id": "f2c407d3-9fa8-402c-85eb-7061a55c9984",
   "metadata": {
    "tags": []
   },
   "outputs": [],
   "source": [
    "#Test on validation set"
   ]
  },
  {
   "cell_type": "code",
   "execution_count": 32,
   "id": "34fec069",
   "metadata": {},
   "outputs": [
    {
     "name": "stdout",
     "output_type": "stream",
     "text": [
      "{'eval_loss': 0.9506278038024902, 'eval_f1': 0.6517857142857143, 'eval_recall': 0.6544372294372294, 'eval_runtime': 0.1587, 'eval_samples_per_second': 617.519, 'eval_steps_per_second': 81.916, 'epoch': 5.0}\n"
     ]
    },
    {
     "data": {
      "text/plain": [
       "{'eval_loss': 0.9506278038024902,\n",
       " 'eval_f1': 0.6517857142857143,\n",
       " 'eval_recall': 0.6544372294372294,\n",
       " 'eval_runtime': 0.1587,\n",
       " 'eval_samples_per_second': 617.519,\n",
       " 'eval_steps_per_second': 81.916,\n",
       " 'epoch': 5.0}"
      ]
     },
     "execution_count": 32,
     "metadata": {},
     "output_type": "execute_result"
    }
   ],
   "source": [
    "trainer.evaluate(tokenized_ds[\"test\"])"
   ]
  },
  {
   "cell_type": "code",
   "execution_count": 33,
   "id": "b7075d08",
   "metadata": {},
   "outputs": [
    {
     "data": {
      "text/plain": [
       "['CARADURA:  ¡Qué bacán!',\n",
       " 'Flora salió del Davory haciendo sonar sus tacos',\n",
       " 'Vamos al toque',\n",
       " 'llora conchatumadre ¿Ves? Ya me muero carajo',\n",
       " '¿Y tú tienes hembrita? Sí, estoy medio amarrado',\n",
       " 'Sus palabras y el tono que empleaba eran fogosos',\n",
       " 'No le hagas caso a la bestia de tu papá',\n",
       " '¿Qué te pasa oye? ¿Por qué estás así todo achorado?',\n",
       " '\\x97No, eso se fue al carajo',\n",
       " 'Yo he llegado a meterme ocho polvos en una noche',\n",
       " '\\x97Apúrate, gordo rosquete',\n",
       " 'Nada de maricón',\n",
       " 'Joaquincillo, ¿qué andas haciendo? Tranquilo',\n",
       " 'si todas esas huevadas vienen',\n",
       " 'Ya no eras como ellos, Zavalita, ya eras un cholo',\n",
       " 'pero falta su gaseosa pa\\x92 que resbale',\n",
       " '\\x97Ay, pobre, qué piña',\n",
       " 'Tipo desleal, el Serrano dijo él, asintiendo',\n",
       " 'Vas a ver que te voy a cachar rico',\n",
       " 'Vamos al fresco dijo, y abrió una puerta corrediza',\n",
       " 'CARADURA:  No voy a morir como un cabro',\n",
       " 'Me volví a quemar, maldita sea',\n",
       " 'Eres un soplón',\n",
       " 'llámame, éste es mi causa El Burro, le dicen así porque hizo 3 de media 4 veces y de ahí se jubiló',\n",
       " 'Se han superado una inmensidad estos cocodrilos',\n",
       " 'no nos ganan, hermano, no nos ganan',\n",
       " 'Él la besó suavemente',\n",
       " 'El Buitre por eso, don, vivía de los cadáveres',\n",
       " 'Es que Lima es el deshueve, compadre',\n",
       " '¿Se puede subir hasta la cruz? Claro, allá arriba la vista es el deshueve',\n",
       " 'Anda vete, sal de aquí',\n",
       " 'Pero mejor que la gallina y el enano, la del cine',\n",
       " 'conversemos un toque',\n",
       " 'Tienes tiempo ¿no? Está bien dijo el Chispas',\n",
       " 'Confía en tu viejo',\n",
       " 'Hilaba y tejía y en vez de plata cobraba granos',\n",
       " 'bien chévere',\n",
       " 'Joaquín no soportó escuchar a su padre roncando',\n",
       " 'No es por nada, pero estás tronado',\n",
       " 'El picón eres tú, que cuando pierdes haces trampa',\n",
       " 'Cállate y aguanta la bajada como hombre',\n",
       " 'Fue a averiguar los precios del ómnibus, compró un pasaje en uno que salía a las diez, así que tuvo tiempo de tomar un café con leche y dar una vueltecita',\n",
       " \"Presta una 'Gillete' y verás, no se notará nada\",\n",
       " 'Joaquín le bajó el pantalón del buzo y se la chupó',\n",
       " 'A ver quién le debe plata a quién, malagradecido',\n",
       " 'Dioni lo esperaba con las dos mulas ensilladas',\n",
       " 'Algunas hembritas en la calle que no estaban mal',\n",
       " 'Ese es mi cachorro, carajo dijo, con orgullo',\n",
       " 'Después del polvito, si no mueres, quedas loco',\n",
       " '¿Qué te pasa, chibolo? ¿Por qué estás tan muñequeado?',\n",
       " '\\x97Qué rico es estar duro, carajo',\n",
       " '\\x97Todo Lima se está choleando, hermano',\n",
       " 'Por supuesto, no tenía idea que mi tío era maricón',\n",
       " 'Alguien se volvió loco, pero no el señor Bermúdez',\n",
       " '¿O sea que tú nunca has visto la calata de Caretas?',\n",
       " 'No seas fregado',\n",
       " 'es un chibolo',\n",
       " '\\x97Todo chévere \\x97dijo Gianfranco\\x97',\n",
       " '\\x97Yo tiro mi mechadera \\x97dijo Dioni\\x97',\n",
       " '¿Quedó bonito cuando hablé de mi hembrita?',\n",
       " 'Yo prefiero quedarme tranquilito en el clóset',\n",
       " 'Y todos los demás son campanas',\n",
       " 'Aliancista y la conchatumadre',\n",
       " 'Me arrechas con tu uniforme de maletero',\n",
       " 'Los tres jalaron más coca',\n",
       " '-Peleen, gallinas, y no se estén picoteando',\n",
       " 'Qué trabajo tan fregado te has conseguido, Ambrosio',\n",
       " 'Ningún radioteatro, todo eran carreras y fútbol',\n",
       " 'Lleven a Caradura a la jato',\n",
       " 'En realidad, algo anda mal en su cabeza, Gamboa',\n",
       " 'a ochenta centavos la vara está regalada',\n",
       " 'Me la voy a cachar por cojuda\"',\n",
       " '\\x97¿Qué? Habla fuerte, carajo',\n",
       " 'Vuelvo ahorita',\n",
       " 'mi vieja viene volando y tiene pico',\n",
       " 'una cosa es ser valiente y otra cosa es ser huevón',\n",
       " 'Ese fue el momento más jodido',\n",
       " 'Un día me cae un piedrón y la cagada',\n",
       " 'Hazlo por tu mamacita, que ya está vieja',\n",
       " 'No seas maricón',\n",
       " '\\x97Estás rojo como un tomate, huevón',\n",
       " 'Pronto estaremos viejos',\n",
       " 'Raúl era moreno, decía lisuras y escupía a cada rato',\n",
       " 'Cholo miserable, cobarde',\n",
       " 'además los chibolos de la barra siempre pican para un chancay',\n",
       " 'No tengo plata',\n",
       " 'Una corrida de paja es más que malos pensamientos',\n",
       " 'Quítate la gorra, Joaquincito le dijo su madre',\n",
       " 'No se deja cachar la chiquilla',\n",
       " 'No me hables así, comemierda gritó el maletero',\n",
       " 'Te vio y casi se traga el pucho',\n",
       " 'Un abrazo, Serrano',\n",
       " 'Y por último qué carajo te importa',\n",
       " 'Cambia de tema, supersabio, pareces disco rayado',\n",
       " 'Enantes subió al sol',\n",
       " 'Después del susto, tuvimos una conversación del carajo',\n",
       " 'Pero así tu madre se sentirá más tranquila',\n",
       " 'Disculpa Misterio, no pasa nada']"
      ]
     },
     "execution_count": 33,
     "metadata": {},
     "output_type": "execute_result"
    }
   ],
   "source": [
    "ds['test']['text']"
   ]
  },
  {
   "cell_type": "code",
   "execution_count": 34,
   "id": "57814e98",
   "metadata": {},
   "outputs": [],
   "source": [
    "#model.load_state_dict(torch.load(f'./_BERT_epoch_3.model', map_location=torch.device('cpu')))"
   ]
  },
  {
   "cell_type": "code",
   "execution_count": 35,
   "id": "ed4ae6f3",
   "metadata": {},
   "outputs": [],
   "source": [
    "#Error Analisys"
   ]
  },
  {
   "cell_type": "code",
   "execution_count": 36,
   "id": "46bbd55b",
   "metadata": {},
   "outputs": [],
   "source": [
    "val_df = ds['validation'].to_pandas()\n",
    "#val_df"
   ]
  },
  {
   "cell_type": "code",
   "execution_count": 37,
   "id": "f9f23107",
   "metadata": {},
   "outputs": [],
   "source": [
    "from tqdm.notebook import tqdm"
   ]
  },
  {
   "cell_type": "code",
   "execution_count": 38,
   "id": "737a62b3",
   "metadata": {},
   "outputs": [],
   "source": [
    "# step by step predictions on dataframe\n",
    "# We do this to view predictions in the pandas dataframe and easily filter them and perform error analysis.\n",
    "pred_final = []\n",
    "\n",
    "# for i, row in tqdm(val_df.iterrows(), total=val_df.shape[0]):\n",
    "#     predictions = []\n",
    "\n",
    "#     text = row[\"text\"]\n",
    "#     encoded_data_test_single = tokenizer.batch_encode_plus([text], \n",
    "#     add_special_tokens=config.add_special_tokens, \n",
    "#     return_attention_mask=config.return_attention_mask, \n",
    "#     pad_to_max_length=config.pad_to_max_length, \n",
    "#     max_length=config.seq_length,\n",
    "#     return_tensors=config.return_tensors\n",
    "#     )\n",
    "#     input_ids_test = encoded_data_test_single['input_ids']\n",
    "#     attention_masks_test = encoded_data_test_single['attention_mask']\n",
    "\n",
    "    \n",
    "#     inputs = {'input_ids':      input_ids_test.to(device),\n",
    "#               'attention_mask':attention_masks_test.to(device),\n",
    "#              }\n",
    "\n",
    "#     with torch.no_grad():        \n",
    "#         outputs = model(**inputs)\n",
    "    \n",
    "#     logits = outputs[0]\n",
    "#     logits = logits.detach().cpu().numpy()\n",
    "#     predictions.append(logits)\n",
    "#     predictions = np.concatenate(predictions, axis=0)\n",
    "#     pred_final.append(np.argmax(predictions, axis=1).flatten()[0])"
   ]
  },
  {
   "cell_type": "code",
   "execution_count": 39,
   "id": "e2d5ea48-4899-4cb3-9027-0ea1cf46c0e0",
   "metadata": {},
   "outputs": [
    {
     "data": {
      "text/html": [
       "<div>\n",
       "<style scoped>\n",
       "    .dataframe tbody tr th:only-of-type {\n",
       "        vertical-align: middle;\n",
       "    }\n",
       "\n",
       "    .dataframe tbody tr th {\n",
       "        vertical-align: top;\n",
       "    }\n",
       "\n",
       "    .dataframe thead th {\n",
       "        text-align: right;\n",
       "    }\n",
       "</style>\n",
       "<table border=\"1\" class=\"dataframe\">\n",
       "  <thead>\n",
       "    <tr style=\"text-align: right;\">\n",
       "      <th></th>\n",
       "      <th>text</th>\n",
       "      <th>label</th>\n",
       "      <th>label_name</th>\n",
       "      <th>tokenized_text</th>\n",
       "      <th>sent_token_length</th>\n",
       "      <th>sent_bert_token_length</th>\n",
       "      <th>char_count</th>\n",
       "      <th>Character Count</th>\n",
       "    </tr>\n",
       "  </thead>\n",
       "  <tbody>\n",
       "    <tr>\n",
       "      <th>710</th>\n",
       "      <td>Yo te esperaré a la una en la puerta del Colegio</td>\n",
       "      <td>1</td>\n",
       "      <td>Neutral</td>\n",
       "      <td>Yo te esperaré a la una en la puerta del Colegio</td>\n",
       "      <td>11</td>\n",
       "      <td>12</td>\n",
       "      <td>48</td>\n",
       "      <td>48</td>\n",
       "    </tr>\n",
       "    <tr>\n",
       "      <th>734</th>\n",
       "      <td>Dos cholos ebrios, gritaron: -Atajen ese globo</td>\n",
       "      <td>0</td>\n",
       "      <td>Negative</td>\n",
       "      <td>Dos cholos ebrios, gritaron: -Atajen ese globo</td>\n",
       "      <td>7</td>\n",
       "      <td>14</td>\n",
       "      <td>46</td>\n",
       "      <td>46</td>\n",
       "    </tr>\n",
       "    <tr>\n",
       "      <th>244</th>\n",
       "      <td>Los dos chicos le parecieron muy guapos</td>\n",
       "      <td>2</td>\n",
       "      <td>Positive</td>\n",
       "      <td>Los dos chicos le parecieron muy guapos</td>\n",
       "      <td>7</td>\n",
       "      <td>8</td>\n",
       "      <td>39</td>\n",
       "      <td>39</td>\n",
       "    </tr>\n",
       "    <tr>\n",
       "      <th>231</th>\n",
       "      <td>y dices Ya qué chucha</td>\n",
       "      <td>0</td>\n",
       "      <td>Negative</td>\n",
       "      <td>y dices Ya qué chucha</td>\n",
       "      <td>5</td>\n",
       "      <td>5</td>\n",
       "      <td>22</td>\n",
       "      <td>22</td>\n",
       "    </tr>\n",
       "    <tr>\n",
       "      <th>291</th>\n",
       "      <td>El perro oteaba inútilmente incitado por Valencio</td>\n",
       "      <td>1</td>\n",
       "      <td>Neutral</td>\n",
       "      <td>El perro oteaba inútilmente incitado por Valencio</td>\n",
       "      <td>7</td>\n",
       "      <td>12</td>\n",
       "      <td>49</td>\n",
       "      <td>49</td>\n",
       "    </tr>\n",
       "    <tr>\n",
       "      <th>319</th>\n",
       "      <td>¿Tú sabes quién soy yo?  EL BURRO:  Oe suéltalo</td>\n",
       "      <td>0</td>\n",
       "      <td>Negative</td>\n",
       "      <td>¿Tú sabes quién soy yo?  EL BURRO:  Oe suéltalo</td>\n",
       "      <td>9</td>\n",
       "      <td>14</td>\n",
       "      <td>47</td>\n",
       "      <td>47</td>\n",
       "    </tr>\n",
       "    <tr>\n",
       "      <th>355</th>\n",
       "      <td>Todos los cholos son iguales dijo Luis Felipe</td>\n",
       "      <td>1</td>\n",
       "      <td>Neutral</td>\n",
       "      <td>Todos los cholos son iguales dijo Luis Felipe</td>\n",
       "      <td>8</td>\n",
       "      <td>9</td>\n",
       "      <td>45</td>\n",
       "      <td>45</td>\n",
       "    </tr>\n",
       "    <tr>\n",
       "      <th>810</th>\n",
       "      <td>El Viejo hablaba</td>\n",
       "      <td>1</td>\n",
       "      <td>Neutral</td>\n",
       "      <td>El Viejo hablaba</td>\n",
       "      <td>3</td>\n",
       "      <td>3</td>\n",
       "      <td>16</td>\n",
       "      <td>16</td>\n",
       "    </tr>\n",
       "    <tr>\n",
       "      <th>281</th>\n",
       "      <td>tremenda fiesta se armó en mi depa</td>\n",
       "      <td>2</td>\n",
       "      <td>Positive</td>\n",
       "      <td>tremenda fiesta se armó en mi depa</td>\n",
       "      <td>7</td>\n",
       "      <td>8</td>\n",
       "      <td>34</td>\n",
       "      <td>34</td>\n",
       "    </tr>\n",
       "    <tr>\n",
       "      <th>39</th>\n",
       "      <td>cuidado chibolo, tienes que aprender a respetar</td>\n",
       "      <td>0</td>\n",
       "      <td>Negative</td>\n",
       "      <td>cuidado chibolo, tienes que aprender a respetar</td>\n",
       "      <td>7</td>\n",
       "      <td>9</td>\n",
       "      <td>47</td>\n",
       "      <td>47</td>\n",
       "    </tr>\n",
       "    <tr>\n",
       "      <th>323</th>\n",
       "      <td>Se levantó las solapas y fue a buscar a su grupo</td>\n",
       "      <td>1</td>\n",
       "      <td>Neutral</td>\n",
       "      <td>Se levantó las solapas y fue a buscar a su grupo</td>\n",
       "      <td>11</td>\n",
       "      <td>12</td>\n",
       "      <td>48</td>\n",
       "      <td>48</td>\n",
       "    </tr>\n",
       "    <tr>\n",
       "      <th>519</th>\n",
       "      <td>Voy a llamar a Gonza ahorita mismo</td>\n",
       "      <td>1</td>\n",
       "      <td>Neutral</td>\n",
       "      <td>Voy a llamar a Gonza ahorita mismo</td>\n",
       "      <td>7</td>\n",
       "      <td>8</td>\n",
       "      <td>34</td>\n",
       "      <td>34</td>\n",
       "    </tr>\n",
       "    <tr>\n",
       "      <th>872</th>\n",
       "      <td>tú eres preciosa Lucía, no eres para ese huevón</td>\n",
       "      <td>2</td>\n",
       "      <td>Positive</td>\n",
       "      <td>tú eres preciosa Lucía, no eres para ese huevón</td>\n",
       "      <td>9</td>\n",
       "      <td>11</td>\n",
       "      <td>47</td>\n",
       "      <td>47</td>\n",
       "    </tr>\n",
       "    <tr>\n",
       "      <th>327</th>\n",
       "      <td>no tenía tiempo para huevadas</td>\n",
       "      <td>0</td>\n",
       "      <td>Negative</td>\n",
       "      <td>no tenía tiempo para huevadas</td>\n",
       "      <td>5</td>\n",
       "      <td>6</td>\n",
       "      <td>29</td>\n",
       "      <td>29</td>\n",
       "    </tr>\n",
       "    <tr>\n",
       "      <th>615</th>\n",
       "      <td>No hay tanta arrechura</td>\n",
       "      <td>0</td>\n",
       "      <td>Negative</td>\n",
       "      <td>No hay tanta arrechura</td>\n",
       "      <td>4</td>\n",
       "      <td>6</td>\n",
       "      <td>22</td>\n",
       "      <td>22</td>\n",
       "    </tr>\n",
       "    <tr>\n",
       "      <th>23</th>\n",
       "      <td>¿Qué es eso? Un club de cucufatos pitucos</td>\n",
       "      <td>0</td>\n",
       "      <td>Negative</td>\n",
       "      <td>¿Qué es eso? Un club de cucufatos pitucos</td>\n",
       "      <td>8</td>\n",
       "      <td>12</td>\n",
       "      <td>43</td>\n",
       "      <td>43</td>\n",
       "    </tr>\n",
       "    <tr>\n",
       "      <th>286</th>\n",
       "      <td>con tal que me mande mis tabas</td>\n",
       "      <td>2</td>\n",
       "      <td>Positive</td>\n",
       "      <td>con tal que me mande mis tabas</td>\n",
       "      <td>7</td>\n",
       "      <td>8</td>\n",
       "      <td>30</td>\n",
       "      <td>30</td>\n",
       "    </tr>\n",
       "    <tr>\n",
       "      <th>529</th>\n",
       "      <td>El pisco me hacía arder la garganta y lagrimear</td>\n",
       "      <td>1</td>\n",
       "      <td>Neutral</td>\n",
       "      <td>El pisco me hacía arder la garganta y lagrimear</td>\n",
       "      <td>9</td>\n",
       "      <td>11</td>\n",
       "      <td>47</td>\n",
       "      <td>47</td>\n",
       "    </tr>\n",
       "    <tr>\n",
       "      <th>110</th>\n",
       "      <td>\"Ajá, dijo Gamboa, métale seis puntos al ausente</td>\n",
       "      <td>0</td>\n",
       "      <td>Negative</td>\n",
       "      <td>\"Ajá, dijo Gamboa, métale seis puntos al ausente</td>\n",
       "      <td>8</td>\n",
       "      <td>14</td>\n",
       "      <td>48</td>\n",
       "      <td>48</td>\n",
       "    </tr>\n",
       "    <tr>\n",
       "      <th>741</th>\n",
       "      <td>llora conchatumadre",
       " ¿Ves? Ya me muero carajo</td>\n",
       "      <td>0</td>\n",
       "      <td>Negative</td>\n",
       "      <td>llora conchatumadre",
       " ¿Ves? Ya me muero carajo</td>\n",
       "      <td>8</td>\n",
       "      <td>11</td>\n",
       "      <td>46</td>\n",
       "      <td>46</td>\n",
       "    </tr>\n",
       "    <tr>\n",
       "      <th>218</th>\n",
       "      <td>No seas huevón, hombre, no tengas vergüenza</td>\n",
       "      <td>0</td>\n",
       "      <td>Negative</td>\n",
       "      <td>No seas huevón, hombre, no tengas vergüenza</td>\n",
       "      <td>7</td>\n",
       "      <td>8</td>\n",
       "      <td>44</td>\n",
       "      <td>44</td>\n",
       "    </tr>\n",
       "    <tr>\n",
       "      <th>773</th>\n",
       "      <td>La noticia desconcertó a las cholas</td>\n",
       "      <td>1</td>\n",
       "      <td>Neutral</td>\n",
       "      <td>La noticia desconcertó a las cholas</td>\n",
       "      <td>6</td>\n",
       "      <td>9</td>\n",
       "      <td>35</td>\n",
       "      <td>35</td>\n",
       "    </tr>\n",
       "    <tr>\n",
       "      <th>593</th>\n",
       "      <td>También hay maricones espantosos</td>\n",
       "      <td>0</td>\n",
       "      <td>Negative</td>\n",
       "      <td>También hay maricones espantosos</td>\n",
       "      <td>4</td>\n",
       "      <td>6</td>\n",
       "      <td>33</td>\n",
       "      <td>33</td>\n",
       "    </tr>\n",
       "    <tr>\n",
       "      <th>66</th>\n",
       "      <td>La policía anda pensando que eres un subversivo</td>\n",
       "      <td>1</td>\n",
       "      <td>Neutral</td>\n",
       "      <td>La policía anda pensando que eres un subversivo</td>\n",
       "      <td>8</td>\n",
       "      <td>10</td>\n",
       "      <td>47</td>\n",
       "      <td>47</td>\n",
       "    </tr>\n",
       "    <tr>\n",
       "      <th>44</th>\n",
       "      <td>El clima estaba fresco, agradable</td>\n",
       "      <td>2</td>\n",
       "      <td>Positive</td>\n",
       "      <td>El clima estaba fresco, agradable</td>\n",
       "      <td>5</td>\n",
       "      <td>6</td>\n",
       "      <td>33</td>\n",
       "      <td>33</td>\n",
       "    </tr>\n",
       "    <tr>\n",
       "      <th>235</th>\n",
       "      <td>¿Te has olvidado? -La campaña -recordó Pitaluga</td>\n",
       "      <td>1</td>\n",
       "      <td>Neutral</td>\n",
       "      <td>¿Te has olvidado? -La campaña -recordó Pitaluga</td>\n",
       "      <td>7</td>\n",
       "      <td>13</td>\n",
       "      <td>47</td>\n",
       "      <td>47</td>\n",
       "    </tr>\n",
       "    <tr>\n",
       "      <th>445</th>\n",
       "      <td>me manda plata todos los meses</td>\n",
       "      <td>2</td>\n",
       "      <td>Positive</td>\n",
       "      <td>me manda plata todos los meses</td>\n",
       "      <td>6</td>\n",
       "      <td>6</td>\n",
       "      <td>30</td>\n",
       "      <td>30</td>\n",
       "    </tr>\n",
       "    <tr>\n",
       "      <th>76</th>\n",
       "      <td>Es una huachafita con el pelo pintado</td>\n",
       "      <td>0</td>\n",
       "      <td>Negative</td>\n",
       "      <td>Es una huachafita con el pelo pintado</td>\n",
       "      <td>7</td>\n",
       "      <td>11</td>\n",
       "      <td>37</td>\n",
       "      <td>37</td>\n",
       "    </tr>\n",
       "    <tr>\n",
       "      <th>825</th>\n",
       "      <td>¿Cuánto cuesta un paco? le preguntó Joaquín</td>\n",
       "      <td>1</td>\n",
       "      <td>Neutral</td>\n",
       "      <td>¿Cuánto cuesta un paco? le preguntó Joaquín</td>\n",
       "      <td>7</td>\n",
       "      <td>8</td>\n",
       "      <td>43</td>\n",
       "      <td>43</td>\n",
       "    </tr>\n",
       "    <tr>\n",
       "      <th>67</th>\n",
       "      <td>No te preocupes, hombre, que la coca de Chongo...</td>\n",
       "      <td>0</td>\n",
       "      <td>Negative</td>\n",
       "      <td>No te preocupes, hombre, que la coca de Chongo...</td>\n",
       "      <td>12</td>\n",
       "      <td>12</td>\n",
       "      <td>61</td>\n",
       "      <td>61</td>\n",
       "    </tr>\n",
       "  </tbody>\n",
       "</table>\n",
       "</div>"
      ],
      "text/plain": [
       "                                                  text  label label_name  \\\n",
       "710   Yo te esperaré a la una en la puerta del Colegio      1    Neutral   \n",
       "734     Dos cholos ebrios, gritaron: -Atajen ese globo      0   Negative   \n",
       "244            Los dos chicos le parecieron muy guapos      2   Positive   \n",
       "231                             y dices Ya qué chucha      0   Negative   \n",
       "291  El perro oteaba inútilmente incitado por Valencio      1    Neutral   \n",
       "319    ¿Tú sabes quién soy yo?  EL BURRO:  Oe suéltalo      0   Negative   \n",
       "355      Todos los cholos son iguales dijo Luis Felipe      1    Neutral   \n",
       "810                                   El Viejo hablaba      1    Neutral   \n",
       "281                 tremenda fiesta se armó en mi depa      2   Positive   \n",
       "39     cuidado chibolo, tienes que aprender a respetar      0   Negative   \n",
       "323   Se levantó las solapas y fue a buscar a su grupo      1    Neutral   \n",
       "519                 Voy a llamar a Gonza ahorita mismo      1    Neutral   \n",
       "872    tú eres preciosa Lucía, no eres para ese huevón      2   Positive   \n",
       "327                      no tenía tiempo para huevadas      0   Negative   \n",
       "615                             No hay tanta arrechura      0   Negative   \n",
       "23         ¿Qué es eso? Un club de cucufatos pitucos      0   Negative   \n",
       "286                     con tal que me mande mis tabas      2   Positive   \n",
       "529    El pisco me hacía arder la garganta y lagrimear      1    Neutral   \n",
       "110   \"Ajá, dijo Gamboa, métale seis puntos al ausente      0   Negative   \n",
       "741     llora conchatumadre\n",
       " ¿Ves? Ya me muero carajo      0   Negative   \n",
       "218       No seas huevón, hombre, no tengas vergüenza      0   Negative   \n",
       "773                La noticia desconcertó a las cholas      1    Neutral   \n",
       "593                  También hay maricones espantosos      0   Negative   \n",
       "66     La policía anda pensando que eres un subversivo      1    Neutral   \n",
       "44                   El clima estaba fresco, agradable      2   Positive   \n",
       "235    ¿Te has olvidado? -La campaña -recordó Pitaluga      1    Neutral   \n",
       "445                     me manda plata todos los meses      2   Positive   \n",
       "76               Es una huachafita con el pelo pintado      0   Negative   \n",
       "825        ¿Cuánto cuesta un paco? le preguntó Joaquín      1    Neutral   \n",
       "67   No te preocupes, hombre, que la coca de Chongo...      0   Negative   \n",
       "\n",
       "                                        tokenized_text  sent_token_length  \\\n",
       "710   Yo te esperaré a la una en la puerta del Colegio                 11   \n",
       "734     Dos cholos ebrios, gritaron: -Atajen ese globo                  7   \n",
       "244            Los dos chicos le parecieron muy guapos                  7   \n",
       "231                             y dices Ya qué chucha                  5   \n",
       "291  El perro oteaba inútilmente incitado por Valencio                  7   \n",
       "319    ¿Tú sabes quién soy yo?  EL BURRO:  Oe suéltalo                  9   \n",
       "355      Todos los cholos son iguales dijo Luis Felipe                  8   \n",
       "810                                   El Viejo hablaba                  3   \n",
       "281                 tremenda fiesta se armó en mi depa                  7   \n",
       "39     cuidado chibolo, tienes que aprender a respetar                  7   \n",
       "323   Se levantó las solapas y fue a buscar a su grupo                 11   \n",
       "519                 Voy a llamar a Gonza ahorita mismo                  7   \n",
       "872    tú eres preciosa Lucía, no eres para ese huevón                  9   \n",
       "327                      no tenía tiempo para huevadas                  5   \n",
       "615                             No hay tanta arrechura                  4   \n",
       "23         ¿Qué es eso? Un club de cucufatos pitucos                  8   \n",
       "286                     con tal que me mande mis tabas                  7   \n",
       "529    El pisco me hacía arder la garganta y lagrimear                  9   \n",
       "110   \"Ajá, dijo Gamboa, métale seis puntos al ausente                  8   \n",
       "741     llora conchatumadre\n",
       " ¿Ves? Ya me muero carajo                  8   \n",
       "218       No seas huevón, hombre, no tengas vergüenza                  7   \n",
       "773                La noticia desconcertó a las cholas                  6   \n",
       "593                  También hay maricones espantosos                  4   \n",
       "66     La policía anda pensando que eres un subversivo                  8   \n",
       "44                   El clima estaba fresco, agradable                  5   \n",
       "235    ¿Te has olvidado? -La campaña -recordó Pitaluga                  7   \n",
       "445                     me manda plata todos los meses                  6   \n",
       "76               Es una huachafita con el pelo pintado                  7   \n",
       "825        ¿Cuánto cuesta un paco? le preguntó Joaquín                  7   \n",
       "67   No te preocupes, hombre, que la coca de Chongo...                 12   \n",
       "\n",
       "     sent_bert_token_length  char_count  Character Count  \n",
       "710                      12          48               48  \n",
       "734                      14          46               46  \n",
       "244                       8          39               39  \n",
       "231                       5          22               22  \n",
       "291                      12          49               49  \n",
       "319                      14          47               47  \n",
       "355                       9          45               45  \n",
       "810                       3          16               16  \n",
       "281                       8          34               34  \n",
       "39                        9          47               47  \n",
       "323                      12          48               48  \n",
       "519                       8          34               34  \n",
       "872                      11          47               47  \n",
       "327                       6          29               29  \n",
       "615                       6          22               22  \n",
       "23                       12          43               43  \n",
       "286                       8          30               30  \n",
       "529                      11          47               47  \n",
       "110                      14          48               48  \n",
       "741                      11          46               46  \n",
       "218                       8          44               44  \n",
       "773                       9          35               35  \n",
       "593                       6          33               33  \n",
       "66                       10          47               47  \n",
       "44                        6          33               33  \n",
       "235                      13          47               47  \n",
       "445                       6          30               30  \n",
       "76                       11          37               37  \n",
       "825                       8          43               43  \n",
       "67                       12          61               61  "
      ]
     },
     "execution_count": 39,
     "metadata": {},
     "output_type": "execute_result"
    }
   ],
   "source": [
    "df.sample(n = 30)"
   ]
  },
  {
   "cell_type": "code",
   "execution_count": 40,
   "id": "82f776a2-9575-4766-8865-70107a87c551",
   "metadata": {},
   "outputs": [],
   "source": [
    "#Inference"
   ]
  },
  {
   "cell_type": "code",
   "execution_count": 41,
   "id": "926977d0",
   "metadata": {},
   "outputs": [],
   "source": [
    "#Evaluate the Model Qualitatively (Human Evaluation)"
   ]
  },
  {
   "cell_type": "code",
   "execution_count": 42,
   "id": "7faa99dc",
   "metadata": {},
   "outputs": [],
   "source": [
    "#Evaluate the Model Quantitatively (with F1 Metric)"
   ]
  },
  {
   "cell_type": "code",
   "execution_count": null,
   "id": "2be445d3",
   "metadata": {},
   "outputs": [],
   "source": []
  },
  {
   "cell_type": "code",
   "execution_count": 43,
   "id": "c839bdd5",
   "metadata": {},
   "outputs": [],
   "source": [
    "texts = ds['test'][0:10]['text']\n",
    "human_baseline_labels = ds['test'][0:10]['label']"
   ]
  },
  {
   "cell_type": "code",
   "execution_count": 44,
   "id": "0ebbb4a1",
   "metadata": {},
   "outputs": [
    {
     "data": {
      "text/plain": [
       "['CARADURA:  ¡Qué bacán!',\n",
       " 'Flora salió del Davory haciendo sonar sus tacos',\n",
       " 'Vamos al toque',\n",
       " 'llora conchatumadre ¿Ves? Ya me muero carajo',\n",
       " '¿Y tú tienes hembrita? Sí, estoy medio amarrado',\n",
       " 'Sus palabras y el tono que empleaba eran fogosos',\n",
       " 'No le hagas caso a la bestia de tu papá',\n",
       " '¿Qué te pasa oye? ¿Por qué estás así todo achorado?',\n",
       " '\\x97No, eso se fue al carajo',\n",
       " 'Yo he llegado a meterme ocho polvos en una noche']"
      ]
     },
     "execution_count": 44,
     "metadata": {},
     "output_type": "execute_result"
    }
   ],
   "source": [
    "texts"
   ]
  },
  {
   "cell_type": "code",
   "execution_count": 45,
   "id": "fb03153f",
   "metadata": {},
   "outputs": [
    {
     "data": {
      "text/plain": [
       "[2, 1, 1, 0, 1, 1, 0, 0, 0, 1]"
      ]
     },
     "execution_count": 45,
     "metadata": {},
     "output_type": "execute_result"
    }
   ],
   "source": [
    "human_baseline_labels"
   ]
  },
  {
   "cell_type": "code",
   "execution_count": 46,
   "id": "a070557c",
   "metadata": {},
   "outputs": [],
   "source": [
    "#original_model_summaries = []\n",
    "model_classifications = []"
   ]
  },
  {
   "cell_type": "code",
   "execution_count": 47,
   "id": "ab8436a9",
   "metadata": {},
   "outputs": [],
   "source": [
    "for _, text in enumerate(texts):\n",
    "    input_ids = tokenizer(text, return_tensors=\"pt\").input_ids.to('cuda')\n",
    "    logits = model(input_ids).logits\n",
    "    probabilities = logits.softmax(dim=-1).tolist()[0]\n",
    "    model_classifications.append(np.argmax(probabilities).flatten()[0])"
   ]
  },
  {
   "cell_type": "code",
   "execution_count": 48,
   "id": "8a1a671b",
   "metadata": {},
   "outputs": [
    {
     "data": {
      "text/plain": [
       "[2, 1, 2, 0, 1, 0, 0, 0, 0, 1]"
      ]
     },
     "execution_count": 48,
     "metadata": {},
     "output_type": "execute_result"
    }
   ],
   "source": [
    "model_classifications"
   ]
  }
 ],
 "metadata": {
  "kernelspec": {
   "display_name": "Python 3 (ipykernel)",
   "language": "python",
   "name": "python3"
  },
  "language_info": {
   "codemirror_mode": {
    "name": "ipython",
    "version": 3
   },
   "file_extension": ".py",
   "mimetype": "text/x-python",
   "name": "python",
   "nbconvert_exporter": "python",
   "pygments_lexer": "ipython3",
   "version": "3.10.13"
  }
 },
 "nbformat": 4,
 "nbformat_minor": 5
}
