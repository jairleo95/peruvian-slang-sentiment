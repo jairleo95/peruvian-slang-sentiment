{
 "cells": [
  {
   "cell_type": "code",
   "execution_count": 1,
   "id": "63b0c4b9-72d0-4cdf-84da-1ed45c1f358d",
   "metadata": {},
   "outputs": [],
   "source": [
    "import torch\n",
    "import pandas as pd"
   ]
  },
  {
   "cell_type": "code",
   "execution_count": 2,
   "id": "3cb140c5-5ad5-4eee-a895-7f1927e6e889",
   "metadata": {},
   "outputs": [
    {
     "data": {
      "text/plain": [
       "'D:\\\\Workspace\\\\ai\\\\nlp\\\\peruvian-slang-sentiment\\\\pilot-test'"
      ]
     },
     "execution_count": 2,
     "metadata": {},
     "output_type": "execute_result"
    }
   ],
   "source": [
    "pwd"
   ]
  },
  {
   "cell_type": "code",
   "execution_count": 3,
   "id": "f656fb72-e9d5-4c97-9a92-be4ff0e7a078",
   "metadata": {},
   "outputs": [],
   "source": [
    "pd.set_option(\"max_colwidth\", 300)"
   ]
  },
  {
   "cell_type": "code",
   "execution_count": 15,
   "id": "bdebdb27-17ae-49bc-8c43-d7e10c33a6da",
   "metadata": {},
   "outputs": [
    {
     "ename": "TypeError",
     "evalue": "read_excel() got an unexpected keyword argument 'encoding'",
     "output_type": "error",
     "traceback": [
      "\u001b[1;31m---------------------------------------------------------------------------\u001b[0m",
      "\u001b[1;31mTypeError\u001b[0m                                 Traceback (most recent call last)",
      "\u001b[1;32m~\\AppData\\Local\\Temp\\ipykernel_36844\\6910155.py\u001b[0m in \u001b[0;36m<module>\u001b[1;34m\u001b[0m\n\u001b[0;32m      1\u001b[0m \u001b[1;31m#df = pd.read_csv(r'../text-extraction/[labeled]dataset-01.csv', encoding='latin-1')\u001b[0m\u001b[1;33m\u001b[0m\u001b[1;33m\u001b[0m\u001b[0m\n\u001b[0;32m      2\u001b[0m \u001b[1;31m#df = pd.read_csv(r'../text-extraction/[labeling]dataset-02.csv', encoding='utf-8')\u001b[0m\u001b[1;33m\u001b[0m\u001b[1;33m\u001b[0m\u001b[0m\n\u001b[1;32m----> 3\u001b[1;33m df = pd.read_excel(r'../text-extraction/[labeling]dataset-02_500.xlsx', encoding='utf-8', dtype={\n\u001b[0m\u001b[0;32m      4\u001b[0m     \u001b[1;34m'slang'\u001b[0m\u001b[1;33m:\u001b[0m \u001b[1;34m'string'\u001b[0m\u001b[1;33m,\u001b[0m\u001b[1;33m\u001b[0m\u001b[1;33m\u001b[0m\u001b[0m\n\u001b[0;32m      5\u001b[0m     \u001b[1;34m'text'\u001b[0m\u001b[1;33m:\u001b[0m \u001b[1;34m'string'\u001b[0m\u001b[1;33m,\u001b[0m\u001b[1;33m\u001b[0m\u001b[1;33m\u001b[0m\u001b[0m\n",
      "\u001b[1;32m~\\anaconda3\\lib\\site-packages\\pandas\\util\\_decorators.py\u001b[0m in \u001b[0;36mwrapper\u001b[1;34m(*args, **kwargs)\u001b[0m\n\u001b[0;32m    309\u001b[0m                     \u001b[0mstacklevel\u001b[0m\u001b[1;33m=\u001b[0m\u001b[0mstacklevel\u001b[0m\u001b[1;33m,\u001b[0m\u001b[1;33m\u001b[0m\u001b[1;33m\u001b[0m\u001b[0m\n\u001b[0;32m    310\u001b[0m                 )\n\u001b[1;32m--> 311\u001b[1;33m             \u001b[1;32mreturn\u001b[0m \u001b[0mfunc\u001b[0m\u001b[1;33m(\u001b[0m\u001b[1;33m*\u001b[0m\u001b[0margs\u001b[0m\u001b[1;33m,\u001b[0m \u001b[1;33m**\u001b[0m\u001b[0mkwargs\u001b[0m\u001b[1;33m)\u001b[0m\u001b[1;33m\u001b[0m\u001b[1;33m\u001b[0m\u001b[0m\n\u001b[0m\u001b[0;32m    312\u001b[0m \u001b[1;33m\u001b[0m\u001b[0m\n\u001b[0;32m    313\u001b[0m         \u001b[1;32mreturn\u001b[0m \u001b[0mwrapper\u001b[0m\u001b[1;33m\u001b[0m\u001b[1;33m\u001b[0m\u001b[0m\n",
      "\u001b[1;31mTypeError\u001b[0m: read_excel() got an unexpected keyword argument 'encoding'"
     ]
    }
   ],
   "source": [
    "#df = pd.read_csv(r'../text-extraction/[labeled]dataset-01.csv', encoding='latin-1')\n",
    "#df = pd.read_csv(r'../text-extraction/[labeling]dataset-02.csv', encoding='utf-8')\n",
    "df = pd.read_excel(r'../text-extraction/[labeling]dataset-02_500.xlsx', encoding='utf-8', dtype={\n",
    "    'slang': 'string',\n",
    "    'text': 'string',\n",
    "    'label': 'string'\n",
    "})\n",
    "df"
   ]
  },
  {
   "cell_type": "code",
   "execution_count": 5,
   "id": "34edfaa4-3d35-4d43-8850-6cb87fb96a58",
   "metadata": {},
   "outputs": [
    {
     "name": "stdout",
     "output_type": "stream",
     "text": [
      "<class 'pandas.core.frame.DataFrame'>\n",
      "RangeIndex: 12369 entries, 0 to 12368\n",
      "Data columns (total 5 columns):\n",
      " #   Column      Non-Null Count  Dtype \n",
      "---  ------      --------------  ----- \n",
      " 0   id_slang    12369 non-null  int64 \n",
      " 1   slang       12369 non-null  string\n",
      " 2   text        12134 non-null  string\n",
      " 3   label       12369 non-null  string\n",
      " 4   char_count  12369 non-null  int64 \n",
      "dtypes: int64(2), string(3)\n",
      "memory usage: 483.3 KB\n"
     ]
    }
   ],
   "source": [
    "df.info()"
   ]
  },
  {
   "cell_type": "code",
   "execution_count": 6,
   "id": "8fbfe9d5-e466-4c19-9308-b3b85e371098",
   "metadata": {},
   "outputs": [
    {
     "data": {
      "text/html": [
       "<div>\n",
       "<style scoped>\n",
       "    .dataframe tbody tr th:only-of-type {\n",
       "        vertical-align: middle;\n",
       "    }\n",
       "\n",
       "    .dataframe tbody tr th {\n",
       "        vertical-align: top;\n",
       "    }\n",
       "\n",
       "    .dataframe thead th {\n",
       "        text-align: right;\n",
       "    }\n",
       "</style>\n",
       "<table border=\"1\" class=\"dataframe\">\n",
       "  <thead>\n",
       "    <tr style=\"text-align: right;\">\n",
       "      <th></th>\n",
       "      <th>text</th>\n",
       "      <th>label</th>\n",
       "    </tr>\n",
       "  </thead>\n",
       "  <tbody>\n",
       "    <tr>\n",
       "      <th>0</th>\n",
       "      <td>Diría no importa, tienes razón pero anda vete</td>\n",
       "      <td>2</td>\n",
       "    </tr>\n",
       "    <tr>\n",
       "      <th>1</th>\n",
       "      <td>El patriotismo es la peor de las huachaferías</td>\n",
       "      <td>3</td>\n",
       "    </tr>\n",
       "    <tr>\n",
       "      <th>2</th>\n",
       "      <td>Yo me hago el loco, quiero decir el pendejo</td>\n",
       "      <td>2</td>\n",
       "    </tr>\n",
       "    <tr>\n",
       "      <th>3</th>\n",
       "      <td>Página 136  La marihuana y los chicos guapos</td>\n",
       "      <td>2</td>\n",
       "    </tr>\n",
       "    <tr>\n",
       "      <th>4</th>\n",
       "      <td>¿Cuánto cuesta un paco? le preguntó Joaquín</td>\n",
       "      <td>2</td>\n",
       "    </tr>\n",
       "    <tr>\n",
       "      <th>...</th>\n",
       "      <td>...</td>\n",
       "      <td>...</td>\n",
       "    </tr>\n",
       "    <tr>\n",
       "      <th>499</th>\n",
       "      <td>llego al edificio con olor a mondonguito y toco el timbre y pienso ojalá que no esté la cara de perro y escucho gabriel, un grito así bien recio y achorado</td>\n",
       "      <td>2</td>\n",
       "    </tr>\n",
       "    <tr>\n",
       "      <th>500</th>\n",
       "      <td>Aj, mira a esos cholos achorados, los odio, bailan Sting como si fuese salsa  dijo ella, poco después, mirando a unos chicos que estaban bailando a su lado</td>\n",
       "      <td>3</td>\n",
       "    </tr>\n",
       "    <tr>\n",
       "      <th>501</th>\n",
       "      <td>¿Tú crees que podría chambear en tu negocio? ¿Me podrías ayudar a conseguir una chamba, Pedro?</td>\n",
       "      <td>2</td>\n",
       "    </tr>\n",
       "    <tr>\n",
       "      <th>502</th>\n",
       "      <td>Un cachaco que pasaba por ahí le sacó la pistola y le estuvo apuntando y le decía: \"caminando para la comisaría, cinco metros adelante, o lo quemo a balazos, so ladrón\"</td>\n",
       "      <td>3</td>\n",
       "    </tr>\n",
       "    <tr>\n",
       "      <th>503</th>\n",
       "      <td>Piensa: debe ser rico llegar a tu casa y que tu esposa te prepare una buena comida, que tenga tus camisas planchaditas, que te corte las uñas y te eche talquito en los huevos, que tus chibolos jueguen contigo y te hagan cagar de risa</td>\n",
       "      <td>1</td>\n",
       "    </tr>\n",
       "  </tbody>\n",
       "</table>\n",
       "<p>504 rows × 2 columns</p>\n",
       "</div>"
      ],
      "text/plain": [
       "                                                                                                                                                                                                                                          text  \\\n",
       "0                                                                                                                                                                                                Diría no importa, tienes razón pero anda vete   \n",
       "1                                                                                                                                                                                                El patriotismo es la peor de las huachaferías   \n",
       "2                                                                                                                                                                                                  Yo me hago el loco, quiero decir el pendejo   \n",
       "3                                                                                                                                                                                                 Página 136  La marihuana y los chicos guapos   \n",
       "4                                                                                                                                                                                                ¿Cuánto cuesta un paco? le preguntó Joaquín   \n",
       "..                                                                                                                                                                                                                                         ...   \n",
       "499                                                                                llego al edificio con olor a mondonguito y toco el timbre y pienso ojalá que no esté la cara de perro y escucho gabriel, un grito así bien recio y achorado   \n",
       "500                                                                              Aj, mira a esos cholos achorados, los odio, bailan Sting como si fuese salsa  dijo ella, poco después, mirando a unos chicos que estaban bailando a su lado   \n",
       "501                                                                                                                                            ¿Tú crees que podría chambear en tu negocio? ¿Me podrías ayudar a conseguir una chamba, Pedro?   \n",
       "502                                                                   Un cachaco que pasaba por ahí le sacó la pistola y le estuvo apuntando y le decía: \"caminando para la comisaría, cinco metros adelante, o lo quemo a balazos, so ladrón\"   \n",
       "503  Piensa: debe ser rico llegar a tu casa y que tu esposa te prepare una buena comida, que tenga tus camisas planchaditas, que te corte las uñas y te eche talquito en los huevos, que tus chibolos jueguen contigo y te hagan cagar de risa   \n",
       "\n",
       "     label  \n",
       "0        2  \n",
       "1        3  \n",
       "2        2  \n",
       "3        2  \n",
       "4        2  \n",
       "..     ...  \n",
       "499      2  \n",
       "500      3  \n",
       "501      2  \n",
       "502      3  \n",
       "503      1  \n",
       "\n",
       "[504 rows x 2 columns]"
      ]
     },
     "execution_count": 6,
     "metadata": {},
     "output_type": "execute_result"
    }
   ],
   "source": [
    "df = df[df.label.isin([\"1\",\"2\",\"3\"])]\n",
    "#new_df = new_df.loc[:, ['id_slang','slang', 'sentence', 'label']]\n",
    "df = df.loc[:, ['text', 'label']]\n",
    "df = df.reset_index(drop=True)\n",
    "df = df.astype({'label':'int'})\n",
    "df"
   ]
  },
  {
   "cell_type": "code",
   "execution_count": 7,
   "id": "3bee2236-3a62-463b-ae1e-753c44b475f5",
   "metadata": {},
   "outputs": [
    {
     "name": "stdout",
     "output_type": "stream",
     "text": [
      "<class 'pandas.core.frame.DataFrame'>\n",
      "RangeIndex: 504 entries, 0 to 503\n",
      "Data columns (total 2 columns):\n",
      " #   Column  Non-Null Count  Dtype \n",
      "---  ------  --------------  ----- \n",
      " 0   text    504 non-null    string\n",
      " 1   label   504 non-null    int32 \n",
      "dtypes: int32(1), string(1)\n",
      "memory usage: 6.0 KB\n"
     ]
    }
   ],
   "source": [
    "df.info()"
   ]
  },
  {
   "cell_type": "code",
   "execution_count": 8,
   "id": "593e6fc5-5ab2-4b56-a568-215d02f08233",
   "metadata": {},
   "outputs": [],
   "source": [
    "# label encode\n",
    "def label_encode(x):\n",
    "    if x == 1:#positive\n",
    "        return 2\n",
    "    if x == 2:#neutral\n",
    "        return 1\n",
    "    if x == 3:#negative\n",
    "        return 0"
   ]
  },
  {
   "cell_type": "code",
   "execution_count": 9,
   "id": "2b0948d5-903a-4c6c-bbf7-02468e434e94",
   "metadata": {},
   "outputs": [],
   "source": [
    "df[\"label\"] = df[\"label\"].apply(lambda x: label_encode(x))"
   ]
  },
  {
   "cell_type": "code",
   "execution_count": 10,
   "id": "a32a4270-9005-4b53-8119-ac717e66af29",
   "metadata": {},
   "outputs": [
    {
     "data": {
      "text/html": [
       "<div>\n",
       "<style scoped>\n",
       "    .dataframe tbody tr th:only-of-type {\n",
       "        vertical-align: middle;\n",
       "    }\n",
       "\n",
       "    .dataframe tbody tr th {\n",
       "        vertical-align: top;\n",
       "    }\n",
       "\n",
       "    .dataframe thead th {\n",
       "        text-align: right;\n",
       "    }\n",
       "</style>\n",
       "<table border=\"1\" class=\"dataframe\">\n",
       "  <thead>\n",
       "    <tr style=\"text-align: right;\">\n",
       "      <th></th>\n",
       "      <th>text</th>\n",
       "      <th>label</th>\n",
       "    </tr>\n",
       "  </thead>\n",
       "  <tbody>\n",
       "    <tr>\n",
       "      <th>222</th>\n",
       "      <td>Alguien puso en las manos de Doroteo un cuchillo</td>\n",
       "      <td>0</td>\n",
       "    </tr>\n",
       "    <tr>\n",
       "      <th>358</th>\n",
       "      <td>Yo creía que mi viejo te despidió dice Santiago</td>\n",
       "      <td>1</td>\n",
       "    </tr>\n",
       "    <tr>\n",
       "      <th>444</th>\n",
       "      <td>Estas cojudas me están volviendo loco</td>\n",
       "      <td>2</td>\n",
       "    </tr>\n",
       "    <tr>\n",
       "      <th>431</th>\n",
       "      <td>¿Estás en roche con tus viejos?</td>\n",
       "      <td>1</td>\n",
       "    </tr>\n",
       "    <tr>\n",
       "      <th>388</th>\n",
       "      <td>pa concha, escritor quieres ser",
       " ¿escritor de qué?</td>\n",
       "      <td>0</td>\n",
       "    </tr>\n",
       "    <tr>\n",
       "      <th>4</th>\n",
       "      <td>¿Cuánto cuesta un paco? le preguntó Joaquín</td>\n",
       "      <td>1</td>\n",
       "    </tr>\n",
       "    <tr>\n",
       "      <th>351</th>\n",
       "      <td>Yo feliz que no vaya con el mañoso ese de Polito</td>\n",
       "      <td>0</td>\n",
       "    </tr>\n",
       "    <tr>\n",
       "      <th>153</th>\n",
       "      <td>Estos sí que tenían que sudar duro, ciertamente</td>\n",
       "      <td>1</td>\n",
       "    </tr>\n",
       "    <tr>\n",
       "      <th>121</th>\n",
       "      <td>tú eres preciosa Lucía, no eres para ese huevón</td>\n",
       "      <td>2</td>\n",
       "    </tr>\n",
       "    <tr>\n",
       "      <th>417</th>\n",
       "      <td>¿Qué dijimos de las lisuras?</td>\n",
       "      <td>0</td>\n",
       "    </tr>\n",
       "    <tr>\n",
       "      <th>0</th>\n",
       "      <td>Diría no importa, tienes razón pero anda vete</td>\n",
       "      <td>1</td>\n",
       "    </tr>\n",
       "    <tr>\n",
       "      <th>237</th>\n",
       "      <td>(CARADURA a punto de morir) Me voy a quedar solo</td>\n",
       "      <td>1</td>\n",
       "    </tr>\n",
       "    <tr>\n",
       "      <th>336</th>\n",
       "      <td>-Quieres decir que soy un soplón -dijo el Jaguar</td>\n",
       "      <td>1</td>\n",
       "    </tr>\n",
       "    <tr>\n",
       "      <th>447</th>\n",
       "      <td>Que la redacción entera hablara de ti, que chismearan, que rajaran</td>\n",
       "      <td>0</td>\n",
       "    </tr>\n",
       "    <tr>\n",
       "      <th>16</th>\n",
       "      <td>Si ven a tres patas durazos, no suben al carro</td>\n",
       "      <td>0</td>\n",
       "    </tr>\n",
       "    <tr>\n",
       "      <th>49</th>\n",
       "      <td>Manejaba la carcocha más vieja del mundo, niño</td>\n",
       "      <td>1</td>\n",
       "    </tr>\n",
       "    <tr>\n",
       "      <th>172</th>\n",
       "      <td>La garza volteó y ordenó al sapo: «Canta ahora»</td>\n",
       "      <td>1</td>\n",
       "    </tr>\n",
       "    <tr>\n",
       "      <th>412</th>\n",
       "      <td>Burro, lleva al chino Pepe a la jato, que no se demore</td>\n",
       "      <td>1</td>\n",
       "    </tr>\n",
       "    <tr>\n",
       "      <th>252</th>\n",
       "      <td>Se levantaba y se servía su pisco con ginger-ale</td>\n",
       "      <td>1</td>\n",
       "    </tr>\n",
       "    <tr>\n",
       "      <th>115</th>\n",
       "      <td>Vi gente subiendo la montaña, hacia el Apurímac</td>\n",
       "      <td>1</td>\n",
       "    </tr>\n",
       "    <tr>\n",
       "      <th>47</th>\n",
       "      <td>Con esto, se te va el ardor al toque le dijo</td>\n",
       "      <td>2</td>\n",
       "    </tr>\n",
       "    <tr>\n",
       "      <th>217</th>\n",
       "      <td>Estoy entero, carajo dijo, hinchando el pecho</td>\n",
       "      <td>1</td>\n",
       "    </tr>\n",
       "    <tr>\n",
       "      <th>360</th>\n",
       "      <td>No creía en la Polla, pero voy a empezar a jugarle</td>\n",
       "      <td>0</td>\n",
       "    </tr>\n",
       "    <tr>\n",
       "      <th>260</th>\n",
       "      <td>Termina tu carrera profesional en la universidad</td>\n",
       "      <td>1</td>\n",
       "    </tr>\n",
       "    <tr>\n",
       "      <th>395</th>\n",
       "      <td>Pero a mí no me gusta mecharme por las puras, papi</td>\n",
       "      <td>1</td>\n",
       "    </tr>\n",
       "    <tr>\n",
       "      <th>338</th>\n",
       "      <td>Me estoy helando de frío y a lo mejor me constipo</td>\n",
       "      <td>1</td>\n",
       "    </tr>\n",
       "    <tr>\n",
       "      <th>130</th>\n",
       "      <td>No le puso acero sino fierro colao a mi barreta</td>\n",
       "      <td>1</td>\n",
       "    </tr>\n",
       "    <tr>\n",
       "      <th>174</th>\n",
       "      <td>Yo jui a buscar un güey y encontré el puma vivo</td>\n",
       "      <td>1</td>\n",
       "    </tr>\n",
       "    <tr>\n",
       "      <th>145</th>\n",
       "      <td>La pobre vieja ya no cocina tan bien como antes</td>\n",
       "      <td>0</td>\n",
       "    </tr>\n",
       "    <tr>\n",
       "      <th>108</th>\n",
       "      <td>(Ríe forzado) He comprado pollito y una gaseosa</td>\n",
       "      <td>1</td>\n",
       "    </tr>\n",
       "  </tbody>\n",
       "</table>\n",
       "</div>"
      ],
      "text/plain": [
       "                                                                   text  label\n",
       "222                    Alguien puso en las manos de Doroteo un cuchillo      0\n",
       "358                   Yo creía que mi viejo te despidió dice Santiago      1\n",
       "444                              Estas cojudas me están volviendo loco      2\n",
       "431                                     ¿Estás en roche con tus viejos?      1\n",
       "388                 pa concha, escritor quieres ser\n",
       " ¿escritor de qué?      0\n",
       "4                         ¿Cuánto cuesta un paco? le preguntó Joaquín      1\n",
       "351                   Yo feliz que no vaya con el mañoso ese de Polito      0\n",
       "153                     Estos sí que tenían que sudar duro, ciertamente      1\n",
       "121                     tú eres preciosa Lucía, no eres para ese huevón      2\n",
       "417                                        ¿Qué dijimos de las lisuras?      0\n",
       "0                         Diría no importa, tienes razón pero anda vete      1\n",
       "237                    (CARADURA a punto de morir) Me voy a quedar solo      1\n",
       "336                   -Quieres decir que soy un soplón -dijo el Jaguar      1\n",
       "447  Que la redacción entera hablara de ti, que chismearan, que rajaran      0\n",
       "16                       Si ven a tres patas durazos, no suben al carro      0\n",
       "49                       Manejaba la carcocha más vieja del mundo, niño      1\n",
       "172                     La garza volteó y ordenó al sapo: «Canta ahora»      1\n",
       "412              Burro, lleva al chino Pepe a la jato, que no se demore      1\n",
       "252                    Se levantaba y se servía su pisco con ginger-ale      1\n",
       "115                     Vi gente subiendo la montaña, hacia el Apurímac      1\n",
       "47                       Con esto, se te va el ardor al toque le dijo      2\n",
       "217                    Estoy entero, carajo dijo, hinchando el pecho      1\n",
       "360                  No creía en la Polla, pero voy a empezar a jugarle      0\n",
       "260                    Termina tu carrera profesional en la universidad      1\n",
       "395                 Pero a mí no me gusta mecharme por las puras, papi      1\n",
       "338                   Me estoy helando de frío y a lo mejor me constipo      1\n",
       "130                     No le puso acero sino fierro colao a mi barreta      1\n",
       "174                     Yo jui a buscar un güey y encontré el puma vivo      1\n",
       "145                     La pobre vieja ya no cocina tan bien como antes      0\n",
       "108                     (Ríe forzado) He comprado pollito y una gaseosa      1"
      ]
     },
     "execution_count": 10,
     "metadata": {},
     "output_type": "execute_result"
    }
   ],
   "source": [
    "df.sample(n = 30)"
   ]
  },
  {
   "cell_type": "code",
   "execution_count": 11,
   "id": "c3b352e4-5686-4236-883d-03cf22b9a973",
   "metadata": {},
   "outputs": [
    {
     "name": "stdout",
     "output_type": "stream",
     "text": [
      "<class 'pandas.core.frame.DataFrame'>\n",
      "RangeIndex: 504 entries, 0 to 503\n",
      "Data columns (total 2 columns):\n",
      " #   Column  Non-Null Count  Dtype \n",
      "---  ------  --------------  ----- \n",
      " 0   text    504 non-null    string\n",
      " 1   label   504 non-null    int64 \n",
      "dtypes: int64(1), string(1)\n",
      "memory usage: 8.0 KB\n"
     ]
    }
   ],
   "source": [
    "df.info()"
   ]
  },
  {
   "cell_type": "code",
   "execution_count": 12,
   "id": "8b505077",
   "metadata": {},
   "outputs": [
    {
     "data": {
      "text/html": [
       "<div>\n",
       "<style scoped>\n",
       "    .dataframe tbody tr th:only-of-type {\n",
       "        vertical-align: middle;\n",
       "    }\n",
       "\n",
       "    .dataframe tbody tr th {\n",
       "        vertical-align: top;\n",
       "    }\n",
       "\n",
       "    .dataframe thead th {\n",
       "        text-align: right;\n",
       "    }\n",
       "</style>\n",
       "<table border=\"1\" class=\"dataframe\">\n",
       "  <thead>\n",
       "    <tr style=\"text-align: right;\">\n",
       "      <th></th>\n",
       "      <th>text</th>\n",
       "    </tr>\n",
       "    <tr>\n",
       "      <th>label</th>\n",
       "      <th></th>\n",
       "    </tr>\n",
       "  </thead>\n",
       "  <tbody>\n",
       "    <tr>\n",
       "      <th>0</th>\n",
       "      <td>162</td>\n",
       "    </tr>\n",
       "    <tr>\n",
       "      <th>1</th>\n",
       "      <td>304</td>\n",
       "    </tr>\n",
       "    <tr>\n",
       "      <th>2</th>\n",
       "      <td>38</td>\n",
       "    </tr>\n",
       "  </tbody>\n",
       "</table>\n",
       "</div>"
      ],
      "text/plain": [
       "       text\n",
       "label      \n",
       "0       162\n",
       "1       304\n",
       "2        38"
      ]
     },
     "execution_count": 12,
     "metadata": {},
     "output_type": "execute_result"
    }
   ],
   "source": [
    "df.groupby('label').count()"
   ]
  },
  {
   "cell_type": "code",
   "execution_count": 13,
   "id": "78794d3c",
   "metadata": {},
   "outputs": [],
   "source": [
    "df.to_csv('data/raw_dataset-02.csv', index=False)"
   ]
  },
  {
   "cell_type": "code",
   "execution_count": 14,
   "id": "a02cfa52-8bc8-40cc-ab54-d1f818dc9833",
   "metadata": {},
   "outputs": [
    {
     "data": {
      "text/plain": [
       "504"
      ]
     },
     "execution_count": 14,
     "metadata": {},
     "output_type": "execute_result"
    }
   ],
   "source": [
    "len(df)"
   ]
  },
  {
   "cell_type": "code",
   "execution_count": null,
   "id": "51efd7be-b5bf-4100-bd44-d7dc0a460f72",
   "metadata": {},
   "outputs": [],
   "source": []
  }
 ],
 "metadata": {
  "kernelspec": {
   "display_name": "Python 3 (ipykernel)",
   "language": "python",
   "name": "python3"
  },
  "language_info": {
   "codemirror_mode": {
    "name": "ipython",
    "version": 3
   },
   "file_extension": ".py",
   "mimetype": "text/x-python",
   "name": "python",
   "nbconvert_exporter": "python",
   "pygments_lexer": "ipython3",
   "version": "3.9.13"
  }
 },
 "nbformat": 4,
 "nbformat_minor": 5
}
