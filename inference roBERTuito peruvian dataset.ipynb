{
 "cells": [
  {
   "cell_type": "code",
   "execution_count": null,
   "id": "9812c58d",
   "metadata": {},
   "outputs": [],
   "source": [
    "import sys\n",
    "import pandas as pd\n",
    "import torch"
   ]
  },
  {
   "cell_type": "code",
   "execution_count": 2,
   "id": "3fa17b44-97a0-4ec9-a394-e021b34296ed",
   "metadata": {},
   "outputs": [],
   "source": [
    "from transformers import AutoTokenizer\n",
    "from datasets import load_dataset"
   ]
  },
  {
   "cell_type": "code",
   "execution_count": null,
   "id": "e5802d27-2c3f-46d7-b468-add57951786d",
   "metadata": {},
   "outputs": [],
   "source": [
    "from pysentimiento.preprocessing import preprocess_tweet"
   ]
  },
  {
   "cell_type": "code",
   "execution_count": 1,
   "id": "66227372",
   "metadata": {},
   "outputs": [],
   "source": []
  },
  {
   "cell_type": "code",
   "execution_count": null,
   "id": "70460a1e",
   "metadata": {},
   "outputs": [],
   "source": [
    "pwd"
   ]
  },
  {
   "cell_type": "code",
   "execution_count": 11,
   "id": "46f9647e",
   "metadata": {},
   "outputs": [],
   "source": [
    "pd.set_option(\"max_colwidth\", 300)"
   ]
  },
  {
   "cell_type": "code",
   "execution_count": 269,
   "id": "eadcff24",
   "metadata": {},
   "outputs": [
    {
     "data": {
      "text/html": [
       "<div>\n",
       "<style scoped>\n",
       "    .dataframe tbody tr th:only-of-type {\n",
       "        vertical-align: middle;\n",
       "    }\n",
       "\n",
       "    .dataframe tbody tr th {\n",
       "        vertical-align: top;\n",
       "    }\n",
       "\n",
       "    .dataframe thead th {\n",
       "        text-align: right;\n",
       "    }\n",
       "</style>\n",
       "<table border=\"1\" class=\"dataframe\">\n",
       "  <thead>\n",
       "    <tr style=\"text-align: right;\">\n",
       "      <th></th>\n",
       "      <th>id_slang</th>\n",
       "      <th>slang</th>\n",
       "      <th>sentence</th>\n",
       "      <th>label</th>\n",
       "      <th>char_count</th>\n",
       "      <th>Unnamed: 5</th>\n",
       "      <th>Unnamed: 6</th>\n",
       "      <th>Unnamed: 7</th>\n",
       "      <th>Unnamed: 8</th>\n",
       "    </tr>\n",
       "  </thead>\n",
       "  <tbody>\n",
       "    <tr>\n",
       "      <th>0</th>\n",
       "      <td>75</td>\n",
       "      <td>anda</td>\n",
       "      <td>Anda</td>\n",
       "      <td>0</td>\n",
       "      <td>4</td>\n",
       "      <td>NaN</td>\n",
       "      <td>NaN</td>\n",
       "      <td>NaN</td>\n",
       "      <td>NaN</td>\n",
       "    </tr>\n",
       "    <tr>\n",
       "      <th>1</th>\n",
       "      <td>2139</td>\n",
       "      <td>cagón</td>\n",
       "      <td>cagón</td>\n",
       "      <td>0</td>\n",
       "      <td>5</td>\n",
       "      <td>NaN</td>\n",
       "      <td>NaN</td>\n",
       "      <td>NaN</td>\n",
       "      <td>NaN</td>\n",
       "    </tr>\n",
       "    <tr>\n",
       "      <th>2</th>\n",
       "      <td>1392</td>\n",
       "      <td>pesado</td>\n",
       "      <td>pesado</td>\n",
       "      <td>0</td>\n",
       "      <td>6</td>\n",
       "      <td>NaN</td>\n",
       "      <td>NaN</td>\n",
       "      <td>NaN</td>\n",
       "      <td>NaN</td>\n",
       "    </tr>\n",
       "    <tr>\n",
       "      <th>3</th>\n",
       "      <td>275</td>\n",
       "      <td>carajo</td>\n",
       "      <td>carajo</td>\n",
       "      <td>0</td>\n",
       "      <td>6</td>\n",
       "      <td>NaN</td>\n",
       "      <td>NaN</td>\n",
       "      <td>NaN</td>\n",
       "      <td>NaN</td>\n",
       "    </tr>\n",
       "    <tr>\n",
       "      <th>4</th>\n",
       "      <td>184</td>\n",
       "      <td>cabrón</td>\n",
       "      <td>Cabrón</td>\n",
       "      <td>0</td>\n",
       "      <td>6</td>\n",
       "      <td>NaN</td>\n",
       "      <td>NaN</td>\n",
       "      <td>NaN</td>\n",
       "      <td>NaN</td>\n",
       "    </tr>\n",
       "    <tr>\n",
       "      <th>...</th>\n",
       "      <td>...</td>\n",
       "      <td>...</td>\n",
       "      <td>...</td>\n",
       "      <td>...</td>\n",
       "      <td>...</td>\n",
       "      <td>...</td>\n",
       "      <td>...</td>\n",
       "      <td>...</td>\n",
       "      <td>...</td>\n",
       "    </tr>\n",
       "    <tr>\n",
       "      <th>21389</th>\n",
       "      <td>41</td>\n",
       "      <td>achorado</td>\n",
       "      <td>y los tres chiflados siguen cantando a voz en cuello y en inglés y con toda la concha del mundo, y yo ahí sentadito y timidísimo escuchándolos embobado y mirándole de reojo el pechito de gaviota al loco mariano, y los dos ex convictos de la otra mesa siguen mirándonos feo y yo presiento que esto...</td>\n",
       "      <td>0</td>\n",
       "      <td>3568</td>\n",
       "      <td>NaN</td>\n",
       "      <td>NaN</td>\n",
       "      <td>NaN</td>\n",
       "      <td>NaN</td>\n",
       "    </tr>\n",
       "    <tr>\n",
       "      <th>21390</th>\n",
       "      <td>548</td>\n",
       "      <td>concha</td>\n",
       "      <td>y los tres chiflados siguen cantando a voz en cuello y en inglés y con toda la concha del mundo, y yo ahí sentadito y timidísimo escuchándolos embobado y mirándole de reojo el pechito de gaviota al loco mariano, y los dos ex convictos de la otra mesa siguen mirándonos feo y yo presiento que esto...</td>\n",
       "      <td>0</td>\n",
       "      <td>3568</td>\n",
       "      <td>NaN</td>\n",
       "      <td>NaN</td>\n",
       "      <td>NaN</td>\n",
       "      <td>NaN</td>\n",
       "    </tr>\n",
       "    <tr>\n",
       "      <th>21391</th>\n",
       "      <td>1065</td>\n",
       "      <td>macha</td>\n",
       "      <td>y los tres chiflados siguen cantando a voz en cuello y en inglés y con toda la concha del mundo, y yo ahí sentadito y timidísimo escuchándolos embobado y mirándole de reojo el pechito de gaviota al loco mariano, y los dos ex convictos de la otra mesa siguen mirándonos feo y yo presiento que esto...</td>\n",
       "      <td>0</td>\n",
       "      <td>3568</td>\n",
       "      <td>NaN</td>\n",
       "      <td>NaN</td>\n",
       "      <td>NaN</td>\n",
       "      <td>NaN</td>\n",
       "    </tr>\n",
       "    <tr>\n",
       "      <th>21392</th>\n",
       "      <td>2161</td>\n",
       "      <td>cojudo</td>\n",
       "      <td>y los tres chiflados siguen cantando a voz en cuello y en inglés y con toda la concha del mundo, y yo ahí sentadito y timidísimo escuchándolos embobado y mirándole de reojo el pechito de gaviota al loco mariano, y los dos ex convictos de la otra mesa siguen mirándonos feo y yo presiento que esto...</td>\n",
       "      <td>0</td>\n",
       "      <td>3568</td>\n",
       "      <td>NaN</td>\n",
       "      <td>NaN</td>\n",
       "      <td>NaN</td>\n",
       "      <td>NaN</td>\n",
       "    </tr>\n",
       "    <tr>\n",
       "      <th>21393</th>\n",
       "      <td>275</td>\n",
       "      <td>carajo</td>\n",
       "      <td>y los tres chiflados siguen cantando a voz en cuello y en inglés y con toda la concha del mundo, y yo ahí sentadito y timidísimo escuchándolos embobado y mirándole de reojo el pechito de gaviota al loco mariano, y los dos ex convictos de la otra mesa siguen mirándonos feo y yo presiento que esto...</td>\n",
       "      <td>0</td>\n",
       "      <td>3568</td>\n",
       "      <td>NaN</td>\n",
       "      <td>NaN</td>\n",
       "      <td>NaN</td>\n",
       "      <td>NaN</td>\n",
       "    </tr>\n",
       "  </tbody>\n",
       "</table>\n",
       "<p>21394 rows × 9 columns</p>\n",
       "</div>"
      ],
      "text/plain": [
       "       id_slang     slang  \\\n",
       "0            75      anda   \n",
       "1          2139     cagón   \n",
       "2          1392    pesado   \n",
       "3           275    carajo   \n",
       "4           184    cabrón   \n",
       "...         ...       ...   \n",
       "21389        41  achorado   \n",
       "21390       548    concha   \n",
       "21391      1065     macha   \n",
       "21392      2161    cojudo   \n",
       "21393       275    carajo   \n",
       "\n",
       "                                                                                                                                                                                                                                                                                                          sentence  \\\n",
       "0                                                                                                                                                                                                                                                                                                             Anda   \n",
       "1                                                                                                                                                                                                                                                                                                            cagón   \n",
       "2                                                                                                                                                                                                                                                                                                           pesado   \n",
       "3                                                                                                                                                                                                                                                                                                           carajo   \n",
       "4                                                                                                                                                                                                                                                                                                           Cabrón   \n",
       "...                                                                                                                                                                                                                                                                                                            ...   \n",
       "21389  y los tres chiflados siguen cantando a voz en cuello y en inglés y con toda la concha del mundo, y yo ahí sentadito y timidísimo escuchándolos embobado y mirándole de reojo el pechito de gaviota al loco mariano, y los dos ex convictos de la otra mesa siguen mirándonos feo y yo presiento que esto...   \n",
       "21390  y los tres chiflados siguen cantando a voz en cuello y en inglés y con toda la concha del mundo, y yo ahí sentadito y timidísimo escuchándolos embobado y mirándole de reojo el pechito de gaviota al loco mariano, y los dos ex convictos de la otra mesa siguen mirándonos feo y yo presiento que esto...   \n",
       "21391  y los tres chiflados siguen cantando a voz en cuello y en inglés y con toda la concha del mundo, y yo ahí sentadito y timidísimo escuchándolos embobado y mirándole de reojo el pechito de gaviota al loco mariano, y los dos ex convictos de la otra mesa siguen mirándonos feo y yo presiento que esto...   \n",
       "21392  y los tres chiflados siguen cantando a voz en cuello y en inglés y con toda la concha del mundo, y yo ahí sentadito y timidísimo escuchándolos embobado y mirándole de reojo el pechito de gaviota al loco mariano, y los dos ex convictos de la otra mesa siguen mirándonos feo y yo presiento que esto...   \n",
       "21393  y los tres chiflados siguen cantando a voz en cuello y en inglés y con toda la concha del mundo, y yo ahí sentadito y timidísimo escuchándolos embobado y mirándole de reojo el pechito de gaviota al loco mariano, y los dos ex convictos de la otra mesa siguen mirándonos feo y yo presiento que esto...   \n",
       "\n",
       "      label char_count Unnamed: 5 Unnamed: 6  Unnamed: 7  Unnamed: 8  \n",
       "0         0          4        NaN        NaN         NaN         NaN  \n",
       "1         0          5        NaN        NaN         NaN         NaN  \n",
       "2         0          6        NaN        NaN         NaN         NaN  \n",
       "3         0          6        NaN        NaN         NaN         NaN  \n",
       "4         0          6        NaN        NaN         NaN         NaN  \n",
       "...     ...        ...        ...        ...         ...         ...  \n",
       "21389     0       3568        NaN        NaN         NaN         NaN  \n",
       "21390     0       3568        NaN        NaN         NaN         NaN  \n",
       "21391     0       3568        NaN        NaN         NaN         NaN  \n",
       "21392     0       3568        NaN        NaN         NaN         NaN  \n",
       "21393     0       3568        NaN        NaN         NaN         NaN  \n",
       "\n",
       "[21394 rows x 9 columns]"
      ]
     },
     "execution_count": 269,
     "metadata": {},
     "output_type": "execute_result"
    }
   ],
   "source": [
    "df = pd.read_csv(r'text-extraction/[labeling]dataset-01-sorted.csv')\n",
    "df"
   ]
  },
  {
   "cell_type": "code",
   "execution_count": 270,
   "id": "3f03a132",
   "metadata": {},
   "outputs": [
    {
     "data": {
      "text/html": [
       "<div>\n",
       "<style scoped>\n",
       "    .dataframe tbody tr th:only-of-type {\n",
       "        vertical-align: middle;\n",
       "    }\n",
       "\n",
       "    .dataframe tbody tr th {\n",
       "        vertical-align: top;\n",
       "    }\n",
       "\n",
       "    .dataframe thead th {\n",
       "        text-align: right;\n",
       "    }\n",
       "</style>\n",
       "<table border=\"1\" class=\"dataframe\">\n",
       "  <thead>\n",
       "    <tr style=\"text-align: right;\">\n",
       "      <th></th>\n",
       "      <th>text</th>\n",
       "      <th>label</th>\n",
       "    </tr>\n",
       "  </thead>\n",
       "  <tbody>\n",
       "    <tr>\n",
       "      <th>21</th>\n",
       "      <td>Oe Chacal</td>\n",
       "      <td>2</td>\n",
       "    </tr>\n",
       "    <tr>\n",
       "      <th>27</th>\n",
       "      <td>Anda vete</td>\n",
       "      <td>3</td>\n",
       "    </tr>\n",
       "    <tr>\n",
       "      <th>31</th>\n",
       "      <td>a la firme</td>\n",
       "      <td>2</td>\n",
       "    </tr>\n",
       "    <tr>\n",
       "      <th>37</th>\n",
       "      <td>Chau, cojo</td>\n",
       "      <td>3</td>\n",
       "    </tr>\n",
       "    <tr>\n",
       "      <th>42</th>\n",
       "      <td>Tengo plata</td>\n",
       "      <td>2</td>\n",
       "    </tr>\n",
       "    <tr>\n",
       "      <th>...</th>\n",
       "      <td>...</td>\n",
       "      <td>...</td>\n",
       "    </tr>\n",
       "    <tr>\n",
       "      <th>1955</th>\n",
       "      <td>Ahorita la chola te trae tu desayuno</td>\n",
       "      <td>1</td>\n",
       "    </tr>\n",
       "    <tr>\n",
       "      <th>1959</th>\n",
       "      <td>Siempre he sacado buenas notas, papá</td>\n",
       "      <td>1</td>\n",
       "    </tr>\n",
       "    <tr>\n",
       "      <th>1978</th>\n",
       "      <td>Hoy reventamos a esos conchasumadres</td>\n",
       "      <td>3</td>\n",
       "    </tr>\n",
       "    <tr>\n",
       "      <th>1979</th>\n",
       "      <td>Un día me cae un piedrón y la cagada</td>\n",
       "      <td>3</td>\n",
       "    </tr>\n",
       "    <tr>\n",
       "      <th>1997</th>\n",
       "      <td>Ese chico es un drogadicto asqueroso</td>\n",
       "      <td>3</td>\n",
       "    </tr>\n",
       "  </tbody>\n",
       "</table>\n",
       "<p>412 rows × 2 columns</p>\n",
       "</div>"
      ],
      "text/plain": [
       "                                      text label\n",
       "21                               Oe Chacal     2\n",
       "27                               Anda vete     3\n",
       "31                              a la firme     2\n",
       "37                              Chau, cojo     3\n",
       "42                             Tengo plata     2\n",
       "...                                    ...   ...\n",
       "1955  Ahorita la chola te trae tu desayuno     1\n",
       "1959  Siempre he sacado buenas notas, papá     1\n",
       "1978  Hoy reventamos a esos conchasumadres     3\n",
       "1979  Un día me cae un piedrón y la cagada     3\n",
       "1997  Ese chico es un drogadicto asqueroso     3\n",
       "\n",
       "[412 rows x 2 columns]"
      ]
     },
     "execution_count": 270,
     "metadata": {},
     "output_type": "execute_result"
    }
   ],
   "source": [
    "new_df = df[df.label.isin([\"1\",\"2\",\"3\"])]\n",
    "#new_df = new_df.loc[:, ['id_slang','slang', 'sentence', 'label']]\n",
    "new_df = new_df.loc[:, ['sentence', 'label']]\n",
    "new_df = new_df.rename(columns={\"sentence\":\"text\"})\n",
    "new_df = new_df.reset_index(drop=True)\n",
    "new_df = new_df.astype({'label':'int'})\n",
    "new_df"
   ]
  },
  {
   "cell_type": "code",
   "execution_count": 271,
   "id": "3e7dc71f",
   "metadata": {},
   "outputs": [
    {
     "data": {
      "text/html": [
       "<div>\n",
       "<style scoped>\n",
       "    .dataframe tbody tr th:only-of-type {\n",
       "        vertical-align: middle;\n",
       "    }\n",
       "\n",
       "    .dataframe tbody tr th {\n",
       "        vertical-align: top;\n",
       "    }\n",
       "\n",
       "    .dataframe thead th {\n",
       "        text-align: right;\n",
       "    }\n",
       "</style>\n",
       "<table border=\"1\" class=\"dataframe\">\n",
       "  <thead>\n",
       "    <tr style=\"text-align: right;\">\n",
       "      <th></th>\n",
       "      <th>text</th>\n",
       "      <th>label</th>\n",
       "    </tr>\n",
       "  </thead>\n",
       "  <tbody>\n",
       "    <tr>\n",
       "      <th>110</th>\n",
       "      <td>Te ha fregado</td>\n",
       "      <td>3</td>\n",
       "    </tr>\n",
       "    <tr>\n",
       "      <th>856</th>\n",
       "      <td>¿Qué? Sí, era una conchuda</td>\n",
       "      <td>3</td>\n",
       "    </tr>\n",
       "    <tr>\n",
       "      <th>1671</th>\n",
       "      <td>tremenda fiesta se armó en mi depa</td>\n",
       "      <td>1</td>\n",
       "    </tr>\n",
       "    <tr>\n",
       "      <th>1505</th>\n",
       "      <td>ojalá que esté muerto ese huevón</td>\n",
       "      <td>3</td>\n",
       "    </tr>\n",
       "    <tr>\n",
       "      <th>719</th>\n",
       "      <td>Pero allá tú, es tu plata</td>\n",
       "      <td>3</td>\n",
       "    </tr>\n",
       "    <tr>\n",
       "      <th>265</th>\n",
       "      <td>Gallinas de mierda</td>\n",
       "      <td>3</td>\n",
       "    </tr>\n",
       "    <tr>\n",
       "      <th>845</th>\n",
       "      <td>los aliancistas son negros</td>\n",
       "      <td>3</td>\n",
       "    </tr>\n",
       "    <tr>\n",
       "      <th>1488</th>\n",
       "      <td>Cómo quieres te entienda, carajo</td>\n",
       "      <td>3</td>\n",
       "    </tr>\n",
       "    <tr>\n",
       "      <th>499</th>\n",
       "      <td>pero llegó la tombería</td>\n",
       "      <td>3</td>\n",
       "    </tr>\n",
       "    <tr>\n",
       "      <th>493</th>\n",
       "      <td>Templado hasta el cien</td>\n",
       "      <td>3</td>\n",
       "    </tr>\n",
       "    <tr>\n",
       "      <th>1997</th>\n",
       "      <td>Ese chico es un drogadicto asqueroso</td>\n",
       "      <td>3</td>\n",
       "    </tr>\n",
       "    <tr>\n",
       "      <th>98</th>\n",
       "      <td>tanta huevada</td>\n",
       "      <td>3</td>\n",
       "    </tr>\n",
       "    <tr>\n",
       "      <th>567</th>\n",
       "      <td>El Bebe anda medio loco</td>\n",
       "      <td>3</td>\n",
       "    </tr>\n",
       "    <tr>\n",
       "      <th>743</th>\n",
       "      <td>Es un soplón y un cobarde</td>\n",
       "      <td>3</td>\n",
       "    </tr>\n",
       "    <tr>\n",
       "      <th>21</th>\n",
       "      <td>Oe Chacal</td>\n",
       "      <td>2</td>\n",
       "    </tr>\n",
       "    <tr>\n",
       "      <th>949</th>\n",
       "      <td>Es un maricón y un traidor\"</td>\n",
       "      <td>3</td>\n",
       "    </tr>\n",
       "    <tr>\n",
       "      <th>722</th>\n",
       "      <td>Canta bien y está buenazo</td>\n",
       "      <td>1</td>\n",
       "    </tr>\n",
       "    <tr>\n",
       "      <th>574</th>\n",
       "      <td>Estás atontado, hermano</td>\n",
       "      <td>3</td>\n",
       "    </tr>\n",
       "    <tr>\n",
       "      <th>521</th>\n",
       "      <td>levantándome hembritas</td>\n",
       "      <td>1</td>\n",
       "    </tr>\n",
       "    <tr>\n",
       "      <th>361</th>\n",
       "      <td>Hablaba y gemía: -Ay</td>\n",
       "      <td>1</td>\n",
       "    </tr>\n",
       "    <tr>\n",
       "      <th>751</th>\n",
       "      <td>¿Y qué chucha va a pasar?</td>\n",
       "      <td>3</td>\n",
       "    </tr>\n",
       "    <tr>\n",
       "      <th>1288</th>\n",
       "      <td>Si no, el tráfico es una pinga</td>\n",
       "      <td>3</td>\n",
       "    </tr>\n",
       "    <tr>\n",
       "      <th>126</th>\n",
       "      <td>Desde chiquita</td>\n",
       "      <td>2</td>\n",
       "    </tr>\n",
       "    <tr>\n",
       "      <th>1854</th>\n",
       "      <td>La noticia desconcertó a las cholas</td>\n",
       "      <td>2</td>\n",
       "    </tr>\n",
       "    <tr>\n",
       "      <th>1581</th>\n",
       "      <td>Acuérdate que todas son cachables</td>\n",
       "      <td>2</td>\n",
       "    </tr>\n",
       "    <tr>\n",
       "      <th>1551</th>\n",
       "      <td>parece que el huevón era conocido</td>\n",
       "      <td>1</td>\n",
       "    </tr>\n",
       "    <tr>\n",
       "      <th>1656</th>\n",
       "      <td>Por plata hago cualquier cosa, tío</td>\n",
       "      <td>2</td>\n",
       "    </tr>\n",
       "    <tr>\n",
       "      <th>221</th>\n",
       "      <td>como estás calato</td>\n",
       "      <td>2</td>\n",
       "    </tr>\n",
       "    <tr>\n",
       "      <th>96</th>\n",
       "      <td>Parecías loco</td>\n",
       "      <td>3</td>\n",
       "    </tr>\n",
       "    <tr>\n",
       "      <th>1269</th>\n",
       "      <td>—No te hagas ilusiones, huevas</td>\n",
       "      <td>3</td>\n",
       "    </tr>\n",
       "  </tbody>\n",
       "</table>\n",
       "</div>"
      ],
      "text/plain": [
       "                                      text label\n",
       "110                          Te ha fregado     3\n",
       "856             ¿Qué? Sí, era una conchuda     3\n",
       "1671    tremenda fiesta se armó en mi depa     1\n",
       "1505      ojalá que esté muerto ese huevón     3\n",
       "719              Pero allá tú, es tu plata     3\n",
       "265                     Gallinas de mierda     3\n",
       "845             los aliancistas son negros     3\n",
       "1488      Cómo quieres te entienda, carajo     3\n",
       "499                 pero llegó la tombería     3\n",
       "493                 Templado hasta el cien     3\n",
       "1997  Ese chico es un drogadicto asqueroso     3\n",
       "98                           tanta huevada     3\n",
       "567                El Bebe anda medio loco     3\n",
       "743              Es un soplón y un cobarde     3\n",
       "21                               Oe Chacal     2\n",
       "949            Es un maricón y un traidor\"     3\n",
       "722              Canta bien y está buenazo     1\n",
       "574                Estás atontado, hermano     3\n",
       "521                 levantándome hembritas     1\n",
       "361                   Hablaba y gemía: -Ay     1\n",
       "751              ¿Y qué chucha va a pasar?     3\n",
       "1288        Si no, el tráfico es una pinga     3\n",
       "126                         Desde chiquita     2\n",
       "1854   La noticia desconcertó a las cholas     2\n",
       "1581     Acuérdate que todas son cachables     2\n",
       "1551     parece que el huevón era conocido     1\n",
       "1656    Por plata hago cualquier cosa, tío     2\n",
       "221                      como estás calato     2\n",
       "96                           Parecías loco     3\n",
       "1269        —No te hagas ilusiones, huevas     3"
      ]
     },
     "execution_count": 271,
     "metadata": {},
     "output_type": "execute_result"
    }
   ],
   "source": [
    "new_df.sample(n = 30)"
   ]
  },
  {
   "cell_type": "code",
   "execution_count": 79,
   "id": "4da66789",
   "metadata": {},
   "outputs": [
    {
     "name": "stdout",
     "output_type": "stream",
     "text": [
      "<class 'pandas.core.frame.DataFrame'>\n",
      "Index: 412 entries, 21 to 1997\n",
      "Data columns (total 3 columns):\n",
      " #   Column    Non-Null Count  Dtype \n",
      "---  ------    --------------  ----- \n",
      " 0   slang     412 non-null    object\n",
      " 1   sentence  412 non-null    object\n",
      " 2   label     412 non-null    object\n",
      "dtypes: object(3)\n",
      "memory usage: 12.9+ KB\n"
     ]
    }
   ],
   "source": [
    "new_df.info()"
   ]
  },
  {
   "cell_type": "code",
   "execution_count": 51,
   "id": "9e5e09ec",
   "metadata": {},
   "outputs": [],
   "source": []
  },
  {
   "cell_type": "code",
   "execution_count": 127,
   "id": "7af018d1",
   "metadata": {},
   "outputs": [],
   "source": []
  },
  {
   "cell_type": "code",
   "execution_count": 129,
   "id": "e5a7884a",
   "metadata": {},
   "outputs": [
    {
     "name": "stdout",
     "output_type": "stream",
     "text": [
      "trainable model parameters: 108789507\n",
      "all model parameters: 108789507\n",
      "percentage of trainable model parameters: 100.00%\n"
     ]
    }
   ],
   "source": []
  },
  {
   "cell_type": "code",
   "execution_count": 130,
   "id": "d852de70",
   "metadata": {},
   "outputs": [],
   "source": [
    "##Training"
   ]
  },
  {
   "cell_type": "code",
   "execution_count": 131,
   "id": "b3957272",
   "metadata": {},
   "outputs": [
    {
     "name": "stderr",
     "output_type": "stream",
     "text": [
      "Found cached dataset tweet_sentiment_multilingual (/home/darkstar/.cache/huggingface/datasets/cardiffnlp___tweet_sentiment_multilingual/spanish/0.1.0/936afd3cde120393429606f681b3b48d526873c45114068973f71e296ce80605)\n"
     ]
    },
    {
     "data": {
      "application/vnd.jupyter.widget-view+json": {
       "model_id": "168ac7c695e64c708b9b838737995d8c",
       "version_major": 2,
       "version_minor": 0
      },
      "text/plain": [
       "  0%|          | 0/3 [00:00<?, ?it/s]"
      ]
     },
     "metadata": {},
     "output_type": "display_data"
    },
    {
     "data": {
      "text/plain": [
       "DatasetDict({\n",
       "    train: Dataset({\n",
       "        features: ['text', 'label'],\n",
       "        num_rows: 1839\n",
       "    })\n",
       "    validation: Dataset({\n",
       "        features: ['text', 'label'],\n",
       "        num_rows: 324\n",
       "    })\n",
       "    test: Dataset({\n",
       "        features: ['text', 'label'],\n",
       "        num_rows: 870\n",
       "    })\n",
       "})"
      ]
     },
     "execution_count": 131,
     "metadata": {},
     "output_type": "execute_result"
    }
   ],
   "source": [
    "from datasets import load_dataset\n",
    "\n",
    "ds = load_dataset(\"cardiffnlp/tweet_sentiment_multilingual\", \"spanish\")\n",
    "\n",
    "ds"
   ]
  },
  {
   "cell_type": "code",
   "execution_count": 132,
   "id": "5163adcd",
   "metadata": {},
   "outputs": [
    {
     "data": {
      "text/plain": [
       "{'text': ['estoy hasta el ojete de que me digáis que tengo cara de mala leche',\n",
       "  '@user Por?  Tenía pensado verla después de la segunda de Daredevil',\n",
       "  'Esto de estar feliz mola',\n",
       "  'Ya no es tan divertido',\n",
       "  '@user te recuerdo que soy una persona que tiene criterio, equivocado, pero lo tengo',\n",
       "  '@user @user @user con una pequeña donación hará felices a miles de chicas que no tienen  #asociacionmariloli',\n",
       "  'He probado una nueva espuma para el pelo y sí que lo deja más rizado pero se queda como efecto gomina y no me gusta.',\n",
       "  '@user Ojalá pudiera darte el abrazo en vivo o al menos acompañarte hoy. Siento mucho lo de tu primo',\n",
       "  '@user aquí tienes a mi bae aka una egipcia preciosa que esta aprendiendo español. Os llevareis bien  @user',\n",
       "  '@user ya somos dos, que triste'],\n",
       " 'label': [0, 1, 2, 0, 1, 2, 0, 1, 2, 0]}"
      ]
     },
     "execution_count": 132,
     "metadata": {},
     "output_type": "execute_result"
    }
   ],
   "source": [
    "ds[\"train\"][:10]"
   ]
  },
  {
   "cell_type": "code",
   "execution_count": 133,
   "id": "ae4426d1",
   "metadata": {},
   "outputs": [],
   "source": [
    "from transformers import AutoModelForSequenceClassification, AutoTokenizer\n",
    "\n",
    "model_name = \"pysentimiento/robertuito-base-uncased\"\n",
    "\n",
    "model = AutoModelForSequenceClassification.from_pretrained(\n",
    "    model_name,\n",
    "    num_labels=3\n",
    ")\n",
    "tokenizer = AutoTokenizer.from_pretrained(model_name)\n",
    "tokenizer.model_max_length = 128\n"
   ]
  },
  {
   "cell_type": "code",
   "execution_count": 134,
   "id": "d769e688",
   "metadata": {},
   "outputs": [
    {
     "name": "stdout",
     "output_type": "stream",
     "text": [
      "trainable model parameters: 108789507\n",
      "all model parameters: 108789507\n",
      "percentage of trainable model parameters: 100.00%\n"
     ]
    }
   ],
   "source": [
    "def print_number_of_trainable_model_parameters(model):\n",
    "    trainable_model_params = 0\n",
    "    all_model_params = 0\n",
    "    for _, param in model.named_parameters():\n",
    "        all_model_params += param.numel()\n",
    "        if param.requires_grad:\n",
    "            trainable_model_params += param.numel()\n",
    "    return f\"trainable model parameters: {trainable_model_params}\\nall model parameters: {all_model_params}\\npercentage of trainable model parameters: {100 * trainable_model_params / all_model_params:.2f}%\"\n",
    "\n",
    "print(print_number_of_trainable_model_parameters(model))"
   ]
  },
  {
   "cell_type": "code",
   "execution_count": 135,
   "id": "603b5a1f",
   "metadata": {},
   "outputs": [
    {
     "name": "stderr",
     "output_type": "stream",
     "text": [
      "Loading cached processed dataset at /home/darkstar/.cache/huggingface/datasets/cardiffnlp___tweet_sentiment_multilingual/spanish/0.1.0/936afd3cde120393429606f681b3b48d526873c45114068973f71e296ce80605/cache-63d17802209172be.arrow\n",
      "Loading cached processed dataset at /home/darkstar/.cache/huggingface/datasets/cardiffnlp___tweet_sentiment_multilingual/spanish/0.1.0/936afd3cde120393429606f681b3b48d526873c45114068973f71e296ce80605/cache-383aafcdcf8ebb9e.arrow\n",
      "Loading cached processed dataset at /home/darkstar/.cache/huggingface/datasets/cardiffnlp___tweet_sentiment_multilingual/spanish/0.1.0/936afd3cde120393429606f681b3b48d526873c45114068973f71e296ce80605/cache-085d67da889331b0.arrow\n"
     ]
    }
   ],
   "source": [
    "from pysentimiento.preprocessing import preprocess_tweet\n",
    "preprocessed_ds = ds.map(lambda ex: {\"text\": preprocess_tweet(ex[\"text\"], lang=\"es\")})"
   ]
  },
  {
   "cell_type": "code",
   "execution_count": 136,
   "id": "c3d178d4",
   "metadata": {},
   "outputs": [
    {
     "name": "stderr",
     "output_type": "stream",
     "text": [
      "Loading cached processed dataset at /home/darkstar/.cache/huggingface/datasets/cardiffnlp___tweet_sentiment_multilingual/spanish/0.1.0/936afd3cde120393429606f681b3b48d526873c45114068973f71e296ce80605/cache-378eb711774401ee.arrow\n",
      "Loading cached processed dataset at /home/darkstar/.cache/huggingface/datasets/cardiffnlp___tweet_sentiment_multilingual/spanish/0.1.0/936afd3cde120393429606f681b3b48d526873c45114068973f71e296ce80605/cache-8f0e3e6aba12a471.arrow\n",
      "Loading cached processed dataset at /home/darkstar/.cache/huggingface/datasets/cardiffnlp___tweet_sentiment_multilingual/spanish/0.1.0/936afd3cde120393429606f681b3b48d526873c45114068973f71e296ce80605/cache-d8f4cdad7ff5d52f.arrow\n"
     ]
    }
   ],
   "source": [
    "tokenized_ds = preprocessed_ds.map(\n",
    "    lambda batch: tokenizer(batch[\"text\"], padding=False, truncation=True),\n",
    "    batched=True, batch_size=32\n",
    ")"
   ]
  },
  {
   "cell_type": "code",
   "execution_count": 139,
   "id": "566c7e45",
   "metadata": {},
   "outputs": [],
   "source": [
    "import numpy as np\n",
    "import evaluate\n",
    "\n",
    "f1_metric = evaluate.load(\"f1\")\n",
    "recall_metric = evaluate.load(\"recall\")\n",
    "\n",
    "def compute_metrics (eval_pred):\n",
    "    logits, labels = eval_pred\n",
    "    preds = np.argmax(logits, axis = -1)\n",
    "    \n",
    "    results = {}\n",
    "    results.update(f1_metric.compute(predictions=preds, references = labels, average=\"macro\"))\n",
    "    results.update(recall_metric.compute(predictions=preds, references = labels, average=\"macro\"))\n",
    "    return results"
   ]
  },
  {
   "cell_type": "code",
   "execution_count": 140,
   "id": "6f391313",
   "metadata": {},
   "outputs": [
    {
     "name": "stdout",
     "output_type": "stream",
     "text": [
      "{'eval_loss': 0.6580564379692078, 'eval_f1': 0.6903269569936237, 'eval_recall': 0.7006172839506174, 'eval_runtime': 0.5642, 'eval_samples_per_second': 574.286, 'eval_steps_per_second': 72.672, 'epoch': 1.0}\n",
      "{'eval_loss': 0.6773273348808289, 'eval_f1': 0.7105705628814066, 'eval_recall': 0.7098765432098766, 'eval_runtime': 0.5368, 'eval_samples_per_second': 603.63, 'eval_steps_per_second': 76.385, 'epoch': 2.0}\n",
      "{'eval_loss': 0.8039754033088684, 'eval_f1': 0.7233416789600859, 'eval_recall': 0.7222222222222222, 'eval_runtime': 0.5677, 'eval_samples_per_second': 570.688, 'eval_steps_per_second': 72.217, 'epoch': 3.0}\n",
      "{'eval_loss': 0.9425756931304932, 'eval_f1': 0.7107606814918214, 'eval_recall': 0.7129629629629629, 'eval_runtime': 0.5865, 'eval_samples_per_second': 552.389, 'eval_steps_per_second': 69.901, 'epoch': 4.0}\n",
      "{'eval_loss': 1.0149219036102295, 'eval_f1': 0.7035626068624633, 'eval_recall': 0.70679012345679, 'eval_runtime': 0.5677, 'eval_samples_per_second': 570.716, 'eval_steps_per_second': 72.22, 'epoch': 5.0}\n",
      "{'train_runtime': 51.341, 'train_samples_per_second': 179.097, 'train_steps_per_second': 5.649, 'train_loss': 0.3351433589540679, 'epoch': 5.0}\n"
     ]
    },
    {
     "data": {
      "text/plain": [
       "TrainOutput(global_step=290, training_loss=0.3351433589540679, metrics={'train_runtime': 51.341, 'train_samples_per_second': 179.097, 'train_steps_per_second': 5.649, 'train_loss': 0.3351433589540679, 'epoch': 5.0})"
      ]
     },
     "execution_count": 140,
     "metadata": {},
     "output_type": "execute_result"
    }
   ],
   "source": [
    "from transformers import TrainingArguments, Trainer, DataCollatorWithPadding\n",
    "\n",
    "training_args = TrainingArguments(\n",
    "    per_device_train_batch_size=32,\n",
    "    output_dir=\"test_trainer\",\n",
    "    do_eval=True,\n",
    "    evaluation_strategy=\"epoch\",\n",
    "    num_train_epochs=5,\n",
    ")\n",
    "\n",
    "trainer = Trainer(\n",
    "    model=model,\n",
    "    args=training_args,\n",
    "    train_dataset=tokenized_ds[\"train\"],\n",
    "    eval_dataset=tokenized_ds[\"validation\"],\n",
    "    compute_metrics=compute_metrics,\n",
    "    data_collator=DataCollatorWithPadding(tokenizer=tokenizer),\n",
    ")\n",
    "trainer.train()"
   ]
  },
  {
   "cell_type": "code",
   "execution_count": 141,
   "id": "45df8862",
   "metadata": {},
   "outputs": [
    {
     "name": "stdout",
     "output_type": "stream",
     "text": [
      "{'eval_loss': 0.9976394176483154, 'eval_f1': 0.7093753726468303, 'eval_recall': 0.7126436781609197, 'eval_runtime': 1.4433, 'eval_samples_per_second': 602.768, 'eval_steps_per_second': 75.519, 'epoch': 5.0}\n"
     ]
    },
    {
     "data": {
      "text/plain": [
       "{'eval_loss': 0.9976394176483154,\n",
       " 'eval_f1': 0.7093753726468303,\n",
       " 'eval_recall': 0.7126436781609197,\n",
       " 'eval_runtime': 1.4433,\n",
       " 'eval_samples_per_second': 602.768,\n",
       " 'eval_steps_per_second': 75.519,\n",
       " 'epoch': 5.0}"
      ]
     },
     "execution_count": 141,
     "metadata": {},
     "output_type": "execute_result"
    }
   ],
   "source": [
    "trainer.evaluate(tokenized_ds[\"test\"])"
   ]
  },
  {
   "cell_type": "code",
   "execution_count": null,
   "id": "578231ff",
   "metadata": {},
   "outputs": [],
   "source": []
  },
  {
   "cell_type": "code",
   "execution_count": 142,
   "id": "f3bc1c80",
   "metadata": {},
   "outputs": [
    {
     "data": {
      "text/plain": [
       "RobertaForSequenceClassification(\n",
       "  (roberta): RobertaModel(\n",
       "    (embeddings): RobertaEmbeddings(\n",
       "      (word_embeddings): Embedding(30000, 768, padding_idx=1)\n",
       "      (position_embeddings): Embedding(130, 768, padding_idx=1)\n",
       "      (token_type_embeddings): Embedding(1, 768)\n",
       "      (LayerNorm): LayerNorm((768,), eps=1e-12, elementwise_affine=True)\n",
       "      (dropout): Dropout(p=0.1, inplace=False)\n",
       "    )\n",
       "    (encoder): RobertaEncoder(\n",
       "      (layer): ModuleList(\n",
       "        (0-11): 12 x RobertaLayer(\n",
       "          (attention): RobertaAttention(\n",
       "            (self): RobertaSelfAttention(\n",
       "              (query): Linear(in_features=768, out_features=768, bias=True)\n",
       "              (key): Linear(in_features=768, out_features=768, bias=True)\n",
       "              (value): Linear(in_features=768, out_features=768, bias=True)\n",
       "              (dropout): Dropout(p=0.1, inplace=False)\n",
       "            )\n",
       "            (output): RobertaSelfOutput(\n",
       "              (dense): Linear(in_features=768, out_features=768, bias=True)\n",
       "              (LayerNorm): LayerNorm((768,), eps=1e-12, elementwise_affine=True)\n",
       "              (dropout): Dropout(p=0.1, inplace=False)\n",
       "            )\n",
       "          )\n",
       "          (intermediate): RobertaIntermediate(\n",
       "            (dense): Linear(in_features=768, out_features=3072, bias=True)\n",
       "            (intermediate_act_fn): GELUActivation()\n",
       "          )\n",
       "          (output): RobertaOutput(\n",
       "            (dense): Linear(in_features=3072, out_features=768, bias=True)\n",
       "            (LayerNorm): LayerNorm((768,), eps=1e-12, elementwise_affine=True)\n",
       "            (dropout): Dropout(p=0.1, inplace=False)\n",
       "          )\n",
       "        )\n",
       "      )\n",
       "    )\n",
       "  )\n",
       "  (classifier): RobertaClassificationHead(\n",
       "    (dense): Linear(in_features=768, out_features=768, bias=True)\n",
       "    (dropout): Dropout(p=0.1, inplace=False)\n",
       "    (out_proj): Linear(in_features=768, out_features=3, bias=True)\n",
       "  )\n",
       ")"
      ]
     },
     "execution_count": 142,
     "metadata": {},
     "output_type": "execute_result"
    }
   ],
   "source": [
    "import torch\n",
    "device = \"cuda\" if torch.cuda.is_available() else \"cpu\"\n",
    "model.cuda()"
   ]
  },
  {
   "cell_type": "code",
   "execution_count": 273,
   "id": "d46717e2",
   "metadata": {},
   "outputs": [
    {
     "data": {
      "text/html": [
       "<div>\n",
       "<style scoped>\n",
       "    .dataframe tbody tr th:only-of-type {\n",
       "        vertical-align: middle;\n",
       "    }\n",
       "\n",
       "    .dataframe tbody tr th {\n",
       "        vertical-align: top;\n",
       "    }\n",
       "\n",
       "    .dataframe thead th {\n",
       "        text-align: right;\n",
       "    }\n",
       "</style>\n",
       "<table border=\"1\" class=\"dataframe\">\n",
       "  <thead>\n",
       "    <tr style=\"text-align: right;\">\n",
       "      <th></th>\n",
       "      <th>text</th>\n",
       "      <th>label</th>\n",
       "    </tr>\n",
       "  </thead>\n",
       "  <tbody>\n",
       "    <tr>\n",
       "      <th>80</th>\n",
       "      <td>habla como faite</td>\n",
       "      <td>2</td>\n",
       "    </tr>\n",
       "    <tr>\n",
       "      <th>320</th>\n",
       "      <td>Me la voy a cachar por cojuda»</td>\n",
       "      <td>3</td>\n",
       "    </tr>\n",
       "    <tr>\n",
       "      <th>254</th>\n",
       "      <td>Sus viejos son una ladilla</td>\n",
       "      <td>3</td>\n",
       "    </tr>\n",
       "    <tr>\n",
       "      <th>292</th>\n",
       "      <td>si todas esas huevadas vienen</td>\n",
       "      <td>2</td>\n",
       "    </tr>\n",
       "    <tr>\n",
       "      <th>244</th>\n",
       "      <td>Nos vamos a cagar de risa</td>\n",
       "      <td>1</td>\n",
       "    </tr>\n",
       "    <tr>\n",
       "      <th>35</th>\n",
       "      <td>habla Misterio</td>\n",
       "      <td>2</td>\n",
       "    </tr>\n",
       "    <tr>\n",
       "      <th>128</th>\n",
       "      <td>Él se sacó la gorra</td>\n",
       "      <td>2</td>\n",
       "    </tr>\n",
       "    <tr>\n",
       "      <th>333</th>\n",
       "      <td>me manda plata todos los meses</td>\n",
       "      <td>1</td>\n",
       "    </tr>\n",
       "    <tr>\n",
       "      <th>62</th>\n",
       "      <td>Lo puse al palo</td>\n",
       "      <td>2</td>\n",
       "    </tr>\n",
       "    <tr>\n",
       "      <th>388</th>\n",
       "      <td>El Viejo estaba sentado en un sofá</td>\n",
       "      <td>2</td>\n",
       "    </tr>\n",
       "    <tr>\n",
       "      <th>47</th>\n",
       "      <td>No tenía plata</td>\n",
       "      <td>3</td>\n",
       "    </tr>\n",
       "    <tr>\n",
       "      <th>299</th>\n",
       "      <td>No, tío, casi no manejo plata</td>\n",
       "      <td>2</td>\n",
       "    </tr>\n",
       "    <tr>\n",
       "      <th>67</th>\n",
       "      <td>ta’ huevón éste</td>\n",
       "      <td>3</td>\n",
       "    </tr>\n",
       "    <tr>\n",
       "      <th>148</th>\n",
       "      <td>un beso para mi loco</td>\n",
       "      <td>1</td>\n",
       "    </tr>\n",
       "    <tr>\n",
       "      <th>382</th>\n",
       "      <td>Maldito, imbécil, te odio, muérete</td>\n",
       "      <td>3</td>\n",
       "    </tr>\n",
       "    <tr>\n",
       "      <th>132</th>\n",
       "      <td>—Sí, fue alucinante</td>\n",
       "      <td>1</td>\n",
       "    </tr>\n",
       "    <tr>\n",
       "      <th>12</th>\n",
       "      <td>No seas cabro</td>\n",
       "      <td>3</td>\n",
       "    </tr>\n",
       "    <tr>\n",
       "      <th>123</th>\n",
       "      <td>A ti de qué, carajo</td>\n",
       "      <td>3</td>\n",
       "    </tr>\n",
       "    <tr>\n",
       "      <th>296</th>\n",
       "      <td>\"¿Yo, un rosquete?, dice éste</td>\n",
       "      <td>3</td>\n",
       "    </tr>\n",
       "    <tr>\n",
       "      <th>53</th>\n",
       "      <td>Toma mi poncho</td>\n",
       "      <td>2</td>\n",
       "    </tr>\n",
       "    <tr>\n",
       "      <th>138</th>\n",
       "      <td>Hablaba y gemía: -Ay</td>\n",
       "      <td>1</td>\n",
       "    </tr>\n",
       "    <tr>\n",
       "      <th>157</th>\n",
       "      <td>te pusiste loco, men</td>\n",
       "      <td>3</td>\n",
       "    </tr>\n",
       "    <tr>\n",
       "      <th>113</th>\n",
       "      <td>tú eres bacán ¿no?</td>\n",
       "      <td>3</td>\n",
       "    </tr>\n",
       "    <tr>\n",
       "      <th>324</th>\n",
       "      <td>Yo soy Misterio, conchasumadre</td>\n",
       "      <td>3</td>\n",
       "    </tr>\n",
       "    <tr>\n",
       "      <th>265</th>\n",
       "      <td>Lleven a Caradura a la jato</td>\n",
       "      <td>2</td>\n",
       "    </tr>\n",
       "    <tr>\n",
       "      <th>136</th>\n",
       "      <td>Que se joda la vieja</td>\n",
       "      <td>3</td>\n",
       "    </tr>\n",
       "    <tr>\n",
       "      <th>66</th>\n",
       "      <td>Lechero, carajo</td>\n",
       "      <td>1</td>\n",
       "    </tr>\n",
       "    <tr>\n",
       "      <th>365</th>\n",
       "      <td>ojalá que esté muerto ese huevón</td>\n",
       "      <td>3</td>\n",
       "    </tr>\n",
       "    <tr>\n",
       "      <th>141</th>\n",
       "      <td>—Ay, pobre, qué piña</td>\n",
       "      <td>3</td>\n",
       "    </tr>\n",
       "    <tr>\n",
       "      <th>15</th>\n",
       "      <td>Estoy a punto</td>\n",
       "      <td>2</td>\n",
       "    </tr>\n",
       "  </tbody>\n",
       "</table>\n",
       "</div>"
      ],
      "text/plain": [
       "                                   text label\n",
       "80                     habla como faite     2\n",
       "320      Me la voy a cachar por cojuda»     3\n",
       "254          Sus viejos son una ladilla     3\n",
       "292       si todas esas huevadas vienen     2\n",
       "244           Nos vamos a cagar de risa     1\n",
       "35                       habla Misterio     2\n",
       "128                 Él se sacó la gorra     2\n",
       "333      me manda plata todos los meses     1\n",
       "62                      Lo puse al palo     2\n",
       "388  El Viejo estaba sentado en un sofá     2\n",
       "47                       No tenía plata     3\n",
       "299       No, tío, casi no manejo plata     2\n",
       "67                      ta’ huevón éste     3\n",
       "148                un beso para mi loco     1\n",
       "382  Maldito, imbécil, te odio, muérete     3\n",
       "132                 —Sí, fue alucinante     1\n",
       "12                        No seas cabro     3\n",
       "123                 A ti de qué, carajo     3\n",
       "296       \"¿Yo, un rosquete?, dice éste     3\n",
       "53                       Toma mi poncho     2\n",
       "138                Hablaba y gemía: -Ay     1\n",
       "157                te pusiste loco, men     3\n",
       "113                  tú eres bacán ¿no?     3\n",
       "324      Yo soy Misterio, conchasumadre     3\n",
       "265         Lleven a Caradura a la jato     2\n",
       "136                Que se joda la vieja     3\n",
       "66                      Lechero, carajo     1\n",
       "365    ojalá que esté muerto ese huevón     3\n",
       "141                —Ay, pobre, qué piña     3\n",
       "15                        Estoy a punto     2"
      ]
     },
     "execution_count": 273,
     "metadata": {},
     "output_type": "execute_result"
    }
   ],
   "source": [
    "new_df.sample(n = 30)"
   ]
  },
  {
   "cell_type": "code",
   "execution_count": 236,
   "id": "5cf7ab8e",
   "metadata": {},
   "outputs": [
    {
     "data": {
      "text/plain": [
       "'Hoy reventamos a esos conchasumadres'"
      ]
     },
     "execution_count": 236,
     "metadata": {},
     "output_type": "execute_result"
    }
   ],
   "source": [
    "text = new_df[\"text\"][409]\n",
    "text"
   ]
  },
  {
   "cell_type": "code",
   "execution_count": 202,
   "id": "df7d2440",
   "metadata": {},
   "outputs": [],
   "source": [
    "#text = \"Esta pelicula tuvo una horrible y fea trama\"\n",
    "encoded_input = tokenizer(text, return_tensors='pt').input_ids\n",
    "encoded_input = encoded_input.to('cuda')"
   ]
  },
  {
   "cell_type": "code",
   "execution_count": 203,
   "id": "18b150c6",
   "metadata": {},
   "outputs": [
    {
     "data": {
      "text/plain": [
       "tensor([[    0,   747, 20142,   506,   412,  1623,   461,  2130,  5205,  3205,\n",
       "             2]], device='cuda:0')"
      ]
     },
     "execution_count": 203,
     "metadata": {},
     "output_type": "execute_result"
    }
   ],
   "source": [
    "encoded_input"
   ]
  },
  {
   "cell_type": "code",
   "execution_count": 204,
   "id": "77243ac8",
   "metadata": {},
   "outputs": [
    {
     "data": {
      "text/plain": [
       "tensor([[ 2.8686, -0.7646, -2.2725]], device='cuda:0',\n",
       "       grad_fn=<AddmmBackward0>)"
      ]
     },
     "execution_count": 204,
     "metadata": {},
     "output_type": "execute_result"
    }
   ],
   "source": [
    "logits = model(encoded_input).logits\n",
    "logits"
   ]
  },
  {
   "cell_type": "code",
   "execution_count": 205,
   "id": "75bc3196",
   "metadata": {},
   "outputs": [
    {
     "name": "stdout",
     "output_type": "stream",
     "text": [
      "logits [NEGATIVE, NEUTRAL, POSITIVE]: [2.868593454360962, -0.7646494507789612, -2.272451162338257]\n"
     ]
    }
   ],
   "source": [
    "print(f'logits [NEGATIVE, NEUTRAL, POSITIVE]: {logits.tolist()[0]}')"
   ]
  },
  {
   "cell_type": "code",
   "execution_count": 206,
   "id": "47749398",
   "metadata": {},
   "outputs": [
    {
     "name": "stdout",
     "output_type": "stream",
     "text": [
      "probabilities [NEGATIVE, NEUTRAL, POSITIVE]: [0.9687275290489197, 0.025603795424103737, 0.005668580532073975]\n"
     ]
    }
   ],
   "source": [
    "# Print the probabilities for [not hate, hate]\n",
    "probabilities = logits.softmax(dim=-1).tolist()[0]\n",
    "print(f'probabilities [NEGATIVE, NEUTRAL, POSITIVE]: {probabilities}')"
   ]
  },
  {
   "cell_type": "code",
   "execution_count": 216,
   "id": "8e9e5f4e",
   "metadata": {},
   "outputs": [],
   "source": [
    "from datasets import Dataset"
   ]
  },
  {
   "cell_type": "code",
   "execution_count": 242,
   "id": "d5e729be",
   "metadata": {},
   "outputs": [
    {
     "data": {
      "text/plain": [
       "DatasetDict({\n",
       "    train: Dataset({\n",
       "        features: ['text', 'label'],\n",
       "        num_rows: 1839\n",
       "    })\n",
       "    validation: Dataset({\n",
       "        features: ['text', 'label'],\n",
       "        num_rows: 324\n",
       "    })\n",
       "    test: Dataset({\n",
       "        features: ['text', 'label'],\n",
       "        num_rows: 870\n",
       "    })\n",
       "})"
      ]
     },
     "execution_count": 242,
     "metadata": {},
     "output_type": "execute_result"
    }
   ],
   "source": [
    "ds"
   ]
  },
  {
   "cell_type": "code",
   "execution_count": 274,
   "id": "583f6fdb",
   "metadata": {},
   "outputs": [],
   "source": []
  },
  {
   "cell_type": "code",
   "execution_count": 275,
   "id": "6c2fc9c0",
   "metadata": {},
   "outputs": [],
   "source": [
    "# label encode\n",
    "def label_encode(x):\n",
    "    if x == 1:#positive\n",
    "        return 2\n",
    "    if x == 2:#neutral\n",
    "        return 1\n",
    "    if x == 3:#negative\n",
    "        return 0"
   ]
  },
  {
   "cell_type": "code",
   "execution_count": 276,
   "id": "844a8a61",
   "metadata": {},
   "outputs": [],
   "source": [
    "new_df[\"label\"] = new_df[\"label\"].apply(lambda x: label_encode(x))"
   ]
  },
  {
   "cell_type": "code",
   "execution_count": 277,
   "id": "43d1ce00",
   "metadata": {},
   "outputs": [
    {
     "data": {
      "text/html": [
       "<div>\n",
       "<style scoped>\n",
       "    .dataframe tbody tr th:only-of-type {\n",
       "        vertical-align: middle;\n",
       "    }\n",
       "\n",
       "    .dataframe tbody tr th {\n",
       "        vertical-align: top;\n",
       "    }\n",
       "\n",
       "    .dataframe thead th {\n",
       "        text-align: right;\n",
       "    }\n",
       "</style>\n",
       "<table border=\"1\" class=\"dataframe\">\n",
       "  <thead>\n",
       "    <tr style=\"text-align: right;\">\n",
       "      <th></th>\n",
       "      <th>text</th>\n",
       "      <th>label</th>\n",
       "    </tr>\n",
       "  </thead>\n",
       "  <tbody>\n",
       "    <tr>\n",
       "      <th>0</th>\n",
       "      <td>Oe Chacal</td>\n",
       "      <td>1</td>\n",
       "    </tr>\n",
       "    <tr>\n",
       "      <th>1</th>\n",
       "      <td>Anda vete</td>\n",
       "      <td>0</td>\n",
       "    </tr>\n",
       "    <tr>\n",
       "      <th>2</th>\n",
       "      <td>a la firme</td>\n",
       "      <td>1</td>\n",
       "    </tr>\n",
       "    <tr>\n",
       "      <th>3</th>\n",
       "      <td>Chau, cojo</td>\n",
       "      <td>0</td>\n",
       "    </tr>\n",
       "    <tr>\n",
       "      <th>4</th>\n",
       "      <td>Tengo plata</td>\n",
       "      <td>1</td>\n",
       "    </tr>\n",
       "    <tr>\n",
       "      <th>...</th>\n",
       "      <td>...</td>\n",
       "      <td>...</td>\n",
       "    </tr>\n",
       "    <tr>\n",
       "      <th>407</th>\n",
       "      <td>Ahorita la chola te trae tu desayuno</td>\n",
       "      <td>2</td>\n",
       "    </tr>\n",
       "    <tr>\n",
       "      <th>408</th>\n",
       "      <td>Siempre he sacado buenas notas, papá</td>\n",
       "      <td>2</td>\n",
       "    </tr>\n",
       "    <tr>\n",
       "      <th>409</th>\n",
       "      <td>Hoy reventamos a esos conchasumadres</td>\n",
       "      <td>0</td>\n",
       "    </tr>\n",
       "    <tr>\n",
       "      <th>410</th>\n",
       "      <td>Un día me cae un piedrón y la cagada</td>\n",
       "      <td>0</td>\n",
       "    </tr>\n",
       "    <tr>\n",
       "      <th>411</th>\n",
       "      <td>Ese chico es un drogadicto asqueroso</td>\n",
       "      <td>0</td>\n",
       "    </tr>\n",
       "  </tbody>\n",
       "</table>\n",
       "<p>412 rows × 2 columns</p>\n",
       "</div>"
      ],
      "text/plain": [
       "                                     text  label\n",
       "0                               Oe Chacal      1\n",
       "1                               Anda vete      0\n",
       "2                              a la firme      1\n",
       "3                              Chau, cojo      0\n",
       "4                             Tengo plata      1\n",
       "..                                    ...    ...\n",
       "407  Ahorita la chola te trae tu desayuno      2\n",
       "408  Siempre he sacado buenas notas, papá      2\n",
       "409  Hoy reventamos a esos conchasumadres      0\n",
       "410  Un día me cae un piedrón y la cagada      0\n",
       "411  Ese chico es un drogadicto asqueroso      0\n",
       "\n",
       "[412 rows x 2 columns]"
      ]
     },
     "execution_count": 277,
     "metadata": {},
     "output_type": "execute_result"
    }
   ],
   "source": [
    "new_df"
   ]
  },
  {
   "cell_type": "code",
   "execution_count": 294,
   "id": "512761c1",
   "metadata": {},
   "outputs": [],
   "source": [
    "#dataset_lang = Dataset.from_pandas(new_df, split=\"test\")\n",
    "dataset_lang2 = Dataset.from_pandas(new_df)"
   ]
  },
  {
   "cell_type": "code",
   "execution_count": 288,
   "id": "2098e4dd",
   "metadata": {},
   "outputs": [
    {
     "data": {
      "text/plain": [
       "[1, 0, 1, 0, 1, 1, 0, 0, 0, 0, 0, 2, 0, 1, 1, 1, 1, 1, 1, 0]"
      ]
     },
     "execution_count": 288,
     "metadata": {},
     "output_type": "execute_result"
    }
   ],
   "source": [
    "dataset_lang[\"label\"][:20]"
   ]
  },
  {
   "cell_type": "code",
   "execution_count": 296,
   "id": "e19127eb",
   "metadata": {},
   "outputs": [
    {
     "data": {
      "text/plain": [
       "Dataset({\n",
       "    features: ['text', 'label'],\n",
       "    num_rows: 412\n",
       "})"
      ]
     },
     "execution_count": 296,
     "metadata": {},
     "output_type": "execute_result"
    }
   ],
   "source": [
    "dataset_lang2"
   ]
  },
  {
   "cell_type": "code",
   "execution_count": 298,
   "id": "a6b1af65",
   "metadata": {},
   "outputs": [],
   "source": [
    "#split train test\n",
    "from sklearn.model_selection import train_test_split\n",
    "\n",
    "\n",
    "random_state=1\n",
    "train_df_, val_df = train_test_split(new_df, \n",
    "                                    test_size=0.10, \n",
    "                                    random_state=random_state, \n",
    "                            stratify=new_df.label.values)"
   ]
  },
  {
   "cell_type": "code",
   "execution_count": 299,
   "id": "eff839fd",
   "metadata": {},
   "outputs": [],
   "source": [
    "\n",
    "train_df, test_df = train_test_split(train_df_, \n",
    "                                    test_size=0.10, \n",
    "                                    random_state=42, \n",
    "                            stratify=train_df_.label.values)"
   ]
  },
  {
   "cell_type": "code",
   "execution_count": 300,
   "id": "916af11f",
   "metadata": {},
   "outputs": [
    {
     "data": {
      "text/html": [
       "<div>\n",
       "<style scoped>\n",
       "    .dataframe tbody tr th:only-of-type {\n",
       "        vertical-align: middle;\n",
       "    }\n",
       "\n",
       "    .dataframe tbody tr th {\n",
       "        vertical-align: top;\n",
       "    }\n",
       "\n",
       "    .dataframe thead th {\n",
       "        text-align: right;\n",
       "    }\n",
       "</style>\n",
       "<table border=\"1\" class=\"dataframe\">\n",
       "  <thead>\n",
       "    <tr style=\"text-align: right;\">\n",
       "      <th></th>\n",
       "      <th>text</th>\n",
       "      <th>label</th>\n",
       "    </tr>\n",
       "  </thead>\n",
       "  <tbody>\n",
       "    <tr>\n",
       "      <th>116</th>\n",
       "      <td>Ese es mi cachorro</td>\n",
       "      <td>2</td>\n",
       "    </tr>\n",
       "    <tr>\n",
       "      <th>185</th>\n",
       "      <td>Movía mi pelota, flaco</td>\n",
       "      <td>2</td>\n",
       "    </tr>\n",
       "    <tr>\n",
       "      <th>15</th>\n",
       "      <td>Estoy a punto</td>\n",
       "      <td>1</td>\n",
       "    </tr>\n",
       "    <tr>\n",
       "      <th>372</th>\n",
       "      <td>Mi taita, como les contaba, murió</td>\n",
       "      <td>0</td>\n",
       "    </tr>\n",
       "    <tr>\n",
       "      <th>359</th>\n",
       "      <td>Él fue muy ambicioso desde chico</td>\n",
       "      <td>2</td>\n",
       "    </tr>\n",
       "    <tr>\n",
       "      <th>...</th>\n",
       "      <td>...</td>\n",
       "      <td>...</td>\n",
       "    </tr>\n",
       "    <tr>\n",
       "      <th>303</th>\n",
       "      <td>y les podría caer un dinerito</td>\n",
       "      <td>2</td>\n",
       "    </tr>\n",
       "    <tr>\n",
       "      <th>374</th>\n",
       "      <td>Quédate con esa plata y déjame ir</td>\n",
       "      <td>0</td>\n",
       "    </tr>\n",
       "    <tr>\n",
       "      <th>146</th>\n",
       "      <td>Enantes subió al sol</td>\n",
       "      <td>1</td>\n",
       "    </tr>\n",
       "    <tr>\n",
       "      <th>26</th>\n",
       "      <td>Fui un huevón</td>\n",
       "      <td>0</td>\n",
       "    </tr>\n",
       "    <tr>\n",
       "      <th>235</th>\n",
       "      <td>MAYOR:  Cállense, carajo</td>\n",
       "      <td>0</td>\n",
       "    </tr>\n",
       "  </tbody>\n",
       "</table>\n",
       "<p>333 rows × 2 columns</p>\n",
       "</div>"
      ],
      "text/plain": [
       "                                  text  label\n",
       "116                 Ese es mi cachorro      2\n",
       "185             Movía mi pelota, flaco      2\n",
       "15                       Estoy a punto      1\n",
       "372  Mi taita, como les contaba, murió      0\n",
       "359   Él fue muy ambicioso desde chico      2\n",
       "..                                 ...    ...\n",
       "303      y les podría caer un dinerito      2\n",
       "374  Quédate con esa plata y déjame ir      0\n",
       "146               Enantes subió al sol      1\n",
       "26                       Fui un huevón      0\n",
       "235           MAYOR:  Cállense, carajo      0\n",
       "\n",
       "[333 rows x 2 columns]"
      ]
     },
     "execution_count": 300,
     "metadata": {},
     "output_type": "execute_result"
    }
   ],
   "source": [
    "dataset_lang2 = Dataset.from_pandas(new_df)"
   ]
  },
  {
   "cell_type": "code",
   "execution_count": null,
   "id": "76528134",
   "metadata": {},
   "outputs": [],
   "source": []
  },
  {
   "cell_type": "code",
   "execution_count": 283,
   "id": "6e3fb664",
   "metadata": {},
   "outputs": [
    {
     "data": {
      "application/vnd.jupyter.widget-view+json": {
       "model_id": "",
       "version_major": 2,
       "version_minor": 0
      },
      "text/plain": [
       "Map:   0%|          | 0/412 [00:00<?, ? examples/s]"
      ]
     },
     "metadata": {},
     "output_type": "display_data"
    }
   ],
   "source": [
    "tokenized_lang_ds = train_df.map(\n",
    "    lambda batch: tokenizer(batch[\"text\"], padding=True, truncation=True),\n",
    "    batched=True, batch_size=32\n",
    ")"
   ]
  },
  {
   "cell_type": "code",
   "execution_count": 284,
   "id": "01caf1c9",
   "metadata": {},
   "outputs": [
    {
     "data": {
      "text/plain": [
       "Dataset({\n",
       "    features: ['text', 'label', 'input_ids', 'token_type_ids', 'attention_mask'],\n",
       "    num_rows: 412\n",
       "})"
      ]
     },
     "execution_count": 284,
     "metadata": {},
     "output_type": "execute_result"
    }
   ],
   "source": [
    "tokenized_lang_ds"
   ]
  },
  {
   "cell_type": "code",
   "execution_count": 285,
   "id": "8e587108",
   "metadata": {},
   "outputs": [
    {
     "name": "stdout",
     "output_type": "stream",
     "text": [
      "{'eval_loss': 1.1407015323638916, 'eval_f1': 0.5827145245031832, 'eval_recall': 0.608647457434795, 'eval_runtime': 0.3768, 'eval_samples_per_second': 1093.289, 'eval_steps_per_second': 137.988, 'epoch': 5.0}\n"
     ]
    },
    {
     "data": {
      "text/plain": [
       "{'eval_loss': 1.1407015323638916,\n",
       " 'eval_f1': 0.5827145245031832,\n",
       " 'eval_recall': 0.608647457434795,\n",
       " 'eval_runtime': 0.3768,\n",
       " 'eval_samples_per_second': 1093.289,\n",
       " 'eval_steps_per_second': 137.988,\n",
       " 'epoch': 5.0}"
      ]
     },
     "execution_count": 285,
     "metadata": {},
     "output_type": "execute_result"
    }
   ],
   "source": [
    "trainer.evaluate(tokenized_lang_ds)"
   ]
  },
  {
   "cell_type": "code",
   "execution_count": null,
   "id": "3725a6f1",
   "metadata": {},
   "outputs": [],
   "source": []
  }
 ],
 "metadata": {
  "kernelspec": {
   "display_name": "Python 3 (ipykernel)",
   "language": "python",
   "name": "python3"
  },
  "language_info": {
   "codemirror_mode": {
    "name": "ipython",
    "version": 3
   },
   "file_extension": ".py",
   "mimetype": "text/x-python",
   "name": "python",
   "nbconvert_exporter": "python",
   "pygments_lexer": "ipython3",
   "version": "3.9.13"
  }
 },
 "nbformat": 4,
 "nbformat_minor": 5
}
