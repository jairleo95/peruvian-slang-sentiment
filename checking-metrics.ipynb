{
 "cells": [
  {
   "cell_type": "code",
   "execution_count": 1,
   "id": "ce28ef2c-1f90-4a08-b68d-779a4e358ea1",
   "metadata": {},
   "outputs": [],
   "source": [
    "import pandas as pd\n",
    "import numpy as np\n",
    "from sklearn.model_selection import train_test_split\n",
    "from sklearn.linear_model import LogisticRegression\n",
    "from sklearn.metrics import classification_report"
   ]
  },
  {
   "cell_type": "code",
   "execution_count": 2,
   "id": "9cd9b542-75bb-42e5-b8de-b62f26488b9c",
   "metadata": {},
   "outputs": [
    {
     "data": {
      "text/html": [
       "<div>\n",
       "<style scoped>\n",
       "    .dataframe tbody tr th:only-of-type {\n",
       "        vertical-align: middle;\n",
       "    }\n",
       "\n",
       "    .dataframe tbody tr th {\n",
       "        vertical-align: top;\n",
       "    }\n",
       "\n",
       "    .dataframe thead th {\n",
       "        text-align: right;\n",
       "    }\n",
       "</style>\n",
       "<table border=\"1\" class=\"dataframe\">\n",
       "  <thead>\n",
       "    <tr style=\"text-align: right;\">\n",
       "      <th></th>\n",
       "      <th>points</th>\n",
       "      <th>assists</th>\n",
       "      <th>drafted</th>\n",
       "    </tr>\n",
       "  </thead>\n",
       "  <tbody>\n",
       "    <tr>\n",
       "      <th>0</th>\n",
       "      <td>5</td>\n",
       "      <td>1</td>\n",
       "      <td>1</td>\n",
       "    </tr>\n",
       "    <tr>\n",
       "      <th>1</th>\n",
       "      <td>11</td>\n",
       "      <td>8</td>\n",
       "      <td>0</td>\n",
       "    </tr>\n",
       "    <tr>\n",
       "      <th>2</th>\n",
       "      <td>12</td>\n",
       "      <td>4</td>\n",
       "      <td>1</td>\n",
       "    </tr>\n",
       "    <tr>\n",
       "      <th>3</th>\n",
       "      <td>8</td>\n",
       "      <td>7</td>\n",
       "      <td>0</td>\n",
       "    </tr>\n",
       "    <tr>\n",
       "      <th>4</th>\n",
       "      <td>9</td>\n",
       "      <td>0</td>\n",
       "      <td>0</td>\n",
       "    </tr>\n",
       "  </tbody>\n",
       "</table>\n",
       "</div>"
      ],
      "text/plain": [
       "   points  assists  drafted\n",
       "0       5        1        1\n",
       "1      11        8        0\n",
       "2      12        4        1\n",
       "3       8        7        0\n",
       "4       9        0        0"
      ]
     },
     "execution_count": 2,
     "metadata": {},
     "output_type": "execute_result"
    }
   ],
   "source": [
    "#make this example reproducible\n",
    "np.random.seed(1)\n",
    "\n",
    "#create DataFrame\n",
    "df = pd.DataFrame({'points': np.random.randint(30, size=1000),\n",
    "                   'assists': np.random.randint(12, size=1000),\n",
    "                   'drafted': np.random.randint(2, size=1000)})\n",
    "\n",
    "#view DataFrame\n",
    "df.head()"
   ]
  },
  {
   "cell_type": "code",
   "execution_count": 3,
   "id": "58c7785a-bb94-49b9-8f39-83197d3fce2b",
   "metadata": {},
   "outputs": [],
   "source": [
    "#define the predictor variables and the response variable\n",
    "X = df[['points', 'assists']]\n",
    "y = df['drafted']\n",
    "\n",
    "#split the dataset into training (70%) and testing (30%) sets\n",
    "X_train,X_test,y_train,y_test = train_test_split(X,y,test_size=0.3,random_state=0)  \n",
    "\n",
    "#instantiate the model\n",
    "logistic_regression = LogisticRegression()\n",
    "\n",
    "#fit the model using the training data\n",
    "logistic_regression.fit(X_train,y_train)\n",
    "\n",
    "#use model to make predictions on test data\n",
    "y_pred = logistic_regression.predict(X_test)"
   ]
  },
  {
   "cell_type": "code",
   "execution_count": 4,
   "id": "44e5c132-0484-493e-a571-5cd1454e9090",
   "metadata": {},
   "outputs": [
    {
     "name": "stdout",
     "output_type": "stream",
     "text": [
      "              precision    recall  f1-score   support\n",
      "\n",
      "           0       0.51      0.58      0.54       160\n",
      "           1       0.43      0.36      0.40       140\n",
      "\n",
      "    accuracy                           0.48       300\n",
      "   macro avg       0.47      0.47      0.47       300\n",
      "weighted avg       0.47      0.48      0.47       300\n",
      "\n"
     ]
    }
   ],
   "source": [
    "#print classification report for model\n",
    "print(classification_report(y_test, y_pred))\n"
   ]
  },
  {
   "cell_type": "code",
   "execution_count": 5,
   "id": "9f705522-c142-4df0-a293-027d2f448673",
   "metadata": {},
   "outputs": [
    {
     "data": {
      "text/plain": [
       "105    1\n",
       "68     1\n",
       "479    0\n",
       "399    0\n",
       "434    1\n",
       "      ..\n",
       "835    0\n",
       "192    1\n",
       "629    1\n",
       "559    1\n",
       "684    0\n",
       "Name: drafted, Length: 700, dtype: int32"
      ]
     },
     "execution_count": 6,
     "metadata": {},
     "output_type": "execute_result"
    }
   ],
   "source": []
  }
 ],
 "metadata": {
  "kernelspec": {
   "display_name": "Python 3 (ipykernel)",
   "language": "python",
   "name": "python3"
  },
  "language_info": {
   "codemirror_mode": {
    "name": "ipython",
    "version": 3
   },
   "file_extension": ".py",
   "mimetype": "text/x-python",
   "name": "python",
   "nbconvert_exporter": "python",
   "pygments_lexer": "ipython3",
   "version": "3.9.13"
  }
 },
 "nbformat": 4,
 "nbformat_minor": 5
}
